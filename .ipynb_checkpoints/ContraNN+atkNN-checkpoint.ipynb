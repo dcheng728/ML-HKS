{
 "cells": [
  {
   "cell_type": "code",
   "execution_count": 151,
   "id": "e9ab7b6e",
   "metadata": {
    "slideshow": {
     "slide_type": "slide"
    }
   },
   "outputs": [],
   "source": [
    "import torch.optim as optim\n",
    "import torch\n",
    "import numpy as np\n",
    "import matplotlib.pyplot as plt\n",
    "import random\n",
    "import os\n",
    "import prettytable as pt\n",
    "%run helpers_preproc.ipynb\n",
    "%matplotlib widget"
   ]
  },
  {
   "cell_type": "markdown",
   "id": "4b2719b0",
   "metadata": {
    "slideshow": {
     "slide_type": "skip"
    }
   },
   "source": [
    "# Hyper Parameters"
   ]
  },
  {
   "cell_type": "code",
   "execution_count": 54,
   "id": "b34c00ab",
   "metadata": {
    "slideshow": {
     "slide_type": "slide"
    }
   },
   "outputs": [],
   "source": [
    "origDataDir = 'SHREC11/'\n",
    "newDataDir = 'SHREC11_plus/'\n",
    "K = 5\n",
    "radiuss = [0.0002,0.0004,0.0008]\n",
    "train_size = 450 * len(radiuss)\n",
    "test_size = (600-450) * len(radiuss)"
   ]
  },
  {
   "cell_type": "markdown",
   "id": "684373cc",
   "metadata": {
    "slideshow": {
     "slide_type": "slide"
    }
   },
   "source": [
    "# 1. expand dataset and scramble"
   ]
  },
  {
   "cell_type": "code",
   "execution_count": 55,
   "id": "848dd975",
   "metadata": {
    "slideshow": {
     "slide_type": "fragment"
    }
   },
   "outputs": [],
   "source": [
    "expand(origDataDir, newDataDir, radiuss)\n",
    "scramble(newDataDir, 10000,600 * len(radiuss))"
   ]
  },
  {
   "cell_type": "markdown",
   "id": "eca467ac",
   "metadata": {
    "slideshow": {
     "slide_type": "slide"
    }
   },
   "source": [
    "# 2. read in the dataset"
   ]
  },
  {
   "cell_type": "markdown",
   "id": "51110c1a",
   "metadata": {
    "slideshow": {
     "slide_type": "slide"
    }
   },
   "source": [
    "## 2.1 read in v (252 x 3),f (...x...) and cluster"
   ]
  },
  {
   "cell_type": "code",
   "execution_count": 56,
   "id": "1428b3a4",
   "metadata": {
    "slideshow": {
     "slide_type": "fragment"
    }
   },
   "outputs": [
    {
     "name": "stderr",
     "output_type": "stream",
     "text": [
      "/var/folders/t4/vdzymfw562g8ml8ks_2b5l5r0000gn/T/ipykernel_14613/2399023897.py:12: RuntimeWarning: invalid value encountered in true_divide\n",
      "  normed_adj = adj / np.reshape(np.sum(adj,axis = 0),[252,1])\n"
     ]
    }
   ],
   "source": [
    "ver_list = []\n",
    "adj_list = []\n",
    "Nadj_list = []\n",
    "gMat_list = []\n",
    "gLbl_list = []\n",
    "\n",
    "for i in range(600 * len(radiuss)):\n",
    "    v, f = get_nodes(newDataDir + 'T' + str(i) + '.obj')\n",
    "    group_mat, group_labels = K_mean_cluster(v, K)\n",
    "    \n",
    "    adj = get_adj_from_f(f)            \n",
    "    normed_adj = adj / np.reshape(np.sum(adj,axis = 0),[252,1])\n",
    "    ver_list.append(v)\n",
    "    adj_list.append(adj)\n",
    "    Nadj_list.append(normed_adj)\n",
    "    gMat_list.append(group_mat)\n",
    "    gLbl_list.append(group_labels)\n",
    "    \n",
    "    \n",
    "vers = np.array(ver_list)\n",
    "adjs = np.array(adj_list)\n",
    "Nadjs = np.array(Nadj_list)\n",
    "gMats = np.array(gMat_list)\n",
    "gLbls = np.array(gLbl_list)"
   ]
  },
  {
   "cell_type": "markdown",
   "id": "013d531c",
   "metadata": {
    "slideshow": {
     "slide_type": "slide"
    }
   },
   "source": [
    "## 2.2 Read in the labels"
   ]
  },
  {
   "cell_type": "code",
   "execution_count": 57,
   "id": "3d47dac9",
   "metadata": {
    "slideshow": {
     "slide_type": "fragment"
    }
   },
   "outputs": [],
   "source": [
    "label_np = np.array(readLbl(600 * len(radiuss),newDataDir+'labels.txt'))\n",
    "label_np_train = label_np[:train_size]\n",
    "label_np_test = label_np[train_size:]"
   ]
  },
  {
   "cell_type": "markdown",
   "id": "5329a9ea",
   "metadata": {
    "slideshow": {
     "slide_type": "slide"
    }
   },
   "source": [
    "## 2.3 Split into training set and testing set"
   ]
  },
  {
   "cell_type": "code",
   "execution_count": 6,
   "id": "bb6dcc36",
   "metadata": {
    "slideshow": {
     "slide_type": "fragment"
    }
   },
   "outputs": [],
   "source": [
    "vers_train = torch.tensor(vers[:train_size]).float()\n",
    "adjs_train = torch.tensor(adjs[:train_size]).float()\n",
    "nadjs_train = torch.nan_to_num(torch.tensor(Nadjs[:train_size]).float(),0,0,0)\n",
    "gMats_train = torch.tensor(gMats[:train_size]).float()\n",
    "label_train = torch.tensor(label_np_train).float()\n",
    "\n",
    "vers_test = torch.tensor(vers[train_size:]).float()\n",
    "adjs_test = torch.tensor(adjs[train_size:]).float()\n",
    "nadjs_test = torch.nan_to_num(torch.tensor(Nadjs[train_size:]).float(),0,0,0)\n",
    "gMats_test = torch.tensor(gMats[train_size:]).float()\n",
    "label_test = torch.tensor(label_np_test).float()\n",
    "\n",
    "label_mat_train = torch.tensor(np.where(igl.all_pairs_distances(label_np_train,label_np_train,False) > 0.5,0,1)).float()\n",
    "label_mat_test = torch.tensor(np.where(igl.all_pairs_distances(label_np_test,label_np_test,False) > 0.5,0,1)).float()"
   ]
  },
  {
   "cell_type": "code",
   "execution_count": 59,
   "id": "fea6b4a9",
   "metadata": {
    "slideshow": {
     "slide_type": "skip"
    }
   },
   "outputs": [],
   "source": [
    "#detect_nan(label_mat_train)"
   ]
  },
  {
   "cell_type": "code",
   "execution_count": 103,
   "id": "3e64d719",
   "metadata": {
    "slideshow": {
     "slide_type": "skip"
    }
   },
   "outputs": [
    {
     "data": {
      "text/plain": [
       "torch.Size([450, 450])"
      ]
     },
     "execution_count": 103,
     "metadata": {},
     "output_type": "execute_result"
    }
   ],
   "source": [
    "#label_mat_train"
   ]
  },
  {
   "cell_type": "code",
   "execution_count": 61,
   "id": "2ec635db",
   "metadata": {
    "slideshow": {
     "slide_type": "skip"
    }
   },
   "outputs": [],
   "source": [
    "#print message about training and testing dataset\n",
    "# print(vers_train.shape)\n",
    "# print(adjs_train.shape)\n",
    "# print(nadjs_train.shape)\n",
    "# print(gMats_train.shape)"
   ]
  },
  {
   "cell_type": "code",
   "execution_count": null,
   "id": "e5759f9c",
   "metadata": {
    "slideshow": {
     "slide_type": "skip"
    }
   },
   "outputs": [],
   "source": []
  },
  {
   "cell_type": "markdown",
   "id": "58ac61b4",
   "metadata": {
    "slideshow": {
     "slide_type": "slide"
    }
   },
   "source": [
    "# 3. Training"
   ]
  },
  {
   "cell_type": "markdown",
   "id": "1b06f3bb",
   "metadata": {
    "slideshow": {
     "slide_type": "slide"
    }
   },
   "source": [
    "## 3.1 Hyperparameters for training"
   ]
  },
  {
   "cell_type": "code",
   "execution_count": 10,
   "id": "5af46682",
   "metadata": {
    "slideshow": {
     "slide_type": "fragment"
    }
   },
   "outputs": [],
   "source": [
    "contraGWs = [5,5,5,5]\n",
    "contraMWs = [5,5,5,5]\n",
    "atkGWs = [5,5,5,5]\n",
    "atkMWs = [5,5,5,K * 3 + 1]"
   ]
  },
  {
   "cell_type": "markdown",
   "id": "71e6cccc",
   "metadata": {
    "slideshow": {
     "slide_type": "slide"
    }
   },
   "source": [
    "## 3.2 Initialize neural networks"
   ]
  },
  {
   "cell_type": "code",
   "execution_count": 84,
   "id": "832b8db7",
   "metadata": {
    "slideshow": {
     "slide_type": "fragment"
    }
   },
   "outputs": [],
   "source": [
    "%run NNs.ipynb\n",
    "%run helpers_preproc.ipynb\n",
    "contraG = GCN(3,contraGWs)\n",
    "contraM = MLP(252* contraGWs[len(contraGWs)-1],contraMWs)\n",
    "atkG = GCN(3,atkGWs)\n",
    "atkM = MLP_atk(252* atkGWs[len(contraGWs)-1], 10, K, atkMWs)"
   ]
  },
  {
   "cell_type": "code",
   "execution_count": null,
   "id": "6ee6d557",
   "metadata": {
    "slideshow": {
     "slide_type": "skip"
    }
   },
   "outputs": [],
   "source": []
  },
  {
   "cell_type": "markdown",
   "id": "d1510530",
   "metadata": {
    "slideshow": {
     "slide_type": "slide"
    }
   },
   "source": [
    "## 3.4 Extract node-level features from clean data"
   ]
  },
  {
   "cell_type": "code",
   "execution_count": 85,
   "id": "9ca6bd8a",
   "metadata": {
    "slideshow": {
     "slide_type": "fragment"
    }
   },
   "outputs": [],
   "source": [
    "feas_clean = extract_node_feature(vers_train,adjs_train)"
   ]
  },
  {
   "cell_type": "code",
   "execution_count": 86,
   "id": "f9ce8f8a",
   "metadata": {
    "slideshow": {
     "slide_type": "fragment"
    }
   },
   "outputs": [],
   "source": [
    "%run L.ipynb"
   ]
  },
  {
   "cell_type": "markdown",
   "id": "5bed8497",
   "metadata": {
    "slideshow": {
     "slide_type": "slide"
    }
   },
   "source": [
    "## 3.5 Feed clean data into contraNN🤠"
   ]
  },
  {
   "cell_type": "markdown",
   "id": "513d148f",
   "metadata": {
    "slideshow": {
     "slide_type": "slide"
    }
   },
   "source": [
    "## 3.6 Train atkNN😈 with contraNN🤠"
   ]
  },
  {
   "cell_type": "code",
   "execution_count": 87,
   "id": "f5d3147c",
   "metadata": {
    "slideshow": {
     "slide_type": "fragment"
    }
   },
   "outputs": [],
   "source": [
    "atkLR = 0.0001\n",
    "contraLR = 0.0001\n",
    "torch.set_printoptions(precision=10)"
   ]
  },
  {
   "cell_type": "code",
   "execution_count": 89,
   "id": "4e942233",
   "metadata": {
    "scrolled": true,
    "slideshow": {
     "slide_type": "fragment"
    }
   },
   "outputs": [
    {
     "name": "stdout",
     "output_type": "stream",
     "text": [
      "+------------------+----------+-----------+-----------+----------+\n",
      "|                  |   Loss   | Same Mean | Diff Mean | Same STD |\n",
      "+------------------+----------+-----------+-----------+----------+\n",
      "|  On Clean Data   | -0.28488 |  0.44845  |  0.78318  | 2.49189  |\n",
      "| On Poisoned Data | -0.13987 |  0.31523  |   0.4901  | 1.74997  |\n",
      "+------------------+----------+-----------+-----------+----------+\n",
      "+------------------+----------+-----------+-----------+----------+\n",
      "|                  |   Loss   | Same Mean | Diff Mean | Same STD |\n",
      "+------------------+----------+-----------+-----------+----------+\n",
      "|  On Clean Data   | -0.19289 |  0.28292  |   0.5075  | 1.58445  |\n",
      "| On Poisoned Data | -0.05171 |  0.12788  |  0.19412  | 0.72669  |\n",
      "+------------------+----------+-----------+-----------+----------+\n",
      "+------------------+----------+-----------+-----------+----------+\n",
      "|                  |   Loss   | Same Mean | Diff Mean | Same STD |\n",
      "+------------------+----------+-----------+-----------+----------+\n",
      "|  On Clean Data   | -0.07229 |  0.11556  |  0.20105  | 0.65996  |\n",
      "| On Poisoned Data | -0.01718 |  0.04859  |   0.0714  | 0.28123  |\n",
      "+------------------+----------+-----------+-----------+----------+\n",
      "+------------------+----------+-----------+-----------+----------+\n",
      "|                  |   Loss   | Same Mean | Diff Mean | Same STD |\n",
      "+------------------+----------+-----------+-----------+----------+\n",
      "|  On Clean Data   | -0.02857 |  0.04821  |  0.08231  | 0.27706  |\n",
      "| On Poisoned Data | -0.00714 |   0.0222  |  0.03187  | 0.12683  |\n",
      "+------------------+----------+-----------+-----------+----------+\n",
      "+------------------+----------+-----------+-----------+----------+\n",
      "|                  |   Loss   | Same Mean | Diff Mean | Same STD |\n",
      "+------------------+----------+-----------+-----------+----------+\n",
      "|  On Clean Data   | -0.01389 |  0.02388  |   0.0405  | 0.13661  |\n",
      "| On Poisoned Data | -0.00361 |  0.01266  |  0.01769  | 0.07123  |\n",
      "+------------------+----------+-----------+-----------+----------+\n",
      "+------------------+----------+-----------+-----------+----------+\n",
      "|                  |   Loss   | Same Mean | Diff Mean | Same STD |\n",
      "+------------------+----------+-----------+-----------+----------+\n",
      "|  On Clean Data   | -0.00792 |   0.0138  |   0.0233  | 0.07852  |\n",
      "| On Poisoned Data | -0.00209 |  0.00849  |  0.01153  | 0.04731  |\n",
      "+------------------+----------+-----------+-----------+----------+\n",
      "+------------------+----------+-----------+-----------+----------+\n",
      "|                  |   Loss   | Same Mean | Diff Mean | Same STD |\n",
      "+------------------+----------+-----------+-----------+----------+\n",
      "|  On Clean Data   |  -0.005  |  0.00896  |  0.01498  | 0.05082  |\n",
      "| On Poisoned Data | -0.00135 |  0.00635  |  0.00841  | 0.03519  |\n",
      "+------------------+----------+-----------+-----------+----------+\n",
      "+------------------+----------+-----------+-----------+----------+\n",
      "|                  |   Loss   | Same Mean | Diff Mean | Same STD |\n",
      "+------------------+----------+-----------+-----------+----------+\n",
      "|  On Clean Data   | -0.0034  |  0.00634  |  0.01046  | 0.03588  |\n",
      "| On Poisoned Data | -0.00096 |  0.00511  |  0.00663  | 0.02822  |\n",
      "+------------------+----------+-----------+-----------+----------+\n",
      "+------------------+----------+-----------+-----------+----------+\n",
      "|                  |   Loss   | Same Mean | Diff Mean | Same STD |\n",
      "+------------------+----------+-----------+-----------+----------+\n",
      "|  On Clean Data   | -0.00246 |  0.00478  |  0.00779  | 0.02707  |\n",
      "| On Poisoned Data | -0.00073 |  0.00432  |  0.00552  | 0.02382  |\n",
      "+------------------+----------+-----------+-----------+----------+\n",
      "+------------------+----------+-----------+-----------+----------+\n",
      "|                  |   Loss   | Same Mean | Diff Mean | Same STD |\n",
      "+------------------+----------+-----------+-----------+----------+\n",
      "|  On Clean Data   | -0.00187 |  0.00381  |  0.00611  | 0.02156  |\n",
      "| On Poisoned Data | -0.00059 |  0.00378  |  0.00478  | 0.02082  |\n",
      "+------------------+----------+-----------+-----------+----------+\n",
      "+------------------+----------+-----------+-----------+----------+\n",
      "|                  |   Loss   | Same Mean | Diff Mean | Same STD |\n",
      "+------------------+----------+-----------+-----------+----------+\n",
      "|  On Clean Data   | -0.00149 |  0.00315  |   0.005   | 0.01789  |\n",
      "| On Poisoned Data | -0.00049 |  0.00338  |  0.00425  | 0.01869  |\n",
      "+------------------+----------+-----------+-----------+----------+\n",
      "+------------------+----------+-----------+-----------+----------+\n",
      "|                  |   Loss   | Same Mean | Diff Mean | Same STD |\n",
      "+------------------+----------+-----------+-----------+----------+\n",
      "|  On Clean Data   | -0.00123 |  0.00271  |  0.00424  | 0.01537  |\n",
      "| On Poisoned Data | -0.00043 |  0.00309  |  0.00385  | 0.01707  |\n",
      "+------------------+----------+-----------+-----------+----------+\n",
      "+------------------+----------+-----------+-----------+----------+\n",
      "|                  |   Loss   | Same Mean | Diff Mean | Same STD |\n",
      "+------------------+----------+-----------+-----------+----------+\n",
      "|  On Clean Data   | -0.00104 |  0.00238  |   0.0037  | 0.01359  |\n",
      "| On Poisoned Data | -0.00038 |  0.00285  |  0.00355  | 0.01579  |\n",
      "+------------------+----------+-----------+-----------+----------+\n",
      "+------------------+----------+-----------+-----------+----------+\n",
      "|                  |   Loss   | Same Mean | Diff Mean | Same STD |\n",
      "+------------------+----------+-----------+-----------+----------+\n",
      "|  On Clean Data   | -0.00091 |  0.00214  |   0.0033  | 0.01223  |\n",
      "| On Poisoned Data | -0.00034 |  0.00267  |   0.0033  | 0.01482  |\n",
      "+------------------+----------+-----------+-----------+----------+\n",
      "+------------------+----------+-----------+-----------+----------+\n",
      "|                  |   Loss   | Same Mean | Diff Mean | Same STD |\n",
      "+------------------+----------+-----------+-----------+----------+\n",
      "|  On Clean Data   | -0.00081 |  0.00196  |  0.00299  | 0.01123  |\n",
      "| On Poisoned Data | -0.00031 |  0.00251  |   0.0031  | 0.01399  |\n",
      "+------------------+----------+-----------+-----------+----------+\n",
      "+------------------+----------+-----------+-----------+----------+\n",
      "|                  |   Loss   | Same Mean | Diff Mean | Same STD |\n",
      "+------------------+----------+-----------+-----------+----------+\n",
      "|  On Clean Data   | -0.00074 |  0.00182  |  0.00276  | 0.01043  |\n",
      "| On Poisoned Data | -0.00029 |  0.00238  |  0.00294  |  0.0133  |\n",
      "+------------------+----------+-----------+-----------+----------+\n",
      "+------------------+----------+-----------+-----------+----------+\n",
      "|                  |   Loss   | Same Mean | Diff Mean | Same STD |\n",
      "+------------------+----------+-----------+-----------+----------+\n",
      "|  On Clean Data   | -0.00067 |  0.00171  |  0.00258  | 0.00985  |\n",
      "| On Poisoned Data | -0.00027 |  0.00228  |   0.0028  | 0.01273  |\n",
      "+------------------+----------+-----------+-----------+----------+\n",
      "+------------------+----------+-----------+-----------+----------+\n",
      "|                  |   Loss   | Same Mean | Diff Mean | Same STD |\n",
      "+------------------+----------+-----------+-----------+----------+\n",
      "|  On Clean Data   | -0.00062 |  0.00162  |  0.00243  | 0.00938  |\n",
      "| On Poisoned Data | -0.00025 |  0.00219  |  0.00268  | 0.01228  |\n",
      "+------------------+----------+-----------+-----------+----------+\n",
      "+------------------+----------+-----------+-----------+----------+\n",
      "|                  |   Loss   | Same Mean | Diff Mean | Same STD |\n",
      "+------------------+----------+-----------+-----------+----------+\n",
      "|  On Clean Data   | -0.00058 |  0.00154  |  0.00231  |  0.009   |\n",
      "| On Poisoned Data | -0.00024 |  0.00211  |  0.00258  | 0.01186  |\n",
      "+------------------+----------+-----------+-----------+----------+\n",
      "+------------------+----------+-----------+-----------+----------+\n",
      "|                  |   Loss   | Same Mean | Diff Mean | Same STD |\n",
      "+------------------+----------+-----------+-----------+----------+\n",
      "|  On Clean Data   | -0.00055 |  0.00148  |   0.0022  | 0.00863  |\n",
      "| On Poisoned Data | -0.00023 |  0.00204  |   0.0025  | 0.01149  |\n",
      "+------------------+----------+-----------+-----------+----------+\n",
      "+------------------+----------+-----------+-----------+----------+\n",
      "|                  |   Loss   | Same Mean | Diff Mean | Same STD |\n",
      "+------------------+----------+-----------+-----------+----------+\n",
      "|  On Clean Data   | -0.00053 |  0.00143  |  0.00212  | 0.00837  |\n",
      "| On Poisoned Data | -0.00022 |  0.00198  |  0.00242  | 0.01117  |\n",
      "+------------------+----------+-----------+-----------+----------+\n"
     ]
    },
    {
     "name": "stdout",
     "output_type": "stream",
     "text": [
      "+------------------+----------+-----------+-----------+----------+\n",
      "|                  |   Loss   | Same Mean | Diff Mean | Same STD |\n",
      "+------------------+----------+-----------+-----------+----------+\n",
      "|  On Clean Data   | -0.0005  |  0.00138  |  0.00205  | 0.00814  |\n",
      "| On Poisoned Data | -0.00021 |  0.00192  |  0.00235  | 0.01086  |\n",
      "+------------------+----------+-----------+-----------+----------+\n",
      "+------------------+----------+-----------+-----------+----------+\n",
      "|                  |   Loss   | Same Mean | Diff Mean | Same STD |\n",
      "+------------------+----------+-----------+-----------+----------+\n",
      "|  On Clean Data   | -0.00048 |  0.00135  |  0.00199  | 0.00798  |\n",
      "| On Poisoned Data | -0.0002  |  0.00188  |  0.00229  | 0.01064  |\n",
      "+------------------+----------+-----------+-----------+----------+\n",
      "+------------------+----------+-----------+-----------+----------+\n",
      "|                  |   Loss   | Same Mean | Diff Mean | Same STD |\n",
      "+------------------+----------+-----------+-----------+----------+\n",
      "|  On Clean Data   | -0.00046 |  0.00132  |  0.00193  | 0.00779  |\n",
      "| On Poisoned Data | -0.00019 |  0.00184  |  0.00224  | 0.01044  |\n",
      "+------------------+----------+-----------+-----------+----------+\n",
      "+------------------+----------+-----------+-----------+----------+\n",
      "|                  |   Loss   | Same Mean | Diff Mean | Same STD |\n",
      "+------------------+----------+-----------+-----------+----------+\n",
      "|  On Clean Data   | -0.00045 |  0.00128  |  0.00188  | 0.00762  |\n",
      "| On Poisoned Data | -0.00019 |   0.0018  |  0.00219  | 0.01026  |\n",
      "+------------------+----------+-----------+-----------+----------+\n",
      "+------------------+----------+-----------+-----------+----------+\n",
      "|                  |   Loss   | Same Mean | Diff Mean | Same STD |\n",
      "+------------------+----------+-----------+-----------+----------+\n",
      "|  On Clean Data   | -0.00043 |  0.00126  |  0.00184  | 0.00751  |\n",
      "| On Poisoned Data | -0.00018 |  0.00177  |  0.00215  | 0.01007  |\n",
      "+------------------+----------+-----------+-----------+----------+\n",
      "+------------------+----------+-----------+-----------+----------+\n",
      "|                  |   Loss   | Same Mean | Diff Mean | Same STD |\n",
      "+------------------+----------+-----------+-----------+----------+\n",
      "|  On Clean Data   | -0.00042 |  0.00124  |  0.00181  | 0.00741  |\n",
      "| On Poisoned Data | -0.00018 |  0.00174  |  0.00212  | 0.00996  |\n",
      "+------------------+----------+-----------+-----------+----------+\n",
      "+------------------+----------+-----------+-----------+----------+\n",
      "|                  |   Loss   | Same Mean | Diff Mean | Same STD |\n",
      "+------------------+----------+-----------+-----------+----------+\n",
      "|  On Clean Data   | -0.00041 |  0.00122  |  0.00178  |  0.0073  |\n",
      "| On Poisoned Data | -0.00017 |  0.00172  |  0.00209  | 0.00982  |\n",
      "+------------------+----------+-----------+-----------+----------+\n",
      "+------------------+----------+-----------+-----------+----------+\n",
      "|                  |   Loss   | Same Mean | Diff Mean | Same STD |\n",
      "+------------------+----------+-----------+-----------+----------+\n",
      "|  On Clean Data   | -0.00039 |  0.00121  |  0.00175  |  0.0073  |\n",
      "| On Poisoned Data | -0.00018 |  0.00168  |  0.00205  | 0.00957  |\n",
      "+------------------+----------+-----------+-----------+----------+\n",
      "+------------------+----------+-----------+-----------+----------+\n",
      "|                  |   Loss   | Same Mean | Diff Mean | Same STD |\n",
      "+------------------+----------+-----------+-----------+----------+\n",
      "|  On Clean Data   | -0.00039 |  0.00119  |  0.00173  | 0.00716  |\n",
      "| On Poisoned Data | -0.00017 |  0.00167  |  0.00203  | 0.00952  |\n",
      "+------------------+----------+-----------+-----------+----------+\n",
      "+------------------+----------+-----------+-----------+----------+\n",
      "|                  |   Loss   | Same Mean | Diff Mean | Same STD |\n",
      "+------------------+----------+-----------+-----------+----------+\n",
      "|  On Clean Data   | -0.00039 |  0.00118  |   0.0017  | 0.00707  |\n",
      "| On Poisoned Data | -0.00016 |  0.00165  |   0.002   | 0.00944  |\n",
      "+------------------+----------+-----------+-----------+----------+\n",
      "+------------------+----------+-----------+-----------+----------+\n",
      "|                  |   Loss   | Same Mean | Diff Mean | Same STD |\n",
      "+------------------+----------+-----------+-----------+----------+\n",
      "|  On Clean Data   | -0.00038 |  0.00116  |  0.00168  |  0.007   |\n",
      "| On Poisoned Data | -0.00016 |  0.00163  |  0.00198  | 0.00937  |\n",
      "+------------------+----------+-----------+-----------+----------+\n",
      "+------------------+----------+-----------+-----------+----------+\n",
      "|                  |   Loss   | Same Mean | Diff Mean | Same STD |\n",
      "+------------------+----------+-----------+-----------+----------+\n",
      "|  On Clean Data   | -0.00037 |  0.00115  |  0.00167  | 0.00697  |\n",
      "| On Poisoned Data | -0.00016 |  0.00162  |  0.00196  | 0.00931  |\n",
      "+------------------+----------+-----------+-----------+----------+\n",
      "+------------------+----------+-----------+-----------+----------+\n",
      "|                  |   Loss   | Same Mean | Diff Mean | Same STD |\n",
      "+------------------+----------+-----------+-----------+----------+\n",
      "|  On Clean Data   | -0.00037 |  0.00114  |  0.00165  | 0.00692  |\n",
      "| On Poisoned Data | -0.00016 |  0.00161  |  0.00195  | 0.00921  |\n",
      "+------------------+----------+-----------+-----------+----------+\n",
      "+------------------+----------+-----------+-----------+----------+\n",
      "|                  |   Loss   | Same Mean | Diff Mean | Same STD |\n",
      "+------------------+----------+-----------+-----------+----------+\n",
      "|  On Clean Data   | -0.00036 |  0.00114  |  0.00164  | 0.00688  |\n",
      "| On Poisoned Data | -0.00015 |  0.00159  |  0.00193  | 0.00914  |\n",
      "+------------------+----------+-----------+-----------+----------+\n",
      "+------------------+----------+-----------+-----------+----------+\n",
      "|                  |   Loss   | Same Mean | Diff Mean | Same STD |\n",
      "+------------------+----------+-----------+-----------+----------+\n",
      "|  On Clean Data   | -0.00036 |  0.00113  |  0.00162  | 0.00681  |\n",
      "| On Poisoned Data | -0.00015 |  0.00158  |  0.00192  | 0.00909  |\n",
      "+------------------+----------+-----------+-----------+----------+\n",
      "+------------------+----------+-----------+-----------+----------+\n",
      "|                  |   Loss   | Same Mean | Diff Mean | Same STD |\n",
      "+------------------+----------+-----------+-----------+----------+\n",
      "|  On Clean Data   | -0.00035 |  0.00112  |  0.00161  | 0.00681  |\n",
      "| On Poisoned Data | -0.00015 |  0.00157  |   0.0019  | 0.00901  |\n",
      "+------------------+----------+-----------+-----------+----------+\n",
      "+------------------+----------+-----------+-----------+----------+\n",
      "|                  |   Loss   | Same Mean | Diff Mean | Same STD |\n",
      "+------------------+----------+-----------+-----------+----------+\n",
      "|  On Clean Data   | -0.00035 |  0.00111  |   0.0016  | 0.00675  |\n",
      "| On Poisoned Data | -0.00015 |  0.00156  |  0.00189  | 0.00896  |\n",
      "+------------------+----------+-----------+-----------+----------+\n",
      "+------------------+----------+-----------+-----------+----------+\n",
      "|                  |   Loss   | Same Mean | Diff Mean | Same STD |\n",
      "+------------------+----------+-----------+-----------+----------+\n",
      "|  On Clean Data   | -0.00035 |   0.0011  |  0.00159  |  0.0067  |\n",
      "| On Poisoned Data | -0.00015 |  0.00155  |  0.00188  |  0.0089  |\n",
      "+------------------+----------+-----------+-----------+----------+\n"
     ]
    },
    {
     "ename": "KeyboardInterrupt",
     "evalue": "",
     "output_type": "error",
     "traceback": [
      "\u001b[0;31m---------------------------------------------------------------------------\u001b[0m",
      "\u001b[0;31mKeyboardInterrupt\u001b[0m                         Traceback (most recent call last)",
      "\u001b[0;32m/var/folders/t4/vdzymfw562g8ml8ks_2b5l5r0000gn/T/ipykernel_14613/1058461893.py\u001b[0m in \u001b[0;36m<module>\u001b[0;34m\u001b[0m\n\u001b[1;32m     32\u001b[0m     \u001b[0mfeas_poisoned_nograd\u001b[0m \u001b[0;34m=\u001b[0m \u001b[0mfeas_poisoned\u001b[0m\u001b[0;34m.\u001b[0m\u001b[0mdetach\u001b[0m\u001b[0;34m(\u001b[0m\u001b[0;34m)\u001b[0m \u001b[0;31m#grad on nothing\u001b[0m\u001b[0;34m\u001b[0m\u001b[0;34m\u001b[0m\u001b[0m\n\u001b[1;32m     33\u001b[0m \u001b[0;34m\u001b[0m\u001b[0m\n\u001b[0;32m---> 34\u001b[0;31m     \u001b[0mobjFeasFromClean\u001b[0m \u001b[0;34m=\u001b[0m \u001b[0mcontraM\u001b[0m\u001b[0;34m.\u001b[0m\u001b[0mforward\u001b[0m\u001b[0;34m(\u001b[0m\u001b[0mcontraG\u001b[0m\u001b[0;34m.\u001b[0m\u001b[0mforward\u001b[0m\u001b[0;34m(\u001b[0m\u001b[0mnadjs_train\u001b[0m\u001b[0;34m,\u001b[0m\u001b[0mfeas_clean\u001b[0m\u001b[0;34m)\u001b[0m\u001b[0;34m)\u001b[0m\u001b[0;34m\u001b[0m\u001b[0;34m\u001b[0m\u001b[0m\n\u001b[0m\u001b[1;32m     35\u001b[0m     \u001b[0mobjFeasFromPoisoned\u001b[0m \u001b[0;34m=\u001b[0m \u001b[0mcontraM\u001b[0m\u001b[0;34m.\u001b[0m\u001b[0mforward\u001b[0m\u001b[0;34m(\u001b[0m\u001b[0mcontraG\u001b[0m\u001b[0;34m.\u001b[0m\u001b[0mforward\u001b[0m\u001b[0;34m(\u001b[0m\u001b[0mnadjs_train\u001b[0m\u001b[0;34m,\u001b[0m\u001b[0mfeas_poisoned_nograd\u001b[0m\u001b[0;34m)\u001b[0m\u001b[0;34m)\u001b[0m\u001b[0;34m\u001b[0m\u001b[0;34m\u001b[0m\u001b[0m\n\u001b[1;32m     36\u001b[0m \u001b[0;34m\u001b[0m\u001b[0m\n",
      "\u001b[0;32m/var/folders/t4/vdzymfw562g8ml8ks_2b5l5r0000gn/T/ipykernel_14613/1733509952.py\u001b[0m in \u001b[0;36mforward\u001b[0;34m(self, adjM, node_sigM)\u001b[0m\n\u001b[1;32m     16\u001b[0m         \u001b[0;31m#curr_output = self.dropout(curr_output)\u001b[0m\u001b[0;34m\u001b[0m\u001b[0;34m\u001b[0m\u001b[0m\n\u001b[1;32m     17\u001b[0m         \u001b[0;32mfor\u001b[0m \u001b[0mi\u001b[0m \u001b[0;32min\u001b[0m \u001b[0mrange\u001b[0m\u001b[0;34m(\u001b[0m\u001b[0;36m1\u001b[0m\u001b[0;34m,\u001b[0m\u001b[0mlen\u001b[0m\u001b[0;34m(\u001b[0m\u001b[0mself\u001b[0m\u001b[0;34m.\u001b[0m\u001b[0mwidths\u001b[0m\u001b[0;34m)\u001b[0m\u001b[0;34m)\u001b[0m\u001b[0;34m:\u001b[0m\u001b[0;34m\u001b[0m\u001b[0;34m\u001b[0m\u001b[0m\n\u001b[0;32m---> 18\u001b[0;31m             \u001b[0mcurr_output\u001b[0m \u001b[0;34m=\u001b[0m \u001b[0mtorch\u001b[0m\u001b[0;34m.\u001b[0m\u001b[0mtanh\u001b[0m\u001b[0;34m(\u001b[0m\u001b[0mtorch\u001b[0m\u001b[0;34m.\u001b[0m\u001b[0mmatmul\u001b[0m\u001b[0;34m(\u001b[0m\u001b[0mtorch\u001b[0m\u001b[0;34m.\u001b[0m\u001b[0mmatmul\u001b[0m\u001b[0;34m(\u001b[0m\u001b[0madjM\u001b[0m\u001b[0;34m,\u001b[0m\u001b[0mcurr_output\u001b[0m\u001b[0;34m)\u001b[0m\u001b[0;34m,\u001b[0m\u001b[0mself\u001b[0m\u001b[0;34m.\u001b[0m\u001b[0mweights\u001b[0m\u001b[0;34m[\u001b[0m\u001b[0mi\u001b[0m\u001b[0;34m]\u001b[0m\u001b[0;34m)\u001b[0m\u001b[0;34m)\u001b[0m \u001b[0;31m#nxc\u001b[0m\u001b[0;34m\u001b[0m\u001b[0;34m\u001b[0m\u001b[0m\n\u001b[0m\u001b[1;32m     19\u001b[0m \u001b[0;34m\u001b[0m\u001b[0m\n\u001b[1;32m     20\u001b[0m         \u001b[0;32mreturn\u001b[0m \u001b[0mcurr_output\u001b[0m\u001b[0;34m\u001b[0m\u001b[0;34m\u001b[0m\u001b[0m\n",
      "\u001b[0;31mKeyboardInterrupt\u001b[0m: "
     ]
    }
   ],
   "source": [
    "#get clean features\n",
    "feas_clean = extract_node_feature(vers_train,adjs_train) #grad on nothing\n",
    "opt = optim.Adam(atkG.weights + atkM.weights + contraG.weights + contraM.weights, lr = 0.001)\n",
    "\n",
    "for contraI in range(100):\n",
    "    trainLog = pt.PrettyTable()\n",
    "    trainLog.field_names = [\" \",\"Loss\", \"Same Mean\", \"Diff Mean\", \"Same STD\"]\n",
    "    \n",
    "    \n",
    "    opt.zero_grad()\n",
    "\n",
    "    #get poisoned vertex locations\n",
    "    poisonsByGroups = atkM.forward(atkG.forward(nadjs_train,feas_clean))\n",
    "    transformation = translate_by_group(gMats_train,\n",
    "                                        poisonsByGroups)\n",
    "    poisonedVers = vers_train + transformation\n",
    "        \n",
    "        \n",
    "    #extract poisoned features\n",
    "    feas_poisoned = extract_node_feature(poisonedVers,adjs_train) #grad on 😈\n",
    "\n",
    "    \n",
    "    #get contraNN's performance on poisoned feature with grads on 😈    \n",
    "    contraM.eval()\n",
    "    contraG.eval()\n",
    "    aPerfPoisoned, APP = loss(contraM.forward(contraG.forward(nadjs_train,feas_poisoned)),\n",
    "                         label_mat_train) #grad on 😈\n",
    "    \n",
    "    #get contraNN's performance on clean feature and poisoned feature with grads on 🤠\n",
    "    contraM.train()\n",
    "    contraG.train()\n",
    "    feas_poisoned_nograd = feas_poisoned.detach() #grad on nothing\n",
    "    \n",
    "    objFeasFromClean = contraM.forward(contraG.forward(nadjs_train,feas_clean))\n",
    "    objFeasFromPoisoned = contraM.forward(contraG.forward(nadjs_train,feas_poisoned_nograd))\n",
    "    \n",
    "    diffInFeas = torch.sum((objFeasFromClean - objFeasFromPoisoned)**2)\n",
    "    \n",
    "    cPerfClean, CPC = loss(objFeasFromClean,\n",
    "                      label_mat_train) #grad on 🤠\n",
    "    \n",
    "    cPerfPoisoned, CPP = loss(objFeasFromPoisoned,\n",
    "                         label_mat_train) #grad on 🤠\n",
    "    \n",
    "    \n",
    "    trainLog.add_row(['On Clean Data']+CPC)\n",
    "    trainLog.add_row(['On Poisoned Data']+CPP)\n",
    "\n",
    "    \n",
    "    overallLoss = -aPerfPoisoned + cPerfClean + cPerfPoisoned#  + diffInFeas\n",
    "    overallLoss.backward()\n",
    "    opt.step()\n",
    "    \n",
    "    print(trainLog)\n",
    "    \n",
    "    "
   ]
  },
  {
   "cell_type": "code",
   "execution_count": 153,
   "id": "b76c24be",
   "metadata": {},
   "outputs": [],
   "source": [
    "%run helpers_preproc.ipynb"
   ]
  },
  {
   "cell_type": "code",
   "execution_count": 155,
   "id": "f628cf31",
   "metadata": {},
   "outputs": [
    {
     "data": {
      "text/plain": [
       "106.06601717798213"
      ]
     },
     "execution_count": 155,
     "metadata": {},
     "output_type": "execute_result"
    }
   ],
   "source": [
    "11250 **(1/2)"
   ]
  },
  {
   "cell_type": "markdown",
   "id": "bff459eb",
   "metadata": {
    "collapsed": true,
    "slideshow": {
     "slide_type": "skip"
    }
   },
   "source": [
    "## 3.7 Seeing how it does on Test Data"
   ]
  },
  {
   "cell_type": "code",
   "execution_count": 82,
   "id": "2cee83e1",
   "metadata": {},
   "outputs": [
    {
     "name": "stdout",
     "output_type": "stream",
     "text": [
      "tensor(-0.5182853341, grad_fn=<AddBackward0>)\n",
      "tensor(-0.5151064396, grad_fn=<AddBackward0>)\n"
     ]
    }
   ],
   "source": [
    "feas_clean_test = extract_node_feature(vers_test,adjs_test)\n",
    "\n",
    "atkTest = atkM.forward(atkG.forward(nadjs_test,feas_clean_test))\n",
    "\n",
    "poisonedVersTest = vers_test + translate_by_group(gMats_test,atkTest)\n",
    "        \n",
    "feas_poisoned_test = extract_node_feature(poisonedVersTest,adjs_test)\n",
    "\n",
    "contraOutPoisonedTest = contraM.forward(contraG.forward(nadjs_test,feas_poisoned_test))\n",
    "contraLossPoisonedTest,_ = loss(contraOutPoisonedTest,label_mat_test)\n",
    "\n",
    "contraOutCleanTest = contraM.forward(contraG.forward(nadjs_test,feas_clean_test))\n",
    "contraLossCleanTest,_ = loss(contraOutCleanTest,label_mat_test)\n",
    "\n",
    "print(contraLossPoisonedTest)\n",
    "print(contraLossCleanTest)"
   ]
  },
  {
   "cell_type": "code",
   "execution_count": null,
   "id": "ff5eacca",
   "metadata": {},
   "outputs": [],
   "source": []
  },
  {
   "cell_type": "code",
   "execution_count": null,
   "id": "8b18fc6f",
   "metadata": {},
   "outputs": [],
   "source": []
  },
  {
   "cell_type": "code",
   "execution_count": null,
   "id": "d00a52ae",
   "metadata": {},
   "outputs": [],
   "source": []
  },
  {
   "cell_type": "code",
   "execution_count": null,
   "id": "c167e014",
   "metadata": {},
   "outputs": [],
   "source": []
  },
  {
   "cell_type": "code",
   "execution_count": null,
   "id": "f430fdc3",
   "metadata": {},
   "outputs": [],
   "source": []
  },
  {
   "cell_type": "code",
   "execution_count": null,
   "id": "b5b74b1d",
   "metadata": {},
   "outputs": [],
   "source": []
  },
  {
   "cell_type": "code",
   "execution_count": null,
   "id": "83afa7d0",
   "metadata": {},
   "outputs": [],
   "source": []
  },
  {
   "cell_type": "code",
   "execution_count": null,
   "id": "5d3800b0",
   "metadata": {},
   "outputs": [],
   "source": [
    "plt.clf()"
   ]
  },
  {
   "cell_type": "code",
   "execution_count": null,
   "id": "f334336a",
   "metadata": {
    "slideshow": {
     "slide_type": "skip"
    }
   },
   "outputs": [],
   "source": [
    "from mpl_toolkits.mplot3d import axes3d\n",
    "\n",
    "\n",
    "index_in_question = 1\n",
    "\n",
    "#Plot first clustered mesh\n",
    "dataPlot = vers[index_in_question]\n",
    "\n",
    "fig = plt.figure()\n",
    "ax = fig.add_subplot(121,projection='3d')\n",
    "\n",
    "ax.scatter(dataPlot[:,0], dataPlot[:,1], dataPlot[:,2], label=gLbls[index_in_question,:], c = gLbls[index_in_question,:], cmap = 'viridis',s = 3)\n",
    "ax.set_title('clean')\n",
    "\n",
    "plt.axis('off')\n",
    "\n",
    "#Plot second clustered point coud\n",
    "#get poison\n",
    "atkOut = atkM.forward(atkG.forward(nadjs_train,feas_clean))\n",
    "poisonedVers = translate_by_group(vers_train,gMats_train,atkOut).detach().numpy()\n",
    "\n",
    "print(poisonedVers.shape)\n",
    "#poisioedVers = np.zeros([1350,252,3])\n",
    "poisonedDataPlot = vers[index_in_question] + poisonedVers[index_in_question]\n",
    "\n",
    "ax = fig.add_subplot(122,projection='3d')\n",
    "\n",
    "ax.scatter(poisonedDataPlot[:,0], poisonedDataPlot[:,1], poisonedDataPlot[:,2], label=gLbls[index_in_question,:], c = gLbls[index_in_question,:], cmap = 'viridis', s = 3)\n",
    "ax.set_title('poisoned')\n",
    "\n",
    "plt.axis('off')\n",
    "\n",
    "plt.show()"
   ]
  },
  {
   "cell_type": "code",
   "execution_count": null,
   "id": "f511ee37",
   "metadata": {},
   "outputs": [],
   "source": [
    "# ax.axes.xaxis.set_ticklabels([])\n",
    "# ax.axes.yaxis.set_ticklabels([])\n",
    "# ax.axes.zaxis.set_ticklabels([])\n",
    "# ax.set_xlabel('X')\n",
    "# ax.set_ylabel('Y')\n",
    "# ax.set_zlabel('Z')"
   ]
  }
 ],
 "metadata": {
  "kernelspec": {
   "display_name": "Python 3 (ipykernel)",
   "language": "python",
   "name": "python3"
  },
  "language_info": {
   "codemirror_mode": {
    "name": "ipython",
    "version": 3
   },
   "file_extension": ".py",
   "mimetype": "text/x-python",
   "name": "python",
   "nbconvert_exporter": "python",
   "pygments_lexer": "ipython3",
   "version": "3.10.9"
  }
 },
 "nbformat": 4,
 "nbformat_minor": 5
}
