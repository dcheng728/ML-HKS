{
 "cells": [
  {
   "cell_type": "code",
   "execution_count": 1,
   "id": "e9ab7b6e",
   "metadata": {
    "slideshow": {
     "slide_type": "slide"
    }
   },
   "outputs": [],
   "source": [
    "import torch.optim as optim\n",
    "import torch\n",
    "import numpy as np\n",
    "import matplotlib.pyplot as plt\n",
    "import random\n",
    "import os\n",
    "%run helpers_preproc.ipynb\n",
    "%matplotlib widget"
   ]
  },
  {
   "cell_type": "markdown",
   "id": "4b2719b0",
   "metadata": {
    "slideshow": {
     "slide_type": "skip"
    }
   },
   "source": [
    "# Hyper Parameters"
   ]
  },
  {
   "cell_type": "code",
   "execution_count": 2,
   "id": "b34c00ab",
   "metadata": {
    "slideshow": {
     "slide_type": "slide"
    }
   },
   "outputs": [],
   "source": [
    "origDataDir = 'SHREC11/'\n",
    "newDataDir = 'SHREC11_plus/'\n",
    "K = 5\n",
    "radiuss = [0.0002,0.0004,0.0008]\n",
    "train_size = 450 * len(radiuss)\n",
    "test_size = (600-450) * len(radiuss)"
   ]
  },
  {
   "cell_type": "markdown",
   "id": "684373cc",
   "metadata": {
    "slideshow": {
     "slide_type": "slide"
    }
   },
   "source": [
    "# 1. expand dataset and scramble"
   ]
  },
  {
   "cell_type": "code",
   "execution_count": 3,
   "id": "848dd975",
   "metadata": {
    "slideshow": {
     "slide_type": "fragment"
    }
   },
   "outputs": [],
   "source": [
    "expand(origDataDir, newDataDir, radiuss)\n",
    "scramble(newDataDir, 10000,600 * len(radiuss))"
   ]
  },
  {
   "cell_type": "markdown",
   "id": "eca467ac",
   "metadata": {
    "slideshow": {
     "slide_type": "slide"
    }
   },
   "source": [
    "# 2. read in the dataset"
   ]
  },
  {
   "cell_type": "markdown",
   "id": "51110c1a",
   "metadata": {
    "slideshow": {
     "slide_type": "slide"
    }
   },
   "source": [
    "## 2.1 read in v (252 x 3),f (...x...) and cluster"
   ]
  },
  {
   "cell_type": "code",
   "execution_count": 4,
   "id": "1428b3a4",
   "metadata": {
    "slideshow": {
     "slide_type": "fragment"
    }
   },
   "outputs": [
    {
     "name": "stderr",
     "output_type": "stream",
     "text": [
      "/Users/davidsoncheng/.conda/envs/TSP/lib/python3.10/site-packages/scipy/cluster/vq.py:602: UserWarning: One of the clusters is empty. Re-run kmeans with a different initialization.\n",
      "  warnings.warn(\"One of the clusters is empty. \"\n",
      "/var/folders/t4/vdzymfw562g8ml8ks_2b5l5r0000gn/T/ipykernel_7342/2399023897.py:12: RuntimeWarning: invalid value encountered in true_divide\n",
      "  normed_adj = adj / np.reshape(np.sum(adj,axis = 0),[252,1])\n"
     ]
    }
   ],
   "source": [
    "ver_list = []\n",
    "adj_list = []\n",
    "Nadj_list = []\n",
    "gMat_list = []\n",
    "gLbl_list = []\n",
    "\n",
    "for i in range(600 * len(radiuss)):\n",
    "    v, f = get_nodes(newDataDir + 'T' + str(i) + '.obj')\n",
    "    group_mat, group_labels = K_mean_cluster(v, K)\n",
    "    \n",
    "    adj = get_adj_from_f(f)            \n",
    "    normed_adj = adj / np.reshape(np.sum(adj,axis = 0),[252,1])\n",
    "    ver_list.append(v)\n",
    "    adj_list.append(adj)\n",
    "    Nadj_list.append(normed_adj)\n",
    "    gMat_list.append(group_mat)\n",
    "    gLbl_list.append(group_labels)\n",
    "    \n",
    "    \n",
    "vers = np.array(ver_list)\n",
    "adjs = np.array(adj_list)\n",
    "Nadjs = np.array(Nadj_list)\n",
    "gMats = np.array(gMat_list)\n",
    "gLbls = np.array(gLbl_list)"
   ]
  },
  {
   "cell_type": "markdown",
   "id": "013d531c",
   "metadata": {
    "slideshow": {
     "slide_type": "slide"
    }
   },
   "source": [
    "## 2.2 Read in the labels"
   ]
  },
  {
   "cell_type": "code",
   "execution_count": 5,
   "id": "3d47dac9",
   "metadata": {
    "slideshow": {
     "slide_type": "fragment"
    }
   },
   "outputs": [],
   "source": [
    "label_np = np.array(readLbl(600 * len(radiuss),newDataDir+'labels.txt'))\n",
    "label_np_train = label_np[:train_size]\n",
    "label_np_test = label_np[train_size:]"
   ]
  },
  {
   "cell_type": "markdown",
   "id": "5329a9ea",
   "metadata": {
    "slideshow": {
     "slide_type": "slide"
    }
   },
   "source": [
    "## 2.3 Split into training set and testing set"
   ]
  },
  {
   "cell_type": "code",
   "execution_count": 86,
   "id": "bb6dcc36",
   "metadata": {
    "slideshow": {
     "slide_type": "fragment"
    }
   },
   "outputs": [],
   "source": [
    "vers_train = torch.tensor(vers[:train_size]).float()\n",
    "adjs_train = torch.tensor(adjs[:train_size]).float()\n",
    "nadjs_train = torch.nan_to_num(torch.tensor(Nadjs[:train_size]).float(),0,0,0)\n",
    "gMats_train = torch.tensor(gMats[:train_size]).float()\n",
    "label_train = torch.tensor(label_np_train).float()\n",
    "\n",
    "vers_test = torch.tensor(vers[train_size:]).float()\n",
    "adjs_test = torch.tensor(adjs[train_size:]).float()\n",
    "nadjs_test = torch.nan_to_num(torch.tensor(Nadjs[train_size:]).float(),0,0,0)\n",
    "gMats_test = torch.tensor(gMats[train_size:]).float()\n",
    "label_test = torch.tensor(label_np_test).float()\n",
    "\n",
    "label_mat_train = torch.tensor(np.where(igl.all_pairs_distances(label_np_train,label_np_train,False) > 0.5,0,1)).float()\n",
    "label_mat_test = torch.tensor(np.where(igl.all_pairs_distances(label_np_test,label_np_test,False) > 0.5,0,1)).float()"
   ]
  },
  {
   "cell_type": "code",
   "execution_count": 7,
   "id": "fea6b4a9",
   "metadata": {
    "slideshow": {
     "slide_type": "skip"
    }
   },
   "outputs": [],
   "source": [
    "#detect_nan(label_mat_train)"
   ]
  },
  {
   "cell_type": "code",
   "execution_count": 8,
   "id": "3e64d719",
   "metadata": {
    "slideshow": {
     "slide_type": "skip"
    }
   },
   "outputs": [],
   "source": [
    "#label_mat_train"
   ]
  },
  {
   "cell_type": "code",
   "execution_count": 9,
   "id": "2ec635db",
   "metadata": {
    "slideshow": {
     "slide_type": "skip"
    }
   },
   "outputs": [],
   "source": [
    "#print message about training and testing dataset\n",
    "# print(vers_train.shape)\n",
    "# print(adjs_train.shape)\n",
    "# print(nadjs_train.shape)\n",
    "# print(gMats_train.shape)"
   ]
  },
  {
   "cell_type": "code",
   "execution_count": null,
   "id": "e5759f9c",
   "metadata": {
    "slideshow": {
     "slide_type": "skip"
    }
   },
   "outputs": [],
   "source": []
  },
  {
   "cell_type": "markdown",
   "id": "58ac61b4",
   "metadata": {
    "slideshow": {
     "slide_type": "slide"
    }
   },
   "source": [
    "# 3. Training"
   ]
  },
  {
   "cell_type": "markdown",
   "id": "1b06f3bb",
   "metadata": {
    "slideshow": {
     "slide_type": "slide"
    }
   },
   "source": [
    "## 3.1 Hyperparameters for training"
   ]
  },
  {
   "cell_type": "code",
   "execution_count": 88,
   "id": "5af46682",
   "metadata": {
    "slideshow": {
     "slide_type": "fragment"
    }
   },
   "outputs": [],
   "source": [
    "contraGWs = [20,20,20,20]\n",
    "contraMWs = [20,20,20,20]\n",
    "atkGWs = [20,20,20,20]\n",
    "atkMWs = [20,20,20,K * 3 + 1]"
   ]
  },
  {
   "cell_type": "markdown",
   "id": "71e6cccc",
   "metadata": {
    "slideshow": {
     "slide_type": "slide"
    }
   },
   "source": [
    "## 3.2 Initialize neural networks"
   ]
  },
  {
   "cell_type": "code",
   "execution_count": 89,
   "id": "832b8db7",
   "metadata": {
    "slideshow": {
     "slide_type": "fragment"
    }
   },
   "outputs": [],
   "source": [
    "%run NNs.ipynb\n",
    "%run helpers_preproc.ipynb\n",
    "contraG = GCN(3,contraGWs)\n",
    "contraM = MLP(252* contraGWs[len(contraGWs)-1],contraMWs)\n",
    "atkG = GCN(3,atkGWs)\n",
    "atkM = MLP_atk(252* atkGWs[len(contraGWs)-1], 1, K, atkMWs)"
   ]
  },
  {
   "cell_type": "code",
   "execution_count": null,
   "id": "6ee6d557",
   "metadata": {
    "slideshow": {
     "slide_type": "skip"
    }
   },
   "outputs": [],
   "source": []
  },
  {
   "cell_type": "markdown",
   "id": "d1510530",
   "metadata": {
    "slideshow": {
     "slide_type": "slide"
    }
   },
   "source": [
    "## 3.4 Extract node-level features from clean data"
   ]
  },
  {
   "cell_type": "code",
   "execution_count": 90,
   "id": "9ca6bd8a",
   "metadata": {
    "slideshow": {
     "slide_type": "fragment"
    }
   },
   "outputs": [],
   "source": [
    "feas_clean = extract_node_feature(vers_train,adjs_train)"
   ]
  },
  {
   "cell_type": "code",
   "execution_count": 78,
   "id": "f9ce8f8a",
   "metadata": {
    "slideshow": {
     "slide_type": "fragment"
    }
   },
   "outputs": [],
   "source": [
    "%run L.ipynb"
   ]
  },
  {
   "cell_type": "markdown",
   "id": "5bed8497",
   "metadata": {
    "slideshow": {
     "slide_type": "slide"
    }
   },
   "source": [
    "## 3.5 Feed clean data into contraNN🤠"
   ]
  },
  {
   "cell_type": "markdown",
   "id": "513d148f",
   "metadata": {
    "slideshow": {
     "slide_type": "slide"
    }
   },
   "source": [
    "## 3.6 Train atkNN😈 with contraNN🤠"
   ]
  },
  {
   "cell_type": "code",
   "execution_count": 79,
   "id": "f5d3147c",
   "metadata": {
    "slideshow": {
     "slide_type": "fragment"
    }
   },
   "outputs": [],
   "source": [
    "atkLR = 0.0001\n",
    "contraLR = 0.0001"
   ]
  },
  {
   "cell_type": "code",
   "execution_count": 80,
   "id": "4e942233",
   "metadata": {
    "scrolled": true,
    "slideshow": {
     "slide_type": "fragment"
    }
   },
   "outputs": [
    {
     "name": "stdout",
     "output_type": "stream",
     "text": [
      "\t loss \t\t same mean \t diff mean \t same std\n",
      "A:😈 \t -0.00754 \t 0.15157 \t 0.16739 \t 0.82772\n",
      "A:😈 \t -0.00745 \t 0.15163 \t 0.16736 \t 0.82804\n",
      "A:😈 \t -0.00739 \t 0.15185 \t 0.16752 \t 0.82919\n",
      "A:😈 \t -0.00733 \t 0.15351 \t 0.16923 \t 0.83825\n",
      "A:😈 \t -0.00727 \t 0.15641 \t 0.17222 \t 0.85404\n",
      "A:😈 \t -0.00719 \t 0.15988 \t 0.1758 \t 0.87296\n",
      "A:😈 \t -0.00709 \t 0.16349 \t 0.1795 \t 0.8926\n",
      "A:😈 \t -0.00697 \t 0.16711 \t 0.1832 \t 0.91233\n",
      "A:😈 \t -0.00686 \t 0.17068 \t 0.18685 \t 0.9318\n",
      "A:😈 \t -0.00678 \t 0.1741 \t 0.19039 \t 0.95048\n",
      "\t loss \t\t same mean \t diff mean \t same std\n",
      "C:🤠 \t -0.00673 \t 0.1764 \t 0.19276 \t 0.96302\n",
      "C:🤠 \t -0.01088 \t 0.25252 \t 0.27718 \t 1.37804\n",
      "C:🤠 \t -0.01611 \t 0.32112 \t 0.35476 \t 1.75253\n",
      "C:🤠 \t -0.01894 \t 0.34237 \t 0.38 \t 1.8694\n",
      "C:🤠 \t -0.01896 \t 0.33138 \t 0.36844 \t 1.81035\n",
      "C:🤠 \t -0.01901 \t 0.33874 \t 0.37626 \t 1.85067\n",
      "C:🤠 \t -0.02034 \t 0.36797 \t 0.40841 \t 2.01014\n",
      "C:🤠 \t -0.02233 \t 0.39423 \t 0.4381 \t 2.15398\n",
      "C:🤠 \t -0.02343 \t 0.39508 \t 0.44011 \t 2.1602\n",
      "C:🤠 \t -0.02364 \t 0.38658 \t 0.43137 \t 2.11512\n",
      "\t loss \t\t same mean \t diff mean \t same std\n",
      "A:😈 \t -0.02363 \t 0.38606 \t 0.43081 \t 2.11244\n",
      "A:😈 \t -0.02322 \t 0.37394 \t 0.41763 \t 2.04686\n",
      "A:😈 \t -0.02299 \t 0.3664 \t 0.40945 \t 2.00609\n",
      "A:😈 \t -0.02276 \t 0.36042 \t 0.40292 \t 1.97374\n",
      "A:😈 \t -0.02248 \t 0.35422 \t 0.39611 \t 1.94022\n",
      "A:😈 \t -0.02214 \t 0.34765 \t 0.38883 \t 1.90467\n",
      "A:😈 \t -0.02179 \t 0.34111 \t 0.38159 \t 1.86932\n",
      "A:😈 \t -0.0216 \t 0.33463 \t 0.37458 \t 1.83434\n",
      "A:😈 \t -0.02149 \t 0.3318 \t 0.37148 \t 1.81905\n",
      "A:😈 \t -0.02135 \t 0.33171 \t 0.37125 \t 1.81855\n",
      "\t loss \t\t same mean \t diff mean \t same std\n",
      "C:🤠 \t -0.02121 \t 0.33311 \t 0.37258 \t 1.82609\n",
      "C:🤠 \t -0.02236 \t 0.37802 \t 0.42106 \t 2.06734\n",
      "C:🤠 \t -0.02314 \t 0.38734 \t 0.43164 \t 2.1169\n",
      "C:🤠 \t -0.02385 \t 0.38684 \t 0.43183 \t 2.11389\n",
      "C:🤠 \t -0.02402 \t 0.38439 \t 0.42943 \t 2.10069\n",
      "C:🤠 \t -0.02422 \t 0.38239 \t 0.4275 \t 2.08998\n",
      "C:🤠 \t -0.02497 \t 0.38706 \t 0.43318 \t 2.11553\n",
      "C:🤠 \t -0.02575 \t 0.3933 \t 0.44054 \t 2.14961\n",
      "C:🤠 \t -0.02632 \t 0.39896 \t 0.44708 \t 2.18055\n",
      "C:🤠 \t -0.02678 \t 0.4039 \t 0.45275 \t 2.20755\n",
      "\t loss \t\t same mean \t diff mean \t same std\n",
      "A:😈 \t -0.02719 \t 0.40646 \t 0.45586 \t 2.22162\n",
      "A:😈 \t -0.02691 \t 0.41224 \t 0.46168 \t 2.25297\n",
      "A:😈 \t -0.02673 \t 0.41498 \t 0.46438 \t 2.26777\n",
      "A:😈 \t -0.02657 \t 0.41651 \t 0.46584 \t 2.27607\n",
      "A:😈 \t -0.02641 \t 0.41782 \t 0.46707 \t 2.28319\n",
      "A:😈 \t -0.02622 \t 0.41943 \t 0.46858 \t 2.29191\n",
      "A:😈 \t -0.026 \t 0.42171 \t 0.47075 \t 2.30424\n",
      "A:😈 \t -0.02573 \t 0.42487 \t 0.47381 \t 2.32137\n",
      "A:😈 \t -0.02546 \t 0.42882 \t 0.47771 \t 2.34279\n",
      "A:😈 \t -0.02534 \t 0.43308 \t 0.48208 \t 2.36584\n",
      "\t loss \t\t same mean \t diff mean \t same std\n",
      "C:🤠 \t -0.02537 \t 0.43674 \t 0.48597 \t 2.38569\n",
      "C:🤠 \t -0.02499 \t 0.41274 \t 0.46029 \t 2.25687\n",
      "C:🤠 \t -0.02645 \t 0.4369 \t 0.48722 \t 2.38679\n",
      "C:🤠 \t -0.02668 \t 0.44061 \t 0.49135 \t 2.40613\n",
      "C:🤠 \t -0.0272 \t 0.44679 \t 0.49839 \t 2.43948\n",
      "C:🤠 \t -0.02805 \t 0.451 \t 0.50368 \t 2.46302\n",
      "C:🤠 \t -0.02869 \t 0.44813 \t 0.5013 \t 2.44837\n",
      "C:🤠 \t -0.02914 \t 0.44406 \t 0.49746 \t 2.42684\n",
      "C:🤠 \t -0.02979 \t 0.44741 \t 0.50164 \t 2.44494\n",
      "C:🤠 \t -0.0306 \t 0.45579 \t 0.51128 \t 2.48979\n",
      "\t loss \t\t same mean \t diff mean \t same std\n",
      "A:😈 \t -0.03123 \t 0.4616 \t 0.51804 \t 2.5206\n",
      "A:😈 \t -0.03106 \t 0.45657 \t 0.51256 \t 2.49333\n",
      "A:😈 \t -0.03096 \t 0.45425 \t 0.51002 \t 2.48076\n",
      "A:😈 \t -0.03078 \t 0.45407 \t 0.50965 \t 2.47977\n",
      "A:😈 \t -0.03053 \t 0.45439 \t 0.50974 \t 2.48151\n",
      "A:😈 \t -0.03022 \t 0.45343 \t 0.50841 \t 2.47625\n",
      "A:😈 \t -0.02983 \t 0.44882 \t 0.50316 \t 2.45119\n",
      "A:😈 \t -0.02965 \t 0.43796 \t 0.49153 \t 2.39225\n",
      "A:😈 \t -0.02945 \t 0.43468 \t 0.48788 \t 2.37449\n",
      "A:😈 \t -0.02927 \t 0.43512 \t 0.48816 \t 2.3769\n",
      "\t loss \t\t same mean \t diff mean \t same std\n",
      "C:🤠 \t -0.02921 \t 0.43269 \t 0.48554 \t 2.36372\n",
      "C:🤠 \t -0.02828 \t 0.41382 \t 0.46474 \t 2.26378\n",
      "C:🤠 \t -0.03013 \t 0.43468 \t 0.48856 \t 2.3759\n",
      "C:🤠 \t -0.03041 \t 0.43726 \t 0.49156 \t 2.38837\n",
      "C:🤠 \t -0.03073 \t 0.4352 \t 0.4897 \t 2.3769\n",
      "C:🤠 \t -0.03185 \t 0.4392 \t 0.49504 \t 2.39945\n",
      "C:🤠 \t -0.03268 \t 0.43994 \t 0.49667 \t 2.40457\n",
      "C:🤠 \t -0.03308 \t 0.44047 \t 0.49763 \t 2.40791\n",
      "C:🤠 \t -0.03363 \t 0.44597 \t 0.50398 \t 2.43752\n",
      "C:🤠 \t -0.03452 \t 0.4544 \t 0.51375 \t 2.4826\n",
      "\t loss \t\t same mean \t diff mean \t same std\n",
      "A:😈 \t -0.03542 \t 0.45978 \t 0.52031 \t 2.51119\n",
      "A:😈 \t -0.03633 \t 0.45656 \t 0.51783 \t 2.49366\n",
      "A:😈 \t -0.03518 \t 0.47197 \t 0.53293 \t 2.57727\n",
      "A:😈 \t -0.03494 \t 0.48296 \t 0.54427 \t 2.63689\n",
      "A:😈 \t -0.03497 \t 0.49015 \t 0.55188 \t 2.67594\n",
      "A:😈 \t -0.03495 \t 0.4948 \t 0.55677 \t 2.70115\n",
      "A:😈 \t -0.03491 \t 0.49775 \t 0.55983 \t 2.71717\n",
      "A:😈 \t -0.03491 \t 0.49867 \t 0.5608 \t 2.72216\n",
      "A:😈 \t -0.03484 \t 0.49866 \t 0.56072 \t 2.72208\n",
      "A:😈 \t -0.03464 \t 0.49814 \t 0.55997 \t 2.71924\n",
      "\t loss \t\t same mean \t diff mean \t same std\n",
      "C:🤠 \t -0.03443 \t 0.49618 \t 0.5577 \t 2.70864\n",
      "C:🤠 \t -0.03337 \t 0.46186 \t 0.52049 \t 2.52555\n",
      "C:🤠 \t -0.03592 \t 0.4982 \t 0.56134 \t 2.72133\n",
      "C:🤠 \t -0.03654 \t 0.51287 \t 0.5774 \t 2.79915\n",
      "C:🤠 \t -0.03704 \t 0.51929 \t 0.58467 \t 2.83399\n",
      "C:🤠 \t -0.03867 \t 0.53877 \t 0.60685 \t 2.94121\n",
      "C:🤠 \t -0.03956 \t 0.55257 \t 0.62231 \t 3.01802\n",
      "C:🤠 \t -0.04001 \t 0.55893 \t 0.62947 \t 3.05355\n",
      "C:🤠 \t -0.04103 \t 0.5662 \t 0.63815 \t 3.09268\n",
      "C:🤠 \t -0.04213 \t 0.57279 \t 0.64619 \t 3.12751\n",
      "\t loss \t\t same mean \t diff mean \t same std\n",
      "A:😈 \t -0.0428 \t 0.5762 \t 0.65046 \t 3.14543\n",
      "A:😈 \t -0.04312 \t 0.55464 \t 0.62805 \t 3.02842\n",
      "A:😈 \t -0.0423 \t 0.56084 \t 0.63377 \t 3.06204\n",
      "A:😈 \t -0.04263 \t 0.56327 \t 0.63665 \t 3.07524\n",
      "A:😈 \t -0.04255 \t 0.56092 \t 0.63409 \t 3.06244\n",
      "A:😈 \t -0.04227 \t 0.56039 \t 0.63326 \t 3.05957\n",
      "A:😈 \t -0.04195 \t 0.56228 \t 0.63493 \t 3.06982\n",
      "A:😈 \t -0.04188 \t 0.56371 \t 0.63636 \t 3.07757\n",
      "A:😈 \t -0.04188 \t 0.56532 \t 0.63806 \t 3.08633\n",
      "A:😈 \t -0.04176 \t 0.56835 \t 0.64114 \t 3.10278\n",
      "\t loss \t\t same mean \t diff mean \t same std\n",
      "C:🤠 \t -0.04163 \t 0.57227 \t 0.64514 \t 3.12403\n",
      "C:🤠 \t -0.03755 \t 0.50696 \t 0.57226 \t 2.77526\n",
      "C:🤠 \t -0.04248 \t 0.57027 \t 0.64391 \t 3.11604\n",
      "C:🤠 \t -0.04221 \t 0.56866 \t 0.6419 \t 3.10327\n",
      "C:🤠 \t -0.0418 \t 0.56006 \t 0.63242 \t 3.05596\n",
      "C:🤠 \t -0.04422 \t 0.58013 \t 0.65601 \t 3.16632\n",
      "C:🤠 \t -0.04551 \t 0.58792 \t 0.66553 \t 3.21086\n",
      "C:🤠 \t -0.04505 \t 0.57736 \t 0.65396 \t 3.15516\n",
      "C:🤠 \t -0.04549 \t 0.57738 \t 0.65442 \t 3.15553\n",
      "C:🤠 \t -0.04714 \t 0.58996 \t 0.66932 \t 3.22291\n",
      "\t loss \t\t same mean \t diff mean \t same std\n",
      "A:😈 \t -0.04842 \t 0.59711 \t 0.67813 \t 3.26026\n",
      "A:😈 \t -0.04896 \t 0.58446 \t 0.66534 \t 3.19159\n",
      "A:😈 \t -0.04855 \t 0.59358 \t 0.67454 \t 3.24113\n",
      "A:😈 \t -0.04846 \t 0.59248 \t 0.67329 \t 3.23513\n",
      "A:😈 \t -0.0483 \t 0.59073 \t 0.67129 \t 3.22565\n",
      "A:😈 \t -0.04819 \t 0.59152 \t 0.67201 \t 3.22989\n",
      "A:😈 \t -0.04783 \t 0.59549 \t 0.67584 \t 3.25144\n",
      "A:😈 \t -0.04772 \t 0.60065 \t 0.68116 \t 3.27943\n",
      "A:😈 \t -0.04781 \t 0.60316 \t 0.6839 \t 3.29305\n",
      "A:😈 \t -0.04767 \t 0.60257 \t 0.68313 \t 3.28984\n",
      "\t loss \t\t same mean \t diff mean \t same std\n",
      "C:🤠 \t -0.04738 \t 0.59968 \t 0.6798 \t 3.27415\n",
      "C:🤠 \t -0.04609 \t 0.58276 \t 0.66071 \t 3.18534\n",
      "C:🤠 \t -0.04886 \t 0.60009 \t 0.68171 \t 3.27621\n",
      "C:🤠 \t -0.04918 \t 0.58712 \t 0.66836 \t 3.20571\n",
      "C:🤠 \t -0.0509 \t 0.59983 \t 0.68348 \t 3.27557\n",
      "C:🤠 \t -0.05224 \t 0.6127 \t 0.6984 \t 3.34641\n",
      "C:🤠 \t -0.05304 \t 0.61968 \t 0.70657 \t 3.38481\n",
      "C:🤠 \t -0.05461 \t 0.6276 \t 0.7165 \t 3.42818\n",
      "C:🤠 \t -0.05656 \t 0.63708 \t 0.72844 \t 3.47938\n",
      "C:🤠 \t -0.05744 \t 0.64246 \t 0.73498 \t 3.50787\n",
      "\t loss \t\t same mean \t diff mean \t same std\n",
      "A:😈 \t -0.05793 \t 0.64771 \t 0.741 \t 3.5362\n",
      "A:😈 \t -0.05972 \t 0.62435 \t 0.71816 \t 3.40944\n",
      "A:😈 \t -0.05819 \t 0.63668 \t 0.72964 \t 3.47637\n",
      "A:😈 \t -0.05841 \t 0.64869 \t 0.74252 \t 3.54158\n",
      "A:😈 \t -0.05829 \t 0.65718 \t 0.75135 \t 3.5876\n",
      "A:😈 \t -0.05784 \t 0.66059 \t 0.75449 \t 3.60607\n",
      "A:😈 \t -0.05769 \t 0.65845 \t 0.75209 \t 3.59447\n",
      "A:😈 \t -0.05779 \t 0.65383 \t 0.74732 \t 3.56938\n",
      "A:😈 \t -0.0577 \t 0.65185 \t 0.74514 \t 3.55863\n",
      "A:😈 \t -0.05744 \t 0.6528 \t 0.74588 \t 3.56379\n",
      "\t loss \t\t same mean \t diff mean \t same std\n",
      "C:🤠 \t -0.05724 \t 0.65514 \t 0.74815 \t 3.5765\n",
      "C:🤠 \t -0.05179 \t 0.60369 \t 0.68851 \t 3.303\n",
      "C:🤠 \t -0.05737 \t 0.65273 \t 0.74575 \t 3.56558\n",
      "C:🤠 \t -0.0584 \t 0.65227 \t 0.74627 \t 3.55971\n",
      "C:🤠 \t -0.05799 \t 0.64225 \t 0.73528 \t 3.50509\n",
      "C:🤠 \t -0.05997 \t 0.65094 \t 0.74645 \t 3.55419\n",
      "C:🤠 \t -0.06101 \t 0.65333 \t 0.75003 \t 3.5693\n",
      "C:🤠 \t -0.06179 \t 0.65678 \t 0.75447 \t 3.5887\n",
      "C:🤠 \t -0.06309 \t 0.66488 \t 0.7643 \t 3.63178\n",
      "C:🤠 \t -0.06347 \t 0.66307 \t 0.76275 \t 3.62056\n",
      "\t loss \t\t same mean \t diff mean \t same std\n",
      "A:😈 \t -0.06398 \t 0.66219 \t 0.76233 \t 3.61507\n",
      "A:😈 \t -0.06526 \t 0.68113 \t 0.78357 \t 3.71786\n",
      "A:😈 \t -0.06378 \t 0.66668 \t 0.76685 \t 3.6394\n",
      "A:😈 \t -0.06413 \t 0.65162 \t 0.75133 \t 3.55766\n"
     ]
    },
    {
     "name": "stdout",
     "output_type": "stream",
     "text": [
      "A:😈 \t -0.0639 \t 0.65173 \t 0.75121 \t 3.55828\n",
      "A:😈 \t -0.06373 \t 0.65567 \t 0.7552 \t 3.57969\n",
      "A:😈 \t -0.06374 \t 0.65962 \t 0.75937 \t 3.60114\n",
      "A:😈 \t -0.06349 \t 0.66286 \t 0.76254 \t 3.61871\n",
      "A:😈 \t -0.06311 \t 0.66427 \t 0.76364 \t 3.62631\n",
      "A:😈 \t -0.06307 \t 0.66341 \t 0.7627 \t 3.62162\n",
      "\t loss \t\t same mean \t diff mean \t same std\n",
      "C:🤠 \t -0.0632 \t 0.66293 \t 0.76233 \t 3.61903\n",
      "C:🤠 \t -0.05751 \t 0.61868 \t 0.71005 \t 3.38527\n",
      "C:🤠 \t -0.06311 \t 0.67574 \t 0.77575 \t 3.6902\n",
      "C:🤠 \t -0.06356 \t 0.67715 \t 0.77765 \t 3.69473\n",
      "C:🤠 \t -0.06538 \t 0.68182 \t 0.7844 \t 3.72027\n",
      "C:🤠 \t -0.06702 \t 0.68838 \t 0.79298 \t 3.75798\n",
      "C:🤠 \t -0.06653 \t 0.68255 \t 0.78637 \t 3.72863\n",
      "C:🤠 \t -0.06736 \t 0.6841 \t 0.78883 \t 3.73774\n",
      "C:🤠 \t -0.07001 \t 0.69632 \t 0.80437 \t 3.80336\n",
      "C:🤠 \t -0.07154 \t 0.70017 \t 0.80994 \t 3.82275\n",
      "\t loss \t\t same mean \t diff mean \t same std\n",
      "A:😈 \t -0.07116 \t 0.69418 \t 0.80324 \t 3.78928\n",
      "A:😈 \t -0.07221 \t 0.69895 \t 0.80931 \t 3.81529\n",
      "A:😈 \t -0.07116 \t 0.69922 \t 0.80855 \t 3.81671\n",
      "A:😈 \t -0.07081 \t 0.70065 \t 0.8097 \t 3.8244\n",
      "A:😈 \t -0.07088 \t 0.70354 \t 0.81282 \t 3.84009\n",
      "A:😈 \t -0.0709 \t 0.7086 \t 0.81817 \t 3.86756\n",
      "A:😈 \t -0.07077 \t 0.71279 \t 0.82245 \t 3.89029\n",
      "A:😈 \t -0.07058 \t 0.71384 \t 0.82339 \t 3.89604\n",
      "A:😈 \t -0.07033 \t 0.71194 \t 0.82113 \t 3.88572\n",
      "A:😈 \t -0.07008 \t 0.70818 \t 0.81692 \t 3.86531\n",
      "\t loss \t\t same mean \t diff mean \t same std\n",
      "C:🤠 \t -0.06996 \t 0.70392 \t 0.81231 \t 3.84215\n",
      "C:🤠 \t -0.06159 \t 0.65647 \t 0.75398 \t 3.59194\n",
      "C:🤠 \t -0.06956 \t 0.71707 \t 0.82581 \t 3.9179\n",
      "C:🤠 \t -0.07368 \t 0.73727 \t 0.85119 \t 4.02369\n",
      "C:🤠 \t -0.07172 \t 0.72616 \t 0.8375 \t 3.96214\n",
      "C:🤠 \t -0.07578 \t 0.75564 \t 0.87265 \t 4.12354\n",
      "C:🤠 \t -0.07978 \t 0.78435 \t 0.90695 \t 4.28175\n",
      "C:🤠 \t -0.08037 \t 0.79029 \t 0.91381 \t 4.31557\n",
      "C:🤠 \t -0.08207 \t 0.79698 \t 0.92257 \t 4.35201\n",
      "C:🤠 \t -0.08502 \t 0.80254 \t 0.93138 \t 4.38122\n",
      "\t loss \t\t same mean \t diff mean \t same std\n",
      "A:😈 \t -0.08631 \t 0.79527 \t 0.92498 \t 4.34046\n",
      "A:😈 \t -0.08777 \t 0.81508 \t 0.94733 \t 4.44806\n",
      "A:😈 \t -0.08621 \t 0.80788 \t 0.93818 \t 4.40888\n",
      "A:😈 \t -0.0867 \t 0.79427 \t 0.92432 \t 4.33497\n",
      "A:😈 \t -0.08634 \t 0.79586 \t 0.92564 \t 4.34367\n",
      "A:😈 \t -0.08584 \t 0.80237 \t 0.932 \t 4.37898\n",
      "A:😈 \t -0.08577 \t 0.809 \t 0.93891 \t 4.41498\n",
      "A:😈 \t -0.08589 \t 0.81419 \t 0.94451 \t 4.44317\n",
      "A:😈 \t -0.08589 \t 0.81771 \t 0.94823 \t 4.46227\n",
      "A:😈 \t -0.08574 \t 0.81906 \t 0.9495 \t 4.46958\n",
      "\t loss \t\t same mean \t diff mean \t same std\n",
      "C:🤠 \t -0.08543 \t 0.81819 \t 0.94827 \t 4.46487\n",
      "C:🤠 \t -0.07206 \t 0.69877 \t 0.80907 \t 3.82483\n",
      "C:🤠 \t -0.08302 \t 0.76908 \t 0.89412 \t 4.2023\n",
      "C:🤠 \t -0.08451 \t 0.78727 \t 0.91474 \t 4.29616\n",
      "C:🤠 \t -0.08503 \t 0.7963 \t 0.92478 \t 4.3445\n",
      "C:🤠 \t -0.08933 \t 0.81983 \t 0.95391 \t 4.47396\n",
      "C:🤠 \t -0.08967 \t 0.82122 \t 0.95574 \t 4.48433\n",
      "C:🤠 \t -0.08866 \t 0.81254 \t 0.94559 \t 4.43889\n",
      "C:🤠 \t -0.09194 \t 0.82199 \t 0.95883 \t 4.48961\n",
      "C:🤠 \t -0.09552 \t 0.82519 \t 0.96576 \t 4.50521\n",
      "\t loss \t\t same mean \t diff mean \t same std\n",
      "A:😈 \t -0.09476 \t 0.80342 \t 0.94203 \t 4.38542\n",
      "A:😈 \t -0.09613 \t 0.77886 \t 0.91752 \t 4.25206\n",
      "A:😈 \t -0.09447 \t 0.79363 \t 0.93142 \t 4.33222\n",
      "A:😈 \t -0.09466 \t 0.80584 \t 0.94448 \t 4.39857\n",
      "A:😈 \t -0.09497 \t 0.80843 \t 0.94753 \t 4.41267\n",
      "A:😈 \t -0.09462 \t 0.80546 \t 0.94404 \t 4.39649\n",
      "A:😈 \t -0.09413 \t 0.79975 \t 0.93753 \t 4.36545\n",
      "A:😈 \t -0.09403 \t 0.79358 \t 0.93093 \t 4.33191\n",
      "A:😈 \t -0.09419 \t 0.79055 \t 0.92789 \t 4.31546\n",
      "A:😈 \t -0.09403 \t 0.79295 \t 0.93027 \t 4.3285\n",
      "\t loss \t\t same mean \t diff mean \t same std\n",
      "C:🤠 \t -0.09371 \t 0.79873 \t 0.93604 \t 4.35988\n",
      "C:🤠 \t -0.07699 \t 0.74148 \t 0.85904 \t 4.05757\n",
      "C:🤠 \t -0.09134 \t 0.84541 \t 0.98292 \t 4.61667\n",
      "C:🤠 \t -0.09448 \t 0.83762 \t 0.9778 \t 4.56976\n",
      "C:🤠 \t -0.09003 \t 0.7888 \t 0.92187 \t 4.30385\n",
      "C:🤠 \t -0.09541 \t 0.80398 \t 0.94327 \t 4.38764\n",
      "C:🤠 \t -0.10024 \t 0.82901 \t 0.97451 \t 4.52614\n",
      "C:🤠 \t -0.09806 \t 0.82397 \t 0.96704 \t 4.50123\n",
      "C:🤠 \t -0.09752 \t 0.82394 \t 0.96648 \t 4.50179\n",
      "C:🤠 \t -0.10144 \t 0.8422 \t 0.98965 \t 4.59982\n",
      "\t loss \t\t same mean \t diff mean \t same std\n",
      "A:😈 \t -0.10472 \t 0.85041 \t 1.00155 \t 4.64242\n",
      "A:😈 \t -0.10589 \t 0.87038 \t 1.02378 \t 4.75095\n",
      "A:😈 \t -0.10464 \t 0.86 \t 1.01158 \t 4.69449\n",
      "A:😈 \t -0.10457 \t 0.84796 \t 0.99883 \t 4.62915\n",
      "A:😈 \t -0.10491 \t 0.84382 \t 0.9948 \t 4.60665\n",
      "A:😈 \t -0.10436 \t 0.84944 \t 1.00018 \t 4.63717\n",
      "A:😈 \t -0.104 \t 0.85805 \t 1.00889 \t 4.68387\n",
      "A:😈 \t -0.10408 \t 0.8641 \t 1.01535 \t 4.71677\n",
      "A:😈 \t -0.10415 \t 0.8661 \t 1.01753 \t 4.72763\n",
      "A:😈 \t -0.10394 \t 0.86478 \t 1.01592 \t 4.72043\n",
      "\t loss \t\t same mean \t diff mean \t same std\n",
      "C:🤠 \t -0.10362 \t 0.86126 \t 1.01189 \t 4.70128\n",
      "C:🤠 \t -0.09507 \t 0.79971 \t 0.93849 \t 4.37122\n",
      "C:🤠 \t -0.10138 \t 0.83438 \t 0.9813 \t 4.55378\n",
      "C:🤠 \t -0.10512 \t 0.86959 \t 1.02215 \t 4.74445\n",
      "C:🤠 \t -0.10839 \t 0.89809 \t 1.05549 \t 4.90142\n",
      "C:🤠 \t -0.10644 \t 0.88932 \t 1.04432 \t 4.85629\n",
      "C:🤠 \t -0.10992 \t 0.90018 \t 1.05926 \t 4.91508\n",
      "C:🤠 \t -0.11453 \t 0.90688 \t 1.07091 \t 4.94987\n",
      "C:🤠 \t -0.11429 \t 0.893 \t 1.05603 \t 4.87356\n",
      "C:🤠 \t -0.11538 \t 0.907 \t 1.07188 \t 4.94988\n",
      "\t loss \t\t same mean \t diff mean \t same std\n",
      "A:😈 \t -0.11803 \t 0.93573 \t 1.10483 \t 5.10701\n",
      "A:😈 \t -0.11977 \t 0.92067 \t 1.09069 \t 5.02529\n",
      "A:😈 \t -0.11811 \t 0.94132 \t 1.1108 \t 5.13737\n",
      "A:😈 \t -0.1181 \t 0.94861 \t 1.11848 \t 5.17692\n",
      "A:😈 \t -0.11826 \t 0.94734 \t 1.1173 \t 5.17005\n",
      "A:😈 \t -0.11807 \t 0.94271 \t 1.11223 \t 5.14489\n",
      "A:😈 \t -0.11787 \t 0.93825 \t 1.10733 \t 5.12068\n",
      "A:😈 \t -0.11772 \t 0.93577 \t 1.10457 \t 5.10724\n",
      "A:😈 \t -0.11753 \t 0.93594 \t 1.10456 \t 5.10814\n",
      "A:😈 \t -0.11728 \t 0.93855 \t 1.10705 \t 5.12229\n",
      "\t loss \t\t same mean \t diff mean \t same std\n",
      "C:🤠 \t -0.11709 \t 0.94267 \t 1.1112 \t 5.14462\n",
      "C:🤠 \t -0.11078 \t 0.94333 \t 1.10559 \t 5.14838\n",
      "C:🤠 \t -0.10822 \t 0.87986 \t 1.03608 \t 4.79935\n",
      "C:🤠 \t -0.11977 \t 0.93092 \t 1.10149 \t 5.07942\n",
      "C:🤠 \t -0.11939 \t 0.94373 \t 1.11464 \t 5.15282\n",
      "C:🤠 \t -0.11853 \t 0.9386 \t 1.10839 \t 5.12545\n",
      "C:🤠 \t -0.12171 \t 0.95246 \t 1.12616 \t 5.19894\n",
      "C:🤠 \t -0.1232 \t 0.95681 \t 1.13222 \t 5.22086\n",
      "C:🤠 \t -0.12601 \t 0.96728 \t 1.14606 \t 5.27728\n",
      "C:🤠 \t -0.12885 \t 0.98152 \t 1.16393 \t 5.35546\n",
      "\t loss \t\t same mean \t diff mean \t same std\n",
      "A:😈 \t -0.12837 \t 0.97872 \t 1.1605 \t 5.34145\n",
      "A:😈 \t -0.12894 \t 0.98613 \t 1.16889 \t 5.38169\n",
      "A:😈 \t -0.12813 \t 0.9753 \t 1.15665 \t 5.32292\n",
      "A:😈 \t -0.12854 \t 0.96886 \t 1.15028 \t 5.28797\n",
      "A:😈 \t -0.12799 \t 0.9745 \t 1.15568 \t 5.31858\n",
      "A:😈 \t -0.12764 \t 0.98262 \t 1.16388 \t 5.3626\n",
      "A:😈 \t -0.12772 \t 0.98752 \t 1.16914 \t 5.3892\n",
      "A:😈 \t -0.12766 \t 0.988 \t 1.16957 \t 5.39178\n",
      "A:😈 \t -0.12741 \t 0.98559 \t 1.16679 \t 5.37871\n",
      "A:😈 \t -0.12725 \t 0.98233 \t 1.16319 \t 5.361\n",
      "\t loss \t\t same mean \t diff mean \t same std\n",
      "C:🤠 \t -0.12717 \t 0.98051 \t 1.16119 \t 5.35112\n",
      "C:🤠 \t -0.1026 \t 0.79484 \t 0.94082 \t 4.33857\n",
      "C:🤠 \t -0.12506 \t 0.90667 \t 1.08123 \t 4.94982\n",
      "C:🤠 \t -0.11981 \t 0.92801 \t 1.09851 \t 5.06971\n",
      "C:🤠 \t -0.12025 \t 0.95641 \t 1.1289 \t 5.22402\n",
      "C:🤠 \t -0.1319 \t 1.00912 \t 1.19609 \t 5.50719\n",
      "C:🤠 \t -0.13209 \t 0.98783 \t 1.1738 \t 5.38841\n",
      "C:🤠 \t -0.12703 \t 0.94832 \t 1.12708 \t 5.17296\n",
      "C:🤠 \t -0.13251 \t 0.96342 \t 1.14849 \t 5.25601\n",
      "C:🤠 \t -0.13938 \t 0.99687 \t 1.19065 \t 5.43983\n",
      "\t loss \t\t same mean \t diff mean \t same std\n",
      "A:😈 \t -0.13779 \t 0.99898 \t 1.19131 \t 5.45371\n",
      "A:😈 \t -0.13893 \t 1.01907 \t 1.21362 \t 5.56275\n",
      "A:😈 \t -0.13755 \t 1.0083 \t 1.20089 \t 5.50425\n",
      "A:😈 \t -0.13788 \t 0.99307 \t 1.18517 \t 5.4216\n",
      "A:😈 \t -0.13775 \t 0.99282 \t 1.18477 \t 5.42026\n",
      "A:😈 \t -0.13717 \t 0.99898 \t 1.19069 \t 5.45368\n",
      "A:😈 \t -0.13711 \t 1.00564 \t 1.19764 \t 5.4898\n",
      "A:😈 \t -0.13722 \t 1.01019 \t 1.20256 \t 5.51452\n",
      "A:😈 \t -0.13715 \t 1.01201 \t 1.2044 \t 5.52438\n",
      "A:😈 \t -0.13686 \t 1.0111 \t 1.20316 \t 5.51944\n",
      "\t loss \t\t same mean \t diff mean \t same std\n",
      "C:🤠 \t -0.13661 \t 1.00829 \t 1.19994 \t 5.5042\n",
      "C:🤠 \t -0.09697 \t 0.7743 \t 0.91352 \t 4.22554\n",
      "C:🤠 \t -0.1318 \t 0.94282 \t 1.12606 \t 5.14417\n",
      "C:🤠 \t -0.13417 \t 1.01698 \t 1.20667 \t 5.5521\n",
      "C:🤠 \t -0.12172 \t 0.97326 \t 1.14816 \t 5.3175\n",
      "C:🤠 \t -0.13076 \t 1.00086 \t 1.18628 \t 5.4661\n",
      "C:🤠 \t -0.14451 \t 1.02398 \t 1.22438 \t 5.58882\n",
      "C:🤠 \t -0.14167 \t 0.97449 \t 1.16933 \t 5.31777\n",
      "C:🤠 \t -0.1351 \t 0.93587 \t 1.12204 \t 5.10708\n",
      "C:🤠 \t -0.13972 \t 0.9592 \t 1.15126 \t 5.23428\n",
      "\t loss \t\t same mean \t diff mean \t same std\n",
      "A:😈 \t -0.14884 \t 1.01471 \t 1.21893 \t 5.53723\n",
      "A:😈 \t -0.14912 \t 1.02066 \t 1.22547 \t 5.56952\n",
      "A:😈 \t -0.14873 \t 1.01147 \t 1.2154 \t 5.51959\n",
      "A:😈 \t -0.14862 \t 1.01346 \t 1.21738 \t 5.53037\n",
      "A:😈 \t -0.14843 \t 1.01737 \t 1.22132 \t 5.55161\n",
      "A:😈 \t -0.14819 \t 1.02054 \t 1.22443 \t 5.56884\n",
      "A:😈 \t -0.14806 \t 1.02228 \t 1.22612 \t 5.57824\n",
      "A:😈 \t -0.148 \t 1.02272 \t 1.22652 \t 5.58065\n",
      "A:😈 \t -0.14782 \t 1.0226 \t 1.22621 \t 5.57996\n"
     ]
    },
    {
     "name": "stdout",
     "output_type": "stream",
     "text": [
      "A:😈 \t -0.14763 \t 1.02204 \t 1.22544 \t 5.57695\n",
      "\t loss \t\t same mean \t diff mean \t same std\n",
      "C:🤠 \t -0.1475 \t 1.02114 \t 1.22437 \t 5.57206\n",
      "C:🤠 \t -0.10431 \t 0.88962 \t 1.04261 \t 4.86779\n",
      "C:🤠 \t -0.14082 \t 1.03861 \t 1.23613 \t 5.66995\n",
      "C:🤠 \t -0.13866 \t 0.96405 \t 1.1553 \t 5.25965\n",
      "C:🤠 \t -0.13085 \t 0.91783 \t 1.09877 \t 5.00819\n",
      "C:🤠 \t -0.14658 \t 0.98734 \t 1.1878 \t 5.38777\n",
      "C:🤠 \t -0.15426 \t 1.05055 \t 1.26215 \t 5.73408\n",
      "C:🤠 \t -0.14545 \t 1.04332 \t 1.24575 \t 5.69735\n",
      "C:🤠 \t -0.14464 \t 1.04439 \t 1.24606 \t 5.7034\n",
      "C:🤠 \t -0.15394 \t 1.06569 \t 1.2778 \t 5.8174\n",
      "\t loss \t\t same mean \t diff mean \t same std\n",
      "A:😈 \t -0.15964 \t 1.05561 \t 1.27285 \t 5.76049\n",
      "A:😈 \t -0.16019 \t 1.05781 \t 1.27573 \t 5.77247\n",
      "A:😈 \t -0.15956 \t 1.06399 \t 1.28161 \t 5.80598\n",
      "A:😈 \t -0.15945 \t 1.06042 \t 1.27774 \t 5.78661\n",
      "A:😈 \t -0.15941 \t 1.05526 \t 1.27226 \t 5.75858\n",
      "A:😈 \t -0.15923 \t 1.05565 \t 1.27248 \t 5.76067\n",
      "A:😈 \t -0.15888 \t 1.05951 \t 1.2762 \t 5.78163\n",
      "A:😈 \t -0.1588 \t 1.06326 \t 1.28008 \t 5.80197\n",
      "A:😈 \t -0.15872 \t 1.06466 \t 1.28148 \t 5.80958\n",
      "A:😈 \t -0.1586 \t 1.06393 \t 1.28059 \t 5.80562\n",
      "\t loss \t\t same mean \t diff mean \t same std\n",
      "C:🤠 \t -0.15849 \t 1.0626 \t 1.27908 \t 5.7984\n",
      "C:🤠 \t -0.11655 \t 0.95461 \t 1.12336 \t 5.22005\n",
      "C:🤠 \t -0.15895 \t 1.08255 \t 1.30057 \t 5.90739\n",
      "C:🤠 \t -0.13433 \t 0.92432 \t 1.10909 \t 5.04373\n",
      "C:🤠 \t -0.14098 \t 0.94525 \t 1.13781 \t 5.15809\n",
      "C:🤠 \t -0.16312 \t 1.05492 \t 1.27561 \t 5.75638\n",
      "C:🤠 \t -0.15949 \t 1.08691 \t 1.30573 \t 5.93339\n",
      "C:🤠 \t -0.15045 \t 1.06581 \t 1.27447 \t 5.82069\n",
      "C:🤠 \t -0.15734 \t 1.07883 \t 1.29507 \t 5.89065\n",
      "C:🤠 \t -0.16887 \t 1.08376 \t 1.31178 \t 5.91538\n",
      "\t loss \t\t same mean \t diff mean \t same std\n",
      "A:😈 \t -0.1674 \t 1.03608 \t 1.26003 \t 5.6546\n",
      "A:😈 \t -0.16806 \t 1.03984 \t 1.26465 \t 5.67504\n",
      "A:😈 \t -0.16738 \t 1.03495 \t 1.25882 \t 5.64847\n",
      "A:😈 \t -0.16716 \t 1.03478 \t 1.25842 \t 5.64755\n",
      "A:😈 \t -0.16689 \t 1.03946 \t 1.26309 \t 5.67297\n",
      "A:😈 \t -0.16694 \t 1.04471 \t 1.26866 \t 5.70144\n",
      "A:😈 \t -0.16691 \t 1.0466 \t 1.27063 \t 5.71175\n",
      "A:😈 \t -0.16665 \t 1.04588 \t 1.2696 \t 5.70779\n",
      "A:😈 \t -0.16636 \t 1.04373 \t 1.26705 \t 5.6961\n",
      "A:😈 \t -0.16621 \t 1.04145 \t 1.2645 \t 5.68369\n",
      "\t loss \t\t same mean \t diff mean \t same std\n",
      "C:🤠 \t -0.16615 \t 1.04063 \t 1.26357 \t 5.67923\n",
      "C:🤠 \t -0.11866 \t 0.94881 \t 1.11938 \t 5.19095\n",
      "C:🤠 \t -0.15676 \t 1.08514 \t 1.30116 \t 5.9255\n",
      "C:🤠 \t -0.16462 \t 1.03507 \t 1.25617 \t 5.64822\n",
      "C:🤠 \t -0.14851 \t 0.95492 \t 1.15554 \t 5.21148\n",
      "C:🤠 \t -0.16231 \t 1.01179 \t 1.22932 \t 5.52184\n",
      "C:🤠 \t -0.17613 \t 1.09662 \t 1.3326 \t 5.9851\n",
      "C:🤠 \t -0.16866 \t 1.10961 \t 1.33885 \t 6.05816\n",
      "C:🤠 \t -0.16419 \t 1.10517 \t 1.3297 \t 6.03479\n",
      "C:🤠 \t -0.17267 \t 1.12201 \t 1.35593 \t 6.12496\n",
      "\t loss \t\t same mean \t diff mean \t same std\n",
      "A:😈 \t -0.18127 \t 1.11596 \t 1.35813 \t 6.09005\n",
      "A:😈 \t -0.18239 \t 1.1267 \t 1.37057 \t 6.14842\n",
      "A:😈 \t -0.18129 \t 1.12036 \t 1.36279 \t 6.11392\n",
      "A:😈 \t -0.18133 \t 1.11444 \t 1.35658 \t 6.08179\n",
      "A:😈 \t -0.181 \t 1.11609 \t 1.358 \t 6.09076\n",
      "A:😈 \t -0.18068 \t 1.12072 \t 1.36255 \t 6.11585\n",
      "A:😈 \t -0.18079 \t 1.12412 \t 1.36625 \t 6.13431\n",
      "A:😈 \t -0.18069 \t 1.12567 \t 1.36778 \t 6.14273\n",
      "A:😈 \t -0.18037 \t 1.12572 \t 1.36752 \t 6.143\n",
      "A:😈 \t -0.18013 \t 1.12463 \t 1.36613 \t 6.13706\n",
      "\t loss \t\t same mean \t diff mean \t same std\n",
      "C:🤠 \t -0.18014 \t 1.12343 \t 1.36487 \t 6.13056\n",
      "C:🤠 \t -0.15391 \t 0.93659 \t 1.14165 \t 5.11418\n",
      "C:🤠 \t -0.17133 \t 1.07757 \t 1.30774 \t 5.88465\n",
      "C:🤠 \t -0.16547 \t 1.10716 \t 1.33309 \t 6.04645\n",
      "C:🤠 \t -0.18252 \t 1.15188 \t 1.39726 \t 6.28619\n",
      "C:🤠 \t -0.18165 \t 1.09821 \t 1.33978 \t 5.99168\n",
      "C:🤠 \t -0.17611 \t 1.06012 \t 1.29407 \t 5.78424\n",
      "C:🤠 \t -0.18624 \t 1.10271 \t 1.34912 \t 6.01693\n",
      "C:🤠 \t -0.19102 \t 1.14627 \t 1.39985 \t 6.25601\n",
      "C:🤠 \t -0.18611 \t 1.14359 \t 1.39214 \t 6.24356\n",
      "\t loss \t\t same mean \t diff mean \t same std\n",
      "A:😈 \t -0.18854 \t 1.13873 \t 1.38944 \t 6.21743\n",
      "A:😈 \t -0.18992 \t 1.1509 \t 1.40365 \t 6.28348\n",
      "A:😈 \t -0.18865 \t 1.14485 \t 1.396 \t 6.25062\n",
      "A:😈 \t -0.1883 \t 1.13621 \t 1.38655 \t 6.20374\n",
      "A:😈 \t -0.18868 \t 1.13366 \t 1.38424 \t 6.18992\n",
      "A:😈 \t -0.18811 \t 1.13788 \t 1.38812 \t 6.21279\n",
      "A:😈 \t -0.18787 \t 1.14236 \t 1.39261 \t 6.23709\n",
      "A:😈 \t -0.188 \t 1.14467 \t 1.39517 \t 6.24961\n",
      "A:😈 \t -0.18794 \t 1.14498 \t 1.39543 \t 6.25126\n",
      "A:😈 \t -0.18766 \t 1.14396 \t 1.39408 \t 6.24573\n",
      "\t loss \t\t same mean \t diff mean \t same std\n",
      "C:🤠 \t -0.18745 \t 1.14211 \t 1.39192 \t 6.23571\n",
      "C:🤠 \t -0.14035 \t 0.89514 \t 1.08435 \t 4.88563\n",
      "C:🤠 \t -0.17886 \t 1.06624 \t 1.30327 \t 5.81748\n",
      "C:🤠 \t -0.18617 \t 1.1617 \t 1.41127 \t 6.34075\n",
      "C:🤠 \t -0.17554 \t 1.13816 \t 1.37587 \t 6.21608\n",
      "C:🤠 \t -0.18841 \t 1.13995 \t 1.39061 \t 6.22528\n",
      "C:🤠 \t -0.19682 \t 1.10642 \t 1.36365 \t 6.04143\n",
      "C:🤠 \t -0.1896 \t 1.04479 \t 1.29144 \t 5.70511\n",
      "C:🤠 \t -0.1881 \t 1.03464 \t 1.27923 \t 5.64936\n",
      "C:🤠 \t -0.19882 \t 1.08999 \t 1.34832 \t 5.9504\n",
      "\t loss \t\t same mean \t diff mean \t same std\n",
      "A:😈 \t -0.207 \t 1.15914 \t 1.4294 \t 6.3268\n",
      "A:😈 \t -0.20759 \t 1.16621 \t 1.43745 \t 6.36523\n",
      "A:😈 \t -0.20713 \t 1.16251 \t 1.43308 \t 6.3451\n",
      "A:😈 \t -0.20663 \t 1.16429 \t 1.43446 \t 6.35477\n",
      "A:😈 \t -0.20645 \t 1.16714 \t 1.43729 \t 6.37023\n",
      "A:😈 \t -0.20645 \t 1.16757 \t 1.43775 \t 6.37257\n",
      "A:😈 \t -0.20639 \t 1.16651 \t 1.43657 \t 6.3668\n",
      "A:😈 \t -0.2063 \t 1.16572 \t 1.43565 \t 6.36253\n",
      "A:😈 \t -0.20611 \t 1.16682 \t 1.43661 \t 6.36847\n",
      "A:😈 \t -0.20592 \t 1.16877 \t 1.43847 \t 6.37903\n",
      "\t loss \t\t same mean \t diff mean \t same std\n",
      "C:🤠 \t -0.20575 \t 1.17 \t 1.4396 \t 6.3857\n",
      "C:🤠 \t -0.17704 \t 1.04778 \t 1.28198 \t 5.7165\n",
      "C:🤠 \t -0.19084 \t 1.1666 \t 1.42113 \t 6.36799\n",
      "C:🤠 \t -0.19793 \t 1.17882 \t 1.44111 \t 6.43605\n",
      "C:🤠 \t -0.21013 \t 1.14639 \t 1.4191 \t 6.25848\n",
      "C:🤠 \t -0.20204 \t 1.07562 \t 1.33639 \t 5.8731\n",
      "C:🤠 \t -0.20696 \t 1.09623 \t 1.36304 \t 5.9854\n",
      "C:🤠 \t -0.21362 \t 1.15508 \t 1.43176 \t 6.30611\n",
      "C:🤠 \t -0.21097 \t 1.18119 \t 1.45665 \t 6.44861\n",
      "C:🤠 \t -0.21386 \t 1.19046 \t 1.46931 \t 6.49834\n",
      "\t loss \t\t same mean \t diff mean \t same std\n",
      "A:😈 \t -0.21966 \t 1.18036 \t 1.46444 \t 6.44208\n",
      "A:😈 \t -0.2222 \t 1.1692 \t 1.45521 \t 6.38156\n",
      "A:😈 \t -0.21954 \t 1.17989 \t 1.46382 \t 6.43949\n",
      "A:😈 \t -0.21995 \t 1.18528 \t 1.46992 \t 6.46879\n",
      "A:😈 \t -0.22045 \t 1.18726 \t 1.4725 \t 6.47952\n",
      "A:😈 \t -0.22029 \t 1.18779 \t 1.47291 \t 6.48241\n",
      "A:😈 \t -0.21969 \t 1.1873 \t 1.47178 \t 6.47971\n",
      "A:😈 \t -0.21901 \t 1.18578 \t 1.4695 \t 6.47145\n",
      "A:😈 \t -0.21878 \t 1.18319 \t 1.46655 \t 6.45741\n",
      "A:😈 \t -0.21919 \t 1.18115 \t 1.4648 \t 6.44631\n",
      "\t loss \t\t same mean \t diff mean \t same std\n",
      "C:🤠 \t -0.21903 \t 1.1823 \t 1.46585 \t 6.45255\n",
      "C:🤠 \t -0.19807 \t 1.05542 \t 1.31113 \t 5.76384\n"
     ]
    },
    {
     "ename": "KeyboardInterrupt",
     "evalue": "",
     "output_type": "error",
     "traceback": [
      "\u001b[0;31m---------------------------------------------------------------------------\u001b[0m",
      "\u001b[0;31mKeyboardInterrupt\u001b[0m                         Traceback (most recent call last)",
      "\u001b[0;32m/var/folders/t4/vdzymfw562g8ml8ks_2b5l5r0000gn/T/ipykernel_7342/3621823964.py\u001b[0m in \u001b[0;36m<module>\u001b[0;34m\u001b[0m\n\u001b[1;32m     35\u001b[0m         \u001b[0mcontraLossPoisoned1\u001b[0m \u001b[0;34m=\u001b[0m \u001b[0mlossContraF\u001b[0m\u001b[0;34m(\u001b[0m\u001b[0mcontraOutPoisoned1\u001b[0m\u001b[0;34m,\u001b[0m\u001b[0mlabel_mat_train\u001b[0m\u001b[0;34m)\u001b[0m\u001b[0;34m\u001b[0m\u001b[0;34m\u001b[0m\u001b[0m\n\u001b[1;32m     36\u001b[0m \u001b[0;34m\u001b[0m\u001b[0m\n\u001b[0;32m---> 37\u001b[0;31m         \u001b[0mcontraLossPoisoned1\u001b[0m\u001b[0;34m.\u001b[0m\u001b[0mbackward\u001b[0m\u001b[0;34m(\u001b[0m\u001b[0;34m)\u001b[0m\u001b[0;34m\u001b[0m\u001b[0;34m\u001b[0m\u001b[0m\n\u001b[0m\u001b[1;32m     38\u001b[0m         \u001b[0moptContra\u001b[0m\u001b[0;34m.\u001b[0m\u001b[0mstep\u001b[0m\u001b[0;34m(\u001b[0m\u001b[0;34m)\u001b[0m\u001b[0;34m\u001b[0m\u001b[0;34m\u001b[0m\u001b[0m\n",
      "\u001b[0;32m~/.conda/envs/TSP/lib/python3.10/site-packages/torch/_tensor.py\u001b[0m in \u001b[0;36mbackward\u001b[0;34m(self, gradient, retain_graph, create_graph, inputs)\u001b[0m\n\u001b[1;32m    486\u001b[0m                 \u001b[0minputs\u001b[0m\u001b[0;34m=\u001b[0m\u001b[0minputs\u001b[0m\u001b[0;34m,\u001b[0m\u001b[0;34m\u001b[0m\u001b[0;34m\u001b[0m\u001b[0m\n\u001b[1;32m    487\u001b[0m             )\n\u001b[0;32m--> 488\u001b[0;31m         torch.autograd.backward(\n\u001b[0m\u001b[1;32m    489\u001b[0m             \u001b[0mself\u001b[0m\u001b[0;34m,\u001b[0m \u001b[0mgradient\u001b[0m\u001b[0;34m,\u001b[0m \u001b[0mretain_graph\u001b[0m\u001b[0;34m,\u001b[0m \u001b[0mcreate_graph\u001b[0m\u001b[0;34m,\u001b[0m \u001b[0minputs\u001b[0m\u001b[0;34m=\u001b[0m\u001b[0minputs\u001b[0m\u001b[0;34m\u001b[0m\u001b[0;34m\u001b[0m\u001b[0m\n\u001b[1;32m    490\u001b[0m         )\n",
      "\u001b[0;32m~/.conda/envs/TSP/lib/python3.10/site-packages/torch/autograd/__init__.py\u001b[0m in \u001b[0;36mbackward\u001b[0;34m(tensors, grad_tensors, retain_graph, create_graph, grad_variables, inputs)\u001b[0m\n\u001b[1;32m    195\u001b[0m     \u001b[0;31m# some Python versions print out the first line of a multi-line function\u001b[0m\u001b[0;34m\u001b[0m\u001b[0;34m\u001b[0m\u001b[0m\n\u001b[1;32m    196\u001b[0m     \u001b[0;31m# calls in the traceback and some print out the last line\u001b[0m\u001b[0;34m\u001b[0m\u001b[0;34m\u001b[0m\u001b[0m\n\u001b[0;32m--> 197\u001b[0;31m     Variable._execution_engine.run_backward(  # Calls into the C++ engine to run the backward pass\n\u001b[0m\u001b[1;32m    198\u001b[0m         \u001b[0mtensors\u001b[0m\u001b[0;34m,\u001b[0m \u001b[0mgrad_tensors_\u001b[0m\u001b[0;34m,\u001b[0m \u001b[0mretain_graph\u001b[0m\u001b[0;34m,\u001b[0m \u001b[0mcreate_graph\u001b[0m\u001b[0;34m,\u001b[0m \u001b[0minputs\u001b[0m\u001b[0;34m,\u001b[0m\u001b[0;34m\u001b[0m\u001b[0;34m\u001b[0m\u001b[0m\n\u001b[1;32m    199\u001b[0m         allow_unreachable=True, accumulate_grad=True)  # Calls into the C++ engine to run the backward pass\n",
      "\u001b[0;31mKeyboardInterrupt\u001b[0m: "
     ]
    }
   ],
   "source": [
    "feas_clean = extract_node_feature(vers_train,adjs_train)\n",
    "\n",
    "for contraI in range(100):\n",
    "    optAtk = optim.Adam(atkG.weights + atkM.weights,lr = atkLR)\n",
    "    \n",
    "    print(\"\\t loss \\t\\t same mean \\t diff mean \\t same std\")\n",
    "\n",
    "    for atkI in range(10):\n",
    "        optAtk.zero_grad()\n",
    "        atkOut = atkM.forward(atkG.forward(nadjs_train,feas_clean))\n",
    "        poisonedVers = translate_by_group(vers_train,gMats_train,atkOut)\n",
    "\n",
    "        feas_poisoned = extract_node_feature(poisonedVers,adjs_train)\n",
    "\n",
    "        contraOutPoisoned = contraM.forward(contraG.forward(nadjs_train,feas_poisoned))\n",
    "        contraLossPoisoned = lossAtkF(contraOutPoisoned,label_mat_train)\n",
    "\n",
    "        contraLossPoisoned.backward()\n",
    "        optAtk.step()\n",
    "        \n",
    "    optContra = optim.Adam(contraG.weights + contraM.weights,lr = contraLR)\n",
    "    print(\"\\t loss \\t\\t same mean \\t diff mean \\t same std\")\n",
    "        \n",
    "    for contraI in range(10):\n",
    "        optContra.zero_grad()\n",
    "        \n",
    "#         atkOutFlat1 = atkM.forward(atkG.forward(nadjs_train,feas_clean)) * max_poison\n",
    "#         atkOut1 = torch.reshape(atkOutFlat1,[train_size,K,3])\n",
    "        atkOut1 = atkM.forward(atkG.forward(nadjs_train,feas_clean))\n",
    "        poisonedVers1 = translate_by_group(vers_train,gMats_train,atkOut1)\n",
    "        \n",
    "        feas_poisoned1 = extract_node_feature(poisonedVers1,adjs_train)\n",
    "        \n",
    "        contraOutPoisoned1 = contraM.forward(contraG.forward(nadjs_train,feas_poisoned1))\n",
    "        contraLossPoisoned1 = lossContraF(contraOutPoisoned1,label_mat_train)\n",
    "    \n",
    "        contraLossPoisoned1.backward()\n",
    "        optContra.step()"
   ]
  },
  {
   "cell_type": "markdown",
   "id": "93ffc0c5",
   "metadata": {
    "collapsed": true,
    "slideshow": {
     "slide_type": "skip"
    }
   },
   "source": [
    "## 3.7 Seeing how it does on Test Data"
   ]
  },
  {
   "cell_type": "code",
   "execution_count": 87,
   "id": "2cee83e1",
   "metadata": {},
   "outputs": [
    {
     "name": "stdout",
     "output_type": "stream",
     "text": [
      "torch.Size([450, 5, 3])\n",
      "torch.Size([450, 252, 3])\n",
      "torch.Size([450, 252, 5])\n",
      "C:🤠 \t -0.15567 \t 1.09101 \t 1.30633 \t 5.96409\n",
      "C:🤠 \t -0.09521 \t 0.27421 \t 0.38457 \t 1.51418\n"
     ]
    }
   ],
   "source": [
    "feas_clean_test = extract_node_feature(vers_test,adjs_test)\n",
    "\n",
    "atkTest = atkM.forward(atkG.forward(nadjs_test,feas_clean_test))\n",
    "print(atkTest.shape)\n",
    "print(vers_test.shape)\n",
    "print(gMats_test.shape)\n",
    "\n",
    "poisonedVersTest = translate_by_group(vers_test,gMats_test,atkTest)\n",
    "        \n",
    "feas_poisoned_test = extract_node_feature(poisonedVersTest,adjs_test)\n",
    "        \n",
    "contraOutPoisonedTest = contraM.forward(contraG.forward(nadjs_test,feas_poisoned_test))\n",
    "contraLossPoisonedTest = lossContraF(contraOutPoisonedTest,label_mat_test)\n",
    "\n",
    "contraOutCleanTest = contraM.forward(contraG.forward(nadjs_test,feas_clean_test))\n",
    "contraLossCleanTest = lossContraF(contraOutCleanTest,label_mat_test)"
   ]
  },
  {
   "cell_type": "code",
   "execution_count": null,
   "id": "c372b157",
   "metadata": {
    "collapsed": true
   },
   "outputs": [],
   "source": []
  },
  {
   "cell_type": "code",
   "execution_count": null,
   "id": "38c3877d",
   "metadata": {
    "collapsed": true
   },
   "outputs": [],
   "source": []
  },
  {
   "cell_type": "code",
   "execution_count": null,
   "id": "813aec57",
   "metadata": {
    "collapsed": true
   },
   "outputs": [],
   "source": []
  },
  {
   "cell_type": "code",
   "execution_count": 24,
   "id": "5d3800b0",
   "metadata": {},
   "outputs": [],
   "source": [
    "plt.clf()"
   ]
  },
  {
   "cell_type": "code",
   "execution_count": 31,
   "id": "f334336a",
   "metadata": {
    "slideshow": {
     "slide_type": "skip"
    }
   },
   "outputs": [
    {
     "name": "stdout",
     "output_type": "stream",
     "text": [
      "(1350, 252, 3)\n"
     ]
    },
    {
     "data": {
      "application/vnd.jupyter.widget-view+json": {
       "model_id": "d6e284ca7a3c4403bd2b5bf605e908d8",
       "version_major": 2,
       "version_minor": 0
      },
      "image/png": "[encoded data removed]",
      "text/html": [
       "\n",
       "            <div style=\"display: inline-block;\">\n",
       "                <div class=\"jupyter-widgets widget-label\" style=\"text-align: center;\">\n",
       "                    Figure\n",
       "                </div>\n",
       "                <img src='data:image/png;base64,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' width=640.0/>\n",
       "            </div>\n",
       "        "
      ],
      "text/plain": [
       "Canvas(toolbar=Toolbar(toolitems=[('Home', 'Reset original view', 'home', 'home'), ('Back', 'Back to previous …"
      ]
     },
     "metadata": {},
     "output_type": "display_data"
    }
   ],
   "source": [
    "from mpl_toolkits.mplot3d import axes3d\n",
    "\n",
    "\n",
    "index_in_question = 5\n",
    "\n",
    "#Plot first clustered mesh\n",
    "dataPlot = vers[index_in_question]\n",
    "\n",
    "fig = plt.figure()\n",
    "ax = fig.add_subplot(121,projection='3d')\n",
    "\n",
    "ax.scatter(dataPlot[:,0], dataPlot[:,1], dataPlot[:,2], label=gLbls[index_in_question,:], c = gLbls[index_in_question,:], cmap = 'viridis',s = 3)\n",
    "ax.set_title('clean')\n",
    "\n",
    "plt.axis('off')\n",
    "\n",
    "#Plot second clustered point coud\n",
    "#get poison\n",
    "atkOut = atkM.forward(atkG.forward(nadjs_train,feas_clean))\n",
    "poisonedVers = translate_by_group(vers_train,gMats_train,atkOut).detach().numpy()\n",
    "\n",
    "print(poisonedVers.shape)\n",
    "#poisioedVers = np.zeros([1350,252,3])\n",
    "poisonedDataPlot = vers[index_in_question] + poisonedVers[index_in_question]\n",
    "\n",
    "ax = fig.add_subplot(122,projection='3d')\n",
    "\n",
    "ax.scatter(poisonedDataPlot[:,0], poisonedDataPlot[:,1], poisonedDataPlot[:,2], label=gLbls[index_in_question,:], c = gLbls[index_in_question,:], cmap = 'viridis', s = 3)\n",
    "ax.set_title('poisoned')\n",
    "\n",
    "plt.axis('off')\n",
    "\n",
    "plt.show()"
   ]
  },
  {
   "cell_type": "code",
   "execution_count": null,
   "id": "f511ee37",
   "metadata": {
    "collapsed": true
   },
   "outputs": [],
   "source": [
    "# ax.axes.xaxis.set_ticklabels([])\n",
    "# ax.axes.yaxis.set_ticklabels([])\n",
    "# ax.axes.zaxis.set_ticklabels([])\n",
    "# ax.set_xlabel('X')\n",
    "# ax.set_ylabel('Y')\n",
    "# ax.set_zlabel('Z')"
   ]
  },
  {
   "cell_type": "code",
   "execution_count": null,
   "id": "18cd6f3c",
   "metadata": {
    "collapsed": true
   },
   "outputs": [],
   "source": []
  },
  {
   "cell_type": "code",
   "execution_count": null,
   "id": "5d3c9cea",
   "metadata": {
    "collapsed": true
   },
   "outputs": [],
   "source": []
  },
  {
   "cell_type": "code",
   "execution_count": null,
   "id": "9889f156",
   "metadata": {
    "collapsed": true
   },
   "outputs": [],
   "source": []
  },
  {
   "cell_type": "code",
   "execution_count": null,
   "id": "62e81bfe",
   "metadata": {
    "collapsed": true
   },
   "outputs": [],
   "source": []
  }
 ],
 "metadata": {
  "kernelspec": {
   "display_name": "Python 3 (ipykernel)",
   "language": "python",
   "name": "python3"
  },
  "language_info": {
   "codemirror_mode": {
    "name": "ipython",
    "version": 3
   },
   "file_extension": ".py",
   "mimetype": "text/x-python",
   "name": "python",
   "nbconvert_exporter": "python",
   "pygments_lexer": "ipython3",
   "version": "3.10.9"
  }
 },
 "nbformat": 4,
 "nbformat_minor": 5
}
