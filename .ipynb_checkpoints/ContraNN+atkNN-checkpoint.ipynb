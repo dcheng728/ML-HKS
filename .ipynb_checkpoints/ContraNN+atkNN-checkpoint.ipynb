{
 "cells": [
  {
   "cell_type": "code",
   "execution_count": 1,
   "id": "e9ab7b6e",
   "metadata": {
    "slideshow": {
     "slide_type": "slide"
    }
   },
   "outputs": [],
   "source": [
    "import torch.optim as optim\n",
    "import torch\n",
    "import numpy as np\n",
    "import matplotlib.pyplot as plt\n",
    "import random\n",
    "import os\n",
    "import prettytable as pt\n",
    "%run helpers_preproc.ipynb\n",
    "%matplotlib widget"
   ]
  },
  {
   "cell_type": "markdown",
   "id": "4b2719b0",
   "metadata": {
    "slideshow": {
     "slide_type": "skip"
    }
   },
   "source": [
    "# Hyper Parameters"
   ]
  },
  {
   "cell_type": "code",
   "execution_count": 2,
   "id": "b34c00ab",
   "metadata": {
    "slideshow": {
     "slide_type": "slide"
    }
   },
   "outputs": [],
   "source": [
    "origDataDir = 'SHREC11/'\n",
    "newDataDir = 'SHREC11_plus/'\n",
    "K = 5\n",
    "radiuss = [0.0002,0.0004,0.0008]\n",
    "train_size = 450 * len(radiuss)\n",
    "test_size = (600-450) * len(radiuss)"
   ]
  },
  {
   "cell_type": "markdown",
   "id": "684373cc",
   "metadata": {
    "slideshow": {
     "slide_type": "slide"
    }
   },
   "source": [
    "# 1. expand dataset and scramble"
   ]
  },
  {
   "cell_type": "code",
   "execution_count": 3,
   "id": "848dd975",
   "metadata": {
    "slideshow": {
     "slide_type": "fragment"
    }
   },
   "outputs": [],
   "source": [
    "expand(origDataDir, newDataDir, radiuss)\n",
    "scramble(newDataDir, 10000,600 * len(radiuss))"
   ]
  },
  {
   "cell_type": "markdown",
   "id": "eca467ac",
   "metadata": {
    "slideshow": {
     "slide_type": "slide"
    }
   },
   "source": [
    "# 2. read in the dataset"
   ]
  },
  {
   "cell_type": "markdown",
   "id": "51110c1a",
   "metadata": {
    "slideshow": {
     "slide_type": "slide"
    }
   },
   "source": [
    "## 2.1 read in v (252 x 3),f (...x...) and cluster"
   ]
  },
  {
   "cell_type": "code",
   "execution_count": 4,
   "id": "1428b3a4",
   "metadata": {
    "slideshow": {
     "slide_type": "fragment"
    }
   },
   "outputs": [
    {
     "name": "stderr",
     "output_type": "stream",
     "text": [
      "/var/folders/t4/vdzymfw562g8ml8ks_2b5l5r0000gn/T/ipykernel_14613/2399023897.py:12: RuntimeWarning: invalid value encountered in true_divide\n",
      "  normed_adj = adj / np.reshape(np.sum(adj,axis = 0),[252,1])\n"
     ]
    }
   ],
   "source": [
    "ver_list = []\n",
    "adj_list = []\n",
    "Nadj_list = []\n",
    "gMat_list = []\n",
    "gLbl_list = []\n",
    "\n",
    "for i in range(600 * len(radiuss)):\n",
    "    v, f = get_nodes(newDataDir + 'T' + str(i) + '.obj')\n",
    "    group_mat, group_labels = K_mean_cluster(v, K)\n",
    "    \n",
    "    adj = get_adj_from_f(f)            \n",
    "    normed_adj = adj / np.reshape(np.sum(adj,axis = 0),[252,1])\n",
    "    ver_list.append(v)\n",
    "    adj_list.append(adj)\n",
    "    Nadj_list.append(normed_adj)\n",
    "    gMat_list.append(group_mat)\n",
    "    gLbl_list.append(group_labels)\n",
    "    \n",
    "    \n",
    "vers = np.array(ver_list)\n",
    "adjs = np.array(adj_list)\n",
    "Nadjs = np.array(Nadj_list)\n",
    "gMats = np.array(gMat_list)\n",
    "gLbls = np.array(gLbl_list)"
   ]
  },
  {
   "cell_type": "markdown",
   "id": "013d531c",
   "metadata": {
    "slideshow": {
     "slide_type": "slide"
    }
   },
   "source": [
    "## 2.2 Read in the labels"
   ]
  },
  {
   "cell_type": "code",
   "execution_count": 5,
   "id": "3d47dac9",
   "metadata": {
    "slideshow": {
     "slide_type": "fragment"
    }
   },
   "outputs": [],
   "source": [
    "label_np = np.array(readLbl(600 * len(radiuss),newDataDir+'labels.txt'))\n",
    "label_np_train = label_np[:train_size]\n",
    "label_np_test = label_np[train_size:]"
   ]
  },
  {
   "cell_type": "markdown",
   "id": "5329a9ea",
   "metadata": {
    "slideshow": {
     "slide_type": "slide"
    }
   },
   "source": [
    "## 2.3 Split into training set and testing set"
   ]
  },
  {
   "cell_type": "code",
   "execution_count": 6,
   "id": "bb6dcc36",
   "metadata": {
    "slideshow": {
     "slide_type": "fragment"
    }
   },
   "outputs": [],
   "source": [
    "vers_train = torch.tensor(vers[:train_size]).float()\n",
    "adjs_train = torch.tensor(adjs[:train_size]).float()\n",
    "nadjs_train = torch.nan_to_num(torch.tensor(Nadjs[:train_size]).float(),0,0,0)\n",
    "gMats_train = torch.tensor(gMats[:train_size]).float()\n",
    "label_train = torch.tensor(label_np_train).float()\n",
    "\n",
    "vers_test = torch.tensor(vers[train_size:]).float()\n",
    "adjs_test = torch.tensor(adjs[train_size:]).float()\n",
    "nadjs_test = torch.nan_to_num(torch.tensor(Nadjs[train_size:]).float(),0,0,0)\n",
    "gMats_test = torch.tensor(gMats[train_size:]).float()\n",
    "label_test = torch.tensor(label_np_test).float()\n",
    "\n",
    "label_mat_train = torch.tensor(np.where(igl.all_pairs_distances(label_np_train,label_np_train,False) > 0.5,0,1)).float()\n",
    "label_mat_test = torch.tensor(np.where(igl.all_pairs_distances(label_np_test,label_np_test,False) > 0.5,0,1)).float()"
   ]
  },
  {
   "cell_type": "code",
   "execution_count": 7,
   "id": "fea6b4a9",
   "metadata": {
    "slideshow": {
     "slide_type": "skip"
    }
   },
   "outputs": [],
   "source": [
    "#detect_nan(label_mat_train)"
   ]
  },
  {
   "cell_type": "code",
   "execution_count": 8,
   "id": "3e64d719",
   "metadata": {
    "slideshow": {
     "slide_type": "skip"
    }
   },
   "outputs": [],
   "source": [
    "#label_mat_train"
   ]
  },
  {
   "cell_type": "code",
   "execution_count": 9,
   "id": "2ec635db",
   "metadata": {
    "slideshow": {
     "slide_type": "skip"
    }
   },
   "outputs": [],
   "source": [
    "#print message about training and testing dataset\n",
    "# print(vers_train.shape)\n",
    "# print(adjs_train.shape)\n",
    "# print(nadjs_train.shape)\n",
    "# print(gMats_train.shape)"
   ]
  },
  {
   "cell_type": "code",
   "execution_count": null,
   "id": "e5759f9c",
   "metadata": {
    "slideshow": {
     "slide_type": "skip"
    }
   },
   "outputs": [],
   "source": []
  },
  {
   "cell_type": "markdown",
   "id": "58ac61b4",
   "metadata": {
    "slideshow": {
     "slide_type": "slide"
    }
   },
   "source": [
    "# 3. Training"
   ]
  },
  {
   "cell_type": "markdown",
   "id": "1b06f3bb",
   "metadata": {
    "slideshow": {
     "slide_type": "slide"
    }
   },
   "source": [
    "## 3.1 Hyperparameters for training"
   ]
  },
  {
   "cell_type": "code",
   "execution_count": 10,
   "id": "5af46682",
   "metadata": {
    "slideshow": {
     "slide_type": "fragment"
    }
   },
   "outputs": [],
   "source": [
    "contraGWs = [5,5,5,5]\n",
    "contraMWs = [5,5,5,5]\n",
    "atkGWs = [5,5,5,5]\n",
    "atkMWs = [5,5,5,K * 3 + 1]"
   ]
  },
  {
   "cell_type": "markdown",
   "id": "71e6cccc",
   "metadata": {
    "slideshow": {
     "slide_type": "slide"
    }
   },
   "source": [
    "## 3.2 Initialize neural networks"
   ]
  },
  {
   "cell_type": "code",
   "execution_count": 84,
   "id": "832b8db7",
   "metadata": {
    "slideshow": {
     "slide_type": "fragment"
    }
   },
   "outputs": [],
   "source": [
    "%run NNs.ipynb\n",
    "%run helpers_preproc.ipynb\n",
    "contraG = GCN(3,contraGWs)\n",
    "contraM = MLP(252* contraGWs[len(contraGWs)-1],contraMWs)\n",
    "atkG = GCN(3,atkGWs)\n",
    "atkM = MLP_atk(252* atkGWs[len(contraGWs)-1], 10, K, atkMWs)"
   ]
  },
  {
   "cell_type": "code",
   "execution_count": null,
   "id": "6ee6d557",
   "metadata": {
    "slideshow": {
     "slide_type": "skip"
    }
   },
   "outputs": [],
   "source": []
  },
  {
   "cell_type": "markdown",
   "id": "d1510530",
   "metadata": {
    "slideshow": {
     "slide_type": "slide"
    }
   },
   "source": [
    "## 3.4 Extract node-level features from clean data"
   ]
  },
  {
   "cell_type": "code",
   "execution_count": 85,
   "id": "9ca6bd8a",
   "metadata": {
    "slideshow": {
     "slide_type": "fragment"
    }
   },
   "outputs": [],
   "source": [
    "feas_clean = extract_node_feature(vers_train,adjs_train)"
   ]
  },
  {
   "cell_type": "code",
   "execution_count": 86,
   "id": "f9ce8f8a",
   "metadata": {
    "slideshow": {
     "slide_type": "fragment"
    }
   },
   "outputs": [],
   "source": [
    "%run L.ipynb"
   ]
  },
  {
   "cell_type": "markdown",
   "id": "5bed8497",
   "metadata": {
    "slideshow": {
     "slide_type": "slide"
    }
   },
   "source": [
    "## 3.5 Feed clean data into contraNN🤠"
   ]
  },
  {
   "cell_type": "markdown",
   "id": "513d148f",
   "metadata": {
    "slideshow": {
     "slide_type": "slide"
    }
   },
   "source": [
    "## 3.6 Train atkNN😈 with contraNN🤠"
   ]
  },
  {
   "cell_type": "code",
   "execution_count": 87,
   "id": "f5d3147c",
   "metadata": {
    "slideshow": {
     "slide_type": "fragment"
    }
   },
   "outputs": [],
   "source": [
    "atkLR = 0.0001\n",
    "contraLR = 0.0001\n",
    "torch.set_printoptions(precision=10)"
   ]
  },
  {
   "cell_type": "code",
   "execution_count": 89,
   "id": "4e942233",
   "metadata": {
    "scrolled": true,
    "slideshow": {
     "slide_type": "fragment"
    }
   },
   "outputs": [
    {
     "name": "stdout",
     "output_type": "stream",
     "text": [
      "+------------------+----------+-----------+-----------+----------+\n",
      "|                  |   Loss   | Same Mean | Diff Mean | Same STD |\n",
      "+------------------+----------+-----------+-----------+----------+\n",
      "|  On Clean Data   | -0.28488 |  0.44845  |  0.78318  | 2.49189  |\n",
      "| On Poisoned Data | -0.13987 |  0.31523  |   0.4901  | 1.74997  |\n",
      "+------------------+----------+-----------+-----------+----------+\n",
      "+------------------+----------+-----------+-----------+----------+\n",
      "|                  |   Loss   | Same Mean | Diff Mean | Same STD |\n",
      "+------------------+----------+-----------+-----------+----------+\n",
      "|  On Clean Data   | -0.19289 |  0.28292  |   0.5075  | 1.58445  |\n",
      "| On Poisoned Data | -0.05171 |  0.12788  |  0.19412  | 0.72669  |\n",
      "+------------------+----------+-----------+-----------+----------+\n",
      "+------------------+----------+-----------+-----------+----------+\n",
      "|                  |   Loss   | Same Mean | Diff Mean | Same STD |\n",
      "+------------------+----------+-----------+-----------+----------+\n",
      "|  On Clean Data   | -0.07229 |  0.11556  |  0.20105  | 0.65996  |\n",
      "| On Poisoned Data | -0.01718 |  0.04859  |   0.0714  | 0.28123  |\n",
      "+------------------+----------+-----------+-----------+----------+\n",
      "+------------------+----------+-----------+-----------+----------+\n",
      "|                  |   Loss   | Same Mean | Diff Mean | Same STD |\n",
      "+------------------+----------+-----------+-----------+----------+\n",
      "|  On Clean Data   | -0.02857 |  0.04821  |  0.08231  | 0.27706  |\n",
      "| On Poisoned Data | -0.00714 |   0.0222  |  0.03187  | 0.12683  |\n",
      "+------------------+----------+-----------+-----------+----------+\n",
      "+------------------+----------+-----------+-----------+----------+\n",
      "|                  |   Loss   | Same Mean | Diff Mean | Same STD |\n",
      "+------------------+----------+-----------+-----------+----------+\n",
      "|  On Clean Data   | -0.01389 |  0.02388  |   0.0405  | 0.13661  |\n",
      "| On Poisoned Data | -0.00361 |  0.01266  |  0.01769  | 0.07123  |\n",
      "+------------------+----------+-----------+-----------+----------+\n",
      "+------------------+----------+-----------+-----------+----------+\n",
      "|                  |   Loss   | Same Mean | Diff Mean | Same STD |\n",
      "+------------------+----------+-----------+-----------+----------+\n",
      "|  On Clean Data   | -0.00792 |   0.0138  |   0.0233  | 0.07852  |\n",
      "| On Poisoned Data | -0.00209 |  0.00849  |  0.01153  | 0.04731  |\n",
      "+------------------+----------+-----------+-----------+----------+\n",
      "+------------------+----------+-----------+-----------+----------+\n",
      "|                  |   Loss   | Same Mean | Diff Mean | Same STD |\n",
      "+------------------+----------+-----------+-----------+----------+\n",
      "|  On Clean Data   |  -0.005  |  0.00896  |  0.01498  | 0.05082  |\n",
      "| On Poisoned Data | -0.00135 |  0.00635  |  0.00841  | 0.03519  |\n",
      "+------------------+----------+-----------+-----------+----------+\n",
      "+------------------+----------+-----------+-----------+----------+\n",
      "|                  |   Loss   | Same Mean | Diff Mean | Same STD |\n",
      "+------------------+----------+-----------+-----------+----------+\n",
      "|  On Clean Data   | -0.0034  |  0.00634  |  0.01046  | 0.03588  |\n",
      "| On Poisoned Data | -0.00096 |  0.00511  |  0.00663  | 0.02822  |\n",
      "+------------------+----------+-----------+-----------+----------+\n",
      "+------------------+----------+-----------+-----------+----------+\n",
      "|                  |   Loss   | Same Mean | Diff Mean | Same STD |\n",
      "+------------------+----------+-----------+-----------+----------+\n",
      "|  On Clean Data   | -0.00246 |  0.00478  |  0.00779  | 0.02707  |\n",
      "| On Poisoned Data | -0.00073 |  0.00432  |  0.00552  | 0.02382  |\n",
      "+------------------+----------+-----------+-----------+----------+\n",
      "+------------------+----------+-----------+-----------+----------+\n",
      "|                  |   Loss   | Same Mean | Diff Mean | Same STD |\n",
      "+------------------+----------+-----------+-----------+----------+\n",
      "|  On Clean Data   | -0.00187 |  0.00381  |  0.00611  | 0.02156  |\n",
      "| On Poisoned Data | -0.00059 |  0.00378  |  0.00478  | 0.02082  |\n",
      "+------------------+----------+-----------+-----------+----------+\n",
      "+------------------+----------+-----------+-----------+----------+\n",
      "|                  |   Loss   | Same Mean | Diff Mean | Same STD |\n",
      "+------------------+----------+-----------+-----------+----------+\n",
      "|  On Clean Data   | -0.00149 |  0.00315  |   0.005   | 0.01789  |\n",
      "| On Poisoned Data | -0.00049 |  0.00338  |  0.00425  | 0.01869  |\n",
      "+------------------+----------+-----------+-----------+----------+\n",
      "+------------------+----------+-----------+-----------+----------+\n",
      "|                  |   Loss   | Same Mean | Diff Mean | Same STD |\n",
      "+------------------+----------+-----------+-----------+----------+\n",
      "|  On Clean Data   | -0.00123 |  0.00271  |  0.00424  | 0.01537  |\n",
      "| On Poisoned Data | -0.00043 |  0.00309  |  0.00385  | 0.01707  |\n",
      "+------------------+----------+-----------+-----------+----------+\n",
      "+------------------+----------+-----------+-----------+----------+\n",
      "|                  |   Loss   | Same Mean | Diff Mean | Same STD |\n",
      "+------------------+----------+-----------+-----------+----------+\n",
      "|  On Clean Data   | -0.00104 |  0.00238  |   0.0037  | 0.01359  |\n",
      "| On Poisoned Data | -0.00038 |  0.00285  |  0.00355  | 0.01579  |\n",
      "+------------------+----------+-----------+-----------+----------+\n",
      "+------------------+----------+-----------+-----------+----------+\n",
      "|                  |   Loss   | Same Mean | Diff Mean | Same STD |\n",
      "+------------------+----------+-----------+-----------+----------+\n",
      "|  On Clean Data   | -0.00091 |  0.00214  |   0.0033  | 0.01223  |\n",
      "| On Poisoned Data | -0.00034 |  0.00267  |   0.0033  | 0.01482  |\n",
      "+------------------+----------+-----------+-----------+----------+\n",
      "+------------------+----------+-----------+-----------+----------+\n",
      "|                  |   Loss   | Same Mean | Diff Mean | Same STD |\n",
      "+------------------+----------+-----------+-----------+----------+\n",
      "|  On Clean Data   | -0.00081 |  0.00196  |  0.00299  | 0.01123  |\n",
      "| On Poisoned Data | -0.00031 |  0.00251  |   0.0031  | 0.01399  |\n",
      "+------------------+----------+-----------+-----------+----------+\n",
      "+------------------+----------+-----------+-----------+----------+\n",
      "|                  |   Loss   | Same Mean | Diff Mean | Same STD |\n",
      "+------------------+----------+-----------+-----------+----------+\n",
      "|  On Clean Data   | -0.00074 |  0.00182  |  0.00276  | 0.01043  |\n",
      "| On Poisoned Data | -0.00029 |  0.00238  |  0.00294  |  0.0133  |\n",
      "+------------------+----------+-----------+-----------+----------+\n",
      "+------------------+----------+-----------+-----------+----------+\n",
      "|                  |   Loss   | Same Mean | Diff Mean | Same STD |\n",
      "+------------------+----------+-----------+-----------+----------+\n",
      "|  On Clean Data   | -0.00067 |  0.00171  |  0.00258  | 0.00985  |\n",
      "| On Poisoned Data | -0.00027 |  0.00228  |   0.0028  | 0.01273  |\n",
      "+------------------+----------+-----------+-----------+----------+\n",
      "+------------------+----------+-----------+-----------+----------+\n",
      "|                  |   Loss   | Same Mean | Diff Mean | Same STD |\n",
      "+------------------+----------+-----------+-----------+----------+\n",
      "|  On Clean Data   | -0.00062 |  0.00162  |  0.00243  | 0.00938  |\n",
      "| On Poisoned Data | -0.00025 |  0.00219  |  0.00268  | 0.01228  |\n",
      "+------------------+----------+-----------+-----------+----------+\n",
      "+------------------+----------+-----------+-----------+----------+\n",
      "|                  |   Loss   | Same Mean | Diff Mean | Same STD |\n",
      "+------------------+----------+-----------+-----------+----------+\n",
      "|  On Clean Data   | -0.00058 |  0.00154  |  0.00231  |  0.009   |\n",
      "| On Poisoned Data | -0.00024 |  0.00211  |  0.00258  | 0.01186  |\n",
      "+------------------+----------+-----------+-----------+----------+\n",
      "+------------------+----------+-----------+-----------+----------+\n",
      "|                  |   Loss   | Same Mean | Diff Mean | Same STD |\n",
      "+------------------+----------+-----------+-----------+----------+\n",
      "|  On Clean Data   | -0.00055 |  0.00148  |   0.0022  | 0.00863  |\n",
      "| On Poisoned Data | -0.00023 |  0.00204  |   0.0025  | 0.01149  |\n",
      "+------------------+----------+-----------+-----------+----------+\n",
      "+------------------+----------+-----------+-----------+----------+\n",
      "|                  |   Loss   | Same Mean | Diff Mean | Same STD |\n",
      "+------------------+----------+-----------+-----------+----------+\n",
      "|  On Clean Data   | -0.00053 |  0.00143  |  0.00212  | 0.00837  |\n",
      "| On Poisoned Data | -0.00022 |  0.00198  |  0.00242  | 0.01117  |\n",
      "+------------------+----------+-----------+-----------+----------+\n"
     ]
    },
    {
     "name": "stdout",
     "output_type": "stream",
     "text": [
      "+------------------+----------+-----------+-----------+----------+\n",
      "|                  |   Loss   | Same Mean | Diff Mean | Same STD |\n",
      "+------------------+----------+-----------+-----------+----------+\n",
      "|  On Clean Data   | -0.0005  |  0.00138  |  0.00205  | 0.00814  |\n",
      "| On Poisoned Data | -0.00021 |  0.00192  |  0.00235  | 0.01086  |\n",
      "+------------------+----------+-----------+-----------+----------+\n",
      "+------------------+----------+-----------+-----------+----------+\n",
      "|                  |   Loss   | Same Mean | Diff Mean | Same STD |\n",
      "+------------------+----------+-----------+-----------+----------+\n",
      "|  On Clean Data   | -0.00048 |  0.00135  |  0.00199  | 0.00798  |\n",
      "| On Poisoned Data | -0.0002  |  0.00188  |  0.00229  | 0.01064  |\n",
      "+------------------+----------+-----------+-----------+----------+\n",
      "+------------------+----------+-----------+-----------+----------+\n",
      "|                  |   Loss   | Same Mean | Diff Mean | Same STD |\n",
      "+------------------+----------+-----------+-----------+----------+\n",
      "|  On Clean Data   | -0.00046 |  0.00132  |  0.00193  | 0.00779  |\n",
      "| On Poisoned Data | -0.00019 |  0.00184  |  0.00224  | 0.01044  |\n",
      "+------------------+----------+-----------+-----------+----------+\n",
      "+------------------+----------+-----------+-----------+----------+\n",
      "|                  |   Loss   | Same Mean | Diff Mean | Same STD |\n",
      "+------------------+----------+-----------+-----------+----------+\n",
      "|  On Clean Data   | -0.00045 |  0.00128  |  0.00188  | 0.00762  |\n",
      "| On Poisoned Data | -0.00019 |   0.0018  |  0.00219  | 0.01026  |\n",
      "+------------------+----------+-----------+-----------+----------+\n",
      "+------------------+----------+-----------+-----------+----------+\n",
      "|                  |   Loss   | Same Mean | Diff Mean | Same STD |\n",
      "+------------------+----------+-----------+-----------+----------+\n",
      "|  On Clean Data   | -0.00043 |  0.00126  |  0.00184  | 0.00751  |\n",
      "| On Poisoned Data | -0.00018 |  0.00177  |  0.00215  | 0.01007  |\n",
      "+------------------+----------+-----------+-----------+----------+\n",
      "+------------------+----------+-----------+-----------+----------+\n",
      "|                  |   Loss   | Same Mean | Diff Mean | Same STD |\n",
      "+------------------+----------+-----------+-----------+----------+\n",
      "|  On Clean Data   | -0.00042 |  0.00124  |  0.00181  | 0.00741  |\n",
      "| On Poisoned Data | -0.00018 |  0.00174  |  0.00212  | 0.00996  |\n",
      "+------------------+----------+-----------+-----------+----------+\n",
      "+------------------+----------+-----------+-----------+----------+\n",
      "|                  |   Loss   | Same Mean | Diff Mean | Same STD |\n",
      "+------------------+----------+-----------+-----------+----------+\n",
      "|  On Clean Data   | -0.00041 |  0.00122  |  0.00178  |  0.0073  |\n",
      "| On Poisoned Data | -0.00017 |  0.00172  |  0.00209  | 0.00982  |\n",
      "+------------------+----------+-----------+-----------+----------+\n",
      "+------------------+----------+-----------+-----------+----------+\n",
      "|                  |   Loss   | Same Mean | Diff Mean | Same STD |\n",
      "+------------------+----------+-----------+-----------+----------+\n",
      "|  On Clean Data   | -0.00039 |  0.00121  |  0.00175  |  0.0073  |\n",
      "| On Poisoned Data | -0.00018 |  0.00168  |  0.00205  | 0.00957  |\n",
      "+------------------+----------+-----------+-----------+----------+\n",
      "+------------------+----------+-----------+-----------+----------+\n",
      "|                  |   Loss   | Same Mean | Diff Mean | Same STD |\n",
      "+------------------+----------+-----------+-----------+----------+\n",
      "|  On Clean Data   | -0.00039 |  0.00119  |  0.00173  | 0.00716  |\n",
      "| On Poisoned Data | -0.00017 |  0.00167  |  0.00203  | 0.00952  |\n",
      "+------------------+----------+-----------+-----------+----------+\n",
      "+------------------+----------+-----------+-----------+----------+\n",
      "|                  |   Loss   | Same Mean | Diff Mean | Same STD |\n",
      "+------------------+----------+-----------+-----------+----------+\n",
      "|  On Clean Data   | -0.00039 |  0.00118  |   0.0017  | 0.00707  |\n",
      "| On Poisoned Data | -0.00016 |  0.00165  |   0.002   | 0.00944  |\n",
      "+------------------+----------+-----------+-----------+----------+\n",
      "+------------------+----------+-----------+-----------+----------+\n",
      "|                  |   Loss   | Same Mean | Diff Mean | Same STD |\n",
      "+------------------+----------+-----------+-----------+----------+\n",
      "|  On Clean Data   | -0.00038 |  0.00116  |  0.00168  |  0.007   |\n",
      "| On Poisoned Data | -0.00016 |  0.00163  |  0.00198  | 0.00937  |\n",
      "+------------------+----------+-----------+-----------+----------+\n",
      "+------------------+----------+-----------+-----------+----------+\n",
      "|                  |   Loss   | Same Mean | Diff Mean | Same STD |\n",
      "+------------------+----------+-----------+-----------+----------+\n",
      "|  On Clean Data   | -0.00037 |  0.00115  |  0.00167  | 0.00697  |\n",
      "| On Poisoned Data | -0.00016 |  0.00162  |  0.00196  | 0.00931  |\n",
      "+------------------+----------+-----------+-----------+----------+\n",
      "+------------------+----------+-----------+-----------+----------+\n",
      "|                  |   Loss   | Same Mean | Diff Mean | Same STD |\n",
      "+------------------+----------+-----------+-----------+----------+\n",
      "|  On Clean Data   | -0.00037 |  0.00114  |  0.00165  | 0.00692  |\n",
      "| On Poisoned Data | -0.00016 |  0.00161  |  0.00195  | 0.00921  |\n",
      "+------------------+----------+-----------+-----------+----------+\n",
      "+------------------+----------+-----------+-----------+----------+\n",
      "|                  |   Loss   | Same Mean | Diff Mean | Same STD |\n",
      "+------------------+----------+-----------+-----------+----------+\n",
      "|  On Clean Data   | -0.00036 |  0.00114  |  0.00164  | 0.00688  |\n",
      "| On Poisoned Data | -0.00015 |  0.00159  |  0.00193  | 0.00914  |\n",
      "+------------------+----------+-----------+-----------+----------+\n",
      "+------------------+----------+-----------+-----------+----------+\n",
      "|                  |   Loss   | Same Mean | Diff Mean | Same STD |\n",
      "+------------------+----------+-----------+-----------+----------+\n",
      "|  On Clean Data   | -0.00036 |  0.00113  |  0.00162  | 0.00681  |\n",
      "| On Poisoned Data | -0.00015 |  0.00158  |  0.00192  | 0.00909  |\n",
      "+------------------+----------+-----------+-----------+----------+\n",
      "+------------------+----------+-----------+-----------+----------+\n",
      "|                  |   Loss   | Same Mean | Diff Mean | Same STD |\n",
      "+------------------+----------+-----------+-----------+----------+\n",
      "|  On Clean Data   | -0.00035 |  0.00112  |  0.00161  | 0.00681  |\n",
      "| On Poisoned Data | -0.00015 |  0.00157  |   0.0019  | 0.00901  |\n",
      "+------------------+----------+-----------+-----------+----------+\n",
      "+------------------+----------+-----------+-----------+----------+\n",
      "|                  |   Loss   | Same Mean | Diff Mean | Same STD |\n",
      "+------------------+----------+-----------+-----------+----------+\n",
      "|  On Clean Data   | -0.00035 |  0.00111  |   0.0016  | 0.00675  |\n",
      "| On Poisoned Data | -0.00015 |  0.00156  |  0.00189  | 0.00896  |\n",
      "+------------------+----------+-----------+-----------+----------+\n",
      "+------------------+----------+-----------+-----------+----------+\n",
      "|                  |   Loss   | Same Mean | Diff Mean | Same STD |\n",
      "+------------------+----------+-----------+-----------+----------+\n",
      "|  On Clean Data   | -0.00035 |   0.0011  |  0.00159  |  0.0067  |\n",
      "| On Poisoned Data | -0.00015 |  0.00155  |  0.00188  |  0.0089  |\n",
      "+------------------+----------+-----------+-----------+----------+\n"
     ]
    },
    {
     "ename": "KeyboardInterrupt",
     "evalue": "",
     "output_type": "error",
     "traceback": [
      "\u001b[0;31m---------------------------------------------------------------------------\u001b[0m",
      "\u001b[0;31mKeyboardInterrupt\u001b[0m                         Traceback (most recent call last)",
      "\u001b[0;32m/var/folders/t4/vdzymfw562g8ml8ks_2b5l5r0000gn/T/ipykernel_14613/1058461893.py\u001b[0m in \u001b[0;36m<module>\u001b[0;34m\u001b[0m\n\u001b[1;32m     32\u001b[0m     \u001b[0mfeas_poisoned_nograd\u001b[0m \u001b[0;34m=\u001b[0m \u001b[0mfeas_poisoned\u001b[0m\u001b[0;34m.\u001b[0m\u001b[0mdetach\u001b[0m\u001b[0;34m(\u001b[0m\u001b[0;34m)\u001b[0m \u001b[0;31m#grad on nothing\u001b[0m\u001b[0;34m\u001b[0m\u001b[0;34m\u001b[0m\u001b[0m\n\u001b[1;32m     33\u001b[0m \u001b[0;34m\u001b[0m\u001b[0m\n\u001b[0;32m---> 34\u001b[0;31m     \u001b[0mobjFeasFromClean\u001b[0m \u001b[0;34m=\u001b[0m \u001b[0mcontraM\u001b[0m\u001b[0;34m.\u001b[0m\u001b[0mforward\u001b[0m\u001b[0;34m(\u001b[0m\u001b[0mcontraG\u001b[0m\u001b[0;34m.\u001b[0m\u001b[0mforward\u001b[0m\u001b[0;34m(\u001b[0m\u001b[0mnadjs_train\u001b[0m\u001b[0;34m,\u001b[0m\u001b[0mfeas_clean\u001b[0m\u001b[0;34m)\u001b[0m\u001b[0;34m)\u001b[0m\u001b[0;34m\u001b[0m\u001b[0;34m\u001b[0m\u001b[0m\n\u001b[0m\u001b[1;32m     35\u001b[0m     \u001b[0mobjFeasFromPoisoned\u001b[0m \u001b[0;34m=\u001b[0m \u001b[0mcontraM\u001b[0m\u001b[0;34m.\u001b[0m\u001b[0mforward\u001b[0m\u001b[0;34m(\u001b[0m\u001b[0mcontraG\u001b[0m\u001b[0;34m.\u001b[0m\u001b[0mforward\u001b[0m\u001b[0;34m(\u001b[0m\u001b[0mnadjs_train\u001b[0m\u001b[0;34m,\u001b[0m\u001b[0mfeas_poisoned_nograd\u001b[0m\u001b[0;34m)\u001b[0m\u001b[0;34m)\u001b[0m\u001b[0;34m\u001b[0m\u001b[0;34m\u001b[0m\u001b[0m\n\u001b[1;32m     36\u001b[0m \u001b[0;34m\u001b[0m\u001b[0m\n",
      "\u001b[0;32m/var/folders/t4/vdzymfw562g8ml8ks_2b5l5r0000gn/T/ipykernel_14613/1733509952.py\u001b[0m in \u001b[0;36mforward\u001b[0;34m(self, adjM, node_sigM)\u001b[0m\n\u001b[1;32m     16\u001b[0m         \u001b[0;31m#curr_output = self.dropout(curr_output)\u001b[0m\u001b[0;34m\u001b[0m\u001b[0;34m\u001b[0m\u001b[0m\n\u001b[1;32m     17\u001b[0m         \u001b[0;32mfor\u001b[0m \u001b[0mi\u001b[0m \u001b[0;32min\u001b[0m \u001b[0mrange\u001b[0m\u001b[0;34m(\u001b[0m\u001b[0;36m1\u001b[0m\u001b[0;34m,\u001b[0m\u001b[0mlen\u001b[0m\u001b[0;34m(\u001b[0m\u001b[0mself\u001b[0m\u001b[0;34m.\u001b[0m\u001b[0mwidths\u001b[0m\u001b[0;34m)\u001b[0m\u001b[0;34m)\u001b[0m\u001b[0;34m:\u001b[0m\u001b[0;34m\u001b[0m\u001b[0;34m\u001b[0m\u001b[0m\n\u001b[0;32m---> 18\u001b[0;31m             \u001b[0mcurr_output\u001b[0m \u001b[0;34m=\u001b[0m \u001b[0mtorch\u001b[0m\u001b[0;34m.\u001b[0m\u001b[0mtanh\u001b[0m\u001b[0;34m(\u001b[0m\u001b[0mtorch\u001b[0m\u001b[0;34m.\u001b[0m\u001b[0mmatmul\u001b[0m\u001b[0;34m(\u001b[0m\u001b[0mtorch\u001b[0m\u001b[0;34m.\u001b[0m\u001b[0mmatmul\u001b[0m\u001b[0;34m(\u001b[0m\u001b[0madjM\u001b[0m\u001b[0;34m,\u001b[0m\u001b[0mcurr_output\u001b[0m\u001b[0;34m)\u001b[0m\u001b[0;34m,\u001b[0m\u001b[0mself\u001b[0m\u001b[0;34m.\u001b[0m\u001b[0mweights\u001b[0m\u001b[0;34m[\u001b[0m\u001b[0mi\u001b[0m\u001b[0;34m]\u001b[0m\u001b[0;34m)\u001b[0m\u001b[0;34m)\u001b[0m \u001b[0;31m#nxc\u001b[0m\u001b[0;34m\u001b[0m\u001b[0;34m\u001b[0m\u001b[0m\n\u001b[0m\u001b[1;32m     19\u001b[0m \u001b[0;34m\u001b[0m\u001b[0m\n\u001b[1;32m     20\u001b[0m         \u001b[0;32mreturn\u001b[0m \u001b[0mcurr_output\u001b[0m\u001b[0;34m\u001b[0m\u001b[0;34m\u001b[0m\u001b[0m\n",
      "\u001b[0;31mKeyboardInterrupt\u001b[0m: "
     ]
    }
   ],
   "source": [
    "#get clean features\n",
    "feas_clean = extract_node_feature(vers_train,adjs_train) #grad on nothing\n",
    "opt = optim.Adam(atkG.weights + atkM.weights + contraG.weights + contraM.weights, lr = 0.001)\n",
    "\n",
    "for contraI in range(100):\n",
    "    trainLog = pt.PrettyTable()\n",
    "    trainLog.field_names = [\" \",\"Loss\", \"Same Mean\", \"Diff Mean\", \"Same STD\"]\n",
    "    \n",
    "    \n",
    "    opt.zero_grad()\n",
    "\n",
    "    #get poisoned vertex locations\n",
    "    poisonsByGroups = atkM.forward(atkG.forward(nadjs_train,feas_clean))\n",
    "    transformation = translate_by_group(gMats_train,\n",
    "                                        poisonsByGroups)\n",
    "    poisonedVers = vers_train + transformation\n",
    "        \n",
    "        \n",
    "    #extract poisoned features\n",
    "    feas_poisoned = extract_node_feature(poisonedVers,adjs_train) #grad on 😈\n",
    "\n",
    "    \n",
    "    #get contraNN's performance on poisoned feature with grads on 😈    \n",
    "    contraM.eval()\n",
    "    contraG.eval()\n",
    "    aPerfPoisoned, APP = loss(contraM.forward(contraG.forward(nadjs_train,feas_poisoned)),\n",
    "                         label_mat_train) #grad on 😈\n",
    "    \n",
    "    #get contraNN's performance on clean feature and poisoned feature with grads on 🤠\n",
    "    contraM.train()\n",
    "    contraG.train()\n",
    "    feas_poisoned_nograd = feas_poisoned.detach() #grad on nothing\n",
    "    \n",
    "    objFeasFromClean = contraM.forward(contraG.forward(nadjs_train,feas_clean))\n",
    "    objFeasFromPoisoned = contraM.forward(contraG.forward(nadjs_train,feas_poisoned_nograd))\n",
    "    \n",
    "    diffInFeas = torch.sum((objFeasFromClean - objFeasFromPoisoned)**2)\n",
    "    \n",
    "    cPerfClean, CPC = loss(objFeasFromClean,\n",
    "                      label_mat_train) #grad on 🤠\n",
    "    \n",
    "    cPerfPoisoned, CPP = loss(objFeasFromPoisoned,\n",
    "                         label_mat_train) #grad on 🤠\n",
    "    \n",
    "    \n",
    "    trainLog.add_row(['On Clean Data']+CPC)\n",
    "    trainLog.add_row(['On Poisoned Data']+CPP)\n",
    "\n",
    "    \n",
    "    overallLoss = -aPerfPoisoned + cPerfClean + cPerfPoisoned#  + diffInFeas\n",
    "    overallLoss.backward()\n",
    "    opt.step()\n",
    "    \n",
    "    print(trainLog)\n",
    "    \n",
    "    "
   ]
  },
  {
   "cell_type": "markdown",
   "id": "bff459eb",
   "metadata": {
    "collapsed": true,
    "slideshow": {
     "slide_type": "skip"
    }
   },
   "source": [
    "## 3.7 Seeing how it does on Test Data"
   ]
  },
  {
   "cell_type": "code",
   "execution_count": 82,
   "id": "2cee83e1",
   "metadata": {},
   "outputs": [
    {
     "name": "stdout",
     "output_type": "stream",
     "text": [
      "tensor(-0.5182853341, grad_fn=<AddBackward0>)\n",
      "tensor(-0.5151064396, grad_fn=<AddBackward0>)\n"
     ]
    }
   ],
   "source": [
    "feas_clean_test = extract_node_feature(vers_test,adjs_test)\n",
    "\n",
    "atkTest = atkM.forward(atkG.forward(nadjs_test,feas_clean_test))\n",
    "\n",
    "poisonedVersTest = vers_test + translate_by_group(gMats_test,atkTest)\n",
    "        \n",
    "feas_poisoned_test = extract_node_feature(poisonedVersTest,adjs_test)\n",
    "        \n",
    "contraOutPoisonedTest = contraM.forward(contraG.forward(nadjs_test,feas_poisoned_test))\n",
    "contraLossPoisonedTest,_ = loss(contraOutPoisonedTest,label_mat_test)\n",
    "\n",
    "contraOutCleanTest = contraM.forward(contraG.forward(nadjs_test,feas_clean_test))\n",
    "contraLossCleanTest,_ = loss(contraOutCleanTest,label_mat_test)\n",
    "\n",
    "print(contraLossPoisonedTest)\n",
    "print(contraLossCleanTest)"
   ]
  },
  {
   "cell_type": "code",
   "execution_count": null,
   "id": "c372b157",
   "metadata": {
    "collapsed": true
   },
   "outputs": [],
   "source": []
  },
  {
   "cell_type": "code",
   "execution_count": null,
   "id": "38c3877d",
   "metadata": {
    "collapsed": true
   },
   "outputs": [],
   "source": []
  },
  {
   "cell_type": "code",
   "execution_count": null,
   "id": "813aec57",
   "metadata": {
    "collapsed": true
   },
   "outputs": [],
   "source": []
  },
  {
   "cell_type": "code",
   "execution_count": 117,
   "id": "5d3800b0",
   "metadata": {},
   "outputs": [],
   "source": [
    "plt.clf()"
   ]
  },
  {
   "cell_type": "code",
   "execution_count": 128,
   "id": "f334336a",
   "metadata": {
    "slideshow": {
     "slide_type": "skip"
    }
   },
   "outputs": [
    {
     "name": "stdout",
     "output_type": "stream",
     "text": [
      "(1350, 252, 3)\n"
     ]
    },
    {
     "data": {
      "application/vnd.jupyter.widget-view+json": {
       "model_id": "b6a1dc84a2294e38b55051ffbb03da91",
       "version_major": 2,
       "version_minor": 0
      },
      "image/png": "[encoded data removed]",
      "text/html": [
       "\n",
       "            <div style=\"display: inline-block;\">\n",
       "                <div class=\"jupyter-widgets widget-label\" style=\"text-align: center;\">\n",
       "                    Figure\n",
       "                </div>\n",
       "                <img src='data:image/png;base64,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' width=640.0/>\n",
       "            </div>\n",
       "        "
      ],
      "text/plain": [
       "Canvas(toolbar=Toolbar(toolitems=[('Home', 'Reset original view', 'home', 'home'), ('Back', 'Back to previous …"
      ]
     },
     "metadata": {},
     "output_type": "display_data"
    }
   ],
   "source": [
    "from mpl_toolkits.mplot3d import axes3d\n",
    "\n",
    "\n",
    "index_in_question = 1\n",
    "\n",
    "#Plot first clustered mesh\n",
    "dataPlot = vers[index_in_question]\n",
    "\n",
    "fig = plt.figure()\n",
    "ax = fig.add_subplot(121,projection='3d')\n",
    "\n",
    "ax.scatter(dataPlot[:,0], dataPlot[:,1], dataPlot[:,2], label=gLbls[index_in_question,:], c = gLbls[index_in_question,:], cmap = 'viridis',s = 3)\n",
    "ax.set_title('clean')\n",
    "\n",
    "plt.axis('off')\n",
    "\n",
    "#Plot second clustered point coud\n",
    "#get poison\n",
    "atkOut = atkM.forward(atkG.forward(nadjs_train,feas_clean))\n",
    "poisonedVers = translate_by_group(vers_train,gMats_train,atkOut).detach().numpy()\n",
    "\n",
    "print(poisonedVers.shape)\n",
    "#poisioedVers = np.zeros([1350,252,3])\n",
    "poisonedDataPlot = vers[index_in_question] + poisonedVers[index_in_question]\n",
    "\n",
    "ax = fig.add_subplot(122,projection='3d')\n",
    "\n",
    "ax.scatter(poisonedDataPlot[:,0], poisonedDataPlot[:,1], poisonedDataPlot[:,2], label=gLbls[index_in_question,:], c = gLbls[index_in_question,:], cmap = 'viridis', s = 3)\n",
    "ax.set_title('poisoned')\n",
    "\n",
    "plt.axis('off')\n",
    "\n",
    "plt.show()"
   ]
  },
  {
   "cell_type": "code",
   "execution_count": 129,
   "id": "f511ee37",
   "metadata": {},
   "outputs": [],
   "source": [
    "# ax.axes.xaxis.set_ticklabels([])\n",
    "# ax.axes.yaxis.set_ticklabels([])\n",
    "# ax.axes.zaxis.set_ticklabels([])\n",
    "# ax.set_xlabel('X')\n",
    "# ax.set_ylabel('Y')\n",
    "# ax.set_zlabel('Z')"
   ]
  },
  {
   "cell_type": "code",
   "execution_count": null,
   "id": "18cd6f3c",
   "metadata": {
    "collapsed": true
   },
   "outputs": [],
   "source": []
  },
  {
   "cell_type": "code",
   "execution_count": null,
   "id": "5d3c9cea",
   "metadata": {
    "collapsed": true
   },
   "outputs": [],
   "source": []
  },
  {
   "cell_type": "code",
   "execution_count": null,
   "id": "9889f156",
   "metadata": {
    "collapsed": true
   },
   "outputs": [],
   "source": []
  },
  {
   "cell_type": "code",
   "execution_count": null,
   "id": "62e81bfe",
   "metadata": {
    "collapsed": true
   },
   "outputs": [],
   "source": []
  }
 ],
 "metadata": {
  "kernelspec": {
   "display_name": "Python 3 (ipykernel)",
   "language": "python",
   "name": "python3"
  },
  "language_info": {
   "codemirror_mode": {
    "name": "ipython",
    "version": 3
   },
   "file_extension": ".py",
   "mimetype": "text/x-python",
   "name": "python",
   "nbconvert_exporter": "python",
   "pygments_lexer": "ipython3",
   "version": "3.10.9"
  }
 },
 "nbformat": 4,
 "nbformat_minor": 5
}
