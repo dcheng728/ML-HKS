{
 "cells": [
  {
   "cell_type": "code",
   "execution_count": 1,
   "id": "e9ab7b6e",
   "metadata": {
    "slideshow": {
     "slide_type": "slide"
    }
   },
   "outputs": [],
   "source": [
    "import torch.optim as optim\n",
    "import torch\n",
    "import numpy as np\n",
    "import matplotlib.pyplot as plt\n",
    "import random\n",
    "import os\n",
    "import prettytable as pt\n",
    "%run helpers_preproc.ipynb\n",
    "%matplotlib widget"
   ]
  },
  {
   "cell_type": "markdown",
   "id": "4b2719b0",
   "metadata": {
    "slideshow": {
     "slide_type": "skip"
    }
   },
   "source": [
    "# Hyper Parameters"
   ]
  },
  {
   "cell_type": "code",
   "execution_count": 2,
   "id": "b34c00ab",
   "metadata": {
    "slideshow": {
     "slide_type": "slide"
    }
   },
   "outputs": [],
   "source": [
    "origDataDir = 'SHREC11/'\n",
    "newDataDir = 'SHREC11_plus/'\n",
    "K = 5\n",
    "radiuss = [0.0002,0.002,0.01]\n",
    "train_size = 450 * len(radiuss)\n",
    "test_size = (600-450) * len(radiuss)"
   ]
  },
  {
   "cell_type": "markdown",
   "id": "684373cc",
   "metadata": {
    "slideshow": {
     "slide_type": "slide"
    }
   },
   "source": [
    "# 1. expand dataset and scramble"
   ]
  },
  {
   "cell_type": "code",
   "execution_count": 3,
   "id": "848dd975",
   "metadata": {
    "slideshow": {
     "slide_type": "fragment"
    }
   },
   "outputs": [],
   "source": [
    "expand(origDataDir, newDataDir, radiuss)\n",
    "scramble(newDataDir, 10000,600 * len(radiuss))"
   ]
  },
  {
   "cell_type": "markdown",
   "id": "eca467ac",
   "metadata": {
    "slideshow": {
     "slide_type": "slide"
    }
   },
   "source": [
    "# 2. read in the dataset"
   ]
  },
  {
   "cell_type": "markdown",
   "id": "51110c1a",
   "metadata": {
    "slideshow": {
     "slide_type": "slide"
    }
   },
   "source": [
    "## 2.1 read in v (252 x 3),f (...x...) and cluster"
   ]
  },
  {
   "cell_type": "code",
   "execution_count": 4,
   "id": "1428b3a4",
   "metadata": {
    "slideshow": {
     "slide_type": "fragment"
    }
   },
   "outputs": [
    {
     "name": "stderr",
     "output_type": "stream",
     "text": [
      "/var/folders/y9/sgsdqvs575j76jqnz728mwkh0000gn/T/ipykernel_22038/2399023897.py:12: RuntimeWarning: invalid value encountered in divide\n",
      "  normed_adj = adj / np.reshape(np.sum(adj,axis = 0),[252,1])\n"
     ]
    }
   ],
   "source": [
    "ver_list = []\n",
    "adj_list = []\n",
    "Nadj_list = []\n",
    "gMat_list = []\n",
    "gLbl_list = []\n",
    "\n",
    "for i in range(600 * len(radiuss)):\n",
    "    v, f = get_nodes(newDataDir + 'T' + str(i) + '.obj')\n",
    "    group_mat, group_labels = K_mean_cluster(v, K)\n",
    "    \n",
    "    adj = get_adj_from_f(f)            \n",
    "    normed_adj = adj / np.reshape(np.sum(adj,axis = 0),[252,1])\n",
    "    ver_list.append(v)\n",
    "    adj_list.append(adj)\n",
    "    Nadj_list.append(normed_adj)\n",
    "    gMat_list.append(group_mat)\n",
    "    gLbl_list.append(group_labels)\n",
    "    \n",
    "    \n",
    "vers = np.array(ver_list)\n",
    "adjs = np.array(adj_list)\n",
    "Nadjs = np.array(Nadj_list)\n",
    "gMats = np.array(gMat_list)\n",
    "gLbls = np.array(gLbl_list)"
   ]
  },
  {
   "cell_type": "markdown",
   "id": "013d531c",
   "metadata": {
    "slideshow": {
     "slide_type": "slide"
    }
   },
   "source": [
    "## 2.2 Read in the labels"
   ]
  },
  {
   "cell_type": "code",
   "execution_count": 5,
   "id": "3d47dac9",
   "metadata": {
    "slideshow": {
     "slide_type": "fragment"
    }
   },
   "outputs": [],
   "source": [
    "label_np = np.array(readLbl(600 * len(radiuss),newDataDir+'labels.txt'))\n",
    "label_np_train = label_np[:train_size]\n",
    "label_np_test = label_np[train_size:]"
   ]
  },
  {
   "cell_type": "markdown",
   "id": "5329a9ea",
   "metadata": {
    "slideshow": {
     "slide_type": "slide"
    }
   },
   "source": [
    "## 2.3 Split into training set and testing set"
   ]
  },
  {
   "cell_type": "code",
   "execution_count": 6,
   "id": "bb6dcc36",
   "metadata": {
    "slideshow": {
     "slide_type": "fragment"
    }
   },
   "outputs": [],
   "source": [
    "vers_train = torch.tensor(vers[:train_size]).float()\n",
    "adjs_train = torch.tensor(adjs[:train_size]).float()\n",
    "nadjs_train = torch.nan_to_num(torch.tensor(Nadjs[:train_size]).float(),0,0,0)\n",
    "gMats_train = torch.tensor(gMats[:train_size]).float()\n",
    "label_train = torch.tensor(label_np_train).float()\n",
    "\n",
    "vers_test = torch.tensor(vers[train_size:]).float()\n",
    "adjs_test = torch.tensor(adjs[train_size:]).float()\n",
    "nadjs_test = torch.nan_to_num(torch.tensor(Nadjs[train_size:]).float(),0,0,0)\n",
    "gMats_test = torch.tensor(gMats[train_size:]).float()\n",
    "label_test = torch.tensor(label_np_test).float()\n",
    "\n",
    "label_mat_train = torch.tensor(np.where(igl.all_pairs_distances(label_np_train,label_np_train,False) > 0.5,0,1)).float()\n",
    "label_mat_test = torch.tensor(np.where(igl.all_pairs_distances(label_np_test,label_np_test,False) > 0.5,0,1)).float()"
   ]
  },
  {
   "cell_type": "markdown",
   "id": "58ac61b4",
   "metadata": {
    "slideshow": {
     "slide_type": "slide"
    }
   },
   "source": [
    "# 3. Training"
   ]
  },
  {
   "cell_type": "markdown",
   "id": "1b06f3bb",
   "metadata": {
    "slideshow": {
     "slide_type": "slide"
    }
   },
   "source": [
    "## 3.1 Hyperparameters for training"
   ]
  },
  {
   "cell_type": "code",
   "execution_count": 7,
   "id": "5af46682",
   "metadata": {
    "slideshow": {
     "slide_type": "fragment"
    }
   },
   "outputs": [],
   "source": [
    "contraGWs = [10,10,10,10]\n",
    "contraMWs = [10,10,10,10]\n",
    "atkGWs = [10,10,10,10]\n",
    "atkMWs = [10,10,10,K * 3 + 1]"
   ]
  },
  {
   "cell_type": "markdown",
   "id": "71e6cccc",
   "metadata": {
    "slideshow": {
     "slide_type": "slide"
    }
   },
   "source": [
    "## 3.2 Initialize neural networks"
   ]
  },
  {
   "cell_type": "code",
   "execution_count": 21,
   "id": "832b8db7",
   "metadata": {
    "slideshow": {
     "slide_type": "fragment"
    }
   },
   "outputs": [],
   "source": [
    "%run NNs.ipynb\n",
    "%run helpers_preproc.ipynb\n",
    "loadWeightDir = 'weights/2-21-1/'"
   ]
  },
  {
   "cell_type": "code",
   "execution_count": 22,
   "id": "1ac9d994",
   "metadata": {},
   "outputs": [],
   "source": [
    "load_model = True"
   ]
  },
  {
   "cell_type": "code",
   "execution_count": 23,
   "id": "98ced77c",
   "metadata": {},
   "outputs": [],
   "source": [
    "contraG = GCN(3,contraGWs)\n",
    "contraM = MLP(252* contraGWs[len(contraGWs)-1],contraMWs)\n",
    "atkG = GCN(3,atkGWs)\n",
    "atkM = MLP_atk(252* atkGWs[len(contraGWs)-1], 0.2, K, atkMWs)\n",
    "\n",
    "if load_model:\n",
    "    contraG.weights = torch.load(loadWeightDir + 'contraGw.pt')\n",
    "    contraM.weights = torch.load(loadWeightDir + 'contraMw.pt')\n",
    "    atkG.weights = torch.load(loadWeightDir + 'atkGw.pt')\n",
    "    atkM.weights = torch.load(loadWeightDir + 'atkMw.pt')"
   ]
  },
  {
   "cell_type": "markdown",
   "id": "d1510530",
   "metadata": {
    "slideshow": {
     "slide_type": "slide"
    }
   },
   "source": [
    "## 3.4 Extract node-level features from clean data"
   ]
  },
  {
   "cell_type": "code",
   "execution_count": 24,
   "id": "9ca6bd8a",
   "metadata": {
    "slideshow": {
     "slide_type": "fragment"
    }
   },
   "outputs": [],
   "source": [
    "feas_clean = extract_node_feature(vers_train,adjs_train)"
   ]
  },
  {
   "cell_type": "code",
   "execution_count": 25,
   "id": "f9ce8f8a",
   "metadata": {
    "slideshow": {
     "slide_type": "fragment"
    }
   },
   "outputs": [],
   "source": [
    "%run L.ipynb"
   ]
  },
  {
   "cell_type": "markdown",
   "id": "513d148f",
   "metadata": {
    "slideshow": {
     "slide_type": "slide"
    }
   },
   "source": [
    "## 3.5 Train atkNN😈 with contraNN🤠"
   ]
  },
  {
   "cell_type": "code",
   "execution_count": 26,
   "id": "f5d3147c",
   "metadata": {
    "slideshow": {
     "slide_type": "fragment"
    }
   },
   "outputs": [],
   "source": [
    "lr = 0.0001\n",
    "torch.set_printoptions(precision=10)"
   ]
  },
  {
   "cell_type": "markdown",
   "id": "f183d60a",
   "metadata": {},
   "source": [
    "Loss Defined to be: \n",
    "\n",
    "$\\text{-diffTypeMean + sameTypeMean} + 0.02 \\times \\sqrt{\\text{sameTypeStd}}$"
   ]
  },
  {
   "cell_type": "code",
   "execution_count": 14,
   "id": "4e942233",
   "metadata": {
    "scrolled": true,
    "slideshow": {
     "slide_type": "fragment"
    }
   },
   "outputs": [
    {
     "name": "stdout",
     "output_type": "stream",
     "text": [
      "+------------------+----------+-----------+-----------+----------+\n",
      "|                  |   Loss   | Same Mean | Diff Mean | Same STD |\n",
      "+------------------+----------+-----------+-----------+----------+\n",
      "|  On Clean Data   | -0.00029 |  0.00329  |  0.00385  | 0.01965  |\n",
      "| On Poisoned Data | -0.00029 |  0.00329  |  0.00385  | 0.01966  |\n",
      "+------------------+----------+-----------+-----------+----------+\n",
      "+------------------+----------+-----------+-----------+----------+\n",
      "|                  |   Loss   | Same Mean | Diff Mean | Same STD |\n",
      "+------------------+----------+-----------+-----------+----------+\n",
      "|  On Clean Data   | -0.00037 |  0.00421  |  0.00496  | 0.02522  |\n",
      "| On Poisoned Data | -0.00037 |  0.00421  |  0.00496  | 0.02522  |\n",
      "+------------------+----------+-----------+-----------+----------+\n",
      "+------------------+----------+-----------+-----------+----------+\n",
      "|                  |   Loss   | Same Mean | Diff Mean | Same STD |\n",
      "+------------------+----------+-----------+-----------+----------+\n",
      "|  On Clean Data   | -0.00046 |   0.0053  |  0.00627  | 0.03166  |\n",
      "| On Poisoned Data | -0.00046 |  0.00529  |  0.00627  | 0.03162  |\n",
      "+------------------+----------+-----------+-----------+----------+\n",
      "+------------------+----------+-----------+-----------+----------+\n",
      "|                  |   Loss   | Same Mean | Diff Mean | Same STD |\n",
      "+------------------+----------+-----------+-----------+----------+\n",
      "|  On Clean Data   | -0.00054 |  0.00663  |  0.00788  | 0.03957  |\n",
      "| On Poisoned Data | -0.00056 |  0.00662  |  0.00788  | 0.03946  |\n",
      "+------------------+----------+-----------+-----------+----------+\n",
      "+------------------+----------+-----------+-----------+----------+\n",
      "|                  |   Loss   | Same Mean | Diff Mean | Same STD |\n",
      "+------------------+----------+-----------+-----------+----------+\n",
      "|  On Clean Data   | -0.00062 |  0.00819  |  0.00975  | 0.04876  |\n",
      "| On Poisoned Data | -0.00064 |  0.00816  |  0.00976  | 0.04855  |\n",
      "+------------------+----------+-----------+-----------+----------+\n",
      "+------------------+----------+-----------+-----------+----------+\n",
      "|                  |   Loss   | Same Mean | Diff Mean | Same STD |\n",
      "+------------------+----------+-----------+-----------+----------+\n",
      "|  On Clean Data   | -0.00069 |  0.00978  |  0.01171  | 0.05813  |\n",
      "| On Poisoned Data | -0.00071 |  0.00977  |  0.01171  |  0.058   |\n",
      "+------------------+----------+-----------+-----------+----------+\n",
      "+------------------+----------+-----------+-----------+----------+\n",
      "|                  |   Loss   | Same Mean | Diff Mean | Same STD |\n",
      "+------------------+----------+-----------+-----------+----------+\n",
      "|  On Clean Data   | -0.00076 |  0.01117  |  0.01343  | 0.06624  |\n",
      "| On Poisoned Data | -0.00078 |  0.01116  |  0.01343  |  0.0661  |\n",
      "+------------------+----------+-----------+-----------+----------+\n",
      "+------------------+----------+-----------+-----------+----------+\n",
      "|                  |   Loss   | Same Mean | Diff Mean | Same STD |\n",
      "+------------------+----------+-----------+-----------+----------+\n",
      "|  On Clean Data   | -0.00087 |  0.01229  |  0.01486  | 0.07257  |\n",
      "| On Poisoned Data | -0.00091 |  0.01226  |  0.01486  | 0.07231  |\n",
      "+------------------+----------+-----------+-----------+----------+\n",
      "+------------------+----------+-----------+-----------+----------+\n",
      "|                  |   Loss   | Same Mean | Diff Mean | Same STD |\n",
      "+------------------+----------+-----------+-----------+----------+\n",
      "|  On Clean Data   | -0.00104 |  0.01335  |  0.01626  | 0.07846  |\n",
      "| On Poisoned Data | -0.00108 |  0.01332  |  0.01626  | 0.07817  |\n",
      "+------------------+----------+-----------+-----------+----------+\n",
      "+------------------+----------+-----------+-----------+----------+\n",
      "|                  |   Loss   | Same Mean | Diff Mean | Same STD |\n",
      "+------------------+----------+-----------+-----------+----------+\n",
      "|  On Clean Data   | -0.00123 |  0.01441  |  0.01768  | 0.08425  |\n",
      "| On Poisoned Data | -0.00129 |  0.01436  |  0.01768  | 0.08382  |\n",
      "+------------------+----------+-----------+-----------+----------+\n",
      "+------------------+----------+-----------+-----------+----------+\n",
      "|                  |   Loss   | Same Mean | Diff Mean | Same STD |\n",
      "+------------------+----------+-----------+-----------+----------+\n",
      "|  On Clean Data   | -0.00147 |  0.01536  |   0.019   | 0.08936  |\n",
      "| On Poisoned Data | -0.00152 |  0.01531  |   0.019   | 0.08893  |\n",
      "+------------------+----------+-----------+-----------+----------+\n",
      "+------------------+----------+-----------+-----------+----------+\n",
      "|                  |   Loss   | Same Mean | Diff Mean | Same STD |\n",
      "+------------------+----------+-----------+-----------+----------+\n",
      "|  On Clean Data   | -0.00172 |  0.01614  |  0.02013  | 0.09339  |\n",
      "| On Poisoned Data | -0.00179 |  0.01607  |  0.02013  | 0.09287  |\n",
      "+------------------+----------+-----------+-----------+----------+\n",
      "+------------------+----------+-----------+-----------+----------+\n",
      "|                  |   Loss   | Same Mean | Diff Mean | Same STD |\n",
      "+------------------+----------+-----------+-----------+----------+\n",
      "|  On Clean Data   | -0.00199 |  0.01668  |  0.02099  | 0.09608  |\n",
      "| On Poisoned Data | -0.00202 |  0.01665  |  0.02099  | 0.09585  |\n",
      "+------------------+----------+-----------+-----------+----------+\n",
      "+------------------+----------+-----------+-----------+----------+\n",
      "|                  |   Loss   | Same Mean | Diff Mean | Same STD |\n",
      "+------------------+----------+-----------+-----------+----------+\n",
      "|  On Clean Data   | -0.00224 |   0.017   |  0.02157  | 0.09755  |\n",
      "| On Poisoned Data | -0.0023  |  0.01695  |  0.02157  | 0.09707  |\n",
      "+------------------+----------+-----------+-----------+----------+\n",
      "+------------------+----------+-----------+-----------+----------+\n",
      "|                  |   Loss   | Same Mean | Diff Mean | Same STD |\n",
      "+------------------+----------+-----------+-----------+----------+\n",
      "|  On Clean Data   | -0.00251 |  0.01709  |  0.02186  | 0.09757  |\n",
      "| On Poisoned Data | -0.00255 |  0.01705  |  0.02185  | 0.09722  |\n",
      "+------------------+----------+-----------+-----------+----------+\n",
      "+------------------+----------+-----------+-----------+----------+\n",
      "|                  |   Loss   | Same Mean | Diff Mean | Same STD |\n",
      "+------------------+----------+-----------+-----------+----------+\n",
      "|  On Clean Data   | -0.00276 |  0.01702  |  0.02195  | 0.09675  |\n",
      "| On Poisoned Data | -0.00284 |  0.01694  |  0.02194  |  0.0961  |\n",
      "+------------------+----------+-----------+-----------+----------+\n",
      "+------------------+----------+-----------+-----------+----------+\n",
      "|                  |   Loss   | Same Mean | Diff Mean | Same STD |\n",
      "+------------------+----------+-----------+-----------+----------+\n",
      "|  On Clean Data   | -0.00303 |  0.01688  |  0.02197  | 0.09547  |\n",
      "| On Poisoned Data | -0.00312 |   0.0168  |  0.02197  | 0.09481  |\n",
      "+------------------+----------+-----------+-----------+----------+\n",
      "+------------------+----------+-----------+-----------+----------+\n",
      "|                  |   Loss   | Same Mean | Diff Mean | Same STD |\n",
      "+------------------+----------+-----------+-----------+----------+\n",
      "|  On Clean Data   | -0.00331 |  0.01683  |  0.02214  | 0.09483  |\n",
      "| On Poisoned Data | -0.00337 |  0.01677  |  0.02214  | 0.09429  |\n",
      "+------------------+----------+-----------+-----------+----------+\n",
      "+------------------+----------+-----------+-----------+----------+\n",
      "|                  |   Loss   | Same Mean | Diff Mean | Same STD |\n",
      "+------------------+----------+-----------+-----------+----------+\n",
      "|  On Clean Data   | -0.00356 |  0.01711  |  0.02272  | 0.09623  |\n",
      "| On Poisoned Data | -0.00361 |  0.01706  |  0.02271  | 0.09583  |\n",
      "+------------------+----------+-----------+-----------+----------+\n",
      "+------------------+----------+-----------+-----------+----------+\n",
      "|                  |   Loss   | Same Mean | Diff Mean | Same STD |\n",
      "+------------------+----------+-----------+-----------+----------+\n",
      "|  On Clean Data   | -0.00372 |  0.01788  |  0.02384  |  0.1008  |\n",
      "| On Poisoned Data | -0.00379 |  0.01781  |  0.02384  | 0.10024  |\n",
      "+------------------+----------+-----------+-----------+----------+\n",
      "+------------------+----------+-----------+-----------+----------+\n",
      "|                  |   Loss   | Same Mean | Diff Mean | Same STD |\n",
      "+------------------+----------+-----------+-----------+----------+\n",
      "|  On Clean Data   | -0.00384 |  0.01893  |  0.02531  | 0.10717  |\n",
      "| On Poisoned Data | -0.00391 |  0.01887  |  0.02531  | 0.10662  |\n",
      "+------------------+----------+-----------+-----------+----------+\n"
     ]
    },
    {
     "name": "stdout",
     "output_type": "stream",
     "text": [
      "+------------------+----------+-----------+-----------+----------+\n",
      "|                  |   Loss   | Same Mean | Diff Mean | Same STD |\n",
      "+------------------+----------+-----------+-----------+----------+\n",
      "|  On Clean Data   | -0.00395 |  0.01989  |  0.02667  | 0.11291  |\n",
      "| On Poisoned Data | -0.00401 |  0.01983  |  0.02667  | 0.11242  |\n",
      "+------------------+----------+-----------+-----------+----------+\n",
      "+------------------+----------+-----------+-----------+----------+\n",
      "|                  |   Loss   | Same Mean | Diff Mean | Same STD |\n",
      "+------------------+----------+-----------+-----------+----------+\n",
      "|  On Clean Data   | -0.00406 |  0.02051  |  0.02758  | 0.11662  |\n",
      "| On Poisoned Data | -0.00414 |  0.02044  |  0.02758  | 0.11602  |\n",
      "+------------------+----------+-----------+-----------+----------+\n",
      "+------------------+----------+-----------+-----------+----------+\n",
      "|                  |   Loss   | Same Mean | Diff Mean | Same STD |\n",
      "+------------------+----------+-----------+-----------+----------+\n",
      "|  On Clean Data   | -0.00423 |  0.02074  |  0.02803  | 0.11784  |\n",
      "| On Poisoned Data | -0.00432 |  0.02066  |  0.02803  | 0.11718  |\n",
      "+------------------+----------+-----------+-----------+----------+\n",
      "+------------------+----------+-----------+-----------+----------+\n",
      "|                  |   Loss   | Same Mean | Diff Mean | Same STD |\n",
      "+------------------+----------+-----------+-----------+----------+\n",
      "|  On Clean Data   | -0.00438 |  0.02078  |  0.02818  | 0.11791  |\n",
      "| On Poisoned Data | -0.00446 |  0.02071  |  0.02818  | 0.11731  |\n",
      "+------------------+----------+-----------+-----------+----------+\n",
      "+------------------+----------+-----------+-----------+----------+\n",
      "|                  |   Loss   | Same Mean | Diff Mean | Same STD |\n",
      "+------------------+----------+-----------+-----------+----------+\n",
      "|  On Clean Data   | -0.00457 |   0.0207  |  0.02823  | 0.11718  |\n",
      "| On Poisoned Data | -0.00466 |  0.02062  |  0.02823  | 0.11649  |\n",
      "+------------------+----------+-----------+-----------+----------+\n",
      "+------------------+----------+-----------+-----------+----------+\n",
      "|                  |   Loss   | Same Mean | Diff Mean | Same STD |\n",
      "+------------------+----------+-----------+-----------+----------+\n",
      "|  On Clean Data   | -0.00475 |  0.02066  |   0.0283  | 0.11674  |\n",
      "| On Poisoned Data | -0.00485 |  0.02056  |  0.02829  |  0.1159  |\n",
      "+------------------+----------+-----------+-----------+----------+\n",
      "+------------------+----------+-----------+-----------+----------+\n",
      "|                  |   Loss   | Same Mean | Diff Mean | Same STD |\n",
      "+------------------+----------+-----------+-----------+----------+\n",
      "|  On Clean Data   | -0.00501 |  0.02059  |  0.02843  | 0.11591  |\n",
      "| On Poisoned Data | -0.00507 |  0.02054  |  0.02842  | 0.11546  |\n",
      "+------------------+----------+-----------+-----------+----------+\n",
      "+------------------+----------+-----------+-----------+----------+\n",
      "|                  |   Loss   | Same Mean | Diff Mean | Same STD |\n",
      "+------------------+----------+-----------+-----------+----------+\n",
      "|  On Clean Data   | -0.00521 |  0.02059  |  0.02859  |  0.1157  |\n",
      "| On Poisoned Data | -0.00529 |  0.02051  |  0.02858  | 0.11504  |\n",
      "+------------------+----------+-----------+-----------+----------+\n",
      "+------------------+----------+-----------+-----------+----------+\n",
      "|                  |   Loss   | Same Mean | Diff Mean | Same STD |\n",
      "+------------------+----------+-----------+-----------+----------+\n",
      "|  On Clean Data   | -0.00542 |  0.02058  |  0.02874  | 0.11538  |\n",
      "| On Poisoned Data | -0.00549 |  0.02051  |  0.02874  |  0.1148  |\n",
      "+------------------+----------+-----------+-----------+----------+\n",
      "+------------------+----------+-----------+-----------+----------+\n",
      "|                  |   Loss   | Same Mean | Diff Mean | Same STD |\n",
      "+------------------+----------+-----------+-----------+----------+\n",
      "|  On Clean Data   | -0.00559 |  0.02058  |  0.02889  | 0.11521  |\n",
      "| On Poisoned Data | -0.00569 |  0.02048  |  0.02888  |  0.1144  |\n",
      "+------------------+----------+-----------+-----------+----------+\n",
      "+------------------+----------+-----------+-----------+----------+\n",
      "|                  |   Loss   | Same Mean | Diff Mean | Same STD |\n",
      "+------------------+----------+-----------+-----------+----------+\n",
      "|  On Clean Data   | -0.00577 |  0.02061  |  0.02909  | 0.11524  |\n",
      "| On Poisoned Data | -0.00586 |  0.02053  |  0.02908  | 0.11456  |\n",
      "+------------------+----------+-----------+-----------+----------+\n"
     ]
    },
    {
     "ename": "KeyboardInterrupt",
     "evalue": "",
     "output_type": "error",
     "traceback": [
      "\u001b[0;31m---------------------------------------------------------------------------\u001b[0m",
      "\u001b[0;31mKeyboardInterrupt\u001b[0m                         Traceback (most recent call last)",
      "Cell \u001b[0;32mIn[14], line 52\u001b[0m\n\u001b[1;32m     50\u001b[0m overallLoss \u001b[38;5;241m=\u001b[39m \u001b[38;5;241m-\u001b[39maPerfPoisoned \u001b[38;5;241m+\u001b[39m cPerfClean \u001b[38;5;241m+\u001b[39m \u001b[38;5;241m1\u001b[39m \u001b[38;5;241m*\u001b[39m cPerfPoisoned\u001b[38;5;66;03m#  + diffInFeas\u001b[39;00m\n\u001b[1;32m     51\u001b[0m \u001b[38;5;66;03m#overallLoss = -aPerfPoisoned\u001b[39;00m\n\u001b[0;32m---> 52\u001b[0m \u001b[43moverallLoss\u001b[49m\u001b[38;5;241;43m.\u001b[39;49m\u001b[43mbackward\u001b[49m\u001b[43m(\u001b[49m\u001b[43m)\u001b[49m\n\u001b[1;32m     53\u001b[0m opt\u001b[38;5;241m.\u001b[39mstep()\n\u001b[1;32m     55\u001b[0m \u001b[38;5;28mprint\u001b[39m(trainLog)\n",
      "File \u001b[0;32m~/.conda/envs/TSM/lib/python3.10/site-packages/torch/_tensor.py:396\u001b[0m, in \u001b[0;36mTensor.backward\u001b[0;34m(self, gradient, retain_graph, create_graph, inputs)\u001b[0m\n\u001b[1;32m    387\u001b[0m \u001b[38;5;28;01mif\u001b[39;00m has_torch_function_unary(\u001b[38;5;28mself\u001b[39m):\n\u001b[1;32m    388\u001b[0m     \u001b[38;5;28;01mreturn\u001b[39;00m handle_torch_function(\n\u001b[1;32m    389\u001b[0m         Tensor\u001b[38;5;241m.\u001b[39mbackward,\n\u001b[1;32m    390\u001b[0m         (\u001b[38;5;28mself\u001b[39m,),\n\u001b[0;32m   (...)\u001b[0m\n\u001b[1;32m    394\u001b[0m         create_graph\u001b[38;5;241m=\u001b[39mcreate_graph,\n\u001b[1;32m    395\u001b[0m         inputs\u001b[38;5;241m=\u001b[39minputs)\n\u001b[0;32m--> 396\u001b[0m \u001b[43mtorch\u001b[49m\u001b[38;5;241;43m.\u001b[39;49m\u001b[43mautograd\u001b[49m\u001b[38;5;241;43m.\u001b[39;49m\u001b[43mbackward\u001b[49m\u001b[43m(\u001b[49m\u001b[38;5;28;43mself\u001b[39;49m\u001b[43m,\u001b[49m\u001b[43m \u001b[49m\u001b[43mgradient\u001b[49m\u001b[43m,\u001b[49m\u001b[43m \u001b[49m\u001b[43mretain_graph\u001b[49m\u001b[43m,\u001b[49m\u001b[43m \u001b[49m\u001b[43mcreate_graph\u001b[49m\u001b[43m,\u001b[49m\u001b[43m \u001b[49m\u001b[43minputs\u001b[49m\u001b[38;5;241;43m=\u001b[39;49m\u001b[43minputs\u001b[49m\u001b[43m)\u001b[49m\n",
      "File \u001b[0;32m~/.conda/envs/TSM/lib/python3.10/site-packages/torch/autograd/__init__.py:173\u001b[0m, in \u001b[0;36mbackward\u001b[0;34m(tensors, grad_tensors, retain_graph, create_graph, grad_variables, inputs)\u001b[0m\n\u001b[1;32m    168\u001b[0m     retain_graph \u001b[38;5;241m=\u001b[39m create_graph\n\u001b[1;32m    170\u001b[0m \u001b[38;5;66;03m# The reason we repeat same the comment below is that\u001b[39;00m\n\u001b[1;32m    171\u001b[0m \u001b[38;5;66;03m# some Python versions print out the first line of a multi-line function\u001b[39;00m\n\u001b[1;32m    172\u001b[0m \u001b[38;5;66;03m# calls in the traceback and some print out the last line\u001b[39;00m\n\u001b[0;32m--> 173\u001b[0m \u001b[43mVariable\u001b[49m\u001b[38;5;241;43m.\u001b[39;49m\u001b[43m_execution_engine\u001b[49m\u001b[38;5;241;43m.\u001b[39;49m\u001b[43mrun_backward\u001b[49m\u001b[43m(\u001b[49m\u001b[43m  \u001b[49m\u001b[38;5;66;43;03m# Calls into the C++ engine to run the backward pass\u001b[39;49;00m\n\u001b[1;32m    174\u001b[0m \u001b[43m    \u001b[49m\u001b[43mtensors\u001b[49m\u001b[43m,\u001b[49m\u001b[43m \u001b[49m\u001b[43mgrad_tensors_\u001b[49m\u001b[43m,\u001b[49m\u001b[43m \u001b[49m\u001b[43mretain_graph\u001b[49m\u001b[43m,\u001b[49m\u001b[43m \u001b[49m\u001b[43mcreate_graph\u001b[49m\u001b[43m,\u001b[49m\u001b[43m \u001b[49m\u001b[43minputs\u001b[49m\u001b[43m,\u001b[49m\n\u001b[1;32m    175\u001b[0m \u001b[43m    \u001b[49m\u001b[43mallow_unreachable\u001b[49m\u001b[38;5;241;43m=\u001b[39;49m\u001b[38;5;28;43;01mTrue\u001b[39;49;00m\u001b[43m,\u001b[49m\u001b[43m \u001b[49m\u001b[43maccumulate_grad\u001b[49m\u001b[38;5;241;43m=\u001b[39;49m\u001b[38;5;28;43;01mTrue\u001b[39;49;00m\u001b[43m)\u001b[49m\n",
      "\u001b[0;31mKeyboardInterrupt\u001b[0m: "
     ]
    }
   ],
   "source": [
    "#get clean features\n",
    "feas_clean = extract_node_feature(vers_train,adjs_train) #grad on nothing\n",
    "opt = optim.Adam(atkG.weights + atkM.weights + contraG.weights + contraM.weights, lr = lr)\n",
    "\n",
    "for contraI in range(100):\n",
    "    trainLog = pt.PrettyTable()\n",
    "    trainLog.field_names = [\" \",\"Loss\", \"Same Mean\", \"Diff Mean\", \"Same STD\"]\n",
    "    \n",
    "    \n",
    "    opt.zero_grad()\n",
    "\n",
    "    #get poisoned vertex locations\n",
    "    poisonsByGroups = atkM.forward(atkG.forward(nadjs_train,feas_clean))\n",
    "    transformation = translate_by_group(gMats_train,\n",
    "                                        poisonsByGroups)\n",
    "    poisonedVers = vers_train + transformation\n",
    "        \n",
    "        \n",
    "    #extract poisoned features\n",
    "    feas_poisoned = extract_node_feature(poisonedVers,adjs_train) #grad on 😈\n",
    "\n",
    "    \n",
    "    #get contraNN's performance on poisoned feature with grads on 😈    \n",
    "    contraM.eval()\n",
    "    contraG.eval()\n",
    "    aPerfPoisoned, APP = loss(contraM.forward(contraG.forward(nadjs_train,feas_poisoned)),\n",
    "                         label_mat_train) #grad on 😈\n",
    "    \n",
    "    #get contraNN's performance on clean feature and poisoned feature with grads on 🤠\n",
    "    contraM.train()\n",
    "    contraG.train()\n",
    "    feas_poisoned_nograd = feas_poisoned.detach() #grad on nothing\n",
    "    \n",
    "    objFeasFromClean = contraM.forward(contraG.forward(nadjs_train,feas_clean))\n",
    "    objFeasFromPoisoned = contraM.forward(contraG.forward(nadjs_train,feas_poisoned_nograd))\n",
    "    \n",
    "    diffInFeas = torch.sum((objFeasFromClean - objFeasFromPoisoned)**2)\n",
    "    \n",
    "    cPerfClean, CPC = loss(objFeasFromClean,\n",
    "                      label_mat_train) #grad on 🤠\n",
    "    \n",
    "    cPerfPoisoned, CPP = loss(objFeasFromPoisoned,\n",
    "                         label_mat_train) #grad on 🤠\n",
    "    \n",
    "    \n",
    "    trainLog.add_row(['On Clean Data']+CPC)\n",
    "    trainLog.add_row(['On Poisoned Data']+CPP)\n",
    "\n",
    "    \n",
    "    overallLoss = -aPerfPoisoned + cPerfClean + 1 * cPerfPoisoned#  + diffInFeas\n",
    "    #overallLoss = -aPerfPoisoned\n",
    "    overallLoss.backward()\n",
    "    opt.step()\n",
    "    \n",
    "    print(trainLog)"
   ]
  },
  {
   "cell_type": "markdown",
   "id": "bff459eb",
   "metadata": {
    "collapsed": true,
    "slideshow": {
     "slide_type": "skip"
    }
   },
   "source": [
    "## 3.7 Seeing how it does on Test Data"
   ]
  },
  {
   "cell_type": "code",
   "execution_count": 20,
   "id": "2cee83e1",
   "metadata": {},
   "outputs": [
    {
     "name": "stdout",
     "output_type": "stream",
     "text": [
      "tensor(-0.0068791099, grad_fn=<AddBackward0>)\n",
      "tensor([[-0.3076239526, -0.2842032611, -0.2930339277,  ...,\n",
      "          0.1783852428,  0.0622548312,  0.3101460636],\n",
      "        [-0.3042369783, -0.2844330370, -0.2888605893,  ...,\n",
      "          0.1798723787,  0.0655030087,  0.2998846173],\n",
      "        [-0.3052733541, -0.2836541831, -0.2918921709,  ...,\n",
      "          0.1789519936,  0.0633890331,  0.3072849810],\n",
      "        ...,\n",
      "        [-0.3035507798, -0.2839238346, -0.2892574370,  ...,\n",
      "          0.1796068996,  0.0655797049,  0.3009034991],\n",
      "        [-0.3025924861, -0.2843010724, -0.2873218656,  ...,\n",
      "          0.1802264005,  0.0669463724,  0.2962012589],\n",
      "        [-0.3191548586, -0.2834561169, -0.3068510890,  ...,\n",
      "          0.1742148101,  0.0503312126,  0.3437234461]],\n",
      "       grad_fn=<TanhBackward0>)\n"
     ]
    }
   ],
   "source": [
    "feas_clean_test = extract_node_feature(vers_test,adjs_test)\n",
    "\n",
    "atkTest = atkM.forward(atkG.forward(nadjs_test,feas_clean_test))\n",
    "\n",
    "poisonedVersTest = vers_test + translate_by_group(gMats_test,atkTest)\n",
    "        \n",
    "feas_poisoned_test = extract_node_feature(poisonedVersTest,adjs_test)\n",
    "        \n",
    "contraOutPoisonedTest = contraM.forward(contraG.forward(nadjs_test,feas_poisoned_test))\n",
    "contraLossPoisonedTest,_ = loss(contraOutPoisonedTest,label_mat_test)\n",
    "\n",
    "contraOutCleanTest = contraM.forward(contraG.forward(nadjs_test,feas_clean_test))\n",
    "contraLossCleanTest,_ = loss(contraOutCleanTest,label_mat_test)\n",
    "\n",
    "print(contraLossPoisonedTest)\n",
    "print(contraLossCleanTest)"
   ]
  },
  {
   "cell_type": "code",
   "execution_count": null,
   "id": "c372b157",
   "metadata": {},
   "outputs": [],
   "source": []
  },
  {
   "cell_type": "code",
   "execution_count": null,
   "id": "38c3877d",
   "metadata": {},
   "outputs": [],
   "source": []
  },
  {
   "cell_type": "code",
   "execution_count": null,
   "id": "813aec57",
   "metadata": {},
   "outputs": [],
   "source": []
  },
  {
   "cell_type": "code",
   "execution_count": 16,
   "id": "5d3800b0",
   "metadata": {},
   "outputs": [],
   "source": [
    "# plt.clf()"
   ]
  },
  {
   "cell_type": "code",
   "execution_count": 17,
   "id": "f334336a",
   "metadata": {
    "slideshow": {
     "slide_type": "skip"
    }
   },
   "outputs": [
    {
     "name": "stdout",
     "output_type": "stream",
     "text": [
      "torch.Size([202500])\n",
      "torch.Size([202500])\n",
      "0.018929414 0.02852991\n",
      "torch.Size([202500])\n",
      "torch.Size([202500])\n",
      "0.01893601 0.028535517\n"
     ]
    },
    {
     "name": "stderr",
     "output_type": "stream",
     "text": [
      "/var/folders/y9/sgsdqvs575j76jqnz728mwkh0000gn/T/ipykernel_22038/1455725483.py:4: UserWarning: To copy construct from a tensor, it is recommended to use sourceTensor.clone().detach() or sourceTensor.clone().detach().requires_grad_(True), rather than torch.tensor(sourceTensor).\n",
      "  mask_same = torch.tensor(label_mat - torch.diag(torch.ones(size)),dtype=bool).flatten()\n",
      "/var/folders/y9/sgsdqvs575j76jqnz728mwkh0000gn/T/ipykernel_22038/1455725483.py:8: UserWarning: To copy construct from a tensor, it is recommended to use sourceTensor.clone().detach() or sourceTensor.clone().detach().requires_grad_(True), rather than torch.tensor(sourceTensor).\n",
      "  mask_diff = torch.tensor(1 - label_mat,dtype=bool).flatten()\n"
     ]
    },
    {
     "data": {
      "application/vnd.jupyter.widget-view+json": {
       "model_id": "5a45a6f2795944c7ada8a78adda1ed07",
       "version_major": 2,
       "version_minor": 0
      },
      "image/png": "[encoded data removed]",
      "text/html": [
       "\n",
       "            <div style=\"display: inline-block;\">\n",
       "                <div class=\"jupyter-widgets widget-label\" style=\"text-align: center;\">\n",
       "                    Figure\n",
       "                </div>\n",
       "                <img src='data:image/png;base64,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' width=640.0/>\n",
       "            </div>\n",
       "        "
      ],
      "text/plain": [
       "Canvas(toolbar=Toolbar(toolitems=[('Home', 'Reset original view', 'home', 'home'), ('Back', 'Back to previous …"
      ]
     },
     "metadata": {},
     "output_type": "display_data"
    },
    {
     "data": {
      "application/vnd.jupyter.widget-view+json": {
       "model_id": "5b4e11c5e9b44c1db33bd8c95149cf24",
       "version_major": 2,
       "version_minor": 0
      },
      "image/png": "[encoded data removed]",
      "text/html": [
       "\n",
       "            <div style=\"display: inline-block;\">\n",
       "                <div class=\"jupyter-widgets widget-label\" style=\"text-align: center;\">\n",
       "                    Figure\n",
       "                </div>\n",
       "                <img src='data:image/png;base64,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' width=640.0/>\n",
       "            </div>\n",
       "        "
      ],
      "text/plain": [
       "Canvas(toolbar=Toolbar(toolitems=[('Home', 'Reset original view', 'home', 'home'), ('Back', 'Back to previous …"
      ]
     },
     "metadata": {},
     "output_type": "display_data"
    }
   ],
   "source": [
    "feas_clean_test = extract_node_feature(vers_test,adjs_test)\n",
    "\n",
    "atkTest = atkM.forward(atkG.forward(nadjs_test,feas_clean_test))\n",
    "\n",
    "poisonedVersTest = vers_test + translate_by_group(gMats_test,atkTest)\n",
    "\n",
    "feas_poisoned_test = extract_node_feature(poisonedVersTest,adjs_test)\n",
    "\n",
    "contraOutPoisonedTest = contraM.forward(contraG.forward(nadjs_test,feas_poisoned_test))\n",
    "\n",
    "contraOutCleanTest = contraM.forward(contraG.forward(nadjs_test,feas_clean_test))\n",
    "\n",
    "#display histograms\n",
    "display_hists(contraOutPoisonedTest, label_mat_test, test_size)\n",
    "display_hists(contraOutCleanTest, label_mat_test, test_size)"
   ]
  },
  {
   "cell_type": "code",
   "execution_count": null,
   "id": "d98617b4",
   "metadata": {},
   "outputs": [],
   "source": []
  },
  {
   "cell_type": "code",
   "execution_count": null,
   "id": "ff118a28",
   "metadata": {},
   "outputs": [],
   "source": []
  },
  {
   "cell_type": "code",
   "execution_count": null,
   "id": "afe39dab",
   "metadata": {},
   "outputs": [],
   "source": []
  },
  {
   "cell_type": "code",
   "execution_count": null,
   "id": "672d51d9",
   "metadata": {},
   "outputs": [],
   "source": [
    "plt.clf()"
   ]
  },
  {
   "cell_type": "code",
   "execution_count": null,
   "id": "cf1d4cc8",
   "metadata": {
    "slideshow": {
     "slide_type": "skip"
    }
   },
   "outputs": [],
   "source": [
    "from mpl_toolkits.mplot3d import axes3d\n",
    "\n",
    "\n",
    "index_in_question = 1\n",
    "\n",
    "#Plot first clustered mesh\n",
    "dataPlot = vers[index_in_question]\n",
    "\n",
    "fig = plt.figure()\n",
    "ax = fig.add_subplot(121,projection='3d')\n",
    "\n",
    "ax.scatter(dataPlot[:,0], dataPlot[:,1], dataPlot[:,2], label=gLbls[index_in_question,:], c = gLbls[index_in_question,:], cmap = 'viridis',s = 3)\n",
    "ax.set_title('clean')\n",
    "\n",
    "plt.axis('off')\n",
    "\n",
    "#Plot second clustered point coud\n",
    "#get poison\n",
    "atkOut = atkM.forward(atkG.forward(nadjs_train,feas_clean))\n",
    "poisonedVers = vers_train + translate_by_group(gMats_train,atkOut).detach().numpy()\n",
    "\n",
    "print(poisonedVers.shape)\n",
    "#poisioedVers = np.zeros([1350,252,3])\n",
    "poisonedDataPlot = poisonedVers[index_in_question]\n",
    "\n",
    "ax = fig.add_subplot(122,projection='3d')\n",
    "\n",
    "ax.scatter(poisonedDataPlot[:,0], poisonedDataPlot[:,1], poisonedDataPlot[:,2], label=gLbls[index_in_question,:], c = gLbls[index_in_question,:], cmap = 'viridis', s = 3)\n",
    "ax.set_title('poisoned')\n",
    "\n",
    "plt.axis('off')\n",
    "\n",
    "plt.show()"
   ]
  },
  {
   "cell_type": "code",
   "execution_count": null,
   "id": "f511ee37",
   "metadata": {},
   "outputs": [],
   "source": [
    "# ax.axes.xaxis.set_ticklabels([])\n",
    "# ax.axes.yaxis.set_ticklabels([])\n",
    "# ax.axes.zaxis.set_ticklabels([])\n",
    "# ax.set_xlabel('X')\n",
    "# ax.set_ylabel('Y')\n",
    "# ax.set_zlabel('Z')"
   ]
  },
  {
   "cell_type": "code",
   "execution_count": null,
   "id": "72f970b0",
   "metadata": {},
   "outputs": [],
   "source": [
    "saveWeightsDir = 'weights/2-21safdds/'\n",
    "torch.save(contraG.weights, saveWeightsDir + 'contraGw.pt')\n",
    "torch.save(contraM.weights, saveWeightsDir + 'contraMw.pt')\n",
    "torch.save(atkG.weights, saveWeightsDir + 'atkGw.pt') \n",
    "torch.save(atkM.weights, saveWeightsDir + 'atkMw.pt')"
   ]
  },
  {
   "cell_type": "code",
   "execution_count": null,
   "id": "7202b262",
   "metadata": {},
   "outputs": [],
   "source": []
  }
 ],
 "metadata": {
  "kernelspec": {
   "display_name": "Python 3 (ipykernel)",
   "language": "python",
   "name": "python3"
  },
  "language_info": {
   "codemirror_mode": {
    "name": "ipython",
    "version": 3
   },
   "file_extension": ".py",
   "mimetype": "text/x-python",
   "name": "python",
   "nbconvert_exporter": "python",
   "pygments_lexer": "ipython3",
   "version": "3.10.9"
  }
 },
 "nbformat": 4,
 "nbformat_minor": 5
}
