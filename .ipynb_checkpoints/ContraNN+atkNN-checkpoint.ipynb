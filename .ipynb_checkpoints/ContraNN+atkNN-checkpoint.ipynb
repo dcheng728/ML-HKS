{
 "cells": [
  {
   "cell_type": "code",
   "execution_count": 1,
   "id": "e9ab7b6e",
   "metadata": {
    "slideshow": {
     "slide_type": "slide"
    }
   },
   "outputs": [],
   "source": [
    "import torch.optim as optim\n",
    "import torch\n",
    "import numpy as np\n",
    "import matplotlib.pyplot as plt\n",
    "import random\n",
    "import os\n",
    "import prettytable as pt\n",
    "%run helpers_preproc.ipynb\n",
    "%matplotlib widget"
   ]
  },
  {
   "cell_type": "markdown",
   "id": "4b2719b0",
   "metadata": {
    "slideshow": {
     "slide_type": "skip"
    }
   },
   "source": [
    "# Hyper Parameters"
   ]
  },
  {
   "cell_type": "code",
   "execution_count": 2,
   "id": "b34c00ab",
   "metadata": {
    "slideshow": {
     "slide_type": "slide"
    }
   },
   "outputs": [],
   "source": [
    "origDataDir = 'SHREC11/'\n",
    "newDataDir = 'SHREC11_plus/'\n",
    "K = 5\n",
    "radiuss = [0.0002,0.002,0.01]\n",
    "train_size = 450 * len(radiuss)\n",
    "test_size = (600-450) * len(radiuss)"
   ]
  },
  {
   "cell_type": "markdown",
   "id": "684373cc",
   "metadata": {
    "slideshow": {
     "slide_type": "slide"
    }
   },
   "source": [
    "# 1. expand dataset and scramble"
   ]
  },
  {
   "cell_type": "code",
   "execution_count": 3,
   "id": "848dd975",
   "metadata": {
    "slideshow": {
     "slide_type": "fragment"
    }
   },
   "outputs": [],
   "source": [
    "expand(origDataDir, newDataDir, radiuss)\n",
    "scramble(newDataDir, 10000,600 * len(radiuss))"
   ]
  },
  {
   "cell_type": "markdown",
   "id": "eca467ac",
   "metadata": {
    "slideshow": {
     "slide_type": "slide"
    }
   },
   "source": [
    "# 2. read in the dataset"
   ]
  },
  {
   "cell_type": "markdown",
   "id": "51110c1a",
   "metadata": {
    "slideshow": {
     "slide_type": "slide"
    }
   },
   "source": [
    "## 2.1 read in v (252 x 3),f (...x...) and cluster"
   ]
  },
  {
   "cell_type": "code",
   "execution_count": 4,
   "id": "1428b3a4",
   "metadata": {
    "slideshow": {
     "slide_type": "fragment"
    }
   },
   "outputs": [
    {
     "name": "stderr",
     "output_type": "stream",
     "text": [
      "/var/folders/y9/sgsdqvs575j76jqnz728mwkh0000gn/T/ipykernel_22857/2399023897.py:12: RuntimeWarning: invalid value encountered in divide\n",
      "  normed_adj = adj / np.reshape(np.sum(adj,axis = 0),[252,1])\n"
     ]
    }
   ],
   "source": [
    "ver_list = []\n",
    "adj_list = []\n",
    "Nadj_list = []\n",
    "gMat_list = []\n",
    "gLbl_list = []\n",
    "\n",
    "for i in range(600 * len(radiuss)):\n",
    "    v, f = get_nodes(newDataDir + 'T' + str(i) + '.obj')\n",
    "    group_mat, group_labels = K_mean_cluster(v, K)\n",
    "    \n",
    "    adj = get_adj_from_f(f)            \n",
    "    normed_adj = adj / np.reshape(np.sum(adj,axis = 0),[252,1])\n",
    "    ver_list.append(v)\n",
    "    adj_list.append(adj)\n",
    "    Nadj_list.append(normed_adj)\n",
    "    gMat_list.append(group_mat)\n",
    "    gLbl_list.append(group_labels)\n",
    "    \n",
    "    \n",
    "vers = np.array(ver_list)\n",
    "adjs = np.array(adj_list)\n",
    "Nadjs = np.array(Nadj_list)\n",
    "gMats = np.array(gMat_list)\n",
    "gLbls = np.array(gLbl_list)"
   ]
  },
  {
   "cell_type": "markdown",
   "id": "013d531c",
   "metadata": {
    "slideshow": {
     "slide_type": "slide"
    }
   },
   "source": [
    "## 2.2 Read in the labels"
   ]
  },
  {
   "cell_type": "code",
   "execution_count": 5,
   "id": "3d47dac9",
   "metadata": {
    "slideshow": {
     "slide_type": "fragment"
    }
   },
   "outputs": [],
   "source": [
    "label_np = np.array(readLbl(600 * len(radiuss),newDataDir+'labels.txt'))\n",
    "label_np_train = label_np[:train_size]\n",
    "label_np_test = label_np[train_size:]"
   ]
  },
  {
   "cell_type": "markdown",
   "id": "5329a9ea",
   "metadata": {
    "slideshow": {
     "slide_type": "slide"
    }
   },
   "source": [
    "## 2.3 Split into training set and testing set"
   ]
  },
  {
   "cell_type": "code",
   "execution_count": 6,
   "id": "bb6dcc36",
   "metadata": {
    "slideshow": {
     "slide_type": "fragment"
    }
   },
   "outputs": [],
   "source": [
    "vers_train = torch.tensor(vers[:train_size]).float()\n",
    "adjs_train = torch.tensor(adjs[:train_size]).float()\n",
    "nadjs_train = torch.nan_to_num(torch.tensor(Nadjs[:train_size]).float(),0,0,0)\n",
    "gMats_train = torch.tensor(gMats[:train_size]).float()\n",
    "label_train = torch.tensor(label_np_train).float()\n",
    "\n",
    "vers_test = torch.tensor(vers[train_size:]).float()\n",
    "adjs_test = torch.tensor(adjs[train_size:]).float()\n",
    "nadjs_test = torch.nan_to_num(torch.tensor(Nadjs[train_size:]).float(),0,0,0)\n",
    "gMats_test = torch.tensor(gMats[train_size:]).float()\n",
    "label_test = torch.tensor(label_np_test).float()\n",
    "\n",
    "label_mat_train = torch.tensor(np.where(igl.all_pairs_distances(label_np_train,label_np_train,False) > 0.5,0,1)).float()\n",
    "label_mat_test = torch.tensor(np.where(igl.all_pairs_distances(label_np_test,label_np_test,False) > 0.5,0,1)).float()"
   ]
  },
  {
   "cell_type": "markdown",
   "id": "58ac61b4",
   "metadata": {
    "slideshow": {
     "slide_type": "slide"
    }
   },
   "source": [
    "# 3. Training"
   ]
  },
  {
   "cell_type": "markdown",
   "id": "1b06f3bb",
   "metadata": {
    "slideshow": {
     "slide_type": "slide"
    }
   },
   "source": [
    "## 3.1 Hyperparameters for training"
   ]
  },
  {
   "cell_type": "code",
   "execution_count": 7,
   "id": "5af46682",
   "metadata": {
    "slideshow": {
     "slide_type": "fragment"
    }
   },
   "outputs": [],
   "source": [
    "contraGWs = [10,10,10,10]\n",
    "contraMWs = [10,10,10,10]\n",
    "atkGWs = [10,10,10,10]\n",
    "atkMWs = [10,10,10,K * 3 + 1]"
   ]
  },
  {
   "cell_type": "markdown",
   "id": "71e6cccc",
   "metadata": {
    "slideshow": {
     "slide_type": "slide"
    }
   },
   "source": [
    "## 3.2 Initialize neural networks"
   ]
  },
  {
   "cell_type": "code",
   "execution_count": 8,
   "id": "832b8db7",
   "metadata": {
    "slideshow": {
     "slide_type": "fragment"
    }
   },
   "outputs": [],
   "source": [
    "%run NNs.ipynb\n",
    "%run helpers_preproc.ipynb\n",
    "loadWeightDir = 'weights/2-21-1/'"
   ]
  },
  {
   "cell_type": "code",
   "execution_count": 9,
   "id": "1ac9d994",
   "metadata": {},
   "outputs": [],
   "source": [
    "load_model = True"
   ]
  },
  {
   "cell_type": "code",
   "execution_count": 10,
   "id": "98ced77c",
   "metadata": {},
   "outputs": [],
   "source": [
    "contraG = GCN(3,contraGWs)\n",
    "contraM = MLP(252* contraGWs[len(contraGWs)-1],contraMWs)\n",
    "atkG = GCN(3,atkGWs)\n",
    "atkM = MLP_atk(252* atkGWs[len(contraGWs)-1], 0.2, K, atkMWs)\n",
    "\n",
    "if load_model:\n",
    "    contraG.weights = torch.load(loadWeightDir + 'contraGw.pt')\n",
    "    contraM.weights = torch.load(loadWeightDir + 'contraMw.pt')\n",
    "    atkG.weights = torch.load(loadWeightDir + 'atkGw.pt')\n",
    "    atkM.weights = torch.load(loadWeightDir + 'atkMw.pt')"
   ]
  },
  {
   "cell_type": "markdown",
   "id": "d1510530",
   "metadata": {
    "slideshow": {
     "slide_type": "slide"
    }
   },
   "source": [
    "## 3.4 Extract node-level features from clean data"
   ]
  },
  {
   "cell_type": "code",
   "execution_count": 11,
   "id": "9ca6bd8a",
   "metadata": {
    "slideshow": {
     "slide_type": "fragment"
    }
   },
   "outputs": [],
   "source": [
    "feas_clean = extract_node_feature(vers_train,adjs_train)"
   ]
  },
  {
   "cell_type": "code",
   "execution_count": 12,
   "id": "f9ce8f8a",
   "metadata": {
    "slideshow": {
     "slide_type": "fragment"
    }
   },
   "outputs": [],
   "source": [
    "%run L.ipynb"
   ]
  },
  {
   "cell_type": "markdown",
   "id": "513d148f",
   "metadata": {
    "slideshow": {
     "slide_type": "slide"
    }
   },
   "source": [
    "## 3.5 Train atkNN😈 with contraNN🤠"
   ]
  },
  {
   "cell_type": "code",
   "execution_count": 13,
   "id": "f5d3147c",
   "metadata": {
    "slideshow": {
     "slide_type": "fragment"
    }
   },
   "outputs": [],
   "source": [
    "lr = 0.0001\n",
    "torch.set_printoptions(precision=10)"
   ]
  },
  {
   "cell_type": "markdown",
   "id": "f183d60a",
   "metadata": {},
   "source": [
    "Loss Defined to be: \n",
    "\n",
    "$\\text{-diffTypeMean + sameTypeMean} + 0.02 \\times \\sqrt{\\text{sameTypeStd}}$"
   ]
  },
  {
   "cell_type": "code",
   "execution_count": 14,
   "id": "4e942233",
   "metadata": {
    "scrolled": true,
    "slideshow": {
     "slide_type": "fragment"
    }
   },
   "outputs": [
    {
     "name": "stdout",
     "output_type": "stream",
     "text": [
      "+------------------+----------+-----------+-----------+----------+\n",
      "|                  |   Loss   | Same Mean | Diff Mean | Same STD |\n",
      "+------------------+----------+-----------+-----------+----------+\n",
      "|  On Clean Data   | -0.2561  |  0.03852  |  0.86067  | 0.25393  |\n",
      "| On Poisoned Data | -0.20459 |  0.08645  |  0.85568  | 0.49222  |\n",
      "+------------------+----------+-----------+-----------+----------+\n",
      "+------------------+----------+-----------+-----------+----------+\n",
      "|                  |   Loss   | Same Mean | Diff Mean | Same STD |\n",
      "+------------------+----------+-----------+-----------+----------+\n",
      "|  On Clean Data   | -0.22454 |  0.06842  |  0.87773  |  0.3979  |\n",
      "| On Poisoned Data | -0.19098 |  0.09952  |  0.87425  | 0.56177  |\n",
      "+------------------+----------+-----------+-----------+----------+\n"
     ]
    },
    {
     "ename": "KeyboardInterrupt",
     "evalue": "",
     "output_type": "error",
     "traceback": [
      "\u001b[0;31m---------------------------------------------------------------------------\u001b[0m",
      "\u001b[0;31mKeyboardInterrupt\u001b[0m                         Traceback (most recent call last)",
      "Cell \u001b[0;32mIn[14], line 52\u001b[0m\n\u001b[1;32m     50\u001b[0m overallLoss \u001b[38;5;241m=\u001b[39m \u001b[38;5;241m-\u001b[39maPerfPoisoned \u001b[38;5;241m+\u001b[39m cPerfClean \u001b[38;5;241m+\u001b[39m \u001b[38;5;241m1\u001b[39m \u001b[38;5;241m*\u001b[39m cPerfPoisoned\u001b[38;5;66;03m#  + diffInFeas\u001b[39;00m\n\u001b[1;32m     51\u001b[0m \u001b[38;5;66;03m#overallLoss = -aPerfPoisoned\u001b[39;00m\n\u001b[0;32m---> 52\u001b[0m \u001b[43moverallLoss\u001b[49m\u001b[38;5;241;43m.\u001b[39;49m\u001b[43mbackward\u001b[49m\u001b[43m(\u001b[49m\u001b[43m)\u001b[49m\n\u001b[1;32m     53\u001b[0m opt\u001b[38;5;241m.\u001b[39mstep()\n\u001b[1;32m     55\u001b[0m \u001b[38;5;28mprint\u001b[39m(trainLog)\n",
      "File \u001b[0;32m~/.conda/envs/TSM/lib/python3.10/site-packages/torch/_tensor.py:396\u001b[0m, in \u001b[0;36mTensor.backward\u001b[0;34m(self, gradient, retain_graph, create_graph, inputs)\u001b[0m\n\u001b[1;32m    387\u001b[0m \u001b[38;5;28;01mif\u001b[39;00m has_torch_function_unary(\u001b[38;5;28mself\u001b[39m):\n\u001b[1;32m    388\u001b[0m     \u001b[38;5;28;01mreturn\u001b[39;00m handle_torch_function(\n\u001b[1;32m    389\u001b[0m         Tensor\u001b[38;5;241m.\u001b[39mbackward,\n\u001b[1;32m    390\u001b[0m         (\u001b[38;5;28mself\u001b[39m,),\n\u001b[0;32m   (...)\u001b[0m\n\u001b[1;32m    394\u001b[0m         create_graph\u001b[38;5;241m=\u001b[39mcreate_graph,\n\u001b[1;32m    395\u001b[0m         inputs\u001b[38;5;241m=\u001b[39minputs)\n\u001b[0;32m--> 396\u001b[0m \u001b[43mtorch\u001b[49m\u001b[38;5;241;43m.\u001b[39;49m\u001b[43mautograd\u001b[49m\u001b[38;5;241;43m.\u001b[39;49m\u001b[43mbackward\u001b[49m\u001b[43m(\u001b[49m\u001b[38;5;28;43mself\u001b[39;49m\u001b[43m,\u001b[49m\u001b[43m \u001b[49m\u001b[43mgradient\u001b[49m\u001b[43m,\u001b[49m\u001b[43m \u001b[49m\u001b[43mretain_graph\u001b[49m\u001b[43m,\u001b[49m\u001b[43m \u001b[49m\u001b[43mcreate_graph\u001b[49m\u001b[43m,\u001b[49m\u001b[43m \u001b[49m\u001b[43minputs\u001b[49m\u001b[38;5;241;43m=\u001b[39;49m\u001b[43minputs\u001b[49m\u001b[43m)\u001b[49m\n",
      "File \u001b[0;32m~/.conda/envs/TSM/lib/python3.10/site-packages/torch/autograd/__init__.py:173\u001b[0m, in \u001b[0;36mbackward\u001b[0;34m(tensors, grad_tensors, retain_graph, create_graph, grad_variables, inputs)\u001b[0m\n\u001b[1;32m    168\u001b[0m     retain_graph \u001b[38;5;241m=\u001b[39m create_graph\n\u001b[1;32m    170\u001b[0m \u001b[38;5;66;03m# The reason we repeat same the comment below is that\u001b[39;00m\n\u001b[1;32m    171\u001b[0m \u001b[38;5;66;03m# some Python versions print out the first line of a multi-line function\u001b[39;00m\n\u001b[1;32m    172\u001b[0m \u001b[38;5;66;03m# calls in the traceback and some print out the last line\u001b[39;00m\n\u001b[0;32m--> 173\u001b[0m \u001b[43mVariable\u001b[49m\u001b[38;5;241;43m.\u001b[39;49m\u001b[43m_execution_engine\u001b[49m\u001b[38;5;241;43m.\u001b[39;49m\u001b[43mrun_backward\u001b[49m\u001b[43m(\u001b[49m\u001b[43m  \u001b[49m\u001b[38;5;66;43;03m# Calls into the C++ engine to run the backward pass\u001b[39;49;00m\n\u001b[1;32m    174\u001b[0m \u001b[43m    \u001b[49m\u001b[43mtensors\u001b[49m\u001b[43m,\u001b[49m\u001b[43m \u001b[49m\u001b[43mgrad_tensors_\u001b[49m\u001b[43m,\u001b[49m\u001b[43m \u001b[49m\u001b[43mretain_graph\u001b[49m\u001b[43m,\u001b[49m\u001b[43m \u001b[49m\u001b[43mcreate_graph\u001b[49m\u001b[43m,\u001b[49m\u001b[43m \u001b[49m\u001b[43minputs\u001b[49m\u001b[43m,\u001b[49m\n\u001b[1;32m    175\u001b[0m \u001b[43m    \u001b[49m\u001b[43mallow_unreachable\u001b[49m\u001b[38;5;241;43m=\u001b[39;49m\u001b[38;5;28;43;01mTrue\u001b[39;49;00m\u001b[43m,\u001b[49m\u001b[43m \u001b[49m\u001b[43maccumulate_grad\u001b[49m\u001b[38;5;241;43m=\u001b[39;49m\u001b[38;5;28;43;01mTrue\u001b[39;49;00m\u001b[43m)\u001b[49m\n",
      "\u001b[0;31mKeyboardInterrupt\u001b[0m: "
     ]
    }
   ],
   "source": [
    "#get clean features\n",
    "feas_clean = extract_node_feature(vers_train,adjs_train) #grad on nothing\n",
    "opt = optim.Adam(atkG.weights + atkM.weights + contraG.weights + contraM.weights, lr = lr)\n",
    "\n",
    "for contraI in range(100):\n",
    "    trainLog = pt.PrettyTable()\n",
    "    trainLog.field_names = [\" \",\"Loss\", \"Same Mean\", \"Diff Mean\", \"Same STD\"]\n",
    "    \n",
    "    \n",
    "    opt.zero_grad()\n",
    "\n",
    "    #get poisoned vertex locations\n",
    "    poisonsByGroups = atkM.forward(atkG.forward(nadjs_train,feas_clean))\n",
    "    transformation = translate_by_group(gMats_train,\n",
    "                                        poisonsByGroups)\n",
    "    poisonedVers = vers_train + transformation\n",
    "        \n",
    "        \n",
    "    #extract poisoned features\n",
    "    feas_poisoned = extract_node_feature(poisonedVers,adjs_train) #grad on 😈\n",
    "\n",
    "    \n",
    "    #get contraNN's performance on poisoned feature with grads on 😈    \n",
    "    contraM.eval()\n",
    "    contraG.eval()\n",
    "    aPerfPoisoned, APP = loss(contraM.forward(contraG.forward(nadjs_train,feas_poisoned)),\n",
    "                         label_mat_train) #grad on 😈\n",
    "    \n",
    "    #get contraNN's performance on clean feature and poisoned feature with grads on 🤠\n",
    "    contraM.train()\n",
    "    contraG.train()\n",
    "    feas_poisoned_nograd = feas_poisoned.detach() #grad on nothing\n",
    "    \n",
    "    objFeasFromClean = contraM.forward(contraG.forward(nadjs_train,feas_clean))\n",
    "    objFeasFromPoisoned = contraM.forward(contraG.forward(nadjs_train,feas_poisoned_nograd))\n",
    "    \n",
    "    diffInFeas = torch.sum((objFeasFromClean - objFeasFromPoisoned)**2)\n",
    "    \n",
    "    cPerfClean, CPC = loss(objFeasFromClean,\n",
    "                      label_mat_train) #grad on 🤠\n",
    "    \n",
    "    cPerfPoisoned, CPP = loss(objFeasFromPoisoned,\n",
    "                         label_mat_train) #grad on 🤠\n",
    "    \n",
    "    \n",
    "    trainLog.add_row(['On Clean Data']+CPC)\n",
    "    trainLog.add_row(['On Poisoned Data']+CPP)\n",
    "\n",
    "    \n",
    "    overallLoss = -aPerfPoisoned + cPerfClean + 1 * cPerfPoisoned#  + diffInFeas\n",
    "    #overallLoss = -aPerfPoisoned\n",
    "    overallLoss.backward()\n",
    "    opt.step()\n",
    "    \n",
    "    print(trainLog)"
   ]
  },
  {
   "cell_type": "markdown",
   "id": "bff459eb",
   "metadata": {
    "collapsed": true,
    "slideshow": {
     "slide_type": "skip"
    }
   },
   "source": [
    "## 3.7 Seeing how it does on Test Data"
   ]
  },
  {
   "cell_type": "code",
   "execution_count": 15,
   "id": "2cee83e1",
   "metadata": {},
   "outputs": [
    {
     "name": "stdout",
     "output_type": "stream",
     "text": [
      "tensor(-0.1978944391, grad_fn=<AddBackward0>)\n",
      "torch.Size([450, 10])\n"
     ]
    }
   ],
   "source": [
    "feas_clean_test = extract_node_feature(vers_test,adjs_test)\n",
    "\n",
    "atkTest = atkM.forward(atkG.forward(nadjs_test,feas_clean_test))\n",
    "\n",
    "poisonedVersTest = vers_test + translate_by_group(gMats_test,atkTest)\n",
    "        \n",
    "feas_poisoned_test = extract_node_feature(poisonedVersTest,adjs_test)\n",
    "        \n",
    "contraOutPoisonedTest = contraM.forward(contraG.forward(nadjs_test,feas_poisoned_test))\n",
    "contraLossPoisonedTest,_ = loss(contraOutPoisonedTest,label_mat_test)\n",
    "\n",
    "contraOutCleanTest = contraM.forward(contraG.forward(nadjs_test,feas_clean_test))\n",
    "contraLossCleanTest,_ = loss(contraOutCleanTest,label_mat_test)\n",
    "\n",
    "print(contraLossPoisonedTest)\n",
    "print(contraOutCleanTest.shape)"
   ]
  },
  {
   "cell_type": "code",
   "execution_count": null,
   "id": "c372b157",
   "metadata": {},
   "outputs": [],
   "source": []
  },
  {
   "cell_type": "code",
   "execution_count": null,
   "id": "38c3877d",
   "metadata": {},
   "outputs": [],
   "source": []
  },
  {
   "cell_type": "code",
   "execution_count": null,
   "id": "813aec57",
   "metadata": {},
   "outputs": [],
   "source": []
  },
  {
   "cell_type": "code",
   "execution_count": null,
   "id": "5d3800b0",
   "metadata": {},
   "outputs": [],
   "source": [
    "# plt.clf()"
   ]
  },
  {
   "cell_type": "code",
   "execution_count": 16,
   "id": "f334336a",
   "metadata": {
    "slideshow": {
     "slide_type": "skip"
    }
   },
   "outputs": [
    {
     "name": "stdout",
     "output_type": "stream",
     "text": [
      "torch.Size([202500])\n",
      "torch.Size([202500])\n",
      "0.09297288 0.8343459\n",
      "torch.Size([202500])\n",
      "torch.Size([202500])\n",
      "0.04159007 0.838026\n"
     ]
    },
    {
     "name": "stderr",
     "output_type": "stream",
     "text": [
      "/var/folders/y9/sgsdqvs575j76jqnz728mwkh0000gn/T/ipykernel_22857/1455725483.py:4: UserWarning: To copy construct from a tensor, it is recommended to use sourceTensor.clone().detach() or sourceTensor.clone().detach().requires_grad_(True), rather than torch.tensor(sourceTensor).\n",
      "  mask_same = torch.tensor(label_mat - torch.diag(torch.ones(size)),dtype=bool).flatten()\n",
      "/var/folders/y9/sgsdqvs575j76jqnz728mwkh0000gn/T/ipykernel_22857/1455725483.py:8: UserWarning: To copy construct from a tensor, it is recommended to use sourceTensor.clone().detach() or sourceTensor.clone().detach().requires_grad_(True), rather than torch.tensor(sourceTensor).\n",
      "  mask_diff = torch.tensor(1 - label_mat,dtype=bool).flatten()\n"
     ]
    },
    {
     "data": {
      "application/vnd.jupyter.widget-view+json": {
       "model_id": "0fef90c10918400297ed327a073a5464",
       "version_major": 2,
       "version_minor": 0
      },
      "image/png": "[encoded data removed]",
      "text/html": [
       "\n",
       "            <div style=\"display: inline-block;\">\n",
       "                <div class=\"jupyter-widgets widget-label\" style=\"text-align: center;\">\n",
       "                    Figure\n",
       "                </div>\n",
       "                <img src='data:image/png;base64,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' width=640.0/>\n",
       "            </div>\n",
       "        "
      ],
      "text/plain": [
       "Canvas(toolbar=Toolbar(toolitems=[('Home', 'Reset original view', 'home', 'home'), ('Back', 'Back to previous …"
      ]
     },
     "metadata": {},
     "output_type": "display_data"
    },
    {
     "data": {
      "application/vnd.jupyter.widget-view+json": {
       "model_id": "d7d2bb0fa53549eab97dacb84d53c88c",
       "version_major": 2,
       "version_minor": 0
      },
      "image/png": "[encoded data removed]",
      "text/html": [
       "\n",
       "            <div style=\"display: inline-block;\">\n",
       "                <div class=\"jupyter-widgets widget-label\" style=\"text-align: center;\">\n",
       "                    Figure\n",
       "                </div>\n",
       "                <img src='data:image/png;base64,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' width=640.0/>\n",
       "            </div>\n",
       "        "
      ],
      "text/plain": [
       "Canvas(toolbar=Toolbar(toolitems=[('Home', 'Reset original view', 'home', 'home'), ('Back', 'Back to previous …"
      ]
     },
     "metadata": {},
     "output_type": "display_data"
    }
   ],
   "source": [
    "feas_clean_test = extract_node_feature(vers_test,adjs_test)\n",
    "\n",
    "atkTest = atkM.forward(atkG.forward(nadjs_test,feas_clean_test))\n",
    "\n",
    "poisonedVersTest = vers_test + translate_by_group(gMats_test,atkTest)\n",
    "\n",
    "feas_poisoned_test = extract_node_feature(poisonedVersTest,adjs_test)\n",
    "\n",
    "contraOutPoisonedTest = contraM.forward(contraG.forward(nadjs_test,feas_poisoned_test))\n",
    "\n",
    "contraOutCleanTest = contraM.forward(contraG.forward(nadjs_test,feas_clean_test))\n",
    "\n",
    "#display histograms\n",
    "display_hists(contraOutPoisonedTest, label_mat_test, test_size)\n",
    "display_hists(contraOutCleanTest, label_mat_test, test_size)"
   ]
  },
  {
   "cell_type": "code",
   "execution_count": 17,
   "id": "32367379",
   "metadata": {
    "collapsed": true
   },
   "outputs": [
    {
     "ename": "ModuleNotFoundError",
     "evalue": "No module named 'matplot'",
     "output_type": "error",
     "traceback": [
      "\u001b[0;31m---------------------------------------------------------------------------\u001b[0m",
      "\u001b[0;31mModuleNotFoundError\u001b[0m                       Traceback (most recent call last)",
      "File \u001b[0;32m/var/folders/y9/sgsdqvs575j76jqnz728mwkh0000gn/T/ipykernel_22857/1710624658.py:2\u001b[0m\n\u001b[1;32m      1\u001b[0m \u001b[38;5;28;01mimport\u001b[39;00m \u001b[38;5;21;01mscipy\u001b[39;00m\n\u001b[0;32m----> 2\u001b[0m \u001b[38;5;28;01mimport\u001b[39;00m \u001b[38;5;21;01mmatplot\u001b[39;00m\n",
      "\u001b[0;31mModuleNotFoundError\u001b[0m: No module named 'matplot'"
     ]
    },
    {
     "ename": "ModuleNotFoundError",
     "evalue": "No module named 'matplot'",
     "output_type": "error",
     "traceback": [
      "\u001b[0;31m---------------------------------------------------------------------------\u001b[0m",
      "\u001b[0;31mModuleNotFoundError\u001b[0m                       Traceback (most recent call last)",
      "Cell \u001b[0;32mIn[17], line 1\u001b[0m\n\u001b[0;32m----> 1\u001b[0m \u001b[43mget_ipython\u001b[49m\u001b[43m(\u001b[49m\u001b[43m)\u001b[49m\u001b[38;5;241;43m.\u001b[39;49m\u001b[43mrun_line_magic\u001b[49m\u001b[43m(\u001b[49m\u001b[38;5;124;43m'\u001b[39;49m\u001b[38;5;124;43mrun\u001b[39;49m\u001b[38;5;124;43m'\u001b[39;49m\u001b[43m,\u001b[49m\u001b[43m \u001b[49m\u001b[38;5;124;43m'\u001b[39;49m\u001b[38;5;124;43mcontra_attack_classifier.ipynb\u001b[39;49m\u001b[38;5;124;43m'\u001b[39;49m\u001b[43m)\u001b[49m\n",
      "File \u001b[0;32m~/.conda/envs/TSM/lib/python3.10/site-packages/IPython/core/interactiveshell.py:2369\u001b[0m, in \u001b[0;36mInteractiveShell.run_line_magic\u001b[0;34m(self, magic_name, line, _stack_depth)\u001b[0m\n\u001b[1;32m   2367\u001b[0m     kwargs[\u001b[38;5;124m'\u001b[39m\u001b[38;5;124mlocal_ns\u001b[39m\u001b[38;5;124m'\u001b[39m] \u001b[38;5;241m=\u001b[39m \u001b[38;5;28mself\u001b[39m\u001b[38;5;241m.\u001b[39mget_local_scope(stack_depth)\n\u001b[1;32m   2368\u001b[0m \u001b[38;5;28;01mwith\u001b[39;00m \u001b[38;5;28mself\u001b[39m\u001b[38;5;241m.\u001b[39mbuiltin_trap:\n\u001b[0;32m-> 2369\u001b[0m     result \u001b[38;5;241m=\u001b[39m \u001b[43mfn\u001b[49m\u001b[43m(\u001b[49m\u001b[38;5;241;43m*\u001b[39;49m\u001b[43margs\u001b[49m\u001b[43m,\u001b[49m\u001b[43m \u001b[49m\u001b[38;5;241;43m*\u001b[39;49m\u001b[38;5;241;43m*\u001b[39;49m\u001b[43mkwargs\u001b[49m\u001b[43m)\u001b[49m\n\u001b[1;32m   2370\u001b[0m \u001b[38;5;28;01mreturn\u001b[39;00m result\n",
      "File \u001b[0;32m~/.conda/envs/TSM/lib/python3.10/site-packages/IPython/core/magics/execution.py:717\u001b[0m, in \u001b[0;36mExecutionMagics.run\u001b[0;34m(self, parameter_s, runner, file_finder)\u001b[0m\n\u001b[1;32m    715\u001b[0m     \u001b[38;5;28;01mwith\u001b[39;00m preserve_keys(\u001b[38;5;28mself\u001b[39m\u001b[38;5;241m.\u001b[39mshell\u001b[38;5;241m.\u001b[39muser_ns, \u001b[38;5;124m'\u001b[39m\u001b[38;5;124m__file__\u001b[39m\u001b[38;5;124m'\u001b[39m):\n\u001b[1;32m    716\u001b[0m         \u001b[38;5;28mself\u001b[39m\u001b[38;5;241m.\u001b[39mshell\u001b[38;5;241m.\u001b[39muser_ns[\u001b[38;5;124m'\u001b[39m\u001b[38;5;124m__file__\u001b[39m\u001b[38;5;124m'\u001b[39m] \u001b[38;5;241m=\u001b[39m filename\n\u001b[0;32m--> 717\u001b[0m         \u001b[38;5;28;43mself\u001b[39;49m\u001b[38;5;241;43m.\u001b[39;49m\u001b[43mshell\u001b[49m\u001b[38;5;241;43m.\u001b[39;49m\u001b[43msafe_execfile_ipy\u001b[49m\u001b[43m(\u001b[49m\u001b[43mfilename\u001b[49m\u001b[43m,\u001b[49m\u001b[43m \u001b[49m\u001b[43mraise_exceptions\u001b[49m\u001b[38;5;241;43m=\u001b[39;49m\u001b[38;5;28;43;01mTrue\u001b[39;49;00m\u001b[43m)\u001b[49m\n\u001b[1;32m    718\u001b[0m     \u001b[38;5;28;01mreturn\u001b[39;00m\n\u001b[1;32m    720\u001b[0m \u001b[38;5;66;03m# Control the response to exit() calls made by the script being run\u001b[39;00m\n",
      "File \u001b[0;32m~/.conda/envs/TSM/lib/python3.10/site-packages/IPython/core/interactiveshell.py:2875\u001b[0m, in \u001b[0;36mInteractiveShell.safe_execfile_ipy\u001b[0;34m(self, fname, shell_futures, raise_exceptions)\u001b[0m\n\u001b[1;32m   2873\u001b[0m result \u001b[38;5;241m=\u001b[39m \u001b[38;5;28mself\u001b[39m\u001b[38;5;241m.\u001b[39mrun_cell(cell, silent\u001b[38;5;241m=\u001b[39m\u001b[38;5;28;01mTrue\u001b[39;00m, shell_futures\u001b[38;5;241m=\u001b[39mshell_futures)\n\u001b[1;32m   2874\u001b[0m \u001b[38;5;28;01mif\u001b[39;00m raise_exceptions:\n\u001b[0;32m-> 2875\u001b[0m     \u001b[43mresult\u001b[49m\u001b[38;5;241;43m.\u001b[39;49m\u001b[43mraise_error\u001b[49m\u001b[43m(\u001b[49m\u001b[43m)\u001b[49m\n\u001b[1;32m   2876\u001b[0m \u001b[38;5;28;01melif\u001b[39;00m \u001b[38;5;129;01mnot\u001b[39;00m result\u001b[38;5;241m.\u001b[39msuccess:\n\u001b[1;32m   2877\u001b[0m     \u001b[38;5;28;01mbreak\u001b[39;00m\n",
      "File \u001b[0;32m~/.conda/envs/TSM/lib/python3.10/site-packages/IPython/core/interactiveshell.py:266\u001b[0m, in \u001b[0;36mExecutionResult.raise_error\u001b[0;34m(self)\u001b[0m\n\u001b[1;32m    264\u001b[0m     \u001b[38;5;28;01mraise\u001b[39;00m \u001b[38;5;28mself\u001b[39m\u001b[38;5;241m.\u001b[39merror_before_exec\n\u001b[1;32m    265\u001b[0m \u001b[38;5;28;01mif\u001b[39;00m \u001b[38;5;28mself\u001b[39m\u001b[38;5;241m.\u001b[39merror_in_exec \u001b[38;5;129;01mis\u001b[39;00m \u001b[38;5;129;01mnot\u001b[39;00m \u001b[38;5;28;01mNone\u001b[39;00m:\n\u001b[0;32m--> 266\u001b[0m     \u001b[38;5;28;01mraise\u001b[39;00m \u001b[38;5;28mself\u001b[39m\u001b[38;5;241m.\u001b[39merror_in_exec\n",
      "    \u001b[0;31m[... skipping hidden 1 frame]\u001b[0m\n",
      "File \u001b[0;32m/var/folders/y9/sgsdqvs575j76jqnz728mwkh0000gn/T/ipykernel_22857/1710624658.py:2\u001b[0m\n\u001b[1;32m      1\u001b[0m \u001b[38;5;28;01mimport\u001b[39;00m \u001b[38;5;21;01mscipy\u001b[39;00m\n\u001b[0;32m----> 2\u001b[0m \u001b[38;5;28;01mimport\u001b[39;00m \u001b[38;5;21;01mmatplot\u001b[39;00m\n",
      "\u001b[0;31mModuleNotFoundError\u001b[0m: No module named 'matplot'"
     ]
    }
   ],
   "source": [
    "%run contra_attack_classifier.ipynb"
   ]
  },
  {
   "cell_type": "code",
   "execution_count": 45,
   "id": "d98617b4",
   "metadata": {},
   "outputs": [
    {
     "data": {
      "text/plain": [
       "34"
      ]
     },
     "execution_count": 45,
     "metadata": {},
     "output_type": "execute_result"
    }
   ],
   "source": [
    "\n",
    "\n",
    "obj1 = torch.where(label_test == 10)\n",
    "obj2 = torch.where(label_test == 16)\n",
    "\n",
    "data = torch.empty((36,10))\n",
    "obj = torch.cat((obj1[0], obj2[0]), dim = 0)\n",
    "\n",
    "len(obj)"
   ]
  },
  {
   "cell_type": "code",
   "execution_count": null,
   "id": "e9b9aa6e",
   "metadata": {},
   "outputs": [],
   "source": []
  },
  {
   "cell_type": "code",
   "execution_count": 19,
   "id": "e06cb62d",
   "metadata": {},
   "outputs": [
    {
     "data": {
      "text/plain": [
       "torch.Size([36, 10])"
      ]
     },
     "execution_count": 19,
     "metadata": {},
     "output_type": "execute_result"
    }
   ],
   "source": [
    "for i in range(len(obj)):\n",
    "    for j in range(10):\n",
    "        data[i][j] = contraOutCleanTest[obj[i]][j].item()\n",
    "        \n",
    "data.shape"
   ]
  },
  {
   "cell_type": "code",
   "execution_count": 56,
   "id": "0b5044aa",
   "metadata": {},
   "outputs": [
    {
     "ename": "ValueError",
     "evalue": "array must not contain infs or NaNs",
     "output_type": "error",
     "traceback": [
      "\u001b[0;31m---------------------------------------------------------------------------\u001b[0m",
      "\u001b[0;31mValueError\u001b[0m                                Traceback (most recent call last)",
      "Cell \u001b[0;32mIn[56], line 2\u001b[0m\n\u001b[1;32m      1\u001b[0m \u001b[38;5;66;03m# output would be in size(40,5)\u001b[39;00m\n\u001b[0;32m----> 2\u001b[0m centroid, label \u001b[38;5;241m=\u001b[39m \u001b[43mscipy\u001b[49m\u001b[38;5;241;43m.\u001b[39;49m\u001b[43mcluster\u001b[49m\u001b[38;5;241;43m.\u001b[39;49m\u001b[43mvq\u001b[49m\u001b[38;5;241;43m.\u001b[39;49m\u001b[43mkmeans2\u001b[49m\u001b[43m(\u001b[49m\u001b[43mdata\u001b[49m\u001b[43m,\u001b[49m\u001b[43m \u001b[49m\u001b[38;5;241;43m2\u001b[39;49m\u001b[43m,\u001b[49m\u001b[43m \u001b[49m\u001b[43mminit\u001b[49m\u001b[38;5;241;43m=\u001b[39;49m\u001b[38;5;124;43m'\u001b[39;49m\u001b[38;5;124;43mpoints\u001b[39;49m\u001b[38;5;124;43m'\u001b[39;49m\u001b[43m)\u001b[49m\n\u001b[1;32m      3\u001b[0m group1 \u001b[38;5;241m=\u001b[39m data[label \u001b[38;5;241m==\u001b[39m \u001b[38;5;241m0\u001b[39m]\n\u001b[1;32m      4\u001b[0m group2 \u001b[38;5;241m=\u001b[39m data[label \u001b[38;5;241m==\u001b[39m \u001b[38;5;241m1\u001b[39m]\n",
      "File \u001b[0;32m~/.conda/envs/TSM/lib/python3.10/site-packages/scipy/cluster/vq.py:748\u001b[0m, in \u001b[0;36mkmeans2\u001b[0;34m(data, k, iter, thresh, minit, missing, check_finite, seed)\u001b[0m\n\u001b[1;32m    745\u001b[0m \u001b[38;5;28;01mexcept\u001b[39;00m \u001b[38;5;167;01mKeyError\u001b[39;00m \u001b[38;5;28;01mas\u001b[39;00m e:\n\u001b[1;32m    746\u001b[0m     \u001b[38;5;28;01mraise\u001b[39;00m \u001b[38;5;167;01mValueError\u001b[39;00m(\u001b[38;5;124m\"\u001b[39m\u001b[38;5;124mUnknown missing method \u001b[39m\u001b[38;5;132;01m%r\u001b[39;00m\u001b[38;5;124m\"\u001b[39m \u001b[38;5;241m%\u001b[39m (missing,)) \u001b[38;5;28;01mfrom\u001b[39;00m \u001b[38;5;21;01me\u001b[39;00m\n\u001b[0;32m--> 748\u001b[0m data \u001b[38;5;241m=\u001b[39m \u001b[43m_asarray_validated\u001b[49m\u001b[43m(\u001b[49m\u001b[43mdata\u001b[49m\u001b[43m,\u001b[49m\u001b[43m \u001b[49m\u001b[43mcheck_finite\u001b[49m\u001b[38;5;241;43m=\u001b[39;49m\u001b[43mcheck_finite\u001b[49m\u001b[43m)\u001b[49m\n\u001b[1;32m    749\u001b[0m \u001b[38;5;28;01mif\u001b[39;00m data\u001b[38;5;241m.\u001b[39mndim \u001b[38;5;241m==\u001b[39m \u001b[38;5;241m1\u001b[39m:\n\u001b[1;32m    750\u001b[0m     d \u001b[38;5;241m=\u001b[39m \u001b[38;5;241m1\u001b[39m\n",
      "File \u001b[0;32m~/.conda/envs/TSM/lib/python3.10/site-packages/scipy/_lib/_util.py:252\u001b[0m, in \u001b[0;36m_asarray_validated\u001b[0;34m(a, check_finite, sparse_ok, objects_ok, mask_ok, as_inexact)\u001b[0m\n\u001b[1;32m    250\u001b[0m         \u001b[38;5;28;01mraise\u001b[39;00m \u001b[38;5;167;01mValueError\u001b[39;00m(\u001b[38;5;124m'\u001b[39m\u001b[38;5;124mmasked arrays are not supported\u001b[39m\u001b[38;5;124m'\u001b[39m)\n\u001b[1;32m    251\u001b[0m toarray \u001b[38;5;241m=\u001b[39m np\u001b[38;5;241m.\u001b[39masarray_chkfinite \u001b[38;5;28;01mif\u001b[39;00m check_finite \u001b[38;5;28;01melse\u001b[39;00m np\u001b[38;5;241m.\u001b[39masarray\n\u001b[0;32m--> 252\u001b[0m a \u001b[38;5;241m=\u001b[39m \u001b[43mtoarray\u001b[49m\u001b[43m(\u001b[49m\u001b[43ma\u001b[49m\u001b[43m)\u001b[49m\n\u001b[1;32m    253\u001b[0m \u001b[38;5;28;01mif\u001b[39;00m \u001b[38;5;129;01mnot\u001b[39;00m objects_ok:\n\u001b[1;32m    254\u001b[0m     \u001b[38;5;28;01mif\u001b[39;00m a\u001b[38;5;241m.\u001b[39mdtype \u001b[38;5;129;01mis\u001b[39;00m np\u001b[38;5;241m.\u001b[39mdtype(\u001b[38;5;124m'\u001b[39m\u001b[38;5;124mO\u001b[39m\u001b[38;5;124m'\u001b[39m):\n",
      "File \u001b[0;32m~/.conda/envs/TSM/lib/python3.10/site-packages/numpy/lib/function_base.py:627\u001b[0m, in \u001b[0;36masarray_chkfinite\u001b[0;34m(a, dtype, order)\u001b[0m\n\u001b[1;32m    625\u001b[0m a \u001b[38;5;241m=\u001b[39m asarray(a, dtype\u001b[38;5;241m=\u001b[39mdtype, order\u001b[38;5;241m=\u001b[39morder)\n\u001b[1;32m    626\u001b[0m \u001b[38;5;28;01mif\u001b[39;00m a\u001b[38;5;241m.\u001b[39mdtype\u001b[38;5;241m.\u001b[39mchar \u001b[38;5;129;01min\u001b[39;00m typecodes[\u001b[38;5;124m'\u001b[39m\u001b[38;5;124mAllFloat\u001b[39m\u001b[38;5;124m'\u001b[39m] \u001b[38;5;129;01mand\u001b[39;00m \u001b[38;5;129;01mnot\u001b[39;00m np\u001b[38;5;241m.\u001b[39misfinite(a)\u001b[38;5;241m.\u001b[39mall():\n\u001b[0;32m--> 627\u001b[0m     \u001b[38;5;28;01mraise\u001b[39;00m \u001b[38;5;167;01mValueError\u001b[39;00m(\n\u001b[1;32m    628\u001b[0m         \u001b[38;5;124m\"\u001b[39m\u001b[38;5;124marray must not contain infs or NaNs\u001b[39m\u001b[38;5;124m\"\u001b[39m)\n\u001b[1;32m    629\u001b[0m \u001b[38;5;28;01mreturn\u001b[39;00m a\n",
      "\u001b[0;31mValueError\u001b[0m: array must not contain infs or NaNs"
     ]
    }
   ],
   "source": [
    "# output would be in size(40,5)\n",
    "centroid, label = scipy.cluster.vq.kmeans2(data, 2, minit='points')\n",
    "group1 = data[label == 0]\n",
    "group2 = data[label == 1]\n",
    "\n",
    "counts = np.bincount(label)\n",
    "\n",
    "counts"
   ]
  },
  {
   "cell_type": "code",
   "execution_count": 46,
   "id": "595dce64",
   "metadata": {},
   "outputs": [
    {
     "data": {
      "text/plain": [
       "<function Tensor.type>"
      ]
     },
     "execution_count": 46,
     "metadata": {},
     "output_type": "execute_result"
    }
   ],
   "source": [
    "group1.type"
   ]
  },
  {
   "cell_type": "code",
   "execution_count": 54,
   "id": "2ee63b50",
   "metadata": {},
   "outputs": [
    {
     "data": {
      "text/plain": [
       "0.9722222222222222"
      ]
     },
     "execution_count": 54,
     "metadata": {},
     "output_type": "execute_result"
    }
   ],
   "source": [
    "# get accuracy\n",
    "\n",
    "correct = 0\n",
    "\n",
    "for i in range(len(label)):\n",
    "    if i <= len(obj)/2 and label[i] == 1:\n",
    "        correct += 1\n",
    "    \n",
    "    elif i > len(obj)/2 and label[i] == 0:\n",
    "        correct += 1\n",
    "    \n",
    "\n",
    "accuracy = correct/len(label)\n",
    "\n",
    "accuracy"
   ]
  },
  {
   "cell_type": "code",
   "execution_count": null,
   "id": "9b38e992",
   "metadata": {},
   "outputs": [],
   "source": []
  },
  {
   "cell_type": "code",
   "execution_count": null,
   "id": "672d51d9",
   "metadata": {},
   "outputs": [],
   "source": [
    "plt.clf()"
   ]
  },
  {
   "cell_type": "code",
   "execution_count": null,
   "id": "cf1d4cc8",
   "metadata": {
    "slideshow": {
     "slide_type": "skip"
    }
   },
   "outputs": [],
   "source": [
    "from mpl_toolkits.mplot3d import axes3d\n",
    "\n",
    "\n",
    "index_in_question = 1\n",
    "\n",
    "#Plot first clustered mesh\n",
    "dataPlot = vers[index_in_question]\n",
    "\n",
    "fig = plt.figure()\n",
    "ax = fig.add_subplot(121,projection='3d')\n",
    "\n",
    "ax.scatter(dataPlot[:,0], dataPlot[:,1], dataPlot[:,2], label=gLbls[index_in_question,:], c = gLbls[index_in_question,:], cmap = 'viridis',s = 3)\n",
    "ax.set_title('clean')\n",
    "\n",
    "plt.axis('off')\n",
    "\n",
    "#Plot second clustered point coud\n",
    "#get poison\n",
    "atkOut = atkM.forward(atkG.forward(nadjs_train,feas_clean))\n",
    "poisonedVers = vers_train + translate_by_group(gMats_train,atkOut).detach().numpy()\n",
    "\n",
    "print(poisonedVers.shape)\n",
    "#poisioedVers = np.zeros([1350,252,3])\n",
    "poisonedDataPlot = poisonedVers[index_in_question]\n",
    "\n",
    "ax = fig.add_subplot(122,projection='3d')\n",
    "\n",
    "ax.scatter(poisonedDataPlot[:,0], poisonedDataPlot[:,1], poisonedDataPlot[:,2], label=gLbls[index_in_question,:], c = gLbls[index_in_question,:], cmap = 'viridis', s = 3)\n",
    "ax.set_title('poisoned')\n",
    "\n",
    "plt.axis('off')\n",
    "\n",
    "plt.show()"
   ]
  },
  {
   "cell_type": "code",
   "execution_count": null,
   "id": "f511ee37",
   "metadata": {},
   "outputs": [],
   "source": [
    "# ax.axes.xaxis.set_ticklabels([])\n",
    "# ax.axes.yaxis.set_ticklabels([])\n",
    "# ax.axes.zaxis.set_ticklabels([])\n",
    "# ax.set_xlabel('X')\n",
    "# ax.set_ylabel('Y')\n",
    "# ax.set_zlabel('Z')"
   ]
  },
  {
   "cell_type": "code",
   "execution_count": null,
   "id": "72f970b0",
   "metadata": {},
   "outputs": [],
   "source": [
    "saveWeightsDir = 'weights/2-21safdds/'\n",
    "torch.save(contraG.weights, saveWeightsDir + 'contraGw.pt')\n",
    "torch.save(contraM.weights, saveWeightsDir + 'contraMw.pt')\n",
    "torch.save(atkG.weights, saveWeightsDir + 'atkGw.pt') \n",
    "torch.save(atkM.weights, saveWeightsDir + 'atkMw.pt')"
   ]
  },
  {
   "cell_type": "code",
   "execution_count": null,
   "id": "7202b262",
   "metadata": {},
   "outputs": [],
   "source": []
  }
 ],
 "metadata": {
  "kernelspec": {
   "display_name": "Python 3 (ipykernel)",
   "language": "python",
   "name": "python3"
  },
  "language_info": {
   "codemirror_mode": {
    "name": "ipython",
    "version": 3
   },
   "file_extension": ".py",
   "mimetype": "text/x-python",
   "name": "python",
   "nbconvert_exporter": "python",
   "pygments_lexer": "ipython3",
   "version": "3.10.9"
  }
 },
 "nbformat": 4,
 "nbformat_minor": 5
}
