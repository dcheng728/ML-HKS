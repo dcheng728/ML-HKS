{
 "cells": [
  {
   "cell_type": "code",
   "execution_count": 1,
   "id": "16488a9c",
   "metadata": {},
   "outputs": [],
   "source": [
    "def lossContraF(obj_features,lbl_mat):\n",
    "    disMat = torch.cdist(obj_features,obj_features)\n",
    "    sameType = disMat * (lbl_mat-torch.diag(torch.ones(lbl_mat.shape[0])))\n",
    "    diffType = disMat * (1-lbl_mat)\n",
    "\n",
    "    diffTypeScaled = diffType * torch.exp(-diffType)\n",
    "    diffTypeScaledMean = torch.sum(diffTypeScaled)/ torch.count_nonzero(diffTypeScaled)\n",
    "    diffTypeMean = torch.sum(diffType)/ torch.count_nonzero(diffType)\n",
    "\n",
    "    sameTypeMean = torch.sum(sameType) / torch.count_nonzero(sameType)\n",
    "    sameTypeStd = torch.sum((sameType - sameTypeMean)**2) / torch.count_nonzero(sameType)\n",
    "\n",
    "    num_digits = 5\n",
    "    \n",
    "    \n",
    "    \n",
    "    \n",
    "    toRet = -diffTypeMean + sameTypeMean + 0.01 * torch.sqrt(sameTypeStd)\n",
    "    #toRet = -(sameTypeMean-diffTypeMean)**2 #+ 0.5*(sameTypeMean + 0.01 * torch.sqrt(sameTypeStd))\n",
    "    #toRet = -(sameTypeMean-diffTypeMean)**2 - diffTypeScaledMean + 0.5 * torch.sqrt(sameTypeStd)\n",
    "    \n",
    "    ptoRet = np.round(toRet.detach().numpy(),num_digits)\n",
    "    pSameTypeMean = np.round(sameTypeMean.detach().numpy(),num_digits)\n",
    "    pdiffTypeMean =  np.round(diffTypeMean.detach().numpy(),num_digits)\n",
    "    pSTD = np.round(torch.sqrt(sameTypeStd).detach().numpy(),num_digits)\n",
    "    \n",
    "    print('C:🤠','\\t',ptoRet,'\\t', pSameTypeMean,'\\t',pdiffTypeMean,'\\t',pSTD)\n",
    "    \n",
    "    return  toRet"
   ]
  },
  {
   "cell_type": "code",
   "execution_count": null,
   "id": "3943a1f5",
   "metadata": {},
   "outputs": [],
   "source": [
    "def lossAtkF(obj_features,lbl_mat):\n",
    "    disMat = torch.cdist(obj_features,obj_features)\n",
    "    sameType = disMat * (lbl_mat-torch.diag(torch.ones(lbl_mat.shape[0])))\n",
    "    diffType = disMat * (1-lbl_mat)\n",
    "\n",
    "    diffTypeScaled = diffType * torch.exp(-diffType)\n",
    "    diffTypeScaledMean = torch.sum(diffTypeScaled)/ torch.count_nonzero(diffTypeScaled)\n",
    "    diffTypeMean = torch.sum(diffType)/ torch.count_nonzero(diffType)\n",
    "\n",
    "    sameTypeMean = torch.sum(sameType) / torch.count_nonzero(sameType)\n",
    "    sameTypeStd = torch.sum((sameType - sameTypeMean)**2) / torch.count_nonzero(sameType)\n",
    "\n",
    "    toRet = -diffTypeMean + sameTypeMean + 0.01 * torch.sqrt(sameTypeStd)\n",
    "    #toRet = -(sameTypeMean-diffTypeMean)**2 #+ 0.5*(sameTypeMean + 0.01 * torch.sqrt(sameTypeStd))\n",
    "    #toRet = -(sameTypeMean-diffTypeMean)**2 - diffTypeScaledMean + 0.5 * torch.sqrt(sameTypeStd)\n",
    "    \n",
    "    num_digits = 5\n",
    "    \n",
    "    ptoRet = np.round(toRet.detach().numpy(),num_digits)\n",
    "    pSameTypeMean = np.round(sameTypeMean.detach().numpy(),num_digits)\n",
    "    pdiffTypeMean =  np.round(diffTypeMean.detach().numpy(),num_digits)\n",
    "    pSTD = np.round(torch.sqrt(sameTypeStd).detach().numpy(),num_digits)\n",
    "    \n",
    "    print('A:😈','\\t',ptoRet,'\\t', pSameTypeMean,'\\t',pdiffTypeMean,'\\t',pSTD)\n",
    "    return  -toRet"
   ]
  }
 ],
 "metadata": {
  "kernelspec": {
   "display_name": "Python 3 (ipykernel)",
   "language": "python",
   "name": "python3"
  },
  "language_info": {
   "codemirror_mode": {
    "name": "ipython",
    "version": 3
   },
   "file_extension": ".py",
   "mimetype": "text/x-python",
   "name": "python",
   "nbconvert_exporter": "python",
   "pygments_lexer": "ipython3",
   "version": "3.10.9"
  }
 },
 "nbformat": 4,
 "nbformat_minor": 5
}
