{
 "cells": [
  {
   "cell_type": "code",
   "execution_count": 1,
   "metadata": {},
   "outputs": [],
   "source": [
    "import torch"
   ]
  },
  {
   "cell_type": "code",
   "execution_count": 2,
   "metadata": {},
   "outputs": [],
   "source": [
    "class GCN(torch.nn.Module):\n",
    "    def __init__(self, sig_dimension,widths):\n",
    "        super().__init__()\n",
    "        self.f = sig_dimension\n",
    "        self.widths = widths\n",
    "        self.weights = []\n",
    "        self.weights.append(torch.autograd.Variable(torch.rand(size = [self.f,widths[0]])-0.5,requires_grad = True))\n",
    "        self.dropout = torch.nn.Dropout(0.02)\n",
    "        \n",
    "        for i in range(1,len(self.widths)):\n",
    "            c = self.widths[i]\n",
    "            self.weights.append(torch.autograd.Variable(torch.rand((self.widths[i-1],self.widths[i]))-0.5,requires_grad = True))\n",
    "\n",
    "    def forward(self, adjM,node_sigM):\n",
    "        curr_output = torch.tanh(torch.matmul(torch.matmul(adjM,node_sigM),self.weights[0])) #nxc\n",
    "        #curr_output = self.dropout(curr_output)\n",
    "        for i in range(1,len(self.widths)):\n",
    "            curr_output = torch.tanh(torch.matmul(torch.matmul(adjM,curr_output),self.weights[i])) #nxc\n",
    "\n",
    "        return curr_output"
   ]
  },
  {
   "cell_type": "code",
   "execution_count": 3,
   "metadata": {},
   "outputs": [],
   "source": [
    "class MLP(torch.nn.Module):\n",
    "    def __init__(self, input_shape,widths):\n",
    "        super().__init__()\n",
    "        self.input_shape = input_shape\n",
    "        self.widths = widths\n",
    "        self.weights = []\n",
    "        self.weights.append(torch.autograd.Variable(torch.rand(size = [self.input_shape,widths[0]])-0.5,requires_grad = True))\n",
    "        self.dropout = torch.nn.Dropout(0.02)\n",
    "        \n",
    "        for i in range(1,len(self.widths)):\n",
    "            c = self.widths[i]\n",
    "            self.weights.append(torch.autograd.Variable(torch.rand((self.widths[i-1],self.widths[i]))-0.5,requires_grad = True))\n",
    "\n",
    "    def forward(self, x):\n",
    "        x = torch.flatten(x,1,2)\n",
    "        torch.matmul(x,self.weights[0])\n",
    "        curr_output = torch.tanh(torch.matmul(x,self.weights[0])) #nxc\n",
    "        #curr_output = self.dropout(curr_output)\n",
    "        for i in range(1,len(self.widths)):\n",
    "            curr_output = torch.tanh(torch.matmul(curr_output,self.weights[i])) #nxc\n",
    "\n",
    "        return curr_output"
   ]
  },
  {
   "cell_type": "code",
   "execution_count": 1,
   "metadata": {},
   "outputs": [
    {
     "ename": "SyntaxError",
     "evalue": "'(' was never closed (3136598398.py, line 27)",
     "output_type": "error",
     "traceback": [
      "\u001b[0;36m  File \u001b[0;32m\"/var/folders/t4/vdzymfw562g8ml8ks_2b5l5r0000gn/T/ipykernel_7306/3136598398.py\"\u001b[0;36m, line \u001b[0;32m27\u001b[0m\n\u001b[0;31m    magnitude = torch.reshape(torch.sigmoid(curr_output[:,1]),[curr_output.shape[0],1] #the first output neuron encodes magnitude\u001b[0m\n\u001b[0m                             ^\u001b[0m\n\u001b[0;31mSyntaxError\u001b[0m\u001b[0;31m:\u001b[0m '(' was never closed\n"
     ]
    }
   ],
   "source": [
    "class MLP_atk(torch.nn.Module):\n",
    "    def __init__(self, input_shape, maxPoison,num_K, widths):\n",
    "        super().__init__()\n",
    "        self.input_shape = input_shape\n",
    "        self.widths = widths\n",
    "        self.maxPoison = maxPoison\n",
    "        self.num_k = num_K\n",
    "        \n",
    "        \n",
    "        self.weights = []\n",
    "        self.weights.append(torch.autograd.Variable(torch.rand(size = [self.input_shape,widths[0]])-0.5,requires_grad = True))\n",
    "        self.dropout = torch.nn.Dropout(0.02)\n",
    "        \n",
    "        for i in range(1,len(self.widths)):\n",
    "            c = self.widths[i]\n",
    "            self.weights.append(torch.autograd.Variable(torch.rand((self.widths[i-1],self.widths[i]))-0.5,requires_grad = True))\n",
    "\n",
    "            \n",
    "    def forward(self, x):\n",
    "        x = torch.flatten(x,1,2)\n",
    "        torch.matmul(x,self.weights[0])\n",
    "        curr_output = torch.tanh(torch.matmul(x,self.weights[0])) #nxc\n",
    "        #curr_output = self.dropout(curr_output)\n",
    "        for i in range(1,len(self.widths)):\n",
    "            curr_output = torch.tanh(torch.matmul(curr_output,self.weights[i])) #nxc\n",
    "        \n",
    "        magnitude = torch.reshape(torch.sigmoid(curr_output[:,1]),[curr_output.shape[0],1]) #the first output neuron encodes magnitude\n",
    "        \n",
    "        \n",
    "        poisons_normed = torch.softmax(curr_output[:,1:],dim = 1) * self.maxPoison #normalize all poisons to within the maxPoison\n",
    "        \n",
    "        \n",
    "        poisons = magnitude * poisons_normed\n",
    "        \n",
    "        poisons = torch.reshape(poisons,[curr_output.shape[0],K,3]) #multiply by the magnitude computed and reshape\n",
    "     \n",
    "            \n",
    "        return poisons"
   ]
  },
  {
   "cell_type": "code",
   "execution_count": null,
   "metadata": {},
   "outputs": [],
   "source": []
  }
 ],
 "metadata": {
  "kernelspec": {
   "display_name": "Python 3 (ipykernel)",
   "language": "python",
   "name": "python3"
  },
  "language_info": {
   "codemirror_mode": {
    "name": "ipython",
    "version": 3
   },
   "file_extension": ".py",
   "mimetype": "text/x-python",
   "name": "python",
   "nbconvert_exporter": "python",
   "pygments_lexer": "ipython3",
   "version": "3.10.9"
  }
 },
 "nbformat": 4,
 "nbformat_minor": 1
}
