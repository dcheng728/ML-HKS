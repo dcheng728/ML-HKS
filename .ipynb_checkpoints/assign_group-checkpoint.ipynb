{
 "cells": [
  {
   "cell_type": "code",
   "execution_count": null,
   "id": "16bb92f8-a908-44b1-91b1-433a102a0f13",
   "metadata": {},
   "outputs": [],
   "source": [
    "'''\n",
    "Mesh is an obj mesh\n",
    "Get all that info into our code\n",
    "modify info \n",
    "Divide those vertices into diff groups(X)\n",
    "assign each row G0, G1, etc.\n",
    "each group will have its own assigned colour \n",
    "\n",
    "only make changes to V, not need to change F\n",
    "store this info in a numpy array, dont change \n",
    "\n",
    "Implement this - make vertices data have group data\n",
    "\n",
    "algorithm to change X,Y,Z coordinates of dataset in entire group \n",
    "\n",
    "\n",
    "\n",
    "F(change in x, y, z, group)\n",
    "numpy.array\n",
    "\n",
    "r\n",
    "output: make changes to the .obj file?\n",
    "\n",
    "return V,F numpy without group info \n",
    "'''"
   ]
  },
  {
   "cell_type": "code",
   "execution_count": null,
   "id": "a86a066a-8f6d-481f-b0fd-7ab81e4c3008",
   "metadata": {},
   "outputs": [],
   "source": [
    "# I just imported everything I had from display_objects \n",
    "\n",
    "import igl\n",
    "import scipy as sp\n",
    "import numpy as np\n",
    "from numpy import random\n",
    "from meshplot import plot, subplot, interact\n",
    "import meshplot as mp\n",
    "import plotly.graph_objects as go\n",
    "from matplotlib import pyplot as plt\n",
    "\n",
    "# igl \n",
    "import os\n",
    "#root_folder = os.getcwd()"
   ]
  },
  {
   "cell_type": "code",
   "execution_count": null,
   "id": "e3d59e27-b688-45ca-ae9f-f9d10b1ed463",
   "metadata": {},
   "outputs": [],
   "source": [
    "#mesh_dir = 'SHREC11/'   # name of directory"
   ]
  },
  {
   "cell_type": "code",
   "execution_count": null,
   "id": "70aa9f00-702c-44f7-ab95-457ea8da7121",
   "metadata": {},
   "outputs": [],
   "source": [
    "#v, f = igl.read_triangle_mesh(os.path.join(root_folder, \"SHREC11\", \"T\"+str(num)+\".obj\"))"
   ]
  },
  {
   "cell_type": "code",
   "execution_count": null,
   "id": "a1957d65-9bc7-4335-8251-0e41d7b0c488",
   "metadata": {},
   "outputs": [],
   "source": [
    "# return V,F numpy without group info \n",
    "# takes in vs (252, 4) f0r mynumpy_array\n",
    "# delta_x, delta_y, delta_z is a list\n",
    "# group is also a list\n",
    "# all list indexes are parallel to each other \n",
    "# returns (252, 3) (group label removed) \n",
    "def change_coordinates(vs_single, delta_x, delta_y, delta_z, group):\n",
    "    # iterate through each array\n",
    "    # find matching group number\n",
    "    \n",
    "    changed_groups = []\n",
    "    \n",
    "    for i in group: \n",
    "        a = np.where(vs_single[3]==group[i], np.array([vs_single[0]+delta_x[i], vs_single[1]+delta_y[i], vs_single[2]+delta_z[i]]), np.zeros(3))\n",
    "        changed_groups.append(a)\n",
    "    \n",
    "    final_matrix = np.zeroes(changed_groups[0].shape)\n",
    "    \n",
    "    for matrix in changed_groups:\n",
    "        final_matrix = final_matrix + matrix \n",
    "    \n",
    "    return final_matrix "
   ]
  }
 ],
 "metadata": {
  "kernelspec": {
   "display_name": "Python 3 (ipykernel)",
   "language": "python",
   "name": "python3"
  },
  "language_info": {
   "codemirror_mode": {
    "name": "ipython",
    "version": 3
   },
   "file_extension": ".py",
   "mimetype": "text/x-python",
   "name": "python",
   "nbconvert_exporter": "python",
   "pygments_lexer": "ipython3",
   "version": "3.10.9"
  }
 },
 "nbformat": 4,
 "nbformat_minor": 5
}
