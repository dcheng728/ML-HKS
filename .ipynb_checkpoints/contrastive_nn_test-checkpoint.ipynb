{
 "cells": [
  {
   "cell_type": "code",
   "execution_count": 1,
   "metadata": {},
   "outputs": [],
   "source": [
    "import torch.optim as optim\n",
    "import torch\n",
    "import numpy as np\n",
    "import matplotlib.pyplot as plt\n",
    "%run helpers_preproc.ipynb\n",
    "%run alternate_data.ipynb"
   ]
  },
  {
   "cell_type": "code",
   "execution_count": 2,
   "metadata": {},
   "outputs": [],
   "source": [
    "origDataDir = 'SHREC11/'\n",
    "newDataDir = 'SHREC11_plus/'"
   ]
  },
  {
   "cell_type": "code",
   "execution_count": 3,
   "metadata": {},
   "outputs": [],
   "source": [
    "#generate additional data and update label\n",
    "origLabel = np.array(readLbl(600,origDataDir + 'labels.txt'),dtype = int) #first take in the original labels\n",
    "newLabelFile = open(newDataDir + \"labels.txt\", \"w\")"
   ]
  },
  {
   "cell_type": "code",
   "execution_count": 4,
   "metadata": {},
   "outputs": [],
   "source": [
    "for i in range(600):\n",
    "    #First create the new obj file\n",
    "    origN = origDataDir + 'T' + str(i) + '.obj'\n",
    "    newN = newDataDir + 'T' + str(i+600) + '.obj'\n",
    "    \n",
    "    if not (write_new_files(origN,newN,0.008)):\n",
    "        print('Data generation failed on ' , i)\n",
    "        \n",
    "    #Then write it into the label text file\n",
    "    newLabelFile.write(\"T\" + str(i) + \".obj\" + \" \" + str(origLabel[i]) + \"\\n\")\n",
    "    newLabelFile.write(\"T\" + str(i + 600) + \".obj\" + \" \" + str(origLabel[i]) + \"\\n\")\n",
    "\n",
    "    \n",
    "newLabelFile.close()"
   ]
  },
  {
   "cell_type": "code",
   "execution_count": 5,
   "metadata": {},
   "outputs": [],
   "source": [
    "#read in the data, get normalized adjacency (NxN)\n",
    "num_meshes = 1200\n",
    "train_size = 900\n",
    "test_size = 300\n",
    "mesh_dir = 'SHREC11_plus/'\n",
    "label_np = np.array(readLbl(num_meshes,mesh_dir+'labels.txt'))"
   ]
  },
  {
   "cell_type": "code",
   "execution_count": 6,
   "metadata": {},
   "outputs": [
    {
     "name": "stderr",
     "output_type": "stream",
     "text": [
      "/var/folders/t4/vdzymfw562g8ml8ks_2b5l5r0000gn/T/ipykernel_3915/3132685263.py:16: RuntimeWarning: invalid value encountered in true_divide\n",
      "  adj_normalized = adj_noscale / np.reshape(np.sum(adj_noscale,axis = 1),[adj_noscale.shape[0],1])\n"
     ]
    }
   ],
   "source": [
    "node_sigs_list = []\n",
    "normed_adjMats_list = []\n",
    "\n",
    "for i in range(num_meshes):\n",
    "    fName = 'T' + str(i) + '.obj'\n",
    "    adj_noscale_read = obj_2_adj_noscale(mesh_dir + fName)\n",
    "    adj_scaled_read = obj_2_adj(mesh_dir + fName)\n",
    "\n",
    "    if (adj_scaled_read.shape[0] < 252):\n",
    "        adj_noscale = np.empty([252,252])\n",
    "        adj_scaled = np.empty([252,252])\n",
    "    else:\n",
    "        adj_noscale = adj_noscale_read\n",
    "        adj_scaled = adj_scaled_read\n",
    "\n",
    "    adj_normalized = adj_noscale / np.reshape(np.sum(adj_noscale,axis = 1),[adj_noscale.shape[0],1])\n",
    "\n",
    "    #node level signal extraction\n",
    "    node_degs = np.sum(adj_noscale,axis = 0)\n",
    "    node_neigh_max = np.max(adj_scaled,axis = 0)\n",
    "    node_neigh_min = np.min(adj_scaled,axis = 0)\n",
    "    node_neigh_sum = np.sum(adj_scaled,axis = 0)\n",
    "    node_neigh_mean = np.sum(adj_scaled,axis = 0)\n",
    "\n",
    "    node_sig = np.stack([node_degs,node_neigh_max,node_neigh_min,node_neigh_sum,node_neigh_mean],axis = 1)\n",
    "    \n",
    "    node_sigs_list.append(node_sig)\n",
    "    normed_adjMats_list.append(adj_normalized)"
   ]
  },
  {
   "cell_type": "code",
   "execution_count": 7,
   "metadata": {},
   "outputs": [],
   "source": [
    "normed_adjMats = np.nan_to_num(np.stack(normed_adjMats_list))\n",
    "node_sigs = np.nan_to_num(np.stack(node_sigs_list))"
   ]
  },
  {
   "cell_type": "code",
   "execution_count": 8,
   "metadata": {},
   "outputs": [],
   "source": [
    "normed_adjMats_tr = normed_adjMats[:train_size,:,:]\n",
    "node_sigs_tr = node_sigs[:train_size,:,:]\n",
    "label_np_tr = label_np[:train_size]\n",
    "\n",
    "normed_adjMats_ts = normed_adjMats[train_size:,:,:]\n",
    "node_sigs_ts = node_sigs[train_size:,:,:]\n",
    "label_np_ts = label_np[train_size:]\n",
    "\n",
    "label_mat_tr = torch.tensor(np.where(igl.all_pairs_distances(label_np_tr,label_np_tr,False) > 0.5,0,1)).float()\n",
    "label_mat_ts = torch.tensor(np.where(igl.all_pairs_distances(label_np_ts,label_np_ts,False) > 0.5,0,1)).float()"
   ]
  },
  {
   "cell_type": "code",
   "execution_count": 9,
   "metadata": {},
   "outputs": [],
   "source": [
    "normed_adjMats_tr = torch.tensor(normed_adjMats_tr).float()\n",
    "node_sigs_tr = torch.tensor(node_sigs_tr).float()\n",
    "label_np_tr = torch.tensor(label_np_tr).float()\n",
    "\n",
    "normed_adjMats_ts = torch.tensor(normed_adjMats_ts).float()\n",
    "node_sigs_ts = torch.tensor(node_sigs_ts).float()\n",
    "label_np_ts = torch.tensor(label_np_ts).float()"
   ]
  },
  {
   "cell_type": "code",
   "execution_count": 19,
   "metadata": {},
   "outputs": [],
   "source": [
    "#label_mat_train = form_label_matrix(label_mat, train_dict)"
   ]
  },
  {
   "cell_type": "code",
   "execution_count": 20,
   "metadata": {},
   "outputs": [],
   "source": [
    "#normed_adjMats_list_train, node_sigs_list_train = prep_data(train_dict)"
   ]
  },
  {
   "cell_type": "code",
   "execution_count": 21,
   "metadata": {},
   "outputs": [],
   "source": [
    "#normed_adjMats_train = np.stack(normed_adjMats_list_train)\n",
    "#node_sigs_train = np.stack(node_sigs_list_train)\n",
    "\n",
    "#normed_adjMats_train = torch.tensor(normed_adjMats_train,requires_grad=False).float()\n",
    "#node_sigs_train = torch.tensor(node_sigs_train,requires_grad=False).float()\n",
    "\n",
    "#normed_adjMats_train = torch.nan_to_num(normed_adjMats_train,0,0,0)\n",
    "#node_sigs_train = torch.nan_to_num(node_sigs_train,0,0,0)"
   ]
  },
  {
   "cell_type": "code",
   "execution_count": 11,
   "metadata": {},
   "outputs": [
    {
     "data": {
      "text/plain": [
       "torch.Size([900, 252, 5])"
      ]
     },
     "execution_count": 11,
     "metadata": {},
     "output_type": "execute_result"
    }
   ],
   "source": [
    "node_sigs_tr.shape"
   ]
  },
  {
   "cell_type": "code",
   "execution_count": 12,
   "metadata": {},
   "outputs": [
    {
     "name": "stdout",
     "output_type": "stream",
     "text": [
      "torch.Size([900, 252, 10])\n",
      "torch.Size([900, 5])\n"
     ]
    }
   ],
   "source": [
    "%run NNs.ipynb\n",
    "g = GCN(5,[10,10,10,10])\n",
    "n = MLP(252*10,[5,5,5,5])\n",
    "output1 = g.forward(normed_adjMats_tr,node_sigs_tr)\n",
    "output2 = n.forward(output1)\n",
    "print(output1.shape)\n",
    "print(output2.shape)"
   ]
  },
  {
   "cell_type": "code",
   "execution_count": 13,
   "metadata": {},
   "outputs": [],
   "source": [
    "def useless():\n",
    "    pass\n",
    "\n",
    "def lossF(features,lbl_mat):\n",
    "    disMat = torch.cdist(features,features)\n",
    "    sameType = disMat * (lbl_mat-torch.diag(torch.ones(lbl_mat.shape[0])))\n",
    "    diffType = disMat * (1-lbl_mat)\n",
    "\n",
    "    diffTypeScaled = diffType * torch.exp(-diffType)\n",
    "    diffTypeScaledMean = torch.sum(diffTypeScaled)/ torch.count_nonzero(diffTypeScaled)\n",
    "    diffTypeMean = torch.sum(diffType)/ torch.count_nonzero(diffType)\n",
    "\n",
    "    sameTypeMean = torch.sum(sameType) / torch.count_nonzero(sameType)\n",
    "    sameTypeStd = torch.sum((sameType - sameTypeMean)**2) / torch.count_nonzero(sameType)\n",
    "\n",
    "    toRet = sameTypeMean-diffTypeScaledMean + 0.01 * torch.sqrt(sameTypeStd)\n",
    "    \n",
    "    print(sameTypeMean.detach().numpy(),diffTypeMean.detach().numpy(),torch.sqrt(sameTypeStd).detach().numpy(), toRet.detach().numpy())\n",
    "    return  toRet"
   ]
  },
  {
   "cell_type": "code",
   "execution_count": null,
   "metadata": {},
   "outputs": [
    {
     "name": "stdout",
     "output_type": "stream",
     "text": [
      "0.13244578 0.1289094 0.80870473 0.03501156\n",
      "0.12632665 0.12248629 0.76613325 0.032674793\n",
      "0.1246315 0.120195776 0.75770605 0.033143587\n",
      "0.12616831 0.12203527 0.7532731 0.033780992\n",
      "0.12196789 0.11744325 0.73414195 0.032789137\n",
      "0.123580866 0.119913876 0.7306949 0.032125972\n",
      "0.119397916 0.11519546 0.7012429 0.030950004\n",
      "0.11478137 0.11068371 0.673514 0.029610286\n",
      "0.11416747 0.11105396 0.6703519 0.029007606\n",
      "0.11991106 0.11695288 0.694196 0.030386768\n",
      "0.11768895 0.11429545 0.6799623 0.029872872\n",
      "0.10318736 0.10012559 0.5994916 0.026291527\n",
      "0.10897503 0.10732365 0.6238699 0.02572979\n",
      "0.10667374 0.10337789 0.6130061 0.026842259\n",
      "0.11086917 0.10833716 0.630622 0.02715158\n",
      "0.10981043 0.107608154 0.62428087 0.026759993\n",
      "0.09697635 0.09505538 0.5520644 0.022716926\n",
      "0.109211095 0.10691893 0.61706334 0.026669014\n",
      "0.10477258 0.10295968 0.5917655 0.024930777\n",
      "0.1123085 0.11010149 0.63094693 0.027380396\n",
      "0.10834305 0.108046055 0.6082759 0.024484403\n",
      "0.10403663 0.10226148 0.58521914 0.025237797\n",
      "0.10117138 0.10031754 0.5679531 0.023440478\n",
      "0.09238122 0.09110447 0.5203503 0.021485263\n",
      "0.10256777 0.10123756 0.57539904 0.0243578\n",
      "0.09605977 0.09545776 0.5391788 0.02180956\n",
      "0.10067633 0.10068861 0.5647204 0.022756808\n",
      "0.09528706 0.09556101 0.5344698 0.021454865\n",
      "0.09818329 0.096763216 0.5506826 0.023262983\n",
      "0.097379364 0.0960498 0.54587793 0.023144647\n",
      "0.09321256 0.093326256 0.52240103 0.020655526\n",
      "0.09827585 0.09725583 0.55196553 0.023902547\n",
      "0.10496759 0.10444097 0.58700067 0.024936639\n",
      "0.098849796 0.09813578 0.5540236 0.023291148\n",
      "0.094290406 0.09461628 0.53116333 0.022283826\n",
      "0.09461851 0.093298435 0.531657 0.02318053\n",
      "0.09670282 0.09686918 0.54198295 0.022223497\n",
      "0.103662126 0.10262764 0.5803894 0.024837036\n",
      "0.0933125 0.09254528 0.5237533 0.021212494\n",
      "0.096512206 0.095997706 0.54197496 0.0227946\n",
      "0.094335034 0.09319383 0.5291815 0.021617968\n",
      "0.09711492 0.09606933 0.5451349 0.022799736\n",
      "0.09662391 0.09560368 0.54310584 0.022626275\n",
      "0.096812546 0.094630055 0.5437034 0.023186097\n",
      "0.09070857 0.09020459 0.5112905 0.021125685\n",
      "0.10305223 0.10210937 0.57672435 0.0238219\n",
      "0.094974175 0.0952471 0.53435206 0.021248164\n",
      "0.10237207 0.10035435 0.574056 0.025032587\n",
      "0.090078175 0.089907706 0.5062111 0.01989387\n",
      "0.096936285 0.09783938 0.54437 0.02152121\n",
      "0.093732275 0.093212575 0.52532 0.02082127\n",
      "0.09512368 0.09471843 0.5333562 0.021582026\n",
      "0.093865685 0.092358395 0.5261262 0.021912795\n",
      "0.08962032 0.08879077 0.5037626 0.020261062\n",
      "0.0848536 0.085334666 0.47764432 0.01805244\n",
      "0.09393202 0.092749275 0.52810687 0.02218645\n",
      "0.09747444 0.09619043 0.54689914 0.023483332\n",
      "0.09279213 0.09265035 0.52070624 0.021021053\n",
      "0.09439906 0.093618445 0.53018016 0.022353722\n",
      "0.09293221 0.09230282 0.52180505 0.021573171\n",
      "0.095350556 0.094145276 0.5359178 0.02317263\n",
      "0.09685857 0.09558797 0.54264045 0.02303858\n",
      "0.09417567 0.09403028 0.52746654 0.020816173\n",
      "0.088741034 0.08796183 0.4982918 0.02037476\n",
      "0.09506589 0.09350632 0.53250456 0.022526067\n",
      "0.09042184 0.08948918 0.5064227 0.020520076\n",
      "0.09243122 0.092138335 0.5172995 0.020846564\n",
      "0.09175176 0.09136737 0.51492006 0.021388792\n",
      "0.10021685 0.09932804 0.5606072 0.024024898\n",
      "0.09879258 0.097696416 0.5520667 0.023359487\n",
      "0.08742205 0.086714305 0.48919618 0.019373544\n",
      "0.09362698 0.0924081 0.5238167 0.021939307\n",
      "0.0892779 0.08941444 0.5000392 0.019810947\n",
      "0.09331851 0.09291293 0.52158266 0.02143285\n",
      "0.0925019 0.09209634 0.5167461 0.021232836\n",
      "0.09164257 0.09104511 0.5132545 0.02162746\n",
      "0.09019017 0.08895004 0.5036858 0.02100971\n",
      "0.09016634 0.089790724 0.50350094 0.02036589\n",
      "0.09441574 0.094072804 0.5268457 0.021676125\n",
      "0.08587381 0.08612158 0.47988224 0.018580608\n",
      "0.08845163 0.08806142 0.49417046 0.02011853\n",
      "0.086345255 0.08592076 0.48251784 0.019764382\n",
      "0.0857614 0.086574405 0.48062444 0.019177059\n",
      "0.08385771 0.083913535 0.46928596 0.019194022\n",
      "0.08243159 0.08175276 0.46080986 0.01885387\n",
      "0.08020065 0.08061082 0.44959763 0.018038122\n",
      "0.08653016 0.0858263 0.48398456 0.0207095\n",
      "0.08350337 0.08346534 0.4676712 0.019195165\n",
      "0.08075588 0.08094818 0.45194742 0.018023629\n",
      "0.08054009 0.07930787 0.4508765 0.018991986\n",
      "0.0791609 0.079031885 0.4427855 0.017412152\n",
      "0.081919335 0.08097984 0.45824397 0.019137155\n",
      "0.0744056 0.07420607 0.4169797 0.01622312\n",
      "0.06996349 0.06970466 0.39260846 0.015003842\n",
      "0.07039429 0.07000071 0.39355144 0.014319656\n",
      "0.067875564 0.06873271 0.38004845 0.012841417\n",
      "0.07090765 0.07044924 0.3961846 0.014348265\n",
      "0.065188 0.065132305 0.36336023 0.011880401\n",
      "0.061195515 0.061558586 0.3418484 0.01074509\n",
      "0.05521031 0.05539655 0.30949846 0.009629162\n",
      "0.050721783 0.051242024 0.28599447 0.00885102\n",
      "0.04450177 0.04571286 0.25329426 0.0076012146\n",
      "0.04606385 0.047229875 0.26212385 0.00811852\n",
      "0.043059822 0.044492032 0.24519354 0.006949292\n",
      "0.052259713 0.05305716 0.29609823 0.009924168\n",
      "0.05060229 0.05166383 0.286539 0.009123017\n",
      "0.053596392 0.05421597 0.30253208 0.010037177\n",
      "0.056506243 0.057852637 0.3183463 0.010087428\n",
      "0.05253065 0.053415872 0.29605937 0.009221074\n",
      "0.05419564 0.055194385 0.3051956 0.009477281\n",
      "0.0536067 0.053971343 0.3016656 0.009762345\n",
      "0.04952069 0.050713282 0.2788128 0.007921705\n",
      "0.051816676 0.05228445 0.29211238 0.00930163\n",
      "0.046794478 0.048119616 0.26430357 0.0073039066\n",
      "0.048647653 0.049188863 0.27437243 0.008425977\n",
      "0.043074187 0.044137187 0.24427564 0.006849507\n",
      "0.044169206 0.04510168 0.25006407 0.007153603\n",
      "0.039183445 0.040470574 0.22370002 0.0059816507\n",
      "0.047197487 0.04809705 0.2675134 0.008134081\n",
      "0.047457986 0.047950104 0.26807326 0.008184663\n",
      "0.04112104 0.04240034 0.23347542 0.0061659208\n",
      "0.042308364 0.044044375 0.23997605 0.006112925\n",
      "0.04683422 0.04779965 0.2644857 0.007626043\n",
      "0.0449755 0.046015244 0.25450215 0.007265739\n",
      "0.04472765 0.04580912 0.25411785 0.0075318157\n",
      "0.04059916 0.041361745 0.23185468 0.007026546\n",
      "0.0394117 0.041232567 0.22584276 0.006069746\n",
      "0.0418343 0.043095287 0.23899321 0.0069846194\n",
      "0.04629931 0.047405202 0.26321527 0.008215591\n",
      "0.040117785 0.040972836 0.2300568 0.0071419254\n",
      "0.044601716 0.045568265 0.25446373 0.008095868\n",
      "0.03756258 0.039443675 0.21632248 0.0057844007\n",
      "0.044828024 0.04667934 0.25613096 0.0075830305\n",
      "0.040542055 0.04199062 0.23258467 0.006835698\n",
      "0.042071044 0.044435583 0.24094972 0.0065049883\n",
      "0.0450715 0.046552967 0.25732052 0.007937258\n",
      "0.040973343 0.042177264 0.23546721 0.007306358\n",
      "0.04237045 0.044340577 0.2428385 0.0069715776\n",
      "0.03974118 0.041735552 0.22886316 0.006465725\n",
      "0.03485421 0.03688357 0.20199741 0.0052401973\n",
      "0.042735524 0.043934733 0.24476704 0.0076471623\n",
      "0.042554952 0.044240557 0.24373472 0.0072245314\n",
      "0.03605094 0.037859198 0.20855494 0.0056952923\n",
      "0.041618157 0.04322861 0.23827873 0.0069144834\n",
      "0.04534501 0.047116794 0.2588388 0.007688225\n",
      "0.041467354 0.0433418 0.2373407 0.006607866\n",
      "0.04325573 0.045414314 0.24714503 0.0067876945\n",
      "0.041494966 0.04365499 0.23759481 0.0063287383\n",
      "0.03956618 0.041980583 0.22704065 0.0057292785\n",
      "0.037093025 0.038982574 0.21305314 0.0054130224\n",
      "0.046100568 0.047557473 0.26237562 0.007917703\n",
      "0.03659795 0.03883776 0.21038958 0.005045754\n",
      "0.042608418 0.04425956 0.24332121 0.0068779006\n",
      "0.04110528 0.04262688 0.23501626 0.0067035966\n",
      "0.040481076 0.042213056 0.23201092 0.0064216126\n",
      "0.04053306 0.04318023 0.23164429 0.0054761707\n",
      "0.04380228 0.045929343 0.24961133 0.0067550773\n",
      "0.04370941 0.045471705 0.24866773 0.006819395\n",
      "0.038645554 0.040559765 0.22111379 0.005591481\n",
      "0.039661285 0.041599385 0.22694504 0.005874496\n",
      "0.03819582 0.04080451 0.2186764 0.004893724\n",
      "0.037120383 0.038932055 0.21334025 0.0055083106\n",
      "0.03925461 0.04161394 0.22511622 0.0056041805\n",
      "0.041021 0.04331368 0.23469584 0.006046097\n",
      "0.038854968 0.04094151 0.22306687 0.0057894606\n",
      "0.042494107 0.044381868 0.24280463 0.0067901975\n",
      "0.038485587 0.040570177 0.2209565 0.0056519713\n",
      "0.041335598 0.04317581 0.23620123 0.006315558\n",
      "0.038199324 0.040191166 0.2187608 0.005442949\n",
      "0.03659096 0.037983917 0.209541 0.0054192143\n",
      "0.03971366 0.041941274 0.2259402 0.0052023847\n",
      "0.041182645 0.043400075 0.23453045 0.0056570354\n",
      "0.03691371 0.038474694 0.21074222 0.0051875627\n",
      "0.034919072 0.03661967 0.19963725 0.00455704\n",
      "0.037936945 0.03985011 0.21565585 0.004826366\n",
      "0.032943383 0.0354684 0.18873248 0.0033799964\n",
      "0.032302 0.033941012 0.18445627 0.0037811138\n",
      "0.03408799 0.035988424 0.19412744 0.0038933638\n",
      "0.028778836 0.030833226 0.16417964 0.0024664379\n",
      "0.029842889 0.031997215 0.16965964 0.002392542\n",
      "0.023624204 0.025653308 0.13442992 0.0011982399\n",
      "0.023325471 0.025444396 0.1319161 0.0008410051\n"
     ]
    },
    {
     "name": "stdout",
     "output_type": "stream",
     "text": [
      "0.018086731 0.020192442 0.103508584 0.00012487441\n",
      "0.012819033 0.015352763 0.07382575 -0.0011003326\n",
      "0.009597721 0.012538422 0.05762964 -0.0017363909\n",
      "0.0134766195 0.015595819 0.07788931 -0.0005720853\n",
      "0.017054928 0.01899057 0.09750987 6.948243e-05\n",
      "0.017834738 0.020465152 0.101093 -0.00056401093\n",
      "0.018475922 0.020981815 0.10576708 -0.00015465228\n",
      "0.019225238 0.021627119 0.110271186 0.000109624\n",
      "0.01895698 0.021274725 0.10820612 3.0035502e-05\n",
      "0.019608494 0.021668542 0.110978894 0.00023361365\n",
      "0.017441638 0.020068364 0.09953615 -0.0005318846\n",
      "0.01562993 0.017936282 0.08964864 -0.0004628534\n",
      "0.012742361 0.015293834 0.07300085 -0.0011650048\n",
      "0.010445035 0.013105566 0.06069124 -0.0015164434\n",
      "0.010111386 0.013170291 0.059975777 -0.0018285699\n",
      "0.011662777 0.014139696 0.06652333 -0.0012980246\n",
      "0.014695393 0.01704816 0.08414486 -0.000697087\n",
      "0.013543399 0.01617058 0.07813039 -0.0010533774\n",
      "0.0130218165 0.01552781 0.07305867 -0.0012808875\n",
      "0.012954544 0.015728222 0.07229895 -0.0015913732\n",
      "0.013225851 0.01580073 0.07621399 -0.0010766466\n",
      "0.012653564 0.01501612 0.0734454 -0.0008904524\n",
      "0.011227549 0.013797144 0.06378795 -0.0014636322\n",
      "0.009835679 0.012862678 0.057373323 -0.0019377057\n",
      "0.010014423 0.012950013 0.05969705 -0.0016965547\n",
      "0.010794293 0.013501916 0.06372064 -0.0014009781\n",
      "0.011397595 0.014056792 0.06695361 -0.0012946763\n",
      "0.011688134 0.014103555 0.06848487 -0.0010248742\n",
      "0.010718566 0.013806576 0.06225968 -0.0018956789\n",
      "0.010618647 0.013612559 0.06182155 -0.0018040382\n",
      "0.009799902 0.012950697 0.055651072 -0.0022155878\n",
      "0.010349443 0.013392127 0.061603975 -0.001753271\n",
      "0.010760701 0.013662532 0.063804656 -0.0015667721\n",
      "0.010773422 0.013739543 0.06329165 -0.0016919702\n",
      "0.010820689 0.014016593 0.06460686 -0.0018033945\n",
      "0.010550372 0.01381803 0.062284958 -0.0019872165\n",
      "0.01034803 0.013333626 0.06075428 -0.0017924857\n",
      "0.010411872 0.013648421 0.061747067 -0.0019478407\n",
      "0.010533078 0.013473022 0.0626499 -0.0016235131\n",
      "0.010906472 0.014012116 0.06440871 -0.0017696822\n",
      "0.010412547 0.013583353 0.06183507 -0.001883613\n",
      "0.010510073 0.013582416 0.062401507 -0.0017711679\n",
      "0.010446221 0.013687837 0.061810844 -0.001964759\n",
      "0.01100335 0.014125161 0.065946266 -0.0016669187\n"
     ]
    }
   ],
   "source": [
    "optimizer = optim.Adam(g.weights + n.weights,lr = 0.00005)\n",
    "for i in range(100000):\n",
    "    optimizer.zero_grad()\n",
    "    output = n.forward(g.forward(normed_adjMats_tr,node_sigs_tr))\n",
    "    loss = lossF(output,label_mat_tr)\n",
    "    loss.backward()\n",
    "    optimizer.step()"
   ]
  },
  {
   "cell_type": "code",
   "execution_count": null,
   "metadata": {},
   "outputs": [],
   "source": [
    "output = n.forward(g.forward(normed_adjMats_tr,node_sigs_tr))\n",
    "output.shape"
   ]
  },
  {
   "cell_type": "code",
   "execution_count": null,
   "metadata": {},
   "outputs": [],
   "source": [
    "disMat = torch.cdist(output,output).flatten()\n",
    "mask_same = torch.tensor(label_mat_tr - torch.diag(torch.ones(train_size)),dtype=bool).flatten()\n",
    "mask_diff = torch.tensor(1 - label_mat_tr,dtype=bool).flatten()\n",
    "sameComp = disMat[mask_same].detach().numpy()\n",
    "diffComp = disMat[mask_diff].detach().numpy()\n",
    "weightsSame = np.ones_like(sameComp) / len(sameComp)\n",
    "weightsDiff = np.ones_like(diffComp) / len(diffComp)"
   ]
  },
  {
   "cell_type": "code",
   "execution_count": null,
   "metadata": {},
   "outputs": [],
   "source": [
    "print(np.mean(diffComp),np.mean(sameComp))\n",
    "f, (ax1, ax2) = plt.subplots(1, 2, sharey=True)\n",
    "ax1.hist(sameComp,bins=np.arange(0,np.max(sameComp),0.01),weights=weightsSame,log = False)\n",
    "ax1.set_title('Same Comp')\n",
    "ax2.hist(diffComp,bins=np.arange(0,np.max(diffComp),0.01),weights=weightsDiff,log = False)\n",
    "ax2.set_title('Diff Comp')"
   ]
  },
  {
   "cell_type": "code",
   "execution_count": null,
   "metadata": {},
   "outputs": [],
   "source": [
    "output = n.forward(g.forward(normed_adjMats_ts,node_sigs_ts))\n",
    "output.shape"
   ]
  },
  {
   "cell_type": "code",
   "execution_count": 250,
   "metadata": {},
   "outputs": [
    {
     "name": "stderr",
     "output_type": "stream",
     "text": [
      "/var/folders/t4/vdzymfw562g8ml8ks_2b5l5r0000gn/T/ipykernel_16850/3817663312.py:2: UserWarning: To copy construct from a tensor, it is recommended to use sourceTensor.clone().detach() or sourceTensor.clone().detach().requires_grad_(True), rather than torch.tensor(sourceTensor).\n",
      "  mask_same = torch.tensor(label_mat_ts - torch.diag(torch.ones(150)),dtype=bool).flatten()\n",
      "/var/folders/t4/vdzymfw562g8ml8ks_2b5l5r0000gn/T/ipykernel_16850/3817663312.py:3: UserWarning: To copy construct from a tensor, it is recommended to use sourceTensor.clone().detach() or sourceTensor.clone().detach().requires_grad_(True), rather than torch.tensor(sourceTensor).\n",
      "  mask_diff = torch.tensor(1 - label_mat_ts,dtype=bool).flatten()\n"
     ]
    }
   ],
   "source": [
    "disMat = torch.cdist(output,output).flatten()\n",
    "mask_same = torch.tensor(label_mat_ts - torch.diag(torch.ones(test_size)),dtype=bool).flatten()\n",
    "mask_diff = torch.tensor(1 - label_mat_ts,dtype=bool).flatten()\n",
    "sameComp = disMat[mask_same].detach().numpy()\n",
    "diffComp = disMat[mask_diff].detach().numpy()\n",
    "weightsSame = np.ones_like(sameComp) / len(sameComp)\n",
    "weightsDiff = np.ones_like(diffComp) / len(diffComp)"
   ]
  },
  {
   "cell_type": "code",
   "execution_count": 251,
   "metadata": {},
   "outputs": [
    {
     "name": "stdout",
     "output_type": "stream",
     "text": [
      "0.43882027 0.22498678\n"
     ]
    },
    {
     "data": {
      "text/plain": [
       "Text(0.5, 1.0, 'Diff Comp')"
      ]
     },
     "execution_count": 251,
     "metadata": {},
     "output_type": "execute_result"
    },
    {
     "data": {
      "image/png": "[encoded data removed]",
      "text/plain": [
       "<Figure size 432x288 with 2 Axes>"
      ]
     },
     "metadata": {
      "needs_background": "light"
     },
     "output_type": "display_data"
    }
   ],
   "source": [
    "print(np.mean(diffComp),np.mean(sameComp))\n",
    "f, (ax1, ax2) = plt.subplots(1, 2, sharey=True)\n",
    "ax1.hist(sameComp,bins=np.arange(0,np.max(sameComp),0.01),weights=weightsSame,log = False)\n",
    "ax1.set_title('Same Comp')\n",
    "ax2.hist(diffComp,bins=np.arange(0,np.max(diffComp),0.01),weights=weightsDiff,log = False)\n",
    "ax2.set_title('Diff Comp')"
   ]
  },
  {
   "cell_type": "code",
   "execution_count": 230,
   "metadata": {},
   "outputs": [],
   "source": [
    "#from matplotlib.pyplot import figure\n",
    "#figure(figsize=(10, 8), dpi=80)\n"
   ]
  },
  {
   "cell_type": "code",
   "execution_count": 167,
   "metadata": {},
   "outputs": [],
   "source": [
    "BigDiffIndices = np.where(disMat.detach().numpy().flatten() > 0.1)[0].tolist()"
   ]
  },
  {
   "cell_type": "code",
   "execution_count": 149,
   "metadata": {},
   "outputs": [
    {
     "data": {
      "text/plain": [
       "18906"
      ]
     },
     "execution_count": 149,
     "metadata": {},
     "output_type": "execute_result"
    }
   ],
   "source": [
    "len(BigDiffIndices)"
   ]
  },
  {
   "cell_type": "code",
   "execution_count": 150,
   "metadata": {},
   "outputs": [
    {
     "data": {
      "text/plain": [
       "array([[0., 0., 0., 0., 0., 0., 0., 0., 0., 0., 0., 0., 0., 0., 0., 0.,\n",
       "        0., 0., 0., 0., 0., 0., 0., 0., 0., 0., 0., 0., 0., 0.],\n",
       "       [0., 0., 0., 0., 0., 0., 0., 0., 0., 0., 0., 0., 0., 0., 0., 0.,\n",
       "        0., 0., 0., 0., 0., 0., 0., 0., 0., 0., 0., 0., 0., 0.],\n",
       "       [0., 0., 0., 0., 0., 0., 0., 0., 0., 0., 0., 0., 0., 0., 0., 0.,\n",
       "        0., 0., 0., 0., 0., 0., 0., 0., 0., 0., 0., 0., 0., 0.],\n",
       "       [0., 0., 0., 0., 0., 0., 0., 0., 0., 0., 0., 0., 0., 0., 0., 0.,\n",
       "        0., 0., 0., 0., 0., 0., 0., 0., 0., 0., 0., 0., 0., 0.],\n",
       "       [0., 0., 0., 0., 0., 0., 0., 0., 0., 0., 0., 0., 0., 0., 0., 0.,\n",
       "        0., 0., 0., 0., 0., 0., 0., 0., 0., 0., 0., 0., 0., 0.],\n",
       "       [0., 0., 0., 0., 0., 0., 0., 0., 0., 0., 0., 0., 0., 0., 0., 0.,\n",
       "        0., 0., 0., 0., 0., 0., 0., 0., 0., 0., 0., 0., 0., 0.],\n",
       "       [0., 0., 0., 0., 0., 0., 0., 0., 0., 0., 0., 0., 0., 0., 0., 0.,\n",
       "        0., 0., 0., 0., 0., 0., 0., 0., 0., 0., 0., 0., 0., 0.],\n",
       "       [0., 0., 0., 0., 0., 0., 0., 0., 0., 0., 0., 0., 0., 0., 0., 0.,\n",
       "        0., 0., 0., 0., 0., 0., 0., 0., 0., 0., 0., 0., 0., 0.],\n",
       "       [0., 0., 0., 0., 0., 0., 0., 0., 0., 0., 0., 0., 0., 0., 0., 0.,\n",
       "        0., 0., 0., 0., 0., 0., 0., 0., 0., 0., 0., 0., 0., 0.],\n",
       "       [0., 0., 0., 0., 0., 0., 0., 0., 0., 0., 0., 0., 0., 0., 0., 0.,\n",
       "        0., 0., 0., 0., 0., 0., 0., 0., 0., 0., 0., 0., 0., 0.],\n",
       "       [0., 0., 0., 0., 0., 0., 0., 0., 0., 0., 0., 0., 0., 0., 0., 0.,\n",
       "        0., 0., 0., 0., 0., 0., 0., 0., 0., 0., 0., 0., 0., 0.],\n",
       "       [0., 0., 0., 0., 0., 0., 0., 0., 0., 0., 0., 0., 0., 0., 0., 0.,\n",
       "        0., 0., 0., 0., 0., 0., 0., 0., 0., 0., 0., 0., 0., 0.],\n",
       "       [0., 0., 0., 0., 0., 0., 0., 0., 0., 0., 0., 0., 0., 0., 0., 0.,\n",
       "        0., 0., 0., 0., 0., 0., 0., 0., 0., 0., 0., 0., 0., 0.],\n",
       "       [0., 0., 0., 0., 0., 0., 0., 0., 0., 0., 0., 0., 0., 0., 0., 0.,\n",
       "        0., 0., 0., 0., 0., 0., 0., 0., 0., 0., 0., 0., 0., 0.],\n",
       "       [0., 0., 0., 0., 0., 0., 0., 0., 0., 0., 0., 0., 0., 0., 0., 0.,\n",
       "        0., 0., 0., 0., 0., 0., 0., 0., 0., 0., 0., 0., 0., 0.],\n",
       "       [0., 0., 0., 0., 0., 0., 0., 0., 0., 0., 0., 0., 0., 0., 0., 0.,\n",
       "        0., 0., 0., 0., 0., 0., 0., 0., 0., 0., 0., 0., 0., 0.],\n",
       "       [0., 0., 0., 0., 0., 0., 0., 0., 0., 0., 0., 0., 0., 0., 0., 0.,\n",
       "        0., 0., 0., 0., 0., 0., 0., 0., 0., 0., 0., 0., 0., 0.],\n",
       "       [0., 0., 0., 0., 0., 0., 0., 0., 0., 0., 0., 0., 0., 0., 0., 0.,\n",
       "        0., 0., 0., 0., 0., 0., 0., 0., 0., 0., 0., 0., 0., 0.],\n",
       "       [0., 0., 0., 0., 0., 0., 0., 0., 0., 0., 0., 0., 0., 0., 0., 0.,\n",
       "        0., 0., 0., 0., 0., 0., 0., 0., 0., 0., 0., 0., 0., 0.],\n",
       "       [0., 0., 0., 0., 0., 0., 0., 0., 0., 0., 0., 0., 0., 0., 0., 0.,\n",
       "        0., 0., 0., 0., 0., 0., 0., 0., 0., 0., 0., 0., 0., 0.],\n",
       "       [0., 0., 0., 0., 0., 0., 0., 0., 0., 0., 0., 0., 0., 0., 0., 0.,\n",
       "        0., 0., 0., 0., 0., 0., 0., 0., 0., 0., 0., 0., 0., 0.],\n",
       "       [0., 0., 0., 0., 0., 0., 0., 0., 0., 0., 0., 0., 0., 0., 0., 0.,\n",
       "        0., 0., 0., 0., 0., 0., 0., 0., 0., 0., 0., 0., 0., 0.],\n",
       "       [0., 0., 0., 0., 0., 0., 0., 0., 0., 0., 0., 0., 0., 0., 0., 0.,\n",
       "        0., 0., 0., 0., 0., 0., 0., 0., 0., 0., 0., 0., 0., 0.],\n",
       "       [0., 0., 0., 0., 0., 0., 0., 0., 0., 0., 0., 0., 0., 0., 0., 0.,\n",
       "        0., 0., 0., 0., 0., 0., 0., 0., 0., 0., 0., 0., 0., 0.],\n",
       "       [0., 0., 0., 0., 0., 0., 0., 0., 0., 0., 0., 0., 0., 0., 0., 0.,\n",
       "        0., 0., 0., 0., 0., 0., 0., 0., 0., 0., 0., 0., 0., 0.],\n",
       "       [0., 0., 0., 0., 0., 0., 0., 0., 0., 0., 0., 0., 0., 0., 0., 0.,\n",
       "        0., 0., 0., 0., 0., 0., 0., 0., 0., 0., 0., 0., 0., 0.],\n",
       "       [0., 0., 0., 0., 0., 0., 0., 0., 0., 0., 0., 0., 0., 0., 0., 0.,\n",
       "        0., 0., 0., 0., 0., 0., 0., 0., 0., 0., 0., 0., 0., 0.],\n",
       "       [0., 0., 0., 0., 0., 0., 0., 0., 0., 0., 0., 0., 0., 0., 0., 0.,\n",
       "        0., 0., 0., 0., 0., 0., 0., 0., 0., 0., 0., 0., 0., 0.],\n",
       "       [0., 0., 0., 0., 0., 0., 0., 0., 0., 0., 0., 0., 0., 0., 0., 0.,\n",
       "        0., 0., 0., 0., 0., 0., 0., 0., 0., 0., 0., 0., 0., 0.],\n",
       "       [0., 0., 0., 0., 0., 0., 0., 0., 0., 0., 0., 0., 0., 0., 0., 0.,\n",
       "        0., 0., 0., 0., 0., 0., 0., 0., 0., 0., 0., 0., 0., 0.]])"
      ]
     },
     "execution_count": 150,
     "metadata": {},
     "output_type": "execute_result"
    }
   ],
   "source": [
    "vizMat = np.zeros([30,30])\n",
    "vizMat"
   ]
  },
  {
   "cell_type": "code",
   "execution_count": 152,
   "metadata": {},
   "outputs": [],
   "source": [
    "for index in BigDiffIndices:\n",
    "    row, col = divmod(index,150)\n",
    "    cat1, cat2 = int(label_np[row]),int(label_np[col])\n",
    "    #print(cat1,cat2, (cat1 == cat2))\n",
    "    vizMat[cat1,cat2] += 1\n",
    "    vizMat[cat2,cat1] += 1\n"
   ]
  },
  {
   "cell_type": "code",
   "execution_count": 153,
   "metadata": {},
   "outputs": [
    {
     "data": {
      "text/plain": [
       "array([[0.2       , 0.22758621, 0.17586207, 0.62758621, 0.15172414,\n",
       "        0.2137931 , 0.34137931, 0.37931034, 0.27586207, 0.22068966,\n",
       "        0.15862069, 0.24482759, 0.36206897, 0.25517241, 0.32413793,\n",
       "        0.43793103, 0.46206897, 0.1862069 , 0.25862069, 0.30344828,\n",
       "        0.38275862, 0.47931034, 0.13448276, 0.49310345, 0.44482759,\n",
       "        0.43103448, 0.31724138, 0.10344828, 0.1862069 , 0.21724138],\n",
       "       [0.22758621, 0.1862069 , 0.13793103, 0.57931034, 0.12758621,\n",
       "        0.19655172, 0.30344828, 0.29655172, 0.22068966, 0.16551724,\n",
       "        0.14827586, 0.21034483, 0.29310345, 0.20689655, 0.24482759,\n",
       "        0.35172414, 0.34137931, 0.15862069, 0.19655172, 0.25517241,\n",
       "        0.29310345, 0.37586207, 0.10689655, 0.36896552, 0.36896552,\n",
       "        0.35517241, 0.25172414, 0.0862069 , 0.18275862, 0.23103448],\n",
       "       [0.17586207, 0.13793103, 0.04137931, 0.46551724, 0.05517241,\n",
       "        0.10689655, 0.2       , 0.18965517, 0.11034483, 0.07586207,\n",
       "        0.06206897, 0.12413793, 0.19655172, 0.1137931 , 0.15172414,\n",
       "        0.27586207, 0.25172414, 0.09310345, 0.10344828, 0.16206897,\n",
       "        0.19310345, 0.26206897, 0.02758621, 0.27586207, 0.22413793,\n",
       "        0.24482759, 0.14137931, 0.04137931, 0.10689655, 0.14137931],\n",
       "       [0.62758621, 0.57931034, 0.46551724, 1.        , 0.45862069,\n",
       "        0.54482759, 0.60344828, 0.73793103, 0.55517241, 0.5       ,\n",
       "        0.46206897, 0.53103448, 0.65862069, 0.54482759, 0.63793103,\n",
       "        0.69655172, 0.80689655, 0.44827586, 0.63793103, 0.63793103,\n",
       "        0.76206897, 0.83448276, 0.37931034, 0.83103448, 0.88965517,\n",
       "        0.77931034, 0.63793103, 0.40689655, 0.49655172, 0.58275862],\n",
       "       [0.15172414, 0.12758621, 0.05517241, 0.45862069, 0.04137931,\n",
       "        0.11724138, 0.18965517, 0.19310345, 0.14482759, 0.08965517,\n",
       "        0.07586207, 0.14137931, 0.22068966, 0.1137931 , 0.17241379,\n",
       "        0.26206897, 0.26206897, 0.08275862, 0.11724138, 0.14827586,\n",
       "        0.20344828, 0.30344828, 0.04137931, 0.27931034, 0.24137931,\n",
       "        0.24137931, 0.15517241, 0.03448276, 0.12068966, 0.13448276],\n",
       "       [0.2137931 , 0.19655172, 0.10689655, 0.54482759, 0.11724138,\n",
       "        0.17931034, 0.24827586, 0.23448276, 0.18965517, 0.15172414,\n",
       "        0.13103448, 0.1862069 , 0.27586207, 0.16551724, 0.21034483,\n",
       "        0.33103448, 0.32758621, 0.15517241, 0.16896552, 0.21724138,\n",
       "        0.26896552, 0.36896552, 0.09655172, 0.37931034, 0.29310345,\n",
       "        0.32413793, 0.22413793, 0.1       , 0.17586207, 0.21034483],\n",
       "       [0.34137931, 0.30344828, 0.2       , 0.60344828, 0.18965517,\n",
       "        0.24827586, 0.32413793, 0.34482759, 0.29310345, 0.25172414,\n",
       "        0.21724138, 0.28965517, 0.35862069, 0.25517241, 0.34137931,\n",
       "        0.4137931 , 0.42758621, 0.23103448, 0.29310345, 0.29655172,\n",
       "        0.38275862, 0.46551724, 0.17241379, 0.42758621, 0.45862069,\n",
       "        0.40344828, 0.30689655, 0.17241379, 0.26206897, 0.31034483],\n",
       "       [0.37931034, 0.29655172, 0.18965517, 0.73793103, 0.19310345,\n",
       "        0.23448276, 0.34482759, 0.3862069 , 0.26896552, 0.26206897,\n",
       "        0.2       , 0.28275862, 0.37241379, 0.24137931, 0.36551724,\n",
       "        0.44827586, 0.50344828, 0.21034483, 0.3137931 , 0.34137931,\n",
       "        0.45862069, 0.53793103, 0.14137931, 0.50689655, 0.54827586,\n",
       "        0.48965517, 0.34482759, 0.14482759, 0.24827586, 0.33103448],\n",
       "       [0.27586207, 0.22068966, 0.11034483, 0.55517241, 0.14482759,\n",
       "        0.18965517, 0.29310345, 0.26896552, 0.17931034, 0.15172414,\n",
       "        0.13103448, 0.2       , 0.25517241, 0.18275862, 0.24482759,\n",
       "        0.3862069 , 0.34827586, 0.16206897, 0.19655172, 0.25517241,\n",
       "        0.28965517, 0.34827586, 0.0862069 , 0.37931034, 0.33793103,\n",
       "        0.33793103, 0.23793103, 0.1137931 , 0.17241379, 0.22758621],\n",
       "       [0.22068966, 0.16551724, 0.07586207, 0.5       , 0.08965517,\n",
       "        0.15172414, 0.25172414, 0.26206897, 0.15172414, 0.11034483,\n",
       "        0.08965517, 0.13793103, 0.24137931, 0.16896552, 0.19655172,\n",
       "        0.30344828, 0.30689655, 0.08965517, 0.15862069, 0.22068966,\n",
       "        0.25862069, 0.33793103, 0.05517241, 0.35172414, 0.35517241,\n",
       "        0.33448276, 0.20689655, 0.05517241, 0.11724138, 0.16206897],\n",
       "       [0.15862069, 0.14827586, 0.06206897, 0.46206897, 0.07586207,\n",
       "        0.13103448, 0.21724138, 0.2       , 0.13103448, 0.08965517,\n",
       "        0.06896552, 0.12413793, 0.20344828, 0.14137931, 0.18965517,\n",
       "        0.3137931 , 0.26896552, 0.1       , 0.13103448, 0.18965517,\n",
       "        0.22068966, 0.30344828, 0.04137931, 0.31724138, 0.28275862,\n",
       "        0.26206897, 0.17931034, 0.04137931, 0.11724138, 0.13448276],\n",
       "       [0.24482759, 0.21034483, 0.12413793, 0.53103448, 0.14137931,\n",
       "        0.1862069 , 0.28965517, 0.28275862, 0.2       , 0.13793103,\n",
       "        0.12413793, 0.15172414, 0.25517241, 0.2       , 0.23103448,\n",
       "        0.3862069 , 0.36551724, 0.15517241, 0.17586207, 0.22758621,\n",
       "        0.27586207, 0.35517241, 0.1       , 0.3862069 , 0.32758621,\n",
       "        0.34827586, 0.23448276, 0.10689655, 0.14137931, 0.20689655],\n",
       "       [0.36206897, 0.29310345, 0.19655172, 0.65862069, 0.22068966,\n",
       "        0.27586207, 0.35862069, 0.37241379, 0.25517241, 0.24137931,\n",
       "        0.20344828, 0.25517241, 0.33793103, 0.26551724, 0.33103448,\n",
       "        0.43103448, 0.42413793, 0.22068966, 0.28965517, 0.30689655,\n",
       "        0.36206897, 0.44827586, 0.14137931, 0.46551724, 0.46896552,\n",
       "        0.44827586, 0.31724138, 0.18965517, 0.25517241, 0.31724138],\n",
       "       [0.25517241, 0.20689655, 0.1137931 , 0.54482759, 0.1137931 ,\n",
       "        0.16551724, 0.25517241, 0.24137931, 0.18275862, 0.16896552,\n",
       "        0.14137931, 0.2       , 0.26551724, 0.15172414, 0.22758621,\n",
       "        0.33793103, 0.27931034, 0.16206897, 0.15862069, 0.21724138,\n",
       "        0.26896552, 0.33793103, 0.07931034, 0.31724138, 0.29310345,\n",
       "        0.32068966, 0.19655172, 0.10344828, 0.16896552, 0.22068966],\n",
       "       [0.32413793, 0.24482759, 0.15172414, 0.63793103, 0.17241379,\n",
       "        0.21034483, 0.34137931, 0.36551724, 0.24482759, 0.19655172,\n",
       "        0.18965517, 0.23103448, 0.33103448, 0.22758621, 0.28275862,\n",
       "        0.39655172, 0.44137931, 0.16896552, 0.24827586, 0.32413793,\n",
       "        0.38965517, 0.45517241, 0.1137931 , 0.44137931, 0.46896552,\n",
       "        0.42068966, 0.28965517, 0.12758621, 0.19655172, 0.24827586],\n",
       "       [0.43793103, 0.35172414, 0.27586207, 0.69655172, 0.26206897,\n",
       "        0.33103448, 0.4137931 , 0.44827586, 0.3862069 , 0.30344828,\n",
       "        0.3137931 , 0.3862069 , 0.43103448, 0.33793103, 0.39655172,\n",
       "        0.42068966, 0.51724138, 0.2862069 , 0.37241379, 0.36896552,\n",
       "        0.46896552, 0.56896552, 0.23448276, 0.52758621, 0.57241379,\n",
       "        0.49310345, 0.40344828, 0.21724138, 0.32758621, 0.37931034],\n",
       "       [0.46206897, 0.34137931, 0.25172414, 0.80689655, 0.26206897,\n",
       "        0.32758621, 0.42758621, 0.50344828, 0.34827586, 0.30689655,\n",
       "        0.26896552, 0.36551724, 0.42413793, 0.27931034, 0.44137931,\n",
       "        0.51724138, 0.56551724, 0.26551724, 0.36896552, 0.42413793,\n",
       "        0.53793103, 0.5862069 , 0.19655172, 0.54827586, 0.64137931,\n",
       "        0.55862069, 0.3862069 , 0.21724138, 0.31034483, 0.3862069 ],\n",
       "       [0.1862069 , 0.15862069, 0.09310345, 0.44827586, 0.08275862,\n",
       "        0.15517241, 0.23103448, 0.21034483, 0.16206897, 0.08965517,\n",
       "        0.1       , 0.15517241, 0.22068966, 0.16206897, 0.16896552,\n",
       "        0.2862069 , 0.26551724, 0.12413793, 0.12758621, 0.17586207,\n",
       "        0.19310345, 0.29310345, 0.08275862, 0.30689655, 0.23103448,\n",
       "        0.26896552, 0.17931034, 0.05517241, 0.14482759, 0.17586207],\n",
       "       [0.25862069, 0.19655172, 0.10344828, 0.63793103, 0.11724138,\n",
       "        0.16896552, 0.29310345, 0.3137931 , 0.19655172, 0.15862069,\n",
       "        0.13103448, 0.17586207, 0.28965517, 0.15862069, 0.24827586,\n",
       "        0.37241379, 0.36896552, 0.12758621, 0.17931034, 0.24827586,\n",
       "        0.32413793, 0.43103448, 0.05517241, 0.41034483, 0.41724138,\n",
       "        0.37931034, 0.25517241, 0.06896552, 0.16206897, 0.20689655],\n",
       "       [0.30344828, 0.25517241, 0.16206897, 0.63793103, 0.14827586,\n",
       "        0.21724138, 0.29655172, 0.34137931, 0.25517241, 0.22068966,\n",
       "        0.18965517, 0.22758621, 0.30689655, 0.21724138, 0.32413793,\n",
       "        0.36896552, 0.42413793, 0.17586207, 0.24827586, 0.24827586,\n",
       "        0.36551724, 0.42758621, 0.10689655, 0.42068966, 0.43793103,\n",
       "        0.3862069 , 0.25862069, 0.11724138, 0.2       , 0.27586207],\n",
       "       [0.38275862, 0.29310345, 0.19310345, 0.76206897, 0.20344828,\n",
       "        0.26896552, 0.38275862, 0.45862069, 0.28965517, 0.25862069,\n",
       "        0.22068966, 0.27586207, 0.36206897, 0.26896552, 0.38965517,\n",
       "        0.46896552, 0.53793103, 0.19310345, 0.32413793, 0.36551724,\n",
       "        0.47586207, 0.54482759, 0.13103448, 0.55517241, 0.57241379,\n",
       "        0.49655172, 0.34827586, 0.14827586, 0.23448276, 0.31724138],\n",
       "       [0.47931034, 0.37586207, 0.26206897, 0.83448276, 0.30344828,\n",
       "        0.36896552, 0.46551724, 0.53793103, 0.34827586, 0.33793103,\n",
       "        0.30344828, 0.35517241, 0.44827586, 0.33793103, 0.45517241,\n",
       "        0.56896552, 0.5862069 , 0.29310345, 0.43103448, 0.42758621,\n",
       "        0.54482759, 0.57241379, 0.23103448, 0.57586207, 0.63448276,\n",
       "        0.58965517, 0.42068966, 0.25517241, 0.33448276, 0.43103448],\n",
       "       [0.13448276, 0.10689655, 0.02758621, 0.37931034, 0.04137931,\n",
       "        0.09655172, 0.17241379, 0.14137931, 0.0862069 , 0.05517241,\n",
       "        0.04137931, 0.1       , 0.14137931, 0.07931034, 0.1137931 ,\n",
       "        0.23448276, 0.19655172, 0.08275862, 0.05517241, 0.10689655,\n",
       "        0.13103448, 0.23103448, 0.0137931 , 0.27586207, 0.16896552,\n",
       "        0.2       , 0.12758621, 0.02758621, 0.08275862, 0.12413793],\n",
       "       [0.49310345, 0.36896552, 0.27586207, 0.83103448, 0.27931034,\n",
       "        0.37931034, 0.42758621, 0.50689655, 0.37931034, 0.35172414,\n",
       "        0.31724138, 0.3862069 , 0.46551724, 0.31724138, 0.44137931,\n",
       "        0.52758621, 0.54827586, 0.30689655, 0.41034483, 0.42068966,\n",
       "        0.55517241, 0.57586207, 0.27586207, 0.49655172, 0.64137931,\n",
       "        0.57241379, 0.3862069 , 0.25172414, 0.32758621, 0.44827586],\n",
       "       [0.44482759, 0.36896552, 0.22413793, 0.88965517, 0.24137931,\n",
       "        0.29310345, 0.45862069, 0.54827586, 0.33793103, 0.35517241,\n",
       "        0.28275862, 0.32758621, 0.46896552, 0.29310345, 0.46896552,\n",
       "        0.57241379, 0.64137931, 0.23103448, 0.41724138, 0.43793103,\n",
       "        0.57241379, 0.63448276, 0.16896552, 0.64137931, 0.65517241,\n",
       "        0.62068966, 0.44482759, 0.18965517, 0.2862069 , 0.39310345],\n",
       "       [0.43103448, 0.35517241, 0.24482759, 0.77931034, 0.24137931,\n",
       "        0.32413793, 0.40344828, 0.48965517, 0.33793103, 0.33448276,\n",
       "        0.26206897, 0.34827586, 0.44827586, 0.32068966, 0.42068966,\n",
       "        0.49310345, 0.55862069, 0.26896552, 0.37931034, 0.3862069 ,\n",
       "        0.49655172, 0.58965517, 0.2       , 0.57241379, 0.62068966,\n",
       "        0.50344828, 0.39655172, 0.2137931 , 0.29655172, 0.3862069 ],\n",
       "       [0.31724138, 0.25172414, 0.14137931, 0.63793103, 0.15517241,\n",
       "        0.22413793, 0.30689655, 0.34482759, 0.23793103, 0.20689655,\n",
       "        0.17931034, 0.23448276, 0.31724138, 0.19655172, 0.28965517,\n",
       "        0.40344828, 0.3862069 , 0.17931034, 0.25517241, 0.25862069,\n",
       "        0.34827586, 0.42068966, 0.12758621, 0.3862069 , 0.44482759,\n",
       "        0.39655172, 0.23448276, 0.12758621, 0.20689655, 0.28275862],\n",
       "       [0.10344828, 0.0862069 , 0.04137931, 0.40689655, 0.03448276,\n",
       "        0.1       , 0.17241379, 0.14482759, 0.1137931 , 0.05517241,\n",
       "        0.04137931, 0.10689655, 0.18965517, 0.10344828, 0.12758621,\n",
       "        0.21724138, 0.21724138, 0.05517241, 0.06896552, 0.11724138,\n",
       "        0.14827586, 0.25517241, 0.02758621, 0.25172414, 0.18965517,\n",
       "        0.2137931 , 0.12758621, 0.0137931 , 0.08275862, 0.10689655],\n",
       "       [0.1862069 , 0.18275862, 0.10689655, 0.49655172, 0.12068966,\n",
       "        0.17586207, 0.26206897, 0.24827586, 0.17241379, 0.11724138,\n",
       "        0.11724138, 0.14137931, 0.25517241, 0.16896552, 0.19655172,\n",
       "        0.32758621, 0.31034483, 0.14482759, 0.16206897, 0.2       ,\n",
       "        0.23448276, 0.33448276, 0.08275862, 0.32758621, 0.2862069 ,\n",
       "        0.29655172, 0.20689655, 0.08275862, 0.16551724, 0.18275862],\n",
       "       [0.21724138, 0.23103448, 0.14137931, 0.58275862, 0.13448276,\n",
       "        0.21034483, 0.31034483, 0.33103448, 0.22758621, 0.16206897,\n",
       "        0.13448276, 0.20689655, 0.31724138, 0.22068966, 0.24827586,\n",
       "        0.37931034, 0.3862069 , 0.17586207, 0.20689655, 0.27586207,\n",
       "        0.31724138, 0.43103448, 0.12413793, 0.44827586, 0.39310345,\n",
       "        0.3862069 , 0.28275862, 0.10689655, 0.18275862, 0.19310345]])"
      ]
     },
     "execution_count": 153,
     "metadata": {},
     "output_type": "execute_result"
    }
   ],
   "source": [
    "vizMat = vizMat / np.max(vizMat)\n",
    "vizMat"
   ]
  },
  {
   "cell_type": "code",
   "execution_count": 154,
   "metadata": {},
   "outputs": [
    {
     "data": {
      "text/plain": [
       "<matplotlib.image.AxesImage at 0x177317610>"
      ]
     },
     "execution_count": 154,
     "metadata": {},
     "output_type": "execute_result"
    },
    {
     "data": {
      "image/png": "[encoded data removed]",
      "text/plain": [
       "<Figure size 288x288 with 1 Axes>"
      ]
     },
     "metadata": {
      "needs_background": "light"
     },
     "output_type": "display_data"
    }
   ],
   "source": [
    "plt.matshow(vizMat)"
   ]
  },
  {
   "cell_type": "code",
   "execution_count": null,
   "metadata": {},
   "outputs": [],
   "source": []
  }
 ],
 "metadata": {
  "kernelspec": {
   "display_name": "Python 3 (ipykernel)",
   "language": "python",
   "name": "python3"
  },
  "language_info": {
   "codemirror_mode": {
    "name": "ipython",
    "version": 3
   },
   "file_extension": ".py",
   "mimetype": "text/x-python",
   "name": "python",
   "nbconvert_exporter": "python",
   "pygments_lexer": "ipython3",
   "version": "3.10.9"
  }
 },
 "nbformat": 4,
 "nbformat_minor": 1
}
