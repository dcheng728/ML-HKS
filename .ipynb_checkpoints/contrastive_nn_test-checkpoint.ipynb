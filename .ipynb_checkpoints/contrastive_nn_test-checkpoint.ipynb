{
 "cells": [
  {
   "cell_type": "code",
   "execution_count": 1,
   "metadata": {},
   "outputs": [],
   "source": [
    "import torch.optim as optim\n",
    "import torch\n",
    "import numpy as np\n",
    "import matplotlib.pyplot as plt\n",
    "%run helpers_preproc.ipynb\n",
    "%run alternate_data.ipynb"
   ]
  },
  {
   "cell_type": "code",
   "execution_count": 2,
   "metadata": {},
   "outputs": [],
   "source": [
    "origDataDir = 'SHREC11/'\n",
    "newDataDir = 'SHREC11_plus/'"
   ]
  },
  {
   "cell_type": "code",
   "execution_count": 3,
   "metadata": {},
   "outputs": [],
   "source": [
    "#generate additional data and update label\n",
    "origLabel = np.array(readLbl(600,origDataDir + 'labels.txt'),dtype = int) #first take in the original labels\n",
    "newLabelFile = open(newDataDir + \"labels.txt\", \"w\") # open file name \"newLabelFile\", \"w\" overwrites entire file "
   ]
  },
  {
   "cell_type": "code",
   "execution_count": 4,
   "metadata": {},
   "outputs": [],
   "source": [
    "radiuss = [0.002,0.004,0.008,0.012]\n",
    "\n",
    "for i in range(600):\n",
    "    #First create the new obj file\n",
    "    origN = origDataDir + 'T' + str(i) + '.obj'\n",
    "    \n",
    "    for j in range(len(radiuss)):\n",
    "        # go through all the elements in list specified above called radiuss \n",
    "        radius = radiuss[j]\n",
    "        \n",
    "        # object files with adjustments \n",
    "        newN = newDataDir + 'T' + str(i+600*(j)) + '.obj'\n",
    "    \n",
    "        newLabelFile.write(\"T\" + str(i) + \".obj\" + \" \" + str(origLabel[i]) + \"\\n\")\n",
    "        if not (write_new_files(origN,newN,radius)):\n",
    "            print('Data generation failed on ' , i)\n",
    "        \n",
    "        newLabelFile.write(\"T\" + str(i + 600*(j)) + \".obj\" + \" \" + str(origLabel[i]) + \"\\n\")\n",
    "\n",
    "    \n",
    "newLabelFile.close()"
   ]
  },
  {
   "cell_type": "code",
   "execution_count": 7,
   "metadata": {},
   "outputs": [],
   "source": [
    "#read in the data, get normalized adjacency (NxN)\n",
    "num_meshes = 600 * 4\n",
    "train_size = 450 * 4\n",
    "test_size = 120 * 4\n",
    "mesh_dir = 'SHREC11_plus/' # why not just use newDataDir? \n",
    "\n",
    "# returns labels as array \n",
    "label_np = np.array(readLbl(num_meshes,mesh_dir+'labels.txt'))"
   ]
  },
  {
   "cell_type": "code",
   "execution_count": 8,
   "metadata": {},
   "outputs": [
    {
     "name": "stderr",
     "output_type": "stream",
     "text": [
      "/var/folders/t4/vdzymfw562g8ml8ks_2b5l5r0000gn/T/ipykernel_4227/3132685263.py:16: RuntimeWarning: invalid value encountered in true_divide\n",
      "  adj_normalized = adj_noscale / np.reshape(np.sum(adj_noscale,axis = 1),[adj_noscale.shape[0],1])\n"
     ]
    }
   ],
   "source": [
    "node_sigs_list = []\n",
    "normed_adjMats_list = []\n",
    "\n",
    "for i in range(num_meshes):\n",
    "    fName = 'T' + str(i) + '.obj' # max T objects taken based on num_meshes\n",
    "    adj_noscale_read = obj_2_adj_noscale(mesh_dir + fName) # throw T obj files into noscale func  \n",
    "    adj_scaled_read = obj_2_adj(mesh_dir + fName) # throw T obj files into scale func \n",
    "\n",
    "    if (adj_scaled_read.shape[0] < 252): #  if no. of arrays are less than 252 \n",
    "        adj_noscale = np.empty([252,252]) #  change array so it is empty \n",
    "        adj_scaled = np.empty([252,252])  #  change array so it is empty\n",
    "    else:\n",
    "        adj_noscale = adj_noscale_read\n",
    "        adj_scaled = adj_scaled_read\n",
    "    \n",
    "    # shape[0] refers to num of arrays, shape[1] refers to num of els in each array \n",
    "    adj_normalized = adj_noscale / np.reshape(np.sum(adj_noscale,axis = 1),[adj_noscale.shape[0],1])\n",
    "\n",
    "    #node level signal extraction\n",
    "    node_degs = np.sum(adj_noscale,axis = 0)\n",
    "    node_neigh_max = np.max(adj_scaled,axis = 0)\n",
    "    node_neigh_min = np.min(adj_scaled,axis = 0)\n",
    "    node_neigh_sum = np.sum(adj_scaled,axis = 0)\n",
    "    node_neigh_mean = np.mean(adj_scaled,axis = 0) # error: changed from sum to mean\n",
    "\n",
    "    node_sig = np.stack([node_degs,node_neigh_max,node_neigh_min,node_neigh_sum,node_neigh_mean],axis = 1)\n",
    "    \n",
    "    node_sigs_list.append(node_sig)\n",
    "    normed_adjMats_list.append(adj_normalized)"
   ]
  },
  {
   "cell_type": "code",
   "execution_count": 9,
   "metadata": {},
   "outputs": [],
   "source": [
    "normed_adjMats = np.nan_to_num(np.stack(normed_adjMats_list)) \n",
    "node_sigs = np.nan_to_num(np.stack(node_sigs_list))"
   ]
  },
  {
   "cell_type": "code",
   "execution_count": 10,
   "metadata": {},
   "outputs": [],
   "source": [
    "normed_adjMats_tr = normed_adjMats[:train_size,:,:]\n",
    "node_sigs_tr = node_sigs[:train_size,:,:]\n",
    "label_np_tr = label_np[:train_size]\n",
    "\n",
    "normed_adjMats_ts = normed_adjMats[train_size:,:,:]\n",
    "node_sigs_ts = node_sigs[train_size:,:,:]\n",
    "label_np_ts = label_np[train_size:]\n",
    "\n",
    "label_mat_tr = torch.tensor(np.where(igl.all_pairs_distances(label_np_tr,label_np_tr,False) > 0.5,0,1)).float()\n",
    "label_mat_ts = torch.tensor(np.where(igl.all_pairs_distances(label_np_ts,label_np_ts,False) > 0.5,0,1)).float()"
   ]
  },
  {
   "cell_type": "code",
   "execution_count": 11,
   "metadata": {},
   "outputs": [],
   "source": [
    "normed_adjMats_tr = torch.tensor(normed_adjMats_tr).float()\n",
    "node_sigs_tr = torch.tensor(node_sigs_tr).float()\n",
    "label_np_tr = torch.tensor(label_np_tr).float()\n",
    "\n",
    "normed_adjMats_ts = torch.tensor(normed_adjMats_ts).float()\n",
    "node_sigs_ts = torch.tensor(node_sigs_ts).float()\n",
    "label_np_ts = torch.tensor(label_np_ts).float()"
   ]
  },
  {
   "cell_type": "code",
   "execution_count": 12,
   "metadata": {},
   "outputs": [],
   "source": [
    "#label_mat_train = form_label_matrix(label_mat, train_dict)"
   ]
  },
  {
   "cell_type": "code",
   "execution_count": 13,
   "metadata": {},
   "outputs": [],
   "source": [
    "#normed_adjMats_list_train, node_sigs_list_train = prep_data(train_dict)"
   ]
  },
  {
   "cell_type": "code",
   "execution_count": 14,
   "metadata": {},
   "outputs": [],
   "source": [
    "#normed_adjMats_train = np.stack(normed_adjMats_list_train)\n",
    "#node_sigs_train = np.stack(node_sigs_list_train)\n",
    "\n",
    "#normed_adjMats_train = torch.tensor(normed_adjMats_train,requires_grad=False).float()\n",
    "#node_sigs_train = torch.tensor(node_sigs_train,requires_grad=False).float()\n",
    "\n",
    "#normed_adjMats_train = torch.nan_to_num(normed_adjMats_train,0,0,0)\n",
    "#node_sigs_train = torch.nan_to_num(node_sigs_train,0,0,0)"
   ]
  },
  {
   "cell_type": "code",
   "execution_count": 15,
   "metadata": {},
   "outputs": [
    {
     "data": {
      "text/plain": [
       "torch.Size([1800, 252, 5])"
      ]
     },
     "execution_count": 15,
     "metadata": {},
     "output_type": "execute_result"
    }
   ],
   "source": [
    "node_sigs_tr.shape"
   ]
  },
  {
   "cell_type": "code",
   "execution_count": 16,
   "metadata": {},
   "outputs": [
    {
     "name": "stdout",
     "output_type": "stream",
     "text": [
      "torch.Size([1800, 252, 20])\n",
      "torch.Size([1800, 10])\n"
     ]
    }
   ],
   "source": [
    "%run NNs.ipynb\n",
    "g = GCN(5,[20,20,20,20])\n",
    "n = MLP(252*20,[10,10,10,10])\n",
    "output1 = g.forward(normed_adjMats_tr,node_sigs_tr)\n",
    "output2 = n.forward(output1)\n",
    "print(output1.shape)\n",
    "print(output2.shape)"
   ]
  },
  {
   "cell_type": "code",
   "execution_count": 17,
   "metadata": {},
   "outputs": [],
   "source": [
    "# don't do anything if this function is called \n",
    "def useless():\n",
    "    pass\n",
    "\n",
    "# loss function \n",
    "def lossF(features,lbl_mat):\n",
    "    disMat = torch.cdist(features,features)\n",
    "    sameType = disMat * (lbl_mat-torch.diag(torch.ones(lbl_mat.shape[0])))\n",
    "    diffType = disMat * (1-lbl_mat)\n",
    "\n",
    "    diffTypeScaled = diffType * torch.exp(-diffType)\n",
    "    diffTypeScaledMean = torch.sum(diffTypeScaled)/ torch.count_nonzero(diffTypeScaled)\n",
    "    diffTypeMean = torch.sum(diffType)/ torch.count_nonzero(diffType)\n",
    "\n",
    "    sameTypeMean = torch.sum(sameType) / torch.count_nonzero(sameType)\n",
    "    sameTypeStd = torch.sum((sameType - sameTypeMean)**2) / torch.count_nonzero(sameType)\n",
    "\n",
    "    toRet = sameTypeMean-diffTypeScaledMean + 0.01 * torch.sqrt(sameTypeStd)\n",
    "    \n",
    "    print(sameTypeMean.detach().numpy(),diffTypeMean.detach().numpy(),torch.sqrt(sameTypeStd).detach().numpy(), toRet.detach().numpy())\n",
    "    return  toRet"
   ]
  },
  {
   "cell_type": "code",
   "execution_count": 18,
   "metadata": {},
   "outputs": [
    {
     "name": "stdout",
     "output_type": "stream",
     "text": [
      "0.5060537 0.51231503 2.7734113 0.2743242\n",
      "0.49390694 0.49927476 2.7062616 0.26357597\n",
      "0.48858204 0.4919886 2.6775405 0.26069373\n",
      "0.468777 0.47283566 2.568787 0.24305621\n",
      "0.41767362 0.42533445 2.2904081 0.20257884\n",
      "0.36978486 0.37689862 2.029387 0.16680342\n",
      "0.3191985 0.32420796 1.7533395 0.13186844\n",
      "0.3020293 0.3055614 1.6615772 0.1207447\n",
      "0.28734115 0.2886698 1.5822077 0.11198937\n",
      "0.28304473 0.28300336 1.5613029 0.110470004\n",
      "0.28201237 0.28049335 1.5611203 0.110498086\n",
      "0.27580333 0.2730518 1.5384787 0.107597165\n",
      "0.27742776 0.27545625 1.5533315 0.1079859\n",
      "0.2890452 0.28631863 1.6209501 0.11533186\n",
      "0.2808299 0.27818945 1.5806766 0.10851152\n",
      "0.28344148 0.28087536 1.5899993 0.111517765\n",
      "0.26970544 0.26806253 1.506444 0.10275694\n"
     ]
    },
    {
     "ename": "KeyboardInterrupt",
     "evalue": "",
     "output_type": "error",
     "traceback": [
      "\u001b[0;31m---------------------------------------------------------------------------\u001b[0m",
      "\u001b[0;31mKeyboardInterrupt\u001b[0m                         Traceback (most recent call last)",
      "\u001b[0;32m/var/folders/t4/vdzymfw562g8ml8ks_2b5l5r0000gn/T/ipykernel_4227/2036407944.py\u001b[0m in \u001b[0;36m<module>\u001b[0;34m\u001b[0m\n\u001b[1;32m      4\u001b[0m     \u001b[0moutput\u001b[0m \u001b[0;34m=\u001b[0m \u001b[0mn\u001b[0m\u001b[0;34m.\u001b[0m\u001b[0mforward\u001b[0m\u001b[0;34m(\u001b[0m\u001b[0mg\u001b[0m\u001b[0;34m.\u001b[0m\u001b[0mforward\u001b[0m\u001b[0;34m(\u001b[0m\u001b[0mnormed_adjMats_tr\u001b[0m\u001b[0;34m,\u001b[0m\u001b[0mnode_sigs_tr\u001b[0m\u001b[0;34m)\u001b[0m\u001b[0;34m)\u001b[0m\u001b[0;34m\u001b[0m\u001b[0;34m\u001b[0m\u001b[0m\n\u001b[1;32m      5\u001b[0m     \u001b[0mloss\u001b[0m \u001b[0;34m=\u001b[0m \u001b[0mlossF\u001b[0m\u001b[0;34m(\u001b[0m\u001b[0moutput\u001b[0m\u001b[0;34m,\u001b[0m\u001b[0mlabel_mat_tr\u001b[0m\u001b[0;34m)\u001b[0m\u001b[0;34m\u001b[0m\u001b[0;34m\u001b[0m\u001b[0m\n\u001b[0;32m----> 6\u001b[0;31m     \u001b[0mloss\u001b[0m\u001b[0;34m.\u001b[0m\u001b[0mbackward\u001b[0m\u001b[0;34m(\u001b[0m\u001b[0;34m)\u001b[0m\u001b[0;34m\u001b[0m\u001b[0;34m\u001b[0m\u001b[0m\n\u001b[0m\u001b[1;32m      7\u001b[0m     \u001b[0moptimizer\u001b[0m\u001b[0;34m.\u001b[0m\u001b[0mstep\u001b[0m\u001b[0;34m(\u001b[0m\u001b[0;34m)\u001b[0m\u001b[0;34m\u001b[0m\u001b[0;34m\u001b[0m\u001b[0m\n",
      "\u001b[0;32m~/.conda/envs/TSP/lib/python3.10/site-packages/torch/_tensor.py\u001b[0m in \u001b[0;36mbackward\u001b[0;34m(self, gradient, retain_graph, create_graph, inputs)\u001b[0m\n\u001b[1;32m    486\u001b[0m                 \u001b[0minputs\u001b[0m\u001b[0;34m=\u001b[0m\u001b[0minputs\u001b[0m\u001b[0;34m,\u001b[0m\u001b[0;34m\u001b[0m\u001b[0;34m\u001b[0m\u001b[0m\n\u001b[1;32m    487\u001b[0m             )\n\u001b[0;32m--> 488\u001b[0;31m         torch.autograd.backward(\n\u001b[0m\u001b[1;32m    489\u001b[0m             \u001b[0mself\u001b[0m\u001b[0;34m,\u001b[0m \u001b[0mgradient\u001b[0m\u001b[0;34m,\u001b[0m \u001b[0mretain_graph\u001b[0m\u001b[0;34m,\u001b[0m \u001b[0mcreate_graph\u001b[0m\u001b[0;34m,\u001b[0m \u001b[0minputs\u001b[0m\u001b[0;34m=\u001b[0m\u001b[0minputs\u001b[0m\u001b[0;34m\u001b[0m\u001b[0;34m\u001b[0m\u001b[0m\n\u001b[1;32m    490\u001b[0m         )\n",
      "\u001b[0;32m~/.conda/envs/TSP/lib/python3.10/site-packages/torch/autograd/__init__.py\u001b[0m in \u001b[0;36mbackward\u001b[0;34m(tensors, grad_tensors, retain_graph, create_graph, grad_variables, inputs)\u001b[0m\n\u001b[1;32m    195\u001b[0m     \u001b[0;31m# some Python versions print out the first line of a multi-line function\u001b[0m\u001b[0;34m\u001b[0m\u001b[0;34m\u001b[0m\u001b[0m\n\u001b[1;32m    196\u001b[0m     \u001b[0;31m# calls in the traceback and some print out the last line\u001b[0m\u001b[0;34m\u001b[0m\u001b[0;34m\u001b[0m\u001b[0m\n\u001b[0;32m--> 197\u001b[0;31m     Variable._execution_engine.run_backward(  # Calls into the C++ engine to run the backward pass\n\u001b[0m\u001b[1;32m    198\u001b[0m         \u001b[0mtensors\u001b[0m\u001b[0;34m,\u001b[0m \u001b[0mgrad_tensors_\u001b[0m\u001b[0;34m,\u001b[0m \u001b[0mretain_graph\u001b[0m\u001b[0;34m,\u001b[0m \u001b[0mcreate_graph\u001b[0m\u001b[0;34m,\u001b[0m \u001b[0minputs\u001b[0m\u001b[0;34m,\u001b[0m\u001b[0;34m\u001b[0m\u001b[0;34m\u001b[0m\u001b[0m\n\u001b[1;32m    199\u001b[0m         allow_unreachable=True, accumulate_grad=True)  # Calls into the C++ engine to run the backward pass\n",
      "\u001b[0;31mKeyboardInterrupt\u001b[0m: "
     ]
    }
   ],
   "source": [
    "optimizer = optim.Adam(g.weights + n.weights,lr = 0.0001)\n",
    "for i in range(100000):\n",
    "    optimizer.zero_grad()\n",
    "    output = n.forward(g.forward(normed_adjMats_tr,node_sigs_tr))\n",
    "    loss = lossF(output,label_mat_tr)\n",
    "    loss.backward()\n",
    "    optimizer.step()"
   ]
  },
  {
   "cell_type": "code",
   "execution_count": 125,
   "metadata": {},
   "outputs": [
    {
     "data": {
      "text/plain": [
       "torch.Size([900, 10])"
      ]
     },
     "execution_count": 125,
     "metadata": {},
     "output_type": "execute_result"
    }
   ],
   "source": [
    "output = n.forward(g.forward(normed_adjMats_tr,node_sigs_tr))\n",
    "output.shape"
   ]
  },
  {
   "cell_type": "code",
   "execution_count": 126,
   "metadata": {},
   "outputs": [
    {
     "name": "stderr",
     "output_type": "stream",
     "text": [
      "/var/folders/t4/vdzymfw562g8ml8ks_2b5l5r0000gn/T/ipykernel_3915/1331210453.py:2: UserWarning: To copy construct from a tensor, it is recommended to use sourceTensor.clone().detach() or sourceTensor.clone().detach().requires_grad_(True), rather than torch.tensor(sourceTensor).\n",
      "  mask_same = torch.tensor(label_mat_tr - torch.diag(torch.ones(train_size)),dtype=bool).flatten()\n",
      "/var/folders/t4/vdzymfw562g8ml8ks_2b5l5r0000gn/T/ipykernel_3915/1331210453.py:3: UserWarning: To copy construct from a tensor, it is recommended to use sourceTensor.clone().detach() or sourceTensor.clone().detach().requires_grad_(True), rather than torch.tensor(sourceTensor).\n",
      "  mask_diff = torch.tensor(1 - label_mat_tr,dtype=bool).flatten()\n"
     ]
    }
   ],
   "source": [
    "disMat = torch.cdist(output,output).flatten()\n",
    "mask_same = torch.tensor(label_mat_tr - torch.diag(torch.ones(train_size)),dtype=bool).flatten()\n",
    "mask_diff = torch.tensor(1 - label_mat_tr,dtype=bool).flatten()\n",
    "sameComp = disMat[mask_same].detach().numpy()\n",
    "diffComp = disMat[mask_diff].detach().numpy()\n",
    "weightsSame = np.ones_like(sameComp) / len(sameComp)\n",
    "weightsDiff = np.ones_like(diffComp) / len(diffComp)"
   ]
  },
  {
   "cell_type": "code",
   "execution_count": 127,
   "metadata": {},
   "outputs": [
    {
     "name": "stdout",
     "output_type": "stream",
     "text": [
      "0.06100611 0.17052579\n"
     ]
    },
    {
     "data": {
      "text/plain": [
       "Text(0.5, 1.0, 'Diff Comp')"
      ]
     },
     "execution_count": 127,
     "metadata": {},
     "output_type": "execute_result"
    },
    {
     "data": {
      "image/png": "[encoded data removed]",
      "text/plain": [
       "<Figure size 432x288 with 2 Axes>"
      ]
     },
     "metadata": {
      "needs_background": "light"
     },
     "output_type": "display_data"
    }
   ],
   "source": [
    "print(np.mean(sameComp),np.mean(diffComp))\n",
    "f, (ax1, ax2) = plt.subplots(1, 2, sharey=True)\n",
    "ax1.hist(sameComp,bins=np.arange(0,np.max(sameComp),0.01),weights=weightsSame,log = False)\n",
    "ax1.set_title('Same Comp')\n",
    "ax2.hist(diffComp,bins=np.arange(0,np.max(diffComp),0.01),weights=weightsDiff,log = False)\n",
    "ax2.set_title('Diff Comp')"
   ]
  },
  {
   "cell_type": "code",
   "execution_count": 128,
   "metadata": {},
   "outputs": [
    {
     "data": {
      "text/plain": [
       "torch.Size([300, 10])"
      ]
     },
     "execution_count": 128,
     "metadata": {},
     "output_type": "execute_result"
    }
   ],
   "source": [
    "output = n.forward(g.forward(normed_adjMats_ts,node_sigs_ts))\n",
    "output.shape"
   ]
  },
  {
   "cell_type": "code",
   "execution_count": 129,
   "metadata": {},
   "outputs": [
    {
     "name": "stderr",
     "output_type": "stream",
     "text": [
      "/var/folders/t4/vdzymfw562g8ml8ks_2b5l5r0000gn/T/ipykernel_3915/923068292.py:2: UserWarning: To copy construct from a tensor, it is recommended to use sourceTensor.clone().detach() or sourceTensor.clone().detach().requires_grad_(True), rather than torch.tensor(sourceTensor).\n",
      "  mask_same = torch.tensor(label_mat_ts - torch.diag(torch.ones(test_size)),dtype=bool).flatten()\n",
      "/var/folders/t4/vdzymfw562g8ml8ks_2b5l5r0000gn/T/ipykernel_3915/923068292.py:3: UserWarning: To copy construct from a tensor, it is recommended to use sourceTensor.clone().detach() or sourceTensor.clone().detach().requires_grad_(True), rather than torch.tensor(sourceTensor).\n",
      "  mask_diff = torch.tensor(1 - label_mat_ts,dtype=bool).flatten()\n"
     ]
    }
   ],
   "source": [
    "disMat = torch.cdist(output,output).flatten()\n",
    "mask_same = torch.tensor(label_mat_ts - torch.diag(torch.ones(test_size)),dtype=bool).flatten()\n",
    "mask_diff = torch.tensor(1 - label_mat_ts,dtype=bool).flatten()\n",
    "sameComp = disMat[mask_same].detach().numpy()\n",
    "diffComp = disMat[mask_diff].detach().numpy()\n",
    "weightsSame = np.ones_like(sameComp) / len(sameComp)\n",
    "weightsDiff = np.ones_like(diffComp) / len(diffComp)"
   ]
  },
  {
   "cell_type": "code",
   "execution_count": 130,
   "metadata": {},
   "outputs": [
    {
     "name": "stdout",
     "output_type": "stream",
     "text": [
      "0.06573307 0.1650051\n"
     ]
    },
    {
     "data": {
      "text/plain": [
       "Text(0.5, 1.0, 'Diff Comp')"
      ]
     },
     "execution_count": 130,
     "metadata": {},
     "output_type": "execute_result"
    },
    {
     "data": {
      "image/png": "[encoded data removed]",
      "text/plain": [
       "<Figure size 432x288 with 2 Axes>"
      ]
     },
     "metadata": {
      "needs_background": "light"
     },
     "output_type": "display_data"
    }
   ],
   "source": [
    "print(np.mean(sameComp),np.mean(diffComp))\n",
    "f, (ax1, ax2) = plt.subplots(1, 2, sharey=True)\n",
    "ax1.hist(sameComp,bins=np.arange(0,np.max(sameComp),0.01),weights=weightsSame,log = False)\n",
    "ax1.set_title('Same Comp')\n",
    "ax2.hist(diffComp,bins=np.arange(0,np.max(diffComp),0.01),weights=weightsDiff,log = False)\n",
    "ax2.set_title('Diff Comp')"
   ]
  },
  {
   "cell_type": "code",
   "execution_count": 131,
   "metadata": {},
   "outputs": [],
   "source": [
    "#from matplotlib.pyplot import figure\n",
    "#figure(figsize=(10, 8), dpi=80)\n"
   ]
  },
  {
   "cell_type": "code",
   "execution_count": 132,
   "metadata": {},
   "outputs": [],
   "source": [
    "BigDiffIndices = np.where(disMat.detach().numpy().flatten() > 0.4)[0].tolist()"
   ]
  },
  {
   "cell_type": "code",
   "execution_count": 133,
   "metadata": {},
   "outputs": [
    {
     "data": {
      "text/plain": [
       "22968"
      ]
     },
     "execution_count": 133,
     "metadata": {},
     "output_type": "execute_result"
    }
   ],
   "source": [
    "len(BigDiffIndices)"
   ]
  },
  {
   "cell_type": "code",
   "execution_count": 134,
   "metadata": {},
   "outputs": [],
   "source": [
    "vizMat = np.zeros([30,30])"
   ]
  },
  {
   "cell_type": "code",
   "execution_count": 135,
   "metadata": {},
   "outputs": [
    {
     "name": "stdout",
     "output_type": "stream",
     "text": [
      "18 18\n",
      "13 13\n",
      "2 2\n",
      "15 15\n",
      "15 15\n",
      "28 28\n",
      "28 28\n",
      "28 28\n",
      "13 13\n",
      "18 18\n",
      "28 28\n",
      "28 28\n",
      "28 28\n",
      "28 28\n",
      "28 28\n",
      "28 28\n",
      "2 2\n",
      "2 2\n",
      "18 18\n",
      "1 1\n",
      "1 1\n",
      "13 13\n",
      "1 1\n",
      "13 13\n",
      "28 28\n",
      "28 28\n",
      "28 28\n",
      "28 28\n",
      "28 28\n",
      "28 28\n",
      "2 2\n",
      "18 18\n",
      "18 18\n",
      "1 1\n",
      "1 1\n",
      "1 1\n",
      "1 1\n",
      "1 1\n",
      "1 1\n",
      "1 1\n",
      "2 2\n",
      "15 15\n",
      "15 15\n",
      "28 28\n",
      "28 28\n",
      "28 28\n",
      "2 2\n",
      "13 13\n",
      "13 13\n",
      "13 13\n",
      "13 13\n",
      "13 13\n",
      "13 13\n",
      "13 13\n",
      "2 2\n",
      "2 2\n",
      "2 2\n",
      "2 2\n",
      "2 2\n",
      "2 2\n",
      "2 2\n",
      "2 2\n",
      "2 2\n",
      "18 18\n",
      "2 2\n",
      "18 18\n",
      "2 2\n",
      "18 18\n",
      "28 28\n",
      "28 28\n",
      "28 28\n",
      "28 28\n",
      "28 28\n",
      "28 28\n",
      "28 28\n",
      "28 28\n",
      "28 28\n",
      "2 2\n",
      "13 13\n",
      "18 18\n",
      "15 15\n",
      "15 15\n",
      "18 18\n",
      "15 15\n",
      "15 15\n",
      "1 1\n",
      "28 28\n",
      "28 28\n",
      "28 28\n",
      "1 1\n",
      "18 18\n",
      "28 28\n",
      "28 28\n",
      "28 28\n",
      "28 28\n",
      "28 28\n",
      "28 28\n",
      "1 1\n",
      "18 18\n",
      "18 18\n",
      "18 18\n",
      "18 18\n",
      "18 18\n",
      "18 18\n",
      "18 18\n",
      "18 18\n",
      "18 18\n",
      "18 18\n",
      "18 18\n",
      "1 1\n"
     ]
    }
   ],
   "source": [
    "for index in BigDiffIndices:\n",
    "    row, col = divmod(index,300)\n",
    "    cat1, cat2 = int(label_np_ts[row]),int(label_np_ts[col])\n",
    "    if cat1 == cat2:\n",
    "        print(cat1, cat2)\n",
    "    vizMat[cat1,cat2] += 1\n",
    "    vizMat[cat2,cat1] += 1\n"
   ]
  },
  {
   "cell_type": "code",
   "execution_count": 136,
   "metadata": {},
   "outputs": [
    {
     "data": {
      "text/plain": [
       "array([[0.        , 0.40909091, 0.05844156, 0.40909091, 0.7012987 ,\n",
       "        0.46753247, 0.81818182, 0.46753247, 0.7012987 , 0.58441558,\n",
       "        0.64285714, 0.52597403, 0.        , 0.35064935, 0.        ,\n",
       "        0.11688312, 0.35064935, 0.64285714, 0.05844156, 0.        ,\n",
       "        0.29220779, 0.52597403, 0.81818182, 0.29220779, 0.29220779,\n",
       "        0.40909091, 0.46753247, 0.52597403, 0.17532468, 0.46753247],\n",
       "       [0.40909091, 0.09090909, 0.41558442, 0.04545455, 0.07792208,\n",
       "        0.05194805, 0.09090909, 0.05194805, 0.07792208, 0.06493506,\n",
       "        0.07142857, 0.05844156, 0.36363636, 0.08441558, 0.22727273,\n",
       "        0.1038961 , 0.03896104, 0.07142857, 0.50649351, 0.27272727,\n",
       "        0.03246753, 0.05844156, 0.09090909, 0.03246753, 0.03246753,\n",
       "        0.04545455, 0.05194805, 0.05844156, 0.29220779, 0.05194805],\n",
       "       [0.05844156, 0.41558442, 0.11688312, 0.40909091, 0.7012987 ,\n",
       "        0.46753247, 0.81818182, 0.46753247, 0.7012987 , 0.58441558,\n",
       "        0.64285714, 0.52597403, 0.05194805, 0.35714286, 0.03246753,\n",
       "        0.12987013, 0.35064935, 0.64285714, 0.12987013, 0.03896104,\n",
       "        0.29220779, 0.52597403, 0.81818182, 0.29220779, 0.29220779,\n",
       "        0.40909091, 0.46753247, 0.52597403, 0.21428571, 0.46753247],\n",
       "       [0.40909091, 0.04545455, 0.40909091, 0.        , 0.        ,\n",
       "        0.        , 0.        , 0.        , 0.        , 0.        ,\n",
       "        0.        , 0.        , 0.36363636, 0.04545455, 0.22727273,\n",
       "        0.09090909, 0.        , 0.        , 0.5       , 0.27272727,\n",
       "        0.        , 0.        , 0.        , 0.        , 0.        ,\n",
       "        0.        , 0.        , 0.        , 0.27272727, 0.        ],\n",
       "       [0.7012987 , 0.07792208, 0.7012987 , 0.        , 0.        ,\n",
       "        0.        , 0.        , 0.        , 0.        , 0.        ,\n",
       "        0.        , 0.        , 0.62337662, 0.07792208, 0.38961039,\n",
       "        0.15584416, 0.        , 0.        , 0.85714286, 0.46753247,\n",
       "        0.        , 0.        , 0.        , 0.        , 0.        ,\n",
       "        0.        , 0.        , 0.        , 0.46753247, 0.        ],\n",
       "       [0.46753247, 0.05194805, 0.46753247, 0.        , 0.        ,\n",
       "        0.        , 0.        , 0.        , 0.        , 0.        ,\n",
       "        0.        , 0.        , 0.41558442, 0.05194805, 0.25974026,\n",
       "        0.1038961 , 0.        , 0.        , 0.57142857, 0.31168831,\n",
       "        0.        , 0.        , 0.        , 0.        , 0.        ,\n",
       "        0.        , 0.        , 0.        , 0.31168831, 0.        ],\n",
       "       [0.81818182, 0.09090909, 0.81818182, 0.        , 0.        ,\n",
       "        0.        , 0.        , 0.        , 0.        , 0.        ,\n",
       "        0.        , 0.        , 0.72727273, 0.09090909, 0.45454545,\n",
       "        0.18181818, 0.        , 0.        , 1.        , 0.54545455,\n",
       "        0.        , 0.        , 0.        , 0.        , 0.        ,\n",
       "        0.        , 0.        , 0.        , 0.54545455, 0.        ],\n",
       "       [0.46753247, 0.05194805, 0.46753247, 0.        , 0.        ,\n",
       "        0.        , 0.        , 0.        , 0.        , 0.        ,\n",
       "        0.        , 0.        , 0.41558442, 0.05194805, 0.25974026,\n",
       "        0.1038961 , 0.        , 0.        , 0.57142857, 0.31168831,\n",
       "        0.        , 0.        , 0.        , 0.        , 0.        ,\n",
       "        0.        , 0.        , 0.        , 0.31168831, 0.        ],\n",
       "       [0.7012987 , 0.07792208, 0.7012987 , 0.        , 0.        ,\n",
       "        0.        , 0.        , 0.        , 0.        , 0.        ,\n",
       "        0.        , 0.        , 0.62337662, 0.07792208, 0.38961039,\n",
       "        0.15584416, 0.        , 0.        , 0.85714286, 0.46753247,\n",
       "        0.        , 0.        , 0.        , 0.        , 0.        ,\n",
       "        0.        , 0.        , 0.        , 0.46753247, 0.        ],\n",
       "       [0.58441558, 0.06493506, 0.58441558, 0.        , 0.        ,\n",
       "        0.        , 0.        , 0.        , 0.        , 0.        ,\n",
       "        0.        , 0.        , 0.51948052, 0.06493506, 0.32467532,\n",
       "        0.12987013, 0.        , 0.        , 0.71428571, 0.38961039,\n",
       "        0.        , 0.        , 0.        , 0.        , 0.        ,\n",
       "        0.        , 0.        , 0.        , 0.38961039, 0.        ],\n",
       "       [0.64285714, 0.07142857, 0.64285714, 0.        , 0.        ,\n",
       "        0.        , 0.        , 0.        , 0.        , 0.        ,\n",
       "        0.        , 0.        , 0.57142857, 0.07142857, 0.35714286,\n",
       "        0.14285714, 0.        , 0.        , 0.78571429, 0.42857143,\n",
       "        0.        , 0.        , 0.        , 0.        , 0.        ,\n",
       "        0.        , 0.        , 0.        , 0.42857143, 0.        ],\n",
       "       [0.52597403, 0.05844156, 0.52597403, 0.        , 0.        ,\n",
       "        0.        , 0.        , 0.        , 0.        , 0.        ,\n",
       "        0.        , 0.        , 0.46753247, 0.05844156, 0.29220779,\n",
       "        0.11688312, 0.        , 0.        , 0.64285714, 0.35064935,\n",
       "        0.        , 0.        , 0.        , 0.        , 0.        ,\n",
       "        0.        , 0.        , 0.        , 0.35064935, 0.        ],\n",
       "       [0.        , 0.36363636, 0.05194805, 0.36363636, 0.62337662,\n",
       "        0.41558442, 0.72727273, 0.41558442, 0.62337662, 0.51948052,\n",
       "        0.57142857, 0.46753247, 0.        , 0.31168831, 0.        ,\n",
       "        0.1038961 , 0.31168831, 0.57142857, 0.05194805, 0.        ,\n",
       "        0.25974026, 0.46753247, 0.72727273, 0.25974026, 0.25974026,\n",
       "        0.36363636, 0.41558442, 0.46753247, 0.15584416, 0.41558442],\n",
       "       [0.35064935, 0.08441558, 0.35714286, 0.04545455, 0.07792208,\n",
       "        0.05194805, 0.09090909, 0.05194805, 0.07792208, 0.06493506,\n",
       "        0.07142857, 0.05844156, 0.31168831, 0.07792208, 0.19480519,\n",
       "        0.09090909, 0.03896104, 0.07142857, 0.43506494, 0.23376623,\n",
       "        0.03246753, 0.05844156, 0.09090909, 0.03246753, 0.03246753,\n",
       "        0.04545455, 0.05194805, 0.05844156, 0.25324675, 0.05194805],\n",
       "       [0.        , 0.22727273, 0.03246753, 0.22727273, 0.38961039,\n",
       "        0.25974026, 0.45454545, 0.25974026, 0.38961039, 0.32467532,\n",
       "        0.35714286, 0.29220779, 0.        , 0.19480519, 0.        ,\n",
       "        0.06493506, 0.19480519, 0.35714286, 0.03246753, 0.        ,\n",
       "        0.16233766, 0.29220779, 0.45454545, 0.16233766, 0.16233766,\n",
       "        0.22727273, 0.25974026, 0.29220779, 0.0974026 , 0.25974026],\n",
       "       [0.11688312, 0.1038961 , 0.12987013, 0.09090909, 0.15584416,\n",
       "        0.1038961 , 0.18181818, 0.1038961 , 0.15584416, 0.12987013,\n",
       "        0.14285714, 0.11688312, 0.1038961 , 0.09090909, 0.06493506,\n",
       "        0.05194805, 0.07792208, 0.14285714, 0.15584416, 0.07792208,\n",
       "        0.06493506, 0.11688312, 0.18181818, 0.06493506, 0.06493506,\n",
       "        0.09090909, 0.1038961 , 0.11688312, 0.11688312, 0.1038961 ],\n",
       "       [0.35064935, 0.03896104, 0.35064935, 0.        , 0.        ,\n",
       "        0.        , 0.        , 0.        , 0.        , 0.        ,\n",
       "        0.        , 0.        , 0.31168831, 0.03896104, 0.19480519,\n",
       "        0.07792208, 0.        , 0.        , 0.42857143, 0.23376623,\n",
       "        0.        , 0.        , 0.        , 0.        , 0.        ,\n",
       "        0.        , 0.        , 0.        , 0.23376623, 0.        ],\n",
       "       [0.64285714, 0.07142857, 0.64285714, 0.        , 0.        ,\n",
       "        0.        , 0.        , 0.        , 0.        , 0.        ,\n",
       "        0.        , 0.        , 0.57142857, 0.07142857, 0.35714286,\n",
       "        0.14285714, 0.        , 0.        , 0.78571429, 0.42857143,\n",
       "        0.        , 0.        , 0.        , 0.        , 0.        ,\n",
       "        0.        , 0.        , 0.        , 0.42857143, 0.        ],\n",
       "       [0.05844156, 0.50649351, 0.12987013, 0.5       , 0.85714286,\n",
       "        0.57142857, 1.        , 0.57142857, 0.85714286, 0.71428571,\n",
       "        0.78571429, 0.64285714, 0.05194805, 0.43506494, 0.03246753,\n",
       "        0.15584416, 0.42857143, 0.78571429, 0.14285714, 0.03896104,\n",
       "        0.35714286, 0.64285714, 1.        , 0.35714286, 0.35714286,\n",
       "        0.5       , 0.57142857, 0.64285714, 0.25324675, 0.57142857],\n",
       "       [0.        , 0.27272727, 0.03896104, 0.27272727, 0.46753247,\n",
       "        0.31168831, 0.54545455, 0.31168831, 0.46753247, 0.38961039,\n",
       "        0.42857143, 0.35064935, 0.        , 0.23376623, 0.        ,\n",
       "        0.07792208, 0.23376623, 0.42857143, 0.03896104, 0.        ,\n",
       "        0.19480519, 0.35064935, 0.54545455, 0.19480519, 0.19480519,\n",
       "        0.27272727, 0.31168831, 0.35064935, 0.11688312, 0.31168831],\n",
       "       [0.29220779, 0.03246753, 0.29220779, 0.        , 0.        ,\n",
       "        0.        , 0.        , 0.        , 0.        , 0.        ,\n",
       "        0.        , 0.        , 0.25974026, 0.03246753, 0.16233766,\n",
       "        0.06493506, 0.        , 0.        , 0.35714286, 0.19480519,\n",
       "        0.        , 0.        , 0.        , 0.        , 0.        ,\n",
       "        0.        , 0.        , 0.        , 0.19480519, 0.        ],\n",
       "       [0.52597403, 0.05844156, 0.52597403, 0.        , 0.        ,\n",
       "        0.        , 0.        , 0.        , 0.        , 0.        ,\n",
       "        0.        , 0.        , 0.46753247, 0.05844156, 0.29220779,\n",
       "        0.11688312, 0.        , 0.        , 0.64285714, 0.35064935,\n",
       "        0.        , 0.        , 0.        , 0.        , 0.        ,\n",
       "        0.        , 0.        , 0.        , 0.35064935, 0.        ],\n",
       "       [0.81818182, 0.09090909, 0.81818182, 0.        , 0.        ,\n",
       "        0.        , 0.        , 0.        , 0.        , 0.        ,\n",
       "        0.        , 0.        , 0.72727273, 0.09090909, 0.45454545,\n",
       "        0.18181818, 0.        , 0.        , 1.        , 0.54545455,\n",
       "        0.        , 0.        , 0.        , 0.        , 0.        ,\n",
       "        0.        , 0.        , 0.        , 0.54545455, 0.        ],\n",
       "       [0.29220779, 0.03246753, 0.29220779, 0.        , 0.        ,\n",
       "        0.        , 0.        , 0.        , 0.        , 0.        ,\n",
       "        0.        , 0.        , 0.25974026, 0.03246753, 0.16233766,\n",
       "        0.06493506, 0.        , 0.        , 0.35714286, 0.19480519,\n",
       "        0.        , 0.        , 0.        , 0.        , 0.        ,\n",
       "        0.        , 0.        , 0.        , 0.19480519, 0.        ],\n",
       "       [0.29220779, 0.03246753, 0.29220779, 0.        , 0.        ,\n",
       "        0.        , 0.        , 0.        , 0.        , 0.        ,\n",
       "        0.        , 0.        , 0.25974026, 0.03246753, 0.16233766,\n",
       "        0.06493506, 0.        , 0.        , 0.35714286, 0.19480519,\n",
       "        0.        , 0.        , 0.        , 0.        , 0.        ,\n",
       "        0.        , 0.        , 0.        , 0.19480519, 0.        ],\n",
       "       [0.40909091, 0.04545455, 0.40909091, 0.        , 0.        ,\n",
       "        0.        , 0.        , 0.        , 0.        , 0.        ,\n",
       "        0.        , 0.        , 0.36363636, 0.04545455, 0.22727273,\n",
       "        0.09090909, 0.        , 0.        , 0.5       , 0.27272727,\n",
       "        0.        , 0.        , 0.        , 0.        , 0.        ,\n",
       "        0.        , 0.        , 0.        , 0.27272727, 0.        ],\n",
       "       [0.46753247, 0.05194805, 0.46753247, 0.        , 0.        ,\n",
       "        0.        , 0.        , 0.        , 0.        , 0.        ,\n",
       "        0.        , 0.        , 0.41558442, 0.05194805, 0.25974026,\n",
       "        0.1038961 , 0.        , 0.        , 0.57142857, 0.31168831,\n",
       "        0.        , 0.        , 0.        , 0.        , 0.        ,\n",
       "        0.        , 0.        , 0.        , 0.31168831, 0.        ],\n",
       "       [0.52597403, 0.05844156, 0.52597403, 0.        , 0.        ,\n",
       "        0.        , 0.        , 0.        , 0.        , 0.        ,\n",
       "        0.        , 0.        , 0.46753247, 0.05844156, 0.29220779,\n",
       "        0.11688312, 0.        , 0.        , 0.64285714, 0.35064935,\n",
       "        0.        , 0.        , 0.        , 0.        , 0.        ,\n",
       "        0.        , 0.        , 0.        , 0.35064935, 0.        ],\n",
       "       [0.17532468, 0.29220779, 0.21428571, 0.27272727, 0.46753247,\n",
       "        0.31168831, 0.54545455, 0.31168831, 0.46753247, 0.38961039,\n",
       "        0.42857143, 0.35064935, 0.15584416, 0.25324675, 0.0974026 ,\n",
       "        0.11688312, 0.23376623, 0.42857143, 0.25324675, 0.11688312,\n",
       "        0.19480519, 0.35064935, 0.54545455, 0.19480519, 0.19480519,\n",
       "        0.27272727, 0.31168831, 0.35064935, 0.23376623, 0.31168831],\n",
       "       [0.46753247, 0.05194805, 0.46753247, 0.        , 0.        ,\n",
       "        0.        , 0.        , 0.        , 0.        , 0.        ,\n",
       "        0.        , 0.        , 0.41558442, 0.05194805, 0.25974026,\n",
       "        0.1038961 , 0.        , 0.        , 0.57142857, 0.31168831,\n",
       "        0.        , 0.        , 0.        , 0.        , 0.        ,\n",
       "        0.        , 0.        , 0.        , 0.31168831, 0.        ]])"
      ]
     },
     "execution_count": 136,
     "metadata": {},
     "output_type": "execute_result"
    }
   ],
   "source": [
    "vizMat = vizMat / np.max(vizMat)\n",
    "vizMat"
   ]
  },
  {
   "cell_type": "code",
   "execution_count": 137,
   "metadata": {},
   "outputs": [
    {
     "data": {
      "text/plain": [
       "<matplotlib.image.AxesImage at 0x28c67ea70>"
      ]
     },
     "execution_count": 137,
     "metadata": {},
     "output_type": "execute_result"
    },
    {
     "data": {
      "image/png": "[encoded data removed]",
      "text/plain": [
       "<Figure size 288x288 with 1 Axes>"
      ]
     },
     "metadata": {
      "needs_background": "light"
     },
     "output_type": "display_data"
    }
   ],
   "source": [
    "plt.matshow(vizMat)"
   ]
  },
  {
   "cell_type": "code",
   "execution_count": null,
   "metadata": {},
   "outputs": [],
   "source": []
  },
  {
   "cell_type": "code",
   "execution_count": null,
   "metadata": {},
   "outputs": [],
   "source": []
  },
  {
   "cell_type": "code",
   "execution_count": null,
   "metadata": {},
   "outputs": [],
   "source": []
  }
 ],
 "metadata": {
  "kernelspec": {
   "display_name": "Python 3 (ipykernel)",
   "language": "python",
   "name": "python3"
  },
  "language_info": {
   "codemirror_mode": {
    "name": "ipython",
    "version": 3
   },
   "file_extension": ".py",
   "mimetype": "text/x-python",
   "name": "python",
   "nbconvert_exporter": "python",
   "pygments_lexer": "ipython3",
   "version": "3.10.9"
  }
 },
 "nbformat": 4,
 "nbformat_minor": 4
}
