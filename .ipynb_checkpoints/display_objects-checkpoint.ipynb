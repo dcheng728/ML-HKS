{
 "cells": [
  {
   "cell_type": "code",
<<<<<<< HEAD
   "execution_count": 1,
=======
   "execution_count": 12,
>>>>>>> f943311a40093ebe44175ee38e6fc34b146eae2e
   "id": "4ee97da1-504a-4fc4-a02a-60933d5faf86",
   "metadata": {},
   "outputs": [],
   "source": [
    "import igl\n",
<<<<<<< HEAD
    "import scipy as sp\n",
=======
>>>>>>> f943311a40093ebe44175ee38e6fc34b146eae2e
    "import numpy as np\n",
    "from numpy import random\n",
    "from meshplot import plot, subplot, interact\n",
    "import meshplot as mp\n",
<<<<<<< HEAD
    "import plotly.graph_objects as go\n",
    "from matplotlib import pyplot as plt\n",
=======
    "#import plotly.graph_objects as go\n",
    "#from matplotlib import pyplot as plt\n",
>>>>>>> f943311a40093ebe44175ee38e6fc34b146eae2e
    "\n",
    "# igl \n",
    "import os\n",
    "root_folder = os.getcwd()"
   ]
  },
  {
   "cell_type": "code",
<<<<<<< HEAD
   "execution_count": 2,
=======
   "execution_count": null,
   "id": "f8e170f1",
   "metadata": {},
   "outputs": [],
   "source": []
  },
  {
   "cell_type": "code",
   "execution_count": 4,
>>>>>>> f943311a40093ebe44175ee38e6fc34b146eae2e
   "id": "022a11a8-3890-41d2-898b-27fa415eced4",
   "metadata": {},
   "outputs": [],
   "source": [
    "mesh_dir = 'SHREC11/'   # name of directory"
   ]
  },
  {
   "cell_type": "code",
<<<<<<< HEAD
   "execution_count": 3,
=======
   "execution_count": 5,
>>>>>>> f943311a40093ebe44175ee38e6fc34b146eae2e
   "id": "f4dac81f-6af1-490f-85f4-bccd70b1e594",
   "metadata": {},
   "outputs": [],
   "source": [
<<<<<<< HEAD
    "# takes in a number and displays object associated with the number \n",
=======
>>>>>>> f943311a40093ebe44175ee38e6fc34b146eae2e
    "def display_single_object(num):\n",
    "    ## Load a mesh in OFF format\n",
    "    v, f = igl.read_triangle_mesh(os.path.join(root_folder, \"SHREC11\", \"T\"+str(num)+\".obj\"))\n",
    "    plot(v, f)"
   ]
  },
  {
   "cell_type": "code",
<<<<<<< HEAD
   "execution_count": 4,
=======
   "execution_count": 6,
>>>>>>> f943311a40093ebe44175ee38e6fc34b146eae2e
   "id": "3e3dcc60-965e-41c7-9d3c-10a64bb5990a",
   "metadata": {},
   "outputs": [
    {
     "data": {
      "application/vnd.jupyter.widget-view+json": {
<<<<<<< HEAD
       "model_id": "135135ad9d5848558d1d595510c6bb27",
=======
       "model_id": "09db09fd808e402eb9d87d9d8e554d1a",
>>>>>>> f943311a40093ebe44175ee38e6fc34b146eae2e
       "version_major": 2,
       "version_minor": 0
      },
      "text/plain": [
       "Renderer(camera=PerspectiveCamera(children=(DirectionalLight(color='white', intensity=0.6, position=(-0.165006…"
      ]
     },
     "metadata": {},
     "output_type": "display_data"
    }
   ],
   "source": [
    "display_single_object(99)"
   ]
  },
  {
   "cell_type": "code",
<<<<<<< HEAD
   "execution_count": 5,
=======
   "execution_count": 7,
>>>>>>> f943311a40093ebe44175ee38e6fc34b146eae2e
   "id": "6de0181b-6c68-44f4-8724-4ba8c5d2aeca",
   "metadata": {},
   "outputs": [],
   "source": [
<<<<<<< HEAD
    "# takes in a list of numbers and displays all objects associated with the numbers \n",
=======
>>>>>>> f943311a40093ebe44175ee38e6fc34b146eae2e
    "def display_multiple_objects(mylist):\n",
    "    for num in mylist:\n",
    "        v, f = igl.read_triangle_mesh(os.path.join(root_folder, \"SHREC11\", \"T\"+str(num)+\".obj\"))\n",
    "        plot(v, f)"
   ]
  },
  {
   "cell_type": "code",
<<<<<<< HEAD
   "execution_count": 6,
=======
   "execution_count": 8,
>>>>>>> f943311a40093ebe44175ee38e6fc34b146eae2e
   "id": "755e8998-34dd-4432-b198-2711ecc140de",
   "metadata": {},
   "outputs": [
    {
     "name": "stdout",
     "output_type": "stream",
     "text": [
<<<<<<< HEAD
      "[ 68  31 446  61]\n"
=======
      "[290 386 452 182]\n"
>>>>>>> f943311a40093ebe44175ee38e6fc34b146eae2e
     ]
    },
    {
     "data": {
      "application/vnd.jupyter.widget-view+json": {
<<<<<<< HEAD
       "model_id": "ace46dca2e08491dba61d63f2da4098c",
=======
       "model_id": "395955e808554bd08218d25fd6c7f416",
>>>>>>> f943311a40093ebe44175ee38e6fc34b146eae2e
       "version_major": 2,
       "version_minor": 0
      },
      "text/plain": [
<<<<<<< HEAD
       "Renderer(camera=PerspectiveCamera(children=(DirectionalLight(color='white', intensity=0.6, position=(-0.149406…"
=======
       "Renderer(camera=PerspectiveCamera(children=(DirectionalLight(color='white', intensity=0.6, position=(-0.014772…"
>>>>>>> f943311a40093ebe44175ee38e6fc34b146eae2e
      ]
     },
     "metadata": {},
     "output_type": "display_data"
    },
    {
     "data": {
      "application/vnd.jupyter.widget-view+json": {
<<<<<<< HEAD
       "model_id": "94ea7d96231b46d4b9209e3522c4d616",
=======
       "model_id": "c7366c850c0f42fea412b32ba31f49aa",
>>>>>>> f943311a40093ebe44175ee38e6fc34b146eae2e
       "version_major": 2,
       "version_minor": 0
      },
      "text/plain": [
<<<<<<< HEAD
       "Renderer(camera=PerspectiveCamera(children=(DirectionalLight(color='white', intensity=0.6, position=(0.0292040…"
=======
       "Renderer(camera=PerspectiveCamera(children=(DirectionalLight(color='white', intensity=0.6, position=(0.0608154…"
>>>>>>> f943311a40093ebe44175ee38e6fc34b146eae2e
      ]
     },
     "metadata": {},
     "output_type": "display_data"
    },
    {
     "data": {
      "application/vnd.jupyter.widget-view+json": {
<<<<<<< HEAD
       "model_id": "ac7f31fbb17448b7ad2baf9989f8973c",
=======
       "model_id": "b2b96fa085144f23b22eb5fa487bf356",
>>>>>>> f943311a40093ebe44175ee38e6fc34b146eae2e
       "version_major": 2,
       "version_minor": 0
      },
      "text/plain": [
<<<<<<< HEAD
       "Renderer(camera=PerspectiveCamera(children=(DirectionalLight(color='white', intensity=0.6, position=(0.0792514…"
=======
       "Renderer(camera=PerspectiveCamera(children=(DirectionalLight(color='white', intensity=0.6, position=(0.0547640…"
>>>>>>> f943311a40093ebe44175ee38e6fc34b146eae2e
      ]
     },
     "metadata": {},
     "output_type": "display_data"
    },
    {
     "data": {
      "application/vnd.jupyter.widget-view+json": {
<<<<<<< HEAD
       "model_id": "fb175d25ad784925a1076e48381a0bfc",
=======
       "model_id": "c2fc50c97c224e8ebd98b336780c538c",
>>>>>>> f943311a40093ebe44175ee38e6fc34b146eae2e
       "version_major": 2,
       "version_minor": 0
      },
      "text/plain": [
<<<<<<< HEAD
       "Renderer(camera=PerspectiveCamera(children=(DirectionalLight(color='white', intensity=0.6, position=(0.0548184…"
=======
       "Renderer(camera=PerspectiveCamera(children=(DirectionalLight(color='white', intensity=0.6, position=(-0.010833…"
>>>>>>> f943311a40093ebe44175ee38e6fc34b146eae2e
      ]
     },
     "metadata": {},
     "output_type": "display_data"
    }
   ],
   "source": [
    "mylist=np.random.randint(599, size=(4))\n",
    "print(mylist)\n",
    "display_multiple_objects(mylist) "
   ]
  },
  {
   "cell_type": "code",
<<<<<<< HEAD
   "execution_count": null,
   "id": "a6c4f1fb-7007-46ed-83cf-5ace3a0609b8",
   "metadata": {},
   "outputs": [],
   "source": [
    "print(\"version\", meshplot.__version__)"
=======
   "execution_count": 9,
   "id": "a6c4f1fb-7007-46ed-83cf-5ace3a0609b8",
   "metadata": {},
   "outputs": [
    {
     "data": {
      "application/vnd.jupyter.widget-view+json": {
       "model_id": "4aca9d77cd1e491497d005d000de0543",
       "version_major": 2,
       "version_minor": 0
      },
      "text/plain": [
       "Renderer(camera=PerspectiveCamera(children=(DirectionalLight(color='white', intensity=0.6, position=(-0.044104…"
      ]
     },
     "metadata": {},
     "output_type": "display_data"
    }
   ],
   "source": [
    "display_single_object(0)"
>>>>>>> f943311a40093ebe44175ee38e6fc34b146eae2e
   ]
  },
  {
   "cell_type": "code",
<<<<<<< HEAD
   "execution_count": null,
   "id": "318e1601-bb50-40a3-805e-880a370deec4",
   "metadata": {},
   "outputs": [],
   "source": [
    "print(\"version\", plot.__version__)"
=======
   "execution_count": 10,
   "id": "f4ef49eb",
   "metadata": {},
   "outputs": [
    {
     "data": {
      "application/vnd.jupyter.widget-view+json": {
       "model_id": "cb45f8e3fac049e5b0f4dc15a2eafad0",
       "version_major": 2,
       "version_minor": 0
      },
      "text/plain": [
       "Renderer(camera=PerspectiveCamera(children=(DirectionalLight(color='white', intensity=0.6, position=(-0.044104…"
      ]
     },
     "metadata": {},
     "output_type": "display_data"
    },
    {
     "data": {
      "text/plain": [
       "<meshplot.Viewer.Viewer at 0x1172ef160>"
      ]
     },
     "execution_count": 10,
     "metadata": {},
     "output_type": "execute_result"
    }
   ],
   "source": [
    "v, f = igl.read_triangle_mesh(os.path.join(root_folder, \"SHREC11\", \"T0.obj\"))\n",
    "plot(v, f)"
   ]
  },
  {
   "cell_type": "code",
   "execution_count": 11,
   "id": "4d506024",
   "metadata": {},
   "outputs": [
    {
     "data": {
      "application/vnd.jupyter.widget-view+json": {
       "model_id": "cc9e53113f744e899122bfe4e00e9987",
       "version_major": 2,
       "version_minor": 0
      },
      "text/plain": [
       "Renderer(camera=PerspectiveCamera(children=(DirectionalLight(color='white', intensity=0.6, position=(1.0, 0.5,…"
      ]
     },
     "metadata": {},
     "output_type": "display_data"
    },
    {
     "data": {
      "text/plain": [
       "<meshplot.Viewer.Viewer at 0x1172eeb90>"
      ]
     },
     "execution_count": 11,
     "metadata": {},
     "output_type": "execute_result"
    }
   ],
   "source": [
    "V = np.array([\n",
    "    [0., 0, 0],\n",
    "    [1, 0, 0],\n",
    "    [1, 1, 1],\n",
    "    [2, 1, 0]\n",
    "])\n",
    "\n",
    "F = np.array([\n",
    "    [0, 1, 2],\n",
    "    [1, 3, 2]\n",
    "])\n",
    "\n",
    "plot(V, F)"
>>>>>>> f943311a40093ebe44175ee38e6fc34b146eae2e
   ]
  },
  {
   "cell_type": "code",
   "execution_count": null,
<<<<<<< HEAD
   "id": "28bf5e9a-f4a7-403f-b809-b52e76fa3782",
=======
   "id": "9fcdaebb",
   "metadata": {},
   "outputs": [],
   "source": []
  },
  {
   "cell_type": "code",
   "execution_count": null,
   "id": "a3612073",
>>>>>>> f943311a40093ebe44175ee38e6fc34b146eae2e
   "metadata": {},
   "outputs": [],
   "source": []
  }
 ],
 "metadata": {
  "kernelspec": {
   "display_name": "Python 3 (ipykernel)",
   "language": "python",
   "name": "python3"
  },
  "language_info": {
   "codemirror_mode": {
    "name": "ipython",
    "version": 3
   },
   "file_extension": ".py",
   "mimetype": "text/x-python",
   "name": "python",
   "nbconvert_exporter": "python",
   "pygments_lexer": "ipython3",
   "version": "3.10.9"
  }
 },
 "nbformat": 4,
 "nbformat_minor": 5
}
