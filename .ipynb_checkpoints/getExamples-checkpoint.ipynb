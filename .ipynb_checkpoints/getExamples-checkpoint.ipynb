{
 "cells": [
  {
   "cell_type": "code",
   "execution_count": 2,
   "id": "895cafcf",
   "metadata": {},
   "outputs": [],
   "source": [
    "import os\n",
    "\n",
    "%run helpers_preproc.ipynb"
   ]
  },
  {
   "cell_type": "code",
   "execution_count": 9,
   "id": "04306a7b",
   "metadata": {},
   "outputs": [],
   "source": [
    "# this file copy shrec11 and save in a new dir\n",
    "# function picks two objects"
   ]
  },
  {
   "cell_type": "code",
   "execution_count": 11,
   "id": "51c1ffe6",
   "metadata": {},
   "outputs": [],
   "source": [
    "def pick_copy(origDir, newDir, obj1, obj2):\n",
    "    #first delete everything in newDir (so less likely to run into random errors)\n",
    "    files = glob.glob(newDir + '*')\n",
    "    for f in files:\n",
    "        os.remove(f)\n",
    "    \n",
    "    # take out two objects and put them in the new directory\n",
    "    labels = readLbl(600 , origDir + \"labels.txt\")\n",
    "    obj1_list = np.where(labels == obj1)\n",
    "    obj2_list = np.where(labels == obj2)\n",
    "    newLabelFile = open(newDir + \"labels.txt\", \"w\")\n",
    "    # write those files in the new directory\n",
    "    for i in range(len(obj1_list[0])):\n",
    "    \n",
    "        # get obj1 files\n",
    "        v, f = igl.read_triangle_mesh(origDir + \"T\" + str(obj1_list[0][i]) + \".obj\")\n",
    "        file = open(newDir + \"T\" + str(i+20) + \".obj\", \"w\")\n",
    "        igl.write_obj(newDir + \"T\" + str(i+20) + \".obj\", v, f)\n",
    "        newLabelFile.write(\"T\" + str(i+20) + \".obj\" + \" \" + str(obj1) + \"\\n\")     \n",
    "        \n",
    "        \n",
    "        # get obj2 files\n",
    "        v, f = igl.read_triangle_mesh(origDir + \"T\" + str(obj2_list[0][i]) + \".obj\")\n",
    "        file = open(newDir + \"T\" + str(i) + \".obj\", \"w\")\n",
    "        igl.write_obj(newDir + \"T\" + str(i) + \".obj\", v, f)\n",
    "        newLabelFile.write(\"T\" + str(i) + \".obj\" + \" \" + str(obj2) + \"\\n\") \n",
    "\n",
    "    newLabelFile.close()"
   ]
  },
  {
   "cell_type": "code",
   "execution_count": 13,
   "id": "4a8cb200",
   "metadata": {},
   "outputs": [],
   "source": [
    "pick_copy('SHREC11/', 'SHREC11_mini/', 6, 23)"
   ]
  },
  {
   "cell_type": "code",
   "execution_count": null,
   "id": "ea03c6fb",
   "metadata": {},
   "outputs": [],
   "source": []
  }
 ],
 "metadata": {
  "kernelspec": {
   "display_name": "Python 3 (ipykernel)",
   "language": "python",
   "name": "python3"
  },
  "language_info": {
   "codemirror_mode": {
    "name": "ipython",
    "version": 3
   },
   "file_extension": ".py",
   "mimetype": "text/x-python",
   "name": "python",
   "nbconvert_exporter": "python",
   "pygments_lexer": "ipython3",
   "version": "3.10.9"
  }
 },
 "nbformat": 4,
 "nbformat_minor": 5
}
