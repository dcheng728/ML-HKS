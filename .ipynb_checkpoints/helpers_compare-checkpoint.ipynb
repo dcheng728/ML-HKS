{
 "cells": [
  {
   "cell_type": "code",
   "execution_count": null,
   "id": "3c7d5a86",
   "metadata": {},
   "outputs": [],
   "source": [
    "import igl\n",
    "import scipy\n",
    "import numpy as np\n",
    "import torch\n",
    "import open3d\n",
    "import glob\n",
    "from numpy.random import default_rng\n",
    "from matplotlib import pyplot as plt\n",
    "from numpy.random import default_rng\n",
    "from mpl_toolkits.mplot3d import axes3d"
   ]
  },
  {
   "cell_type": "code",
   "execution_count": null,
   "id": "3ae3e31e",
   "metadata": {},
   "outputs": [],
   "source": [
    "def plot_poison(index_in_question, vertices,group_labels, poisoned_vertices):\n",
    "    #Plot first clustered mesh\n",
    "    dataPlot = vertices[index_in_question]\n",
    "\n",
    "    fig = plt.figure()\n",
    "    ax = fig.add_subplot(121,projection='3d')\n",
    "\n",
    "    ax.scatter(dataPlot[:,0], dataPlot[:,1], dataPlot[:,2], label=group_labels[index_in_question,:], c = group_labels[index_in_question,:], cmap = 'viridis',s = 3)\n",
    "    ax.set_title('clean')\n",
    "\n",
    "    plt.axis('off')\n",
    "\n",
    "    #Plot second clustered point coud\n",
    "    #get poison\n",
    "    \n",
    "    poisonedDataPlot = poisoned_vertices[index_in_question]\n",
    "\n",
    "    ax = fig.add_subplot(122,projection='3d')\n",
    "\n",
    "    ax.scatter(poisonedDataPlot[:,0], poisonedDataPlot[:,1], poisonedDataPlot[:,2], label=group_labels[index_in_question,:], c = group_labels[index_in_question,:], cmap = 'viridis', s = 3)\n",
    "    ax.set_title('poisoned')\n",
    "\n",
    "    plt.axis('off')\n",
    "\n",
    "    plt.show()"
   ]
  }
 ],
 "metadata": {
  "kernelspec": {
   "display_name": "Python 3 (ipykernel)",
   "language": "python",
   "name": "python3"
  },
  "language_info": {
   "codemirror_mode": {
    "name": "ipython",
    "version": 3
   },
   "file_extension": ".py",
   "mimetype": "text/x-python",
   "name": "python",
   "nbconvert_exporter": "python",
   "pygments_lexer": "ipython3",
   "version": "3.10.9"
  }
 },
 "nbformat": 4,
 "nbformat_minor": 5
}
