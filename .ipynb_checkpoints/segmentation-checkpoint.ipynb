{
 "cells": [
  {
   "cell_type": "code",
   "execution_count": 142,
   "id": "fd66db68",
   "metadata": {},
   "outputs": [],
   "source": [
    "import scipy\n",
    "import numpy as np\n",
    "import igl\n",
    "\n",
    "%run helpers_preproc.ipynb"
   ]
  },
  {
   "cell_type": "code",
   "execution_count": 143,
   "id": "4e56baa9",
   "metadata": {},
   "outputs": [],
   "source": [
    "def get_nodes(fileName):\n",
    "    # returns a vertex narray\n",
    "    v, f = igl.read_triangle_mesh(fileName)\n",
    "    return v, f\n",
    "\n",
    "\n",
    "def K_mean_cluster(v,K):\n",
    "    grouped_v = np.empty(shape=(v.shape[0],4))\n",
    "    centroids, labels = scipy.cluster.vq.kmeans2(v, K, minit = \"points\")\n",
    "    \n",
    "    for i in range(v.shape[0]):\n",
    "        grouped_v[i] = np.append(v[i], labels[i])\n",
    "    \n",
    "    return grouped_v, labels\n",
    "\n"
   ]
  },
  {
   "cell_type": "code",
   "execution_count": 144,
   "id": "00d3bd9b",
   "metadata": {},
   "outputs": [],
   "source": [
    "# fileName = \"T0.obj\"\n",
    "# K = 5 # number of groups we want to divide\n",
    "\n",
    "# v, f = igl.read_triangle_mesh(data_dir + fileName)\n",
    "# centroids, labels = scipy.cluster.vq.kmeans2(v, K, minit = \"points\")\n",
    "\n",
    "# new_v = np.empty(shape= (252,4))\n",
    "\n",
    "# for i in range(252):\n",
    "#     new_v[i] = np.append(v[i], labels[i])\n",
    "\n",
    "\n",
    "# r = np.append(v[0],labels[0])\n",
    "# r\n",
    "# print(v)\n",
    "# new_v.shape"
   ]
  },
  {
   "cell_type": "code",
   "execution_count": 145,
   "id": "b2bfb873",
   "metadata": {
    "scrolled": true
   },
   "outputs": [],
   "source": [
    "# v, f = get_nodes(fileName)\n",
    "\n",
    "# grouped_v, labels = K_mean_cluster(v, 5)\n",
    "\n",
    "# print(grouped_v)"
   ]
  },
  {
   "cell_type": "code",
   "execution_count": 141,
   "id": "cb78b725",
   "metadata": {},
   "outputs": [
    {
     "data": {
      "text/plain": [
       "array([[212, 221, 230],\n",
       "       [231, 226, 230],\n",
       "       [213, 227, 225],\n",
       "       [223, 237, 224],\n",
       "       [227, 217, 229],\n",
       "       [235, 185, 238],\n",
       "       [228, 225, 245],\n",
       "       [240, 228, 245],\n",
       "       [216, 240, 245],\n",
       "       [216, 245, 241],\n",
       "       [237, 216, 241],\n",
       "       [245, 225, 251],\n",
       "       [225, 247, 251],\n",
       "       [224, 237, 242],\n",
       "       [237, 241, 242],\n",
       "       [244, 224, 242],\n",
       "       [242, 246, 244],\n",
       "       [241, 245, 251],\n",
       "       [242, 241, 251],\n",
       "       [242, 251, 246],\n",
       "       [230, 221, 231],\n",
       "       [225, 227, 229],\n",
       "       [225, 229, 247],\n",
       "       [251, 247, 250],\n",
       "       [239, 217, 224],\n",
       "       [239, 224, 244],\n",
       "       [248, 246, 250],\n",
       "       [250, 246, 251],\n",
       "       [248, 244, 246],\n",
       "       [229, 201, 249],\n",
       "       [229, 249, 247],\n",
       "       [247, 249, 250],\n",
       "       [238, 217, 239],\n",
       "       [248, 239, 244],\n",
       "       [222, 243, 249],\n",
       "       [238, 239, 235],\n",
       "       [232, 235, 243],\n",
       "       [235, 248, 243],\n",
       "       [243, 248, 250],\n",
       "       [249, 243, 250],\n",
       "       [235, 239, 248],\n",
       "       [243, 222, 232],\n",
       "       [218, 235, 232],\n",
       "       [181, 188, 222],\n",
       "       [159, 210, 185],\n",
       "       [177, 181, 204],\n",
       "       [159, 170, 210],\n",
       "       [170, 177, 210],\n",
       "       [170, 181, 177],\n",
       "       [173, 186, 182],\n",
       "       [179, 173, 182],\n",
       "       [180, 173, 179],\n",
       "       [180, 179, 184]], dtype=int64)"
      ]
     },
     "execution_count": 141,
     "metadata": {},
     "output_type": "execute_result"
    }
   ],
   "source": [
    "# counts = np.bincount(labels)\n",
    "# counts\n"
   ]
  },
  {
   "cell_type": "code",
   "execution_count": 128,
   "id": "4ee43646",
   "metadata": {},
   "outputs": [
    {
     "data": {
      "text/plain": [
       "array([], dtype=int64)"
      ]
     },
     "execution_count": 128,
     "metadata": {},
     "output_type": "execute_result"
    }
   ],
   "source": [
    "# counts = np.bincount(labels)\n",
    "# group1 = v[labels == 1]\n",
    "# f = f[0:53]\n",
    "# f\n",
    "    "
   ]
  },
  {
   "cell_type": "code",
   "execution_count": 106,
   "id": "28caeb3e",
   "metadata": {},
   "outputs": [
    {
     "ename": "TypeError",
     "evalue": "write_obj(): incompatible function arguments. The following argument types are supported:\n    1. (filename: str, v: array, f: array) -> bool\n\nInvoked with: 'text.obj', array([[-0.44205 , -0.498781,  0.184584],\n       [-0.399319, -0.521336,  0.158765],\n       [-0.347563, -0.509471,  0.15953 ],\n       [-0.485554, -0.450494,  0.18235 ],\n       [-0.40424 , -0.480049,  0.150974],\n       [-0.608985, -0.392643,  0.207463],\n       [-0.510296, -0.421253,  0.16456 ],\n       [-0.57983 , -0.458582,  0.183118],\n       [-0.604268, -0.435123,  0.210961],\n       [-0.503595, -0.463532,  0.150349],\n       [-0.608884, -0.357312,  0.193353],\n       [-0.550681, -0.418628,  0.159027],\n       [-0.669713, -0.327274,  0.211414],\n       [-0.746071, -0.322121,  0.167569],\n       [-0.642885, -0.344125,  0.159501],\n       [-0.682018, -0.391264,  0.177604],\n       [-0.680618, -0.377171,  0.210391],\n       [-0.616981, -0.418752,  0.158397],\n       [-0.684516, -0.336855,  0.145546],\n       [-0.691722, -0.250163,  0.17781 ],\n       [-0.678122, -0.254795,  0.148092],\n       [-0.749326, -0.176773,  0.099108],\n       [-0.713628, -0.28733 ,  0.120031],\n       [-0.755013, -0.28506 ,  0.177728],\n       [-0.767986, -0.230257,  0.075249],\n       [-0.711598, -0.174742,  0.108174],\n       [-0.775748, -0.224785,  0.10814 ],\n       [-0.714557, -0.100589,  0.057204],\n       [-0.700354, -0.173454,  0.070211],\n       [-0.771543, -0.075356,  0.037758],\n       [-0.722405, -0.204111,  0.040767],\n       [-0.787695, -0.161148,  0.033528],\n       [-0.733846, -0.091449, -0.017159],\n       [-0.779706, -0.110157, -0.013618]]), []",
     "output_type": "error",
     "traceback": [
      "\u001b[0;31m---------------------------------------------------------------------------\u001b[0m",
      "\u001b[0;31mTypeError\u001b[0m                                 Traceback (most recent call last)",
      "Cell \u001b[0;32mIn[106], line 1\u001b[0m\n\u001b[0;32m----> 1\u001b[0m \u001b[43migl\u001b[49m\u001b[38;5;241;43m.\u001b[39;49m\u001b[43mwrite_obj\u001b[49m\u001b[43m(\u001b[49m\u001b[38;5;124;43m\"\u001b[39;49m\u001b[38;5;124;43mtext.obj\u001b[39;49m\u001b[38;5;124;43m\"\u001b[39;49m\u001b[43m,\u001b[49m\u001b[43m \u001b[49m\u001b[43mgroup1\u001b[49m\u001b[43m,\u001b[49m\u001b[43m \u001b[49m\u001b[43mf\u001b[49m\u001b[43m)\u001b[49m\n",
      "\u001b[0;31mTypeError\u001b[0m: write_obj(): incompatible function arguments. The following argument types are supported:\n    1. (filename: str, v: array, f: array) -> bool\n\nInvoked with: 'text.obj', array([[-0.44205 , -0.498781,  0.184584],\n       [-0.399319, -0.521336,  0.158765],\n       [-0.347563, -0.509471,  0.15953 ],\n       [-0.485554, -0.450494,  0.18235 ],\n       [-0.40424 , -0.480049,  0.150974],\n       [-0.608985, -0.392643,  0.207463],\n       [-0.510296, -0.421253,  0.16456 ],\n       [-0.57983 , -0.458582,  0.183118],\n       [-0.604268, -0.435123,  0.210961],\n       [-0.503595, -0.463532,  0.150349],\n       [-0.608884, -0.357312,  0.193353],\n       [-0.550681, -0.418628,  0.159027],\n       [-0.669713, -0.327274,  0.211414],\n       [-0.746071, -0.322121,  0.167569],\n       [-0.642885, -0.344125,  0.159501],\n       [-0.682018, -0.391264,  0.177604],\n       [-0.680618, -0.377171,  0.210391],\n       [-0.616981, -0.418752,  0.158397],\n       [-0.684516, -0.336855,  0.145546],\n       [-0.691722, -0.250163,  0.17781 ],\n       [-0.678122, -0.254795,  0.148092],\n       [-0.749326, -0.176773,  0.099108],\n       [-0.713628, -0.28733 ,  0.120031],\n       [-0.755013, -0.28506 ,  0.177728],\n       [-0.767986, -0.230257,  0.075249],\n       [-0.711598, -0.174742,  0.108174],\n       [-0.775748, -0.224785,  0.10814 ],\n       [-0.714557, -0.100589,  0.057204],\n       [-0.700354, -0.173454,  0.070211],\n       [-0.771543, -0.075356,  0.037758],\n       [-0.722405, -0.204111,  0.040767],\n       [-0.787695, -0.161148,  0.033528],\n       [-0.733846, -0.091449, -0.017159],\n       [-0.779706, -0.110157, -0.013618]]), []"
     ]
    }
   ],
   "source": [
    "\n",
    "# igl.write_obj(\"text.obj\", group1, f)"
   ]
  },
  {
   "cell_type": "code",
   "execution_count": null,
   "id": "dd034146",
   "metadata": {},
   "outputs": [],
   "source": []
  }
 ],
 "metadata": {
  "kernelspec": {
   "display_name": "Python 3 (ipykernel)",
   "language": "python",
   "name": "python3"
  },
  "language_info": {
   "codemirror_mode": {
    "name": "ipython",
    "version": 3
   },
   "file_extension": ".py",
   "mimetype": "text/x-python",
   "name": "python",
   "nbconvert_exporter": "python",
   "pygments_lexer": "ipython3",
   "version": "3.10.9"
  }
 },
 "nbformat": 4,
 "nbformat_minor": 5
}
