{
 "cells": [
  {
   "cell_type": "code",
   "execution_count": 376,
   "id": "e9ab7b6e",
   "metadata": {
    "slideshow": {
     "slide_type": "slide"
    }
   },
   "outputs": [],
   "source": [
    "import torch.optim as optim\n",
    "import torch\n",
    "import numpy as np\n",
    "import matplotlib.pyplot as plt\n",
    "import random\n",
    "import os\n",
    "import prettytable as pt\n",
    "%run helpers_preproc.ipynb\n",
    "%matplotlib widget\n",
    "%run getExamples.ipynb"
   ]
  },
  {
   "cell_type": "markdown",
   "id": "4b2719b0",
   "metadata": {
    "slideshow": {
     "slide_type": "skip"
    }
   },
   "source": [
    "# Hyper Parameters"
   ]
  },
  {
   "cell_type": "code",
   "execution_count": 397,
   "id": "b34c00ab",
   "metadata": {
    "slideshow": {
     "slide_type": "slide"
    }
   },
   "outputs": [],
   "source": [
    "origDataDir = 'SHREC11/'\n",
    "newDataDir = 'SHREC11_mini/'\n",
    "K = 5\n",
    "# radiuss = [0.0002,0.002,0.01]\n",
    "train_size = 10 # * len(radiuss)\n",
    "test_size = 30 # * len(radiuss)\n",
    "\n",
    "obj1 = 15\n",
    "obj2 = 17"
   ]
  },
  {
   "cell_type": "markdown",
   "id": "684373cc",
   "metadata": {
    "slideshow": {
     "slide_type": "slide"
    }
   },
   "source": [
    "# 1. expand dataset and scramble"
   ]
  },
  {
   "cell_type": "code",
   "execution_count": 398,
   "id": "848dd975",
   "metadata": {
    "slideshow": {
     "slide_type": "fragment"
    }
   },
   "outputs": [],
   "source": [
    "# expand(origDataDir, newDataDir, radiuss)\n",
    "pick_copy(origDataDir, newDataDir, obj1, obj2)\n",
    "scramble(newDataDir, 20, 40)"
   ]
  },
  {
   "cell_type": "markdown",
   "id": "eca467ac",
   "metadata": {
    "slideshow": {
     "slide_type": "slide"
    }
   },
   "source": [
    "# 2. read in the dataset"
   ]
  },
  {
   "cell_type": "markdown",
   "id": "51110c1a",
   "metadata": {
    "slideshow": {
     "slide_type": "slide"
    }
   },
   "source": [
    "## 2.1 read in v (252 x 3),f (...x...) and cluster"
   ]
  },
  {
   "cell_type": "code",
   "execution_count": 399,
   "id": "1428b3a4",
   "metadata": {
    "slideshow": {
     "slide_type": "fragment"
    }
   },
   "outputs": [],
   "source": [
    "ver_list = []\n",
    "adj_list = []\n",
    "Nadj_list = []\n",
    "gMat_list = []\n",
    "gLbl_list = []\n",
    "\n",
    "for i in range(40):\n",
    "    v, f = get_nodes(newDataDir + 'T' + str(i) + '.obj')\n",
    "    group_mat, group_labels = K_mean_cluster(v, K)\n",
    "    \n",
    "    adj = get_adj_from_f(f)            \n",
    "    normed_adj = adj / np.reshape(np.sum(adj,axis = 0),[252,1])\n",
    "    ver_list.append(v)\n",
    "    adj_list.append(adj)\n",
    "    Nadj_list.append(normed_adj)\n",
    "    gMat_list.append(group_mat)\n",
    "    gLbl_list.append(group_labels)\n",
    "    \n",
    "    \n",
    "vers = np.array(ver_list)\n",
    "adjs = np.array(adj_list)\n",
    "Nadjs = np.array(Nadj_list)\n",
    "gMats = np.array(gMat_list)\n",
    "gLbls = np.array(gLbl_list)"
   ]
  },
  {
   "cell_type": "markdown",
   "id": "013d531c",
   "metadata": {
    "slideshow": {
     "slide_type": "slide"
    }
   },
   "source": [
    "## 2.2 Read in the labels"
   ]
  },
  {
   "cell_type": "code",
   "execution_count": 400,
   "id": "3d47dac9",
   "metadata": {
    "slideshow": {
     "slide_type": "fragment"
    }
   },
   "outputs": [],
   "source": [
    "label_np = np.array(readLbl(40 ,newDataDir+'labels.txt'))\n",
    "label_np_train = label_np[:train_size]\n",
    "label_np_test = label_np[train_size:]"
   ]
  },
  {
   "cell_type": "markdown",
   "id": "5329a9ea",
   "metadata": {
    "slideshow": {
     "slide_type": "slide"
    }
   },
   "source": [
    "## 2.3 Split into training set and testing set"
   ]
  },
  {
   "cell_type": "code",
   "execution_count": 401,
   "id": "bb6dcc36",
   "metadata": {
    "slideshow": {
     "slide_type": "fragment"
    }
   },
   "outputs": [],
   "source": [
    "vers_train = torch.tensor(vers[:train_size]).float()\n",
    "adjs_train = torch.tensor(adjs[:train_size]).float()\n",
    "nadjs_train = torch.nan_to_num(torch.tensor(Nadjs[:train_size]).float(),0,0,0)\n",
    "gMats_train = torch.tensor(gMats[:train_size]).float()\n",
    "label_train = torch.tensor(label_np_train).float()\n",
    "\n",
    "vers_test = torch.tensor(vers[train_size:]).float()\n",
    "adjs_test = torch.tensor(adjs[train_size:]).float()\n",
    "nadjs_test = torch.nan_to_num(torch.tensor(Nadjs[train_size:]).float(),0,0,0)\n",
    "gMats_test = torch.tensor(gMats[train_size:]).float()\n",
    "label_test = torch.tensor(label_np_test).float()\n",
    "\n",
    "label_mat_train = torch.tensor(np.where(igl.all_pairs_distances(label_np_train,label_np_train,False) > 0.5,0,1)).float()\n",
    "label_mat_test = torch.tensor(np.where(igl.all_pairs_distances(label_np_test,label_np_test,False) > 0.5,0,1)).float()"
   ]
  },
  {
   "cell_type": "markdown",
   "id": "58ac61b4",
   "metadata": {
    "slideshow": {
     "slide_type": "slide"
    }
   },
   "source": [
    "# 3. Training"
   ]
  },
  {
   "cell_type": "markdown",
   "id": "1b06f3bb",
   "metadata": {
    "slideshow": {
     "slide_type": "slide"
    }
   },
   "source": [
    "## 3.1 Hyperparameters for training"
   ]
  },
  {
   "cell_type": "code",
   "execution_count": 402,
   "id": "5af46682",
   "metadata": {
    "slideshow": {
     "slide_type": "fragment"
    }
   },
   "outputs": [],
   "source": [
    "contraGWs = [10,10,10,10]\n",
    "contraMWs = [10,10,10,10]\n",
    "atkGWs = [10,10,10,10]\n",
    "atkMWs = [10,10,10,K * 3 + 1]"
   ]
  },
  {
   "cell_type": "markdown",
   "id": "71e6cccc",
   "metadata": {
    "slideshow": {
     "slide_type": "slide"
    }
   },
   "source": [
    "## 3.2 Initialize neural networks"
   ]
  },
  {
   "cell_type": "code",
   "execution_count": 403,
   "id": "832b8db7",
   "metadata": {
    "slideshow": {
     "slide_type": "fragment"
    }
   },
   "outputs": [],
   "source": [
    "%run NNs.ipynb\n",
    "%run helpers_preproc.ipynb\n",
    "loadWeightDir = 'weights/2-21-1/'"
   ]
  },
  {
   "cell_type": "code",
   "execution_count": 404,
   "id": "1ac9d994",
   "metadata": {},
   "outputs": [],
   "source": [
    "load_model = True"
   ]
  },
  {
   "cell_type": "code",
   "execution_count": 405,
   "id": "98ced77c",
   "metadata": {},
   "outputs": [],
   "source": [
    "contraG = GCN(3,contraGWs)\n",
    "contraM = MLP(252* contraGWs[len(contraGWs)-1],contraMWs)\n",
    "atkG = GCN(3,atkGWs)\n",
    "atkM = MLP_atk(252* atkGWs[len(contraGWs)-1], 0.2, K, atkMWs)\n",
    "\n",
    "if load_model:\n",
    "    contraG.weights = torch.load(loadWeightDir + 'contraGw.pt')\n",
    "    contraM.weights = torch.load(loadWeightDir + 'contraMw.pt')\n",
    "    atkG.weights = torch.load(loadWeightDir + 'atkGw.pt')\n",
    "    atkM.weights = torch.load(loadWeightDir + 'atkMw.pt')"
   ]
  },
  {
   "cell_type": "markdown",
   "id": "d1510530",
   "metadata": {
    "slideshow": {
     "slide_type": "slide"
    }
   },
   "source": [
    "## 3.4 Extract node-level features from clean data"
   ]
  },
  {
   "cell_type": "code",
   "execution_count": 406,
   "id": "9ca6bd8a",
   "metadata": {
    "slideshow": {
     "slide_type": "fragment"
    }
   },
   "outputs": [],
   "source": [
    "feas_clean = extract_node_feature(vers_train,adjs_train)"
   ]
  },
  {
   "cell_type": "code",
   "execution_count": 407,
   "id": "f9ce8f8a",
   "metadata": {
    "slideshow": {
     "slide_type": "fragment"
    }
   },
   "outputs": [],
   "source": [
    "%run L.ipynb"
   ]
  },
  {
   "cell_type": "markdown",
   "id": "513d148f",
   "metadata": {
    "slideshow": {
     "slide_type": "slide"
    }
   },
   "source": [
    "## 3.5 Train atkNN😈 with contraNN🤠"
   ]
  },
  {
   "cell_type": "code",
   "execution_count": 408,
   "id": "f5d3147c",
   "metadata": {
    "slideshow": {
     "slide_type": "fragment"
    }
   },
   "outputs": [],
   "source": [
    "lr = 0.0001\n",
    "torch.set_printoptions(precision=10)"
   ]
  },
  {
   "cell_type": "markdown",
   "id": "f183d60a",
   "metadata": {},
   "source": [
    "Loss Defined to be: \n",
    "\n",
    "$\\text{-diffTypeMean + sameTypeMean} + 0.02 \\times \\sqrt{\\text{sameTypeStd}}$"
   ]
  },
  {
   "cell_type": "code",
   "execution_count": 409,
   "id": "4e942233",
   "metadata": {
    "scrolled": true,
    "slideshow": {
     "slide_type": "fragment"
    }
   },
   "outputs": [
    {
     "name": "stdout",
     "output_type": "stream",
     "text": [
      "+------------------+----------+-----------+-----------+----------+\n",
      "|                  |   Loss   | Same Mean | Diff Mean | Same STD |\n",
      "+------------------+----------+-----------+-----------+----------+\n",
      "|  On Clean Data   | -0.27957 |  0.00955  |  0.45692  | 0.01354  |\n",
      "| On Poisoned Data | -0.24454 |  0.06707  |  0.54889  | 0.10432  |\n",
      "+------------------+----------+-----------+-----------+----------+\n"
     ]
    }
   ],
   "source": [
    "#get clean features\n",
    "feas_clean = extract_node_feature(vers_train,adjs_train) #grad on nothing\n",
    "opt = optim.Adam(atkG.weights + atkM.weights + contraG.weights + contraM.weights, lr = lr)\n",
    "\n",
    "for contraI in range(1):\n",
    "    trainLog = pt.PrettyTable()\n",
    "    trainLog.field_names = [\" \",\"Loss\", \"Same Mean\", \"Diff Mean\", \"Same STD\"]\n",
    "    \n",
    "    \n",
    "    opt.zero_grad()\n",
    "\n",
    "    #get poisoned vertex locations\n",
    "    poisonsByGroups = atkM.forward(atkG.forward(nadjs_train,feas_clean))\n",
    "    transformation = translate_by_group(gMats_train,\n",
    "                                        poisonsByGroups)\n",
    "    poisonedVers = vers_train + transformation\n",
    "        \n",
    "        \n",
    "    #extract poisoned features\n",
    "    feas_poisoned = extract_node_feature(poisonedVers,adjs_train) #grad on 😈\n",
    "\n",
    "    \n",
    "    #get contraNN's performance on poisoned feature with grads on 😈    \n",
    "    contraM.eval()\n",
    "    contraG.eval()\n",
    "    aPerfPoisoned, APP = loss(contraM.forward(contraG.forward(nadjs_train,feas_poisoned)),\n",
    "                         label_mat_train) #grad on 😈\n",
    "    \n",
    "    #get contraNN's performance on clean feature and poisoned feature with grads on 🤠\n",
    "    contraM.train()\n",
    "    contraG.train()\n",
    "    feas_poisoned_nograd = feas_poisoned.detach() #grad on nothing\n",
    "    \n",
    "    objFeasFromClean = contraM.forward(contraG.forward(nadjs_train,feas_clean))\n",
    "    objFeasFromPoisoned = contraM.forward(contraG.forward(nadjs_train,feas_poisoned_nograd))\n",
    "    \n",
    "    diffInFeas = torch.sum((objFeasFromClean - objFeasFromPoisoned)**2)\n",
    "    \n",
    "    cPerfClean, CPC = loss(objFeasFromClean,\n",
    "                      label_mat_train) #grad on 🤠\n",
    "    \n",
    "    cPerfPoisoned, CPP = loss(objFeasFromPoisoned,\n",
    "                         label_mat_train) #grad on 🤠\n",
    "    \n",
    "    \n",
    "    trainLog.add_row(['On Clean Data']+CPC)\n",
    "    trainLog.add_row(['On Poisoned Data']+CPP)\n",
    "\n",
    "    \n",
    "    overallLoss = -aPerfPoisoned + cPerfClean + 1 * cPerfPoisoned#  + diffInFeas\n",
    "    #overallLoss = -aPerfPoisoned\n",
    "    overallLoss.backward()\n",
    "    opt.step()\n",
    "    \n",
    "    print(trainLog)"
   ]
  },
  {
   "cell_type": "markdown",
   "id": "bff459eb",
   "metadata": {
    "collapsed": true,
    "slideshow": {
     "slide_type": "skip"
    }
   },
   "source": [
    "## 3.7 Seeing how it does on Test Data"
   ]
  },
  {
   "cell_type": "code",
   "execution_count": 410,
   "id": "2cee83e1",
   "metadata": {},
   "outputs": [
    {
     "name": "stdout",
     "output_type": "stream",
     "text": [
      "tensor(-0.0362987444, grad_fn=<AddBackward0>)\n",
      "torch.Size([30, 10])\n"
     ]
    }
   ],
   "source": [
    "feas_clean_test = extract_node_feature(vers_test,adjs_test)\n",
    "\n",
    "atkTest = atkM.forward(atkG.forward(nadjs_test,feas_clean_test))\n",
    "\n",
    "poisonedVersTest = vers_test + translate_by_group(gMats_test,atkTest)\n",
    "        \n",
    "feas_poisoned_test = extract_node_feature(poisonedVersTest,adjs_test)\n",
    "        \n",
    "contraOutPoisonedTest = contraM.forward(contraG.forward(nadjs_test,feas_poisoned_test))\n",
    "contraLossPoisonedTest,_ = loss(contraOutPoisonedTest,label_mat_test)\n",
    "\n",
    "contraOutCleanTest = contraM.forward(contraG.forward(nadjs_test,feas_clean_test))\n",
    "contraLossCleanTest,_ = loss(contraOutCleanTest,label_mat_test)\n",
    "\n",
    "print(contraLossPoisonedTest)\n",
    "print(contraOutCleanTest.shape)"
   ]
  },
  {
   "cell_type": "code",
   "execution_count": 411,
   "id": "f334336a",
   "metadata": {
    "slideshow": {
     "slide_type": "skip"
    }
   },
   "outputs": [],
   "source": [
    "feas_clean_test = extract_node_feature(vers_test,adjs_test)\n",
    "\n",
    "atkTest = atkM.forward(atkG.forward(nadjs_test,feas_clean_test))\n",
    "\n",
    "poisonedVersTest = vers_test + translate_by_group(gMats_test,atkTest)\n",
    "\n",
    "feas_poisoned_test = extract_node_feature(poisonedVersTest,adjs_test)\n",
    "\n",
    "contraOutPoisonedTest = contraM.forward(contraG.forward(nadjs_test,feas_poisoned_test))\n",
    "\n",
    "contraOutCleanTest = contraM.forward(contraG.forward(nadjs_test,feas_clean_test))\n",
    "\n",
    "# #display histograms\n",
    "# display_hists(contraOutPoisonedTest, label_mat_test, test_size)\n",
    "# display_hists(contraOutCleanTest, label_mat_test, test_size)"
   ]
  },
  {
   "cell_type": "code",
   "execution_count": 412,
   "id": "d98617b4",
   "metadata": {},
   "outputs": [
    {
     "data": {
      "text/plain": [
       "30"
      ]
     },
     "execution_count": 412,
     "metadata": {},
     "output_type": "execute_result"
    }
   ],
   "source": [
    "obj1 = torch.where(label_test == obj1)\n",
    "obj2 = torch.where(label_test == obj2)\n",
    "\n",
    "obj = torch.cat((obj1[0], obj2[0]), dim = 0)\n",
    "\n",
    "data = torch.empty((len(obj),10))\n",
    "\n",
    "len(obj)"
   ]
  },
  {
   "cell_type": "code",
   "execution_count": null,
   "id": "29677a56",
   "metadata": {},
   "outputs": [],
   "source": []
  },
  {
   "cell_type": "code",
   "execution_count": 413,
   "id": "343a02be",
   "metadata": {},
   "outputs": [
    {
     "data": {
      "text/plain": [
       "torch.Size([30, 10])"
      ]
     },
     "execution_count": 413,
     "metadata": {},
     "output_type": "execute_result"
    }
   ],
   "source": [
    "for i in range(len(obj)):\n",
    "    for j in range(10):\n",
    "        data[i][j] = contraOutCleanTest[obj[i]][j].item()\n",
    "        \n",
    "data.shape"
   ]
  },
  {
   "cell_type": "code",
   "execution_count": 414,
   "id": "86387c7a",
   "metadata": {},
   "outputs": [
    {
     "data": {
      "text/plain": [
       "array([1, 1, 1, 1, 1, 1, 1, 1, 1, 1, 1, 1, 0, 1, 1, 1, 0, 0, 0, 0, 0, 0,\n",
       "       0, 0, 0, 0, 0, 0, 1, 0], dtype=int32)"
      ]
     },
     "execution_count": 414,
     "metadata": {},
     "output_type": "execute_result"
    }
   ],
   "source": [
    "# output would be in size(40,5)\n",
    "centroid, label = scipy.cluster.vq.kmeans2(data, 2, minit='points')\n",
    "group1 = data[label == 0]\n",
    "group2 = data[label == 1]\n",
    "\n",
    "label"
   ]
  },
  {
   "cell_type": "code",
   "execution_count": 415,
   "id": "c775fe5f",
   "metadata": {},
   "outputs": [
    {
     "data": {
      "text/plain": [
       "<function Tensor.type>"
      ]
     },
     "execution_count": 415,
     "metadata": {},
     "output_type": "execute_result"
    }
   ],
   "source": [
    "group1.type"
   ]
  },
  {
   "cell_type": "code",
   "execution_count": 416,
   "id": "69526e0c",
   "metadata": {},
   "outputs": [
    {
     "data": {
      "text/plain": [
       "0.9"
      ]
     },
     "execution_count": 416,
     "metadata": {},
     "output_type": "execute_result"
    }
   ],
   "source": [
    "# get accuracy\n",
    "\n",
    "c1 = 0\n",
    "c2 = 0\n",
    "for i in range(len(label)):\n",
    "    if i < len(obj)/2 and label[i] == 0:\n",
    "        c1 += 1\n",
    "    \n",
    "    elif i >= len(obj)/2 and label[i] == 1:\n",
    "        c1 += 1\n",
    "    \n",
    "    \n",
    "acc1 = c1/len(label)\n",
    "\n",
    "for i in range(len(label)):\n",
    "    if i < len(obj)/2 and label[i] == 1:\n",
    "        c2 += 1\n",
    "    \n",
    "    elif i >= len(obj)/2 and label[i] == 0:\n",
    "        c2 += 1\n",
    "acc2 = c2/len(label)\n",
    "\n",
    "max(acc1, acc2)"
   ]
  },
  {
   "cell_type": "code",
   "execution_count": null,
   "id": "ba673e17",
   "metadata": {},
   "outputs": [],
   "source": []
  },
  {
   "cell_type": "code",
   "execution_count": 332,
   "id": "f511ee37",
   "metadata": {},
   "outputs": [],
   "source": [
    "# ax.axes.xaxis.set_ticklabels([])\n",
    "# ax.axes.yaxis.set_ticklabels([])\n",
    "# ax.axes.zaxis.set_ticklabels([])\n",
    "# ax.set_xlabel('X')\n",
    "# ax.set_ylabel('Y')\n",
    "# ax.set_zlabel('Z')"
   ]
  },
  {
   "cell_type": "code",
   "execution_count": null,
   "id": "7202b262",
   "metadata": {},
   "outputs": [],
   "source": []
  }
 ],
 "metadata": {
  "kernelspec": {
   "display_name": "Python 3 (ipykernel)",
   "language": "python",
   "name": "python3"
  },
  "language_info": {
   "codemirror_mode": {
    "name": "ipython",
    "version": 3
   },
   "file_extension": ".py",
   "mimetype": "text/x-python",
   "name": "python",
   "nbconvert_exporter": "python",
   "pygments_lexer": "ipython3",
   "version": "3.10.9"
  }
 },
 "nbformat": 4,
 "nbformat_minor": 5
}
