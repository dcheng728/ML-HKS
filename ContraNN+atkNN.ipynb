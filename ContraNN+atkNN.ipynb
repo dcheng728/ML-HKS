{
 "cells": [
  {
   "cell_type": "code",
   "execution_count": 1,
   "id": "e9ab7b6e",
   "metadata": {
    "slideshow": {
     "slide_type": "slide"
    }
   },
   "outputs": [],
   "source": [
    "import torch.optim as optim\n",
    "import torch\n",
    "import numpy as np\n",
    "import matplotlib.pyplot as plt\n",
    "import random\n",
    "import os\n",
    "import prettytable as pt\n",
    "%run helpers_preproc.ipynb\n",
    "%matplotlib widget"
   ]
  },
  {
   "cell_type": "markdown",
   "id": "4b2719b0",
   "metadata": {
    "slideshow": {
     "slide_type": "skip"
    }
   },
   "source": [
    "# Hyper Parameters"
   ]
  },
  {
   "cell_type": "code",
   "execution_count": 2,
   "id": "b34c00ab",
   "metadata": {
    "slideshow": {
     "slide_type": "slide"
    }
   },
   "outputs": [],
   "source": [
    "origDataDir = 'SHREC11/'\n",
    "newDataDir = 'SHREC11_plus/'\n",
    "K = 5\n",
    "radiuss = [0.0002,0.002,0.01]\n",
    "train_size = 450 * len(radiuss)\n",
    "test_size = (600-450) * len(radiuss)"
   ]
  },
  {
   "cell_type": "markdown",
   "id": "684373cc",
   "metadata": {
    "slideshow": {
     "slide_type": "slide"
    }
   },
   "source": [
    "# 1. expand dataset and scramble"
   ]
  },
  {
   "cell_type": "code",
   "execution_count": 3,
   "id": "848dd975",
   "metadata": {
    "slideshow": {
     "slide_type": "fragment"
    }
   },
   "outputs": [],
   "source": [
    "expand(origDataDir, newDataDir, radiuss)\n",
    "scramble(newDataDir, 10000,600 * len(radiuss))"
   ]
  },
  {
   "cell_type": "markdown",
   "id": "eca467ac",
   "metadata": {
    "slideshow": {
     "slide_type": "slide"
    }
   },
   "source": [
    "# 2. read in the dataset"
   ]
  },
  {
   "cell_type": "markdown",
   "id": "51110c1a",
   "metadata": {
    "slideshow": {
     "slide_type": "slide"
    }
   },
   "source": [
    "## 2.1 read in v (252 x 3),f (...x...) and cluster"
   ]
  },
  {
   "cell_type": "code",
   "execution_count": 4,
   "id": "1428b3a4",
   "metadata": {
    "slideshow": {
     "slide_type": "fragment"
    }
   },
   "outputs": [
    {
     "name": "stderr",
     "output_type": "stream",
     "text": [
      "/var/folders/y9/sgsdqvs575j76jqnz728mwkh0000gn/T/ipykernel_23358/2399023897.py:12: RuntimeWarning: invalid value encountered in divide\n",
      "  normed_adj = adj / np.reshape(np.sum(adj,axis = 0),[252,1])\n",
      "/Users/richardwang/.conda/envs/TSM/lib/python3.10/site-packages/scipy/cluster/vq.py:602: UserWarning: One of the clusters is empty. Re-run kmeans with a different initialization.\n",
      "  warnings.warn(\"One of the clusters is empty. \"\n"
     ]
    }
   ],
   "source": [
    "ver_list = []\n",
    "adj_list = []\n",
    "Nadj_list = []\n",
    "gMat_list = []\n",
    "gLbl_list = []\n",
    "\n",
    "for i in range(600 * len(radiuss)):\n",
    "    v, f = get_nodes(newDataDir + 'T' + str(i) + '.obj')\n",
    "    group_mat, group_labels = K_mean_cluster(v, K)\n",
    "    \n",
    "    adj = get_adj_from_f(f)            \n",
    "    normed_adj = adj / np.reshape(np.sum(adj,axis = 0),[252,1])\n",
    "    ver_list.append(v)\n",
    "    adj_list.append(adj)\n",
    "    Nadj_list.append(normed_adj)\n",
    "    gMat_list.append(group_mat)\n",
    "    gLbl_list.append(group_labels)\n",
    "    \n",
    "    \n",
    "vers = np.array(ver_list)\n",
    "adjs = np.array(adj_list)\n",
    "Nadjs = np.array(Nadj_list)\n",
    "gMats = np.array(gMat_list)\n",
    "gLbls = np.array(gLbl_list)"
   ]
  },
  {
   "cell_type": "markdown",
   "id": "013d531c",
   "metadata": {
    "slideshow": {
     "slide_type": "slide"
    }
   },
   "source": [
    "## 2.2 Read in the labels"
   ]
  },
  {
   "cell_type": "code",
   "execution_count": 5,
   "id": "3d47dac9",
   "metadata": {
    "slideshow": {
     "slide_type": "fragment"
    }
   },
   "outputs": [],
   "source": [
    "label_np = np.array(readLbl(600 * len(radiuss),newDataDir+'labels.txt'))\n",
    "label_np_train = label_np[:train_size]\n",
    "label_np_test = label_np[train_size:]"
   ]
  },
  {
   "cell_type": "markdown",
   "id": "5329a9ea",
   "metadata": {
    "slideshow": {
     "slide_type": "slide"
    }
   },
   "source": [
    "## 2.3 Split into training set and testing set"
   ]
  },
  {
   "cell_type": "code",
   "execution_count": 6,
   "id": "bb6dcc36",
   "metadata": {
    "slideshow": {
     "slide_type": "fragment"
    }
   },
   "outputs": [],
   "source": [
    "vers_train = torch.tensor(vers[:train_size]).float()\n",
    "adjs_train = torch.tensor(adjs[:train_size]).float()\n",
    "nadjs_train = torch.nan_to_num(torch.tensor(Nadjs[:train_size]).float(),0,0,0)\n",
    "gMats_train = torch.tensor(gMats[:train_size]).float()\n",
    "label_train = torch.tensor(label_np_train).float()\n",
    "\n",
    "vers_test = torch.tensor(vers[train_size:]).float()\n",
    "adjs_test = torch.tensor(adjs[train_size:]).float()\n",
    "nadjs_test = torch.nan_to_num(torch.tensor(Nadjs[train_size:]).float(),0,0,0)\n",
    "gMats_test = torch.tensor(gMats[train_size:]).float()\n",
    "label_test = torch.tensor(label_np_test).float()\n",
    "\n",
    "label_mat_train = torch.tensor(np.where(igl.all_pairs_distances(label_np_train,label_np_train,False) > 0.5,0,1)).float()\n",
    "label_mat_test = torch.tensor(np.where(igl.all_pairs_distances(label_np_test,label_np_test,False) > 0.5,0,1)).float()"
   ]
  },
  {
   "cell_type": "markdown",
   "id": "58ac61b4",
   "metadata": {
    "slideshow": {
     "slide_type": "slide"
    }
   },
   "source": [
    "# 3. Training"
   ]
  },
  {
   "cell_type": "markdown",
   "id": "1b06f3bb",
   "metadata": {
    "slideshow": {
     "slide_type": "slide"
    }
   },
   "source": [
    "## 3.1 Hyperparameters for training"
   ]
  },
  {
   "cell_type": "code",
   "execution_count": 7,
   "id": "5af46682",
   "metadata": {
    "slideshow": {
     "slide_type": "fragment"
    }
   },
   "outputs": [],
   "source": [
    "contraGWs = [10,10,10,10]\n",
    "contraMWs = [10,10,10,10]\n",
    "atkGWs = [10,10,10,10]\n",
    "atkMWs = [10,10,10,K * 3 + 1]"
   ]
  },
  {
   "cell_type": "markdown",
   "id": "71e6cccc",
   "metadata": {
    "slideshow": {
     "slide_type": "slide"
    }
   },
   "source": [
    "## 3.2 Initialize neural networks"
   ]
  },
  {
   "cell_type": "code",
   "execution_count": 8,
   "id": "832b8db7",
   "metadata": {
    "slideshow": {
     "slide_type": "fragment"
    }
   },
   "outputs": [],
   "source": [
    "%run NNs.ipynb\n",
    "%run helpers_preproc.ipynb\n",
    "loadWeightDir = 'weights/2-21-1/'"
   ]
  },
  {
   "cell_type": "code",
   "execution_count": 9,
   "id": "1ac9d994",
   "metadata": {},
   "outputs": [],
   "source": [
    "load_model = True"
   ]
  },
  {
   "cell_type": "code",
   "execution_count": 10,
   "id": "98ced77c",
   "metadata": {},
   "outputs": [],
   "source": [
    "contraG = GCN(3,contraGWs)\n",
    "contraM = MLP(252* contraGWs[len(contraGWs)-1],contraMWs)\n",
    "atkG = GCN(3,atkGWs)\n",
    "atkM = MLP_atk(252* atkGWs[len(contraGWs)-1], 0.2, K, atkMWs)\n",
    "\n",
    "if load_model:\n",
    "    contraG.weights = torch.load(loadWeightDir + 'contraGw.pt')\n",
    "    contraM.weights = torch.load(loadWeightDir + 'contraMw.pt')\n",
    "    atkG.weights = torch.load(loadWeightDir + 'atkGw.pt')\n",
    "    atkM.weights = torch.load(loadWeightDir + 'atkMw.pt')"
   ]
  },
  {
   "cell_type": "markdown",
   "id": "d1510530",
   "metadata": {
    "slideshow": {
     "slide_type": "slide"
    }
   },
   "source": [
    "## 3.4 Extract node-level features from clean data"
   ]
  },
  {
   "cell_type": "code",
   "execution_count": 11,
   "id": "9ca6bd8a",
   "metadata": {
    "slideshow": {
     "slide_type": "fragment"
    }
   },
   "outputs": [],
   "source": [
    "feas_clean = extract_node_feature(vers_train,adjs_train)"
   ]
  },
  {
   "cell_type": "code",
   "execution_count": 12,
   "id": "f9ce8f8a",
   "metadata": {
    "slideshow": {
     "slide_type": "fragment"
    }
   },
   "outputs": [],
   "source": [
    "%run L.ipynb"
   ]
  },
  {
   "cell_type": "markdown",
   "id": "513d148f",
   "metadata": {
    "slideshow": {
     "slide_type": "slide"
    }
   },
   "source": [
    "## 3.5 Train atkNN😈 with contraNN🤠"
   ]
  },
  {
   "cell_type": "code",
   "execution_count": 13,
   "id": "f5d3147c",
   "metadata": {
    "slideshow": {
     "slide_type": "fragment"
    }
   },
   "outputs": [],
   "source": [
    "lr = 0.0001\n",
    "torch.set_printoptions(precision=10)"
   ]
  },
  {
   "cell_type": "markdown",
   "id": "f183d60a",
   "metadata": {},
   "source": [
    "Loss Defined to be: \n",
    "\n",
    "$\\text{-diffTypeMean + sameTypeMean} + 0.02 \\times \\sqrt{\\text{sameTypeStd}}$"
   ]
  },
  {
   "cell_type": "code",
   "execution_count": 14,
   "id": "4e942233",
   "metadata": {
    "scrolled": true,
    "slideshow": {
     "slide_type": "fragment"
    }
   },
   "outputs": [
    {
     "ename": "KeyboardInterrupt",
     "evalue": "",
     "output_type": "error",
     "traceback": [
      "\u001b[0;31m---------------------------------------------------------------------------\u001b[0m",
      "\u001b[0;31mKeyboardInterrupt\u001b[0m                         Traceback (most recent call last)",
      "Cell \u001b[0;32mIn[14], line 2\u001b[0m\n\u001b[1;32m      1\u001b[0m \u001b[38;5;66;03m#get clean features\u001b[39;00m\n\u001b[0;32m----> 2\u001b[0m feas_clean \u001b[38;5;241m=\u001b[39m \u001b[43mextract_node_feature\u001b[49m\u001b[43m(\u001b[49m\u001b[43mvers_train\u001b[49m\u001b[43m,\u001b[49m\u001b[43madjs_train\u001b[49m\u001b[43m)\u001b[49m \u001b[38;5;66;03m#grad on nothing\u001b[39;00m\n\u001b[1;32m      3\u001b[0m opt \u001b[38;5;241m=\u001b[39m optim\u001b[38;5;241m.\u001b[39mAdam(atkG\u001b[38;5;241m.\u001b[39mweights \u001b[38;5;241m+\u001b[39m atkM\u001b[38;5;241m.\u001b[39mweights \u001b[38;5;241m+\u001b[39m contraG\u001b[38;5;241m.\u001b[39mweights \u001b[38;5;241m+\u001b[39m contraM\u001b[38;5;241m.\u001b[39mweights, lr \u001b[38;5;241m=\u001b[39m lr)\n\u001b[1;32m      5\u001b[0m \u001b[38;5;28;01mfor\u001b[39;00m contraI \u001b[38;5;129;01min\u001b[39;00m \u001b[38;5;28mrange\u001b[39m(\u001b[38;5;241m100\u001b[39m):\n",
      "File \u001b[0;32m/var/folders/y9/sgsdqvs575j76jqnz728mwkh0000gn/T/ipykernel_23358/3404684369.py:2\u001b[0m, in \u001b[0;36mextract_node_feature\u001b[0;34m(ver_coords, adj)\u001b[0m\n\u001b[1;32m      1\u001b[0m \u001b[38;5;28;01mdef\u001b[39;00m \u001b[38;5;21mextract_node_feature\u001b[39m(ver_coords,adj):\u001b[38;5;66;03m#calculate all pairs distance (scaled adj matrix)\u001b[39;00m\n\u001b[0;32m----> 2\u001b[0m     pairDistance \u001b[38;5;241m=\u001b[39m \u001b[43mtorch\u001b[49m\u001b[38;5;241;43m.\u001b[39;49m\u001b[43mcdist\u001b[49m\u001b[43m(\u001b[49m\u001b[43mver_coords\u001b[49m\u001b[43m,\u001b[49m\u001b[43mver_coords\u001b[49m\u001b[43m,\u001b[49m\u001b[43mp\u001b[49m\u001b[43m \u001b[49m\u001b[38;5;241;43m=\u001b[39;49m\u001b[43m \u001b[49m\u001b[38;5;241;43m2\u001b[39;49m\u001b[43m)\u001b[49m\n\u001b[1;32m      3\u001b[0m     adj_scaled \u001b[38;5;241m=\u001b[39m pairDistance \u001b[38;5;241m*\u001b[39m adj\n\u001b[1;32m      5\u001b[0m     node_degs \u001b[38;5;241m=\u001b[39m torch\u001b[38;5;241m.\u001b[39msum(adj,dim \u001b[38;5;241m=\u001b[39m \u001b[38;5;241m1\u001b[39m)\n",
      "File \u001b[0;32m~/.conda/envs/TSM/lib/python3.10/site-packages/torch/functional.py:1183\u001b[0m, in \u001b[0;36mcdist\u001b[0;34m(x1, x2, p, compute_mode)\u001b[0m\n\u001b[1;32m   1180\u001b[0m     \u001b[38;5;28;01mreturn\u001b[39;00m handle_torch_function(\n\u001b[1;32m   1181\u001b[0m         cdist, (x1, x2), x1, x2, p\u001b[38;5;241m=\u001b[39mp, compute_mode\u001b[38;5;241m=\u001b[39mcompute_mode)\n\u001b[1;32m   1182\u001b[0m \u001b[38;5;28;01mif\u001b[39;00m compute_mode \u001b[38;5;241m==\u001b[39m \u001b[38;5;124m'\u001b[39m\u001b[38;5;124muse_mm_for_euclid_dist_if_necessary\u001b[39m\u001b[38;5;124m'\u001b[39m:\n\u001b[0;32m-> 1183\u001b[0m     \u001b[38;5;28;01mreturn\u001b[39;00m \u001b[43m_VF\u001b[49m\u001b[38;5;241;43m.\u001b[39;49m\u001b[43mcdist\u001b[49m\u001b[43m(\u001b[49m\u001b[43mx1\u001b[49m\u001b[43m,\u001b[49m\u001b[43m \u001b[49m\u001b[43mx2\u001b[49m\u001b[43m,\u001b[49m\u001b[43m \u001b[49m\u001b[43mp\u001b[49m\u001b[43m,\u001b[49m\u001b[43m \u001b[49m\u001b[38;5;28;43;01mNone\u001b[39;49;00m\u001b[43m)\u001b[49m  \u001b[38;5;66;03m# type: ignore[attr-defined]\u001b[39;00m\n\u001b[1;32m   1184\u001b[0m \u001b[38;5;28;01melif\u001b[39;00m compute_mode \u001b[38;5;241m==\u001b[39m \u001b[38;5;124m'\u001b[39m\u001b[38;5;124muse_mm_for_euclid_dist\u001b[39m\u001b[38;5;124m'\u001b[39m:\n\u001b[1;32m   1185\u001b[0m     \u001b[38;5;28;01mreturn\u001b[39;00m _VF\u001b[38;5;241m.\u001b[39mcdist(x1, x2, p, \u001b[38;5;241m1\u001b[39m)  \u001b[38;5;66;03m# type: ignore[attr-defined]\u001b[39;00m\n",
      "\u001b[0;31mKeyboardInterrupt\u001b[0m: "
     ]
    }
   ],
   "source": [
    "#get clean features\n",
    "feas_clean = extract_node_feature(vers_train,adjs_train) #grad on nothing\n",
    "opt = optim.Adam(atkG.weights + atkM.weights + contraG.weights + contraM.weights, lr = lr)\n",
    "\n",
    "for contraI in range(100):\n",
    "    trainLog = pt.PrettyTable()\n",
    "    trainLog.field_names = [\" \",\"Loss\", \"Same Mean\", \"Diff Mean\", \"Same STD\"]\n",
    "    \n",
    "    \n",
    "    opt.zero_grad()\n",
    "\n",
    "    #get poisoned vertex locations\n",
    "    poisonsByGroups = atkM.forward(atkG.forward(nadjs_train,feas_clean))\n",
    "    transformation = translate_by_group(gMats_train,\n",
    "                                        poisonsByGroups)\n",
    "    poisonedVers = vers_train + transformation\n",
    "        \n",
    "        \n",
    "    #extract poisoned features\n",
    "    feas_poisoned = extract_node_feature(poisonedVers,adjs_train) #grad on 😈\n",
    "\n",
    "    \n",
    "    #get contraNN's performance on poisoned feature with grads on 😈    \n",
    "    contraM.eval()\n",
    "    contraG.eval()\n",
    "    aPerfPoisoned, APP = loss(contraM.forward(contraG.forward(nadjs_train,feas_poisoned)),\n",
    "                         label_mat_train) #grad on 😈\n",
    "    \n",
    "    #get contraNN's performance on clean feature and poisoned feature with grads on 🤠\n",
    "    contraM.train()\n",
    "    contraG.train()\n",
    "    feas_poisoned_nograd = feas_poisoned.detach() #grad on nothing\n",
    "    \n",
    "    objFeasFromClean = contraM.forward(contraG.forward(nadjs_train,feas_clean))\n",
    "    objFeasFromPoisoned = contraM.forward(contraG.forward(nadjs_train,feas_poisoned_nograd))\n",
    "    \n",
    "    diffInFeas = torch.sum((objFeasFromClean - objFeasFromPoisoned)**2)\n",
    "    \n",
    "    cPerfClean, CPC = loss(objFeasFromClean,\n",
    "                      label_mat_train) #grad on 🤠\n",
    "    \n",
    "    cPerfPoisoned, CPP = loss(objFeasFromPoisoned,\n",
    "                         label_mat_train) #grad on 🤠\n",
    "    \n",
    "    \n",
    "    trainLog.add_row(['On Clean Data']+CPC)\n",
    "    trainLog.add_row(['On Poisoned Data']+CPP)\n",
    "\n",
    "    \n",
    "    overallLoss = -aPerfPoisoned + cPerfClean + 1 * cPerfPoisoned#  + diffInFeas\n",
    "    #overallLoss = -aPerfPoisoned\n",
    "    overallLoss.backward()\n",
    "    opt.step()\n",
    "    \n",
    "    print(trainLog)"
   ]
  },
  {
   "cell_type": "markdown",
   "id": "bff459eb",
   "metadata": {
    "collapsed": true,
    "slideshow": {
     "slide_type": "skip"
    }
   },
   "source": [
    "## 3.7 Seeing how it does on Test Data"
   ]
  },
  {
   "cell_type": "code",
   "execution_count": 17,
   "id": "2cee83e1",
   "metadata": {},
   "outputs": [],
   "source": [
    "# feas_clean_test = extract_node_feature(vers_test,adjs_test)\n",
    "\n",
    "# atkTest = atkM.forward(atkG.forward(nadjs_test,feas_clean_test))\n",
    "\n",
    "# poisonedVersTest = vers_test + translate_by_group(gMats_test,atkTest)\n",
    "        \n",
    "# feas_poisoned_test = extract_node_feature(poisonedVersTest,adjs_test)\n",
    "        \n",
    "# contraOutPoisonedTest = contraM.forward(contraG.forward(nadjs_test,feas_poisoned_test))\n",
    "# contraLossPoisonedTest,_ = loss(contraOutPoisonedTest,label_mat_test)\n",
    "\n",
    "# contraOutCleanTest = contraM.forward(contraG.forward(nadjs_test,feas_clean_test))\n",
    "# contraLossCleanTest,_ = loss(contraOutCleanTest,label_mat_test)\n",
    "\n",
    "# print(contraLossPoisonedTest)\n",
    "# print(contraOutCleanTest.shape)"
   ]
  },
  {
   "cell_type": "code",
   "execution_count": 18,
   "id": "f334336a",
   "metadata": {
    "slideshow": {
     "slide_type": "skip"
    }
   },
   "outputs": [
    {
     "name": "stdout",
     "output_type": "stream",
     "text": [
      "torch.Size([202500])\n",
      "torch.Size([202500])\n",
      "0.090103425 0.87272143\n",
      "torch.Size([202500])\n",
      "torch.Size([202500])\n",
      "0.046834268 0.8756918\n"
     ]
    },
    {
     "name": "stderr",
     "output_type": "stream",
     "text": [
      "/var/folders/y9/sgsdqvs575j76jqnz728mwkh0000gn/T/ipykernel_23358/1455725483.py:4: UserWarning: To copy construct from a tensor, it is recommended to use sourceTensor.clone().detach() or sourceTensor.clone().detach().requires_grad_(True), rather than torch.tensor(sourceTensor).\n",
      "  mask_same = torch.tensor(label_mat - torch.diag(torch.ones(size)),dtype=bool).flatten()\n",
      "/var/folders/y9/sgsdqvs575j76jqnz728mwkh0000gn/T/ipykernel_23358/1455725483.py:8: UserWarning: To copy construct from a tensor, it is recommended to use sourceTensor.clone().detach() or sourceTensor.clone().detach().requires_grad_(True), rather than torch.tensor(sourceTensor).\n",
      "  mask_diff = torch.tensor(1 - label_mat,dtype=bool).flatten()\n"
     ]
    },
    {
     "data": {
      "application/vnd.jupyter.widget-view+json": {
       "model_id": "3c347d22dcb5473aaafe12b6541845c5",
       "version_major": 2,
       "version_minor": 0
      },
      "image/png": "[encoded data removed]",
      "text/html": [
       "\n",
       "            <div style=\"display: inline-block;\">\n",
       "                <div class=\"jupyter-widgets widget-label\" style=\"text-align: center;\">\n",
       "                    Figure\n",
       "                </div>\n",
       "                <img src='data:image/png;base64,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' width=640.0/>\n",
       "            </div>\n",
       "        "
      ],
      "text/plain": [
       "Canvas(toolbar=Toolbar(toolitems=[('Home', 'Reset original view', 'home', 'home'), ('Back', 'Back to previous …"
      ]
     },
     "metadata": {},
     "output_type": "display_data"
    },
    {
     "data": {
      "application/vnd.jupyter.widget-view+json": {
       "model_id": "cf344e8cf29040128fd29eab821a71cb",
       "version_major": 2,
       "version_minor": 0
      },
      "image/png": "[encoded data removed]",
      "text/html": [
       "\n",
       "            <div style=\"display: inline-block;\">\n",
       "                <div class=\"jupyter-widgets widget-label\" style=\"text-align: center;\">\n",
       "                    Figure\n",
       "                </div>\n",
       "                <img src='data:image/png;base64,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' width=640.0/>\n",
       "            </div>\n",
       "        "
      ],
      "text/plain": [
       "Canvas(toolbar=Toolbar(toolitems=[('Home', 'Reset original view', 'home', 'home'), ('Back', 'Back to previous …"
      ]
     },
     "metadata": {},
     "output_type": "display_data"
    }
   ],
   "source": [
    "feas_clean_test = extract_node_feature(vers_test,adjs_test)\n",
    "\n",
    "atkTest = atkM.forward(atkG.forward(nadjs_test,feas_clean_test))\n",
    "\n",
    "poisonedVersTest = vers_test + translate_by_group(gMats_test,atkTest)\n",
    "\n",
    "feas_poisoned_test = extract_node_feature(poisonedVersTest,adjs_test)\n",
    "\n",
    "contraOutPoisonedTest = contraM.forward(contraG.forward(nadjs_test,feas_poisoned_test))\n",
    "\n",
    "contraOutCleanTest = contraM.forward(contraG.forward(nadjs_test,feas_clean_test))\n",
    "\n",
    "#display histograms\n",
    "display_hists(contraOutPoisonedTest, label_mat_test, test_size)\n",
    "display_hists(contraOutCleanTest, label_mat_test, test_size)"
   ]
  },
  {
   "cell_type": "code",
   "execution_count": null,
   "id": "672d51d9",
   "metadata": {},
   "outputs": [],
   "source": [
    "plt.clf()"
   ]
  },
  {
   "cell_type": "code",
   "execution_count": null,
   "id": "cf1d4cc8",
   "metadata": {
    "slideshow": {
     "slide_type": "skip"
    }
   },
   "outputs": [],
   "source": [
    "from mpl_toolkits.mplot3d import axes3d\n",
    "\n",
    "\n",
    "index_in_question = 1\n",
    "\n",
    "#Plot first clustered mesh\n",
    "dataPlot = vers[index_in_question]\n",
    "\n",
    "fig = plt.figure()\n",
    "ax = fig.add_subplot(121,projection='3d')\n",
    "\n",
    "ax.scatter(dataPlot[:,0], dataPlot[:,1], dataPlot[:,2], label=gLbls[index_in_question,:], c = gLbls[index_in_question,:], cmap = 'viridis',s = 3)\n",
    "ax.set_title('clean')\n",
    "\n",
    "plt.axis('off')\n",
    "\n",
    "#Plot second clustered point coud\n",
    "#get poison\n",
    "atkOut = atkM.forward(atkG.forward(nadjs_train,feas_clean))\n",
    "poisonedVers = vers_train + translate_by_group(gMats_train,atkOut).detach().numpy()\n",
    "\n",
    "print(poisonedVers.shape)\n",
    "#poisioedVers = np.zeros([1350,252,3])\n",
    "poisonedDataPlot = poisonedVers[index_in_question]\n",
    "\n",
    "ax = fig.add_subplot(122,projection='3d')\n",
    "\n",
    "ax.scatter(poisonedDataPlot[:,0], poisonedDataPlot[:,1], poisonedDataPlot[:,2], label=gLbls[index_in_question,:], c = gLbls[index_in_question,:], cmap = 'viridis', s = 3)\n",
    "ax.set_title('poisoned')\n",
    "\n",
    "plt.axis('off')\n",
    "\n",
    "plt.show()"
   ]
  },
  {
   "cell_type": "code",
   "execution_count": null,
   "id": "f511ee37",
   "metadata": {},
   "outputs": [],
   "source": [
    "# ax.axes.xaxis.set_ticklabels([])\n",
    "# ax.axes.yaxis.set_ticklabels([])\n",
    "# ax.axes.zaxis.set_ticklabels([])\n",
    "# ax.set_xlabel('X')\n",
    "# ax.set_ylabel('Y')\n",
    "# ax.set_zlabel('Z')"
   ]
  },
  {
   "cell_type": "code",
   "execution_count": null,
   "id": "72f970b0",
   "metadata": {},
   "outputs": [],
   "source": [
    "saveWeightsDir = 'weights/2-21safdds/'\n",
    "torch.save(contraG.weights, saveWeightsDir + 'contraGw.pt')\n",
    "torch.save(contraM.weights, saveWeightsDir + 'contraMw.pt')\n",
    "torch.save(atkG.weights, saveWeightsDir + 'atkGw.pt') \n",
    "torch.save(atkM.weights, saveWeightsDir + 'atkMw.pt')"
   ]
  },
  {
   "cell_type": "code",
   "execution_count": null,
   "id": "7202b262",
   "metadata": {},
   "outputs": [],
   "source": []
  }
 ],
 "metadata": {
  "kernelspec": {
   "display_name": "Python 3 (ipykernel)",
   "language": "python",
   "name": "python3"
  },
  "language_info": {
   "codemirror_mode": {
    "name": "ipython",
    "version": 3
   },
   "file_extension": ".py",
   "mimetype": "text/x-python",
   "name": "python",
   "nbconvert_exporter": "python",
   "pygments_lexer": "ipython3",
   "version": "3.10.9"
  }
 },
 "nbformat": 4,
 "nbformat_minor": 5
}
