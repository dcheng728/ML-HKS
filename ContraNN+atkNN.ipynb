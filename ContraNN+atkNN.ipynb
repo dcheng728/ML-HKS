{
 "cells": [
  {
   "cell_type": "code",
   "execution_count": 15,
   "id": "e9ab7b6e",
   "metadata": {},
   "outputs": [],
   "source": [
    "import torch.optim as optim\n",
    "import torch\n",
    "import numpy as np\n",
    "%matplotlib widget\n",
    "import matplotlib.pyplot as plt\n",
    "import random\n",
    "import os\n",
    "%run helpers_preproc.ipynb\n",
    "%run alternate_data.ipynb\n",
    "%run dataExpander.ipynb\n",
    "%run helpers_preproc.ipynb\n",
    "%run segmentation.ipynb"
   ]
  },
  {
   "cell_type": "markdown",
   "id": "4b2719b0",
   "metadata": {},
   "source": [
    "# Hyper Parameters"
   ]
  },
  {
   "cell_type": "code",
   "execution_count": 16,
   "id": "b34c00ab",
   "metadata": {},
   "outputs": [],
   "source": [
    "origDataDir = 'SHREC11/'\n",
    "newDataDir = 'SHREC11_plus/'\n",
    "radiuss = [0.0002,0.0004,0.1]"
   ]
  },
  {
   "cell_type": "markdown",
   "id": "684373cc",
   "metadata": {},
   "source": [
    "# 1. expand dataset and scramble"
   ]
  },
  {
   "cell_type": "code",
   "execution_count": 17,
   "id": "848dd975",
   "metadata": {},
   "outputs": [],
   "source": [
    "expand(origDataDir, newDataDir, radiuss)\n",
    "scramble(newDataDir, 10000,600 * len(radiuss))"
   ]
  },
  {
   "cell_type": "markdown",
   "id": "eca467ac",
   "metadata": {},
   "source": [
    "# 2. read in the dataset"
   ]
  },
  {
   "cell_type": "code",
   "execution_count": 20,
   "id": "45a15a15",
   "metadata": {},
   "outputs": [
    {
     "ename": "IndexError",
     "evalue": "index 250 is out of bounds for axis 0 with size 250",
     "output_type": "error",
     "traceback": [
      "\u001b[0;31m---------------------------------------------------------------------------\u001b[0m",
      "\u001b[0;31mIndexError\u001b[0m                                Traceback (most recent call last)",
      "Cell \u001b[0;32mIn[20], line 7\u001b[0m\n\u001b[1;32m      5\u001b[0m \u001b[38;5;28;01mfor\u001b[39;00m i \u001b[38;5;129;01min\u001b[39;00m \u001b[38;5;28mrange\u001b[39m(\u001b[38;5;241m600\u001b[39m \u001b[38;5;241m*\u001b[39m \u001b[38;5;28mlen\u001b[39m(radiuss)):\n\u001b[1;32m      6\u001b[0m     v, f \u001b[38;5;241m=\u001b[39m get_nodes(newDataDir \u001b[38;5;241m+\u001b[39m \u001b[38;5;124m'\u001b[39m\u001b[38;5;124mT\u001b[39m\u001b[38;5;124m'\u001b[39m \u001b[38;5;241m+\u001b[39m \u001b[38;5;28mstr\u001b[39m(i) \u001b[38;5;241m+\u001b[39m \u001b[38;5;124m'\u001b[39m\u001b[38;5;124m.obj\u001b[39m\u001b[38;5;124m'\u001b[39m)\n\u001b[0;32m----> 7\u001b[0m     grouped_v, labels \u001b[38;5;241m=\u001b[39m \u001b[43mK_mean_cluster\u001b[49m\u001b[43m(\u001b[49m\u001b[43mv\u001b[49m\u001b[43m,\u001b[49m\u001b[43m \u001b[49m\u001b[43mK\u001b[49m\u001b[43m)\u001b[49m\n\u001b[1;32m      8\u001b[0m     v_list\u001b[38;5;241m.\u001b[39mappend(grouped_v)\n\u001b[1;32m     11\u001b[0m \u001b[38;5;28mprint\u001b[39m(v_list[\u001b[38;5;241m0\u001b[39m])\n",
      "File \u001b[0;32m/var/folders/y9/sgsdqvs575j76jqnz728mwkh0000gn/T/ipykernel_5941/886429502.py:12\u001b[0m, in \u001b[0;36mK_mean_cluster\u001b[0;34m(v, K)\u001b[0m\n\u001b[1;32m      9\u001b[0m centroids, labels \u001b[38;5;241m=\u001b[39m scipy\u001b[38;5;241m.\u001b[39mcluster\u001b[38;5;241m.\u001b[39mvq\u001b[38;5;241m.\u001b[39mkmeans2(v, K, minit \u001b[38;5;241m=\u001b[39m \u001b[38;5;124m\"\u001b[39m\u001b[38;5;124mpoints\u001b[39m\u001b[38;5;124m\"\u001b[39m)\n\u001b[1;32m     11\u001b[0m \u001b[38;5;28;01mfor\u001b[39;00m i \u001b[38;5;129;01min\u001b[39;00m \u001b[38;5;28mrange\u001b[39m(\u001b[38;5;241m252\u001b[39m):\n\u001b[0;32m---> 12\u001b[0m     grouped_v[i] \u001b[38;5;241m=\u001b[39m np\u001b[38;5;241m.\u001b[39mappend(\u001b[43mv\u001b[49m\u001b[43m[\u001b[49m\u001b[43mi\u001b[49m\u001b[43m]\u001b[49m, labels[i])\n\u001b[1;32m     14\u001b[0m \u001b[38;5;28;01mreturn\u001b[39;00m grouped_v, labels\n",
      "\u001b[0;31mIndexError\u001b[0m: index 250 is out of bounds for axis 0 with size 250"
     ]
    }
   ],
   "source": [
    "## 2.1 read in v (252 x 3),f (...x...)\n",
    "K = 5\n",
    "v_list = []\n",
    "\n",
    "\n",
    "for i in range(600 * len(radiuss)):\n",
    "    v, f = get_nodes(newDataDir + 'T' + str(i) + '.obj')\n",
    "    \n",
    "    if v.shape[0] < 252:\n",
    "        pass\n",
    "    \n",
    "    grouped_v, labels = K_mean_cluster(v, K)\n",
    "    v_list.append(grouped_v)\n",
    "    \n",
    "    \n",
    "print(v_list[0])"
   ]
  },
  {
   "cell_type": "code",
   "execution_count": null,
   "id": "7a8d1c56",
   "metadata": {},
   "outputs": [],
   "source": [
    "## 2.2 cluster v,f and add group information to v (252 x 4)"
   ]
  },
  {
   "cell_type": "code",
   "execution_count": null,
   "id": "845660af",
   "metadata": {},
   "outputs": [],
   "source": []
  },
  {
   "cell_type": "code",
   "execution_count": null,
   "id": "f511ee37",
   "metadata": {},
   "outputs": [],
   "source": []
  },
  {
   "cell_type": "code",
   "execution_count": null,
   "id": "18cd6f3c",
   "metadata": {},
   "outputs": [],
   "source": []
  },
  {
   "cell_type": "code",
   "execution_count": null,
   "id": "ec4fa317",
   "metadata": {},
   "outputs": [],
   "source": []
  }
 ],
 "metadata": {
  "kernelspec": {
   "display_name": "Python 3 (ipykernel)",
   "language": "python",
   "name": "python3"
  },
  "language_info": {
   "codemirror_mode": {
    "name": "ipython",
    "version": 3
   },
   "file_extension": ".py",
   "mimetype": "text/x-python",
   "name": "python",
   "nbconvert_exporter": "python",
   "pygments_lexer": "ipython3",
   "version": "3.10.9"
  }
 },
 "nbformat": 4,
 "nbformat_minor": 5
}
