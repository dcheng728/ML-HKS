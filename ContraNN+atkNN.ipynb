{
 "cells": [
  {
   "cell_type": "code",
   "execution_count": 1,
   "id": "e9ab7b6e",
   "metadata": {},
   "outputs": [],
   "source": [
    "import torch.optim as optim\n",
    "import torch\n",
    "import numpy as np\n",
    "%matplotlib widget\n",
    "import matplotlib.pyplot as plt\n",
    "import random\n",
    "import os\n",
    "%run helpers_preproc.ipynb\n",
    "%run alternate_data.ipynb\n",
    "%run dataExpander.ipynb"
   ]
  },
  {
   "cell_type": "markdown",
   "id": "4b2719b0",
   "metadata": {},
   "source": [
    "# Hyper Parameters"
   ]
  },
  {
   "cell_type": "code",
   "execution_count": 2,
   "id": "b34c00ab",
   "metadata": {},
   "outputs": [],
   "source": [
    "origDataDir = 'SHREC11/'\n",
    "newDataDir = 'SHREC11_plus/'\n",
    "radiuss = [0.0002,0.0004,0.1]"
   ]
  },
  {
   "cell_type": "markdown",
   "id": "684373cc",
   "metadata": {},
   "source": [
    "# 1. expand dataset and scramble"
   ]
  },
  {
   "cell_type": "code",
   "execution_count": 8,
   "id": "848dd975",
   "metadata": {},
   "outputs": [],
   "source": [
    "expand(origDataDir, newDataDir, radiuss)\n",
    "scramble(newDataDir, 10000,600 * len(radiuss))"
   ]
  },
  {
   "cell_type": "markdown",
   "id": "eca467ac",
   "metadata": {},
   "source": [
    "# 2. read in the dataset"
   ]
  },
  {
   "cell_type": "code",
   "execution_count": null,
   "id": "45a15a15",
   "metadata": {},
   "outputs": [],
   "source": [
    "## 2.1 read in v (252 x 3),f (...x...)"
   ]
  },
  {
   "cell_type": "code",
   "execution_count": null,
   "id": "28e88543",
   "metadata": {},
   "outputs": [],
   "source": [
    "## 2.2 Split into training set and testing set"
   ]
  },
  {
   "cell_type": "code",
   "execution_count": null,
   "id": "7a8d1c56",
   "metadata": {},
   "outputs": [],
   "source": [
    "## 2.3 cluster v,f and add group information to v (252 x 4)"
   ]
  },
  {
   "cell_type": "code",
   "execution_count": null,
   "id": "845660af",
   "metadata": {},
   "outputs": [],
   "source": []
  },
  {
   "cell_type": "code",
   "execution_count": null,
   "id": "f511ee37",
   "metadata": {},
   "outputs": [],
   "source": []
  },
  {
   "cell_type": "code",
   "execution_count": null,
   "id": "18cd6f3c",
   "metadata": {},
   "outputs": [],
   "source": []
  },
  {
   "cell_type": "code",
   "execution_count": null,
   "id": "ec4fa317",
   "metadata": {},
   "outputs": [],
   "source": []
  }
 ],
 "metadata": {
  "kernelspec": {
   "display_name": "Python 3 (ipykernel)",
   "language": "python",
   "name": "python3"
  },
  "language_info": {
   "codemirror_mode": {
    "name": "ipython",
    "version": 3
   },
   "file_extension": ".py",
   "mimetype": "text/x-python",
   "name": "python",
   "nbconvert_exporter": "python",
   "pygments_lexer": "ipython3",
   "version": "3.10.9"
  }
 },
 "nbformat": 4,
 "nbformat_minor": 5
}
