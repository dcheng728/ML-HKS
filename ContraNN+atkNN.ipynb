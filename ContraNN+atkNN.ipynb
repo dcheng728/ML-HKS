{
 "cells": [
  {
   "cell_type": "code",
   "execution_count": 158,
   "id": "e9ab7b6e",
   "metadata": {
    "slideshow": {
     "slide_type": "slide"
    }
   },
   "outputs": [],
   "source": [
    "import torch.optim as optim\n",
    "import torch\n",
    "import numpy as np\n",
    "import matplotlib.pyplot as plt\n",
    "import random\n",
    "import os\n",
    "import prettytable as pt\n",
    "%run helpers_preproc.ipynb\n",
    "%matplotlib widget"
   ]
  },
  {
   "cell_type": "markdown",
   "id": "4b2719b0",
   "metadata": {
    "slideshow": {
     "slide_type": "skip"
    }
   },
   "source": [
    "# Hyper Parameters"
   ]
  },
  {
   "cell_type": "code",
   "execution_count": 159,
   "id": "b34c00ab",
   "metadata": {
    "slideshow": {
     "slide_type": "slide"
    }
   },
   "outputs": [],
   "source": [
    "origDataDir = 'SHREC11/'\n",
    "newDataDir = 'SHREC11_plus/'\n",
    "K = 5\n",
    "radiuss = [0.0002,0.0004,0.0008]\n",
    "train_size = 450 * len(radiuss)\n",
    "test_size = (600-450) * len(radiuss)"
   ]
  },
  {
   "cell_type": "markdown",
   "id": "684373cc",
   "metadata": {
    "slideshow": {
     "slide_type": "slide"
    }
   },
   "source": [
    "# 1. expand dataset and scramble"
   ]
  },
  {
   "cell_type": "code",
   "execution_count": 160,
   "id": "848dd975",
   "metadata": {
    "slideshow": {
     "slide_type": "fragment"
    }
   },
   "outputs": [],
   "source": [
    "expand(origDataDir, newDataDir, radiuss)\n",
    "scramble(newDataDir, 10000,600 * len(radiuss))"
   ]
  },
  {
   "cell_type": "markdown",
   "id": "eca467ac",
   "metadata": {
    "slideshow": {
     "slide_type": "slide"
    }
   },
   "source": [
    "# 2. read in the dataset"
   ]
  },
  {
   "cell_type": "markdown",
   "id": "51110c1a",
   "metadata": {
    "slideshow": {
     "slide_type": "slide"
    }
   },
   "source": [
    "## 2.1 read in v (252 x 3),f (...x...) and cluster"
   ]
  },
  {
   "cell_type": "code",
   "execution_count": 161,
   "id": "1428b3a4",
   "metadata": {
    "slideshow": {
     "slide_type": "fragment"
    }
   },
   "outputs": [
    {
     "name": "stderr",
     "output_type": "stream",
     "text": [
      "/var/folders/t4/vdzymfw562g8ml8ks_2b5l5r0000gn/T/ipykernel_14613/2399023897.py:12: RuntimeWarning: invalid value encountered in true_divide\n",
      "  normed_adj = adj / np.reshape(np.sum(adj,axis = 0),[252,1])\n"
     ]
    }
   ],
   "source": [
    "ver_list = []\n",
    "adj_list = []\n",
    "Nadj_list = []\n",
    "gMat_list = []\n",
    "gLbl_list = []\n",
    "\n",
    "for i in range(600 * len(radiuss)):\n",
    "    v, f = get_nodes(newDataDir + 'T' + str(i) + '.obj')\n",
    "    group_mat, group_labels = K_mean_cluster(v, K)\n",
    "    \n",
    "    adj = get_adj_from_f(f)            \n",
    "    normed_adj = adj / np.reshape(np.sum(adj,axis = 0),[252,1])\n",
    "    ver_list.append(v)\n",
    "    adj_list.append(adj)\n",
    "    Nadj_list.append(normed_adj)\n",
    "    gMat_list.append(group_mat)\n",
    "    gLbl_list.append(group_labels)\n",
    "    \n",
    "    \n",
    "vers = np.array(ver_list)\n",
    "adjs = np.array(adj_list)\n",
    "Nadjs = np.array(Nadj_list)\n",
    "gMats = np.array(gMat_list)\n",
    "gLbls = np.array(gLbl_list)"
   ]
  },
  {
   "cell_type": "markdown",
   "id": "013d531c",
   "metadata": {
    "slideshow": {
     "slide_type": "slide"
    }
   },
   "source": [
    "## 2.2 Read in the labels"
   ]
  },
  {
   "cell_type": "code",
   "execution_count": 162,
   "id": "3d47dac9",
   "metadata": {
    "slideshow": {
     "slide_type": "fragment"
    }
   },
   "outputs": [],
   "source": [
    "label_np = np.array(readLbl(600 * len(radiuss),newDataDir+'labels.txt'))\n",
    "label_np_train = label_np[:train_size]\n",
    "label_np_test = label_np[train_size:]"
   ]
  },
  {
   "cell_type": "markdown",
   "id": "5329a9ea",
   "metadata": {
    "slideshow": {
     "slide_type": "slide"
    }
   },
   "source": [
    "## 2.3 Split into training set and testing set"
   ]
  },
  {
   "cell_type": "code",
   "execution_count": 6,
   "id": "bb6dcc36",
   "metadata": {
    "slideshow": {
     "slide_type": "fragment"
    }
   },
   "outputs": [],
   "source": [
    "vers_train = torch.tensor(vers[:train_size]).float()\n",
    "adjs_train = torch.tensor(adjs[:train_size]).float()\n",
    "nadjs_train = torch.nan_to_num(torch.tensor(Nadjs[:train_size]).float(),0,0,0)\n",
    "gMats_train = torch.tensor(gMats[:train_size]).float()\n",
    "label_train = torch.tensor(label_np_train).float()\n",
    "\n",
    "vers_test = torch.tensor(vers[train_size:]).float()\n",
    "adjs_test = torch.tensor(adjs[train_size:]).float()\n",
    "nadjs_test = torch.nan_to_num(torch.tensor(Nadjs[train_size:]).float(),0,0,0)\n",
    "gMats_test = torch.tensor(gMats[train_size:]).float()\n",
    "label_test = torch.tensor(label_np_test).float()\n",
    "\n",
    "label_mat_train = torch.tensor(np.where(igl.all_pairs_distances(label_np_train,label_np_train,False) > 0.5,0,1)).float()\n",
    "label_mat_test = torch.tensor(np.where(igl.all_pairs_distances(label_np_test,label_np_test,False) > 0.5,0,1)).float()"
   ]
  },
  {
   "cell_type": "code",
   "execution_count": 164,
   "id": "fea6b4a9",
   "metadata": {
    "slideshow": {
     "slide_type": "skip"
    }
   },
   "outputs": [],
   "source": [
    "#detect_nan(label_mat_train)"
   ]
  },
  {
   "cell_type": "code",
   "execution_count": 165,
   "id": "3e64d719",
   "metadata": {
    "slideshow": {
     "slide_type": "skip"
    }
   },
   "outputs": [],
   "source": [
    "#label_mat_train"
   ]
  },
  {
   "cell_type": "code",
   "execution_count": 166,
   "id": "2ec635db",
   "metadata": {
    "slideshow": {
     "slide_type": "skip"
    }
   },
   "outputs": [],
   "source": [
    "#print message about training and testing dataset\n",
    "# print(vers_train.shape)\n",
    "# print(adjs_train.shape)\n",
    "# print(nadjs_train.shape)\n",
    "# print(gMats_train.shape)"
   ]
  },
  {
   "cell_type": "code",
   "execution_count": null,
   "id": "e5759f9c",
   "metadata": {
    "slideshow": {
     "slide_type": "skip"
    }
   },
   "outputs": [],
   "source": []
  },
  {
   "cell_type": "markdown",
   "id": "58ac61b4",
   "metadata": {
    "slideshow": {
     "slide_type": "slide"
    }
   },
   "source": [
    "# 3. Training"
   ]
  },
  {
   "cell_type": "markdown",
   "id": "1b06f3bb",
   "metadata": {
    "slideshow": {
     "slide_type": "slide"
    }
   },
   "source": [
    "## 3.1 Hyperparameters for training"
   ]
  },
  {
   "cell_type": "code",
   "execution_count": 10,
   "id": "5af46682",
   "metadata": {
    "slideshow": {
     "slide_type": "fragment"
    }
   },
   "outputs": [],
   "source": [
    "contraGWs = [5,5,5,5]\n",
    "contraMWs = [5,5,5,5]\n",
    "atkGWs = [5,5,5,5]\n",
    "atkMWs = [5,5,5,K * 3 + 1]"
   ]
  },
  {
   "cell_type": "markdown",
   "id": "71e6cccc",
   "metadata": {
    "slideshow": {
     "slide_type": "slide"
    }
   },
   "source": [
    "## 3.2 Initialize neural networks"
   ]
  },
  {
   "cell_type": "code",
   "execution_count": 84,
   "id": "832b8db7",
   "metadata": {
    "slideshow": {
     "slide_type": "fragment"
    }
   },
   "outputs": [],
   "source": [
    "%run NNs.ipynb\n",
    "%run helpers_preproc.ipynb\n",
    "contraG = GCN(3,contraGWs)\n",
    "contraM = MLP(252* contraGWs[len(contraGWs)-1],contraMWs)\n",
    "atkG = GCN(3,atkGWs)\n",
    "atkM = MLP_atk(252* atkGWs[len(contraGWs)-1], 10, K, atkMWs)"
   ]
  },
  {
   "cell_type": "code",
   "execution_count": null,
   "id": "6ee6d557",
   "metadata": {
    "slideshow": {
     "slide_type": "skip"
    }
   },
   "outputs": [],
   "source": []
  },
  {
   "cell_type": "markdown",
   "id": "d1510530",
   "metadata": {
    "slideshow": {
     "slide_type": "slide"
    }
   },
   "source": [
    "## 3.4 Extract node-level features from clean data"
   ]
  },
  {
   "cell_type": "code",
   "execution_count": 85,
   "id": "9ca6bd8a",
   "metadata": {
    "slideshow": {
     "slide_type": "fragment"
    }
   },
   "outputs": [],
   "source": [
    "feas_clean = extract_node_feature(vers_train,adjs_train)"
   ]
  },
  {
   "cell_type": "code",
   "execution_count": 86,
   "id": "f9ce8f8a",
   "metadata": {
    "slideshow": {
     "slide_type": "fragment"
    }
   },
   "outputs": [],
   "source": [
    "%run L.ipynb"
   ]
  },
  {
   "cell_type": "markdown",
   "id": "5bed8497",
   "metadata": {
    "slideshow": {
     "slide_type": "slide"
    }
   },
   "source": [
    "## 3.5 Feed clean data into contraNN🤠"
   ]
  },
  {
   "cell_type": "markdown",
   "id": "513d148f",
   "metadata": {
    "slideshow": {
     "slide_type": "slide"
    }
   },
   "source": [
    "## 3.6 Train atkNN😈 with contraNN🤠"
   ]
  },
  {
   "cell_type": "code",
   "execution_count": 87,
   "id": "f5d3147c",
   "metadata": {
    "slideshow": {
     "slide_type": "fragment"
    }
   },
   "outputs": [],
   "source": [
    "atkLR = 0.0001\n",
    "contraLR = 0.0001\n",
    "torch.set_printoptions(precision=10)"
   ]
  },
  {
   "cell_type": "code",
   "execution_count": 89,
   "id": "4e942233",
   "metadata": {
    "scrolled": true,
    "slideshow": {
     "slide_type": "fragment"
    }
   },
   "outputs": [
    {
     "name": "stdout",
     "output_type": "stream",
     "text": [
      "+------------------+----------+-----------+-----------+----------+\n",
      "|                  |   Loss   | Same Mean | Diff Mean | Same STD |\n",
      "+------------------+----------+-----------+-----------+----------+\n",
      "|  On Clean Data   | -0.28488 |  0.44845  |  0.78318  | 2.49189  |\n",
      "| On Poisoned Data | -0.13987 |  0.31523  |   0.4901  | 1.74997  |\n",
      "+------------------+----------+-----------+-----------+----------+\n",
      "+------------------+----------+-----------+-----------+----------+\n",
      "|                  |   Loss   | Same Mean | Diff Mean | Same STD |\n",
      "+------------------+----------+-----------+-----------+----------+\n",
      "|  On Clean Data   | -0.19289 |  0.28292  |   0.5075  | 1.58445  |\n",
      "| On Poisoned Data | -0.05171 |  0.12788  |  0.19412  | 0.72669  |\n",
      "+------------------+----------+-----------+-----------+----------+\n",
      "+------------------+----------+-----------+-----------+----------+\n",
      "|                  |   Loss   | Same Mean | Diff Mean | Same STD |\n",
      "+------------------+----------+-----------+-----------+----------+\n",
      "|  On Clean Data   | -0.07229 |  0.11556  |  0.20105  | 0.65996  |\n",
      "| On Poisoned Data | -0.01718 |  0.04859  |   0.0714  | 0.28123  |\n",
      "+------------------+----------+-----------+-----------+----------+\n",
      "+------------------+----------+-----------+-----------+----------+\n",
      "|                  |   Loss   | Same Mean | Diff Mean | Same STD |\n",
      "+------------------+----------+-----------+-----------+----------+\n",
      "|  On Clean Data   | -0.02857 |  0.04821  |  0.08231  | 0.27706  |\n",
      "| On Poisoned Data | -0.00714 |   0.0222  |  0.03187  | 0.12683  |\n",
      "+------------------+----------+-----------+-----------+----------+\n",
      "+------------------+----------+-----------+-----------+----------+\n",
      "|                  |   Loss   | Same Mean | Diff Mean | Same STD |\n",
      "+------------------+----------+-----------+-----------+----------+\n",
      "|  On Clean Data   | -0.01389 |  0.02388  |   0.0405  | 0.13661  |\n",
      "| On Poisoned Data | -0.00361 |  0.01266  |  0.01769  | 0.07123  |\n",
      "+------------------+----------+-----------+-----------+----------+\n",
      "+------------------+----------+-----------+-----------+----------+\n",
      "|                  |   Loss   | Same Mean | Diff Mean | Same STD |\n",
      "+------------------+----------+-----------+-----------+----------+\n",
      "|  On Clean Data   | -0.00792 |   0.0138  |   0.0233  | 0.07852  |\n",
      "| On Poisoned Data | -0.00209 |  0.00849  |  0.01153  | 0.04731  |\n",
      "+------------------+----------+-----------+-----------+----------+\n",
      "+------------------+----------+-----------+-----------+----------+\n",
      "|                  |   Loss   | Same Mean | Diff Mean | Same STD |\n",
      "+------------------+----------+-----------+-----------+----------+\n",
      "|  On Clean Data   |  -0.005  |  0.00896  |  0.01498  | 0.05082  |\n",
      "| On Poisoned Data | -0.00135 |  0.00635  |  0.00841  | 0.03519  |\n",
      "+------------------+----------+-----------+-----------+----------+\n",
      "+------------------+----------+-----------+-----------+----------+\n",
      "|                  |   Loss   | Same Mean | Diff Mean | Same STD |\n",
      "+------------------+----------+-----------+-----------+----------+\n",
      "|  On Clean Data   | -0.0034  |  0.00634  |  0.01046  | 0.03588  |\n",
      "| On Poisoned Data | -0.00096 |  0.00511  |  0.00663  | 0.02822  |\n",
      "+------------------+----------+-----------+-----------+----------+\n",
      "+------------------+----------+-----------+-----------+----------+\n",
      "|                  |   Loss   | Same Mean | Diff Mean | Same STD |\n",
      "+------------------+----------+-----------+-----------+----------+\n",
      "|  On Clean Data   | -0.00246 |  0.00478  |  0.00779  | 0.02707  |\n",
      "| On Poisoned Data | -0.00073 |  0.00432  |  0.00552  | 0.02382  |\n",
      "+------------------+----------+-----------+-----------+----------+\n",
      "+------------------+----------+-----------+-----------+----------+\n",
      "|                  |   Loss   | Same Mean | Diff Mean | Same STD |\n",
      "+------------------+----------+-----------+-----------+----------+\n",
      "|  On Clean Data   | -0.00187 |  0.00381  |  0.00611  | 0.02156  |\n",
      "| On Poisoned Data | -0.00059 |  0.00378  |  0.00478  | 0.02082  |\n",
      "+------------------+----------+-----------+-----------+----------+\n",
      "+------------------+----------+-----------+-----------+----------+\n",
      "|                  |   Loss   | Same Mean | Diff Mean | Same STD |\n",
      "+------------------+----------+-----------+-----------+----------+\n",
      "|  On Clean Data   | -0.00149 |  0.00315  |   0.005   | 0.01789  |\n",
      "| On Poisoned Data | -0.00049 |  0.00338  |  0.00425  | 0.01869  |\n",
      "+------------------+----------+-----------+-----------+----------+\n",
      "+------------------+----------+-----------+-----------+----------+\n",
      "|                  |   Loss   | Same Mean | Diff Mean | Same STD |\n",
      "+------------------+----------+-----------+-----------+----------+\n",
      "|  On Clean Data   | -0.00123 |  0.00271  |  0.00424  | 0.01537  |\n",
      "| On Poisoned Data | -0.00043 |  0.00309  |  0.00385  | 0.01707  |\n",
      "+------------------+----------+-----------+-----------+----------+\n",
      "+------------------+----------+-----------+-----------+----------+\n",
      "|                  |   Loss   | Same Mean | Diff Mean | Same STD |\n",
      "+------------------+----------+-----------+-----------+----------+\n",
      "|  On Clean Data   | -0.00104 |  0.00238  |   0.0037  | 0.01359  |\n",
      "| On Poisoned Data | -0.00038 |  0.00285  |  0.00355  | 0.01579  |\n",
      "+------------------+----------+-----------+-----------+----------+\n",
      "+------------------+----------+-----------+-----------+----------+\n",
      "|                  |   Loss   | Same Mean | Diff Mean | Same STD |\n",
      "+------------------+----------+-----------+-----------+----------+\n",
      "|  On Clean Data   | -0.00091 |  0.00214  |   0.0033  | 0.01223  |\n",
      "| On Poisoned Data | -0.00034 |  0.00267  |   0.0033  | 0.01482  |\n",
      "+------------------+----------+-----------+-----------+----------+\n",
      "+------------------+----------+-----------+-----------+----------+\n",
      "|                  |   Loss   | Same Mean | Diff Mean | Same STD |\n",
      "+------------------+----------+-----------+-----------+----------+\n",
      "|  On Clean Data   | -0.00081 |  0.00196  |  0.00299  | 0.01123  |\n",
      "| On Poisoned Data | -0.00031 |  0.00251  |   0.0031  | 0.01399  |\n",
      "+------------------+----------+-----------+-----------+----------+\n",
      "+------------------+----------+-----------+-----------+----------+\n",
      "|                  |   Loss   | Same Mean | Diff Mean | Same STD |\n",
      "+------------------+----------+-----------+-----------+----------+\n",
      "|  On Clean Data   | -0.00074 |  0.00182  |  0.00276  | 0.01043  |\n",
      "| On Poisoned Data | -0.00029 |  0.00238  |  0.00294  |  0.0133  |\n",
      "+------------------+----------+-----------+-----------+----------+\n",
      "+------------------+----------+-----------+-----------+----------+\n",
      "|                  |   Loss   | Same Mean | Diff Mean | Same STD |\n",
      "+------------------+----------+-----------+-----------+----------+\n",
      "|  On Clean Data   | -0.00067 |  0.00171  |  0.00258  | 0.00985  |\n",
      "| On Poisoned Data | -0.00027 |  0.00228  |   0.0028  | 0.01273  |\n",
      "+------------------+----------+-----------+-----------+----------+\n",
      "+------------------+----------+-----------+-----------+----------+\n",
      "|                  |   Loss   | Same Mean | Diff Mean | Same STD |\n",
      "+------------------+----------+-----------+-----------+----------+\n",
      "|  On Clean Data   | -0.00062 |  0.00162  |  0.00243  | 0.00938  |\n",
      "| On Poisoned Data | -0.00025 |  0.00219  |  0.00268  | 0.01228  |\n",
      "+------------------+----------+-----------+-----------+----------+\n",
      "+------------------+----------+-----------+-----------+----------+\n",
      "|                  |   Loss   | Same Mean | Diff Mean | Same STD |\n",
      "+------------------+----------+-----------+-----------+----------+\n",
      "|  On Clean Data   | -0.00058 |  0.00154  |  0.00231  |  0.009   |\n",
      "| On Poisoned Data | -0.00024 |  0.00211  |  0.00258  | 0.01186  |\n",
      "+------------------+----------+-----------+-----------+----------+\n",
      "+------------------+----------+-----------+-----------+----------+\n",
      "|                  |   Loss   | Same Mean | Diff Mean | Same STD |\n",
      "+------------------+----------+-----------+-----------+----------+\n",
      "|  On Clean Data   | -0.00055 |  0.00148  |   0.0022  | 0.00863  |\n",
      "| On Poisoned Data | -0.00023 |  0.00204  |   0.0025  | 0.01149  |\n",
      "+------------------+----------+-----------+-----------+----------+\n",
      "+------------------+----------+-----------+-----------+----------+\n",
      "|                  |   Loss   | Same Mean | Diff Mean | Same STD |\n",
      "+------------------+----------+-----------+-----------+----------+\n",
      "|  On Clean Data   | -0.00053 |  0.00143  |  0.00212  | 0.00837  |\n",
      "| On Poisoned Data | -0.00022 |  0.00198  |  0.00242  | 0.01117  |\n",
      "+------------------+----------+-----------+-----------+----------+\n"
     ]
    },
    {
     "name": "stdout",
     "output_type": "stream",
     "text": [
      "+------------------+----------+-----------+-----------+----------+\n",
      "|                  |   Loss   | Same Mean | Diff Mean | Same STD |\n",
      "+------------------+----------+-----------+-----------+----------+\n",
      "|  On Clean Data   | -0.0005  |  0.00138  |  0.00205  | 0.00814  |\n",
      "| On Poisoned Data | -0.00021 |  0.00192  |  0.00235  | 0.01086  |\n",
      "+------------------+----------+-----------+-----------+----------+\n",
      "+------------------+----------+-----------+-----------+----------+\n",
      "|                  |   Loss   | Same Mean | Diff Mean | Same STD |\n",
      "+------------------+----------+-----------+-----------+----------+\n",
      "|  On Clean Data   | -0.00048 |  0.00135  |  0.00199  | 0.00798  |\n",
      "| On Poisoned Data | -0.0002  |  0.00188  |  0.00229  | 0.01064  |\n",
      "+------------------+----------+-----------+-----------+----------+\n",
      "+------------------+----------+-----------+-----------+----------+\n",
      "|                  |   Loss   | Same Mean | Diff Mean | Same STD |\n",
      "+------------------+----------+-----------+-----------+----------+\n",
      "|  On Clean Data   | -0.00046 |  0.00132  |  0.00193  | 0.00779  |\n",
      "| On Poisoned Data | -0.00019 |  0.00184  |  0.00224  | 0.01044  |\n",
      "+------------------+----------+-----------+-----------+----------+\n",
      "+------------------+----------+-----------+-----------+----------+\n",
      "|                  |   Loss   | Same Mean | Diff Mean | Same STD |\n",
      "+------------------+----------+-----------+-----------+----------+\n",
      "|  On Clean Data   | -0.00045 |  0.00128  |  0.00188  | 0.00762  |\n",
      "| On Poisoned Data | -0.00019 |   0.0018  |  0.00219  | 0.01026  |\n",
      "+------------------+----------+-----------+-----------+----------+\n",
      "+------------------+----------+-----------+-----------+----------+\n",
      "|                  |   Loss   | Same Mean | Diff Mean | Same STD |\n",
      "+------------------+----------+-----------+-----------+----------+\n",
      "|  On Clean Data   | -0.00043 |  0.00126  |  0.00184  | 0.00751  |\n",
      "| On Poisoned Data | -0.00018 |  0.00177  |  0.00215  | 0.01007  |\n",
      "+------------------+----------+-----------+-----------+----------+\n",
      "+------------------+----------+-----------+-----------+----------+\n",
      "|                  |   Loss   | Same Mean | Diff Mean | Same STD |\n",
      "+------------------+----------+-----------+-----------+----------+\n",
      "|  On Clean Data   | -0.00042 |  0.00124  |  0.00181  | 0.00741  |\n",
      "| On Poisoned Data | -0.00018 |  0.00174  |  0.00212  | 0.00996  |\n",
      "+------------------+----------+-----------+-----------+----------+\n",
      "+------------------+----------+-----------+-----------+----------+\n",
      "|                  |   Loss   | Same Mean | Diff Mean | Same STD |\n",
      "+------------------+----------+-----------+-----------+----------+\n",
      "|  On Clean Data   | -0.00041 |  0.00122  |  0.00178  |  0.0073  |\n",
      "| On Poisoned Data | -0.00017 |  0.00172  |  0.00209  | 0.00982  |\n",
      "+------------------+----------+-----------+-----------+----------+\n",
      "+------------------+----------+-----------+-----------+----------+\n",
      "|                  |   Loss   | Same Mean | Diff Mean | Same STD |\n",
      "+------------------+----------+-----------+-----------+----------+\n",
      "|  On Clean Data   | -0.00039 |  0.00121  |  0.00175  |  0.0073  |\n",
      "| On Poisoned Data | -0.00018 |  0.00168  |  0.00205  | 0.00957  |\n",
      "+------------------+----------+-----------+-----------+----------+\n",
      "+------------------+----------+-----------+-----------+----------+\n",
      "|                  |   Loss   | Same Mean | Diff Mean | Same STD |\n",
      "+------------------+----------+-----------+-----------+----------+\n",
      "|  On Clean Data   | -0.00039 |  0.00119  |  0.00173  | 0.00716  |\n",
      "| On Poisoned Data | -0.00017 |  0.00167  |  0.00203  | 0.00952  |\n",
      "+------------------+----------+-----------+-----------+----------+\n",
      "+------------------+----------+-----------+-----------+----------+\n",
      "|                  |   Loss   | Same Mean | Diff Mean | Same STD |\n",
      "+------------------+----------+-----------+-----------+----------+\n",
      "|  On Clean Data   | -0.00039 |  0.00118  |   0.0017  | 0.00707  |\n",
      "| On Poisoned Data | -0.00016 |  0.00165  |   0.002   | 0.00944  |\n",
      "+------------------+----------+-----------+-----------+----------+\n",
      "+------------------+----------+-----------+-----------+----------+\n",
      "|                  |   Loss   | Same Mean | Diff Mean | Same STD |\n",
      "+------------------+----------+-----------+-----------+----------+\n",
      "|  On Clean Data   | -0.00038 |  0.00116  |  0.00168  |  0.007   |\n",
      "| On Poisoned Data | -0.00016 |  0.00163  |  0.00198  | 0.00937  |\n",
      "+------------------+----------+-----------+-----------+----------+\n",
      "+------------------+----------+-----------+-----------+----------+\n",
      "|                  |   Loss   | Same Mean | Diff Mean | Same STD |\n",
      "+------------------+----------+-----------+-----------+----------+\n",
      "|  On Clean Data   | -0.00037 |  0.00115  |  0.00167  | 0.00697  |\n",
      "| On Poisoned Data | -0.00016 |  0.00162  |  0.00196  | 0.00931  |\n",
      "+------------------+----------+-----------+-----------+----------+\n",
      "+------------------+----------+-----------+-----------+----------+\n",
      "|                  |   Loss   | Same Mean | Diff Mean | Same STD |\n",
      "+------------------+----------+-----------+-----------+----------+\n",
      "|  On Clean Data   | -0.00037 |  0.00114  |  0.00165  | 0.00692  |\n",
      "| On Poisoned Data | -0.00016 |  0.00161  |  0.00195  | 0.00921  |\n",
      "+------------------+----------+-----------+-----------+----------+\n",
      "+------------------+----------+-----------+-----------+----------+\n",
      "|                  |   Loss   | Same Mean | Diff Mean | Same STD |\n",
      "+------------------+----------+-----------+-----------+----------+\n",
      "|  On Clean Data   | -0.00036 |  0.00114  |  0.00164  | 0.00688  |\n",
      "| On Poisoned Data | -0.00015 |  0.00159  |  0.00193  | 0.00914  |\n",
      "+------------------+----------+-----------+-----------+----------+\n",
      "+------------------+----------+-----------+-----------+----------+\n",
      "|                  |   Loss   | Same Mean | Diff Mean | Same STD |\n",
      "+------------------+----------+-----------+-----------+----------+\n",
      "|  On Clean Data   | -0.00036 |  0.00113  |  0.00162  | 0.00681  |\n",
      "| On Poisoned Data | -0.00015 |  0.00158  |  0.00192  | 0.00909  |\n",
      "+------------------+----------+-----------+-----------+----------+\n",
      "+------------------+----------+-----------+-----------+----------+\n",
      "|                  |   Loss   | Same Mean | Diff Mean | Same STD |\n",
      "+------------------+----------+-----------+-----------+----------+\n",
      "|  On Clean Data   | -0.00035 |  0.00112  |  0.00161  | 0.00681  |\n",
      "| On Poisoned Data | -0.00015 |  0.00157  |   0.0019  | 0.00901  |\n",
      "+------------------+----------+-----------+-----------+----------+\n",
      "+------------------+----------+-----------+-----------+----------+\n",
      "|                  |   Loss   | Same Mean | Diff Mean | Same STD |\n",
      "+------------------+----------+-----------+-----------+----------+\n",
      "|  On Clean Data   | -0.00035 |  0.00111  |   0.0016  | 0.00675  |\n",
      "| On Poisoned Data | -0.00015 |  0.00156  |  0.00189  | 0.00896  |\n",
      "+------------------+----------+-----------+-----------+----------+\n",
      "+------------------+----------+-----------+-----------+----------+\n",
      "|                  |   Loss   | Same Mean | Diff Mean | Same STD |\n",
      "+------------------+----------+-----------+-----------+----------+\n",
      "|  On Clean Data   | -0.00035 |   0.0011  |  0.00159  |  0.0067  |\n",
      "| On Poisoned Data | -0.00015 |  0.00155  |  0.00188  |  0.0089  |\n",
      "+------------------+----------+-----------+-----------+----------+\n"
     ]
    },
    {
     "ename": "KeyboardInterrupt",
     "evalue": "",
     "output_type": "error",
     "traceback": [
      "\u001b[0;31m---------------------------------------------------------------------------\u001b[0m",
      "\u001b[0;31mKeyboardInterrupt\u001b[0m                         Traceback (most recent call last)",
      "\u001b[0;32m/var/folders/t4/vdzymfw562g8ml8ks_2b5l5r0000gn/T/ipykernel_14613/1058461893.py\u001b[0m in \u001b[0;36m<module>\u001b[0;34m\u001b[0m\n\u001b[1;32m     32\u001b[0m     \u001b[0mfeas_poisoned_nograd\u001b[0m \u001b[0;34m=\u001b[0m \u001b[0mfeas_poisoned\u001b[0m\u001b[0;34m.\u001b[0m\u001b[0mdetach\u001b[0m\u001b[0;34m(\u001b[0m\u001b[0;34m)\u001b[0m \u001b[0;31m#grad on nothing\u001b[0m\u001b[0;34m\u001b[0m\u001b[0;34m\u001b[0m\u001b[0m\n\u001b[1;32m     33\u001b[0m \u001b[0;34m\u001b[0m\u001b[0m\n\u001b[0;32m---> 34\u001b[0;31m     \u001b[0mobjFeasFromClean\u001b[0m \u001b[0;34m=\u001b[0m \u001b[0mcontraM\u001b[0m\u001b[0;34m.\u001b[0m\u001b[0mforward\u001b[0m\u001b[0;34m(\u001b[0m\u001b[0mcontraG\u001b[0m\u001b[0;34m.\u001b[0m\u001b[0mforward\u001b[0m\u001b[0;34m(\u001b[0m\u001b[0mnadjs_train\u001b[0m\u001b[0;34m,\u001b[0m\u001b[0mfeas_clean\u001b[0m\u001b[0;34m)\u001b[0m\u001b[0;34m)\u001b[0m\u001b[0;34m\u001b[0m\u001b[0;34m\u001b[0m\u001b[0m\n\u001b[0m\u001b[1;32m     35\u001b[0m     \u001b[0mobjFeasFromPoisoned\u001b[0m \u001b[0;34m=\u001b[0m \u001b[0mcontraM\u001b[0m\u001b[0;34m.\u001b[0m\u001b[0mforward\u001b[0m\u001b[0;34m(\u001b[0m\u001b[0mcontraG\u001b[0m\u001b[0;34m.\u001b[0m\u001b[0mforward\u001b[0m\u001b[0;34m(\u001b[0m\u001b[0mnadjs_train\u001b[0m\u001b[0;34m,\u001b[0m\u001b[0mfeas_poisoned_nograd\u001b[0m\u001b[0;34m)\u001b[0m\u001b[0;34m)\u001b[0m\u001b[0;34m\u001b[0m\u001b[0;34m\u001b[0m\u001b[0m\n\u001b[1;32m     36\u001b[0m \u001b[0;34m\u001b[0m\u001b[0m\n",
      "\u001b[0;32m/var/folders/t4/vdzymfw562g8ml8ks_2b5l5r0000gn/T/ipykernel_14613/1733509952.py\u001b[0m in \u001b[0;36mforward\u001b[0;34m(self, adjM, node_sigM)\u001b[0m\n\u001b[1;32m     16\u001b[0m         \u001b[0;31m#curr_output = self.dropout(curr_output)\u001b[0m\u001b[0;34m\u001b[0m\u001b[0;34m\u001b[0m\u001b[0m\n\u001b[1;32m     17\u001b[0m         \u001b[0;32mfor\u001b[0m \u001b[0mi\u001b[0m \u001b[0;32min\u001b[0m \u001b[0mrange\u001b[0m\u001b[0;34m(\u001b[0m\u001b[0;36m1\u001b[0m\u001b[0;34m,\u001b[0m\u001b[0mlen\u001b[0m\u001b[0;34m(\u001b[0m\u001b[0mself\u001b[0m\u001b[0;34m.\u001b[0m\u001b[0mwidths\u001b[0m\u001b[0;34m)\u001b[0m\u001b[0;34m)\u001b[0m\u001b[0;34m:\u001b[0m\u001b[0;34m\u001b[0m\u001b[0;34m\u001b[0m\u001b[0m\n\u001b[0;32m---> 18\u001b[0;31m             \u001b[0mcurr_output\u001b[0m \u001b[0;34m=\u001b[0m \u001b[0mtorch\u001b[0m\u001b[0;34m.\u001b[0m\u001b[0mtanh\u001b[0m\u001b[0;34m(\u001b[0m\u001b[0mtorch\u001b[0m\u001b[0;34m.\u001b[0m\u001b[0mmatmul\u001b[0m\u001b[0;34m(\u001b[0m\u001b[0mtorch\u001b[0m\u001b[0;34m.\u001b[0m\u001b[0mmatmul\u001b[0m\u001b[0;34m(\u001b[0m\u001b[0madjM\u001b[0m\u001b[0;34m,\u001b[0m\u001b[0mcurr_output\u001b[0m\u001b[0;34m)\u001b[0m\u001b[0;34m,\u001b[0m\u001b[0mself\u001b[0m\u001b[0;34m.\u001b[0m\u001b[0mweights\u001b[0m\u001b[0;34m[\u001b[0m\u001b[0mi\u001b[0m\u001b[0;34m]\u001b[0m\u001b[0;34m)\u001b[0m\u001b[0;34m)\u001b[0m \u001b[0;31m#nxc\u001b[0m\u001b[0;34m\u001b[0m\u001b[0;34m\u001b[0m\u001b[0m\n\u001b[0m\u001b[1;32m     19\u001b[0m \u001b[0;34m\u001b[0m\u001b[0m\n\u001b[1;32m     20\u001b[0m         \u001b[0;32mreturn\u001b[0m \u001b[0mcurr_output\u001b[0m\u001b[0;34m\u001b[0m\u001b[0;34m\u001b[0m\u001b[0m\n",
      "\u001b[0;31mKeyboardInterrupt\u001b[0m: "
     ]
    }
   ],
   "source": [
    "#get clean features\n",
    "feas_clean = extract_node_feature(vers_train,adjs_train) #grad on nothing\n",
    "opt = optim.Adam(atkG.weights + atkM.weights + contraG.weights + contraM.weights, lr = 0.001)\n",
    "\n",
    "for contraI in range(100):\n",
    "    trainLog = pt.PrettyTable()\n",
    "    trainLog.field_names = [\" \",\"Loss\", \"Same Mean\", \"Diff Mean\", \"Same STD\"]\n",
    "    \n",
    "    \n",
    "    opt.zero_grad()\n",
    "\n",
    "    #get poisoned vertex locations\n",
    "    poisonsByGroups = atkM.forward(atkG.forward(nadjs_train,feas_clean))\n",
    "    transformation = translate_by_group(gMats_train,\n",
    "                                        poisonsByGroups)\n",
    "    poisonedVers = vers_train + transformation\n",
    "        \n",
    "        \n",
    "    #extract poisoned features\n",
    "    feas_poisoned = extract_node_feature(poisonedVers,adjs_train) #grad on 😈\n",
    "\n",
    "    \n",
    "    #get contraNN's performance on poisoned feature with grads on 😈    \n",
    "    contraM.eval()\n",
    "    contraG.eval()\n",
    "    aPerfPoisoned, APP = loss(contraM.forward(contraG.forward(nadjs_train,feas_poisoned)),\n",
    "                         label_mat_train) #grad on 😈\n",
    "    \n",
    "    #get contraNN's performance on clean feature and poisoned feature with grads on 🤠\n",
    "    contraM.train()\n",
    "    contraG.train()\n",
    "    feas_poisoned_nograd = feas_poisoned.detach() #grad on nothing\n",
    "    \n",
    "    objFeasFromClean = contraM.forward(contraG.forward(nadjs_train,feas_clean))\n",
    "    objFeasFromPoisoned = contraM.forward(contraG.forward(nadjs_train,feas_poisoned_nograd))\n",
    "    \n",
    "    diffInFeas = torch.sum((objFeasFromClean - objFeasFromPoisoned)**2)\n",
    "    \n",
    "    cPerfClean, CPC = loss(objFeasFromClean,\n",
    "                      label_mat_train) #grad on 🤠\n",
    "    \n",
    "    cPerfPoisoned, CPP = loss(objFeasFromPoisoned,\n",
    "                         label_mat_train) #grad on 🤠\n",
    "    \n",
    "    \n",
    "    trainLog.add_row(['On Clean Data']+CPC)\n",
    "    trainLog.add_row(['On Poisoned Data']+CPP)\n",
    "\n",
    "    \n",
    "    overallLoss = -aPerfPoisoned + cPerfClean + cPerfPoisoned#  + diffInFeas\n",
    "    overallLoss.backward()\n",
    "    opt.step()\n",
    "    \n",
    "    print(trainLog)\n",
    "    \n",
    "    "
   ]
  },
  {
   "cell_type": "markdown",
   "id": "bff459eb",
   "metadata": {
    "collapsed": true,
    "slideshow": {
     "slide_type": "skip"
    }
   },
   "source": [
    "## 3.7 Seeing how it does on Test Data"
   ]
  },
  {
   "cell_type": "code",
   "execution_count": 82,
   "id": "2cee83e1",
   "metadata": {},
   "outputs": [
    {
     "name": "stdout",
     "output_type": "stream",
     "text": [
      "tensor(-0.5182853341, grad_fn=<AddBackward0>)\n",
      "tensor(-0.5151064396, grad_fn=<AddBackward0>)\n"
     ]
    }
   ],
   "source": [
    "feas_clean_test = extract_node_feature(vers_test,adjs_test)\n",
    "\n",
    "atkTest = atkM.forward(atkG.forward(nadjs_test,feas_clean_test))\n",
    "\n",
    "poisonedVersTest = vers_test + translate_by_group(gMats_test,atkTest)\n",
    "        \n",
    "feas_poisoned_test = extract_node_feature(poisonedVersTest,adjs_test)\n",
    "        \n",
    "contraOutPoisonedTest = contraM.forward(contraG.forward(nadjs_test,feas_poisoned_test))\n",
    "contraLossPoisonedTest,_ = loss(contraOutPoisonedTest,label_mat_test)\n",
    "\n",
    "contraOutCleanTest = contraM.forward(contraG.forward(nadjs_test,feas_clean_test))\n",
    "contraLossCleanTest,_ = loss(contraOutCleanTest,label_mat_test)\n",
    "\n",
    "print(contraLossPoisonedTest)\n",
    "print(contraLossCleanTest)"
   ]
  },
  {
   "cell_type": "code",
   "execution_count": null,
   "id": "c372b157",
   "metadata": {
    "collapsed": true
   },
   "outputs": [],
   "source": []
  },
  {
   "cell_type": "code",
   "execution_count": null,
   "id": "38c3877d",
   "metadata": {
    "collapsed": true
   },
   "outputs": [],
   "source": []
  },
  {
   "cell_type": "code",
   "execution_count": null,
   "id": "813aec57",
   "metadata": {
    "collapsed": true
   },
   "outputs": [],
   "source": []
  },
  {
   "cell_type": "code",
   "execution_count": 117,
   "id": "5d3800b0",
   "metadata": {},
   "outputs": [],
   "source": [
    "plt.clf()"
   ]
  },
  {
   "cell_type": "code",
   "execution_count": 128,
   "id": "f334336a",
   "metadata": {
    "slideshow": {
     "slide_type": "skip"
    }
   },
   "outputs": [
    {
     "name": "stderr",
     "output_type": "stream",
     "text": [
      "/var/folders/y9/sgsdqvs575j76jqnz728mwkh0000gn/T/ipykernel_14679/1998953040.py:5: UserWarning: To copy construct from a tensor, it is recommended to use sourceTensor.clone().detach() or sourceTensor.clone().detach().requires_grad_(True), rather than torch.tensor(sourceTensor).\n",
      "  mask_same = torch.tensor(label_mat - torch.diag(torch.ones(size)),dtype=bool).flatten()\n",
      "/var/folders/y9/sgsdqvs575j76jqnz728mwkh0000gn/T/ipykernel_14679/1998953040.py:9: UserWarning: To copy construct from a tensor, it is recommended to use sourceTensor.clone().detach() or sourceTensor.clone().detach().requires_grad_(True), rather than torch.tensor(sourceTensor).\n",
      "  mask_diff = torch.tensor(1 - label_mat,dtype=bool).flatten()\n"
     ]
    },
    {
     "data": {
      "application/vnd.jupyter.widget-view+json": {
       "model_id": "318dd507ef0446e2adff2327787b55aa",
       "version_major": 2,
       "version_minor": 0
      },
      "image/png": "[encoded data removed]",
      "text/html": [
       "\n",
       "            <div style=\"display: inline-block;\">\n",
       "                <div class=\"jupyter-widgets widget-label\" style=\"text-align: center;\">\n",
       "                    Figure\n",
       "                </div>\n",
       "                <img src='data:image/png;base64,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' width=640.0/>\n",
       "            </div>\n",
       "        "
      ],
      "text/plain": [
       "Canvas(toolbar=Toolbar(toolitems=[('Home', 'Reset original view', 'home', 'home'), ('Back', 'Back to previous …"
      ]
     },
     "metadata": {},
     "output_type": "display_data"
    },
    {
     "data": {
      "application/vnd.jupyter.widget-view+json": {
       "model_id": "76ba9833fe174ce8a7a64e66dbf1e875",
       "version_major": 2,
       "version_minor": 0
      },
      "image/png": "[encoded data removed]",
      "text/html": [
       "\n",
       "            <div style=\"display: inline-block;\">\n",
       "                <div class=\"jupyter-widgets widget-label\" style=\"text-align: center;\">\n",
       "                    Figure\n",
       "                </div>\n",
       "                <img src='data:image/png;base64,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' width=640.0/>\n",
       "            </div>\n",
       "        "
      ],
      "text/plain": [
       "Canvas(toolbar=Toolbar(toolitems=[('Home', 'Reset original view', 'home', 'home'), ('Back', 'Back to previous …"
      ]
     },
     "metadata": {},
     "output_type": "display_data"
    }
   ],
   "source": [
    "feas_clean_test = extract_node_feature(vers_test,adjs_test)\n",
    "\n",
    "atkTest = atkM.forward(atkG.forward(nadjs_test,feas_clean_test))\n",
    "\n",
    "poisonedVersTest = translate_by_group(vers_test,gMats_test,atkTest)\n",
    "\n",
    "feas_poisoned_test = extract_node_feature(poisonedVersTest,adjs_test)\n",
    "\n",
    "contraOutPoisonedTest = contraM.forward(contraG.forward(nadjs_test,feas_poisoned_test))\n",
    "contraLossPoisonedTest = lossAtkF(contraOutPoisonedTest,label_mat_test)\n",
    "\n",
    "contraOutCleanTest = contraM.forward(contraG.forward(nadjs_test,feas_clean_test))\n",
    "contraLossCleanTest = lossContraF(contraOutCleanTest,label_mat_test)\n",
    "\n",
    "#display histograms\n",
    "display_hist(contraOutPoisonedTest, label_mat_test, test_size)\n",
    "display_hist(contraOutCleanTest, label_mat_test, test_size)"
   ]
  },
  {
   "cell_type": "code",
   "execution_count": null,
   "id": "d98617b4",
   "metadata": {},
   "outputs": [],
   "source": []
  },
  {
   "cell_type": "code",
   "execution_count": null,
   "id": "5d3800b0",
   "metadata": {},
   "outputs": [],
   "source": [
    "plt.clf()"
   ]
  },
  {
   "cell_type": "code",
   "execution_count": null,
   "id": "f334336a",
   "metadata": {
    "slideshow": {
     "slide_type": "skip"
    }
   },
   "outputs": [],
   "source": [
    "from mpl_toolkits.mplot3d import axes3d\n",
    "\n",
    "\n",
    "index_in_question = 1\n",
    "\n",
    "#Plot first clustered mesh\n",
    "dataPlot = vers[index_in_question]\n",
    "\n",
    "fig = plt.figure()\n",
    "ax = fig.add_subplot(121,projection='3d')\n",
    "\n",
    "ax.scatter(dataPlot[:,0], dataPlot[:,1], dataPlot[:,2], label=gLbls[index_in_question,:], c = gLbls[index_in_question,:], cmap = 'viridis',s = 3)\n",
    "ax.set_title('clean')\n",
    "\n",
    "plt.axis('off')\n",
    "\n",
    "#Plot second clustered point coud\n",
    "#get poison\n",
    "atkOut = atkM.forward(atkG.forward(nadjs_train,feas_clean))\n",
    "poisonedVers = translate_by_group(vers_train,gMats_train,atkOut).detach().numpy()\n",
    "\n",
    "print(poisonedVers.shape)\n",
    "#poisioedVers = np.zeros([1350,252,3])\n",
    "poisonedDataPlot = vers[index_in_question] + poisonedVers[index_in_question]\n",
    "\n",
    "ax = fig.add_subplot(122,projection='3d')\n",
    "\n",
    "ax.scatter(poisonedDataPlot[:,0], poisonedDataPlot[:,1], poisonedDataPlot[:,2], label=gLbls[index_in_question,:], c = gLbls[index_in_question,:], cmap = 'viridis', s = 3)\n",
    "ax.set_title('poisoned')\n",
    "\n",
    "plt.axis('off')\n",
    "\n",
    "plt.show()"
   ]
  },
  {
   "cell_type": "code",
   "execution_count": null,
   "id": "f511ee37",
   "metadata": {},
   "outputs": [],
   "source": [
    "# ax.axes.xaxis.set_ticklabels([])\n",
    "# ax.axes.yaxis.set_ticklabels([])\n",
    "# ax.axes.zaxis.set_ticklabels([])\n",
    "# ax.set_xlabel('X')\n",
    "# ax.set_ylabel('Y')\n",
    "# ax.set_zlabel('Z')"
   ]
  }
 ],
 "metadata": {
  "kernelspec": {
   "display_name": "Python 3 (ipykernel)",
   "language": "python",
   "name": "python3"
  },
  "language_info": {
   "codemirror_mode": {
    "name": "ipython",
    "version": 3
   },
   "file_extension": ".py",
   "mimetype": "text/x-python",
   "name": "python",
   "nbconvert_exporter": "python",
   "pygments_lexer": "ipython3",
   "version": "3.10.9"
  }
 },
 "nbformat": 4,
 "nbformat_minor": 5
}
