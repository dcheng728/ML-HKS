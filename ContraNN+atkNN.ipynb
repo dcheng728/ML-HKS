{
 "cells": [
  {
   "cell_type": "code",
   "execution_count": 1,
   "id": "e9ab7b6e",
   "metadata": {
    "slideshow": {
     "slide_type": "slide"
    }
   },
   "outputs": [],
   "source": [
    "import torch.optim as optim\n",
    "import torch\n",
    "import numpy as np\n",
    "import matplotlib.pyplot as plt\n",
    "import random\n",
    "import os\n",
    "%run helpers_preproc.ipynb\n",
    "%matplotlib widget"
   ]
  },
  {
   "cell_type": "markdown",
   "id": "4b2719b0",
   "metadata": {
    "slideshow": {
     "slide_type": "skip"
    }
   },
   "source": [
    "# Hyper Parameters"
   ]
  },
  {
   "cell_type": "code",
   "execution_count": 2,
   "id": "b34c00ab",
   "metadata": {
    "slideshow": {
     "slide_type": "slide"
    }
   },
   "outputs": [],
   "source": [
    "origDataDir = 'SHREC11/'\n",
    "newDataDir = 'SHREC11_plus/'\n",
    "K = 5\n",
    "radiuss = [0.0002,0.0004,0.0008]\n",
    "train_size = 450 * len(radiuss)\n",
    "test_size = (600-450) * len(radiuss)"
   ]
  },
  {
   "cell_type": "markdown",
   "id": "684373cc",
   "metadata": {
    "slideshow": {
     "slide_type": "slide"
    }
   },
   "source": [
    "# 1. expand dataset and scramble"
   ]
  },
  {
   "cell_type": "code",
   "execution_count": 3,
   "id": "848dd975",
   "metadata": {
    "slideshow": {
     "slide_type": "fragment"
    }
   },
   "outputs": [],
   "source": [
    "expand(origDataDir, newDataDir, radiuss)\n",
    "scramble(newDataDir, 10000,600 * len(radiuss))"
   ]
  },
  {
   "cell_type": "markdown",
   "id": "eca467ac",
   "metadata": {
    "slideshow": {
     "slide_type": "slide"
    }
   },
   "source": [
    "# 2. read in the dataset"
   ]
  },
  {
   "cell_type": "markdown",
   "id": "51110c1a",
   "metadata": {
    "slideshow": {
     "slide_type": "slide"
    }
   },
   "source": [
    "## 2.1 read in v (252 x 3),f (...x...) and cluster"
   ]
  },
  {
   "cell_type": "code",
   "execution_count": 4,
   "id": "1428b3a4",
   "metadata": {
    "slideshow": {
     "slide_type": "fragment"
    }
   },
   "outputs": [
    {
     "name": "stderr",
     "output_type": "stream",
     "text": [
      "/Users/davidsoncheng/.conda/envs/TSP/lib/python3.10/site-packages/scipy/cluster/vq.py:602: UserWarning: One of the clusters is empty. Re-run kmeans with a different initialization.\n",
      "  warnings.warn(\"One of the clusters is empty. \"\n",
      "/var/folders/t4/vdzymfw562g8ml8ks_2b5l5r0000gn/T/ipykernel_7342/2399023897.py:12: RuntimeWarning: invalid value encountered in true_divide\n",
      "  normed_adj = adj / np.reshape(np.sum(adj,axis = 0),[252,1])\n"
     ]
    }
   ],
   "source": [
    "ver_list = []\n",
    "adj_list = []\n",
    "Nadj_list = []\n",
    "gMat_list = []\n",
    "gLbl_list = []\n",
    "\n",
    "for i in range(600 * len(radiuss)):\n",
    "    v, f = get_nodes(newDataDir + 'T' + str(i) + '.obj')\n",
    "    group_mat, group_labels = K_mean_cluster(v, K)\n",
    "    \n",
    "    adj = get_adj_from_f(f)            \n",
    "    normed_adj = adj / np.reshape(np.sum(adj,axis = 0),[252,1])\n",
    "    ver_list.append(v)\n",
    "    adj_list.append(adj)\n",
    "    Nadj_list.append(normed_adj)\n",
    "    gMat_list.append(group_mat)\n",
    "    gLbl_list.append(group_labels)\n",
    "    \n",
    "    \n",
    "vers = np.array(ver_list)\n",
    "adjs = np.array(adj_list)\n",
    "Nadjs = np.array(Nadj_list)\n",
    "gMats = np.array(gMat_list)\n",
    "gLbls = np.array(gLbl_list)"
   ]
  },
  {
   "cell_type": "markdown",
   "id": "013d531c",
   "metadata": {
    "slideshow": {
     "slide_type": "slide"
    }
   },
   "source": [
    "## 2.2 Read in the labels"
   ]
  },
  {
   "cell_type": "code",
   "execution_count": 5,
   "id": "3d47dac9",
   "metadata": {
    "slideshow": {
     "slide_type": "fragment"
    }
   },
   "outputs": [],
   "source": [
    "label_np = np.array(readLbl(600 * len(radiuss),newDataDir+'labels.txt'))\n",
    "label_np_train = label_np[:train_size]\n",
    "label_np_test = label_np[train_size:]"
   ]
  },
  {
   "cell_type": "markdown",
   "id": "5329a9ea",
   "metadata": {
    "slideshow": {
     "slide_type": "slide"
    }
   },
   "source": [
    "## 2.3 Split into training set and testing set"
   ]
  },
  {
   "cell_type": "code",
   "execution_count": 86,
   "id": "bb6dcc36",
   "metadata": {
    "slideshow": {
     "slide_type": "fragment"
    }
   },
   "outputs": [],
   "source": [
    "vers_train = torch.tensor(vers[:train_size]).float()\n",
    "adjs_train = torch.tensor(adjs[:train_size]).float()\n",
    "nadjs_train = torch.nan_to_num(torch.tensor(Nadjs[:train_size]).float(),0,0,0)\n",
    "gMats_train = torch.tensor(gMats[:train_size]).float()\n",
    "label_train = torch.tensor(label_np_train).float()\n",
    "\n",
    "vers_test = torch.tensor(vers[train_size:]).float()\n",
    "adjs_test = torch.tensor(adjs[train_size:]).float()\n",
    "nadjs_test = torch.nan_to_num(torch.tensor(Nadjs[train_size:]).float(),0,0,0)\n",
    "gMats_test = torch.tensor(gMats[train_size:]).float()\n",
    "label_test = torch.tensor(label_np_test).float()\n",
    "\n",
    "label_mat_train = torch.tensor(np.where(igl.all_pairs_distances(label_np_train,label_np_train,False) > 0.5,0,1)).float()\n",
    "label_mat_test = torch.tensor(np.where(igl.all_pairs_distances(label_np_test,label_np_test,False) > 0.5,0,1)).float()"
   ]
  },
  {
   "cell_type": "code",
   "execution_count": 7,
   "id": "fea6b4a9",
   "metadata": {
    "slideshow": {
     "slide_type": "skip"
    }
   },
   "outputs": [],
   "source": [
    "#detect_nan(label_mat_train)"
   ]
  },
  {
   "cell_type": "code",
   "execution_count": 8,
   "id": "3e64d719",
   "metadata": {
    "slideshow": {
     "slide_type": "skip"
    }
   },
   "outputs": [],
   "source": [
    "#label_mat_train"
   ]
  },
  {
   "cell_type": "code",
   "execution_count": 9,
   "id": "2ec635db",
   "metadata": {
    "slideshow": {
     "slide_type": "skip"
    }
   },
   "outputs": [],
   "source": [
    "#print message about training and testing dataset\n",
    "# print(vers_train.shape)\n",
    "# print(adjs_train.shape)\n",
    "# print(nadjs_train.shape)\n",
    "# print(gMats_train.shape)"
   ]
  },
  {
   "cell_type": "code",
   "execution_count": null,
   "id": "e5759f9c",
   "metadata": {
    "slideshow": {
     "slide_type": "skip"
    }
   },
   "outputs": [],
   "source": []
  },
  {
   "cell_type": "markdown",
   "id": "58ac61b4",
   "metadata": {
    "slideshow": {
     "slide_type": "slide"
    }
   },
   "source": [
    "# 3. Training"
   ]
  },
  {
   "cell_type": "markdown",
   "id": "1b06f3bb",
   "metadata": {
    "slideshow": {
     "slide_type": "slide"
    }
   },
   "source": [
    "## 3.1 Hyperparameters for training"
   ]
  },
  {
   "cell_type": "code",
   "execution_count": 92,
   "id": "5af46682",
   "metadata": {
    "slideshow": {
     "slide_type": "fragment"
    }
   },
   "outputs": [],
   "source": [
    "contraGWs = [20,20,20,20]\n",
    "contraMWs = [20,20,20,20]\n",
    "atkGWs = [20,20,20,20]\n",
    "atkMWs = [20,20,20,K * 3 + 1]"
   ]
  },
  {
   "cell_type": "markdown",
   "id": "71e6cccc",
   "metadata": {
    "slideshow": {
     "slide_type": "slide"
    }
   },
   "source": [
    "## 3.2 Initialize neural networks"
   ]
  },
  {
   "cell_type": "code",
   "execution_count": 93,
   "id": "832b8db7",
   "metadata": {
    "slideshow": {
     "slide_type": "fragment"
    }
   },
   "outputs": [],
   "source": [
    "%run NNs.ipynb\n",
    "%run helpers_preproc.ipynb\n",
    "contraG = GCN(3,contraGWs)\n",
    "contraM = MLP(252* contraGWs[len(contraGWs)-1],contraMWs)\n",
    "atkG = GCN(3,atkGWs)\n",
    "atkM = MLP_atk(252* atkGWs[len(contraGWs)-1], 1, K, atkMWs)"
   ]
  },
  {
   "cell_type": "code",
   "execution_count": null,
   "id": "6ee6d557",
   "metadata": {
    "slideshow": {
     "slide_type": "skip"
    }
   },
   "outputs": [],
   "source": []
  },
  {
   "cell_type": "markdown",
   "id": "d1510530",
   "metadata": {
    "slideshow": {
     "slide_type": "slide"
    }
   },
   "source": [
    "## 3.4 Extract node-level features from clean data"
   ]
  },
  {
   "cell_type": "code",
   "execution_count": 94,
   "id": "9ca6bd8a",
   "metadata": {
    "slideshow": {
     "slide_type": "fragment"
    }
   },
   "outputs": [],
   "source": [
    "feas_clean = extract_node_feature(vers_train,adjs_train)"
   ]
  },
  {
   "cell_type": "code",
   "execution_count": 95,
   "id": "f9ce8f8a",
   "metadata": {
    "slideshow": {
     "slide_type": "fragment"
    }
   },
   "outputs": [],
   "source": [
    "%run L.ipynb"
   ]
  },
  {
   "cell_type": "markdown",
   "id": "5bed8497",
   "metadata": {
    "slideshow": {
     "slide_type": "slide"
    }
   },
   "source": [
    "## 3.5 Feed clean data into contraNN🤠"
   ]
  },
  {
   "cell_type": "markdown",
   "id": "513d148f",
   "metadata": {
    "slideshow": {
     "slide_type": "slide"
    }
   },
   "source": [
    "## 3.6 Train atkNN😈 with contraNN🤠"
   ]
  },
  {
   "cell_type": "code",
   "execution_count": 96,
   "id": "f5d3147c",
   "metadata": {
    "slideshow": {
     "slide_type": "fragment"
    }
   },
   "outputs": [],
   "source": [
    "atkLR = 0.0001\n",
    "contraLR = 0.0001"
   ]
  },
  {
   "cell_type": "code",
   "execution_count": null,
   "id": "4e942233",
   "metadata": {
    "scrolled": true,
    "slideshow": {
     "slide_type": "fragment"
    }
   },
   "outputs": [
    {
     "name": "stdout",
     "output_type": "stream",
     "text": [
      "\t loss \t\t same mean \t diff mean \t same std\n",
      "A:😈 \t -0.00739 \t 0.08776 \t 0.10007 \t 0.49183\n",
      "A:😈 \t -0.00734 \t 0.08796 \t 0.10023 \t 0.49287\n",
      "A:😈 \t -0.00731 \t 0.08817 \t 0.10042 \t 0.49396\n",
      "A:😈 \t -0.00728 \t 0.08831 \t 0.10053 \t 0.49464\n",
      "A:😈 \t -0.00725 \t 0.08843 \t 0.10063 \t 0.49528\n",
      "A:😈 \t -0.00721 \t 0.08855 \t 0.10072 \t 0.49591\n",
      "A:😈 \t -0.00718 \t 0.08865 \t 0.10079 \t 0.49639\n",
      "A:😈 \t -0.00715 \t 0.08866 \t 0.10078 \t 0.49649\n",
      "A:😈 \t -0.00712 \t 0.08866 \t 0.10075 \t 0.49646\n",
      "A:😈 \t -0.00709 \t 0.08865 \t 0.10071 \t 0.49643\n",
      "\t loss \t\t same mean \t diff mean \t same std\n",
      "C:🤠 \t -0.00706 \t 0.08864 \t 0.10066 \t 0.49633\n",
      "C:🤠 \t -0.00933 \t 0.11439 \t 0.13012 \t 0.63961\n",
      "C:🤠 \t -0.01049 \t 0.12228 \t 0.13965 \t 0.68736\n",
      "C:🤠 \t -0.01103 \t 0.12549 \t 0.14362 \t 0.70953\n",
      "C:🤠 \t -0.01164 \t 0.13635 \t 0.15569 \t 0.77059\n",
      "C:🤠 \t -0.01236 \t 0.15221 \t 0.17314 \t 0.85697\n",
      "C:🤠 \t -0.0134 \t 0.16885 \t 0.19172 \t 0.9476\n",
      "C:🤠 \t -0.01462 \t 0.18122 \t 0.206 \t 1.01629\n",
      "C:🤠 \t -0.01551 \t 0.18267 \t 0.20846 \t 1.02801\n",
      "C:🤠 \t -0.0157 \t 0.17536 \t 0.20099 \t 0.99338\n",
      "\t loss \t\t same mean \t diff mean \t same std\n",
      "A:😈 \t -0.01558 \t 0.16928 \t 0.19449 \t 0.96374\n",
      "A:😈 \t -0.01555 \t 0.16954 \t 0.19473 \t 0.96507\n",
      "A:😈 \t -0.01552 \t 0.16955 \t 0.19472 \t 0.96513\n",
      "A:😈 \t -0.0155 \t 0.16954 \t 0.19468 \t 0.96509\n",
      "A:😈 \t -0.01548 \t 0.16956 \t 0.1947 \t 0.96522\n",
      "A:😈 \t -0.01546 \t 0.16966 \t 0.19477 \t 0.9657\n",
      "A:😈 \t -0.01544 \t 0.1698 \t 0.1949 \t 0.96644\n",
      "A:😈 \t -0.0154 \t 0.17001 \t 0.19508 \t 0.96749\n",
      "A:😈 \t -0.01536 \t 0.17027 \t 0.19532 \t 0.96885\n",
      "A:😈 \t -0.01532 \t 0.1706 \t 0.19562 \t 0.97054\n",
      "\t loss \t\t same mean \t diff mean \t same std\n",
      "C:🤠 \t -0.01526 \t 0.171 \t 0.19599 \t 0.9726\n",
      "C:🤠 \t -0.01537 \t 0.19673 \t 0.22312 \t 1.10248\n",
      "C:🤠 \t -0.01574 \t 0.20463 \t 0.23179 \t 1.14235\n",
      "C:🤠 \t -0.01611 \t 0.20084 \t 0.22819 \t 1.12359\n",
      "C:🤠 \t -0.01637 \t 0.19391 \t 0.22116 \t 1.08833\n",
      "C:🤠 \t -0.01669 \t 0.18784 \t 0.21509 \t 1.0564\n",
      "C:🤠 \t -0.01703 \t 0.18197 \t 0.20923 \t 1.02405\n",
      "C:🤠 \t -0.01738 \t 0.17734 \t 0.2047 \t 0.99719\n",
      "C:🤠 \t -0.01776 \t 0.17543 \t 0.20304 \t 0.98446\n",
      "C:🤠 \t -0.01835 \t 0.17777 \t 0.20607 \t 0.99525\n",
      "\t loss \t\t same mean \t diff mean \t same std\n",
      "A:😈 \t -0.01935 \t 0.18483 \t 0.21451 \t 1.03233\n",
      "A:😈 \t -0.01927 \t 0.18506 \t 0.21467 \t 1.03354\n",
      "A:😈 \t -0.01921 \t 0.18535 \t 0.21492 \t 1.03504\n",
      "A:😈 \t -0.01917 \t 0.18583 \t 0.21538 \t 1.03752\n",
      "A:😈 \t -0.01912 \t 0.18646 \t 0.21599 \t 1.0408\n",
      "A:😈 \t -0.01906 \t 0.18713 \t 0.21663 \t 1.04429\n",
      "A:😈 \t -0.01899 \t 0.18778 \t 0.21724 \t 1.04768\n",
      "A:😈 \t -0.01892 \t 0.18837 \t 0.21779 \t 1.05077\n",
      "A:😈 \t -0.01885 \t 0.18883 \t 0.21821 \t 1.05321\n",
      "A:😈 \t -0.01879 \t 0.18917 \t 0.21851 \t 1.05497\n",
      "\t loss \t\t same mean \t diff mean \t same std\n",
      "C:🤠 \t -0.01876 \t 0.18939 \t 0.21871 \t 1.05615\n",
      "C:🤠 \t -0.01966 \t 0.19071 \t 0.22101 \t 1.06323\n",
      "C:🤠 \t -0.02098 \t 0.20711 \t 0.2396 \t 1.1514\n",
      "C:🤠 \t -0.02225 \t 0.22142 \t 0.25594 \t 1.22649\n",
      "C:🤠 \t -0.02437 \t 0.24261 \t 0.28036 \t 1.33731\n",
      "C:🤠 \t -0.02624 \t 0.26266 \t 0.30332 \t 1.44179\n",
      "C:🤠 \t -0.02621 \t 0.26902 \t 0.30997 \t 1.474\n",
      "C:🤠 \t -0.02673 \t 0.27755 \t 0.31949 \t 1.5205\n",
      "C:🤠 \t -0.02832 \t 0.29187 \t 0.33618 \t 1.59909\n",
      "C:🤠 \t -0.02997 \t 0.30193 \t 0.34844 \t 1.6547\n",
      "\t loss \t\t same mean \t diff mean \t same std\n",
      "A:😈 \t -0.03103 \t 0.29852 \t 0.34592 \t 1.6371\n",
      "A:😈 \t -0.03095 \t 0.29869 \t 0.34602 \t 1.63796\n",
      "A:😈 \t -0.03087 \t 0.29806 \t 0.34528 \t 1.6346\n",
      "A:😈 \t -0.03082 \t 0.29786 \t 0.34501 \t 1.63349\n",
      "A:😈 \t -0.03074 \t 0.29822 \t 0.34531 \t 1.63542\n",
      "A:😈 \t -0.03069 \t 0.29867 \t 0.34573 \t 1.63786\n",
      "A:😈 \t -0.03062 \t 0.29896 \t 0.34597 \t 1.63945\n",
      "A:😈 \t -0.03052 \t 0.29912 \t 0.34604 \t 1.64033\n",
      "A:😈 \t -0.03044 \t 0.29917 \t 0.34601 \t 1.64059\n",
      "A:😈 \t -0.03039 \t 0.29917 \t 0.34596 \t 1.64064\n",
      "\t loss \t\t same mean \t diff mean \t same std\n",
      "C:🤠 \t -0.03035 \t 0.29928 \t 0.34604 \t 1.64125\n",
      "C:🤠 \t -0.02944 \t 0.28781 \t 0.33301 \t 1.57639\n",
      "C:🤠 \t -0.03338 \t 0.29335 \t 0.34281 \t 1.60779\n",
      "C:🤠 \t -0.034 \t 0.27855 \t 0.32784 \t 1.52876\n",
      "C:🤠 \t -0.03432 \t 0.26747 \t 0.31647 \t 1.46881\n",
      "C:🤠 \t -0.03648 \t 0.26788 \t 0.31907 \t 1.47099\n",
      "C:🤠 \t -0.03821 \t 0.26498 \t 0.31774 \t 1.45555\n",
      "C:🤠 \t -0.03862 \t 0.25579 \t 0.30847 \t 1.40632\n",
      "C:🤠 \t -0.03947 \t 0.25095 \t 0.30423 \t 1.3803\n",
      "C:🤠 \t -0.04077 \t 0.25049 \t 0.30503 \t 1.37719\n",
      "\t loss \t\t same mean \t diff mean \t same std\n",
      "A:😈 \t -0.04163 \t 0.248 \t 0.30325 \t 1.36294\n",
      "A:😈 \t -0.04139 \t 0.24795 \t 0.30297 \t 1.36267\n",
      "A:😈 \t -0.04122 \t 0.2484 \t 0.30328 \t 1.36511\n",
      "A:😈 \t -0.04112 \t 0.24859 \t 0.30337 \t 1.36613\n",
      "A:😈 \t -0.041 \t 0.24877 \t 0.30344 \t 1.36708\n",
      "A:😈 \t -0.04091 \t 0.24893 \t 0.30352 \t 1.36795\n",
      "A:😈 \t -0.04084 \t 0.24916 \t 0.3037 \t 1.36922\n",
      "A:😈 \t -0.04076 \t 0.24957 \t 0.30405 \t 1.37143\n",
      "A:😈 \t -0.04068 \t 0.2501 \t 0.30452 \t 1.37429\n",
      "A:😈 \t -0.0406 \t 0.25057 \t 0.30494 \t 1.37683\n",
      "\t loss \t\t same mean \t diff mean \t same std\n",
      "C:🤠 \t -0.04052 \t 0.25091 \t 0.30522 \t 1.37864\n",
      "C:🤠 \t -0.03882 \t 0.23344 \t 0.28512 \t 1.28544\n",
      "C:🤠 \t -0.04177 \t 0.25577 \t 0.31159 \t 1.40488\n",
      "C:🤠 \t -0.04133 \t 0.25567 \t 0.31104 \t 1.40376\n",
      "C:🤠 \t -0.04273 \t 0.25883 \t 0.31576 \t 1.4206\n",
      "C:🤠 \t -0.04419 \t 0.25846 \t 0.31684 \t 1.41893\n",
      "C:🤠 \t -0.04426 \t 0.25149 \t 0.30956 \t 1.38187\n",
      "C:🤠 \t -0.04465 \t 0.24868 \t 0.307 \t 1.36684\n",
      "C:🤠 \t -0.04598 \t 0.25266 \t 0.31252 \t 1.38782\n",
      "C:🤠 \t -0.04714 \t 0.25735 \t 0.31862 \t 1.41255\n",
      "\t loss \t\t same mean \t diff mean \t same std\n",
      "A:😈 \t -0.04754 \t 0.25895 \t 0.32069 \t 1.42081\n",
      "A:😈 \t -0.04745 \t 0.25822 \t 0.31984 \t 1.41688\n",
      "A:😈 \t -0.04726 \t 0.25853 \t 0.31997 \t 1.41856\n",
      "A:😈 \t -0.04714 \t 0.25848 \t 0.3198 \t 1.41828\n",
      "A:😈 \t -0.04705 \t 0.25821 \t 0.31942 \t 1.41679\n",
      "A:😈 \t -0.04695 \t 0.25843 \t 0.31956 \t 1.41799\n",
      "A:😈 \t -0.04693 \t 0.25868 \t 0.31981 \t 1.41937\n",
      "A:😈 \t -0.04685 \t 0.25893 \t 0.31998 \t 1.4207\n",
      "A:😈 \t -0.04676 \t 0.25916 \t 0.32014 \t 1.42194\n",
      "A:😈 \t -0.04669 \t 0.25941 \t 0.32033 \t 1.4233\n",
      "\t loss \t\t same mean \t diff mean \t same std\n",
      "C:🤠 \t -0.04662 \t 0.2598 \t 0.32068 \t 1.42546\n",
      "C:🤠 \t -0.04196 \t 0.23189 \t 0.28664 \t 1.279\n",
      "C:🤠 \t -0.04754 \t 0.26293 \t 0.32492 \t 1.44484\n",
      "C:🤠 \t -0.04777 \t 0.27066 \t 0.33327 \t 1.48454\n",
      "C:🤠 \t -0.04686 \t 0.26662 \t 0.3281 \t 1.46182\n",
      "C:🤠 \t -0.04922 \t 0.27153 \t 0.33564 \t 1.48816\n",
      "C:🤠 \t -0.0512 \t 0.2741 \t 0.34032 \t 1.50257\n",
      "C:🤠 \t -0.05103 \t 0.27033 \t 0.3362 \t 1.48313\n",
      "C:🤠 \t -0.05127 \t 0.27189 \t 0.33808 \t 1.49233\n",
      "C:🤠 \t -0.05305 \t 0.28122 \t 0.3497 \t 1.54308\n",
      "\t loss \t\t same mean \t diff mean \t same std\n",
      "A:😈 \t -0.05469 \t 0.29048 \t 0.3611 \t 1.59296\n",
      "A:😈 \t -0.05464 \t 0.2914 \t 0.36202 \t 1.5979\n",
      "A:😈 \t -0.05451 \t 0.29093 \t 0.36139 \t 1.59537\n",
      "A:😈 \t -0.05441 \t 0.29058 \t 0.36093 \t 1.5935\n",
      "A:😈 \t -0.05432 \t 0.29105 \t 0.36133 \t 1.59604\n",
      "A:😈 \t -0.05424 \t 0.29188 \t 0.36212 \t 1.60056\n",
      "A:😈 \t -0.05414 \t 0.29267 \t 0.36286 \t 1.60483\n",
      "A:😈 \t -0.05405 \t 0.29321 \t 0.36333 \t 1.60773\n",
      "A:😈 \t -0.05395 \t 0.29338 \t 0.36342 \t 1.60866\n",
      "A:😈 \t -0.05387 \t 0.29328 \t 0.36323 \t 1.60815\n",
      "\t loss \t\t same mean \t diff mean \t same std\n",
      "C:🤠 \t -0.05377 \t 0.29315 \t 0.36299 \t 1.60743\n",
      "C:🤠 \t -0.05204 \t 0.30014 \t 0.36862 \t 1.64482\n",
      "C:🤠 \t -0.05596 \t 0.32114 \t 0.39469 \t 1.75869\n",
      "C:🤠 \t -0.05578 \t 0.32482 \t 0.39839 \t 1.77841\n",
      "C:🤠 \t -0.05664 \t 0.32584 \t 0.40032 \t 1.78422\n",
      "C:🤠 \t -0.05893 \t 0.32823 \t 0.40514 \t 1.79749\n",
      "C:🤠 \t -0.06043 \t 0.32893 \t 0.40737 \t 1.80142\n",
      "C:🤠 \t -0.06097 \t 0.32968 \t 0.4087 \t 1.80563\n",
      "C:🤠 \t -0.06219 \t 0.33485 \t 0.41537 \t 1.83398\n",
      "C:🤠 \t -0.0642 \t 0.34441 \t 0.42747 \t 1.88624\n",
      "\t loss \t\t same mean \t diff mean \t same std\n",
      "A:😈 \t -0.06623 \t 0.35487 \t 0.44053 \t 1.94334\n",
      "A:😈 \t -0.06635 \t 0.35728 \t 0.44319 \t 1.95643\n",
      "A:😈 \t -0.06602 \t 0.35719 \t 0.44277 \t 1.95597\n",
      "A:😈 \t -0.06594 \t 0.35601 \t 0.44145 \t 1.94957\n",
      "A:😈 \t -0.06588 \t 0.35573 \t 0.44109 \t 1.94806\n",
      "A:😈 \t -0.06571 \t 0.35658 \t 0.44181 \t 1.95264\n",
      "A:😈 \t -0.06554 \t 0.35778 \t 0.44291 \t 1.95917\n",
      "A:😈 \t -0.06542 \t 0.35876 \t 0.44383 \t 1.96452\n",
      "A:😈 \t -0.06534 \t 0.35942 \t 0.44444 \t 1.9681\n",
      "A:😈 \t -0.0652 \t 0.35984 \t 0.44475 \t 1.97036\n",
      "\t loss \t\t same mean \t diff mean \t same std\n",
      "C:🤠 \t -0.06505 \t 0.35999 \t 0.44475 \t 1.97117\n",
      "C:🤠 \t -0.06207 \t 0.33387 \t 0.41423 \t 1.82925\n",
      "C:🤠 \t -0.06824 \t 0.37209 \t 0.46072 \t 2.03881\n",
      "C:🤠 \t -0.07053 \t 0.38694 \t 0.47867 \t 2.11984\n",
      "C:🤠 \t -0.07564 \t 0.40491 \t 0.5027 \t 2.21564\n",
      "C:🤠 \t -0.07876 \t 0.41713 \t 0.51869 \t 2.28056\n",
      "C:🤠 \t -0.08353 \t 0.44193 \t 0.54961 \t 2.4148\n",
      "C:🤠 \t -0.08694 \t 0.46716 \t 0.57962 \t 2.55211\n",
      "C:🤠 \t -0.08692 \t 0.48391 \t 0.59726 \t 2.64364\n",
      "C:🤠 \t -0.08944 \t 0.49776 \t 0.61439 \t 2.71912\n",
      "\t loss \t\t same mean \t diff mean \t same std\n",
      "A:😈 \t -0.09261 \t 0.50458 \t 0.62475 \t 2.75607\n",
      "A:😈 \t -0.09306 \t 0.50532 \t 0.62598 \t 2.76003\n",
      "A:😈 \t -0.09219 \t 0.50651 \t 0.62636 \t 2.76656\n",
      "A:😈 \t -0.09208 \t 0.50575 \t 0.62546 \t 2.76249\n"
     ]
    },
    {
     "name": "stdout",
     "output_type": "stream",
     "text": [
      "A:😈 \t -0.09192 \t 0.50615 \t 0.62572 \t 2.76469\n",
      "A:😈 \t -0.09164 \t 0.50746 \t 0.62682 \t 2.77179\n",
      "A:😈 \t -0.09114 \t 0.50859 \t 0.62752 \t 2.77797\n",
      "A:😈 \t -0.09071 \t 0.509 \t 0.62751 \t 2.78019\n",
      "A:😈 \t -0.09042 \t 0.50897 \t 0.62719 \t 2.78003\n",
      "A:😈 \t -0.09016 \t 0.5096 \t 0.6276 \t 2.78344\n",
      "\t loss \t\t same mean \t diff mean \t same std\n",
      "C:🤠 \t -0.08989 \t 0.51101 \t 0.62881 \t 2.79113\n",
      "C:🤠 \t -0.07768 \t 0.47236 \t 0.57585 \t 2.58079\n",
      "C:🤠 \t -0.08573 \t 0.49321 \t 0.60588 \t 2.69405\n",
      "C:🤠 \t -0.08629 \t 0.49013 \t 0.60319 \t 2.67726\n",
      "C:🤠 \t -0.0939 \t 0.52686 \t 0.64954 \t 2.87797\n",
      "C:🤠 \t -0.09334 \t 0.5353 \t 0.65789 \t 2.92465\n",
      "C:🤠 \t -0.09421 \t 0.53761 \t 0.66118 \t 2.93702\n"
     ]
    }
   ],
   "source": [
    "feas_clean = extract_node_feature(vers_train,adjs_train)\n",
    "\n",
    "for contraI in range(100):\n",
    "    optAtk = optim.Adam(atkG.weights + atkM.weights,lr = atkLR)\n",
    "    \n",
    "    print(\"\\t loss \\t\\t same mean \\t diff mean \\t same std\")\n",
    "\n",
    "    for atkI in range(10):\n",
    "        optAtk.zero_grad()\n",
    "        atkOut = atkM.forward(atkG.forward(nadjs_train,feas_clean))\n",
    "        poisonedVers = translate_by_group(vers_train,gMats_train,atkOut)\n",
    "\n",
    "        feas_poisoned = extract_node_feature(poisonedVers,adjs_train)\n",
    "\n",
    "        contraOutPoisoned = contraM.forward(contraG.forward(nadjs_train,feas_poisoned))\n",
    "        contraLossPoisoned = lossAtkF(contraOutPoisoned,label_mat_train)\n",
    "\n",
    "        contraLossPoisoned.backward()\n",
    "        optAtk.step()\n",
    "        \n",
    "    optContra = optim.Adam(contraG.weights + contraM.weights,lr = contraLR)\n",
    "    print(\"\\t loss \\t\\t same mean \\t diff mean \\t same std\")\n",
    "        \n",
    "    for contraI in range(10):\n",
    "        optContra.zero_grad()\n",
    "        \n",
    "#         atkOutFlat1 = atkM.forward(atkG.forward(nadjs_train,feas_clean)) * max_poison\n",
    "#         atkOut1 = torch.reshape(atkOutFlat1,[train_size,K,3])\n",
    "        atkOut1 = atkM.forward(atkG.forward(nadjs_train,feas_clean))\n",
    "        poisonedVers1 = translate_by_group(vers_train,gMats_train,atkOut1)\n",
    "        \n",
    "        feas_poisoned1 = extract_node_feature(poisonedVers1,adjs_train)\n",
    "        \n",
    "        contraOutPoisoned1 = contraM.forward(contraG.forward(nadjs_train,feas_poisoned1))\n",
    "        contraLossPoisoned1 = lossContraF(contraOutPoisoned1,label_mat_train)\n",
    "    \n",
    "        contraLossPoisoned1.backward()\n",
    "        optContra.step()"
   ]
  },
  {
   "cell_type": "markdown",
   "id": "8ee2c0b0",
   "metadata": {
    "collapsed": true,
    "slideshow": {
     "slide_type": "skip"
    }
   },
   "source": [
    "## 3.7 Seeing how it does on Test Data"
   ]
  },
  {
   "cell_type": "code",
   "execution_count": 87,
   "id": "2cee83e1",
   "metadata": {},
   "outputs": [
    {
     "name": "stdout",
     "output_type": "stream",
     "text": [
      "torch.Size([450, 5, 3])\n",
      "torch.Size([450, 252, 3])\n",
      "torch.Size([450, 252, 5])\n",
      "C:🤠 \t -0.15567 \t 1.09101 \t 1.30633 \t 5.96409\n",
      "C:🤠 \t -0.09521 \t 0.27421 \t 0.38457 \t 1.51418\n"
     ]
    }
   ],
   "source": [
    "feas_clean_test = extract_node_feature(vers_test,adjs_test)\n",
    "\n",
    "atkTest = atkM.forward(atkG.forward(nadjs_test,feas_clean_test))\n",
    "print(atkTest.shape)\n",
    "print(vers_test.shape)\n",
    "print(gMats_test.shape)\n",
    "\n",
    "poisonedVersTest = translate_by_group(vers_test,gMats_test,atkTest)\n",
    "        \n",
    "feas_poisoned_test = extract_node_feature(poisonedVersTest,adjs_test)\n",
    "        \n",
    "contraOutPoisonedTest = contraM.forward(contraG.forward(nadjs_test,feas_poisoned_test))\n",
    "contraLossPoisonedTest = lossContraF(contraOutPoisonedTest,label_mat_test)\n",
    "\n",
    "contraOutCleanTest = contraM.forward(contraG.forward(nadjs_test,feas_clean_test))\n",
    "contraLossCleanTest = lossContraF(contraOutCleanTest,label_mat_test)"
   ]
  },
  {
   "cell_type": "code",
   "execution_count": null,
   "id": "c372b157",
   "metadata": {
    "collapsed": true
   },
   "outputs": [],
   "source": []
  },
  {
   "cell_type": "code",
   "execution_count": null,
   "id": "38c3877d",
   "metadata": {
    "collapsed": true
   },
   "outputs": [],
   "source": []
  },
  {
   "cell_type": "code",
   "execution_count": null,
   "id": "813aec57",
   "metadata": {
    "collapsed": true
   },
   "outputs": [],
   "source": []
  },
  {
   "cell_type": "code",
   "execution_count": 24,
   "id": "5d3800b0",
   "metadata": {},
   "outputs": [],
   "source": [
    "plt.clf()"
   ]
  },
  {
   "cell_type": "code",
   "execution_count": 91,
   "id": "f334336a",
   "metadata": {
    "slideshow": {
     "slide_type": "skip"
    }
   },
   "outputs": [
    {
     "name": "stdout",
     "output_type": "stream",
     "text": [
      "(1350, 252, 3)\n"
     ]
    },
    {
     "data": {
      "application/vnd.jupyter.widget-view+json": {
       "model_id": "278a7563c4bc4672b7ce4e051a90d7a5",
       "version_major": 2,
       "version_minor": 0
      },
      "image/png": "[encoded data removed]",
      "text/html": [
       "\n",
       "            <div style=\"display: inline-block;\">\n",
       "                <div class=\"jupyter-widgets widget-label\" style=\"text-align: center;\">\n",
       "                    Figure\n",
       "                </div>\n",
       "                <img src='data:image/png;base64,iVBORw0KGgoAAAANSUhEUgAAAoAAAAHgCAYAAAA10dzkAAAAOXRFWHRTb2Z0d2FyZQBNYXRwbG90bGliIHZlcnNpb24zLjUuMiwgaHR0cHM6Ly9tYXRwbG90bGliLm9yZy8qNh9FAAAACXBIWXMAAA9hAAAPYQGoP6dpAACMfUlEQVR4nOzdd5hcZ3n38e8p02d7711a9d6bJbnIveASsDGmhGADCSRAIC8tpBIIgYSeggHT3G2McZcsWb2u+kpabe99ZqfPOef9Y6SV17uSV3LDnvtzXb4u786ZM2fG3md+5yn3o1iWZSGEEEIIIZKG+k5fgBBCCCGEeHtJABRCCCGESDISAIUQQgghkowEQCGEEEKIJCMBUAghhBAiyUgAFEIIIYRIMhIAhRBCCCGSjARAIYQQQogkIwFQCCGEECLJSAAUQgghhEgyEgCFEEIIIZKMBEAhhBBCiCQjAVAIIYQQIslIABRCCCGESDISAIUQQgghkowEQCGEEEKIJCMBUAghhBAiyUgAFEIIIYRIMhIAhRBCCCGSjARAIYQQQogkIwFQCCGEECLJSAAUQgghhEgyEgCFEEIIIZKMBEAhhBBCiCQjAVAIIYQQIslIABRCCCGESDISAIUQQgghkowEQCGEEEKIJCMBUAghhBAiyUgAFEIIIYRIMhIAhRBCCCGSjARAIYQQQogkIwFQCCGEECLJSAAUQgghhEgyEgCFEEIIIZKMBEAhhBBCiCQjAVAIIYQQIslIABRCCCGESDISAIUQQgghkowEQCGEEEKIJCMBUAghhBAiyUgAFEIIIYRIMhIAhRBCCCGSjARAIYQQQogkIwFQCCGEECLJSAAUQgghhEgyEgCFEEIIIZKMBEAhhBBCiCQjAVAIIYQQIslIABRCCCGESDISAIUQQgghkowEQCGEEEKIJCMBUAghhBAiyUgAFEIIIYRIMhIAhRBCCCGSjARAIYQQQogkIwFQCCGEECLJSAAUQgghhEgyEgCFEEIIIZKMBEAhhBBCiCQjAVAIIYQQIslIABRCCCGESDISAIUQQgghkowEQCGEEEKIJCMBUAghhBAiyUgAFEIIIYRIMhIAhRBCCCGSjARAIYQQQogkIwFQCCGEECLJSAAUQgghhEgyEgCFEEIIIZKMBEAhhBBCiCQjAVAIIYQQIslIABRCCCGESDISAIUQQgghkowEQCGEEEKIJCMBUAghhBAiyUgAFEIIIYRIMhIAhRBCCCGSjARAIYQQQogkIwFQCCGEECLJSAAUQgghhEgyEgCFEEIIIZKMBEAhhBBCiCQjAVAIIYQQIslIABRCCCGESDISAIUQQgghkowEQCGEEEKIJCMBUAghhBAiyUgAFEIIIYRIMhIAhRBCCCGSjARAIYQQQogkIwFQCCGEECLJSAAUQgghhEgyEgCFEEIIIZKMBEAhhBBCiCQjAVAIIYQQIslIABRCCCGESDISAIUQQgghkowEQCGEEEKIJCMBUAghhBAiyUgAFEIIIYRIMhIAhRBCCCGSjARAIYQQQogkIwFQCCGEECLJSAAUQgghhEgyEgCFEEIIIZKMBEAhhBBCiCQjAVC8p2zatAlFUdi0adM7fSlCiD9h99xzD+Xl5e/0Zbxh999/P4qi0NTU9E5finiXkQAohBAi6XzlK1/hsccee6cvQ4h3jP5OX4AQQgjxdquqqnqnL0GId5T0AIp3nePHj/P+97+fvLw8HA4HpaWl3H333UQikfM+Z8+ePdxwww1kZmbidDqZN28eDz744Jhjent7ue+++5g+fTper5fc3FzWrVvHli1bxhzX1NSEoih8+9vf5jvf+Q4VFRV4vV6WLVvGjh073pL3LESy+/rXv46iKOzfv59bbrmF1NRU0tLSuOuuu+jt7R09zjRN/u3f/o3a2locDge5ubncfffdtLW1jTnfREPADz30EEuWLCEtLQ23201lZSUf+chHxhzT0tLCXXfdRW5uLg6Hg2nTpvHv//7vmKY5eszFthGTaZ8AduzYwYoVK3A6nRQWFvKlL32JWCx2KR+nENIDKN5d6urqWLlyJdnZ2XzjG9+gpqaGzs5OnnzySaLR6ITP2bhxIxs2bGDJkiX8+Mc/Ji0tjd/+9rfccccdBINB7rnnHgAGBgYA+NrXvkZ+fj4jIyM89thjXHbZZbz44otcdtllY877gx/8gNraWr773e8CiSGla665hsbGRtLS0t6qj0CIpHbzzTdz++2384lPfIIjR47wla98haNHj7Jz505sNhv33nsvP/3pT/nUpz7FddddR1NTE1/5ylfYtGkT+/btIzs7e8Lzbt++nTvuuIM77riDr3/96zidTpqbm3nppZdGj+nt7WX58uVEo1H+4R/+gfLycp566ik+97nP0dDQwA9/+MMx55xMGzHZ9uno0aOsX7+e8vJy7r//ftxuNz/84Q/59a9//eZ/yCI5WEK8i6xbt85KT0+3enp6Jnx848aNFmBt3Lhx9He1tbXWvHnzrFgsNubY6667ziooKLAMw5jwXPF43IrFYtb69eutm2++efT3jY2NFmDNmjXLisfjo7/ftWuXBVi/+c1v3sA7FEJM5Gtf+5oFWJ/97GfH/P5Xv/qVBVgPPPCAdezYMQuw7rvvvjHH7Ny50wKsv/u7vxv93Yc+9CGrrKxs9Odvf/vbFmANDQ2d9xq++MUvWoC1c+fOMb+/9957LUVRrPr6esuyLq6NmGz7dMcdd1gul8vq6uoaPSYej1u1tbUWYDU2Np73uoWYiAwBi3eNYDDIyy+/zO23305OTs6knnPq1CmOHz/OnXfeCUA8Hh/955prrqGzs5P6+vrR43/84x8zf/58nE4nuq5js9l48cUXOXbs2LhzX3vttWiaNvrz7NmzAWhubn4jb1MIcQFn/5bPuv3229F1nY0bN7Jx40aA0V6zsxYvXsy0adN48cUXz3veRYsWjZ7vwQcfpL29fdwxL730EtOnT2fx4sVjfn/PPfdgWdaY3kJ4/TbiYtqnjRs3sn79evLy8kbPp2kad9xxx3nfkxAXIgFQvGsMDg5iGAbFxcWTfk53dzcAn/vc57DZbGP+ue+++wDo6+sD4Dvf+Q733nsvS5Ys4ZFHHmHHjh3s3r2bDRs2EAqFxp07KytrzM8OhwNgwmOFEG+O/Pz8MT/ruk5WVhb9/f309/cDUFBQMO55hYWFo49PZPXq1Tz++OPE43HuvvtuiouLmTlzJr/5zW9Gj+nv7z/vuc8+/mqv10ZcTPvU398/7r3D+M9DiMmSOYDiXSMzMxNN08ZN5r6Qs/N9vvSlL3HLLbdMeMzUqVMBeOCBB7jsssv40Y9+NOZxv99/iVcshHizdXV1UVRUNPpzPB6nv7+frKys0cDV2dk57kaxo6PjvPP/zrrxxhu58cYbiUQi7Nixg3/5l3/hAx/4AOXl5SxbtoysrCw6OzvHPa+jowPgdc//WhfTPmVlZdHV1TXu8Yl+J8RkSA+geNdwuVysWbOGhx56aPSu+PVMnTqVmpoa6urqWLhw4YT/pKSkAKAoyugd+lkHDx5k+/btb/p7EUJcml/96ldjfn7wwQeJx+NcdtllrFu3DkjczL3a7t27OXbsGOvXr5/UazgcDtasWcM3v/lNAPbv3w/A+vXrOXr0KPv27Rtz/C9+8QsURWHt2rUX9V4upn1au3YtL7744mivIYBhGPzud7+7qNcU4izpARTvKt/5zndYuXIlS5Ys4Ytf/CLV1dV0d3fz5JNP8pOf/GTC5/zkJz/h6quv5qqrruKee+6hqKiIgYEBjh07xr59+3jooYcAuO666/iHf/gHvva1r7FmzRrq6+v5xje+QUVFBfF4/O18m0KI83j00UfRdZ0rrrhidBXwnDlzuP3227Hb7Xz84x/nv/7rv1BVlauvvnp0FXBJSQmf/exnz3ver371q7S1tbF+/XqKi4sZGhrie9/7HjabjTVr1gDw2c9+ll/84hdce+21fOMb36CsrIw//OEP/PCHP+Tee+9lypQpF/1+Jts+ffnLX+bJJ59k3bp1fPWrX8XtdvODH/yAQCBwaR+kEO/0KhQhLtbRo0et2267zcrKyrLsdrtVWlpq3XPPPVY4HJ5wFbBlWVZdXZ11++23W7m5uZbNZrPy8/OtdevWWT/+8Y9Hj4lEItbnPvc5q6ioyHI6ndb8+fOtxx9/fNxqwbMr/L71rW+NuzbA+trXvvYWvXMhktfZVcB79+61rr/+esvr9VopKSnW+9//fqu7u3v0OMMwrG9+85vWlClTLJvNZmVnZ1t33XWX1draOuZ8r/27fuqpp6yrr77aKioqsux2u5Wbm2tdc8011pYtW8Y8r7m52frABz5gZWVlWTabzZo6dar1rW99a0w1gYttIybTPlmWZW3dutVaunSp5XA4rPz8fOvzn/+89dOf/lRWAYtLoliWZb2D+VMIIYR4XV//+tf5+7//e3p7ey96rp0QYjyZAyiEEEIIkWQkAAohhBBCJBkZAhZCCCGESDLSAyiEEEIIkWQkAAohhBBCJBkJgEIIIYQQSUYCoBBCCCFEkpEAKIQQQgiRZCQACiGEEEIkGQmAQgghhBBJRgKgEEIIIUSSkQAohBBCCJFkJAAKIYQQQiQZCYBCCCGEEElGAqAQQgghRJKRACiEEEIIkWQkAAohhBBCJBkJgEIIIYQQSUYCoBBCCCFEkpEAKIQQQgiRZCQACiGEEEIkGQmAQgghhBBJRgKgEEIIIUSSkQAohBBCCJFkJAAKIYQQQiQZCYBCCCGEEElGAqAQQgghRJKRACiEEEIIkWQkAAohhBBCJBkJgEIIIYQQSUYCoBBCCCFEkpEAKIQQQgiRZCQACiGEEEIkGQmAQgghhBBJRgKgEEIIIUSSkQAohBBCCJFkJAAKIYQQQiQZCYBCCCGEEElGAqAQQgghRJKRACiEEEIIkWQkAAohhBBCJBkJgEIIIYQQSUYCoBBCCCFEkpEAKIQQQgiRZCQACiGEEEIkGQmAQgghhBBJRgKgEEIIIUSSkQAohBBCCJFkJAAKIYQQQiQZCYBCCCGEEElGAqAQQgghRJKRACiEEEIIkWQkAAohhBBCJBkJgEIIIYQQSUYCoBBCCCFEkpEAKIQQQgiRZCQACiGEEEIkGQmAQgghhBBJRgKgEEIIIUSSkQAohBBCCJFkJAAKIYQQQiQZCYBCCCGEEElGAqAQQgghRJKRACiEEEIIkWQkAAohhBBCJBkJgEIIIYQQSUYCoBBCCCFEkpEAKP5k9QeDHOrpxhcJv9OXckFWvBkrug/LHHinL0WIpGdaFn3BIFHDeKcvRYg/afo7fQFCTKQ3EOB7O7fTOeKjKiOTTy9eRorDMeGxlmVhAaqivKHXNAyDPc/W0X6ikymLqpi5ovaCx1vmIJbRBuFnwRwCrQw8d6Eorjd0HUKISxM3Te4/sI/9XR0UpaRy36IlpDvl71GIiUgAFO+YlxpP88LpU5SnZ/DB2XNx2WyjjzUND9LqG6LQm0LT0BCdI/4JA2BPYIRfH6pjKBzm+qm1LCgouuTraTnWzrYndmOZJl3NPbhTXbSf6MThtjNv/Sxs9nPXZ8WOYkU2QrwTrCHQKsHsB9MPmnzhCPFW8Uci7Gpvw2u3s6ioeMyNX7vPx672NuyaxpHeHg739LCytGzcOaKGwRP1x2gYGGBFSSmrysrfxncgxJ8GCYDibREzDLa2tuCLhFlUWIyuqvz6UB2+aIQTA/1UZWayvqJq9PiSlDSKU9PoGvFTkZ6BS9eJmya6OnbWwrbWFg50dWLXdR4/fow5eQXjjrkUlmXx9H+/wP4XDxENx1j7Zyv48D++H+XMl40VO54Ie4odLBsocdBngpr1hl9bCJFgWRYHujrpCowwOzefwpQUvr97BzvbW7GrOh+Zt4AN1TWjxzt1Da/dTueInwyni2y3e8LzHujq5JlTJwDoHPEzJSubPK/3bXlPQvypkDmA4m2xva2VXx06wMNHj3B/3T4sLFRFwTBNVBR05dz/iif6+/j5wf3YVJWbp07Da7fz1U0v8g+bNzIcHjsfMN4XJHZygLA/TIrdPulhYF+/n7aTncRj8dHflU4rYvmNiyifWcqqW5bS09JHYDhENBzj8Nbj9He8ao6fVgiooDjAdSOK52MozmtQFG3M61hWCMsMXvwHJoTgcG8P/71vDw8cPMCP9uxkOBKhYWAAp24jGI/SMjw0emzj0CA/3beHuGmyqLCI66fW8lLjaX59qI5ANDrmvGebCdOyUF7189vJsgwsoxPLHHr7X1wIpAdQvE18kTCRuIHbbmMoHCLV4eAj8xawqek05ekZLC0uGT12Y+NpWoaHsCw42tdHXXcnuqpyqLuLfV0drC2vBKDleDv7/+15tLZeMmrzuO17l7P3uTr2PldH8ZQCrrh7DcN9fhwuO2nZqQDEY3F62/p57HtPM9zvZ/rSGq6/9ypUVUXTNJZcM3/0OpqPttJ8tA3Lssgvz8Xuso8+ptgXgZad+EGrGBf8AKx4E1bkRbAscF6Gole/FR+tEO9Z/cEgvmiEDKeLgVCIYCzK+opK/nDyBPneFJa8qt3Y09FO09AgHpud4XCY5xpOUd/Xi6aq6KrK7TNmjR47N6+A66fU0jQ0xNLiEnI9b1/vn2XFwApgRXZAbD8o3sRNpF76tl2DECABULxNFhUWc6S3h4FQiA1VNTh1G0uLS8YEv7PSnE4MywIL8jwe0hxO2vw+0h1OslznhnQaDzYz0D5ISVE2ka4Q4dODvPDLzYRGQrTVdzDYPUxvWz9Ot4Nr/vxyOk518fKD24iEo4QDEfLLczm1vwlfv5/0nLRx13HdX1xJfnkuA91DTF1YTWpmCgCWFcWKHsTX78OVMQuHPj78AVixI2D2ARpWtE4CoBAXaVZuHtOyc+ga8bO0qIR8bwp/NnM2K0vLcdlsY4Z4s1xu7JpOKB6j1ptDZ1cndk0japoEYmN7AG2axk2109/ut4NlBrHCf4B4K8RPg14CZicYzSABULzNJACKNyQSj3NqoJ8Uh4PStPTzHpfn9fK5ZSuJmyYO/cL/211TM5UslxtFgSVFJSwvKeNAdyelqWnMys0bPa5sRglZhRkM9/qpnl9OVmEGmq4Si8bRdZWmI60YcYN9Lxykoa4Jh8sBlsVQnw9PqovhPh818yvwpnsmvA5FUVi0Yd6435uRAzz87V+z6/khsoty+Ivv/B2Z+RnjT6BmgqWCYoKac8H3LEQy8UUi7OvswKnrLCgoxKZNfBOV5Xbz+eWrGDnTC3h2Dm5J2vgbtlWlZbhtNkLxGPPzC5mVm8evDtWR6XJxZVXNuOPfEUYbxE8C6UAkcYOo5YCa+w5fmEhGimVZ1jt9EeLdybIsHjh0gJ1tiRV5d86eOyagXaz6/j42NzWS5/VydfWU834pvFpnYzd9bQNUzinDk+rm6PZ66l4+SmFVHkM9Ph797h/wD47gTffg9Dpxp7iwO21cdsdyymeWUj6jBHfKxa3abT/2FF+79XcEfQampXHr39zOrZ+9ftxxlhWF+CnAAr0GRbGPP5kQSeine3ezs70VXdW4ddoMrqi69N5xy7I43teLTdOoysgcDYlnHwPG/O6t4Ov3s+nBbQSGgyy9bgEVMyfuzbOMbqzQI4mKAWou2BahaNnjhn8tKwLmMKjp0m6It4z0AIpLFjHi1Pf14bHZ6QsGaRkaOm8A7AmM0OH3U5SSSo5nfI9bIBrl29u20Dw8hEu34dJtk/pSKKjIo6Di3GtOXzaV6cumJq4vFOHwK8c4tb8Rm9PGrFXTqJpdRlpOKkuunY9uu/D//vW7T9FwoInKOWXULj7Xg2D3TkPVHVhEUDUHdodtwucrih1s07EsIzHnB23iuYJGN1hB0IqksRfveZZl0e734TgzXNsbDJz3uFdamtnf1UlVZiZXVdVMuML/V4fqePjoYTRV5WPzF3J19ZTRx97q4HfW4a3HObqtHt2m8cqjMfLKc+g63UNGfjoZued6KxUtD1w3gtGX+Hs/O4/4VSwzgBV+GozORG1R19XSLoi3hARAcckcms6MnFx2tLeS6/FQmTHBMCiJidy/PHiADr+P4tQ0Pjx3/rjirOF4nJFoFI/NTjgeZ/hN2P3D4XLw0X+5k+d+vglVVdjw0fVkF2ZO6rkdDV387Mu/YaBriIy8dD79g49RXFMAQHZxJbd97oNs+t027E4bpw408cA/PswN9131qnmCYcAGGIl6gUYbaEXgWDemMbfiLViR58EcAds0cFzxtn1pCfFOUBSFyyuq+P3JenI8HhYVFk94XOeIn2cbThEzDFqGh6hIz2B6zvih0i0tTcQti1A0yvbWljEB8HzOnjPV6STHPfEUkIths+soqkI8bqJqGj//ym/Z/WwddqeND//j+1lyzfxEwfpYXWIIWCtHUc/TFpldifmBWg4Yp88MExe+4WsU4rUkAIpLpigK19RMxanbKPCmMG2CxhmgLxSkJxAg35tCd2CEvmBwXADMcru5pXY6vz9Rz9SsbNaUVYw7j2VZhONxnLqOoiiYlsUfT55gf1cH07JzuWFq7bhh4/zyXO7+2u2v+14sywQrhKImvgwGuoYYGQqSkZdGYDjAUPfQaABUFIUrPriGle9bwrc//EOaj7TSeLCZvNIcrrh7DWb4FYjtScz7sy2A2ElQUyF2KlErUH/VF57Zn9hFRMkAowOIAM7XvV4h3s3Ort71OhxUZ04chDRFRddUArEoDk1DO099z7l5BbT5fDg0jVl5+eMe7wsGOdHfR7bbzZSsbEzL4jeHD7Kns500h5MPz51PZca5azBMEwvOW0+0r2MA0zDJKc4avVmbtXo6sWiM0EiEvLIcfvw3PycSjDAyNMILv3yZxVfPA7MHolvBiiX+1rW8iRd+qBlnwl8PaMWgpF7ooxTikkkAFK/LsixahoeJGgZVmZmjtfZMy+Ine3ezt7OdVIcDp01nbn7BuOcXp6RSk5lFy/AQUzKzKUqZuEG7bcYsbpg6DbumjesFixoGTxw/Rn1/L1Ozcrixdhodfh+bmhtRgM0tTUzLyWF6Ti6t9e0c2l6PWeSlYk4Ztdk55/3ygFetzDM6sWzTURzrqJ5XwcxVtTTsb2Lmilqq51eOe56ua2i6hmVZKIqCoipYpg9iu8CKQvxYogFX08DoPTPZ+zXlJrSCxFwgKwDaDBRFwp94b4ibJtvbWgjGYiwuLCbDde6m7xd1+3nu9CkcmsZH5i0YLe30anleLzdOqeVwbw/laenUZE5cZP1j8xcyN78Am6Yxv2BsT1koFuOXB/fTMDBAutPJh+bMJ8/r4VBLO4GNDXQOB9irplKxehF7nz/I0SONNGda2ApTWGDLZPHM6tESUpAY6n3u/o2YhsmaO1aw6Kq5ADjdDpbfsBhITD3JLsqkp6UPm91OTkkiKJ6pOAgYiQLy5ynDq6iZ4LzxTM9fHspr2wwh3iQSAMXr2tHWyu+OHCJqGlxZWT1aPsEfiXByoI9Uh4P+YJBTA/0TBkCP3c4HZ8+lLxQk2+W+4Crg8z3WMjzEns52PDYbezrbmVdQgNdux6FpDIRCpDgcOHWdga5BfviZ+2k41UbMo1Pxl6u4/cplE5abGWU0QexoIqjFDoBtNk53Ln/+zbvwD4yQkulFm2BBis1u49a/vo4tD+8gPS+NyjllbHvyMCVlCsUVflDdKFpuYmjX7AU1B0VNH3MORcsH102JOYDq+PlAQrxbbWw8za8PHyRmGBzp6eazS1ckgpBlsbezHbuq4YtEONLTM2EABJhXUMi8ggsPf9o0jWUlEy+68Ecj9AYCZLhcDIZC9AUDVGZkoOzopOv3R9EsOBTdyhxvFn/4yfM0dfXis1s4crwc80VpnDOVWz97HV2NPZzc30jjoWZ8AyPY7DqHXzk2GgBfzeFy8Onvf4wXH9iM3WVj5S1LARJtgeMy/H3HGehLI7ciC/d5sp2iZWGpXoifxjJ6Qa9AUca2jVa8BSveAGomim3mhPOLhbgQCYDidR3t62E4EsZls7G/s3M0AKY6HMzOy2dHWyt5Xu+E83OGw2HcNhsOXT9vz99keGx2vHY7vYEAaWF48HO/IdQ3wsw7FqLNq6QsLZ3KjEzq9zQw3OtDTXViDAYY6Ryie2TkwidXvKCmgDlwZsglUVtM07QJ6wO+2pQFVUxZUMVA1yD/ed//0N3US2aBm09+ZwUFlaWgT0VRVNDOX+ZBUVOAlIv9SIT4k9YXChKOx85szTaCaVloioKiKCwpKuGZhpOkO13MmWDY9s2S7fYwN7+Auu5OajKzmJKVjaaqzEnNptvpwuG0o4UMQiNhouEo7lQ3g32DhKNDZFXk0bCvke1P7mHv8wcZ6BwkHjNIyfKi6RqltRPPXQTIKsjg9s/fOO73fl8J//O1zbTVH6BqbjMf/Zc7cbrP7XFumQEgiqJmnCkUfQAUDaxVKPY5Y46zIi+fqTOqJ0YW9KpxryfEhUgAFK9rSlY2B7o6iRoms/LOrbhVFIWPz1/E+ooq0p1OCl8V8CzL4mcH9vHHUyfIcXv4f6svoygllXA8hqqo2CdR4uXVClJSuGPGLFqGh2j43T52bDuJZlMJ/e8r/NMfvpSo8QeUzyhm6qIq6nadQKvJoXx+BTNzL1xjS9FLwXVDYmWeXn5JQy69rf0MdA2SWZjOYPcw3e0lFE6dedHnEeK9YklRMYd7uglEo1xVVT1mGsZds+eysLAIt802Zv4dwLG+Xn5+YB9OXefPFyxCRWFTcyOaorCuouq8+/tORFUUbp0+k7UVlaTY7Tj1xIr9tbcuo+tkFyNDAa7/xJXULq5m/hWzaTjYzNR10xjoGKDl+eP0Dgb5w3+/gG7TSMtOJRyMsObWZZTPLKF6XgWWFU/M51PcE67ofa3DW4+z74WDAPR3DLDy5sXMuSzRTljxFqzQ74EQln1lYn4wtsR0EnPwNWcygThgB2JgGZP+TIQ4SwKgeF0rS8rI96QQNeJMzR5b0Nih6xP2/PWHQjx98gRRI86JgT5ebmpkZm4eG5tO49R0rptae9E9glOyspmSlU0kqxFVU4nHDJxuB6p27ovF4XJw3/c+TG9rP2qGE4/HRYrDcYGzJih6NbyBnTpKpxVROaec5iOtFFblcWzbHo5t38nq26+kuGbi4amQEUJHQTfqgQjoU8YNEQvxblWZkclXVl9G1DBIdYyd26qrKjPPUzLqB7t2cLinGxRw6TZK0tI40NUJgP0SdvBQFWXcSt/Cqnz++r8/gWmao9M73veZ6zBNE1VV6Wsf4Bs7v01qupfAcJD8ilw0TWPmylrW3blqtPSTGXrmzHZuHnBdj6InFq9ZlkU0HB29MT3L5XGg2zTiMQPNpqPbz5WQsuInwGwHvBDdA44rEnOD0VFsYwtZK2oK2JcmdhtS80Avv6jPRAiQACgmQVEUarImnoB9Ph6bjQyXk9ODgzh1nWy3m22tzQyHw3TH4xzp6b7kIeF1H1hJ0B9isHuIde9fhc0+tg6fzW6jsOrNH1ayjK5Eg6t4UezzxpRzGe7zs2jDPFbcuIi243Xs+P12LEwCg338+be/OO5cu/v3sGNgJ24lzDXpI+TZFLA1g+tWwMKKHQKjE8VWLVvIiXctp24b7XWbLItE8WbLAhNrdNEZgML4EklRw2B3RxuhWIw5+QWTLuuiKMq4ub3qmV7KrMIMpi+bQt2mo6Rmp3D9J65k1qppY2qHjhZ6V1yJoVijA/QKfAN+7v/Kb+lo6GbpdQu48ZMbRhe1zVg5jfV3rubE3gZKphbR09KH3WmjZn4lipqFhRsIg1aLap+KpZeAoqEo429iFds0FNu0Sb1XISYiAVC8JVw2G3+36jI2NzeS50lhfUUVvkiEVp8Pm6aR5hi/2rV7ZITnT58ibppcUVlNUerEAdHldXHb39zwllz3QNcge587SFpOKguvmjP6hWBZBlZkE8SbAQUUJ5yZkzPYM8yD33qC7uZesouyyCsJY1kGiqphGr7RVcJnxc04uwZ3EzJCDMb7OBowyMvITZSDwQSjHaLbwTKwzG5Qs6VnUCSNTy5ayv/u34tT17l79jzsmoZd01AVhdVl5eOO393RxuPHjhIzTRqHBvnYvIVvuJamoih86O/v4NjOU6RmeameO74slaLYsfTKxDw9NQu0xE3ngZcOc3T7CZweB1se2cHS6xaQX54YJbE7bNz1lVvpax/gf770Kw599ylSs1L4yD9/gMrZc1AUN1hh0BM9foo6+eFuIS6WBEDxlqlIz6Ai/Vxx6KuqaihNS8euacyYYNh4a2szB7o6UVUFVVG4e874fXhfKxSLYdO089bsuhiGYfDjv/kFp/adxu60EwlGWPW+pWcetRJzcRQdrDgQ5+S+02z87VZaj7fR2zZA1ZxyhrqHWXnTPDR1gHAgypo/Wz/uy0hVVNJs6QxEB7GrqaTa3YkVw47lYA5hGe2J10JPvC6yW6NIHtNzcvn3K68e87tbps047/HBaIyYaeLSdXyRCIZloV8gAHaN+HnhdAOqonBFZfW4nYnO3rC5vC7mr591wWtVnFckVvkr7sQuH4A3w4vdaScwHCSvLAd36tiap4qiEAlGGOwaIi0njeE+H72t/VTNKcfSpyQqAkyyHFSi4Lw9sdBMiIskAVC8bVIcDhYXnX/lnK6qKCTqC16oVMxZ21tb2NzSRJrDyfumzZhwi7nX09PSS93LRymozKNiVindzb04PA6CvhBdTb2jxymKDo5VWNE9oKbSdjqNH/7Vz2g62orNruNOddHb1sfMldOYuWolC69aBkQTBZ5fy4LpfdNxGk4qqsqZnT4dRVXAHMQKP5foCbRsoBej2KagqBPvsCKEgLn5BTQODeKPRri8oup1bwafazjF3s4OLMtCVxVunzEbgFAgzAP/8DANB5pYdv0Cbrhvw+v2JCqKDfSxvYNz187gji/cSFdjD3Mum0FqZgqW0Xdmu8cCFMVGfkUuM1ZM5dj2E1TMLKFmfgX+wWHczn0oZnNi5w/HZefdAs6yTKzIKxA/Cmo+OK9EUd2JPYTjLYk6g1qp7CokLkgCoJi0TU2N7GpvY2ZuHldX17zpjcuasgp0VSVuWqw4T12vsyLxOFtamglEo3SPjHC4t5u1nolriZ1PaCTEdz/xU9pOdOJOdXHfdz/M8hsWsuWRneSX57Lgitljjlf0itFJ3n0dhwj4gjg9TkL+EGUzS7np01ezaMPccXMSX2vbE7t59v6NmIaF95Y0bB9xYFkWW3q3cGhoL6WuLK7ILMLhXCtFYMW73oGuTl5sbKA4NY33TZvxpvTWv1qOx8Ofz1+Y6Pl7nXNblkXfoXYC3T24po5dtVu38Qi7/7gfm0PnhQe2ULasmvTKbIpT0y7qmlVVZcVNi8+9ZrwlcWNnjYBtJjjWo9t07vpyYihY0zV+/c+P0naiidnL49z+19PQzBOg1068UwgkVgXHDgBKIgQaU0CdjhXZCrEjoNhQHGvBNnXS1y2SjwRAMSkNA/38167tDIXDbG1tpiglhTkTFH0+y7TGTt6ejDSnk2tqJtdg6apKpstFd8CP06aTep6VvqZl0TI8hKoolKSmjQmtA11D9HUM4kl3MzIYoO1EJ7d//kYuu2MFnjQ33vTxPYqW0QFWhJoFpdQuqeHk3gaKqvO56ZMbWHzNHDSaseK2Ce++/TE/R33H2Nu5j2g0hk3XOX2wCYDuSA87hhowDJU6fw8VnipmeGX+j/jTdXaHIFVRKEmbuF6mLxLmX7duptPvx6En5v5uqK6Z8Ng3QlGUCw77nvXc/Zs4+r2N+MJh8m6Yw9p160cfc3ocaDadUCCCI93FE00nMH0tLCos5ropbyBImT2Jki5qZmIOsSOx3aOma+SV5bDjqb0c23ESd6qdPS8MseK6Nkpqi1GUC4xoKM5E7VKjHZQULFxY8a4zvX8OsAJY5tAES2aEOEcCoKDd7+O5hpM4dRsLCwqJGAY1mVljhmEDsRhRw8BrsxMxDEZi0QnPFTMMvr97B9taEw3nZ5Yuv+iaf5OhqSq3TJvOkZ5svHY7s89TTHZ7awsbmxrRVIUrq6pZUFA0+lh+eS4zV0zl0JbjFFTmMXftDBRFIa8sZ8JzWbETWJHnwQrjdszl09//KINdQ2QWZKDbdMzw81iRbYm7b+e1o4tEAEzL5NG2x2kInCYyNwrtNmz1LmatSpS0sCk2bKqLUNyLXdWx2+fKvB7xJ+3ZUyd55PgRFGBBQRFpTifzCwqZknWuZy0YixGKxXDZdKJxA18kPO48I9EoXSN+9nS08+SJ45SnpfP55avGbB33Zjm89ThWzCDd4UQ/OTRmxfDsNdO59bPX0XSkBaZncyzFJEvTqe/r5cqq6ktvx9T8xL7gZ3sAGXuzmpaTiivFiX8ggDs1nYd/ACnZQW64L07B+LUnAIk9y51Xg9GCpWSA2Qnx+jP7itsSQ8162aVdr0gaEgAFvzpYx/6uDoKxGL+s24/HbmdBQRGfX75ytHjrjJxcrqmewpbWZlbnF7LwVUHqrL5gkI1Np3n65Akcms4LjadYVVp23m2a3qhMl5tVr1kVeGp/I7/6p0dQFIW7vnIrJ81+LCwicYOGgYExAVDTNT75vY/QdrKTzPx0UjIuPNxqGT1g+kBNBaMF3aGRW/qqsBhvAGxgBrHix87s/ZuLoujErTi90T4cqh0jxWTuB2azzLaUoppEL2qWI5Or86+i3n+CQlcB1SlS+kX8adva1kI4HmcwHOLIwQOkOhy82NjANy+/ikxXovc6z+Pl9ukzebz+GGU56ayvGLtbhT8S4WcH9nKiv5/dHe24bDrtPh8zT53gA7PmTPSyb8jsNdNpONCEaZrMXTe2ULuqqqy/cxUAx/t66Tl+lGA0xvSc3Dd0E6voxeC+CawQqHljRgZi0RgdDZ0UVOSSuiiF/s4h+rt89LT2sv3JPdzyV9eOOZcv5mNb3w4My2Bp1mKyHIvBCmEF9wBOUB1gW4hin4WivPkBWry3SAAUhOMxNEUlEIsSjMbI83o50ttNfyhIricRijRV5d5FS/jEwsUTzv3rDQb4+YF91Pf3MRKNEFHjpDmdeCdRhHkyGg+3sOfZOvLLc1h5y5Lzzj98+D+e4tT+RsDike8+xapvXE/niB+7pk24mbyma5RNm3hhStwweWbjETp6hlixsJrplSVY8Zwzq/QcEN2KpVUkGngAfQaYWwAV4s1YxuNgm4XiXIVdtTM/fR67BnaT68hhafFiit1j9zitTZ1KberYoSbLMgBVJnOLPznTc3JpGhrEMkFRIN3pZDgcZigcHg2AiqJw5+y53DFz9ug2cK/WMeKnaWiIbLebuGkQjiVKSLleVTswbpoMhcOkORzY3uBowuV3raZsejFG3GTqovNvnVabncOH5swjGItRlpY+6fMH/SGcHsdo+ahRSjow9tp7WvvY+vgudj29D92mo6gqOUWZDHYOgqLgThkf4Lb2bWfv4L7Eaxkhbiu5BXCAVgDxk6BkoOglEv7EpEgAFNw6fSYPHz1MvtdLm9/HYDjMnLx8MpxjGxFfJMIrLU2k2B2sKC0bM8eve2SEDr+fKVlZRAyD4pRUVpdVMPM15V4uZW5gYDjA9z/9v4kVum4HdqeNJdcumPBYh8uGZVln/t3OkqISSlLTURTGbFU3Ga/sOsUDj+8kEo2z91AL3/q7W0jxvA8rdoKo70W2/X4HwWAqy265l6zCIhTHSrBVUb9jE3uf20NWYZQ172vA6ViKothYm7uGuRlzcKoO3Pq5+X1WvA3L7AMlHUUvHR36tWLHsaJ7iCspHAxl4zfi1KZMpcD11u2dKsRk3TptBjWZWQSjUf5wqp42n49lpWXjApMvEuGpE8cBuG5K7Zj5ugVeL0UpqbT4hlldVo5d1anKzOTqmsQ8wUg8zhP1x2gYGKAkLbGIxGW7uMLSr6YoClMWTG7P3ItpLyzL4rf/+hjbf7+Xwqo87v2Pe0jLTj3zWBwr8lJihEDNB+dVNB/r49f//CjdTb0MdA9RUm3HjHax/o4NFFbnY3PYWH7jonGvE7fiifeBQtyKnXlPKjiWJ/YCVj0oaua45wkxEQmAguk5uXx1zTogsdijJxBgZm7emLtty7L45taX2dnehl3T+ER4MTdMPVeFvjg1lYr0DDpG/KwqLeeuWXPGNNQxw+DFxgZODw4yPSeX1WXlkw6CI0NBRoYCuLwuwoEw/R2v3RfznPd/6RZcXheKAjf/5TUoinLegtKvxx8IEzdMXA4b4UiMYDhGijcdFDe/f6yTp8MjmB4/u//7//j6V7+MoiiEwpk8+4su+toioLSTWVjBog2nMGOHQM0nw7EsUTriDMscTKzcM05DvB3LXguum0HNwYruBtPHsZFTvDykEsNFS7CF95f+GXb10r8EhXgz2DSNhYWJKRXLSkrxRSJkulzjevl+tGcnfzx1AoBW3zB/u2L16GOpDicfnb+Adp+PwpTUcfP+Okf8HOvrJdXuoL6/j1bf8Jg5hn8qOk93s+WRnVimSf3uU+x5tm50OBmzD+LHATfET9F5qoj/vO8pGg+3kF2USUqGTk7BCGtvy6Csqo6ymTeiaCUTFoGeZk3jeMsJLBssnb9k9PeKYge95G16t+K9QgKgGKMqM4uqCYZKY6bJyf4BnJrOSCzK6cGxISzd6eKeufPpCwXJ93jH3aW3DA8l5vjoNna2t1KTlTXpreByS7NZefNitj+5h/yKUhZdff4C0fnluXzi3z80qfO+npWLqthdd5z2rmGuWDUD0xfk5//1NLFImIYyMKsUFFOh3dtJzIhh1+2J/atUL+j5iZ08tNLE3b/pAxoS8wJfvX2TFQUiYJxZKRhvxoruTSwiUTxANxFTJY6FQ7MTMsIYVhyQACj+dNg0jSz3xKvW23zDo7XM232+cY+nO12kOyceskx3OslyuWn3+8j1eN6ShSGXwjAMfvfNJ9j59D5mLp/KzX91De5UFz0tfTi9TtJyXtW2Kd5EPVCjHZQ0ju6oZ6h3AE+am8GuIS6/cxZ3f2EYpzsGRiuEn8HSis7U9hu7unrbf++me/MwqqbScE8LFXeW0xfp48BQHS7NzcKM+Ti0N2fajXjvkwAoJsWuaVxZVc2TJ46T6/GysnT8CrMUh4OU88z5c+g6Lt3GcCRMjtuNQ5v8/3qJBR23ccN9G3Cnul63zt6bJd3Tydf+vJV4fASbK5un7h+m8VALqqaileSgaVEszSI3Nxv9zPtxeV1c9eG17H7mANlFmcxePR04wmAsxhOtA/R1P8xifS2rLluW2IdUzU7MHYydAjWUKO+geFEUDZyXYcVKmJap0Ga2MhgbYmHmQlzan8aXoBCTcdv0WXT4/UBiusnFSHe6uG36TNr9PvK93knv8/tWO7WvkRd/tQWweOXxXcxdN5OPf+uD7HvhEIVVeaM1RH0jYV545SSKVckVy2fg1o5TUn6E9KwQwwNOymfU8P4vfxin93hiX+F4c2LFsNGeuCk8EwB9MT9xK85A9xA2h04sEsfX14MR3sJTbTtoCgfRzowsLM+cgxXdCsYAin0+iu3NL7sj3hsU6+yEKZHULMuiOzBCmsN53jk2lmXRODRIit1xSbtuHOvtoXPET1la+oS9jG+ls/+bX8xiCiuyFSv8x0T9LjReemIGWx7Zh2XBzCumoF8H/oifdcVrKXGff4cTM/wCP2/6I9s6fcRMUA2VEk8x7591++iiD9PwocQPAyrY54ybxG1ZFhYWqqLSONLECf8Jsp3ZzEufiyrlYsQ7pN3vY1NTIxlOF1dUVp13kYY/EgE47w3iu03z0Vb++c7vMTIUxOVx8Fc/+jizVk0bd9x3//dFtuw6BcD6lTV84qYjQJSGuk56umYyfdVNZOSlA2BZUazwMxBvSrQ5jvUoZgfH/c38obcBE5WKvkoa/7cdp9vBTffmUFDayU/ajjJsKMSUFFbmrGN9Zi5W6PnEbiBqGor7dhTlvfG5izeX9AAKLMviR3t28UpLMzkeN19YsXrC4VlFUajMuPQJxtNycpk2wR7Ab7Vtext44LFdpHqd3PfBNZQWTfI9aCWg5p2p3zWP5TeuwOHyYhqJEhJnJ3m/lmmZHBw6xFBsmGneTHLMBgIxA9O0wA6GEqePfp7ufGY0AKpaKmjL8cX8aIaF5zV/mYqioKAwEhvhma5nz+wjbMejecatHBbi7RA3Tf5t6xaO9/Vi1zRMy+S6KbUTHvtuCH7DfT62PbEbT5qb5TcuQred/+uxbHoJH/zqbex/6RC1i2qYuXLs+7YsE8xB2rsHzvwMHd0jiYUasf1UzSmieulKFD199DmKYgfH5WBL9PxZsZNYkec4ONCPLwo2LYfe/B4+8+O/QNNUFGMLRE6wJmWQl/1OPLqd2SmlQBwUDawIYAfkBlFMTAKgoGtkhC0tzYBFw8AAu9vbKKqd/k5f1pvCsiweeHQXPf1+OnuGeerFQ9x395pJPVfRS8FzV6Lsi5qPW9FY9b6lr/u8Q8OHearzaSJmlGPDqXwkV+Ga/DI6+k7RE46DTcWeouN8zVydQ0OH2da/A13RWJ+3jnLP+GH2qBUjZgZxqDHiVpyoOXFBbiHealHDoC8YwKXrBOMxeoPBd/qSJhT0h2g93k5BVR6pmSkTHmNZFj/+659zeOtxNJuGf2CEaz9+xQXPu/LmJay8ecm431uWeaYn7wjXrUjh/n47iqpz7bqZKM4SsE0HxYWi5Y177mBPhNb6AAUVHrJzA2CZ5Dmc1IdDGBgUuQqxOxIjNJY6F8voZoa3idqUAlTFjurwJqaVOKJg+lBsNWMWnQnxahIABelOJzluNw2DA3jtdvK9EzeS71YetwOjN7Fllcc9uZ6IUCDMwU1HAJizdiZO9+Trj/ljfqJmFJfqZMQwCGszKHf38Y/LV9DtT2NrYD8xRWVt7tggemD4IEPRIboi3fRF+vhEyQyi8Q6OhL147TXMTZ9DumZnsdekztdPvjOVGvfEW3AJ8VZz22zcNHUajx4/SkFKKpeVn2fbirdQIBrl5eZGQrE4y0tKKUgZ23YFhgP82z0/oOVYO7ll2Xzh/k+RVZAx7jymaXLqWCt+M4bhC3HsaDPXjjtqkqyhxP682Fg1t4N5s65DccwmxeMEIGoUsfuP+zHNJhZfPReHK9Em+QdH+M2/PEbHqS5ySrJ4/9/OJyfDYHmqRrp7HaZWwozUczfmipoOrluw1Ay0eAPos84UmlZR7HMwLZNt/Ts5HXiJKk8FS7OWyHQRMYYEQIHLZuNvV6xmV3sbBSkpLCk6/3y2t0o4HqOuqwtFUZiTlz9mG7qLdXpwgANdnWS4XKwoKeOTH1rD7184iNfj5Jar507qHC/9agvbntiNRWLP4Ks/uv51n3PWtNRpHPMfZzjmY0HGPFI9awATK3qAPMez3OK0ozivQtHH9gDkOXLY0b+TsBEmFB/h6c4OgqZFcySOTTuJhcXCtBIWp+gsSplOT6SL33c8y7FANx7dw+0lt1LqllIQ4u1z24xZXFlVg1PX39Df7KXa0tLEUyfqsbDoGvHzycVje+gbD7XQfLQNb7qb9pOd1O86NWF9PU3TyFhfRfcj+1E9LmyLxhZptyyLUDiGy2l7/XnEijexkCPeAGoaKZ48ulqGeemZTbhTXDT1NrOjbjdKk07z0Vbu+vKtAPR3DNLbNkB2cRZ97QP0NtWRk+lFx2J2SgGqY3z1A0WxoTivnPAy2kLt7BnYi4LCnugApe4Sii8wV1kkHwmA71FRwyAcj48punohRamp3Jz6zg37PnvqFJuaTwOJLeWuqZlySeeJxOM8daKedv8wmqKS6nCwoLiIT9+z9qLO09c+AApgWYl/n6Td/Xv59cnfEh2OsWxoGStvXnHmC0PDitUlyr6Yw/jDh+lHodBVMFq2YU3Oal7s2ZQYQsJglz9A1LRI1+2gxBmIDBJlBjZ9CsOhY/x7aw99sRYsLJyqkyfaf8+na+67qPcpxFnD4TD/u38vnSN+bphSO26bxfNJczrf2gu7gEjcwMJCV1SC8RiWZY0JaIXV+WQWpNPd1Etmfjql08ZvYXnWog8uJzQzE9VlY+qccytnI9E43/u/lzhc38H0mgI+89F1OB3nH1ZVFDu4bjqzmCMDtBKe+dlvaTrcSiw9Ss+GduJT4ih9Kg1bGkefl1+RS+WsUpqOtlI6rZjiGhVUP2BgxKP0dfeSmp2Kc5KjGLqioSkqYSOCS3OiomDF6oEY6NUoyjv33038aZAA+B7U7vPx/d3bGQyFubpmCjdOHb867U9NV8CPioJhWfQGRi75PIZlETMMbKpGzDQxzPGL3C3Lor9jABSF7MKJF4QsuXY+/R0DWMCsdTPHfbFMxLRMft74S/yWH1Jhk+9lZm2byZzLZiQO0Ish2kV/XOWHrdsZjL1MsbuIT1Xfi1Nz4tAcvL/0dh5re4Kh2DBxM4ylGAwZCkV2D3/sepYXezbyofIPgJrFiNmAioqBgWmZ6Mob2yZLJLeNTY1saWlCU1V+efAA8woK8drtl3Su1uFhdne0UZqWPlos+lLEDANFUdBfu7XaGctLSukO+PFHolxTM2Xc32hmfgaf/9knqd91iso55RRPKZzwPAAbqqeQ701BVRUWFJw77kh9B7vrmrDZdPYcbKbuaBtL5l14uFtR08Ce2MvYsiyMmIGqqkQzI2jZKlafhpllMf2mc0HT6XZwx9/eSG/bAJn56bjcA1iR3YRiGg/95BhN218it6SQ9//drWTknn/qh2V0YEV2kae4WZ29mJZQD2WeUvLULszgi0AcxbHwvD2HInlIAHwP2tHeyon+fjx2O8+cOsHlFVV4LqEhN0yTXx48wI62VhYVFfGhOfPP2xC/1mAoxK6ONvI9XubkFxCIRnHqOtp5nr+suJS+YBAFWPwGhqDdNhuri8r42SPbIWKhF1nwmu+fAxsP8/wvXgbgyg9dxty142uT1S6uIa86nx8+sIXvPraLWUfb+fSHL8N+ZmWgb8CPw2Ufnb9zloV57gfNYphhwkYYp+ZEcVwGWgknQifojb6ES3PTGmyjJdhKjbcaRVGYmz6HOWmz+V3LQ+wY2IWGRam7lKHYEGEzTNgI8UzXC9xb9XHynfl0hjrR0anwlOO1ednc+wors5fLXB9x0eyamthizDCxaRraJe4/7YuE+frLL9EyPEiqw8n/W3UZ8wvOH7xerb6/j//Zuxtd01hfUclTJ+pxaBr3LVpKWXr6uONzPB4+vmDxuN+/+oatoCKPgorxCy5eK8XhmLDXMz3NhcNuwzcSIsXrJD1t4oLX56MoCuvvWs0rj+1Ey1JoyW1kIGOAbD2Ha6aPDWEOl4PimoIzPxUxqLv40fEf0ljbhDPLou9IO/sOVrL+8olHNCzLwgo/D/HTKFjMdF3F7IxrADg18Fs293bgUG1ckd1ErnQAJj0JgO9BGU4XTt1GIBqlLC3tkufmHO7t4Yn6YyjA7+vrmZdfOKmGPG6afP3llzjY3YXHZmNadg77uzrJ83r51uUbKJxga7bZeflUZmSiwCWF1Vc7ub+TzmMDmJbFfz+whf/6+zvQdY3+zkHaTnSw7YndBIYTKxYPbTk2YQAEONnST93xdhx2nV11TRw50cm8GSVseXQnWx7ZgTvFxa1/fd1or4KqqNxW+j4ePP0I8XCctLQ0Xsh6geNNx3hf8c1kOTLBNo1irwe3toOgESTdlk7d4CEeaP4NXt3D+rx1zEubzobcqSiEiGJjfe5aHmx9mJ5IDxYG4XgP9b79fG7qZ2kLtpNlz+T7p37Ejr5d7FH3oSoqK7OXv6HPUCSfteWVDIZCdAcCXF5Zdcl77vYFg/QHA6Q5nQyHI7T5hicdAP9r13b2d3aiKLCp6TT+aBQFiFsm/37lNa/7fMuy2NzcxMamRkrT0rh9xqxL7sU8q7I0h09+aA2HjieGgKdWvn6YfK2KmaVUzCwFYCQ2Qlekm0JnwZg9wQFOjTTQFGim2FVEbepUDg4dptfqBaeFfwpoxTFeSX+ZJbFFeG1eAGJmjEPDRwgbYWpTppJumSRKvxjwqhvSV4YG6Y6pmETZH3Ry1fi1MCLJSAB8Dzq7z+5QOMSSopJJ99q9ll3T0FWVQDSK22bHfp4ir681GArRODiI1+5gIBTg+dMNWEBPIMDPD+7nSyvHrn7d8sgOtj25m+p5Fdz0qatHf7+rvY2T/X3UZGVfVK9gJBrHMEyMuMHwwAjRWJzwSJhHv/cHOk51EfKHUFQFh9tB8ZTE3XYkEqO9e5j8nFTcrsQXRlqqC6fDhm8kTFqKk7QUF7FojO1P7iY0EmagY4DDrxwfM6x0We4aVmQv539O/4y6oYMEowGiVoTTgdOJAAiUeUr5RNXHaPZtJxIf4PGe5wmbMVRUgrEg+dRToJ3mtkx3YjsoPY+7y+/i2fb7qfefQrNG2NzzLE49i1xHDq/0bacv2oeu6ondAqKTn7MoxFkum407Z88lbpr0BEaIxOOXdPNYmpbOoqJi9nS0U5WRyaLCyf/tWlZi6i0WBGIxAEzLot3nn9Tzh8Jh/nCqnmA0Rrt/mJrMrEnPZbyQZfMrWTa/clLHRsNRTh9sxp3qpmRq4bhhaa/NS/WZ8PZqvZFenmh/kqHYMCl6Cl7dQ4Y9A4fuJJwWwjQMctJcRB0GA7HB0QB4cPgQL/dswbAMOkId3JK/DmI7EjsK2eeOnt+lZ2OqQyhYOG1v/4pt8adHAuB7kK6qXFZeQTgeo8PvJxSLXdLdfG1WNh+Zt4C9HR3Myy9gxiSLOGe73SwoLGR7Wwt5Hi/tpo9gLJaYy/OaocnO09388hsPMTIU5MjWegqr8ll2/UKah4Z4+OhhfJEIdd1d5Hm8Ew4BTeSq1dPY9FwdA8EoBcDpfY2k56Yx0DlIdlEmfe39LL5mPmXTS5i6sIpgKMo/f/+PnG7poyg/nf/36atJT3UztTKPT9y1imMnu5g5tZDK0mwsyyK7OJO+9gEcHicZeePn4oSMMCEjhFNzEDRC6IpOpn3sXMMKp045IzzZ20vcimNhYWDQG+1lJGYHzQ2xejCHsexLyHCs5vq82YxE2wibJlHLIGyE2dq3nZP+k7hUNyEzRK4jh8UZCyf1OQnxWpF4nO9s38rh3m4q0jP4wopVpDoubqxQV1W+uGI17X4fWS73uB79wVCIPR3t5Hm9zM7LH/PYpxYt4Sd7d2NTVbwOO8+cOoWmKtwybXIL1GyahlPT6Y8HsWvaG1qZbJoWinKRuwdZFk/84FnqNh3GleLipk9djbc0G99ImGnV+ej6+W+iR+IBQkaEFN1L2AgzEg8wO20m8dI7aPQfod5/kpBpUumtotBZMPq8YDyIYRnoio2h2DDoJQSVLLb1bSdmvsKSrEVk2TO5PHcxmfZ0HJqTRZnSRggJgO9ZI9Eo3972Cg2D/ZSnZ/D55SsvuiFXFIWrq6dwdfXEK3K3t7awp6OdqdnZXFFZPdpQKorCl1au4UR/HzluD5ubG3n02FGyPG7umDlrzDliZ3rrdLuGZZjEIom7/qhhEDUMPHYbUcMgYsQnfd1ZaW5WZHoJ6iohf5igL8SUhVVUzimn+XALlbPLWXnzEk53DbH7UAuqqnCisQeP287p1n4O13eyclEVAMsXVLF8QdWYz+R9n7mOw68cx5XiYs6a8V9MKbqX2emziFlxLMvkyrzLqfRMfMc905PK9uFBuqMhLCBmxTgd8VDjGASiib1A4w1gq8bjXMCijFb2+9rIcFRRk1JNU6AZwzJwaS4WZy7kpuIbsatS+FVcmpMD/ezr6iDF7uBwTzeHerpZUTK+IPnr0VSV0rT0cb+PGQbf2LyRIz3dpDgcfGH5KpYUnytdNC0nl+9uSFTgMy2Lm2pnYNc0arOyz/tawViMw2fOV5uVzZ2z57K3o508j3fSQ8+vtXF7Pb98ZCfpqW4+87F1lJ5nsdi49xeJ0XS4BZfXxXCvj5e3Hmf7gwNEonFWLqrmLz98/moEJa5i8nx5NAQaKPWUUOEpR1EUFmTMZ0HGfEJGiMHoEDn2LDSrH8u0oaiZTE+dxomRk9QNHkRT4Pn2n2Oq6ewYPAQWDMUGeX9eHhnxRtan5aM4V6IoLuJmnJARwqt7LyrkivcOCYDvUQ0D/Rzr6yHT5aK+r48T/f1vaDXea7UMD/H93TvoCwZ5ubmJvDOLPc6yaxozcxNzZW6bMYsN1VMmvCMvmVrIDfddxZaHd1A9v4KqtbVE4nEqMzJYX1FJXXcXc/LyqbqILegcLgcLr5rLnmcPkF+RR838CuwOGzd/+moGOgdJy0nlxe0nuf+h7cQMg4Wzy0hPddE3GMCmazz/ylG6e4e58aq5jBg+BqNDlLiL0dXEtadlp7LipvETzwHiZpyWYCszUqexKHMBLs2FXZ1gDpJWDPYlVGrdfLR8Ef91+gkMywDA0irBPQXCm8AKYipunu/eR32gm1lpM7i78oOoioqiKExPreX57hcIGWEGY4OszF5OofvSvvSEyPV4yHS56PD7yXK7yfeMH6p8IwbDIVqGh0h1OhgKhTk1ODAmAL6aeqYmKCRK1PijEQq8KWMWklmWxc8P7GNPZztum40Pzp7H4qJipl4gML6eeNzgFw/vYNAXpHdghKdeOLd7kGmadDf34kl1k5o1vmC+zWGjdkkNe5+vI6swk0FFYdgfxuOys/dgM5FoHId9/Ndu2AjzqyO/5cCpg6iv2Bn0Ben7xgBF1efaVJfmwuVyYUZ2YcUOgOIExxqyHGVk2DIwiaNZUZ7t2Uah3UnUcOLUvITjwxD3geKGeAPxWC2vDLXxXNcLRIwIi7MWcUfJbRICk5AEwPeogpQUcj0e2nw+ClJSKEx5c3f3CMRihONxUhx2IvE4I7ELb0l2vr1AFUXhxvs2cO0nruQ3hw/yH3t3UJCSykfnzef6qdO4/lUlbDp7htm88yRZGV7WLpuCpp1/buP89bOYsXwKul1HOzN3Ubfp5JbmAHDweBuhSAxNgX37TvOZD6yiPRjliefqOHCkjaMnOiFzhJ3uZwgbIaal1PIXVX9+wdW1lmXxVOfTHBiqw6E6uLHoeqanJq6/L9JH3dAhchzZzEqbiaJoKPZEYdcpLri9ROeF7pfId+axKmcZGHsYiA1zIhSl38xgy8B+TMuiK9xFhaeCSm+iR3EkHiBiRlEVlUA8wMt9W3h/6R0X/G8hxPnkerx8YfkqDvf2UJ2RSVVm1pt6/my3h/kFhexsayU/JWVSN6Utw0P8vG4/Q+Ewi4uKuX36zNGwEjHinB4axGOzMxQO0eH3veFrVFUVj9tB32AAVVXwehJtl2VZPPfzTex9rg5Pmpub/+payqYl5jcahsmmHSfoHwyw8qZFzF4zHU+qi4PNfRxu7iUajTNnejF2m4ZhJErCvDpwPd7+e7aGt2FUGeh5NoI/SSXkD4+7to5gJ7t6nidTV1mW6kQzOlH0MtJsqeiKQtgwiFsWzeEAKBGKHF6WZS2lI7qXfK0XVc/ml20vsq1/HzErjlN1smtgN+vz1pHjuPTQLN6dJAC+RyUa8tWc6O+jKjOTwpTxK2/fiCmZWWyoquGV1maWFeWPqZt1PiPRKJuaThOMxVhZWjbmmrpHRtjX2YFD06jv6+V4Xx9LX9UzEI8bfPNHz9LY2o/NphGLxbn6PKt3z3ptiRYAnz/Ezx7azumWfhQsRoZCpPpDvPCDZ7jxizcnFofYdeJxk9OxE/hjfuyqneP+E/RHB8Y0kvsOtfCHjYdJT3XzgRsXobij7Bvcj6Zo+GI+To80Mj11GhEjwo8b/puucDd21c4Hyz7AvIy5Y65rVc5KVuWsBMCKtxGPHuX5wSFaQj4ihImYURRLIWgE2Tu4j3JPGaqiUuouwabaiBgRdFUj0zb5nlIhJlKVmfWmB7+zVEXhC8tXcWpwgGyXmxyP53Wfc6K/j9bhYTJdLuq6Orm6umZ0OotD01lUWMTm5iYKUlKZNsl5yhe8RlXhU3ev4ZnNR0lLcXHTlXPY9+IhOhu62P3MAewuO91NvTQcaBoNgM9tPsrPHtpOLG6wY38j//Z3t6BrKmsLM8nO9OLzh5k/s4TND29n59P7KKzK5+a/vAZPamIVcHuoHYtE6RrDHSf7lnSGSgaImsWjUzqiZoz/afw/esId6IrBiFFEhqsHu76PpVlLsKwghwc3czrYT4qmEbNsLEzL4hctjxCI+ylzZXNDQS1HfI+iKCpYiRXELs2FW3W94c9NvPtIAHwPK0lLoyTtrdkrVlNV/nzBIj4yb8F5a/u91taWZp45dRKA3mCATy46t21TqsNBtttN09Ag6U4X2e6x5RFCkRh9AwEcNp1wNE5nr49QIIyma6Obo0/G48/V8cIrx7EsC6eukeMLUuh14uv3Y4vFuX79LJ7bcozqshyWVWfS1nWMmBkj35lHmu3cZxmLGTy4cSsDQ0GaWu3kFtk5VbSZ7nAPFhZFzsLRbdl8cT+D0UEcqoOIGaYj1DEuAI6hujHwMBJrwqnZwXIyxZvPgeGDmJbJiz0byXPmsjpnFen2dK7IXc9R3zGqvJUsy156/vMKcQksy6I7MIJT10l3vvGgYNM0pmXnTPr4fG8K6S4nw5EIs3Lz8NjOTalQFIVbp89kaXEJHpudLPf4Gn17Otp56sRxMl1uPjBrzri25dWMuMHG322lYX8jtTNKWH/TIk4fbOHZn20kHAgz2DOMJ9VNSqYXK8XJf//mFdJT3Qz5gkSjcZwOG739frp6hinKT0dRFGbXJno5+zsH2fzwDqKhKAfbjlIzv5Il18wHYHHmIhpGGogoUTRN49TUEwx09eI3/azNvQyAsBHCHx/BprqIWhF2+eP4Bl8hYkSo8JbzkYoPMS99Pv/b8H0GYkNUudPoiHkYig0BcGykDatrGwXOfAKBADbFRpYjE8uy+Lf6f+fWkluYlXbhm2rx3iIBMMkEYzFsqoptkiVdXs9kwx9AzExs26QpKlHDGPNYisPBR+Yu4ER/H3leL9Wv6YFI8ThZsLCMTVtPkJbhIts0+Y+P/wSn2877PnsdZdMntwdu3DDhzJ22021n4dwKWo+0MHVxNVVzypmV4uKO6xeiqgqWZZHhTqEn0suc9NljFle8MrCV3rnbiMdNtCOVjDjS6Y30kmXPwhcfZmXO8tHGNMueybTUWo76jpFuS2d2+uwx1xQ1YzzZ/ns6w12szllJtbeKsG0FCzIz2evvIM+Wy8KMBRz1H8O0TAzLpDfSh2VZ/Kzx5xwaPoyu6FzpvYJU25s71C/E48eP8sjxozg1nU8vXjpmru/bYWZuHh+fv4ihcJipWdmjbY5pmjz5w2ep23SEeetmcd0nrhj33Jhh8MixI/SMjNAwOEBZejrX19SiqhPPd+ts7OHgy0exO20c2nyMqQuriIaixKNx3KluvGlult20iPzyPL7z0HZaOgbQVJUr10wnPyeNIX+QaMzg8//8KIvnlvNXH143+loOlx2n28FQzzBOtwOXN9GLaVkWK7OXk+fM5ZnOZznhP0nMiuOL+eiL9I9eW6otleVZS9nWv4MULYXB6DC+eKI8Tnuog6PDx1ieCp8qzmAw6ibHu5y6UCq2voOEjCA2RUdVFKo8FUxNncKh4cN0hboJGkGcmoMn2n8vATDJSABMIn88Wc9jx4+R5nTyqfNU1n8rLT2z28dINMpVVTXjHi9ISaHgPHMVB0Mh+osMUtdkkJXqYd/v9hDq89MXjrH72bpJB8AbLp9Nc1s/fQMB/uyGhSybV85QzzDpuWnoZ3b5ONtgK4rCjLTpzJjgPFv7t2F3KShxi4x5I1w5ayEtrfsZjA2RZc9mbvrc0Tk+qqLy4YoP0RnqJN2WPlq/66xX+rayqfdlDMukYeQ0Nd4qolaMcncZNxTdTo4jGwWFxRmL2DW4hzRbGsuylhKz4tT7T6ApGiEzzHH/cZZkjd/oXohLZVkWfzx1kkg8zmAoxJaW5rc9AALjbggBjmyt57H/fJp4LE7joRaq51cwfenYigWqouDSbURNAyVu8dyjh3ioewerFlXz5+9fOS4IurxO3ClO+jsGSc9Jw+l1kl+Zx+w102k/2cn8y2ez9LoFdPf56B8KoOsasZiBqih856u38vizB/jdU3txOnS27z3NzVfNpbw4ce3edA+3/vV1HN56nJzibKoXVXH/w9s5drKLxXPLuenKOVR6K+kIdzEcG8ajeZjzmpvFm4tvZH3eWnrCvfyw4SeoikrciqOgJNoVsw2nqlHgdANBFmasRVVU6oYOMRLz49Ld1KbWMhwbxqE6cGh2gkYACwu3JsPAyUYCYJKIxOM8Xn8MfyRCd2CELS1NlKXPfVuvIdvt5p658y94TGfPMP/7260Ew1HuvGkJM84Uah6OhPFFIuRnpzIUDpOX48XfMohm00jPnfz8xuxML3//19eP/V3Rxc93KnYX0RXuQtccLMieRklaAZ903EtzsJlyT9lo0eezNEWj2D1xQdyoGcWyzvSMmhF6I30E4gFOj5ymPdTBrSW3YFftXJa7hrW5a9g1uIfnul5gadZialJqODx8BKfqZGrKxOV6hLhUiqJQkZFBV1tiCPitmlJyKUzDBMtCVVUsy0r8/BqaqnL3nLlsbm6i6+QgWxvq0XWV57ccY/WSaqZVjw2zWQUZbPjIetpPdpJXnjO6hdyNn9wwur3c7184yC8f3Uk4EkNTVYry07lqzXTcLjsVpdnYbTqhUIysTC/pqWNDVcWsMipmJcrq7DvcwvY9p9FtKi9tq2fu9GIuK1pNqi2VsBFmbvpscp3j5zSm2lLRFZ0KTxkn/KcYiY8QMkJ0hbqZ452FZSYKwSu2WWPKyAxGB1FQSben0R/pp2GkkagZI0VPpchVyLWFV497LfHeJgEwSdg0jRy3h66REeyaRsabMJfnrfDgU3vZXdcMCvz011v43tdvB6A4NY3FRcUcPFMW5pbPrab+5eM43HbmrJlOT2sfmfnpo714l+KPGw9z/8M7yMn08qVPbqAoP330MdO0eP7wLo7FDzKrsJrbi99HubsUVVFZkLGAR9sepznYwqrsFeQ4Jj+/CWBF1jJO+RvoCHdSmzKFjlAnPZFeUm0pDEQH2d2/h50Du4iYEfKceYTjYXRVZ1PvZj5Y9gFOjTTg1b1UeSe3U4EQF+OTi5YyN78Aj83O8pLSN3w+w0wENcOyJr270ERmrqplw0fXc2DjYeZfPpvpyya+ASpPz6A8PYNdVhM79VNEIjFSPE48EywSAyifUUL5jPEjCmd79B/6wz5C4RixaJwpxZl87a+vJSs3HYCl8yq47+7VtLQPsmx+Bemp559v6HTYsNk0AqEIaekOjsXraOrXmJcxl0z7hfdpc+tu7im/m++e/C9ioRiaorKl7xU2FFxJXLmVUyMNmPEATu00ewf3kWZL47Kc1Ti0xHvOcmSRbktjb6QXTdHIcWST77z4Le7Eu5tiWZb1Tl+EeHt0+v1saWki1eFkXUXlG2p83yr/9bONvLD1OAAVxVl890wAhMRwlC8SwWu3j84DCgwH+NlXfkvbiU6q55bzwa/dhsPloLvPx4nTPdSU55CfO7bXwrIsfv/CIQ6f6GDpvArWLZ9KOBLjA5/+PwKhCJYF118+i0/fc65o66/+sI1nXb8EZxxd1fhw1V2jq3Zf7t3Cr5t/i2kZODQH35j5tXE7fwAMRAc4NHwkMQ8wbeaEdbdMy6Ted4Lnul/AH/eTqqeCAid8J3DrbqJmjGxHFgoK+a58PlR212h9QiH+lFmWxYNHD/PUiePETJNZuXlcWzOVuW/TkLJpWjz14iGOn+pi6fwKVi8ZPw1lMr74r49Rd6SNcCBMViDMivJcPvGdD+HynCu0f2Cwjh0DuyhxFbOh4Eo0ZXxba1kWW3adoqG5F6W6iwZ7YpFXtbeKe8rvHm0ffDE/pmWQbk8fd45H2h5jY8/LWFjMSpvBJ6o+zo7+nWzv34lhxumJ9BE1I2iKxjUFV7M+b+3oa/9N3d+e6RWEEncJfz/zq5f0eYh3L/nmSCIFKSncPmPW6x/4Os5uuH64t5vqjCyWFpeQ5ry4XUbO57brFhAIRQmEInzgxrHz2RRFGfc6p/Y3cXLvadKyUzm24yStxztIL8/hK9/+PT39frIzPPzj524YEwL3Hmrh/x7cRjgSY++hFsqLMykpyMRh1/EHwqiqMrof8Fn7TzXCfAPLgLhl8PKhQ0ydM4fcrBRCRgiwUBUNwzQ4PHyUWWkzyLBn0B8Z4IT/BGXuMh5qe4S2UDt21Y5hxZmfkagDuKX3FTb1bqbIWcgdpbczLa2Wcm8ZrYE2nul6jmO+40SMCABV3krmps8lYASYmz5Hwp9412j3+/h9/XF6AgH6ggEUoGVoiOum1rKuvBKP3Y5pWfQGAmS4XJd8gzowFGDXgSYKctOYM/3ctAtVVbjhitlct34mva39BP0h3CkXPxLy+b+4kh/98BkOv3SY6lQXnae76e8YpLgmEWT7IwP8svlXBI0gh4ePkOXIZGnWknHnURSF1UtqWL2kht+1PERsMI5DszMYHUqUhEHhwGAdv2l9ENMyuL7wOlafuek864bC68h15BA1oyzNSlQA6Iv0Y1oGiqISMoI4VSdxK07QCI4+z8LCsAxURcW0TLz6m1vwW7w7yLeHuGinBga4v24f3SMBQvEoS4tKuLKqmsVFJeP2/bxY+TmpfPG+qyZ1bHvXEDGnjdTsFAa6hsgtzSYjP52G5j76BkZIT3HRPxjgVHPfmAA4EogQjxs47TbicQN/IILNpnHvB1fzo19uRtdV5kwbO19v2ZRpPNZ8GKW0H2NE58jGOD89soUvf/oaVmYt58jwUZoDzcQtg/9t/Bm6orM25zJ2DOwkEA/g0Bxk2jNxqg5CZpi+SB8Ag9FBnuz4AxEjTE+kl7L+UtbnrcOluch15tIUbMapOjEtk5qUGj5acc+4RSRCvN0sy2JnexsDoRCLi4ovWFrlLKduw6nrxMw4mqrS4ffRAfgORQhEo7xv2gz+a9cODnR1UJKWzueWrSTDdXEBLRqL8w//+TSnW/pwOmx85iPrWLbg3NQI0zR59Lt/oO7lI6TnpnHXl28lr+zipmxkZXj42J2r+J9DLQx2DVE1t5zcksQ84rhh0tzRSyxmoGs6JhYh41xB51A4it2mjyli/0znc+wa2EPQCJKv53FZ7urRgvNb+l4hEB9BQWVjz6ZxAdCm2kZHIkzLJBgPUpsyla5wF4Zlsip7JQeGDxKMhtjZv4tqbxXTUmtRFZWbiq7nifbf41Ad3FJ800V9BuK9QQKgIBiLETXik67xFTbiROJGosGJxTne10tddxdz8wv42PyFlKWl80T9MY719bK0qIR1FZVv+jZDz758lPsf2g7Ahvcto9xpo3JOGVkFGahuO/m5qXT1+MjLSWVq5diJ1EvnV7B0XgWHjrezfGEVM6Ykili3dAyg64kK/Q8/vY/y4iyyMxNh65YN85h6Ip+HXtrOsSN92DU7/YMBLMvCa/PyN1M/wzHfcf71+LcAiFtxXu7bTMyMoSs6ESNCjj2bwdgguY4cZp4pt6ApGqqiYGKhoqIp5/4kU2xe8p15tARbcOtuVuYsl/An/iRsbm7ix3t3EY7H2d7WwtfXrHvdklDZbjefWryUV1qaMS2LA10djESjmJZFfyhE09AQuzvacGg6h7u72NfVwfqKqgue07IsRqJRPHY7qqIw5AvR2T2My2EjEIrS0NI7JgAO9QxzaMsxNE2lrb6D+t2nzhsATdPCMExstvE9kfnluXz4m3fR3tjDrEVV2J12ItE4f/dvj3PsZBfO9HJKbutkSl4xizMXYlkWv3lyD8+8chDX0lbyqnXWFaxmZfZyNvdtwcJCVzSqPFWjIwMA+c4CTo6cwrKg0DV+qNwX83HcX0+WLZNDviN0hDoodhVzQ+F1ODUXqbYUek720hfpozvSwy+bf80/z/oGvZFe9g0ewKN5uLbwGpk/nKQkACa5k/39/HjvLgKxKDdOqeXqmqmv+5xp2TlcVV3NM6dO4rXb6Q8GSXU6aRoe4kBXJ0PhMA8fO4JhmjQMDFCdmfWml5x5/pVjBMNRFBT2N/bwoa/dNvpYRpqHf/r8DZxq6qOyNJusjLG7DTgdNr78l9dgmtaYMhDame2ZwpEYh+s7+Nt/eYzrL5/FTVclSrrMnFqIw7GKH/dvxld8Eu802Dmwa3R4p8BZcKbYc2K41qk6Mcw4hmXg1BzcXnIrDs2OR/fgOlNyIdWWyh0lt7Ol9xUKXQUse9VQkaZo3Fv1cQ4NHyHTnkFt6lT6IwPsGtgDmCzMXCjbN4l3ROeIn0AsRqrDQYffRzAWO+92j682N79gdM7f7o42fnPoIDZN4/LKKjJdLjKcLk4PDTAYCvHv215hR1sr98ydT9EEOxlFDYP/27+Hgz3dTMnM5i8WLCI7w8usaUXsP9xKZrqHRXPKxzzHm+EluziLxkMteDO85JRM/PfT2jHIt37yHIPDQe64fiHXrR87debIiU7+6ft/JBSKckOvjw/ftowjJzo4XN+Bpqn4e03WBe/gxpo5APQPBnj6pcMY5V1YWZ20+lQeDD/OVM9Usu3ZNAeb0VUb+a6xCzFuKLyWbEcWcTPOsuyxw8hhI8z3Tn6frnAXmqKTacvApto57jvByZFT3FR0A6m2lNFpIqZlMhLzUzd0kOO+ehpGTqOg8ETHkyzKXIBNnXxBffHeIAEwyW1va6FpaBC3zcYfT53kiqoa9Ne5k9dVlQ/Nmc+ds+ZyuKebBw4doNPvx22zk+PxYFoWlmURMwxOj/Tzza2bWV9RxdU1U3DbxjcylmVxpLeH7pERZubmked9/V6umvJcGpp6z/z7+Dv4jDQPi+ZceJup19YA23DZDELhKNv2NRKNxolEYzzz8lGuu3w2+pkhm5ryXN738RL+t/l52iyT/zndTKm7hEJXIUEjyE2F19McbKUl2IKu6mwouJJ0WzrV3kryzrPKbn7GXOafZ2eQFFsKy1+1u8fB4UM0BRoBBV21cUXe+gu+RyHeCouLitnW2sJwJMKasgq8F5j6cXpwgJMD/RSlpDIz99zfwKLCYmbn5qMqymhh+s8tX8l/7NjKzrY2GocGaRoe4kR/H9+/+nr6QkH2d3ZQ4E1haXEJDQP97Ghrxanb2N3RxqqyMhYUFPGFv7iChuY+sjO9oz34Z9kdNu768vs4vusUmQUZFFTm0naig4LKPDT9XE/fMy8fobG1H01T+e2Te7h8ZS3OV+049Nzmo/QPjGCzaTz1wkE+cMNCCnLTUFAYGYmgaeroHsIALqcNj9tOf8xAsyzihsHISJhtexq5Z9kH2TWwB6/mGTdX0KE5WJu7ZsLPtSeS6Nlzqk4CRpC4FWcgMoiJiT/u58BQHcWuIpZmLmYwOkB7sIN0ezov9Wwi254FSiIU2lU7Cm/uCI14d5AAmORyPB6cuk44HqcwJQXtIoZqdVVlbn4B5enp7OvsJMVhZ0FBEaZlcf2UWn55cD++aJSNTafZ1d7G8f5e/t+qyzAtC38kQorDgaooHOvr5cd7djEUDlOVmckXlq963bmE99y2jMrSbCzLYs0lruZ7rYw0Nx+5YwXZmSn89sk9xOIGhblpaK8JikErUThVVVQsLEbiAdpDHfx7/XcJGkEybOn8Vc2ncOmuMdvHvRk0RSOxbN9C509vFbdIDpUZmfzTuisYiUbJ93rHTfEwLQtVURgIBflF3X46/D4yXW4+vmARlRnnVsg7dH3ceZcUlbC7ox3DsvDoOj2BAE1Dg/zfgb00Dw2R4nBg1zUKvCl47Q66AyNkudyoisK/vrKZNt8w10+tpTYzf8Jrz8hLZ9n1C/n177bym399DHs4xrULK7nnq7ehnrn5TfU6UVWFeNzA63aM3gCeVZSfjm7TMAyTvOxUbDYdj9tBQV4qA0NBNFWhb2CESDSOw66j2S0+/bFVvLyjgK0NL6FnhYiczGak2sIX87Msa8lFtxX5zjwKXYW0BttI1VPYkH8VdUMH6Y50Y1NtpOheftTwU9pC7Xg0D0WuImyqDcMyWJy1CF3VGYoOc0XeOllMlqTkv3qSu7yiCrduIxCLsrS45IJz9Q52d3F6cICK9IwxuwGkO12sqzg3h0RVFD4waw6He7t5ruEUpmWhKHCkp4dgNMpP9u7mxEAfs3Lz+dj8hXQHRhiKhMl0uegNBugPBTnU3UXUMFhSXDLuSwLAYde5YtW0Sb1Hy7J4ecdJWjsHWTqvgpqKC28Yf83aGXjcdkYCEVYtrh7zmRwaOsyR4aOk6qmMxEdYnLmIam8V2/q2E4gHcGkuhmM++qMDzHBNn9T1TcSwDHb276I52EKVp4qFmfNRFZX56XPRz4TAWWkT7VEixBtzuKebra3NFHhTuLp6ynm3jUxxOMYM+1qWRZtvmFdamtnd0U5pWhpXVFbji0TIdLkZjkTwRSKv+/o3105nMBTikWNH0FSVBQWFpDqcDIXDpDmd+CNRBoIhFhQUcd+iJRzr66UyPYM2n49d7W3YdY2Hjx5mSVHxeec1d/f5+O0f9uGPGSg2nc17TnNj9zBZBYn6ezdeOQfDMOkfCnD1ZTPR9bGfwS0b5uJ02BgcDnLV6mmoqoLDrpOfk0YkahAOR3n46f1s3dPA9XeW8nTwUWJmjFuvuJmCve/jj5uOkOmx01W9k28eP4VDdfCXNZ+i0lsx/lrDPTzV+TRRI8qGgiup8JQDYFft/GXNJzk10kCeI49cZw4LMudxePhIYhGJBc2BZly6m6HYEPMz5mJYJjXeKmq81VI4XkgAfK8LxWI49MQekBOxaRprysc3OpDYPaTVN0yO28NILMrDRw/THwqS6XSR4XJRmpZ+wde+a9ZcWoeHOd7XS6bLzeWVVRzv72NPZzupDgc721spiLg4sLcFNRIlNtXO4rJiXj5xml/+egcxX4y580v5zn03vaFFJDv2NfKjBzYTjsR4ecdJvvOV95F6gfIPuq6xfkUtLcFW9vt3MjU4hWJ3MYF4kN+1Pow/7kdF4c9Kb+fyvHUA1KTUkGZLwx/3k+PIpsz9xgrmtoc62Dd0ABWFvdF9lLiLKXDl47V5WZ697A2dW4jz8Uci/O/+vXT4fdjURMH4VWXlk3rupqZGnqg/xr6uDrLdbroDI0zPyWVxUTGHerqZm5/PlKzXn7Pqsdv59JJlfGjuPLpHApSnp6OpKmvKKtja2syM3FzmFyQWbk3PyWV6TuKGbiAUQldVwrEYuW4Pdu38X2+aqqLbdRRVxbJM0rJSSHnVcLHTYeMDNy0+7/N1XeOGK8Zu0+aw63zizlW8sruBJ56vQ1UU2jqH+EP7MUa8flRF5fcdT/PvV3+T9StrCTDMP574J0AhYATZM7h3wgC4sWcTx3zHUVB4quNpPl1zH5AIho+1PU7MinFDYWJ3I5fmYlHmQo776vm/xvvxxf2EjDBZjkzW5649725EIjlJAHyPsiyLx48fY3NLE4XeFD42f+GkSypYlkXj0CC/OXSQFt8QeR4v10+pJRSPk+ZwEorHCcfjr3ue6Tm5/PLm22j3JSaJV2dm0jQ8RKrDQV8wSI7dzRNP7Mc3nKi9d9X0Kbx/znz+6qePEemNoGgKR/a10dE9PGZXjovV0+8nGo3jctoZCUYY8odwu+w8vfEIPX0+1i6fStVrVgJ2hrr41vHvEDJCuDQX/2/6F/FqHixMVBQsErW0zspz5vLFaZ+nNdhGpaccr83LkeGj/F/jz9FVjY9XfuyiVtppioamaESMCG7NNWEh2bM6Qh3sGdiHTbWxJGvx6+4iIMT5xEyDqBHHoenETIOI8fp/52ft6+ogZhiYFvQHQ5SnO/DY7VxRWc21NVNHV+pOVqrDSarjXN3PD82Zx0210/DY7BP2Sq4qK2ckGqE7EGBVWfmE843Pys708qmPrOORJ3aT6bLxyT+/HLvjjS+CKCvOorQok8P1HZxo7Mamq6RrGQSVHsAaLRCfluLCZeqk29Ppi/Sjkfh7/9npnzMQHWRKSg0hI4Su6hiWeWaGnjWmHXiy4ykO+44A8FDbI3xu6mdHH9vS+woj8QBO1YGu6nys4iOYWBzzHafYVUSKbeI910VykQD4HtUXCvJSUwMxw6SuZ3IlFc56qfE0j9cf5WB3dyK0DQ0RisdYWVLG4d5uFmbnUJE++ZBRlHpuBV9Fegb3LlzC6cEBip0p/HDLRnRNxbQsnFqip3JmUT6HtRZMwyI11TmuKPPFWr6gkudfOUZrxyAzagooyEnjuc3HuP/h7cRiBrvqmvnPv799zCTvlmALYTOMXbUTNsO0BltZlLmQGwqvZ2PPJvKcuSzJXERbsI10Wzpem5dMe8aY8PWzpl/QH+1HQeGB5l/ztRlfnvQ1FzoLWJW9grZQO2Xu0guu9t0/WEdPpAfDMkm3pbHsVYtGhLgYmS43t0ybwbOnTlKWnsGSovFbop3PlKxsmoeHmJqVRYE3hVVl5SwpSkwrmcwK4dejKApD4TDf3LqFcDzOPXPnMyfv3Dw/u6ZxY+3kp12sWz6Vdctfv+oBQCxmsHnXSUzTYvXiahwXCIuKovBXH13Hxu31pHqdrFxczkt9LxE2w2MWbdlVG38z5TPsHthDU7CZJzueAsClujjur8fAQAFmp81ifvo8olaUy1/1fMsyX/XvYzf0ynZkoykaJiblnnI0VWNjzyZCRogiVyFX52+QeX9CAuB7lVu3kWJ30DQ0hMduJ/UiGuB9XR3YVR1dVWnz+Zidl09ZWgary9K5fmrtRd3FT2R2Xj5VGZns7mhn+doaDu9ppSgvnctX1gLwsauX4kGnvXOIDSumkZGWKDJrGCZb9zQQCEZYubiaFM/kdh/JTPeQm5nCwFCQ7j4f2/Y2MDAcIBiMEo3FaW4foKfPx+mWfp54vo6KkmzuuG0WmfYMBqNDZNkzmZKSWGiyJGsRS7IWYVkW/3HiP6kbPohdtfPF2s+P6+GzKbbR1XUXW2JBURRmps1g5mvm+UWMCK3BVly6m0JnAYqi4NQco70EZ/f6FOJSra+omvTN4qtdXT2FivQMNFVlalb2G24nJvLIsSPs7+pAVVR+Ubeff15zOb94dCenW/q4fGUt61ck2pBDx9v56a9fQdMU7v3gGqZWvrF9bn/56E5+/8JBAI43dI3ZJnIi+TmpvP+GczsZ3Vx84+i/+2N+HJoDu2ony5HFhoKr+NuDfzf6eNgMn2k3EvuB9EcH+Kspnx73GjcUXkfEjBC3DG4qvGHMY9cWXk2KLYWwEWZF9jI6Qp0E40G8upfhmI+IGZEAKCQAvld57HY+vmAR+zs7yfF4WFBQNOnnTsnMptPvZ1ZuHnPy8rmiqpri1MQKtTejUbcsix/u2cm21hYcms5H7prPlVXnVvJqmspd142ff/PE83U88OguDNNkV10zX/vMtZN6vUg0Tu/ACF63nWAoSnefn0Wzy7j/oR0YpokNi03bT/Dos3UEgxGOneqiKC+Nr1zxd7SG2ihxF4/bKqk30kfdcOILIWbGeLTtMf6y5lOjASxqxrgy/3Je7tmMQ3PwofIPXurHNcqyLF7seYkT/pM4NReX566lOqWaRZmLSLOloSk601In16MhxJtNV9UxZV7eCk5dR0FJjBjoOi/vOsUzm44QisU41txNRUU2lYXZ/PyRHTS39WMBv358F3//19e/odc90dg9urL5xOkeAIKhKC9trUdRYf2KsWVizufRtsd5uvMZnJqTz0z5NNXeKkzLpNhVTFe4G4B0WxpTU6ayd3AviqJydcGGCc+V78rn0zWfHPf7iBGhLdTOrLQZo6WnVEWlwFWAPzZCjbcat/b6O7eI9z4JgO9h5ekZlF/EUO1Z19RMoSYrC11VqcnMetN38TAsi/q+Ppy6ji8SoWloaPSxSDyOTdMmDJqnm/uIxhJlFU429Ywr5Hw+bped1Uuq2bj9BIV56SycXUZuVgolhRkMDAXQNRVVVTFNM1EGwoJo3KC12c8TzzWTkdbLnTctHlPXK82WiltzEzJCWFjU+0/yo4af8lc1n8KwDP7t+LdpCjRjV+18ofZvJqzif7FiVozOUBcu1YU/NkJvtJ9qqkm1pbAwc8EbPr8Qf+r+bMZsFBSihsHNtdM5XpfYTSQYi6FYMX57+BB/V7gWl8OGBSiAy/nGppAArF5czcFj7USicbLS3ViWxY8f2MymHSdRFGhpH+DeD05cr++sweggT3c+k9hByQjyQteLVFdX8cvmX3HcV49bc7Miezm3l9yKXbUxFB1GU9SLmq9nWibPd79Iw0gjHt3FFXmXU+YpJc2WxjUFVxMxwnj18WV7RHKSACjGsWna6Mq6t4KuqqwpL+ePp06Srbkot6ViWRbPnDrBo8ePku328OnFSyl8TfX/VYur2X+klVjc4PIVtZMKf/2DAX766y309PupKcvBH4yw73ALN101l/s+uIY/bjpMUV4677tmHh63g0ef2U95STYbVk/nC//yKJ09PjRVxeO2c9fN54q0OjQHX57+JX506ie0hdqJWTEODh9iMDbISDxAU6AZBYWIGWHf4H7KPWWX9FkF4kFO+k+iqzpTvDVUeas44jtKpiODElcRA9EBRuIB8p352KWSv3iPy3K7uW/Rub/DvKUefrF1D+3tQ9hLnfST2Hf3E3et5jdP7EbVFD5w47nRhJFAhJ0HGslIdTNv5oXLXr1aRpqH1BQXmgptXUM0tvZzqrmXYDBCzDDYvPMUf3Hnajp7hjlc38HMqYVjFq4d8x3nV82/xbTMRA1RVLKd2UTNKPsGD6CgYFgGcTM2+necbr/4GqIhI0xXuBuP7sYX89Eb6aPMk6hIYFdtY9qIkBHiwGAdQSPI9NTpFLgmrpso3rskAIp3xJ2z5pIbdfH4E/t45MAeepuGeYl2/JEIXSMjvNzcxPtnji2zsGReBZ936DQ09Y3Z3/NC/rjpMDsPNGGaJgePtZOe5koM8eans2x+JYvmnAtmN2+Yy80b5gJwqL6D0y39xOMGLqedcDg27txFrkJWZq/gN62/AxK1+7b17WB93lpSbSkMx3yoijpat+tSbO3bylHfcVRFJRgPsTpnJbWpU3FpTgaig/y+/Q+EzQiVngrW560d3UReiGTgdNj49N1r+fGeXRiWyfVTEnMAi/LT+dxfXDHmWNO0+Ofv/5FD9R3YbRp/cddqrpxkLVGHXcfp0IlG4+i6hsOuM6UilyP1HaDASDDMll0n+c+fbWTYHyKjFP7+0zcyvShR1mVb33Z8cR9emxfLsrg8bx1XF1yFTbFR7CridKARm2obDWuXyq25KPeUccJ/kixHJsWuwvMee8rfwKHhI6iKgj8e4PrCay5YbUC890gAFO8IVVHobBxkaCiEx2Vnx55GUpZ56Q74sakaaRMsWunsGeaBx3bR1z/CnkPNfP4vriAz/fzbvR083s6m7ScIBCPYz2zobtM1TNMiHjfP+zyAR57eh6Ioo4VeXr0XaHOgmbhlUOmpYE76bH7b+uCZ6doKdtWGS3PxpWlfYO/gfopdReMWclyMwegQuqIRs+KJ+oOKSr4zj5ZgK890PkdLsJUydwmd4U5CRgiPfuHt74R4r1laXML0nFwsyyLNef6FYeFIjIbmXuw2jWA4Rn1D16QD4Myphdx6zTwamvuYO6OYovx0ViysZvPOk0TjBl6Pk47uYXwjYTJX9uKY1cN3206yuPkKuvbaMXJ11CkaYDI9bTo3Fp2bk3hv9cfZM7CPVFsKc9MTewd3hbtpDbYyNWUqqRcxBKwoCpflrGZm6nTcuptU27lRlLO9j6MhT2F0AzgVZDu4JCQBULxjSgozcDltRGMG02uyuHnpfDY3N5HpdnN5ZfW449u7hugfDJCV6aVvYITOHt95A2DcMPnlIzsIhKPYdI28nFTm1BZxurWf2qo8Fs8tv+C1pXid2G0aNl1lalU++bmJ4Zjnul7g0bbHsICr8q/gluKb+GDZnbzUs4kqbwWX5V4GQI4jhw35V76RjweAeRlz2dq3LbG7SKSfU/5TVKdUc8J/EkgE6d5IH8tTluHSJlfnUYj3ikPH23l550kKc9O4/vLZFzzW5bSxcE45W3efwuu2s2TuxAXwX2vzzpP87MFtaJqKw25j/5FWunr83HbtfD54y1KOnOhg6fxKZtUW8vhzddhq+1BUiCtxNnVtZnBvFXa7xnX5ayitdbE0c+wCN6/u5bLc1aM/NwWa+adj/0rMjJFhz+AfZ/49Hn3yizZ0VSf/NcO53eEeXurZSMyMsSJ7OVXeSmq81QTiQUJGkGmp02T0IAlJABTvmLXLppLqdREIRlgwu5QUj5OKV+0T+lrV5TmUF2fS0T1MZWk25cXnP1YBFFVBUxQy0t1cs3Ymt14zf9LX9pHbl+Gw6YSjMW6/9twCi+39O4hbBoqisL1/B7cU38T6vLWsz7twWYhLdbb8zOaeLYwYAXYP7CXXmUe6LQ3X/2/vTqOkKu88jv9qr67u6n1habpZG1BoBGRTAQGFGGMUTWKS0eiYnKw68ZzJyUzyIjnJzJmZJCc5JpmJJiZxkrhMnHGLC0QRVBARVLYGGu0Fet/32uvWnRdoqwGhEbW6+/l+3ujBqubvVvW997n3ua4MlQfKNCNrhlYVXcIHOIwyGIrq7gd2qKN7UB63S7k5gdPu6+dwOLR2RYVer2+Xy+k8ae+8U2lu69Od976goVBM0VhCti0V5GXqya0HdfnKOe+6bESS/utfPqs7ajrU7miUlbI11ORRJJaQHLZmeCt0aUmFkqmkNrf+VX2Jfq0rWXvSHp9V/YeUTCXlkEO98V41hBs0N3vO+/7ndOJnVqk50iK3w63dPXs0I2u6/C6/lhe899NOMP4RgEgbp9PxrmvwTiVppVR3vFM52RkqKczWt758uVo7BjSpJOeUG0Tbtq3Db7QplUrpxo3Ltem5KuVlZ4z4ucFvycvJ1K03X3rSr88OVqgp0ixJqviInqXpc3rlcrqUslNyOE4s1FTmVirXmyuHHCoPlLGnF4yTSFiKJyx5PW4lk6lTXqf7t57b9bpisaScDoee3n5Eyxa+91nA5rY+/cev/qrO7iElLUs+j1sOpxSLJZSXEzjlti+F+Vn6zqJvanvnTt334Cvq3+VTMpHUpOJsLV904vd6tOUverzlSTnk0AudO3T7rNtUkf32NlizgxVyOpyybEtBd1ClGSPfwuud2qMdilgRTcqYpIArIKecsuykstxZilkxdcd7lOvJUeAszi5ifOFbA6OWbdv6zf3bteu1emX4Pbrt5jWaN3uSZk4tes/3PLxpr+5/bI9sSRs3XKBvf/Xcl2Hf6VOl16o8s1xWKqmlH9HRc2mgVIvyFqoz1qXpmdOGt4WYmXX2m/UC40V+bqau/dgF2vTcIZVOyNMlS878/0NJUbYc1S2ybVsTirJP+9qG5h519w5p2pQCtbT3a+XSmZpeVqj+gYhWLZ/1nk8oynRnan3JZbqvvkle96C8bmnRvLLhYGwKnziAtGUrZIX0y5pf6faK2zQja7pqh+p0V+3d8jq9WpJ/oa6ZfNX7emxbfeiYnm3fqogV1ezgLK0qXCmvy6tEKqFCX6EeanpEA8lBFfuKtL7kMmV5ss78QzHuEIAYtULhuPZWNcrldKqnL6S9hxo1b/ap72qzbVuplK2dr9UpkbRk29KfH39F+w836dNXLjrtkf7ZcDvdWlGw7Mwv/AC5HC4tyD319U22bcuyLc4AwkjrV52n9atG/vi3665YqOKCoCwrpZVLZ532tRXTS1Q6MU/tXQNaNG+Kbr3p0nftBXo6TqdDt39xnf7wfy8pO5ihz1/z9sHi2uJLtb/vgFJKySWXwlZYtUN1mpE1XY80P6beRK8kaX/fft0y7aYR/729U0e0UwOJQWV7gmp8MzgX5y1SW7Rdm1uf1pGBahX7CtVmp9QZ6yIADcW3BkatQIZXU0vzdfBoizIDPk0vO/XzcI81des39+9QJBpXcUFQdQ1dCoXjcjikptZe3fvobi2uLJfbNTavkeuJ96ol0qJcT45KA6XDvx6xItrZtUt98V5VBCs0P3deGqcERp+kldIjm/fqaG27Ll4yQ2tWzD5jMHb3hrTz1VqVFGbru7d+TC3t/SqfnK/MwNk9ZnHx/DItnn/yti6VufP148p/1w8P/6sGkoOSLb3cs1vrJ1x2YpPmN+/GzXS//yiblDFRuZ5ctUXb5HF6tKPrRV1SdLF6472KWTHleILqjvfo/IwJyved/cMCMD4QgBi1nE6H/uGWtdpb1ai8nMB7nv376/OHVd/QJZfLKZfToe9+4wpt3VmtVw82KJWy5fO6P5Tnkn4UolZU2zqeU0e0Q5nuLF1esm54w9bGcJOOhY/L7/Tp8MARTcuaetIj6wCT7dl3TA9v2qekZanmeKdmTS1W6cT3Dp5EwtL3fvq4jjV1ye12ae1Fs7Vs4bT3XO49G/2JfjWGmzQ1s1xF/kLle/NPBKCkhnCjJOlzZZ+R2+FSxIro6smfPN2PO60pgVJdVrJGm9qelt/l17HwcU0Nl6vQV6hif5F8Lq/yvflaXbRSOZ6z33Aa4wMBiFEtmOnXqmWnX6oJZvnldDpkWSnl5gS0ZEG55sws0UNP7dXAYEQfXzt/RE8NGY3CVkSDySFleYIaSgxpKDk0/Nf8Lr+8Do/CybBK/MXyOs/9SwoYTxJJSynblst1Yv/PRNI65euqa9u0fXeNAn6PWjv65fW61dsf1qZth7R73zENfnrFWd9I9k7dsW7925EfaSA5qAJvvr4795+1qmiljh9vkCRdUniRJCnHk6MvTb/lff8+71TsL1aRr1Cd0U753Rnyufwq8hXqspK1ClsRFXjzuXTEcPzbx5g1GIqqrqFLq5bOlMftVCSaGP6QDmb6dfOnV6R5wnOX68nRrMwZqgvVqywwRZPesbN/acZkXVS4QkPJIZVmlBKAwN9YtnCaDr/RquraNq1eVqGppQUnvSYcievOPz2v1vYBud1OTSzOUVNrrxwOh4JZPkWiCTW09JzTHEcGqtWfGJDX6VF3vEe1Q7VaV7JGs4IzFbNiH8oNXX6XXyuLLlZTuFnZnuzhu4mDnuD7urEE4w8BiDEpFI7pB3c8qYbmHhXmZel73/z48GbN44nT4dRFhSu0ILdSfpf/XUfsTodTM7JG9kg8wEQ+r1tfvWHVaV8TTyQViSbl87mVSFpad3GFzquYpC07qvXyvmPK8LlHvGn0e5maOVV+l09RK6ZMd0BT3ryWtyww5Zx+7pkU+YpU5Dt514RQMqzOWKdyPNnK83INoKkc9kh2wwRGmYPVzfqXXzylQIZH3b0hXXvFIt103fIxu9QLIH2eePagntpWpYnFOfr6jatVkJcp27bV0NyjYJb/tI+cHKmGcKNqhmo1Nzhn+DreD1N3rEcH+g7I5XRrUe4Fw3f6xqyYnu3YptZIq3I9OVpTskb5RKCROAOIMWnKpDwVFwRVe7xTkVhCj27eJ9m2/v4zF53xvbZta++hRnX1hrR0Qblys9kIFTDNwFBUv/ufF9XeNaCr1y/QL39wvZxOhxxv3jDmcDhUfool4/erLDDlQz/j9057el5RffiYZEseh1srCpdLkoaSIXXHepTryVVfok/98X4C0FBjc18MGC83O6Dv3X6lSifmKeD3yuF0aOerdSN67/bdNfrJr5/RXX96QT+682klrdSHPC2A0WbTtio9//Ibqq5p16/v265YPDkcf+OBLVsO+8Qfbb290JfjydbkwESFrbBK/CUnPYoO5iAAMWYVFwR1+cq5b+6wb2vRvJEdXdc1dikSicvv86ixpVdDoeiHOyiAUeeti58SSUttnQO658GXFInGR/z+WCyheCL5IU137pbkL9bM4Aydlz1H83Le3iPU7XRrVeFKXTFxg9aVrGETaINxDSDGtFTK1mtVDUokLC1ZUC6323XG91S93qKf/maLIpG4li2cptu/uHZcHfkDOLOBwYjuuvcFPbOjWtKJG0Zu2LhMn/3khWd87449tbr7ge1yuZy67eY1Wnj+R7e0C3xQuAYQY5rT6dCFleVn9Z55FZP04+9sVG9/WNPLi4g/wEDZwQx97Qur9crBBoUjcdm2PeIzgA8+8Yp6+yOybVuPbN5HAGJMYgkYRioqCKpiesmYfTwcgHMXzPTrpk8tV35Ops6vmKQr180f0fsK84OSbDkdDhXknfsdwkA6sAQMAMBZ6Ood0hNbDsrlcurqyyuVHcxI90jAWSMAAQAADMP6FwAAgGEIQBintaNfm7ZV6WB1c7pHAQAgLbgLGEYZDEX1k18/o5a2PmVl+nT7l9ZpQmG2JKkwn/2wAABmIABhlJ7ekHr7Qgpm+TU4FNWW7dWqOnriTOCN1y7T6uUVaZ4QwGhm27ZeePkNNbX1aekFUzVranG6RwLeF5aAYZTJE3I1b85kJa2UpkzKU3NbrwZDMQ2GYtryYnW6xwMwyu3aW6+7H3hRD2/epzt++6y6e4ZUXdOmrp6hdI8GnBXOAMIIR+vatX13jSYUZesbX1itju5BFeZl6f7H9qixtU+SVD75g3vwO4DxqacvpFg8qcwMjwZDUd3x+62qOdaprCyfvv2V9Zo1jTOCGBsIQIxrO1+t1dadR1VV3aKklZLP51Ygw6u1F82WJN2wcanKJ+dLklYunZnOUQGMAcsWTtOOPbVq7xxQ5dzJevVggzwel7p7hrT3UCMBiDGDAMS41dbRr//8w/PqH4goFIkpPycgK5nS4FB0+DV+n0eXr5ybxikBjHaxWEK/e3CnjtS0afWyWfrhP16lSCQun8+t7//sCb1R36GsTL9mlBele1RgxAhAjEs9fSH1DoRlJS35fW4lLUsej1vnVUwcPtM3FIopFImpuCDI84ABnCSVsvX4lgPasadGb9R3KJDh1V+eOaDF88s0bUqhJOmfvrZBr1U1aEJRjs6vmJjmiYGRIwAx7jyyeZ8ee2a/fF63li6cpgNHmrRoXpluvWm1soMZcjgcOlrXrp/dvUXhSEIbVs/VDRuXpXtsAKPMjj01uud/X1IoHFMiYcnpdCjH55HX8/ZXZ15OQOsunpPGKYH3hwDEuJK0Unpya5VisaT6ByJacF6p/vunN510hm/H7hq1dw0ow+fVlh3V+tTHF8nv86RpagCjSU9fSEfr2tXY2ivLSikr06doNKG5syZqw6rzNHlCriwrparXW+T1uDRnxgRWETDmEIAYV1xOhyYWZ+twTZu8XrcmFuWc8oN5YnGOfF6P4omkykvz33VED8BcfQNhff9nj6u5rV+5ORmaUV6oto4BbVh9vr78uUvkdJ74PPnjQ7v01LZDcrkcuvHaZbpy7fw0Tw6cHb71MK44HA7d/sV1em7X6wpm+rRmxexTvm7D6vPk93vUPxDRyqUzhz/UAZitvrFbrR0Dyg761dMX1o0bl+niJTNOOkjctbdesm1Fo0m9cuA4AYgxhwDEuFOQl6nrrlh42te4XM7hrWAA4C3TphRoYnG2mtv6VVyQpdkzSk65QrBoXpme2X5EXq9bC+aWpmFS4Nw4bNu20z0EAACjxVvXAE4vK1TJm88K/1vJpKXXqhrl9bhUObeUVQSMOQQgAACAYXgWMAAAgGEIQAAAAMMQgAAAAIYhAGG8VMqWZaXSPQYAAB8ZtoGB0WqPd+reh19WIpnS9Vct1vw5k9M9EoAxxrZtngSCMYcAhNGe2X5E9U3dcjodenzLAQIQwFl59sVqbdp2SBNLcnTLZy5SXk4g3SMBI8ISMIwWzPRLklKWreysjDRPA2As6R+M6LGn96u3P6z9h5u089XadI8EjBhnAGG0qy6vVEaGR719YfUOhPXz32/VNesXqLy0IN2jARjlPG6XfF6PevpC8njcCmR40z0SMGJsBA1I+u0DO7R9T60cDmlexSR96yuXp3skAGPA0bp27dhdo8FQVF09Q5o8IVd/t3GZsrP86R4NOC2WgGGEhpYeHa1r525fAB+o2dNLdP1VF6q+sVtNrX166bV6bd/9RrrHAs6IJWCMe7v3HdMfH9qlWDyplUtmKhpP6LWqBs2fXaovf/4SeTwufeKySsUTlhJJS1evX5DukQGMItFYQlVHW5QTzNCsacXDB5Iu14lzKE6nQ26XU1YqJafTIY/blc5xgRFhCRjj3u///KK27nxdmQGvotGk2rr6FY9bcrud+voXVmvjhgvSPSKAUcq2bf3inm165cBxZfi9uuyS2Xr2xaMaCsV07RULdd0VCyVJB6qbtXXnUZUUBHXNhgXK8HM9IEY3zgBi3Js5tVi79x1XLJHUpAk5aunok9PpkJ2yNTgUTfd4AEaxaCyho3Xt8vs9GhiK6PEtVWpu61UqZeueB3dqyYJylU3KV+WcyapkGymMIQQgxr2VS2equCCocCSumdOK9OM7n9b+I80qm5Svj116frrHAzCK+X0eVc6erF376pWXHZDH41Jja8+Jg0hJA4McRGJsYgkYRoonkvK4XezeD+CMEglLR+vblZ3ll9fj0g/veFLt3UO6ePF03XbzGnk8XPOHsYcABADgLNi2rVg8KZ/XzUEkxiwCEMZIWilFowllBrx8aAMAjMY1gDBCd29Id933gto7B3TRhTN0/ScWE4EARsyyUjpY3SxbUuWcycNbwABjFf8FwwivVjXo9boOxROWtu+uUUf3YLpHAjCGPPr0fv38nm36xT3b9MjmfekeBzhnBCCMkJcdkM/rVigcUzDTp6yAL90jARhDDr/RqpSVUiqV0uGa1nSPA5wzloBhhAsryxSLL1d714AWzy9TJgEI4CwsqSxXY0vP8J8DYx03gQAAcAa2bauuoUuSNL2skGuIMeYRgAAAAIbhGkAAAADDEIAAAACGIQABAAAMQwACAAAYhgAEAAAwDAEIAABgGAIQAADAMAQgAACAYQhAAAAAwxCAAAAAhiEAAQAADEMAAgAAGIYABAAAMAwBCAAAYBgCEAAAwDAEIAAAgGEIQAAAAMMQgAAAAIYhAAEAAAxDAAIAABiGAAQAADAMAQgAAGAYAhAAAMAwBCAAAIBhCEAAAADDEIAAAACGIQABAAAMQwACAAAYhgAEAAAwDAEIAABgGAIQAADAMAQgAACAYQhAAAAAwxCAAAAAhiEAAQAADEMAAgAAGIYABAAAMAwBCAAAYBgCEAAAwDAEIAAAgGEIQAAAAMMQgAAAAIYhAAEAAAxDAAIAABiGAAQAADAMAQgAAGAYAhAAAMAwBCAAAIBhCEAAAADDEIAAAACGIQABAAAMQwACAAAYhgAEAAAwDAEIAABgGAIQAADAMAQgAACAYQhAAAAAwxCAAAAAhiEAAQAADEMAAgAAGIYABAAAMAwBCAAAYBgCEAAAwDAEIAAAgGEIQAAAAMMQgAAAAIYhAAEAAAxDAAIAABiGAAQAADAMAQgAAGAYAhAAAMAwBCAAAIBhCEAAAADDEIAAAACGIQABAAAMQwACAAAYhgAEAAAwDAEIAABgGAIQAADAMAQgAACAYQhAAAAAwxCAAAAAhiEAAQAADEMAAgAAGIYABAAAMAwBCAAAYBgCEAAAwDAEIAAAgGEIQAAAAMMQgAAAAIYhAAEAAAxDAAIAABiGAAQAADAMAQgAAGAYAhAAAMAwBCAAAIBhCEAAAADDEIAAAACGIQABAAAMQwACAAAYhgAEAAAwDAEIAABgGAIQAADAMAQgAACAYQhAAAAAwxCAAAAAhiEAAQAADEMAAgAAGIYABAAAMAwBCAAAYBgCEAAAwDAEIAAAgGEIQAAAAMMQgAAAAIYhAAEAAAxDAAIAABiGAAQAADAMAQgAAGAYAhAAAMAwBCAAAIBhCEAAAADDEIAAAACGIQABAAAMQwACAAAYhgAEAAAwDAEIAABgGAIQAADAMAQgAACAYQhAAAAAwxCAAAAAhiEAAQAADEMAAgAAGIYABAAAMAwBCAAAYBgCEAAAwDAEIAAAgGEIQAAAAMMQgAAAAIYhAAEAAAxDAAIAABiGAAQAADAMAQgAAGAYAhAAAMAwBCAAAIBhCEAAAADDEIAAAACGIQABAAAMQwACAAAYhgAEAAAwDAEIAABgGAIQAADAMAQgAACAYQhAAAAAwxCAAAAAhiEAAQAADEMAAgAAGIYABAAAMAwBCAAAYBgCEAAAwDAEIAAAgGEIQAAAAMMQgAAAAIYhAAEAAAxDAAIAABiGAAQAADAMAQgAAGCY/wdUZpIHbiJmaQAAAABJRU5ErkJggg==' width=640.0/>\n",
       "            </div>\n",
       "        "
      ],
      "text/plain": [
       "Canvas(toolbar=Toolbar(toolitems=[('Home', 'Reset original view', 'home', 'home'), ('Back', 'Back to previous …"
      ]
     },
     "metadata": {},
     "output_type": "display_data"
    }
   ],
   "source": [
    "from mpl_toolkits.mplot3d import axes3d\n",
    "\n",
    "\n",
    "index_in_question = 5\n",
    "\n",
    "#Plot first clustered mesh\n",
    "dataPlot = vers[index_in_question]\n",
    "\n",
    "fig = plt.figure()\n",
    "ax = fig.add_subplot(121,projection='3d')\n",
    "\n",
    "ax.scatter(dataPlot[:,0], dataPlot[:,1], dataPlot[:,2], label=gLbls[index_in_question,:], c = gLbls[index_in_question,:], cmap = 'viridis',s = 3)\n",
    "ax.set_title('clean')\n",
    "\n",
    "plt.axis('off')\n",
    "\n",
    "#Plot second clustered point coud\n",
    "#get poison\n",
    "atkOut = atkM.forward(atkG.forward(nadjs_train,feas_clean))\n",
    "poisonedVers = translate_by_group(vers_train,gMats_train,atkOut).detach().numpy()\n",
    "\n",
    "print(poisonedVers.shape)\n",
    "#poisioedVers = np.zeros([1350,252,3])\n",
    "poisonedDataPlot = vers[index_in_question] + poisonedVers[index_in_question]\n",
    "\n",
    "ax = fig.add_subplot(122,projection='3d')\n",
    "\n",
    "ax.scatter(poisonedDataPlot[:,0], poisonedDataPlot[:,1], poisonedDataPlot[:,2], label=gLbls[index_in_question,:], c = gLbls[index_in_question,:], cmap = 'viridis', s = 3)\n",
    "ax.set_title('poisoned')\n",
    "\n",
    "plt.axis('off')\n",
    "\n",
    "plt.show()"
   ]
  },
  {
   "cell_type": "code",
   "execution_count": null,
   "id": "f511ee37",
   "metadata": {
    "collapsed": true
   },
   "outputs": [],
   "source": [
    "# ax.axes.xaxis.set_ticklabels([])\n",
    "# ax.axes.yaxis.set_ticklabels([])\n",
    "# ax.axes.zaxis.set_ticklabels([])\n",
    "# ax.set_xlabel('X')\n",
    "# ax.set_ylabel('Y')\n",
    "# ax.set_zlabel('Z')"
   ]
  },
  {
   "cell_type": "code",
   "execution_count": null,
   "id": "18cd6f3c",
   "metadata": {
    "collapsed": true
   },
   "outputs": [],
   "source": []
  },
  {
   "cell_type": "code",
   "execution_count": null,
   "id": "5d3c9cea",
   "metadata": {
    "collapsed": true
   },
   "outputs": [],
   "source": []
  },
  {
   "cell_type": "code",
   "execution_count": null,
   "id": "9889f156",
   "metadata": {
    "collapsed": true
   },
   "outputs": [],
   "source": []
  },
  {
   "cell_type": "code",
   "execution_count": null,
   "id": "62e81bfe",
   "metadata": {
    "collapsed": true
   },
   "outputs": [],
   "source": []
  }
 ],
 "metadata": {
  "kernelspec": {
   "display_name": "Python 3 (ipykernel)",
   "language": "python",
   "name": "python3"
  },
  "language_info": {
   "codemirror_mode": {
    "name": "ipython",
    "version": 3
   },
   "file_extension": ".py",
   "mimetype": "text/x-python",
   "name": "python",
   "nbconvert_exporter": "python",
   "pygments_lexer": "ipython3",
   "version": "3.10.9"
  }
 },
 "nbformat": 4,
 "nbformat_minor": 5
}
