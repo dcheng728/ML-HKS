{
 "cells": [
  {
   "cell_type": "code",
   "execution_count": 1,
   "id": "e9ab7b6e",
   "metadata": {
    "slideshow": {
     "slide_type": "slide"
    }
   },
   "outputs": [],
   "source": [
    "import torch.optim as optim\n",
    "import torch\n",
    "import numpy as np\n",
    "import matplotlib.pyplot as plt\n",
    "import random\n",
    "import os\n",
    "import prettytable as pt\n",
    "%run helpers_preproc.ipynb\n",
    "%matplotlib widget"
   ]
  },
  {
   "cell_type": "markdown",
   "id": "4b2719b0",
   "metadata": {
    "slideshow": {
     "slide_type": "skip"
    }
   },
   "source": [
    "# Hyper Parameters"
   ]
  },
  {
   "cell_type": "code",
   "execution_count": 2,
   "id": "b34c00ab",
   "metadata": {
    "slideshow": {
     "slide_type": "slide"
    }
   },
   "outputs": [],
   "source": [
    "origDataDir = 'SHREC11/'\n",
    "newDataDir = 'SHREC11_plus/'\n",
    "K = 5\n",
    "radiuss = [0.0002,0.002,0.01]\n",
    "train_size = 450 * len(radiuss)\n",
    "test_size = (600-450) * len(radiuss)"
   ]
  },
  {
   "cell_type": "markdown",
   "id": "684373cc",
   "metadata": {
    "slideshow": {
     "slide_type": "slide"
    }
   },
   "source": [
    "# 1. expand dataset and scramble"
   ]
  },
  {
   "cell_type": "code",
   "execution_count": 3,
   "id": "848dd975",
   "metadata": {
    "slideshow": {
     "slide_type": "fragment"
    }
   },
   "outputs": [],
   "source": [
    "expand(origDataDir, newDataDir, radiuss)\n",
    "scramble(newDataDir, 10000,600 * len(radiuss))"
   ]
  },
  {
   "cell_type": "markdown",
   "id": "eca467ac",
   "metadata": {
    "slideshow": {
     "slide_type": "slide"
    }
   },
   "source": [
    "# 2. read in the dataset"
   ]
  },
  {
   "cell_type": "markdown",
   "id": "51110c1a",
   "metadata": {
    "slideshow": {
     "slide_type": "slide"
    }
   },
   "source": [
    "## 2.1 read in v (252 x 3),f (...x...) and cluster"
   ]
  },
  {
   "cell_type": "code",
   "execution_count": 4,
   "id": "1428b3a4",
   "metadata": {
    "slideshow": {
     "slide_type": "fragment"
    }
   },
   "outputs": [
    {
     "name": "stderr",
     "output_type": "stream",
     "text": [
      "/var/folders/y9/sgsdqvs575j76jqnz728mwkh0000gn/T/ipykernel_22038/2399023897.py:12: RuntimeWarning: invalid value encountered in divide\n",
      "  normed_adj = adj / np.reshape(np.sum(adj,axis = 0),[252,1])\n"
     ]
    }
   ],
   "source": [
    "ver_list = []\n",
    "adj_list = []\n",
    "Nadj_list = []\n",
    "gMat_list = []\n",
    "gLbl_list = []\n",
    "\n",
    "for i in range(600 * len(radiuss)):\n",
    "    v, f = get_nodes(newDataDir + 'T' + str(i) + '.obj')\n",
    "    group_mat, group_labels = K_mean_cluster(v, K)\n",
    "    \n",
    "    adj = get_adj_from_f(f)            \n",
    "    normed_adj = adj / np.reshape(np.sum(adj,axis = 0),[252,1])\n",
    "    ver_list.append(v)\n",
    "    adj_list.append(adj)\n",
    "    Nadj_list.append(normed_adj)\n",
    "    gMat_list.append(group_mat)\n",
    "    gLbl_list.append(group_labels)\n",
    "    \n",
    "    \n",
    "vers = np.array(ver_list)\n",
    "adjs = np.array(adj_list)\n",
    "Nadjs = np.array(Nadj_list)\n",
    "gMats = np.array(gMat_list)\n",
    "gLbls = np.array(gLbl_list)"
   ]
  },
  {
   "cell_type": "markdown",
   "id": "013d531c",
   "metadata": {
    "slideshow": {
     "slide_type": "slide"
    }
   },
   "source": [
    "## 2.2 Read in the labels"
   ]
  },
  {
   "cell_type": "code",
   "execution_count": 5,
   "id": "3d47dac9",
   "metadata": {
    "slideshow": {
     "slide_type": "fragment"
    }
   },
   "outputs": [],
   "source": [
    "label_np = np.array(readLbl(600 * len(radiuss),newDataDir+'labels.txt'))\n",
    "label_np_train = label_np[:train_size]\n",
    "label_np_test = label_np[train_size:]"
   ]
  },
  {
   "cell_type": "markdown",
   "id": "5329a9ea",
   "metadata": {
    "slideshow": {
     "slide_type": "slide"
    }
   },
   "source": [
    "## 2.3 Split into training set and testing set"
   ]
  },
  {
   "cell_type": "code",
   "execution_count": 6,
   "id": "bb6dcc36",
   "metadata": {
    "slideshow": {
     "slide_type": "fragment"
    }
   },
   "outputs": [],
   "source": [
    "vers_train = torch.tensor(vers[:train_size]).float()\n",
    "adjs_train = torch.tensor(adjs[:train_size]).float()\n",
    "nadjs_train = torch.nan_to_num(torch.tensor(Nadjs[:train_size]).float(),0,0,0)\n",
    "gMats_train = torch.tensor(gMats[:train_size]).float()\n",
    "label_train = torch.tensor(label_np_train).float()\n",
    "\n",
    "vers_test = torch.tensor(vers[train_size:]).float()\n",
    "adjs_test = torch.tensor(adjs[train_size:]).float()\n",
    "nadjs_test = torch.nan_to_num(torch.tensor(Nadjs[train_size:]).float(),0,0,0)\n",
    "gMats_test = torch.tensor(gMats[train_size:]).float()\n",
    "label_test = torch.tensor(label_np_test).float()\n",
    "\n",
    "label_mat_train = torch.tensor(np.where(igl.all_pairs_distances(label_np_train,label_np_train,False) > 0.5,0,1)).float()\n",
    "label_mat_test = torch.tensor(np.where(igl.all_pairs_distances(label_np_test,label_np_test,False) > 0.5,0,1)).float()"
   ]
  },
  {
   "cell_type": "markdown",
   "id": "58ac61b4",
   "metadata": {
    "slideshow": {
     "slide_type": "slide"
    }
   },
   "source": [
    "# 3. Training"
   ]
  },
  {
   "cell_type": "markdown",
   "id": "1b06f3bb",
   "metadata": {
    "slideshow": {
     "slide_type": "slide"
    }
   },
   "source": [
    "## 3.1 Hyperparameters for training"
   ]
  },
  {
   "cell_type": "code",
   "execution_count": 7,
   "id": "5af46682",
   "metadata": {
    "slideshow": {
     "slide_type": "fragment"
    }
   },
   "outputs": [],
   "source": [
    "contraGWs = [10,10,10,10]\n",
    "contraMWs = [10,10,10,10]\n",
    "atkGWs = [10,10,10,10]\n",
    "atkMWs = [10,10,10,K * 3 + 1]"
   ]
  },
  {
   "cell_type": "markdown",
   "id": "71e6cccc",
   "metadata": {
    "slideshow": {
     "slide_type": "slide"
    }
   },
   "source": [
    "## 3.2 Initialize neural networks"
   ]
  },
  {
   "cell_type": "code",
   "execution_count": 21,
   "id": "832b8db7",
   "metadata": {
    "slideshow": {
     "slide_type": "fragment"
    }
   },
   "outputs": [],
   "source": [
    "%run NNs.ipynb\n",
    "%run helpers_preproc.ipynb\n",
    "loadWeightDir = 'weights/2-21-1/'"
   ]
  },
  {
   "cell_type": "code",
   "execution_count": 22,
   "id": "1ac9d994",
   "metadata": {},
   "outputs": [],
   "source": [
    "load_model = True"
   ]
  },
  {
   "cell_type": "code",
   "execution_count": 23,
   "id": "98ced77c",
   "metadata": {},
   "outputs": [],
   "source": [
    "contraG = GCN(3,contraGWs)\n",
    "contraM = MLP(252* contraGWs[len(contraGWs)-1],contraMWs)\n",
    "atkG = GCN(3,atkGWs)\n",
    "atkM = MLP_atk(252* atkGWs[len(contraGWs)-1], 0.2, K, atkMWs)\n",
    "\n",
    "if load_model:\n",
    "    contraG.weights = torch.load(loadWeightDir + 'contraGw.pt')\n",
    "    contraM.weights = torch.load(loadWeightDir + 'contraMw.pt')\n",
    "    atkG.weights = torch.load(loadWeightDir + 'atkGw.pt')\n",
    "    atkM.weights = torch.load(loadWeightDir + 'atkMw.pt')"
   ]
  },
  {
   "cell_type": "markdown",
   "id": "d1510530",
   "metadata": {
    "slideshow": {
     "slide_type": "slide"
    }
   },
   "source": [
    "## 3.4 Extract node-level features from clean data"
   ]
  },
  {
   "cell_type": "code",
   "execution_count": 24,
   "id": "9ca6bd8a",
   "metadata": {
    "slideshow": {
     "slide_type": "fragment"
    }
   },
   "outputs": [],
   "source": [
    "feas_clean = extract_node_feature(vers_train,adjs_train)"
   ]
  },
  {
   "cell_type": "code",
   "execution_count": 25,
   "id": "f9ce8f8a",
   "metadata": {
    "slideshow": {
     "slide_type": "fragment"
    }
   },
   "outputs": [],
   "source": [
    "%run L.ipynb"
   ]
  },
  {
   "cell_type": "markdown",
   "id": "513d148f",
   "metadata": {
    "slideshow": {
     "slide_type": "slide"
    }
   },
   "source": [
    "## 3.5 Train atkNN😈 with contraNN🤠"
   ]
  },
  {
   "cell_type": "code",
   "execution_count": 26,
   "id": "f5d3147c",
   "metadata": {
    "slideshow": {
     "slide_type": "fragment"
    }
   },
   "outputs": [],
   "source": [
    "lr = 0.0001\n",
    "torch.set_printoptions(precision=10)"
   ]
  },
  {
   "cell_type": "markdown",
   "id": "f183d60a",
   "metadata": {},
   "source": [
    "Loss Defined to be: \n",
    "\n",
    "$\\text{-diffTypeMean + sameTypeMean} + 0.02 \\times \\sqrt{\\text{sameTypeStd}}$"
   ]
  },
  {
   "cell_type": "code",
   "execution_count": 14,
   "id": "4e942233",
   "metadata": {
    "scrolled": true,
    "slideshow": {
     "slide_type": "fragment"
    }
   },
   "outputs": [
    {
     "name": "stdout",
     "output_type": "stream",
     "text": [
      "+------------------+----------+-----------+-----------+----------+\n",
      "|                  |   Loss   | Same Mean | Diff Mean | Same STD |\n",
      "+------------------+----------+-----------+-----------+----------+\n",
      "|  On Clean Data   | -0.00029 |  0.00329  |  0.00385  | 0.01965  |\n",
      "| On Poisoned Data | -0.00029 |  0.00329  |  0.00385  | 0.01966  |\n",
      "+------------------+----------+-----------+-----------+----------+\n",
      "+------------------+----------+-----------+-----------+----------+\n",
      "|                  |   Loss   | Same Mean | Diff Mean | Same STD |\n",
      "+------------------+----------+-----------+-----------+----------+\n",
      "|  On Clean Data   | -0.00037 |  0.00421  |  0.00496  | 0.02522  |\n",
      "| On Poisoned Data | -0.00037 |  0.00421  |  0.00496  | 0.02522  |\n",
      "+------------------+----------+-----------+-----------+----------+\n",
      "+------------------+----------+-----------+-----------+----------+\n",
      "|                  |   Loss   | Same Mean | Diff Mean | Same STD |\n",
      "+------------------+----------+-----------+-----------+----------+\n",
      "|  On Clean Data   | -0.00046 |   0.0053  |  0.00627  | 0.03166  |\n",
      "| On Poisoned Data | -0.00046 |  0.00529  |  0.00627  | 0.03162  |\n",
      "+------------------+----------+-----------+-----------+----------+\n",
      "+------------------+----------+-----------+-----------+----------+\n",
      "|                  |   Loss   | Same Mean | Diff Mean | Same STD |\n",
      "+------------------+----------+-----------+-----------+----------+\n",
      "|  On Clean Data   | -0.00054 |  0.00663  |  0.00788  | 0.03957  |\n",
      "| On Poisoned Data | -0.00056 |  0.00662  |  0.00788  | 0.03946  |\n",
      "+------------------+----------+-----------+-----------+----------+\n",
      "+------------------+----------+-----------+-----------+----------+\n",
      "|                  |   Loss   | Same Mean | Diff Mean | Same STD |\n",
      "+------------------+----------+-----------+-----------+----------+\n",
      "|  On Clean Data   | -0.00062 |  0.00819  |  0.00975  | 0.04876  |\n",
      "| On Poisoned Data | -0.00064 |  0.00816  |  0.00976  | 0.04855  |\n",
      "+------------------+----------+-----------+-----------+----------+\n",
      "+------------------+----------+-----------+-----------+----------+\n",
      "|                  |   Loss   | Same Mean | Diff Mean | Same STD |\n",
      "+------------------+----------+-----------+-----------+----------+\n",
      "|  On Clean Data   | -0.00069 |  0.00978  |  0.01171  | 0.05813  |\n",
      "| On Poisoned Data | -0.00071 |  0.00977  |  0.01171  |  0.058   |\n",
      "+------------------+----------+-----------+-----------+----------+\n",
      "+------------------+----------+-----------+-----------+----------+\n",
      "|                  |   Loss   | Same Mean | Diff Mean | Same STD |\n",
      "+------------------+----------+-----------+-----------+----------+\n",
      "|  On Clean Data   | -0.00076 |  0.01117  |  0.01343  | 0.06624  |\n",
      "| On Poisoned Data | -0.00078 |  0.01116  |  0.01343  |  0.0661  |\n",
      "+------------------+----------+-----------+-----------+----------+\n",
      "+------------------+----------+-----------+-----------+----------+\n",
      "|                  |   Loss   | Same Mean | Diff Mean | Same STD |\n",
      "+------------------+----------+-----------+-----------+----------+\n",
      "|  On Clean Data   | -0.00087 |  0.01229  |  0.01486  | 0.07257  |\n",
      "| On Poisoned Data | -0.00091 |  0.01226  |  0.01486  | 0.07231  |\n",
      "+------------------+----------+-----------+-----------+----------+\n",
      "+------------------+----------+-----------+-----------+----------+\n",
      "|                  |   Loss   | Same Mean | Diff Mean | Same STD |\n",
      "+------------------+----------+-----------+-----------+----------+\n",
      "|  On Clean Data   | -0.00104 |  0.01335  |  0.01626  | 0.07846  |\n",
      "| On Poisoned Data | -0.00108 |  0.01332  |  0.01626  | 0.07817  |\n",
      "+------------------+----------+-----------+-----------+----------+\n",
      "+------------------+----------+-----------+-----------+----------+\n",
      "|                  |   Loss   | Same Mean | Diff Mean | Same STD |\n",
      "+------------------+----------+-----------+-----------+----------+\n",
      "|  On Clean Data   | -0.00123 |  0.01441  |  0.01768  | 0.08425  |\n",
      "| On Poisoned Data | -0.00129 |  0.01436  |  0.01768  | 0.08382  |\n",
      "+------------------+----------+-----------+-----------+----------+\n",
      "+------------------+----------+-----------+-----------+----------+\n",
      "|                  |   Loss   | Same Mean | Diff Mean | Same STD |\n",
      "+------------------+----------+-----------+-----------+----------+\n",
      "|  On Clean Data   | -0.00147 |  0.01536  |   0.019   | 0.08936  |\n",
      "| On Poisoned Data | -0.00152 |  0.01531  |   0.019   | 0.08893  |\n",
      "+------------------+----------+-----------+-----------+----------+\n",
      "+------------------+----------+-----------+-----------+----------+\n",
      "|                  |   Loss   | Same Mean | Diff Mean | Same STD |\n",
      "+------------------+----------+-----------+-----------+----------+\n",
      "|  On Clean Data   | -0.00172 |  0.01614  |  0.02013  | 0.09339  |\n",
      "| On Poisoned Data | -0.00179 |  0.01607  |  0.02013  | 0.09287  |\n",
      "+------------------+----------+-----------+-----------+----------+\n",
      "+------------------+----------+-----------+-----------+----------+\n",
      "|                  |   Loss   | Same Mean | Diff Mean | Same STD |\n",
      "+------------------+----------+-----------+-----------+----------+\n",
      "|  On Clean Data   | -0.00199 |  0.01668  |  0.02099  | 0.09608  |\n",
      "| On Poisoned Data | -0.00202 |  0.01665  |  0.02099  | 0.09585  |\n",
      "+------------------+----------+-----------+-----------+----------+\n",
      "+------------------+----------+-----------+-----------+----------+\n",
      "|                  |   Loss   | Same Mean | Diff Mean | Same STD |\n",
      "+------------------+----------+-----------+-----------+----------+\n",
      "|  On Clean Data   | -0.00224 |   0.017   |  0.02157  | 0.09755  |\n",
      "| On Poisoned Data | -0.0023  |  0.01695  |  0.02157  | 0.09707  |\n",
      "+------------------+----------+-----------+-----------+----------+\n",
      "+------------------+----------+-----------+-----------+----------+\n",
      "|                  |   Loss   | Same Mean | Diff Mean | Same STD |\n",
      "+------------------+----------+-----------+-----------+----------+\n",
      "|  On Clean Data   | -0.00251 |  0.01709  |  0.02186  | 0.09757  |\n",
      "| On Poisoned Data | -0.00255 |  0.01705  |  0.02185  | 0.09722  |\n",
      "+------------------+----------+-----------+-----------+----------+\n",
      "+------------------+----------+-----------+-----------+----------+\n",
      "|                  |   Loss   | Same Mean | Diff Mean | Same STD |\n",
      "+------------------+----------+-----------+-----------+----------+\n",
      "|  On Clean Data   | -0.00276 |  0.01702  |  0.02195  | 0.09675  |\n",
      "| On Poisoned Data | -0.00284 |  0.01694  |  0.02194  |  0.0961  |\n",
      "+------------------+----------+-----------+-----------+----------+\n",
      "+------------------+----------+-----------+-----------+----------+\n",
      "|                  |   Loss   | Same Mean | Diff Mean | Same STD |\n",
      "+------------------+----------+-----------+-----------+----------+\n",
      "|  On Clean Data   | -0.00303 |  0.01688  |  0.02197  | 0.09547  |\n",
      "| On Poisoned Data | -0.00312 |   0.0168  |  0.02197  | 0.09481  |\n",
      "+------------------+----------+-----------+-----------+----------+\n",
      "+------------------+----------+-----------+-----------+----------+\n",
      "|                  |   Loss   | Same Mean | Diff Mean | Same STD |\n",
      "+------------------+----------+-----------+-----------+----------+\n",
      "|  On Clean Data   | -0.00331 |  0.01683  |  0.02214  | 0.09483  |\n",
      "| On Poisoned Data | -0.00337 |  0.01677  |  0.02214  | 0.09429  |\n",
      "+------------------+----------+-----------+-----------+----------+\n",
      "+------------------+----------+-----------+-----------+----------+\n",
      "|                  |   Loss   | Same Mean | Diff Mean | Same STD |\n",
      "+------------------+----------+-----------+-----------+----------+\n",
      "|  On Clean Data   | -0.00356 |  0.01711  |  0.02272  | 0.09623  |\n",
      "| On Poisoned Data | -0.00361 |  0.01706  |  0.02271  | 0.09583  |\n",
      "+------------------+----------+-----------+-----------+----------+\n",
      "+------------------+----------+-----------+-----------+----------+\n",
      "|                  |   Loss   | Same Mean | Diff Mean | Same STD |\n",
      "+------------------+----------+-----------+-----------+----------+\n",
      "|  On Clean Data   | -0.00372 |  0.01788  |  0.02384  |  0.1008  |\n",
      "| On Poisoned Data | -0.00379 |  0.01781  |  0.02384  | 0.10024  |\n",
      "+------------------+----------+-----------+-----------+----------+\n",
      "+------------------+----------+-----------+-----------+----------+\n",
      "|                  |   Loss   | Same Mean | Diff Mean | Same STD |\n",
      "+------------------+----------+-----------+-----------+----------+\n",
      "|  On Clean Data   | -0.00384 |  0.01893  |  0.02531  | 0.10717  |\n",
      "| On Poisoned Data | -0.00391 |  0.01887  |  0.02531  | 0.10662  |\n",
      "+------------------+----------+-----------+-----------+----------+\n"
     ]
    },
    {
     "name": "stdout",
     "output_type": "stream",
     "text": [
      "+------------------+----------+-----------+-----------+----------+\n",
      "|                  |   Loss   | Same Mean | Diff Mean | Same STD |\n",
      "+------------------+----------+-----------+-----------+----------+\n",
      "|  On Clean Data   | -0.00395 |  0.01989  |  0.02667  | 0.11291  |\n",
      "| On Poisoned Data | -0.00401 |  0.01983  |  0.02667  | 0.11242  |\n",
      "+------------------+----------+-----------+-----------+----------+\n",
      "+------------------+----------+-----------+-----------+----------+\n",
      "|                  |   Loss   | Same Mean | Diff Mean | Same STD |\n",
      "+------------------+----------+-----------+-----------+----------+\n",
      "|  On Clean Data   | -0.00406 |  0.02051  |  0.02758  | 0.11662  |\n",
      "| On Poisoned Data | -0.00414 |  0.02044  |  0.02758  | 0.11602  |\n",
      "+------------------+----------+-----------+-----------+----------+\n",
      "+------------------+----------+-----------+-----------+----------+\n",
      "|                  |   Loss   | Same Mean | Diff Mean | Same STD |\n",
      "+------------------+----------+-----------+-----------+----------+\n",
      "|  On Clean Data   | -0.00423 |  0.02074  |  0.02803  | 0.11784  |\n",
      "| On Poisoned Data | -0.00432 |  0.02066  |  0.02803  | 0.11718  |\n",
      "+------------------+----------+-----------+-----------+----------+\n",
      "+------------------+----------+-----------+-----------+----------+\n",
      "|                  |   Loss   | Same Mean | Diff Mean | Same STD |\n",
      "+------------------+----------+-----------+-----------+----------+\n",
      "|  On Clean Data   | -0.00438 |  0.02078  |  0.02818  | 0.11791  |\n",
      "| On Poisoned Data | -0.00446 |  0.02071  |  0.02818  | 0.11731  |\n",
      "+------------------+----------+-----------+-----------+----------+\n",
      "+------------------+----------+-----------+-----------+----------+\n",
      "|                  |   Loss   | Same Mean | Diff Mean | Same STD |\n",
      "+------------------+----------+-----------+-----------+----------+\n",
      "|  On Clean Data   | -0.00457 |   0.0207  |  0.02823  | 0.11718  |\n",
      "| On Poisoned Data | -0.00466 |  0.02062  |  0.02823  | 0.11649  |\n",
      "+------------------+----------+-----------+-----------+----------+\n",
      "+------------------+----------+-----------+-----------+----------+\n",
      "|                  |   Loss   | Same Mean | Diff Mean | Same STD |\n",
      "+------------------+----------+-----------+-----------+----------+\n",
      "|  On Clean Data   | -0.00475 |  0.02066  |   0.0283  | 0.11674  |\n",
      "| On Poisoned Data | -0.00485 |  0.02056  |  0.02829  |  0.1159  |\n",
      "+------------------+----------+-----------+-----------+----------+\n",
      "+------------------+----------+-----------+-----------+----------+\n",
      "|                  |   Loss   | Same Mean | Diff Mean | Same STD |\n",
      "+------------------+----------+-----------+-----------+----------+\n",
      "|  On Clean Data   | -0.00501 |  0.02059  |  0.02843  | 0.11591  |\n",
      "| On Poisoned Data | -0.00507 |  0.02054  |  0.02842  | 0.11546  |\n",
      "+------------------+----------+-----------+-----------+----------+\n",
      "+------------------+----------+-----------+-----------+----------+\n",
      "|                  |   Loss   | Same Mean | Diff Mean | Same STD |\n",
      "+------------------+----------+-----------+-----------+----------+\n",
      "|  On Clean Data   | -0.00521 |  0.02059  |  0.02859  |  0.1157  |\n",
      "| On Poisoned Data | -0.00529 |  0.02051  |  0.02858  | 0.11504  |\n",
      "+------------------+----------+-----------+-----------+----------+\n",
      "+------------------+----------+-----------+-----------+----------+\n",
      "|                  |   Loss   | Same Mean | Diff Mean | Same STD |\n",
      "+------------------+----------+-----------+-----------+----------+\n",
      "|  On Clean Data   | -0.00542 |  0.02058  |  0.02874  | 0.11538  |\n",
      "| On Poisoned Data | -0.00549 |  0.02051  |  0.02874  |  0.1148  |\n",
      "+------------------+----------+-----------+-----------+----------+\n",
      "+------------------+----------+-----------+-----------+----------+\n",
      "|                  |   Loss   | Same Mean | Diff Mean | Same STD |\n",
      "+------------------+----------+-----------+-----------+----------+\n",
      "|  On Clean Data   | -0.00559 |  0.02058  |  0.02889  | 0.11521  |\n",
      "| On Poisoned Data | -0.00569 |  0.02048  |  0.02888  |  0.1144  |\n",
      "+------------------+----------+-----------+-----------+----------+\n",
      "+------------------+----------+-----------+-----------+----------+\n",
      "|                  |   Loss   | Same Mean | Diff Mean | Same STD |\n",
      "+------------------+----------+-----------+-----------+----------+\n",
      "|  On Clean Data   | -0.00577 |  0.02061  |  0.02909  | 0.11524  |\n",
      "| On Poisoned Data | -0.00586 |  0.02053  |  0.02908  | 0.11456  |\n",
      "+------------------+----------+-----------+-----------+----------+\n"
     ]
    },
    {
     "ename": "KeyboardInterrupt",
     "evalue": "",
     "output_type": "error",
     "traceback": [
      "\u001b[0;31m---------------------------------------------------------------------------\u001b[0m",
      "\u001b[0;31mKeyboardInterrupt\u001b[0m                         Traceback (most recent call last)",
      "Cell \u001b[0;32mIn[14], line 52\u001b[0m\n\u001b[1;32m     50\u001b[0m overallLoss \u001b[38;5;241m=\u001b[39m \u001b[38;5;241m-\u001b[39maPerfPoisoned \u001b[38;5;241m+\u001b[39m cPerfClean \u001b[38;5;241m+\u001b[39m \u001b[38;5;241m1\u001b[39m \u001b[38;5;241m*\u001b[39m cPerfPoisoned\u001b[38;5;66;03m#  + diffInFeas\u001b[39;00m\n\u001b[1;32m     51\u001b[0m \u001b[38;5;66;03m#overallLoss = -aPerfPoisoned\u001b[39;00m\n\u001b[0;32m---> 52\u001b[0m \u001b[43moverallLoss\u001b[49m\u001b[38;5;241;43m.\u001b[39;49m\u001b[43mbackward\u001b[49m\u001b[43m(\u001b[49m\u001b[43m)\u001b[49m\n\u001b[1;32m     53\u001b[0m opt\u001b[38;5;241m.\u001b[39mstep()\n\u001b[1;32m     55\u001b[0m \u001b[38;5;28mprint\u001b[39m(trainLog)\n",
      "File \u001b[0;32m~/.conda/envs/TSM/lib/python3.10/site-packages/torch/_tensor.py:396\u001b[0m, in \u001b[0;36mTensor.backward\u001b[0;34m(self, gradient, retain_graph, create_graph, inputs)\u001b[0m\n\u001b[1;32m    387\u001b[0m \u001b[38;5;28;01mif\u001b[39;00m has_torch_function_unary(\u001b[38;5;28mself\u001b[39m):\n\u001b[1;32m    388\u001b[0m     \u001b[38;5;28;01mreturn\u001b[39;00m handle_torch_function(\n\u001b[1;32m    389\u001b[0m         Tensor\u001b[38;5;241m.\u001b[39mbackward,\n\u001b[1;32m    390\u001b[0m         (\u001b[38;5;28mself\u001b[39m,),\n\u001b[0;32m   (...)\u001b[0m\n\u001b[1;32m    394\u001b[0m         create_graph\u001b[38;5;241m=\u001b[39mcreate_graph,\n\u001b[1;32m    395\u001b[0m         inputs\u001b[38;5;241m=\u001b[39minputs)\n\u001b[0;32m--> 396\u001b[0m \u001b[43mtorch\u001b[49m\u001b[38;5;241;43m.\u001b[39;49m\u001b[43mautograd\u001b[49m\u001b[38;5;241;43m.\u001b[39;49m\u001b[43mbackward\u001b[49m\u001b[43m(\u001b[49m\u001b[38;5;28;43mself\u001b[39;49m\u001b[43m,\u001b[49m\u001b[43m \u001b[49m\u001b[43mgradient\u001b[49m\u001b[43m,\u001b[49m\u001b[43m \u001b[49m\u001b[43mretain_graph\u001b[49m\u001b[43m,\u001b[49m\u001b[43m \u001b[49m\u001b[43mcreate_graph\u001b[49m\u001b[43m,\u001b[49m\u001b[43m \u001b[49m\u001b[43minputs\u001b[49m\u001b[38;5;241;43m=\u001b[39;49m\u001b[43minputs\u001b[49m\u001b[43m)\u001b[49m\n",
      "File \u001b[0;32m~/.conda/envs/TSM/lib/python3.10/site-packages/torch/autograd/__init__.py:173\u001b[0m, in \u001b[0;36mbackward\u001b[0;34m(tensors, grad_tensors, retain_graph, create_graph, grad_variables, inputs)\u001b[0m\n\u001b[1;32m    168\u001b[0m     retain_graph \u001b[38;5;241m=\u001b[39m create_graph\n\u001b[1;32m    170\u001b[0m \u001b[38;5;66;03m# The reason we repeat same the comment below is that\u001b[39;00m\n\u001b[1;32m    171\u001b[0m \u001b[38;5;66;03m# some Python versions print out the first line of a multi-line function\u001b[39;00m\n\u001b[1;32m    172\u001b[0m \u001b[38;5;66;03m# calls in the traceback and some print out the last line\u001b[39;00m\n\u001b[0;32m--> 173\u001b[0m \u001b[43mVariable\u001b[49m\u001b[38;5;241;43m.\u001b[39;49m\u001b[43m_execution_engine\u001b[49m\u001b[38;5;241;43m.\u001b[39;49m\u001b[43mrun_backward\u001b[49m\u001b[43m(\u001b[49m\u001b[43m  \u001b[49m\u001b[38;5;66;43;03m# Calls into the C++ engine to run the backward pass\u001b[39;49;00m\n\u001b[1;32m    174\u001b[0m \u001b[43m    \u001b[49m\u001b[43mtensors\u001b[49m\u001b[43m,\u001b[49m\u001b[43m \u001b[49m\u001b[43mgrad_tensors_\u001b[49m\u001b[43m,\u001b[49m\u001b[43m \u001b[49m\u001b[43mretain_graph\u001b[49m\u001b[43m,\u001b[49m\u001b[43m \u001b[49m\u001b[43mcreate_graph\u001b[49m\u001b[43m,\u001b[49m\u001b[43m \u001b[49m\u001b[43minputs\u001b[49m\u001b[43m,\u001b[49m\n\u001b[1;32m    175\u001b[0m \u001b[43m    \u001b[49m\u001b[43mallow_unreachable\u001b[49m\u001b[38;5;241;43m=\u001b[39;49m\u001b[38;5;28;43;01mTrue\u001b[39;49;00m\u001b[43m,\u001b[49m\u001b[43m \u001b[49m\u001b[43maccumulate_grad\u001b[49m\u001b[38;5;241;43m=\u001b[39;49m\u001b[38;5;28;43;01mTrue\u001b[39;49;00m\u001b[43m)\u001b[49m\n",
      "\u001b[0;31mKeyboardInterrupt\u001b[0m: "
     ]
    }
   ],
   "source": [
    "#get clean features\n",
    "feas_clean = extract_node_feature(vers_train,adjs_train) #grad on nothing\n",
    "opt = optim.Adam(atkG.weights + atkM.weights + contraG.weights + contraM.weights, lr = lr)\n",
    "\n",
    "for contraI in range(100):\n",
    "    trainLog = pt.PrettyTable()\n",
    "    trainLog.field_names = [\" \",\"Loss\", \"Same Mean\", \"Diff Mean\", \"Same STD\"]\n",
    "    \n",
    "    \n",
    "    opt.zero_grad()\n",
    "\n",
    "    #get poisoned vertex locations\n",
    "    poisonsByGroups = atkM.forward(atkG.forward(nadjs_train,feas_clean))\n",
    "    transformation = translate_by_group(gMats_train,\n",
    "                                        poisonsByGroups)\n",
    "    poisonedVers = vers_train + transformation\n",
    "        \n",
    "        \n",
    "    #extract poisoned features\n",
    "    feas_poisoned = extract_node_feature(poisonedVers,adjs_train) #grad on 😈\n",
    "\n",
    "    \n",
    "    #get contraNN's performance on poisoned feature with grads on 😈    \n",
    "    contraM.eval()\n",
    "    contraG.eval()\n",
    "    aPerfPoisoned, APP = loss(contraM.forward(contraG.forward(nadjs_train,feas_poisoned)),\n",
    "                         label_mat_train) #grad on 😈\n",
    "    \n",
    "    #get contraNN's performance on clean feature and poisoned feature with grads on 🤠\n",
    "    contraM.train()\n",
    "    contraG.train()\n",
    "    feas_poisoned_nograd = feas_poisoned.detach() #grad on nothing\n",
    "    \n",
    "    objFeasFromClean = contraM.forward(contraG.forward(nadjs_train,feas_clean))\n",
    "    objFeasFromPoisoned = contraM.forward(contraG.forward(nadjs_train,feas_poisoned_nograd))\n",
    "    \n",
    "    diffInFeas = torch.sum((objFeasFromClean - objFeasFromPoisoned)**2)\n",
    "    \n",
    "    cPerfClean, CPC = loss(objFeasFromClean,\n",
    "                      label_mat_train) #grad on 🤠\n",
    "    \n",
    "    cPerfPoisoned, CPP = loss(objFeasFromPoisoned,\n",
    "                         label_mat_train) #grad on 🤠\n",
    "    \n",
    "    \n",
    "    trainLog.add_row(['On Clean Data']+CPC)\n",
    "    trainLog.add_row(['On Poisoned Data']+CPP)\n",
    "\n",
    "    \n",
    "    overallLoss = -aPerfPoisoned + cPerfClean + 1 * cPerfPoisoned#  + diffInFeas\n",
    "    #overallLoss = -aPerfPoisoned\n",
    "    overallLoss.backward()\n",
    "    opt.step()\n",
    "    \n",
    "    print(trainLog)"
   ]
  },
  {
   "cell_type": "markdown",
   "id": "bff459eb",
   "metadata": {
    "collapsed": true,
    "slideshow": {
     "slide_type": "skip"
    }
   },
   "source": [
    "## 3.7 Seeing how it does on Test Data"
   ]
  },
  {
   "cell_type": "code",
   "execution_count": 29,
   "id": "2cee83e1",
   "metadata": {},
   "outputs": [
    {
     "name": "stdout",
     "output_type": "stream",
     "text": [
      "tensor(-0.2025509328, grad_fn=<AddBackward0>)\n",
      "torch.Size([450, 10])\n"
     ]
    }
   ],
   "source": [
    "feas_clean_test = extract_node_feature(vers_test,adjs_test)\n",
    "\n",
    "atkTest = atkM.forward(atkG.forward(nadjs_test,feas_clean_test))\n",
    "\n",
    "poisonedVersTest = vers_test + translate_by_group(gMats_test,atkTest)\n",
    "        \n",
    "feas_poisoned_test = extract_node_feature(poisonedVersTest,adjs_test)\n",
    "        \n",
    "contraOutPoisonedTest = contraM.forward(contraG.forward(nadjs_test,feas_poisoned_test))\n",
    "contraLossPoisonedTest,_ = loss(contraOutPoisonedTest,label_mat_test)\n",
    "\n",
    "contraOutCleanTest = contraM.forward(contraG.forward(nadjs_test,feas_clean_test))\n",
    "contraLossCleanTest,_ = loss(contraOutCleanTest,label_mat_test)\n",
    "\n",
    "print(contraLossPoisonedTest)\n",
    "print(contraOutCleanTest.shape)"
   ]
  },
  {
   "cell_type": "code",
   "execution_count": null,
   "id": "c372b157",
   "metadata": {},
   "outputs": [],
   "source": []
  },
  {
   "cell_type": "code",
   "execution_count": null,
   "id": "38c3877d",
   "metadata": {},
   "outputs": [],
   "source": []
  },
  {
   "cell_type": "code",
   "execution_count": null,
   "id": "813aec57",
   "metadata": {},
   "outputs": [],
   "source": []
  },
  {
   "cell_type": "code",
   "execution_count": 16,
   "id": "5d3800b0",
   "metadata": {},
   "outputs": [],
   "source": [
    "# plt.clf()"
   ]
  },
  {
   "cell_type": "code",
   "execution_count": 27,
   "id": "f334336a",
   "metadata": {
    "slideshow": {
     "slide_type": "skip"
    }
   },
   "outputs": [
    {
     "name": "stdout",
     "output_type": "stream",
     "text": [
      "torch.Size([202500])\n",
      "torch.Size([202500])\n",
      "0.08805454 0.8401219\n"
     ]
    },
    {
     "name": "stderr",
     "output_type": "stream",
     "text": [
      "/var/folders/y9/sgsdqvs575j76jqnz728mwkh0000gn/T/ipykernel_22038/1455725483.py:4: UserWarning: To copy construct from a tensor, it is recommended to use sourceTensor.clone().detach() or sourceTensor.clone().detach().requires_grad_(True), rather than torch.tensor(sourceTensor).\n",
      "  mask_same = torch.tensor(label_mat - torch.diag(torch.ones(size)),dtype=bool).flatten()\n",
      "/var/folders/y9/sgsdqvs575j76jqnz728mwkh0000gn/T/ipykernel_22038/1455725483.py:8: UserWarning: To copy construct from a tensor, it is recommended to use sourceTensor.clone().detach() or sourceTensor.clone().detach().requires_grad_(True), rather than torch.tensor(sourceTensor).\n",
      "  mask_diff = torch.tensor(1 - label_mat,dtype=bool).flatten()\n"
     ]
    },
    {
     "name": "stdout",
     "output_type": "stream",
     "text": [
      "torch.Size([202500])\n",
      "torch.Size([202500])\n",
      "0.03608154 0.8426871\n"
     ]
    },
    {
     "data": {
      "application/vnd.jupyter.widget-view+json": {
       "model_id": "113363815872446abc8b33295c195378",
       "version_major": 2,
       "version_minor": 0
      },
      "image/png": "[encoded data removed]",
      "text/html": [
       "\n",
       "            <div style=\"display: inline-block;\">\n",
       "                <div class=\"jupyter-widgets widget-label\" style=\"text-align: center;\">\n",
       "                    Figure\n",
       "                </div>\n",
       "                <img src='data:image/png;base64,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' width=640.0/>\n",
       "            </div>\n",
       "        "
      ],
      "text/plain": [
       "Canvas(toolbar=Toolbar(toolitems=[('Home', 'Reset original view', 'home', 'home'), ('Back', 'Back to previous …"
      ]
     },
     "metadata": {},
     "output_type": "display_data"
    },
    {
     "data": {
      "application/vnd.jupyter.widget-view+json": {
       "model_id": "b84a8fdb00ad49c89e4ab883971529da",
       "version_major": 2,
       "version_minor": 0
      },
      "image/png": "[encoded data removed]",
      "text/html": [
       "\n",
       "            <div style=\"display: inline-block;\">\n",
       "                <div class=\"jupyter-widgets widget-label\" style=\"text-align: center;\">\n",
       "                    Figure\n",
       "                </div>\n",
       "                <img src='data:image/png;base64,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' width=640.0/>\n",
       "            </div>\n",
       "        "
      ],
      "text/plain": [
       "Canvas(toolbar=Toolbar(toolitems=[('Home', 'Reset original view', 'home', 'home'), ('Back', 'Back to previous …"
      ]
     },
     "metadata": {},
     "output_type": "display_data"
    }
   ],
   "source": [
    "feas_clean_test = extract_node_feature(vers_test,adjs_test)\n",
    "\n",
    "atkTest = atkM.forward(atkG.forward(nadjs_test,feas_clean_test))\n",
    "\n",
    "poisonedVersTest = vers_test + translate_by_group(gMats_test,atkTest)\n",
    "\n",
    "feas_poisoned_test = extract_node_feature(poisonedVersTest,adjs_test)\n",
    "\n",
    "contraOutPoisonedTest = contraM.forward(contraG.forward(nadjs_test,feas_poisoned_test))\n",
    "\n",
    "contraOutCleanTest = contraM.forward(contraG.forward(nadjs_test,feas_clean_test))\n",
    "\n",
    "#display histograms\n",
    "display_hists(contraOutPoisonedTest, label_mat_test, test_size)\n",
    "display_hists(contraOutCleanTest, label_mat_test, test_size)"
   ]
  },
  {
   "cell_type": "code",
   "execution_count": null,
   "id": "d98617b4",
   "metadata": {},
   "outputs": [],
   "source": []
  },
  {
   "cell_type": "code",
   "execution_count": null,
   "id": "328fda26",
   "metadata": {},
   "outputs": [],
   "source": []
  },
  {
   "cell_type": "code",
   "execution_count": null,
   "id": "3f6b4d17",
   "metadata": {},
   "outputs": [],
   "source": []
  },
  {
   "cell_type": "code",
   "execution_count": null,
   "id": "672d51d9",
   "metadata": {},
   "outputs": [],
   "source": [
    "plt.clf()"
   ]
  },
  {
   "cell_type": "code",
   "execution_count": null,
   "id": "cf1d4cc8",
   "metadata": {
    "slideshow": {
     "slide_type": "skip"
    }
   },
   "outputs": [],
   "source": [
    "from mpl_toolkits.mplot3d import axes3d\n",
    "\n",
    "\n",
    "index_in_question = 1\n",
    "\n",
    "#Plot first clustered mesh\n",
    "dataPlot = vers[index_in_question]\n",
    "\n",
    "fig = plt.figure()\n",
    "ax = fig.add_subplot(121,projection='3d')\n",
    "\n",
    "ax.scatter(dataPlot[:,0], dataPlot[:,1], dataPlot[:,2], label=gLbls[index_in_question,:], c = gLbls[index_in_question,:], cmap = 'viridis',s = 3)\n",
    "ax.set_title('clean')\n",
    "\n",
    "plt.axis('off')\n",
    "\n",
    "#Plot second clustered point coud\n",
    "#get poison\n",
    "atkOut = atkM.forward(atkG.forward(nadjs_train,feas_clean))\n",
    "poisonedVers = vers_train + translate_by_group(gMats_train,atkOut).detach().numpy()\n",
    "\n",
    "print(poisonedVers.shape)\n",
    "#poisioedVers = np.zeros([1350,252,3])\n",
    "poisonedDataPlot = poisonedVers[index_in_question]\n",
    "\n",
    "ax = fig.add_subplot(122,projection='3d')\n",
    "\n",
    "ax.scatter(poisonedDataPlot[:,0], poisonedDataPlot[:,1], poisonedDataPlot[:,2], label=gLbls[index_in_question,:], c = gLbls[index_in_question,:], cmap = 'viridis', s = 3)\n",
    "ax.set_title('poisoned')\n",
    "\n",
    "plt.axis('off')\n",
    "\n",
    "plt.show()"
   ]
  },
  {
   "cell_type": "code",
   "execution_count": null,
   "id": "f511ee37",
   "metadata": {},
   "outputs": [],
   "source": [
    "# ax.axes.xaxis.set_ticklabels([])\n",
    "# ax.axes.yaxis.set_ticklabels([])\n",
    "# ax.axes.zaxis.set_ticklabels([])\n",
    "# ax.set_xlabel('X')\n",
    "# ax.set_ylabel('Y')\n",
    "# ax.set_zlabel('Z')"
   ]
  },
  {
   "cell_type": "code",
   "execution_count": null,
   "id": "72f970b0",
   "metadata": {},
   "outputs": [],
   "source": [
    "saveWeightsDir = 'weights/2-21safdds/'\n",
    "torch.save(contraG.weights, saveWeightsDir + 'contraGw.pt')\n",
    "torch.save(contraM.weights, saveWeightsDir + 'contraMw.pt')\n",
    "torch.save(atkG.weights, saveWeightsDir + 'atkGw.pt') \n",
    "torch.save(atkM.weights, saveWeightsDir + 'atkMw.pt')"
   ]
  },
  {
   "cell_type": "code",
   "execution_count": null,
   "id": "7202b262",
   "metadata": {},
   "outputs": [],
   "source": []
  }
 ],
 "metadata": {
  "kernelspec": {
   "display_name": "Python 3 (ipykernel)",
   "language": "python",
   "name": "python3"
  },
  "language_info": {
   "codemirror_mode": {
    "name": "ipython",
    "version": 3
   },
   "file_extension": ".py",
   "mimetype": "text/x-python",
   "name": "python",
   "nbconvert_exporter": "python",
   "pygments_lexer": "ipython3",
   "version": "3.10.9"
  }
 },
 "nbformat": 4,
 "nbformat_minor": 5
}
