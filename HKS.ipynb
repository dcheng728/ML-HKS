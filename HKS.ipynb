{
 "cells": [
  {
   "cell_type": "code",
   "execution_count": null,
   "id": "842b92fc-91b9-4003-b575-31c9c8d7a49d",
   "metadata": {},
   "outputs": [],
   "source": [
    "# convert mesh to networkx graph\n",
    "# .obj file -> networkx -> graph Laplacian \n",
    "# get eigenvalues from graph Laplacian using python package "
   ]
  },
  {
   "cell_type": "code",
   "execution_count": 97,
   "id": "6ddb81a8-b5a3-4591-b8f8-9f65ab9eae8f",
   "metadata": {},
   "outputs": [],
   "source": [
    "import igl \n",
    "import networkx as nx \n",
    "import numpy as np # np.linalg.eig\n",
    "import scipy as sp\n",
    "from meshplot import plot, subplot, interact\n",
    "import meshplot as mp\n",
    "\n",
    "# igl \n",
    "import os\n",
    "root_folder = os.getcwd()"
   ]
  },
  {
   "cell_type": "markdown",
   "id": "d926acfa-59b3-4fec-baca-4c2ef04e0b27",
   "metadata": {},
   "source": [
    "Hyper Parameters"
   ]
  },
  {
   "cell_type": "code",
   "execution_count": 98,
   "id": "8da06a72-a87a-4c8e-9979-a19d3de61aab",
   "metadata": {},
   "outputs": [],
   "source": [
    "mesh_dir = '\\SHREC11'\n",
    "NUM_MESHES = 600 \n",
    "# set values of t \n",
    "ts= [0.01, 0.1, 1, 10] "
   ]
  },
  {
   "cell_type": "code",
   "execution_count": 93,
   "id": "c09b68ce-a40a-43a6-a2cb-423dbd05822a",
   "metadata": {},
   "outputs": [],
   "source": [
    "# convert mesh to networkx graph\n",
    "\n",
    "def do_task(num):\n",
    "    v, f = igl.read_triangle_mesh(os.path.join(root_folder, \"SHREC11\", \"T\"+str(num)+\".obj\"))\n",
    "    # Mesh in (v,f)\n",
    "    adj_mat = igl.adjacency_matrix(f) # this gets me the adj_mat for this mesh \n",
    "    # print(\"type\", type(adj_mat)) # type <class 'scipy.sparse._csc.csc_matrix'>\n",
    "    \n",
    "    G = nx.from_scipy_sparse_array(adj_mat) # creates a new graph from an adj matrix given as a Scipy sparse array \n",
    "    # print(\"G\", G)\n",
    "    \n",
    "    L = nx.laplacian_matrix(G).toarray() # get Laplacian matrix  \n",
    "    # print(\"L\", L)\n",
    "    \n",
    "    # get eigenvalues from graph Laplacian \n",
    "    eigen_values = np.linalg.eigvals(L)\n",
    "    # print(\"eigen_values\", eigen_values)\n",
    "    # print(\"eigen_values type\", type(eigen_values)) # ndarray\n",
    "    # print(\"eigen_values len\", len(eigen_values)) # 252 nodes hence len is 252 \n",
    "    \n",
    "    # compute e^t*eigen_value\n",
    "    \n",
    "    HKS = [] \n",
    "    \n",
    "    for t in ts:\n",
    "        t_eigen_values = t*eigen_values # an array where each lambda is multiplied by t \n",
    "        # print(\"t_eigen_values\", t*eigen_values)\n",
    "\n",
    "        h_t = np.mean(np.exp(t_eigen_values)) # get average to compute h(t) \n",
    "        # print(\"h_t\", h_t)\n",
    "        \n",
    "        HKS.append(h_t) \n",
    "        \n",
    "    return HKS \n",
    "    \n"
   ]
  },
  {
   "cell_type": "code",
   "execution_count": null,
   "id": "f2ee8361-e471-4a0b-b392-f8a78a724d14",
   "metadata": {},
   "outputs": [
    {
     "name": "stdout",
     "output_type": "stream",
     "text": [
      "HKS [1.0617000417101943, 1.8749526592039334, 3149.9692351579333, 1.118733025625597e+47]\n"
     ]
    }
   ],
   "source": [
    "# for i in range(600):\n",
    "#     do_task(i)\n",
    "\n",
    "# print(\"HKS\", do_task(3))\n",
    "\n",
    "\n"
   ]
  },
  {
   "cell_type": "code",
   "execution_count": 99,
   "id": "cbe4d1b6-b2b3-4343-a789-7470dc16a146",
   "metadata": {},
   "outputs": [],
   "source": [
    "HKS_all = [] \n",
    "\n",
    "for i in range(600):\n",
    "    HKS = do_task(i)\n",
    "    HKS_all.append(HKS)\n",
    "    \n",
    "# print(\"HKS len\", len(HKS_all))\n"
   ]
  },
  {
   "cell_type": "code",
   "execution_count": 100,
   "id": "f6155398-9112-4420-aa9f-7e658b07a17e",
   "metadata": {},
   "outputs": [],
   "source": [
    "# print(\"HKS any\", HKS_all[3])\n",
    "# print(\"HKS any\", HKS_all[5])\n",
    "# print(\"HKS any\", HKS_all[7])\n",
    "# print(\"HKS any\", HKS_all[9])\n",
    "# print(\"HKS any\", HKS_all[11])"
   ]
  },
  {
   "cell_type": "code",
   "execution_count": 101,
   "id": "c0c0785a-98c9-40cb-95ff-d70a6b955fa2",
   "metadata": {},
   "outputs": [],
   "source": [
    "# takes in a number and displays object associated with the number \n",
    "def display_single_object(num):\n",
    "    ## Load a mesh in OFF format\n",
    "    v, f = igl.read_triangle_mesh(os.path.join(root_folder, \"SHREC11\", \"T\"+str(num)+\".obj\"))\n",
    "    plot(v, f)"
   ]
  },
  {
   "cell_type": "code",
   "execution_count": 24,
   "id": "c83cae91-9688-41fc-87c8-d0458597fc2e",
   "metadata": {},
   "outputs": [
    {
     "data": {
      "application/vnd.jupyter.widget-view+json": {
       "model_id": "d9528fb79b98438fa333046ab84541b4",
       "version_major": 2,
       "version_minor": 0
      },
      "text/plain": [
       "Renderer(camera=PerspectiveCamera(children=(DirectionalLight(color='white', intensity=0.6, position=(-0.110184…"
      ]
     },
     "metadata": {},
     "output_type": "display_data"
    }
   ],
   "source": [
    "# display_single_object(3)"
   ]
  }
 ],
 "metadata": {
  "kernelspec": {
   "display_name": "Python 3 (ipykernel)",
   "language": "python",
   "name": "python3"
  },
  "language_info": {
   "codemirror_mode": {
    "name": "ipython",
    "version": 3
   },
   "file_extension": ".py",
   "mimetype": "text/x-python",
   "name": "python",
   "nbconvert_exporter": "python",
   "pygments_lexer": "ipython3",
   "version": "3.10.9"
  }
 },
 "nbformat": 4,
 "nbformat_minor": 5
}
