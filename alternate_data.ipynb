{
 "cells": [
  {
   "cell_type": "code",
   "execution_count": 51,
   "metadata": {
    "collapsed": true
   },
   "outputs": [],
   "source": [
    "# This file contains functions that alternate the points on the graph to add noise to the training sets."
   ]
  },
  {
   "cell_type": "code",
   "execution_count": 52,
   "metadata": {},
   "outputs": [],
   "source": [
    "import igl\n",
    "import numpy as np\n",
    "from numpy.random import default_rng"
   ]
  },
  {
   "cell_type": "code",
   "execution_count": 53,
   "metadata": {},
   "outputs": [],
   "source": [
    "filedir = 'SHREC11_plus/'"
   ]
  },
  {
   "cell_type": "code",
   "execution_count": 54,
   "metadata": {},
   "outputs": [],
   "source": [
    "\n",
    "def alternate_obj(fName, radius):\n",
    "    v, f = igl.read_triangle_mesh(fName)\n",
    "    v = v + np.random.random(v.shape) *radius\n",
    "    return v, f\n",
    "\n",
    "def write_new_files(origin_name,new_name,radius):\n",
    "    v,f = alternate_obj(origin_name,radius)\n",
    "    file = open(new_name, \"w\")\n",
    "    return igl.write_obj(new_name, v, f)\n",
    "\n",
    "def readLbl(fileName):\n",
    "    #takes in file name, returns the labels as an array\n",
    "    file1 = open(fileName, 'r')\n",
    "    Lines = file1.readlines()\n",
    "    count = 0\n",
    "    lbls = np.empty([600])\n",
    "    # Strips the newline character\n",
    "    for line in Lines:\n",
    "        count += 1\n",
    "        text = line.strip()[1:].split('.')\n",
    "        text[1] = text[1].split(' ')[1]\n",
    "        lbls[int(text[0])] = int(text[1])\n",
    "        #print(\"Line{}: {}\".format(count, )))\n",
    "    return lbls\n",
    "\n",
    "def update_label():\n",
    "    label_np = np.array(readLbl('SHREC11_copy/labels_copy.txt'))\n",
    "    file = open(filedir + \"labels_copy.txt\", \"a\")\n",
    "    for i in range (600):\n",
    "        file.write(\"T\" + str(i + 600) + \".obj\" + \" \" + str(label_np[i]) + \"\\n\")\n",
    "\n",
    "    return file\n"
   ]
  },
  {
   "cell_type": "code",
   "execution_count": 55,
   "metadata": {},
   "outputs": [
    {
     "name": "stderr",
     "output_type": "stream",
     "text": [
      "IOError: SHREC11_plus/T0.obj could not be opened...\n"
     ]
    },
    {
     "ename": "ValueError",
     "evalue": "File 'SHREC11_plus/T0.obj' not found.",
     "output_type": "error",
     "traceback": [
      "\u001B[0;31m---------------------------------------------------------------------------\u001B[0m",
      "\u001B[0;31mValueError\u001B[0m                                Traceback (most recent call last)",
      "Cell \u001B[0;32mIn[55], line 4\u001B[0m\n\u001B[1;32m      2\u001B[0m     origN \u001B[38;5;241m=\u001B[39m filedir \u001B[38;5;241m+\u001B[39m \u001B[38;5;124m'\u001B[39m\u001B[38;5;124mT\u001B[39m\u001B[38;5;124m'\u001B[39m \u001B[38;5;241m+\u001B[39m \u001B[38;5;28mstr\u001B[39m(i) \u001B[38;5;241m+\u001B[39m \u001B[38;5;124m'\u001B[39m\u001B[38;5;124m.obj\u001B[39m\u001B[38;5;124m'\u001B[39m\n\u001B[1;32m      3\u001B[0m     newN \u001B[38;5;241m=\u001B[39m filedir \u001B[38;5;241m+\u001B[39m \u001B[38;5;124m'\u001B[39m\u001B[38;5;124mT\u001B[39m\u001B[38;5;124m'\u001B[39m \u001B[38;5;241m+\u001B[39m \u001B[38;5;28mstr\u001B[39m(i\u001B[38;5;241m+\u001B[39m\u001B[38;5;241m600\u001B[39m) \u001B[38;5;241m+\u001B[39m \u001B[38;5;124m'\u001B[39m\u001B[38;5;124m.obj\u001B[39m\u001B[38;5;124m'\u001B[39m\n\u001B[0;32m----> 4\u001B[0m     \u001B[38;5;28mprint\u001B[39m(\u001B[43mwrite_new_files\u001B[49m\u001B[43m(\u001B[49m\u001B[43morigN\u001B[49m\u001B[43m,\u001B[49m\u001B[43mnewN\u001B[49m\u001B[43m,\u001B[49m\u001B[38;5;241;43m0.008\u001B[39;49m\u001B[43m)\u001B[49m)\n\u001B[1;32m      6\u001B[0m update_label()\n",
      "Cell \u001B[0;32mIn[54], line 7\u001B[0m, in \u001B[0;36mwrite_new_files\u001B[0;34m(origin_name, new_name, radius)\u001B[0m\n\u001B[1;32m      6\u001B[0m \u001B[38;5;28;01mdef\u001B[39;00m \u001B[38;5;21mwrite_new_files\u001B[39m(origin_name,new_name,radius):\n\u001B[0;32m----> 7\u001B[0m     v,f \u001B[38;5;241m=\u001B[39m \u001B[43malternate_obj\u001B[49m\u001B[43m(\u001B[49m\u001B[43morigin_name\u001B[49m\u001B[43m,\u001B[49m\u001B[43mradius\u001B[49m\u001B[43m)\u001B[49m\n\u001B[1;32m      8\u001B[0m     file \u001B[38;5;241m=\u001B[39m \u001B[38;5;28mopen\u001B[39m(new_name, \u001B[38;5;124m\"\u001B[39m\u001B[38;5;124mw\u001B[39m\u001B[38;5;124m\"\u001B[39m)\n\u001B[1;32m      9\u001B[0m     \u001B[38;5;28;01mreturn\u001B[39;00m igl\u001B[38;5;241m.\u001B[39mwrite_obj(new_name, v, f)\n",
      "Cell \u001B[0;32mIn[54], line 2\u001B[0m, in \u001B[0;36malternate_obj\u001B[0;34m(fName, radius)\u001B[0m\n\u001B[1;32m      1\u001B[0m \u001B[38;5;28;01mdef\u001B[39;00m \u001B[38;5;21malternate_obj\u001B[39m(fName, radius):\n\u001B[0;32m----> 2\u001B[0m     v, f \u001B[38;5;241m=\u001B[39m \u001B[43migl\u001B[49m\u001B[38;5;241;43m.\u001B[39;49m\u001B[43mread_triangle_mesh\u001B[49m\u001B[43m(\u001B[49m\u001B[43mfName\u001B[49m\u001B[43m)\u001B[49m\n\u001B[1;32m      3\u001B[0m     v \u001B[38;5;241m=\u001B[39m v \u001B[38;5;241m+\u001B[39m np\u001B[38;5;241m.\u001B[39mrandom\u001B[38;5;241m.\u001B[39mrandom(v\u001B[38;5;241m.\u001B[39mshape) \u001B[38;5;241m*\u001B[39mradius\n\u001B[1;32m      4\u001B[0m     \u001B[38;5;28;01mreturn\u001B[39;00m v, f\n",
      "\u001B[0;31mValueError\u001B[0m: File 'SHREC11_plus/T0.obj' not found."
     ]
    }
   ],
   "source": [
    "for i in range(600):\n",
    "    origN = filedir + 'T' + str(i) + '.obj'\n",
    "    newN = filedir + 'T' + str(i+600) + '.obj'\n",
    "    print(write_new_files(origN,newN,0.008))\n",
    "\n",
    "update_label()"
   ]
  },
  {
   "cell_type": "code",
   "execution_count": null,
   "metadata": {},
   "outputs": [],
   "source": []
  },
  {
   "cell_type": "code",
   "execution_count": null,
   "metadata": {},
   "outputs": [],
   "source": []
  }
 ],
 "metadata": {
  "kernelspec": {
   "display_name": "Python 3 (ipykernel)",
   "language": "python",
   "name": "python3"
  },
  "language_info": {
   "codemirror_mode": {
    "name": "ipython",
    "version": 3
   },
   "file_extension": ".py",
   "mimetype": "text/x-python",
   "name": "python",
   "nbconvert_exporter": "python",
   "pygments_lexer": "ipython3",
   "version": "3.10.9"
  }
 },
 "nbformat": 4,
 "nbformat_minor": 1
}
