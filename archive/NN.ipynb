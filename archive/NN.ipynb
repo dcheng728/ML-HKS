{
 "cells": [
  {
   "cell_type": "code",
   "execution_count": 1,
   "metadata": {
    "collapsed": true
   },
   "outputs": [],
   "source": [
    "import torch\n",
    "import matplotlib.pyplot as plt\n",
    "import torch.nn as nn\n",
    "import torch.nn.functional as F\n",
    "import collections"
   ]
  },
  {
   "cell_type": "code",
   "execution_count": 2,
   "outputs": [
    {
     "data": {
      "text/plain": "'1.11.0'"
     },
     "execution_count": 2,
     "metadata": {},
     "output_type": "execute_result"
    }
   ],
   "source": [
    "device = 'cuda' if torch.cuda.is_available() else 'cpu'"
   ],
   "metadata": {
    "collapsed": false,
    "pycharm": {
     "name": "#%%\n"
    }
   }
  },
  {
   "cell_type": "code",
   "execution_count": null,
   "outputs": [],
   "source": [
    "class MLP(nn.Module):\n",
    "    def __init__(self, dimInput, dimOutput, nLayers, width):\n",
    "        super().__init__()\n",
    "        self.layers = collections.OrderedDict()\n",
    "\n",
    "        self.layers[\"fc1\"] = nn.Linear(dimInput, width).to(device)\n",
    "\n",
    "        for i in range(2,nLayers):\n",
    "            self.layers[\"tanh\" + str(i - 1)] = nn.Tanh().to(device)\n",
    "            self.layers[\"fc\" + str(i)] = nn.Linear(width, width).to(device)\n",
    "\n",
    "        self.layers[\"tanh\" + str(nLayers - 1)] = nn.Tanh().to(device)\n",
    "        self.layers[\"fc\" + str(nLayers)] = nn.Linear(width, dimOutput).to(device)\n",
    "\n",
    "        self.model = nn.Sequential(self.layers).to(device)\n",
    "\n",
    "    def forward(self, input):\n",
    "        input = input.to(device)\n",
    "        return self.model(input)"
   ],
   "metadata": {
    "collapsed": false,
    "pycharm": {
     "name": "#%%\n"
    }
   }
  },
  {
   "cell_type": "code",
   "execution_count": null,
   "outputs": [],
   "source": [],
   "metadata": {
    "collapsed": false,
    "pycharm": {
     "name": "#%%\n"
    }
   }
  }
 ],
 "metadata": {
  "kernelspec": {
   "display_name": "Python 3",
   "language": "python",
   "name": "python3"
  },
  "language_info": {
   "codemirror_mode": {
    "name": "ipython",
    "version": 2
   },
   "file_extension": ".py",
   "mimetype": "text/x-python",
   "name": "python",
   "nbconvert_exporter": "python",
   "pygments_lexer": "ipython2",
   "version": "2.7.6"
  }
 },
 "nbformat": 4,
 "nbformat_minor": 0
}
