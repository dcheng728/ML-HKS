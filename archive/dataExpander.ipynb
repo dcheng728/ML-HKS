{
 "cells": [
  {
   "cell_type": "code",
   "execution_count": 4,
   "id": "0c68ef5e",
   "metadata": {},
   "outputs": [],
   "source": [
    "# This notebook expands the dataset by adding noise\n",
    "import torch.optim as optim\n",
    "import torch\n",
    "import numpy as np\n",
    "import random\n",
    "import os\n",
    "import glob\n",
    "%run helpers_preproc.ipynb\n",
    "%run alternate_data.ipynb"
   ]
  },
  {
   "cell_type": "code",
   "execution_count": 5,
   "id": "0668324e",
   "metadata": {},
   "outputs": [],
   "source": [
    "def expand(origDir, newDir, rs):\n",
    "    #first delete everything in newDir (so less likely to run into random errors)\n",
    "    files = glob.glob(newDir + '*')\n",
    "    for f in files:\n",
    "        os.remove(f)\n",
    "    \n",
    "    #generate additional data and update label\n",
    "    origLabel = np.array(readLbl(600,origDir + 'labels.txt'),dtype = int) #first take in the original labels\n",
    "    newLabelFile = open(newDir + \"labels.txt\", \"w\")\n",
    "    for i in range(600):\n",
    "        #First create the new obj file\n",
    "        origN = origDir + 'T' + str(i) + '.obj'\n",
    "\n",
    "        for j in range(len(radiuss)):\n",
    "            radius = rs[j]\n",
    "            newN = newDir + 'T' + str(i+600*(j)) + '.obj'\n",
    "\n",
    "            #newLabelFile.write(\"T\" + str(i) + \".obj\" + \" \" + str(origLabel[i]) + \"\\n\")\n",
    "            if not (write_new_files(origN,newN,radius)):\n",
    "                print('Data generation failed on ' , i)\n",
    "\n",
    "            newLabelFile.write(\"T\" + str(i + 600*(j)) + \".obj\" + \" \" + str(origLabel[i]) + \"\\n\")\n",
    "\n",
    "\n",
    "    newLabelFile.close()"
   ]
  },
  {
   "cell_type": "code",
   "execution_count": null,
   "id": "450256e8",
   "metadata": {},
   "outputs": [],
   "source": [
    "def scramble(scramble_dir,num_swaps, num_objs):\n",
    "    labels = np.array(readLbl(num_objs,scramble_dir+'labels.txt'))\n",
    "\n",
    "    for swap_idx in range(num_swaps):\n",
    "        idxA = random.randint(0,num_objs-1)\n",
    "        idxB = random.randint(0,num_objs-1)\n",
    "\n",
    "        if idxA != idxB:\n",
    "            labelA = labels[idxA]\n",
    "            labelB = labels[idxB]\n",
    "            labels[idxA] = labelB\n",
    "            labels[idxB] = labelA\n",
    "\n",
    "            #change filenames\n",
    "            os.rename(scramble_dir+'T' + str(idxA) + '.obj',scramble_dir+'temp.obj')\n",
    "            os.rename(scramble_dir+'T' + str(idxB) + '.obj',scramble_dir+'T' + str(idxA) + '.obj')\n",
    "            os.rename(scramble_dir+'temp.obj',scramble_dir+'T' + str(idxB) + '.obj')\n",
    "\n",
    "    newLabelFile = open(scramble_dir + \"labels.txt\", \"w\")\n",
    "    for i in range(num_objs):\n",
    "            newLabelFile.write(\"T\" + str(i) + \".obj\" + \" \" + str(labels[i]) + \"\\n\")\n",
    "\n",
    "\n",
    "    newLabelFile.close()"
   ]
  }
 ],
 "metadata": {
  "kernelspec": {
   "display_name": "Python 3 (ipykernel)",
   "language": "python",
   "name": "python3"
  },
  "language_info": {
   "codemirror_mode": {
    "name": "ipython",
    "version": 3
   },
   "file_extension": ".py",
   "mimetype": "text/x-python",
   "name": "python",
   "nbconvert_exporter": "python",
   "pygments_lexer": "ipython3",
   "version": "3.10.9"
  }
 },
 "nbformat": 4,
 "nbformat_minor": 5
}
