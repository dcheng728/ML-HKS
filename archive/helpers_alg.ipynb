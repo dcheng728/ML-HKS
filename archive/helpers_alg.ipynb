{
 "cells": [
  {
   "cell_type": "code",
   "execution_count": 310,
   "metadata": {
    "collapsed": true
   },
   "outputs": [],
   "source": [
    "import torch\n",
    "import cv2\n",
    "import numpy as np\n",
    "import matplotlib.pyplot as plt\n",
    "import networkx as nx\n",
    "from sklearn import neighbors"
   ]
  },
  {
   "cell_type": "code",
   "execution_count": 293,
   "outputs": [],
   "source": [
    "def draw_ellipse(canvas,a,b):\n",
    "    #draw a random ellipse\n",
    "\n",
    "    h,w = canvas.shape[0], canvas.shape[1]\n",
    "    center_y = int((h-1)/2)  #np.random.randint(-h/4,h/4) + int(h/2)\n",
    "    center_x = int((w-1)/2) #np.random.randint(-w/4,w/4) + int(w/2)\n",
    "    axis1 = np.random.randint(a/2,a)\n",
    "    axis2 = np.random.randint(b/2,b)\n",
    "    angle = np.random.rand() * 90\n",
    "\n",
    "    return cv2.ellipse(canvas,(center_x,center_y),(axis1,axis2),angle, 0,360,(1,1,1),thickness=-1)"
   ],
   "metadata": {
    "collapsed": false
   }
  },
  {
   "cell_type": "code",
   "execution_count": null,
   "outputs": [],
   "source": [
    "def draw_polygon(canvas,low_num_pts,high_num_pts):\n",
    "    #draw a random polygon whose number of sides is between low_num and high_num\n",
    "\n",
    "    img_height = canvas.shape[0]\n",
    "    img_width = canvas.shape[1]\n",
    "    num_pts = np.random.randint(low = low_num_pts,high = high_num_pts+1)\n",
    "\n",
    "    pts = np.random.randint(low = (img_height * 0.25), high = (img_height * 0.75),size = [num_pts,2])\n",
    "    pts = pts - np.array([10,10])\n",
    "\n",
    "\n",
    "    binary = cv2.fillConvexPoly(np.zeros(canvas.shape),pts,(1,1,1))\n",
    "    M = cv2.moments(binary)\n",
    "    cX = int((img_width-1)/2 - M[\"m10\"] / M[\"m00\"] )\n",
    "    cY = int((img_height-1)/2 -M[\"m01\"] / M[\"m00\"] )\n",
    "    center = np.array([cX,cY])\n",
    "\n",
    "    pts = pts + center\n",
    "\n",
    "    recentered = cv2.fillConvexPoly(canvas,pts,(1,1,1))\n",
    "\n",
    "    return recentered"
   ],
   "metadata": {
    "collapsed": false
   }
  },
  {
   "cell_type": "code",
   "execution_count": 294,
   "outputs": [],
   "source": [
    "def get_rand_vec(num_vecs):\n",
    "    #generates a random vector\n",
    "    vec = np.random.rand(num_vecs,2)\n",
    "    magnitudes = np.sqrt(np.sum(vec**2,axis = 1))\n",
    "    vec = vec / np.reshape(magnitudes,[num_vecs,1])\n",
    "\n",
    "    return vec\n"
   ],
   "metadata": {
    "collapsed": false
   }
  },
  {
   "cell_type": "code",
   "execution_count": 295,
   "outputs": [],
   "source": [
    "def find_vec_len(img,vecs,center,max_iter):\n",
    "    #extends out one at a time, check if the pixel\n",
    "    #vec must have magnitude 1\n",
    "\n",
    "    to_ret = []\n",
    "    for v_num in range(vecs.shape[0]):\n",
    "        for i in range(max_iter):\n",
    "            pos_to_check = np.round(center + i * vecs[v_num])\n",
    "            if img[int(pos_to_check[0]),int(pos_to_check[1])] < 1:\n",
    "                to_ret.append(i-1)\n",
    "                break\n",
    "\n",
    "    return np.array(to_ret)"
   ],
   "metadata": {
    "collapsed": false
   }
  },
  {
   "cell_type": "code",
   "execution_count": null,
   "outputs": [],
   "source": [
    "def get_length_encoding(canvass,num_samples,bins):\n",
    "    #get the length encoding of a binary image\n",
    "\n",
    "    num_drawings = canvass.shape[0]\n",
    "    canvas_width = canvass.shape[2]\n",
    "    canvas_height= canvass.shape[1]\n",
    "\n",
    "    center = np.array([(canvas_height-1) / 2, (canvas_width-1) / 2])\n",
    "    lengthss = []\n",
    "\n",
    "    vecs = get_rand_vec(num_samples)\n",
    "\n",
    "    for i in range(num_drawings):\n",
    "        lengths = find_vec_len(canvass[i],vecs,center,int(1.41*(canvas_width-1)/2))\n",
    "        hist,bin_edges = np.histogram(lengths,bins = bins,density=True)\n",
    "        lengthss.append(hist)\n",
    "\n",
    "    lengthss = np.array(lengthss)\n",
    "\n",
    "    return lengthss"
   ],
   "metadata": {
    "collapsed": false
   }
  },
  {
   "cell_type": "code",
   "execution_count": null,
   "outputs": [],
   "source": [
    "def imgs_to_adj_mat(imgs):\n",
    "    #convert binary image to adjacency matrix\n",
    "    num_imgs = imgs.shape[0]\n",
    "    to_ret = []\n",
    "    for img_idx in range(num_imgs):\n",
    "        nonzero_x, nonzero_y = np.nonzero(imgs[img_idx])\n",
    "        coords = np.stack([nonzero_x, nonzero_y]).T\n",
    "        adj_mat = neighbors.radius_neighbors_graph(coords, np.sqrt(2))\n",
    "\n",
    "        to_ret.append(adj_mat)\n",
    "\n",
    "    return to_ret"
   ],
   "metadata": {
    "collapsed": false
   }
  },
  {
   "cell_type": "code",
   "execution_count": null,
   "outputs": [],
   "source": [
    "def adj_mat_to_lap_mat(adj_mats):\n",
    "    #inputs a list of adjacency matrices, outputs a list of laplacian matrices\n",
    "    num_mats = len(adj_mats)\n",
    "    to_ret = []\n",
    "\n",
    "    for mat_idx in range(num_mats):\n",
    "        adj_mat = adj_mats[mat_idx]\n",
    "        diag_mat = np.diag(np.sum(adj_mat,axis = 0))\n",
    "        lap_mat = diag_mat - adj_mat\n",
    "        #gr = nx.from_scipy_sparse_array(adj_mat)\n",
    "        #lap_mat = nx.laplacian_matrix(gr).toarray()\n",
    "        to_ret.append(lap_mat)\n",
    "    return to_ret"
   ],
   "metadata": {
    "collapsed": false
   }
  },
  {
   "cell_type": "code",
   "execution_count": null,
   "outputs": [],
   "source": [
    "def lap_mat_to_eigen(lap_mats):\n",
    "    #compute the eigenvalues and eigenvectors of a list of laplacian matrices\n",
    "    num_mats = len(lap_mats)\n",
    "\n",
    "    evals = []\n",
    "    Us = []\n",
    "\n",
    "    for mat_idx in range(num_mats):\n",
    "        lap_mat = lap_mats[mat_idx]\n",
    "        eval, U = np.linalg.eigh(lap_mat)\n",
    "        evals.append(eval)\n",
    "        Us.append(U)\n",
    "\n",
    "    return evals, Us"
   ],
   "metadata": {
    "collapsed": false
   }
  },
  {
   "cell_type": "code",
   "execution_count": null,
   "outputs": [],
   "source": [
    "def heat_kernel_t(t, evals, U):\n",
    "    #find the heat kernel at time t\n",
    "    exp = np.exp(t * evals)\n",
    "    lamb = np.diag(exp)\n",
    "    return U.dot(lamb).dot(U.T)"
   ],
   "metadata": {
    "collapsed": false
   }
  },
  {
   "cell_type": "code",
   "execution_count": null,
   "outputs": [],
   "source": [
    "def heat_kernel_signature(ts, eval, U):\n",
    "    #find the heat kernel signature given a bunch of ts\n",
    "    toret = np.empty([ts.shape[0]])\n",
    "    for i in range(ts.shape[0]):\n",
    "        t = ts[i]\n",
    "        kernel = heat_kernel_t(t, eval, U)\n",
    "        diagonal = np.diag(kernel)\n",
    "        toret[i] = np.mean(diagonal)\n",
    "\n",
    "    return toret"
   ],
   "metadata": {
    "collapsed": false
   }
  },
  {
   "cell_type": "code",
   "execution_count": null,
   "outputs": [],
   "source": [
    "def batch_heat_kernel_signature(ts,evals,Us):\n",
    "    #find heat kernel signature given a bunch of ts of a bunch of matrices\n",
    "    num_mats = len(evals)\n",
    "    to_ret = np.empty((num_mats,ts.shape[0]))\n",
    "\n",
    "    for mat_idx in range(num_mats):\n",
    "        hks = heat_kernel_signature(ts,evals[mat_idx],Us[mat_idx])\n",
    "        to_ret[mat_idx] = hks\n",
    "\n",
    "    return to_ret"
   ],
   "metadata": {
    "collapsed": false
   }
  }
 ],
 "metadata": {
  "kernelspec": {
   "display_name": "Python 3",
   "language": "python",
   "name": "python3"
  },
  "language_info": {
   "codemirror_mode": {
    "name": "ipython",
    "version": 2
   },
   "file_extension": ".py",
   "mimetype": "text/x-python",
   "name": "python",
   "nbconvert_exporter": "python",
   "pygments_lexer": "ipython2",
   "version": "2.7.6"
  }
 },
 "nbformat": 4,
 "nbformat_minor": 0
}
