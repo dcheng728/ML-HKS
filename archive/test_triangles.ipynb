{
 "cells": [
  {
   "cell_type": "code",
   "execution_count": 546,
   "id": "7cc5580a-d2c9-4669-8427-f805352fcaa5",
   "metadata": {},
   "outputs": [],
   "source": [
    "import torch\n",
    "from sklearn.decomposition import PCA\n",
    "import matplotlib.pyplot as plt\n",
    "import pickle\n",
    "import numpy as np\n",
    "import cv2"
   ]
  },
  {
   "cell_type": "code",
   "execution_count": 557,
   "id": "3c76b711-eaaf-4ae3-a679-a44acd405301",
   "metadata": {},
   "outputs": [],
   "source": [
    "# Load and process test data\n",
    "test_set = np.load(\"data/test_imgs.npy\",allow_pickle=True)\n",
    "test_lbl = np.load(\"data/test_coords.npy\",allow_pickle=True)\n",
    "test_lbl = test_lbl.reshape(test_lbl.shape[0],6)"
   ]
  },
  {
   "cell_type": "code",
   "execution_count": 558,
   "id": "5596d1f9-fa3b-444d-84d8-dc6b4f65ebe7",
   "metadata": {},
   "outputs": [],
   "source": [
    "use_cuda = True\n",
    "if use_cuda:\n",
    "    device = torch.device('cuda')\n",
    "else:\n",
    "    device = torch.device('cpu')"
   ]
  },
  {
   "cell_type": "code",
   "execution_count": 559,
   "id": "19dcb0ab-16d8-44b2-9b8b-cb2a8ad82d1f",
   "metadata": {},
   "outputs": [],
   "source": [
    "test_set = torch.tensor(test_set).float()\n",
    "test_lbl = torch.tensor(test_lbl).float()"
   ]
  },
  {
   "cell_type": "code",
   "execution_count": 560,
   "id": "fd4ec9c0-f45c-41af-af5e-b10d55af61cd",
   "metadata": {},
   "outputs": [],
   "source": [
    "# Send data to device\n",
    "test_set = test_set.to(device)\n",
    "test_lbl = test_lbl.to(device)\n",
    "\n",
    "test_set = test_set.float()\n",
    "test_lbl = test_lbl.float()"
   ]
  },
  {
   "cell_type": "code",
   "execution_count": 561,
   "id": "64ba7119-c479-453a-8bf0-bdc9fe82063a",
   "metadata": {},
   "outputs": [
    {
     "data": {
      "text/plain": "device(type='cuda', index=0)"
     },
     "execution_count": 561,
     "metadata": {},
     "output_type": "execute_result"
    }
   ],
   "source": [
    "test_set.device\n",
    "test_lbl.device"
   ]
  },
  {
   "cell_type": "code",
   "execution_count": 562,
   "id": "7901ba8a-a339-4e34-8825-4302930e69b8",
   "metadata": {},
   "outputs": [],
   "source": [
    "# Reconstruct the structure of the neural network\n",
    "import torch.nn as nn\n",
    "import torch.nn.functional as F\n",
    "\n",
    "\n",
    "class Net(nn.Module):\n",
    "    def __init__(self):\n",
    "        super().__init__()\n",
    "        self.conv1 = nn.Conv2d(in_channels=1, out_channels=3, kernel_size=3)\n",
    "        self.pool = nn.MaxPool2d(2, 2)\n",
    "        self.conv2 = nn.Conv2d(3, 3, 5)\n",
    "\n",
    "        self.fc1 = nn.Linear(507, 16 * 16)\n",
    "        self.fc2 = nn.Linear(16*16, 8*8)\n",
    "        self.fc3 = nn.Linear(8*8, 4*4)\n",
    "        self.fc4 = nn.Linear(4*4, 6)\n",
    "\n",
    "        self.do = torch.nn.Dropout(p = 0.5)\n",
    "\n",
    "    def forward(self, x):\n",
    "\n",
    "\n",
    "        x = self.pool(F.relu(self.conv1(x)))\n",
    "        x = self.pool(F.relu(self.conv2(x)))\n",
    "\n",
    "        x = torch.flatten(x, 1) # flatten all dimensions except batch\n",
    "\n",
    "        x = self.do(x)\n",
    "\n",
    "\n",
    "\n",
    "        x = F.relu(self.fc1(x))\n",
    "        x = F.relu(self.fc2(x))\n",
    "        x = F.relu(self.fc3(x))\n",
    "        x = self.fc4(x)\n",
    "\n",
    "        return x\n",
    "\n",
    "\n",
    "net = Net()"
   ]
  },
  {
   "cell_type": "code",
   "execution_count": 563,
   "id": "fa5b11f6-71ba-43cd-b047-ec410a7b94d6",
   "metadata": {},
   "outputs": [],
   "source": [
    "# Load weight of each layer into the network\n",
    "if (use_cuda):\n",
    "    net.load_state_dict(torch.load('model_checkpoints/single_triangle_4_10.pt'))\n",
    "else:\n",
    "    net.load_state_dict(torch.load('model_checkpoints/single_triangle_4_10.pt',map_location = torch.device('cpu')))"
   ]
  },
  {
   "cell_type": "code",
   "execution_count": 564,
   "id": "fe2e236e-155f-4ea1-850d-a309ce0402c5",
   "metadata": {},
   "outputs": [
    {
     "data": {
      "text/plain": "Net(\n  (conv1): Conv2d(1, 3, kernel_size=(3, 3), stride=(1, 1))\n  (pool): MaxPool2d(kernel_size=2, stride=2, padding=0, dilation=1, ceil_mode=False)\n  (conv2): Conv2d(3, 3, kernel_size=(5, 5), stride=(1, 1))\n  (fc1): Linear(in_features=507, out_features=256, bias=True)\n  (fc2): Linear(in_features=256, out_features=64, bias=True)\n  (fc3): Linear(in_features=64, out_features=16, bias=True)\n  (fc4): Linear(in_features=16, out_features=6, bias=True)\n  (do): Dropout(p=0.5, inplace=False)\n)"
     },
     "execution_count": 564,
     "metadata": {},
     "output_type": "execute_result"
    }
   ],
   "source": [
    "#Send neural network to device\n",
    "net.to(device)"
   ]
  },
  {
   "cell_type": "code",
   "execution_count": 565,
   "id": "5e1e69e9-593e-4fc1-875a-6236fee1f1cf",
   "metadata": {},
   "outputs": [],
   "source": [
    "#Get predictions and reshape the matrix\n",
    "predictions = net(test_set.reshape(100,1,64,64))\n",
    "\n",
    "predictions = predictions.cpu().detach().numpy().reshape(100,3,2)"
   ]
  },
  {
   "cell_type": "code",
   "execution_count": 567,
   "id": "245e0aea-f9df-4d24-85fc-f7a232ac0cf5",
   "metadata": {},
   "outputs": [
    {
     "name": "stderr",
     "output_type": "stream",
     "text": [
      "Clipping input data to the valid range for imshow with RGB data ([0..1] for floats or [0..255] for integers).\n",
      "Clipping input data to the valid range for imshow with RGB data ([0..1] for floats or [0..255] for integers).\n",
      "Clipping input data to the valid range for imshow with RGB data ([0..1] for floats or [0..255] for integers).\n",
      "Clipping input data to the valid range for imshow with RGB data ([0..1] for floats or [0..255] for integers).\n",
      "Clipping input data to the valid range for imshow with RGB data ([0..1] for floats or [0..255] for integers).\n",
      "Clipping input data to the valid range for imshow with RGB data ([0..1] for floats or [0..255] for integers).\n",
      "Clipping input data to the valid range for imshow with RGB data ([0..1] for floats or [0..255] for integers).\n",
      "Clipping input data to the valid range for imshow with RGB data ([0..1] for floats or [0..255] for integers).\n",
      "Clipping input data to the valid range for imshow with RGB data ([0..1] for floats or [0..255] for integers).\n",
      "Clipping input data to the valid range for imshow with RGB data ([0..1] for floats or [0..255] for integers).\n",
      "Clipping input data to the valid range for imshow with RGB data ([0..1] for floats or [0..255] for integers).\n",
      "Clipping input data to the valid range for imshow with RGB data ([0..1] for floats or [0..255] for integers).\n",
      "Clipping input data to the valid range for imshow with RGB data ([0..1] for floats or [0..255] for integers).\n",
      "Clipping input data to the valid range for imshow with RGB data ([0..1] for floats or [0..255] for integers).\n",
      "Clipping input data to the valid range for imshow with RGB data ([0..1] for floats or [0..255] for integers).\n"
     ]
    },
    {
     "data": {
      "text/plain": "<Figure size 1080x792 with 15 Axes>",
      "image/png": "[encoded data removed]"
     },
     "metadata": {
      "needs_background": "light"
     },
     "output_type": "display_data"
    }
   ],
   "source": [
    "# Randomly pick 15 predictions to display\n",
    "test_id = np.random.randint(low = 0,high = 100,size = (3,5))\n",
    "\n",
    "fig, axs = plt.subplots(3, 5, figsize= (15,11))\n",
    "for row in range(3):\n",
    "    for col in range(5):\n",
    "        bg = np.empty([64,64,3])\n",
    "        bg[:,:,0] = test_set[test_id[row,col]].cpu().numpy() * 255\n",
    "        bg[:,:,1] = test_set[test_id[row,col]].cpu().numpy()* 255\n",
    "        bg[:,:,2] = test_set[test_id[row,col]].cpu().numpy() * 255\n",
    "        for prediction in predictions[test_id[row,col]]:\n",
    "            image = cv2.circle(bg, (int(prediction[0]),int(prediction[1])) , 1, (255,0,0), 1)\n",
    "        \n",
    "\n",
    "        axs[row,col].imshow(image)\n",
    "        axs[row,col].axis('off')\n",
    "fig.tight_layout(h_pad=0.5)\n",
    "\n",
    "plt.show()"
   ]
  },
  {
   "cell_type": "code",
   "execution_count": 545,
   "id": "6fcd6e1d-3911-4d73-8b1b-f8be1aead339",
   "metadata": {},
   "outputs": [],
   "source": [
    " "
   ]
  },
  {
   "cell_type": "code",
   "execution_count": null,
   "outputs": [],
   "source": [],
   "metadata": {
    "collapsed": false,
    "pycharm": {
     "name": "#%%\n"
    }
   }
  }
 ],
 "metadata": {
  "kernelspec": {
   "display_name": "Python 3 (ipykernel)",
   "language": "python",
   "name": "python3"
  },
  "language_info": {
   "codemirror_mode": {
    "name": "ipython",
    "version": 3
   },
   "file_extension": ".py",
   "mimetype": "text/x-python",
   "name": "python",
   "nbconvert_exporter": "python",
   "pygments_lexer": "ipython3",
   "version": "3.9.11"
  }
 },
 "nbformat": 4,
 "nbformat_minor": 5
}