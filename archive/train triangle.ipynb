{
 "cells": [
  {
   "cell_type": "code",
   "execution_count": 317,
   "metadata": {
    "tags": []
   },
   "outputs": [],
   "source": [
    "import torch\n",
    "from sklearn.decomposition import PCA\n",
    "import matplotlib.pyplot as plt\n",
    "import pickle\n",
    "import numpy as np\n",
    "import time"
   ]
  },
  {
   "cell_type": "code",
   "execution_count": 318,
   "metadata": {},
   "outputs": [],
   "source": [
    "#whether to use cuda\n",
    "use_cuda = True"
   ]
  },
  {
   "cell_type": "code",
   "execution_count": 342,
   "metadata": {
    "collapsed": false,
    "jupyter": {
     "outputs_hidden": false
    },
    "pycharm": {
     "name": "#%%\n"
    }
   },
   "outputs": [
    {
     "name": "stdout",
     "output_type": "stream",
     "text": [
      "(1000, 64, 64)\n",
      "(1000, 6)\n"
     ]
    }
   ],
   "source": [
    "#load the training/test set\n",
    "training_set = np.load(\"data/train_imgs.npy\",allow_pickle=True)\n",
    "training_lbl = np.load(\"data/train_coords.npy\",allow_pickle=True)\n",
    "training_lbl = training_lbl.reshape(training_lbl.shape[0],6)\n",
    "\n",
    "print(training_set.shape)\n",
    "print(training_lbl.shape)"
   ]
  },
  {
   "cell_type": "code",
   "execution_count": 343,
   "metadata": {},
   "outputs": [
    {
     "name": "stdout",
     "output_type": "stream",
     "text": [
      "Is CUDA supported by this system? True\n",
      "CUDA version: 11.3\n",
      "ID of current CUDA device:0\n",
      "Name of current CUDA device:NVIDIA GeForce GTX 1070\n"
     ]
    }
   ],
   "source": [
    "print(f\"Is CUDA supported by this system? {torch.cuda.is_available()}\")\n",
    "print(f\"CUDA version: {torch.version.cuda}\")\n",
    "  \n",
    "# Storing ID of current CUDA device\n",
    "cuda_id = torch.cuda.current_device()\n",
    "print(f\"ID of current CUDA device:{torch.cuda.current_device()}\")\n",
    "        \n",
    "print(f\"Name of current CUDA device:{torch.cuda.get_device_name(cuda_id)}\")"
   ]
  },
  {
   "cell_type": "code",
   "execution_count": 344,
   "metadata": {
    "collapsed": false,
    "jupyter": {
     "outputs_hidden": false
    },
    "pycharm": {
     "name": "#%%\n"
    }
   },
   "outputs": [
    {
     "name": "stdout",
     "output_type": "stream",
     "text": [
      "torch.Size([1000, 64, 64])\n"
     ]
    }
   ],
   "source": [
    "#conver the data to tensor and put it in gpu\n",
    "if (use_cuda):\n",
    "    device = torch.device('cuda')\n",
    "else:\n",
    "    device = torch.device('cpu')\n",
    "\n",
    "\n",
    "\n",
    "training_set = torch.tensor(training_set)\n",
    "training_lbl = torch.tensor(training_lbl)\n",
    "\n",
    "training_set = training_set.to(device)\n",
    "training_lbl = training_lbl.to(device)\n",
    "\n",
    "print(training_set.shape)\n",
    "\n",
    "training_set = training_set.float()\n",
    "training_lbl = training_lbl.float()"
   ]
  },
  {
   "cell_type": "code",
   "execution_count": 345,
   "metadata": {},
   "outputs": [
    {
     "data": {
      "text/plain": "device(type='cuda', index=0)"
     },
     "execution_count": 345,
     "metadata": {},
     "output_type": "execute_result"
    }
   ],
   "source": [
    "training_set.device\n",
    "training_lbl.device"
   ]
  },
  {
   "cell_type": "code",
   "execution_count": 385,
   "metadata": {
    "collapsed": false,
    "jupyter": {
     "outputs_hidden": false
    },
    "pycharm": {
     "name": "#%%\n"
    }
   },
   "outputs": [
    {
     "data": {
      "text/plain": "Net(\n  (conv1): Conv2d(1, 3, kernel_size=(3, 3), stride=(1, 1))\n  (pool): MaxPool2d(kernel_size=2, stride=2, padding=0, dilation=1, ceil_mode=False)\n  (conv2): Conv2d(3, 3, kernel_size=(5, 5), stride=(1, 1))\n  (fc1): Linear(in_features=507, out_features=256, bias=True)\n  (fc2): Linear(in_features=256, out_features=64, bias=True)\n  (fc3): Linear(in_features=64, out_features=16, bias=True)\n  (fc4): Linear(in_features=16, out_features=6, bias=True)\n  (do): Dropout(p=0.5, inplace=False)\n)"
     },
     "execution_count": 385,
     "metadata": {},
     "output_type": "execute_result"
    }
   ],
   "source": [
    "#Define the model\n",
    "\n",
    "import torch.nn as nn\n",
    "import torch.nn.functional as F\n",
    "\n",
    "\n",
    "class Net(nn.Module):\n",
    "    def __init__(self):\n",
    "        super().__init__()\n",
    "        self.conv1 = nn.Conv2d(in_channels=1, out_channels=3, kernel_size=3)\n",
    "        self.pool = nn.MaxPool2d(2, 2)\n",
    "        self.conv2 = nn.Conv2d(3, 3, 5)\n",
    "\n",
    "        self.fc1 = nn.Linear(507, 16 * 16)\n",
    "        self.fc2 = nn.Linear(16*16, 8*8)\n",
    "        self.fc3 = nn.Linear(8*8, 4*4)\n",
    "        self.fc4 = nn.Linear(4*4, 6)\n",
    "\n",
    "        self.do = torch.nn.Dropout(p = 0.5)\n",
    "\n",
    "    def forward(self, x):\n",
    "\n",
    "\n",
    "        x = self.pool(F.relu(self.conv1(x)))\n",
    "        x = self.pool(F.relu(self.conv2(x)))\n",
    "\n",
    "        x = torch.flatten(x, 1) # flatten all dimensions except batch\n",
    "\n",
    "        x = self.do(x)\n",
    "\n",
    "\n",
    "\n",
    "        x = F.relu(self.fc1(x))\n",
    "        x = F.relu(self.fc2(x))\n",
    "        x = F.relu(self.fc3(x))\n",
    "        x = self.fc4(x)\n",
    "\n",
    "        return x\n",
    "\n",
    "\n",
    "net = Net()\n",
    "net.to(device)\n",
    "\n",
    "net.train()"
   ]
  },
  {
   "cell_type": "code",
   "execution_count": 386,
   "outputs": [],
   "source": [
    "def loss_euc(output,lbl):\n",
    "    align0 = output.clone()\n",
    "    align1 = output.clone()\n",
    "    align1[:,2] = output[:,4]\n",
    "    align1[:,3] = output[:,5]\n",
    "    align1[:,4] = output[:,2]\n",
    "    align1[:,5] = output[:,3]\n",
    "\n",
    "    align2 = output.clone()\n",
    "    align2[:,0] = output[:,2]\n",
    "    align2[:,1] = output[:,3]\n",
    "    align2[:,2] = output[:,0]\n",
    "    align2[:,3] = output[:,1]\n",
    "\n",
    "    align3 = align2.clone()\n",
    "    align3[:,2] = align2[:,4]\n",
    "    align3[:,3] = align2[:,5]\n",
    "    align3[:,4] = align2[:,2]\n",
    "    align3[:,5] = align2[:,3]\n",
    "\n",
    "    align4 = output.clone()\n",
    "    align4[:,0] = output[:,4]\n",
    "    align4[:,1] = output[:,5]\n",
    "    align4[:,4] = output[:,0]\n",
    "    align4[:,5] = output[:,1]\n",
    "\n",
    "    align5 = align4.clone()\n",
    "    align5[:,2] = align4[:,4]\n",
    "    align5[:,3] = align4[:,5]\n",
    "    align5[:,4] = align4[:,2]\n",
    "    align5[:,5] = align4[:,3]\n",
    "\n",
    "    out0 = (align0 - training_lbl)**2\n",
    "    out1 = (align1 - training_lbl)**2\n",
    "    out2 = (align2 - training_lbl)**2\n",
    "    out3 = (align3 - training_lbl)**2\n",
    "    out4 = (align4 - training_lbl)**2\n",
    "    out5 = (align5 - training_lbl)**2\n",
    "\n",
    "    sum0 = torch.sum(out0,dim = 1)\n",
    "    sum1 = torch.sum(out1,dim = 1)\n",
    "    sum2 = torch.sum(out2,dim = 1)\n",
    "    sum3 = torch.sum(out3,dim = 1)\n",
    "    sum4 = torch.sum(out4,dim = 1)\n",
    "    sum5 = torch.sum(out5,dim = 1)\n",
    "\n",
    "    sums = torch.stack([sum0,sum1,sum2,sum3,sum4,sum5]).T\n",
    "\n",
    "    mins = torch.min(sums,dim = 1).values\n",
    "\n",
    "    #return torch.mean((output - lbl)**2)\n",
    "    return torch.mean(mins)"
   ],
   "metadata": {
    "collapsed": false,
    "pycharm": {
     "name": "#%%\n"
    }
   }
  },
  {
   "cell_type": "code",
   "execution_count": 402,
   "metadata": {
    "collapsed": false,
    "jupyter": {
     "outputs_hidden": false
    },
    "pycharm": {
     "name": "#%%\n"
    }
   },
   "outputs": [
    {
     "name": "stdout",
     "output_type": "stream",
     "text": [
      "tensor(6.0854, device='cuda:0', grad_fn=<MeanBackward0>) 0.009971380233764648\n",
      "tensor(6.0172, device='cuda:0', grad_fn=<MeanBackward0>) 0.03093123435974121\n",
      "tensor(6.4013, device='cuda:0', grad_fn=<MeanBackward0>) 0.030155658721923828\n",
      "tensor(5.8230, device='cuda:0', grad_fn=<MeanBackward0>) 0.046540260314941406\n",
      "tensor(5.8184, device='cuda:0', grad_fn=<MeanBackward0>) 0.030847787857055664\n",
      "tensor(5.6626, device='cuda:0', grad_fn=<MeanBackward0>) 0.031707763671875\n",
      "tensor(6.3300, device='cuda:0', grad_fn=<MeanBackward0>) 0.03137969970703125\n",
      "tensor(6.0154, device='cuda:0', grad_fn=<MeanBackward0>) 0.031463623046875\n",
      "tensor(6.0127, device='cuda:0', grad_fn=<MeanBackward0>) 0.04265189170837402\n",
      "tensor(5.9077, device='cuda:0', grad_fn=<MeanBackward0>) 0.029107332229614258\n",
      "tensor(6.3667, device='cuda:0', grad_fn=<MeanBackward0>) 0.04294395446777344\n",
      "tensor(6.1835, device='cuda:0', grad_fn=<MeanBackward0>) 0.027894020080566406\n",
      "tensor(5.9421, device='cuda:0', grad_fn=<MeanBackward0>) 0.03092670440673828\n",
      "tensor(6.2034, device='cuda:0', grad_fn=<MeanBackward0>) 0.026960134506225586\n",
      "tensor(5.9069, device='cuda:0', grad_fn=<MeanBackward0>) 0.0456850528717041\n",
      "tensor(6.0882, device='cuda:0', grad_fn=<MeanBackward0>) 0.04590940475463867\n"
     ]
    },
    {
     "ename": "KeyboardInterrupt",
     "evalue": "",
     "output_type": "error",
     "traceback": [
      "\u001B[1;31m---------------------------------------------------------------------------\u001B[0m",
      "\u001B[1;31mKeyboardInterrupt\u001B[0m                         Traceback (most recent call last)",
      "Input \u001B[1;32mIn [402]\u001B[0m, in \u001B[0;36m<cell line: 6>\u001B[1;34m()\u001B[0m\n\u001B[0;32m      6\u001B[0m \u001B[38;5;28;01mfor\u001B[39;00m ii \u001B[38;5;129;01min\u001B[39;00m \u001B[38;5;28mrange\u001B[39m(\u001B[38;5;241m10000\u001B[39m):\n\u001B[0;32m      7\u001B[0m     t \u001B[38;5;241m=\u001B[39m time\u001B[38;5;241m.\u001B[39mtime()\n\u001B[1;32m----> 9\u001B[0m     \u001B[43mopt\u001B[49m\u001B[38;5;241;43m.\u001B[39;49m\u001B[43mzero_grad\u001B[49m\u001B[43m(\u001B[49m\u001B[43m)\u001B[49m\n\u001B[0;32m     10\u001B[0m     outputs \u001B[38;5;241m=\u001B[39m net(training_set\u001B[38;5;241m.\u001B[39mreshape(\u001B[38;5;241m1000\u001B[39m,\u001B[38;5;241m1\u001B[39m,\u001B[38;5;241m64\u001B[39m,\u001B[38;5;241m64\u001B[39m))\n\u001B[0;32m     12\u001B[0m     loss \u001B[38;5;241m=\u001B[39mloss_euc(outputs,training_lbl)\n",
      "File \u001B[1;32mE:\\Anaconda\\envs\\comp_graph_env\\lib\\site-packages\\torch\\optim\\optimizer.py:222\u001B[0m, in \u001B[0;36mOptimizer.zero_grad\u001B[1;34m(self, set_to_none)\u001B[0m\n\u001B[0;32m    220\u001B[0m     p\u001B[38;5;241m.\u001B[39mgrad\u001B[38;5;241m.\u001B[39mrequires_grad_(\u001B[38;5;28;01mFalse\u001B[39;00m)\n\u001B[0;32m    221\u001B[0m \u001B[38;5;28;01mif\u001B[39;00m (\u001B[38;5;129;01mnot\u001B[39;00m foreach \u001B[38;5;129;01mor\u001B[39;00m p\u001B[38;5;241m.\u001B[39mgrad\u001B[38;5;241m.\u001B[39mis_sparse):\n\u001B[1;32m--> 222\u001B[0m     \u001B[43mp\u001B[49m\u001B[38;5;241;43m.\u001B[39;49m\u001B[43mgrad\u001B[49m\u001B[38;5;241;43m.\u001B[39;49m\u001B[43mzero_\u001B[49m\u001B[43m(\u001B[49m\u001B[43m)\u001B[49m\n\u001B[0;32m    223\u001B[0m \u001B[38;5;28;01melse\u001B[39;00m:\n\u001B[0;32m    224\u001B[0m     per_device_and_dtype_grads[p\u001B[38;5;241m.\u001B[39mgrad\u001B[38;5;241m.\u001B[39mdevice][p\u001B[38;5;241m.\u001B[39mgrad\u001B[38;5;241m.\u001B[39mdtype]\u001B[38;5;241m.\u001B[39mappend(p\u001B[38;5;241m.\u001B[39mgrad)\n",
      "\u001B[1;31mKeyboardInterrupt\u001B[0m: "
     ]
    }
   ],
   "source": [
    "#Define a loss function\n",
    "criterion = nn.MSELoss()\n",
    "\n",
    "#Train the model with a high learning rate first\n",
    "opt = torch.optim.Adam(net.parameters(), 0.00001)\n",
    "for ii in range(10000):\n",
    "    t = time.time()\n",
    "\n",
    "    opt.zero_grad()\n",
    "    outputs = net(training_set.reshape(1000,1,64,64))\n",
    "\n",
    "    loss =loss_euc(outputs,training_lbl)\n",
    "\n",
    "\n",
    "    #loss = criterion(outputs,training_lbl)\n",
    "    loss.backward()\n",
    "    opt.step()\n",
    "\n",
    "    if (ii % 100== 0):\n",
    "        print(loss,time.time() - t)\n",
    "\n"
   ]
  },
  {
   "cell_type": "markdown",
   "source": [],
   "metadata": {
    "collapsed": false
   }
  },
  {
   "cell_type": "markdown",
   "source": [],
   "metadata": {
    "collapsed": false
   }
  },
  {
   "cell_type": "markdown",
   "source": [],
   "metadata": {
    "collapsed": false
   }
  },
  {
   "cell_type": "code",
   "execution_count": 403,
   "metadata": {},
   "outputs": [],
   "source": [
    "torch.save(net.state_dict(), \"model_checkpoints/single_triangle_4_10.pt\")"
   ]
  },
  {
   "cell_type": "code",
   "execution_count": null,
   "outputs": [],
   "source": [],
   "metadata": {
    "collapsed": false,
    "pycharm": {
     "name": "#%%\n"
    }
   }
  }
 ],
 "metadata": {
  "kernelspec": {
   "display_name": "Python 3 (ipykernel)",
   "language": "python",
   "name": "python3"
  },
  "language_info": {
   "codemirror_mode": {
    "name": "ipython",
    "version": 3
   },
   "file_extension": ".py",
   "mimetype": "text/x-python",
   "name": "python",
   "nbconvert_exporter": "python",
   "pygments_lexer": "ipython3",
   "version": "3.9.11"
  }
 },
 "nbformat": 4,
 "nbformat_minor": 4
}