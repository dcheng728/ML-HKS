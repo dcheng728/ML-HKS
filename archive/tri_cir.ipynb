{
 "cells": [
  {
   "cell_type": "code",
   "execution_count": 1,
   "metadata": {
    "collapsed": true
   },
   "outputs": [
    {
     "name": "stderr",
     "output_type": "stream",
     "text": [
      "/Users/mingyuzhu/opt/anaconda3/envs/comp_graph_theory/lib/python3.9/site-packages/tqdm/auto.py:22: TqdmWarning: IProgress not found. Please update jupyter and ipywidgets. See https://ipywidgets.readthedocs.io/en/stable/user_install.html\n",
      "  from .autonotebook import tqdm as notebook_tqdm\n"
     ]
    }
   ],
   "source": [
    "import numpy as np\n",
    "import matplotlib.pyplot as plt\n",
    "from scipy.ndimage import convolve\n",
    "import networkx as nx\n",
    "from skimage.io import imread"
   ]
  },
  {
   "cell_type": "code",
   "execution_count": 2,
   "outputs": [],
   "source": [
    "#create triangle of a given side length that is positioned upright\n",
    "def create_triangle(min_len,max_len):\n",
    "    side_length = np.random.random() * (max_len - min_len) + min_len\n",
    "    base_coor = (0, 0)\n",
    "    c = np.tan(np.pi / 6) * (side_length / 2)\n",
    "    A = (base_coor[0], base_coor[1] + np.sqrt(3) / 2 * side_length - c)\n",
    "    B = (base_coor[0] -side_length / 2, base_coor[1]  -c)\n",
    "    C = (base_coor[0] + side_length / 2, base_coor[1]  -c)\n",
    "    return np.array([A, B, C])"
   ],
   "metadata": {
    "collapsed": false,
    "pycharm": {
     "name": "#%%\n"
    }
   }
  },
  {
   "cell_type": "code",
   "execution_count": 3,
   "outputs": [],
   "source": [
    "# Help determine if the vertex of the new triangle already exists in the graph,\n",
    "# if exists, return the position symmetric in respect to the line connected by\n",
    "# node1 and node2\n",
    "def triangle_helper(node1,node2,vert_locs):\n",
    "    node1 = np.array(node1)\n",
    "    node2 = np.array(node2)\n",
    "\n",
    "    #Find the center of the edge\n",
    "    center = np.array([(node1[0] + node2[0]) / 2, (node1[1] + node2[1])/2])\n",
    "\n",
    "    #find the direction of the new node\n",
    "    vec = node1 - node2\n",
    "    len_vec = (vec[0]**2 + vec[1]**2)**(0.5)\n",
    "    dir = np.dot(np.array([[0,-1],[1,0]]), (vec / len_vec))\n",
    "\n",
    "    #Find the two candidate points\n",
    "    pt1 = center + dir * np.sqrt(3) / 2 * len_vec\n",
    "    pt2 = center + dir * np.sqrt(3) / 2 * len_vec * (-1)\n",
    "\n",
    "    min_dis_1 = 10000\n",
    "    closest_neighbor_1 = None\n",
    "    min_dis_2 = 10000\n",
    "    closest_neighbor_2 = None\n",
    "\n",
    "    #check if pt1 is already in vert_locs\n",
    "    for i in range(len(vert_locs)):\n",
    "        vert = vert_locs[i]\n",
    "        dis = np.sqrt((vert[0] - pt1[0])**2 + (vert[1] - pt1[1])**2)\n",
    "        if (dis < min_dis_1):\n",
    "            min_dis_1 = dis\n",
    "            closest_neighbor_1 = i\n",
    "\n",
    "    for i in range(len(vert_locs)):\n",
    "        vert = vert_locs[i]\n",
    "        dis = np.sqrt((vert[0] - pt2[0])**2 + (vert[1] - pt2[1])**2)\n",
    "        if (dis < min_dis_2):\n",
    "            min_dis_2 = dis\n",
    "            closest_neighbor_2 = i\n",
    "\n",
    "    #closure\n",
    "    if (min_dis_1 < len_vec / 100 and min_dis_2 < len_vec/100):\n",
    "        return True, [pt1,pt2,closest_neighbor_1,closest_neighbor_2]\n",
    "\n",
    "    else:\n",
    "        if (min_dis_1 <= len_vec / 100):\n",
    "            return False, [pt2]\n",
    "        else:\n",
    "            return False, [pt1]\n",
    "\n",
    "# Take in two nodes, return the center of the line that connects these two nodes\n",
    "def edge_sampler(node1,node2):\n",
    "    node1 = np.array(node1)\n",
    "    node2 = np.array(node2)\n",
    "    center = np.array([(node1[0] + node2[0]) / 2, (node1[1] + node2[1])/2])\n",
    "    return int(center[0]),int(center[1])"
   ],
   "metadata": {
    "collapsed": false,
    "pycharm": {
     "name": "#%%\n"
    }
   }
  },
  {
   "cell_type": "code",
   "execution_count": 5,
   "outputs": [],
   "source": [
    "# The following function takes a binary image representation and a filter size. It applies a filter to the binary image to determine where the main object is and return a starting point for drawing the initial triangle\n",
    "def get_image_start_pts(img, filter_size):\n",
    "    my_filter = np.random.random([filter_size, filter_size])\n",
    "    convolved = convolve(img, my_filter)\n",
    "    max_idx = np.unravel_index(np.argmax(convolved),convolved.shape)\n",
    "    return max_idx"
   ],
   "metadata": {
    "collapsed": false,
    "pycharm": {
     "name": "#%%\n"
    }
   }
  },
  {
   "cell_type": "code",
   "execution_count": 6,
   "outputs": [],
   "source": [
    "# Checks if the coordinate (x,y) is within the highlighted part of the image\n",
    "def point_valid(x,y,img):\n",
    "    if (x >= 0 and x < img.shape[0] and y >= 0 and y < img.shape[1]):\n",
    "        return img[int(x), int(y)] == 1\n",
    "    else:\n",
    "        return False"
   ],
   "metadata": {
    "collapsed": false,
    "pycharm": {
     "name": "#%%\n"
    }
   }
  },
  {
   "cell_type": "code",
   "execution_count": 33,
   "outputs": [],
   "source": [
    "# This function is similar to create_multi_triangle_rec, but it generates a mesh of an image.\n",
    "# It takes in two additional arguments -- boundary_edges and img, and adds only one triangle every time.\n",
    "def create_multi_triangle_img_rec(vertice_locations, boundary_edges, edges, outer_edges, triangles, img):\n",
    "    case_1_on = True\n",
    "    case_2_on = True\n",
    "    case_3_on = True\n",
    "\n",
    "    #Sometimes there are remove errors, we catch them but want to count how many\n",
    "    num_remove_errors = 0\n",
    "\n",
    "    #Pick a random edge, and assign the original vertices.\n",
    "    rand_idx = np.random.randint(0,len(outer_edges))\n",
    "    orig_ver1 = list(outer_edges[rand_idx])[0]\n",
    "    orig_ver2 = list(outer_edges[rand_idx])[1]\n",
    "    closure, new_vertexs = triangle_helper(vertice_locations[orig_ver1],vertice_locations[orig_ver2], vertice_locations)\n",
    "\n",
    "\n",
    "    if closure == False:\n",
    "         #operation 0, add one node, two edges and remove two outer edges\n",
    "        new_vertex = new_vertexs[0]\n",
    "\n",
    "        if point_valid(new_vertex[0],new_vertex[1],img):\n",
    "            #Create new vertex and edges\n",
    "            vertice_locations.append((new_vertex[0],new_vertex[1]))\n",
    "            new_edge1 = {orig_ver1, len(vertice_locations) - 1}\n",
    "            new_edge2 = {orig_ver2, len(vertice_locations) - 1}\n",
    "\n",
    "            #Add new edges to existing list\n",
    "            edges.append(new_edge1)\n",
    "            edges.append(new_edge2)\n",
    "\n",
    "            triangles.append({orig_ver1, orig_ver2, len(vertice_locations) - 1})\n",
    "\n",
    "            #Remove old outer edges and add new ones\n",
    "            outer_edges.remove({orig_ver1, orig_ver2})\n",
    "            outer_edges.append(new_edge1)\n",
    "            outer_edges.append(new_edge2)\n",
    "\n",
    "\n",
    "        else:\n",
    "            outer_edges.remove({orig_ver1, orig_ver2})\n",
    "            boundary_edges.append({orig_ver1, orig_ver2})\n",
    "\n",
    "\n",
    "    else:\n",
    "        clo_nei1 = new_vertexs[2]\n",
    "        clo_nei2 = new_vertexs[3]\n",
    "\n",
    "        #Logic Processing to determine which operation to perform\n",
    "        c1o1 = {clo_nei1, orig_ver1} not in edges\n",
    "        c1o2 = {clo_nei1, orig_ver2} not in edges\n",
    "        c2o1 = {clo_nei2, orig_ver1} not in edges\n",
    "        c2o2 = {clo_nei2, orig_ver2} not in edges\n",
    "\n",
    "        #operation 1, add no edge or node and remove three edges from outer edge\n",
    "        if ((not c1o1) and (not c1o2) ) and ((not c2o1) and (not c2o2)):\n",
    "            if (case_1_on):\n",
    "                if {orig_ver1, orig_ver2, clo_nei1} in triangles:\n",
    "                    triangles.append({clo_nei2, orig_ver1, orig_ver2})\n",
    "\n",
    "                    #Remove the three outer edges that form this triangle\n",
    "                    try:\n",
    "                        outer_edges.remove({orig_ver1, orig_ver2})\n",
    "                    except:\n",
    "                        num_remove_errors += 1\n",
    "\n",
    "                    try:\n",
    "                        outer_edges.remove({clo_nei2, orig_ver1})\n",
    "                    except:\n",
    "                        num_remove_errors += 1\n",
    "\n",
    "                    try:\n",
    "                        outer_edges.remove({clo_nei2, orig_ver2})\n",
    "                    except:\n",
    "                        num_remove_errors += 1\n",
    "\n",
    "                else:\n",
    "                    triangles.append({clo_nei1, orig_ver1, orig_ver2})\n",
    "\n",
    "                    #Remove the three outer edges that form this triangle\n",
    "                    try:\n",
    "                        outer_edges.remove({orig_ver1, orig_ver2})\n",
    "                    except:\n",
    "                        num_remove_errors += 1\n",
    "                    try:\n",
    "                        outer_edges.remove({clo_nei1, orig_ver1})\n",
    "                    except:\n",
    "                        num_remove_errors += 1\n",
    "\n",
    "                    try:\n",
    "                        outer_edges.remove({clo_nei1, orig_ver2})\n",
    "                    except:\n",
    "                        num_remove_errors += 1\n",
    "            else:\n",
    "                boundary_edges.append(outer_edges[rand_idx])\n",
    "                outer_edges.remove(outer_edges[rand_idx])\n",
    "\n",
    "\n",
    "        #operation 2, add two edges and remove one edge from outer edces.\n",
    "        elif (c1o1 and c1o2) or (c2o1 and c2o2):\n",
    "            if (case_2_on):\n",
    "                #the following if statement decides which side to add\n",
    "                if (c1o1 and c1o2):\n",
    "                    #Create new edge\n",
    "                    new_edge1 = {clo_nei1, orig_ver1}\n",
    "                    new_edge2 = {clo_nei1, orig_ver2}\n",
    "\n",
    "                    #Add to existing list of edges\n",
    "                    edges.append(new_edge1)\n",
    "                    edges.append(new_edge2)\n",
    "\n",
    "                    center_1 = edge_sampler(vertice_locations[clo_nei1],vertice_locations[orig_ver1])\n",
    "                    center_2 = edge_sampler(vertice_locations[clo_nei1],vertice_locations[orig_ver2])\n",
    "\n",
    "                    triangles.append({clo_nei1, orig_ver1, orig_ver2})\n",
    "\n",
    "                    #Remove old outer edges and add new ones\n",
    "                    outer_edges.remove(outer_edges[rand_idx])\n",
    "\n",
    "                    if point_valid(center_1[0],center_1[1],img):\n",
    "                        outer_edges.append(new_edge1)\n",
    "                    else:\n",
    "                        boundary_edges.append(new_edge1)\n",
    "\n",
    "                    if point_valid(center_2[0],center_2[1],img):\n",
    "                        outer_edges.append(new_edge2)\n",
    "                    else:\n",
    "                        boundary_edges.append(new_edge2)\n",
    "\n",
    "                else:\n",
    "                    #Create new edge\n",
    "                    new_edge1 = {clo_nei2, orig_ver1}\n",
    "                    new_edge2 = {clo_nei2, orig_ver2}\n",
    "                    edges.append(new_edge1)\n",
    "                    edges.append(new_edge2)\n",
    "\n",
    "                    #Add to existing list of edges\n",
    "                    center_1 = edge_sampler(vertice_locations[clo_nei2],vertice_locations[orig_ver1])\n",
    "                    center_2 = edge_sampler(vertice_locations[clo_nei2],vertice_locations[orig_ver2])\n",
    "\n",
    "                    triangles.append({clo_nei2, orig_ver1, orig_ver2})\n",
    "\n",
    "                    #Remove old outer edges and add new ones\n",
    "                    outer_edges.remove(outer_edges[rand_idx])\n",
    "\n",
    "                    if point_valid(center_1[0],center_1[1],img):\n",
    "                        outer_edges.append(new_edge1)\n",
    "                    else:\n",
    "                        boundary_edges.append(new_edge1)\n",
    "\n",
    "                    if point_valid(center_2[0],center_2[1],img):\n",
    "                        outer_edges.append(new_edge2)\n",
    "                    else:\n",
    "                        boundary_edges.append(new_edge2)\n",
    "            else:\n",
    "                boundary_edges.append(outer_edges[rand_idx])\n",
    "                outer_edges.remove(outer_edges[rand_idx])\n",
    "\n",
    "\n",
    "        #rnm case 3\n",
    "        else:\n",
    "            if (case_3_on):\n",
    "                #The following if statements determine which side to add the edge to, there are a total of four scenarios.\n",
    "                #subcase 0\n",
    "                if {orig_ver1, clo_nei1} not in edges:\n",
    "                    #Create new edge\n",
    "                    new_edge = {orig_ver1, clo_nei1}\n",
    "\n",
    "                    center = edge_sampler(vertice_locations[orig_ver1],vertice_locations[clo_nei1])\n",
    "\n",
    "                    #Add to existing list of edges\n",
    "\n",
    "                    edges.append(new_edge)\n",
    "\n",
    "                    triangles.append({orig_ver1, orig_ver2, clo_nei1})\n",
    "\n",
    "                    #Remove old outer edges and add new ones\n",
    "                    outer_edges.remove(outer_edges[rand_idx])\n",
    "\n",
    "                    try:\n",
    "                        outer_edges.remove({clo_nei1, orig_ver2})\n",
    "                    except:\n",
    "                        num_remove_errors += 1\n",
    "\n",
    "                    if point_valid(center[0],center[1],img):\n",
    "                        outer_edges.append(new_edge)\n",
    "                    else:\n",
    "                        boundary_edges.append(new_edge)\n",
    "\n",
    "\n",
    "                elif {orig_ver1, clo_nei2} not in edges:\n",
    "                    #Create new edge\n",
    "                    new_edge = {orig_ver1, clo_nei2}\n",
    "\n",
    "                    center = edge_sampler(vertice_locations[orig_ver1],vertice_locations[clo_nei2])\n",
    "\n",
    "                    #Add to existing list of edges\n",
    "\n",
    "                    edges.append(new_edge)\n",
    "\n",
    "                    triangles.append({orig_ver1, orig_ver2, clo_nei2})\n",
    "\n",
    "                    #Remove old outer edges and add new ones\n",
    "                    outer_edges.remove(outer_edges[rand_idx])\n",
    "\n",
    "                    try:\n",
    "                        outer_edges.remove({clo_nei2, orig_ver2})\n",
    "                    except:\n",
    "                        num_remove_errors += 1\n",
    "\n",
    "                    if point_valid(center[0],center[1],img):\n",
    "                        outer_edges.append(new_edge)\n",
    "                    else:\n",
    "                        boundary_edges.append(new_edge)\n",
    "\n",
    "                elif {orig_ver2, clo_nei1} not in edges:\n",
    "                    #Create new edge\n",
    "                    new_edge = {orig_ver2, clo_nei1}\n",
    "\n",
    "                    center = edge_sampler(vertice_locations[orig_ver2],vertice_locations[clo_nei1])\n",
    "\n",
    "                    #Add to existing list of edges\n",
    "\n",
    "                    edges.append(new_edge)\n",
    "\n",
    "                    triangles.append({orig_ver1, orig_ver2, clo_nei1})\n",
    "\n",
    "                    #Remove old outer edges and add new ones\n",
    "                    outer_edges.remove(outer_edges[rand_idx])\n",
    "\n",
    "                    try:\n",
    "                        outer_edges.remove({clo_nei1, orig_ver1})\n",
    "                    except:\n",
    "                        num_remove_errors += 1\n",
    "\n",
    "\n",
    "                    if point_valid(center[0],center[1],img):\n",
    "                        outer_edges.append(new_edge)\n",
    "                    else:\n",
    "                        boundary_edges.append(new_edge)\n",
    "                else:\n",
    "                    #Create new edge\n",
    "                    new_edge = {orig_ver2, clo_nei2}\n",
    "\n",
    "                    center = edge_sampler(vertice_locations[orig_ver2],vertice_locations[clo_nei2])\n",
    "\n",
    "                    #Add to existing list of edges\n",
    "                    edges.append(new_edge)\n",
    "                    triangles.append({orig_ver1, orig_ver2, clo_nei2})\n",
    "\n",
    "\n",
    "                    #Remove old outer edges and add new ones\n",
    "                    outer_edges.remove(outer_edges[rand_idx])\n",
    "                    try:\n",
    "                        outer_edges.remove({clo_nei2, orig_ver1})\n",
    "                    except:\n",
    "                        num_remove_errors += 1\n",
    "\n",
    "\n",
    "                    if point_valid(center[0],center[1],img):\n",
    "                        outer_edges.append(new_edge)\n",
    "                    else:\n",
    "                        boundary_edges.append(new_edge)\n",
    "\n",
    "            else:\n",
    "                boundary_edges.append(outer_edges[rand_idx])\n",
    "                outer_edges.remove(outer_edges[rand_idx])\n",
    "\n",
    "    return vertice_locations, boundary_edges, edges, outer_edges, triangles, img"
   ],
   "metadata": {
    "collapsed": false,
    "pycharm": {
     "name": "#%%\n"
    }
   }
  },
  {
   "cell_type": "code",
   "execution_count": 45,
   "outputs": [],
   "source": [
    "# Given a list of edges, this function initializes a Networkx graph then adds edges to the graph\n",
    "def mesh_to_graph(edges):\n",
    "    G = nx.Graph()\n",
    "    for edge in edges:\n",
    "        e = list(edge)\n",
    "        G.add_edge(e[0],e[1])\n",
    "\n",
    "    lap_mat = nx.laplacian_matrix(G).toarray()\n",
    "    evals, U = np.linalg.eigh(lap_mat)\n",
    "    return evals,U,G\n",
    "\n",
    "# Given a list of triangles, this function converts all the triangles to nodes instead of triangle vertices to nodes.\n",
    "def mesh_to_graph2(triangles):\n",
    "    G = nx.Graph()\n",
    "    for i in range(len(triangles)):\n",
    "        curr_triangle = triangles[i]\n",
    "        num_nei = 0\n",
    "        for j in range(len(triangles)):\n",
    "            #A node can have at most 6 edges\n",
    "            if (i == j or num_nei == 6):\n",
    "                pass\n",
    "            else:\n",
    "                neighbor_triangle = triangles[j]\n",
    "                union = curr_triangle.union(neighbor_triangle)\n",
    "                #If they are connected by an edge\n",
    "                if (len(union) == 4):\n",
    "                    if (not G.has_edge(i,j)) and (not G.has_edge(j,i)):\n",
    "                        G.add_edge(i,j, weight=1)\n",
    "                    num_nei += 1\n",
    "                #If they are connected by a node\n",
    "                elif len(union) == 5:\n",
    "                    if (not G.has_edge(i,j)) and (not G.has_edge(j,i)):\n",
    "                        G.add_edge(i,j, weight=0.1)\n",
    "                    num_nei += 1\n",
    "\n",
    "    #\n",
    "    lap_mat = nx.laplacian_matrix(G).toarray()\n",
    "    evals, U = np.linalg.eigh(lap_mat)\n",
    "    return evals,U,G\n",
    "    #return G"
   ],
   "metadata": {
    "collapsed": false,
    "pycharm": {
     "name": "#%%\n"
    }
   }
  },
  {
   "cell_type": "code",
   "execution_count": 46,
   "outputs": [],
   "source": [
    "# Heat kernel signature at t\n",
    "def hkt(t,evals,U):\n",
    "    exp = np.exp(t*evals)\n",
    "    lamb = np.diag(exp)\n",
    "    return U.dot(lamb).dot(U.T)\n",
    "\n",
    "# Calculate a bunch of heat kernel signatures given ts\n",
    "def hks(ts,evals,U):\n",
    "    toret = np.empty([ts.shape[0]])\n",
    "    for i in range(ts.shape[0]):\n",
    "        t = ts[i]\n",
    "        kernel = hkt(t,evals,U)\n",
    "        diagonal = np.diag(kernel)\n",
    "        toret[i] = np.mean(diagonal)\n",
    "    return toret"
   ],
   "metadata": {
    "collapsed": false,
    "pycharm": {
     "name": "#%%\n"
    }
   }
  },
  {
   "cell_type": "code",
   "execution_count": 81,
   "outputs": [
    {
     "name": "stdout",
     "output_type": "stream",
     "text": [
      "0\n",
      "1\n",
      "2\n",
      "3\n",
      "4\n",
      "5\n",
      "6\n",
      "7\n",
      "8\n",
      "9\n",
      "10\n",
      "11\n",
      "12\n",
      "13\n",
      "14\n",
      "15\n",
      "16\n",
      "17\n",
      "18\n",
      "19\n",
      "20\n",
      "21\n",
      "22\n",
      "23\n",
      "24\n",
      "25\n",
      "26\n",
      "27\n",
      "28\n",
      "29\n",
      "30\n",
      "31\n",
      "32\n",
      "33\n",
      "34\n",
      "35\n",
      "36\n",
      "37\n",
      "38\n",
      "39\n"
     ]
    }
   ],
   "source": [
    "# Read in the image\n",
    "img = imread('circle 2.png')[:,:,0]\n",
    "# Convert the original image to a binary image\n",
    "img = np.where(img > 200,1,0)\n",
    "# Retrieve the starting position for the first triangle\n",
    "start_x,start_y = get_image_start_pts(img,40)\n",
    "\n",
    "\n",
    "\n",
    "\n",
    "sigs_as = []\n",
    "sigs_bs = []\n",
    "\n",
    "# The following loop runs 40 times. At each iteration, it will generate 10 different ts as well as two randomly generated triangular mesh graphs given a fixed shape (a circle in this case.) Then it will calculate the heat kernel signature for the random triangular mesh at each t.\n",
    "for n in range(40):\n",
    "    print(n)\n",
    "    source = create_triangle(10,10)\n",
    "    source = source + np.array([(np.random.random()-0.5)*200 + 172,172 + (np.random.random()-0.5)*200])\n",
    "\n",
    "    #Generate random ts to remove artifacts\n",
    "    ts = np.random.random(10)\n",
    "\n",
    "    vertice_locations = [(source[0,0],source[0,1]),(source[1,0],source[1,1]),(source[2,0],source[2,1])]\n",
    "    edges = [{0, 1}, {0, 2}, {1, 2}]\n",
    "    outer_edges = edges.copy()\n",
    "    boundary_edges = []\n",
    "    triangles = [{0, 1, 2}]\n",
    "\n",
    "    i = 0\n",
    "    sigs_a = []\n",
    "\n",
    "    while i <= 5000 and len(outer_edges) > 0:\n",
    "        vertice_locations,boundary_edges,edges,outer_edges,triangles,img = create_multi_triangle_img_rec(vertice_locations,boundary_edges,edges,outer_edges,triangles,img)\n",
    "\n",
    "        if (i % 100 == 0 and i != 0):\n",
    "            evals, U, _ = mesh_to_graph(edges)\n",
    "            sigs_a.append(hks(ts,evals,U))\n",
    "\n",
    "        i += 1\n",
    "\n",
    "    vertice_locations = [(source[0,0],source[0,1]),(source[1,0],source[1,1]),(source[2,0],source[2,1])]\n",
    "    edges = [{0, 1}, {0, 2}, {1, 2}]\n",
    "    outer_edges = edges.copy()\n",
    "    boundary_edges = []\n",
    "    triangles = [{0, 1, 2}]\n",
    "\n",
    "    i = 0\n",
    "    sigs_b = []\n",
    "\n",
    "    while i <= 5000 and len(outer_edges) > 0:\n",
    "        vertice_locations,boundary_edges,edges,outer_edges,triangles,img = create_multi_triangle_img_rec(vertice_locations,boundary_edges,edges,outer_edges,triangles,img)\n",
    "\n",
    "        if (i % 100 == 0 and i != 0):\n",
    "            evals, U, _ = mesh_to_graph(edges)\n",
    "            sigs_b.append(hks(ts,evals,U))\n",
    "\n",
    "        i += 1\n",
    "\n",
    "    sigs_as.append(sigs_a)\n",
    "    sigs_bs.append(sigs_b)\n"
   ],
   "metadata": {
    "collapsed": false,
    "pycharm": {
     "name": "#%%\n"
    }
   }
  },
  {
   "cell_type": "code",
   "execution_count": 99,
   "outputs": [
    {
     "data": {
      "text/plain": "(40, 22, 10)"
     },
     "execution_count": 99,
     "metadata": {},
     "output_type": "execute_result"
    }
   ],
   "source": [
    "da = np.array(sigs_as)\n",
    "db = np.array(sigs_bs)\n",
    "\n",
    "# Calculate the difference between every heat kernel signature\n",
    "diff = da - db\n",
    "diff.shape\n"
   ],
   "metadata": {
    "collapsed": false,
    "pycharm": {
     "name": "#%%\n"
    }
   }
  },
  {
   "cell_type": "code",
   "execution_count": 126,
   "outputs": [
    {
     "data": {
      "text/plain": "(22,)"
     },
     "execution_count": 126,
     "metadata": {},
     "output_type": "execute_result"
    }
   ],
   "source": [
    "# Calculate the mean difference\n",
    "diff_sqr = diff **2\n",
    "diff_sum = np.sum(diff_sqr,axis = 2)\n",
    "diff_dis = np.sqrt(diff_sum)\n",
    "diff_dis_mean = np.mean(diff_dis,axis = 0)\n",
    "diff_dis_mean.shape"
   ],
   "metadata": {
    "collapsed": false,
    "pycharm": {
     "name": "#%%\n"
    }
   }
  },
  {
   "cell_type": "code",
   "execution_count": 136,
   "outputs": [
    {
     "data": {
      "text/plain": "[<matplotlib.lines.Line2D at 0x143d929a0>]"
     },
     "execution_count": 136,
     "metadata": {},
     "output_type": "execute_result"
    },
    {
     "data": {
      "text/plain": "<Figure size 432x288 with 1 Axes>",
      "image/png": "[encoded data removed]"
     },
     "metadata": {
      "needs_background": "light"
     },
     "output_type": "display_data"
    }
   ],
   "source": [
    "plt.plot(diff_dis[18]) #2,6,35,26,30,18"
   ],
   "metadata": {
    "collapsed": false,
    "pycharm": {
     "name": "#%%\n"
    }
   }
  },
  {
   "cell_type": "code",
   "execution_count": 138,
   "outputs": [
    {
     "data": {
      "text/plain": "[<matplotlib.lines.Line2D at 0x147a22850>]"
     },
     "execution_count": 138,
     "metadata": {},
     "output_type": "execute_result"
    },
    {
     "data": {
      "text/plain": "<Figure size 432x288 with 1 Axes>",
      "image/png": "[encoded data removed]"
     },
     "metadata": {
      "needs_background": "light"
     },
     "output_type": "display_data"
    }
   ],
   "source": [
    "plt.plot(diff_dis_mean)"
   ],
   "metadata": {
    "collapsed": false,
    "pycharm": {
     "name": "#%%\n"
    }
   }
  }
 ],
 "metadata": {
  "kernelspec": {
   "display_name": "Python 3",
   "language": "python",
   "name": "python3"
  },
  "language_info": {
   "codemirror_mode": {
    "name": "ipython",
    "version": 2
   },
   "file_extension": ".py",
   "mimetype": "text/x-python",
   "name": "python",
   "nbconvert_exporter": "python",
   "pygments_lexer": "ipython2",
   "version": "2.7.6"
  }
 },
 "nbformat": 4,
 "nbformat_minor": 0
}