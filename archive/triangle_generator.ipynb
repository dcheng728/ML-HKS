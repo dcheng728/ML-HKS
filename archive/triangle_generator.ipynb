{
 "cells": [
  {
   "cell_type": "code",
   "execution_count": 1,
   "metadata": {
    "collapsed": false,
    "jupyter": {
     "outputs_hidden": false
    },
    "pycharm": {
     "name": "#%%\n"
    }
   },
   "outputs": [
    {
     "name": "stderr",
     "output_type": "stream",
     "text": [
      "/Users/mingyuzhu/opt/anaconda3/envs/comp_graph_theory/lib/python3.9/site-packages/tqdm/auto.py:22: TqdmWarning: IProgress not found. Please update jupyter and ipywidgets. See https://ipywidgets.readthedocs.io/en/stable/user_install.html\n",
      "  from .autonotebook import tqdm as notebook_tqdm\n"
     ]
    }
   ],
   "source": [
    "import numpy as np\n",
    "import cv2\n",
    "import matplotlib.pyplot as plt\n",
    "from scipy.ndimage import convolve\n",
    "import networkx as nx\n",
    "from skimage.io import imread"
   ]
  },
  {
   "cell_type": "code",
   "execution_count": 2,
   "outputs": [],
   "source": [
    "# The following function takes a binary image representation and a filter size. It applies a filter to the binary image to determine where the main object is and return a starting point for drawing the initial triangle\n",
    "def get_image_start_pts(img, filter_size):\n",
    "    my_filter = np.random.random([filter_size, filter_size])\n",
    "    convolved = convolve(img, my_filter)\n",
    "    max_idx = np.unravel_index(np.argmax(convolved),convolved.shape)\n",
    "    return max_idx"
   ],
   "metadata": {
    "collapsed": false,
    "pycharm": {
     "name": "#%%\n"
    }
   }
  },
  {
   "cell_type": "code",
   "execution_count": 3,
   "outputs": [],
   "source": [
    "#create triangle of a given side length that is positioned upright\n",
    "def create_triangle(min_len,max_len):\n",
    "    side_length = np.random.random() * (max_len - min_len) + min_len\n",
    "    base_coor = (0, 0)\n",
    "    c = np.tan(np.pi / 6) * (side_length / 2)\n",
    "    A = (base_coor[0], base_coor[1] + np.sqrt(3) / 2 * side_length - c)\n",
    "    B = (base_coor[0] -side_length / 2, base_coor[1]  -c)\n",
    "    C = (base_coor[0] + side_length / 2, base_coor[1]  -c)\n",
    "    return np.array([A, B, C])"
   ],
   "metadata": {
    "collapsed": false,
    "pycharm": {
     "name": "#%%\n"
    }
   }
  },
  {
   "cell_type": "code",
   "execution_count": 4,
   "outputs": [],
   "source": [
    "# Help determine if the vertex of the new triangle already exists in the graph,\n",
    "# if exists, return the position symmetric in respect to the line connected by\n",
    "# node1 and node2\n",
    "def triangle_helper(node1,node2,vert_locs):\n",
    "    node1 = np.array(node1)\n",
    "    node2 = np.array(node2)\n",
    "    center = np.array([(node1[0] + node2[0]) / 2, (node1[1] + node2[1])/2])\n",
    "\n",
    "    vec = node1 - node2\n",
    "    len_vec = (vec[0]**2 + vec[1]**2)**(0.5)\n",
    "    dir = np.dot(np.array([[0,-1],[1,0]]), (vec / len_vec))\n",
    "\n",
    "\n",
    "    pt1 = center + dir * np.sqrt(3) / 2 * len_vec\n",
    "    pt2 = center + dir * np.sqrt(3) / 2 * len_vec * (-1)\n",
    "\n",
    "    min_dis_1 = 10000\n",
    "    closest_neighbor_1 = None\n",
    "    min_dis_2 = 10000\n",
    "    closest_neighbor_2 = None\n",
    "\n",
    "    #check if pt1 is already in vert_locs\n",
    "    for i in range(len(vert_locs)):\n",
    "        vert = vert_locs[i]\n",
    "        dis = np.sqrt((vert[0] - pt1[0])**2 + (vert[1] - pt1[1])**2)\n",
    "        if (dis < min_dis_1):\n",
    "            min_dis_1 = dis\n",
    "            closest_neighbor_1 = i\n",
    "\n",
    "    for i in range(len(vert_locs)):\n",
    "        vert = vert_locs[i]\n",
    "        dis = np.sqrt((vert[0] - pt2[0])**2 + (vert[1] - pt2[1])**2)\n",
    "        if (dis < min_dis_2):\n",
    "            min_dis_2 = dis\n",
    "            closest_neighbor_2 = i\n",
    "\n",
    "    #closure\n",
    "    if (min_dis_1 < len_vec / 100 and min_dis_2 < len_vec/100):\n",
    "        return True, [pt1,pt2,closest_neighbor_1,closest_neighbor_2]\n",
    "\n",
    "    else:\n",
    "        if (min_dis_1 <= len_vec / 100):\n",
    "            return False, [pt2]\n",
    "        else:\n",
    "            return False, [pt1]\n",
    "\n",
    "# Take in two nodes, return the center of the line that connects these two nodes\n",
    "def edge_sampler(node1,node2):\n",
    "    node1 = np.array(node1)\n",
    "    node2 = np.array(node2)\n",
    "    center = np.array([(node1[0] + node2[0]) / 2, (node1[1] + node2[1])/2])\n",
    "    return int(center[0]),int(center[1])\n",
    "\n",
    "# Checks if the coordinate (x,y) is within the highlighted part of the image\n",
    "def point_valid(x,y,img):\n",
    "    if (x >= 0 and x < img.shape[0] and y >= 0 and y < img.shape[1]):\n",
    "        return img[int(x), int(y)] == 1\n",
    "    else:\n",
    "        return False\n",
    "\n",
    "# The original function to create random triangular mesh. The founding function of all other triangular-mesh generators\n",
    "def create_multi_triangle():\n",
    "    source = create_triangle(5,5)\n",
    "    vertice_locations = [(source[0,0],source[0,1]),(source[1,0],source[1,1]),(source[2,0],source[2,1])]\n",
    "    edges = [set([0,1]),set([0,2]),set([1,2])]\n",
    "    outer_edges = edges.copy()\n",
    "    triangles = [set([0,1,2])]\n",
    "\n",
    "    case_1_on = True\n",
    "    case_2_on = True\n",
    "    case_3_on = True\n",
    "\n",
    "\n",
    "    n = 0\n",
    "    while n < 100:\n",
    "        n += 1\n",
    "        rand_idx = np.random.randint(0,len(outer_edges))\n",
    "        orig_ver1 = list(outer_edges[rand_idx])[0]\n",
    "        orig_ver2 = list(outer_edges[rand_idx])[1]\n",
    "        closure, new_vertexs = triangle_helper(vertice_locations[orig_ver1],vertice_locations[orig_ver2], vertice_locations)\n",
    "\n",
    "        if closure == False:\n",
    "            new_vertex = new_vertexs[0]\n",
    "\n",
    "            vertice_locations.append((new_vertex[0],new_vertex[1]))\n",
    "            new_edge1 = set([orig_ver1,len(vertice_locations)-1])\n",
    "            new_edge2 = set([orig_ver2,len(vertice_locations)-1])\n",
    "\n",
    "            edges.append(new_edge1)\n",
    "            edges.append(new_edge2)\n",
    "\n",
    "            triangles.append(set([orig_ver1, orig_ver2, len(vertice_locations)-1]))\n",
    "\n",
    "            outer_edges.remove(set([orig_ver1,orig_ver2]))\n",
    "            outer_edges.append(new_edge1)\n",
    "            outer_edges.append(new_edge2)\n",
    "\n",
    "\n",
    "        else:\n",
    "            clo_nei1 = new_vertexs[2]\n",
    "            clo_nei2 = new_vertexs[3]\n",
    "\n",
    "            #don't try to understand this\n",
    "            c1o1 = set([clo_nei1, orig_ver1]) not in edges\n",
    "            c1o2 = set([clo_nei1, orig_ver2]) not in edges\n",
    "            c2o1 = set([clo_nei2, orig_ver1]) not in edges\n",
    "            c2o2 = set([clo_nei2, orig_ver2]) not in edges\n",
    "\n",
    "\n",
    "            #rnm case 1\n",
    "            if ((not c1o1) and (not c1o2) ) and ((not c2o1) and (not c2o2)):\n",
    "                if (case_1_on):\n",
    "                    if set([orig_ver1,orig_ver2,clo_nei1]) in triangles:\n",
    "                        triangles.append(set([clo_nei2,orig_ver1,orig_ver2]))\n",
    "\n",
    "                        outer_edges.remove(set([orig_ver1,orig_ver2]))\n",
    "                        outer_edges.remove(set([clo_nei2,orig_ver1]))\n",
    "                        outer_edges.remove(set([clo_nei2,orig_ver2]))\n",
    "\n",
    "\n",
    "                    else:\n",
    "                        triangles.append(set([clo_nei1,orig_ver1,orig_ver2]))\n",
    "\n",
    "                        outer_edges.remove(set([orig_ver1,orig_ver2]))\n",
    "                        outer_edges.remove(set([clo_nei1,orig_ver1]))\n",
    "                        outer_edges.remove(set([clo_nei1,orig_ver2]))\n",
    "                else:\n",
    "                    n -= 1\n",
    "\n",
    "\n",
    "            #rnm case 2\n",
    "            elif (c1o1 and c1o2) or (c2o1 and c2o2):\n",
    "                if (case_2_on):\n",
    "                    if (c1o1 and c1o2):\n",
    "                        new_edge1 = set([clo_nei1,orig_ver1])\n",
    "                        new_edge2 = set([clo_nei1,orig_ver2])\n",
    "\n",
    "\n",
    "\n",
    "                        edges.append(new_edge1)\n",
    "                        edges.append(new_edge2)\n",
    "\n",
    "                        triangles.append(set([clo_nei1,orig_ver1,orig_ver2]))\n",
    "\n",
    "                        outer_edges.remove(outer_edges[rand_idx])\n",
    "\n",
    "                        outer_edges.append(new_edge1)\n",
    "                        outer_edges.append(new_edge2)\n",
    "\n",
    "                    else:\n",
    "                        new_edge1 = set([clo_nei2,orig_ver1])\n",
    "                        new_edge2 = set([clo_nei2,orig_ver2])\n",
    "                        edges.append(new_edge1)\n",
    "                        edges.append(new_edge2)\n",
    "\n",
    "                        triangles.append(set([clo_nei2,orig_ver1,orig_ver2]))\n",
    "\n",
    "                        outer_edges.remove(outer_edges[rand_idx])\n",
    "\n",
    "                        outer_edges.append(new_edge1)\n",
    "                        outer_edges.append(new_edge2)\n",
    "                else:\n",
    "                    n -= 1\n",
    "\n",
    "\n",
    "            #rnm case 3\n",
    "            else:\n",
    "                if (case_3_on):\n",
    "                    if set([orig_ver1,clo_nei1]) not in edges:\n",
    "                        new_edge = set([orig_ver1,clo_nei1])\n",
    "\n",
    "                        edges.append(new_edge)\n",
    "\n",
    "                        triangles.append(set([orig_ver1,orig_ver2,clo_nei1]))\n",
    "\n",
    "                        outer_edges.remove(outer_edges[rand_idx])\n",
    "\n",
    "                        outer_edges.remove(set([clo_nei1,orig_ver2]))\n",
    "\n",
    "                        outer_edges.append(new_edge)\n",
    "\n",
    "\n",
    "                    elif set([orig_ver1,clo_nei2]) not in edges:\n",
    "                        new_edge = set([orig_ver1,clo_nei2])\n",
    "\n",
    "                        edges.append(new_edge)\n",
    "\n",
    "                        triangles.append(set([orig_ver1,orig_ver2,clo_nei2]))\n",
    "\n",
    "                        outer_edges.remove(outer_edges[rand_idx])\n",
    "                        outer_edges.remove(set([clo_nei2,orig_ver2]))\n",
    "\n",
    "                        outer_edges.append(new_edge)\n",
    "\n",
    "                    elif set([orig_ver2,clo_nei1]) not in edges:\n",
    "                        new_edge = set([orig_ver2,clo_nei1])\n",
    "                        edges.append(new_edge)\n",
    "\n",
    "                        triangles.append(set([orig_ver1,orig_ver2,clo_nei1]))\n",
    "\n",
    "                        outer_edges.remove(outer_edges[rand_idx])\n",
    "                        outer_edges.remove(set([clo_nei1,orig_ver1]))\n",
    "\n",
    "\n",
    "                        outer_edges.append(new_edge)\n",
    "                    else:\n",
    "                        new_edge = set([orig_ver2,clo_nei2])\n",
    "                        edges.append(new_edge)\n",
    "                        triangles.append(set([orig_ver1,orig_ver2,clo_nei2]))\n",
    "\n",
    "                        outer_edges.remove(outer_edges[rand_idx])\n",
    "                        outer_edges.remove(set([clo_nei2,orig_ver1]))\n",
    "\n",
    "\n",
    "                        outer_edges.append(new_edge)\n",
    "\n",
    "                else:\n",
    "                    n -= 1\n",
    "\n",
    "\n",
    "    print(len(triangles))\n",
    "    temp = []\n",
    "    for t in triangles:\n",
    "        if t not in temp:\n",
    "            temp.append(t)\n",
    "\n",
    "    print(len(temp))\n",
    "\n",
    "\n",
    "    return vertice_locations,edges, outer_edges\n",
    "\n",
    "# The following function takes in an image and then generates a triangular mesh of the object in the image given other arguments\n",
    "def create_multi_triangle_img(img, triangle_size, max_iteration, start_x, start_y):\n",
    "    source = create_triangle(triangle_size,triangle_size)\n",
    "\n",
    "    source = source + np.array([start_x,start_y])\n",
    "\n",
    "    vertice_locations = [(source[0,0],source[0,1]),(source[1,0],source[1,1]),(source[2,0],source[2,1])]\n",
    "    edges = [set([0,1]),set([0,2]),set([1,2])]\n",
    "    outer_edges = edges.copy()\n",
    "    boundary_edges = []\n",
    "    triangles = [set([0,1,2])]\n",
    "\n",
    "    case_1_on = True\n",
    "    case_2_on = True\n",
    "    case_3_on = True\n",
    "\n",
    "    num_remove_errors = 0\n",
    "\n",
    "    n = 0\n",
    "    while n < max_iteration and len(outer_edges) > 0:\n",
    "        n += 1\n",
    "        rand_idx = np.random.randint(0,len(outer_edges))\n",
    "        orig_ver1 = list(outer_edges[rand_idx])[0]\n",
    "        orig_ver2 = list(outer_edges[rand_idx])[1]\n",
    "        closure, new_vertexs = triangle_helper(vertice_locations[orig_ver1],vertice_locations[orig_ver2], vertice_locations)\n",
    "\n",
    "        if closure == False:\n",
    "            new_vertex = new_vertexs[0]\n",
    "\n",
    "            if point_valid(new_vertex[0],new_vertex[1],img):\n",
    "\n",
    "                vertice_locations.append((new_vertex[0],new_vertex[1]))\n",
    "                new_edge1 = set([orig_ver1,len(vertice_locations)-1])\n",
    "                new_edge2 = set([orig_ver2,len(vertice_locations)-1])\n",
    "\n",
    "                edges.append(new_edge1)\n",
    "                edges.append(new_edge2)\n",
    "\n",
    "                triangles.append(set([orig_ver1, orig_ver2, len(vertice_locations)-1]))\n",
    "\n",
    "                outer_edges.remove(set([orig_ver1,orig_ver2]))\n",
    "                outer_edges.append(new_edge1)\n",
    "                outer_edges.append(new_edge2)\n",
    "\n",
    "            else:\n",
    "                outer_edges.remove(set([orig_ver1,orig_ver2]))\n",
    "                boundary_edges.append(set([orig_ver1,orig_ver2]))\n",
    "\n",
    "\n",
    "        else:\n",
    "            clo_nei1 = new_vertexs[2]\n",
    "            clo_nei2 = new_vertexs[3]\n",
    "\n",
    "            #don't try to understand this\n",
    "            c1o1 = set([clo_nei1, orig_ver1]) not in edges\n",
    "            c1o2 = set([clo_nei1, orig_ver2]) not in edges\n",
    "            c2o1 = set([clo_nei2, orig_ver1]) not in edges\n",
    "            c2o2 = set([clo_nei2, orig_ver2]) not in edges\n",
    "\n",
    "            #rnm case 1\n",
    "            if ((not c1o1) and (not c1o2) ) and ((not c2o1) and (not c2o2)):\n",
    "                if (case_1_on):\n",
    "                    if set([orig_ver1,orig_ver2,clo_nei1]) in triangles:\n",
    "                        triangles.append(set([clo_nei2,orig_ver1,orig_ver2]))\n",
    "\n",
    "                        try:\n",
    "                            outer_edges.remove(set([orig_ver1,orig_ver2]))\n",
    "                        except:\n",
    "                            num_remove_errors += 1\n",
    "\n",
    "                        try:\n",
    "                            outer_edges.remove(set([clo_nei2,orig_ver1]))\n",
    "                        except:\n",
    "                            num_remove_errors += 1\n",
    "\n",
    "                        try:\n",
    "                            outer_edges.remove(set([clo_nei2,orig_ver2]))\n",
    "                        except:\n",
    "                            num_remove_errors += 1\n",
    "\n",
    "                    else:\n",
    "                        triangles.append(set([clo_nei1,orig_ver1,orig_ver2]))\n",
    "\n",
    "                        try:\n",
    "                            outer_edges.remove(set([orig_ver1,orig_ver2]))\n",
    "                        except:\n",
    "                            num_remove_errors += 1\n",
    "                        try:\n",
    "                            outer_edges.remove(set([clo_nei1,orig_ver1]))\n",
    "                        except:\n",
    "                            num_remove_errors += 1\n",
    "\n",
    "                        try:\n",
    "                            outer_edges.remove(set([clo_nei1,orig_ver2]))\n",
    "                        except:\n",
    "                            num_remove_errors += 1\n",
    "                else:\n",
    "                    n -= 1\n",
    "                    boundary_edges.append(outer_edges[rand_idx])\n",
    "                    outer_edges.remove(outer_edges[rand_idx])\n",
    "\n",
    "\n",
    "            #rnm case 2\n",
    "            elif (c1o1 and c1o2) or (c2o1 and c2o2):\n",
    "                if (case_2_on):\n",
    "                    if (c1o1 and c1o2):\n",
    "                        new_edge1 = set([clo_nei1,orig_ver1])\n",
    "                        new_edge2 = set([clo_nei1,orig_ver2])\n",
    "                        edges.append(new_edge1)\n",
    "                        edges.append(new_edge2)\n",
    "\n",
    "                        center_1 = edge_sampler(vertice_locations[clo_nei1],vertice_locations[orig_ver1])\n",
    "                        center_2 = edge_sampler(vertice_locations[clo_nei1],vertice_locations[orig_ver2])\n",
    "\n",
    "                        triangles.append(set([clo_nei1,orig_ver1,orig_ver2]))\n",
    "\n",
    "                        outer_edges.remove(outer_edges[rand_idx])\n",
    "\n",
    "                        if point_valid(center_1[0],center_1[1],img):\n",
    "                            outer_edges.append(new_edge1)\n",
    "                        else:\n",
    "                            boundary_edges.append(new_edge1)\n",
    "\n",
    "                        if point_valid(center_2[0],center_2[1],img):\n",
    "                            outer_edges.append(new_edge2)\n",
    "                        else:\n",
    "                            boundary_edges.append(new_edge2)\n",
    "\n",
    "                    else:\n",
    "                        new_edge1 = set([clo_nei2,orig_ver1])\n",
    "                        new_edge2 = set([clo_nei2,orig_ver2])\n",
    "                        edges.append(new_edge1)\n",
    "                        edges.append(new_edge2)\n",
    "\n",
    "                        center_1 = edge_sampler(vertice_locations[clo_nei2],vertice_locations[orig_ver1])\n",
    "                        center_2 = edge_sampler(vertice_locations[clo_nei2],vertice_locations[orig_ver2])\n",
    "\n",
    "                        triangles.append(set([clo_nei2,orig_ver1,orig_ver2]))\n",
    "\n",
    "                        outer_edges.remove(outer_edges[rand_idx])\n",
    "\n",
    "                        if point_valid(center_1[0],center_1[1],img):\n",
    "                            outer_edges.append(new_edge1)\n",
    "                        else:\n",
    "                            boundary_edges.append(new_edge1)\n",
    "\n",
    "                        if point_valid(center_2[0],center_2[1],img):\n",
    "                            outer_edges.append(new_edge2)\n",
    "                        else:\n",
    "                            boundary_edges.append(new_edge2)\n",
    "                else:\n",
    "                    n -= 1\n",
    "                    boundary_edges.append(outer_edges[rand_idx])\n",
    "                    outer_edges.remove(outer_edges[rand_idx])\n",
    "\n",
    "\n",
    "            #rnm case 3\n",
    "            else:\n",
    "                if (case_3_on):\n",
    "                    if set([orig_ver1,clo_nei1]) not in edges:\n",
    "                        new_edge = set([orig_ver1,clo_nei1])\n",
    "\n",
    "                        center = edge_sampler(vertice_locations[orig_ver1],vertice_locations[clo_nei1])\n",
    "\n",
    "                        edges.append(new_edge)\n",
    "\n",
    "                        triangles.append(set([orig_ver1,orig_ver2,clo_nei1]))\n",
    "\n",
    "                        outer_edges.remove(outer_edges[rand_idx])\n",
    "\n",
    "                        try:\n",
    "                            outer_edges.remove(set([clo_nei1,orig_ver2]))\n",
    "                        except:\n",
    "                            num_remove_errors += 1\n",
    "\n",
    "                        if point_valid(center[0],center[1],img):\n",
    "                            outer_edges.append(new_edge)\n",
    "                        else:\n",
    "                            boundary_edges.append(new_edge)\n",
    "\n",
    "\n",
    "                    elif set([orig_ver1,clo_nei2]) not in edges:\n",
    "                        new_edge = set([orig_ver1,clo_nei2])\n",
    "\n",
    "                        center = edge_sampler(vertice_locations[orig_ver1],vertice_locations[clo_nei2])\n",
    "\n",
    "                        edges.append(new_edge)\n",
    "\n",
    "                        triangles.append(set([orig_ver1,orig_ver2,clo_nei2]))\n",
    "\n",
    "                        outer_edges.remove(outer_edges[rand_idx])\n",
    "\n",
    "                        try:\n",
    "                            outer_edges.remove(set([clo_nei2,orig_ver2]))\n",
    "                        except:\n",
    "                            num_remove_errors += 1\n",
    "\n",
    "                        if point_valid(center[0],center[1],img):\n",
    "                            outer_edges.append(new_edge)\n",
    "                        else:\n",
    "                            boundary_edges.append(new_edge)\n",
    "\n",
    "                    elif set([orig_ver2,clo_nei1]) not in edges:\n",
    "                        new_edge = set([orig_ver2,clo_nei1])\n",
    "\n",
    "                        center = edge_sampler(vertice_locations[orig_ver2],vertice_locations[clo_nei1])\n",
    "\n",
    "                        edges.append(new_edge)\n",
    "\n",
    "                        triangles.append(set([orig_ver1,orig_ver2,clo_nei1]))\n",
    "\n",
    "                        outer_edges.remove(outer_edges[rand_idx])\n",
    "\n",
    "                        try:\n",
    "                            outer_edges.remove(set([clo_nei1,orig_ver1]))\n",
    "                        except:\n",
    "                            num_remove_errors += 1\n",
    "\n",
    "\n",
    "                        if point_valid(center[0],center[1],img):\n",
    "                            outer_edges.append(new_edge)\n",
    "                        else:\n",
    "                            boundary_edges.append(new_edge)\n",
    "                    else:\n",
    "                        new_edge = set([orig_ver2,clo_nei2])\n",
    "\n",
    "                        center = edge_sampler(vertice_locations[orig_ver2],vertice_locations[clo_nei2])\n",
    "\n",
    "                        edges.append(new_edge)\n",
    "                        triangles.append(set([orig_ver1,orig_ver2,clo_nei2]))\n",
    "\n",
    "                        outer_edges.remove(outer_edges[rand_idx])\n",
    "                        try:\n",
    "                            outer_edges.remove(set([clo_nei2,orig_ver1]))\n",
    "                        except:\n",
    "                            num_remove_errors += 1\n",
    "\n",
    "\n",
    "                        if point_valid(center[0],center[1],img):\n",
    "                            outer_edges.append(new_edge)\n",
    "                        else:\n",
    "                            boundary_edges.append(new_edge)\n",
    "\n",
    "                else:\n",
    "                    n -= 1\n",
    "                    boundary_edges.append(outer_edges[rand_idx])\n",
    "                    outer_edges.remove(outer_edges[rand_idx])\n",
    "\n",
    "\n",
    "    print('total iterations: ', n)\n",
    "\n",
    "    print('number of triangles: ',len(triangles))\n",
    "    temp = []\n",
    "    for t in triangles:\n",
    "        if t not in temp:\n",
    "            temp.append(t)\n",
    "\n",
    "    print('numbwe of unique triangles: ', len(temp))\n",
    "    print('number of boundary edges: ', len(boundary_edges))\n",
    "    print('number of remove errors: ', num_remove_errors)\n",
    "\n",
    "    return vertice_locations,edges, boundary_edges\n"
   ],
   "metadata": {
    "collapsed": false,
    "pycharm": {
     "name": "#%%\n"
    }
   }
  },
  {
   "cell_type": "code",
   "execution_count": null,
   "outputs": [],
   "source": [
    "# Read in an image\n",
    "img = imread('buck_binary.png')\n",
    "# Convert the image to binary\n",
    "img = np.where(img > 200, 1, 0)\n",
    "# Get a starting position to draw the first triangle\n",
    "(x,y) = get_image_start_pts(img,5)"
   ],
   "metadata": {
    "collapsed": false,
    "pycharm": {
     "name": "#%%\n",
     "is_executing": true
    }
   }
  },
  {
   "cell_type": "code",
   "execution_count": 26,
   "outputs": [
    {
     "name": "stdout",
     "output_type": "stream",
     "text": [
      "total iterations:  2441\n",
      "number of triangles:  2276\n",
      "numbwe of unique triangles:  2276\n",
      "number of boundary edges:  166\n",
      "number of remove errors:  0\n"
     ]
    }
   ],
   "source": [
    "# Create a triangular mesh of the image\n",
    "vertices, edges, boundary_edges = create_multi_triangle_img(img,15,3000, x,y)\n",
    "vertices_np = np.array(vertices)\n",
    "g = nx.Graph()\n",
    "# Adding all the edges into a graph\n",
    "for edge in edges:\n",
    "    g.add_edge(list(edge)[0],list(edge)[1])"
   ],
   "metadata": {
    "collapsed": false,
    "pycharm": {
     "name": "#%%\n"
    }
   }
  },
  {
   "cell_type": "code",
   "execution_count": 27,
   "outputs": [
    {
     "data": {
      "text/plain": "<Figure size 432x288 with 1 Axes>",
      "image/png": "[encoded data removed]"
     },
     "metadata": {},
     "output_type": "display_data"
    }
   ],
   "source": [
    "# Make the mesh graph upright\n",
    "vertices_np = np.flip(vertices_np,axis = 1)\n",
    "vertices_np[:,1] = img.shape[0] - vertices_np[:,1]\n",
    "nx.draw(g,pos = vertices_np,node_size = 1)\n",
    "plt.gca().set_aspect('equal', adjustable='box')"
   ],
   "metadata": {
    "collapsed": false,
    "pycharm": {
     "name": "#%%\n"
    }
   }
  },
  {
   "cell_type": "code",
   "execution_count": 13,
   "metadata": {
    "collapsed": false,
    "jupyter": {
     "outputs_hidden": false
    },
    "pycharm": {
     "name": "#%%\n"
    }
   },
   "outputs": [],
   "source": [
    "#randomly rotates a triangle\n",
    "def random_rotation(coords):\n",
    "    angle = np.random.random() *2\n",
    "    mat = np.array([[np.cos(angle), -np.sin(angle)], [np.sin(angle), np.cos(angle)]])\n",
    "\n",
    "    transformed = []\n",
    "\n",
    "    for i in range(coords.shape[0]):\n",
    "        transformed.append(mat.dot(coords[i]))\n",
    "\n",
    "    return np.array(transformed)\n",
    "\n",
    "#randomly translates a triangle\n",
    "def random_translation(coords):\n",
    "    trans = (np.random.random(size=2)-0.5) * np.array([40, 40]) + np.array([32,32])\n",
    "\n",
    "    return coords + trans\n",
    "\n",
    "def random_shearing(coords):\n",
    "    toret = np.empty([coords.shape[0],coords.shape[1]])\n",
    "    random_shear = np.random.random([2,2]) - 0.5\n",
    "    random_shear[0,0] = 1\n",
    "    random_shear[1,1] = 1\n",
    "    for i in range(coords.shape[0]):\n",
    "        toret[i,:] = random_shear.dot(coords[i])\n",
    "\n",
    "    return toret\n",
    "\n",
    "\n",
    "#generate a triangle and then apply a random rotation and translation\n",
    "def random_trig_generation(low,high):\n",
    "    orig = create_triangle(low,high)\n",
    "    sheared = random_shearing(orig)\n",
    "    rot = random_rotation(sheared)\n",
    "    coords = random_translation(rot)\n",
    "    coords = np.array(coords,dtype=np.int32)\n",
    "\n",
    "    return coords\n"
   ]
  },
  {
   "cell_type": "code",
   "execution_count": 14,
   "metadata": {
    "collapsed": false,
    "jupyter": {
     "outputs_hidden": false
    },
    "pycharm": {
     "name": "#%%\n"
    }
   },
   "outputs": [],
   "source": [
    "#given coordinates of a triangle, draw it in a blank image\n",
    "def draw_triangle(coords):\n",
    "    canvas = np.zeros([64,64,3])\n",
    "    cv2.drawContours(canvas, [coords], -1, (255,255,255), -1)\n",
    "    bin_img = canvas[:,:,0]\n",
    "    #bin_img = cv2.threshold(canvas,128,255,cv2.THRESH_BINARY)[1]\n",
    "\n",
    "    return bin_img\n"
   ]
  },
  {
   "cell_type": "code",
   "execution_count": 15,
   "outputs": [
    {
     "data": {
      "text/plain": "<matplotlib.image.AxesImage at 0x12a563820>"
     },
     "execution_count": 15,
     "metadata": {},
     "output_type": "execute_result"
    },
    {
     "data": {
      "text/plain": "<Figure size 432x288 with 1 Axes>",
      "image/png": "[encoded data removed]"
     },
     "metadata": {
      "needs_background": "light"
     },
     "output_type": "display_data"
    }
   ],
   "source": [
    "a = random_trig_generation(8,16)\n",
    "plt.imshow(draw_triangle(a),cmap = 'binary')"
   ],
   "metadata": {
    "collapsed": false,
    "pycharm": {
     "name": "#%%\n"
    }
   }
  },
  {
   "cell_type": "code",
   "execution_count": 87,
   "outputs": [],
   "source": [
    "min_side_length = 12\n",
    "max_side_length = 12\n",
    "train_size = 1000\n",
    "test_size = 100"
   ],
   "metadata": {
    "collapsed": false,
    "pycharm": {
     "name": "#%%\n"
    }
   }
  },
  {
   "cell_type": "code",
   "execution_count": 88,
   "metadata": {
    "collapsed": false,
    "jupyter": {
     "outputs_hidden": false
    },
    "pycharm": {
     "name": "#%%\n"
    }
   },
   "outputs": [
    {
     "name": "stdout",
     "output_type": "stream",
     "text": [
      "(1000, 64, 64)\n"
     ]
    }
   ],
   "source": [
    "#Create the training set\n",
    "coords = []\n",
    "imgs = []\n",
    "\n",
    "for n in range(train_size):\n",
    "    coord = random_trig_generation(min_side_length,max_side_length)\n",
    "    img = draw_triangle(coord)\n",
    "    coords.append(coord)\n",
    "    imgs.append(img)\n",
    "\n",
    "#save the training set\n",
    "imgs = np.array(imgs)\n",
    "print(imgs.shape)\n",
    "coords = np.array(coords)\n",
    "np.save(\"data/train_imgs.npy\",imgs)\n",
    "np.save(\"data/train_coords.npy\",coords)"
   ]
  },
  {
   "cell_type": "code",
   "execution_count": 89,
   "metadata": {
    "collapsed": false,
    "jupyter": {
     "outputs_hidden": false
    },
    "pycharm": {
     "name": "#%%\n"
    }
   },
   "outputs": [
    {
     "name": "stdout",
     "output_type": "stream",
     "text": [
      "(100, 64, 64)\n"
     ]
    }
   ],
   "source": [
    "#Create the testing set\n",
    "coords = []\n",
    "imgs = []\n",
    "\n",
    "for n in range(test_size):\n",
    "    coord = random_trig_generation(min_side_length,max_side_length)\n",
    "    img = draw_triangle(coord)\n",
    "    coords.append(coord)\n",
    "    imgs.append(img)\n",
    "\n",
    "#save the training set\n",
    "imgs = np.array(imgs)\n",
    "print(imgs.shape)\n",
    "coords = np.array(coords)\n",
    "np.save(\"data/test_imgs.npy\",imgs)\n",
    "np.save(\"data/test_coords.npy\",coords)"
   ]
  },
  {
   "cell_type": "code",
   "execution_count": 16,
   "outputs": [
    {
     "name": "stdout",
     "output_type": "stream",
     "text": [
      "1.8.0\n"
     ]
    }
   ],
   "source": [],
   "metadata": {
    "collapsed": false,
    "pycharm": {
     "name": "#%%\n"
    }
   }
  },
  {
   "cell_type": "code",
   "execution_count": null,
   "outputs": [],
   "source": [],
   "metadata": {
    "collapsed": false,
    "pycharm": {
     "name": "#%%\n"
    }
   }
  }
 ],
 "metadata": {
  "kernelspec": {
   "display_name": "Python 3 (ipykernel)",
   "language": "python",
   "name": "python3"
  },
  "language_info": {
   "codemirror_mode": {
    "name": "ipython",
    "version": 3
   },
   "file_extension": ".py",
   "mimetype": "text/x-python",
   "name": "python",
   "nbconvert_exporter": "python",
   "pygments_lexer": "ipython3",
   "version": "3.9.11"
  }
 },
 "nbformat": 4,
 "nbformat_minor": 4
}