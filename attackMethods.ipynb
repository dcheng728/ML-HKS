{
 "cells": [
  {
   "cell_type": "code",
   "execution_count": 12,
   "id": "3b05b584",
   "metadata": {},
   "outputs": [],
   "source": [
    "import igl\n",
    "from numpy import cross, eye, dot\n",
    "from scipy.linalg import expm, norm\n",
    "import time\n",
    "import numpy\n",
    "\n",
    "%run helpers_preproc.ipynb"
   ]
  },
  {
   "cell_type": "code",
   "execution_count": 112,
   "id": "8d33a217",
   "metadata": {},
   "outputs": [],
   "source": [
    "# rotation\n",
    "def rotation_M(axis, theta):\n",
    "    return expm(cross(eye(3), axis/norm(axis)*theta))\n",
    "\n",
    "def rotate(v_chose, axis, theta):\n",
    "    M0 = rotation_M(axis, theta)\n",
    "#     print(v[labels==1].shape)\n",
    "    rotated_v = dot(v_chose,M0)\n",
    "    return rotated_v\n",
    "\n",
    "# translation \n",
    "def translate(transformations):\n",
    "    for k in range(1,K):\n",
    "        trans += transformations[:,k:k+1,:] \n",
    "        \n",
    "    return trans\n",
    "    \n",
    "# scaling\n",
    "def scaling_matrix():\n",
    "    pass\n",
    "\n",
    "def scale():\n",
    "    pass\n",
    "\n",
    "\n",
    "# reflection\n",
    "def point_reflection(axis):\n",
    "    pass\n",
    "\n",
    "# non differentiable\n",
    "def reflection(v_chose, axis, dim):\n",
    "    reflected_v = v_chose\n",
    "    reflected_v[:,dim] = np.where(v_chose[:,dim] < axis[dim], v_chose[:,dim] + 2*(axis[dim] - v_chose[:,dim]),\n",
    "                v_chose[:,dim] - 2*( v_chose[:,dim]) - axis[dim])\n",
    "    \n",
    "    return reflected_v\n",
    "\n",
    "\n"
   ]
  },
  {
   "cell_type": "code",
   "execution_count": 113,
   "id": "d2ee9498",
   "metadata": {},
   "outputs": [],
   "source": [
    "mesh_dir = 'SHREC11_demo/'\n"
   ]
  },
  {
   "cell_type": "code",
   "execution_count": null,
   "id": "53fa680a",
   "metadata": {},
   "outputs": [],
   "source": []
  },
  {
   "cell_type": "code",
   "execution_count": 114,
   "id": "31a55622",
   "metadata": {},
   "outputs": [],
   "source": [
    "# TEST\n",
    "\n",
    "# read in a object file\n",
    "v, f = igl.read_triangle_mesh(mesh_dir + 'T0.obj')\n",
    "\n",
    "centroids, labels = scipy.cluster.vq.kmeans2(v, K, minit = \"points\")\n"
   ]
  },
  {
   "cell_type": "code",
   "execution_count": 115,
   "id": "f003921c",
   "metadata": {},
   "outputs": [],
   "source": [
    "v_chose, axis, theta = v[labels == 1], centroids[1] , 1.2"
   ]
  },
  {
   "cell_type": "code",
   "execution_count": 116,
   "id": "66e26e7b",
   "metadata": {},
   "outputs": [],
   "source": [
    "# print(v_chose[0])\n",
    "# print((v_chose).shape)"
   ]
  },
  {
   "cell_type": "code",
   "execution_count": null,
   "id": "276983f1",
   "metadata": {},
   "outputs": [],
   "source": []
  },
  {
   "cell_type": "code",
   "execution_count": null,
   "id": "709b6ac3",
   "metadata": {},
   "outputs": [],
   "source": []
  }
 ],
 "metadata": {
  "kernelspec": {
   "display_name": "Python 3 (ipykernel)",
   "language": "python",
   "name": "python3"
  },
  "language_info": {
   "codemirror_mode": {
    "name": "ipython",
    "version": 3
   },
   "file_extension": ".py",
   "mimetype": "text/x-python",
   "name": "python",
   "nbconvert_exporter": "python",
   "pygments_lexer": "ipython3",
   "version": "3.10.9"
  }
 },
 "nbformat": 4,
 "nbformat_minor": 5
}
