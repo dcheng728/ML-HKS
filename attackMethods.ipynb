{
 "cells": [
  {
   "cell_type": "code",
   "execution_count": 45,
   "id": "3b05b584",
   "metadata": {},
   "outputs": [],
   "source": [
    "import igl\n",
    "from numpy import cross, eye, dot\n",
    "from scipy.linalg import expm, norm\n",
    "import time\n",
    "\n",
    "%run helpers_preproc.ipynb"
   ]
  },
  {
   "cell_type": "code",
   "execution_count": 33,
   "id": "8d33a217",
   "metadata": {},
   "outputs": [],
   "source": [
    "# rotation\n",
    "def rotation_M(axis, theta):\n",
    "    return expm(cross(eye(3), axis/norm(axis)*theta))\n",
    "\n",
    "def rotate(v_chose, axis, theta):\n",
    "    M0 = rotation_M(axis, theta)\n",
    "#     print(v[labels==1].shape)\n",
    "    rotated_v = dot(v_chose,M0)\n",
    "    return rotated_v\n",
    "\n",
    "\n",
    "# scaling\n",
    "def scaling_matrix():\n",
    "    pass\n",
    "\n",
    "def scale():\n",
    "    pass\n",
    "\n",
    "\n",
    "# reflection\n",
    "def point_reflection(axis):\n",
    "    pass\n",
    "\n",
    "# non differentiable\n",
    "def reflection(v_chose, axis, dim):\n",
    "    reflected_v = v_chose\n",
    "    reflected_v[:,dim] = np.where(v_chose[:,dim] < axis[dim], v_chose[:,dim] + 2*(axis[dim] - v_chose[:,dim]),\n",
    "                v_chose[:,dim] - 2*( v_chose[:,dim]) - axis[dim])\n",
    "    \n",
    "    return reflected_v\n",
    "\n",
    "\n",
    "# shearing\n",
    "def shear():\n",
    "    pass\n",
    "\n"
   ]
  },
  {
   "cell_type": "code",
   "execution_count": 34,
   "id": "d2ee9498",
   "metadata": {},
   "outputs": [],
   "source": [
    "mesh_dir = 'SHREC11_demo/'\n",
    "\n",
    "K = 5"
   ]
  },
  {
   "cell_type": "code",
   "execution_count": null,
   "id": "53fa680a",
   "metadata": {},
   "outputs": [],
   "source": []
  },
  {
   "cell_type": "code",
   "execution_count": 35,
   "id": "31a55622",
   "metadata": {},
   "outputs": [],
   "source": [
    "# TEST\n",
    "\n",
    "# read in a object file\n",
    "v, f = igl.read_triangle_mesh(mesh_dir + 'T0.obj')\n",
    "\n",
    "centroids, labels = scipy.cluster.vq.kmeans2(v, K, minit = \"points\")\n"
   ]
  },
  {
   "cell_type": "code",
   "execution_count": 36,
   "id": "f003921c",
   "metadata": {},
   "outputs": [],
   "source": [
    "v_chose, axis, theta = v[labels == 1], centroids[1] , 1.2"
   ]
  },
  {
   "cell_type": "code",
   "execution_count": null,
   "id": "66e26e7b",
   "metadata": {},
   "outputs": [],
   "source": [
    "print(v_chose[0])"
   ]
  },
  {
   "cell_type": "code",
   "execution_count": 41,
   "id": "ecc81d58",
   "metadata": {},
   "outputs": [
    {
     "name": "stdout",
     "output_type": "stream",
     "text": [
      "[0.57336366 0.18603412 0.156704  ]\n"
     ]
    }
   ],
   "source": [
    "# new_v = rotate(v_chose, axis, theta)\n",
    "# print(new_v)"
   ]
  },
  {
   "cell_type": "code",
   "execution_count": 42,
   "id": "2849d396",
   "metadata": {},
   "outputs": [
    {
     "data": {
      "text/plain": [
       "array([-0.42506666,  0.09107556,  0.15023627])"
      ]
     },
     "execution_count": 42,
     "metadata": {},
     "output_type": "execute_result"
    }
   ],
   "source": [
    "axis"
   ]
  },
  {
   "cell_type": "code",
   "execution_count": 47,
   "id": "1defc8b5",
   "metadata": {},
   "outputs": [
    {
     "name": "stdout",
     "output_type": "stream",
     "text": [
      "0.000746333011193201\n"
     ]
    }
   ],
   "source": [
    "\n",
    "start_time = time.perf_counter()\n",
    "reflection(v_chose, axis, 0)\n",
    "end_time = time.perf_counter()\n",
    "\n",
    "timer = end_time - start_time\n",
    "print(timer)"
   ]
  },
  {
   "cell_type": "code",
   "execution_count": null,
   "id": "9beb1ed5",
   "metadata": {},
   "outputs": [],
   "source": []
  },
  {
   "cell_type": "code",
   "execution_count": null,
   "id": "8dfaa9aa",
   "metadata": {},
   "outputs": [],
   "source": []
  }
 ],
 "metadata": {
  "kernelspec": {
   "display_name": "Python 3 (ipykernel)",
   "language": "python",
   "name": "python3"
  },
  "language_info": {
   "codemirror_mode": {
    "name": "ipython",
    "version": 3
   },
   "file_extension": ".py",
   "mimetype": "text/x-python",
   "name": "python",
   "nbconvert_exporter": "python",
   "pygments_lexer": "ipython3",
   "version": "3.10.9"
  }
 },
 "nbformat": 4,
 "nbformat_minor": 5
}
