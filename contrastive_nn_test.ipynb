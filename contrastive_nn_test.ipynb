{
 "cells": [
  {
   "cell_type": "code",
   "execution_count": 78,
   "metadata": {
    "collapsed": true
   },
   "outputs": [],
   "source": [
    "import torch.optim as optim\n",
    "import torch\n",
    "import numpy as np\n",
    "import matplotlib.pyplot as plt"
   ]
  },
  {
   "cell_type": "code",
   "execution_count": 81,
   "outputs": [],
   "source": [
    "#read in the data, get normalized adjacency (NxN)\n",
    "%run helpers_preproc.ipynb\n",
    "mesh_dir = 'SHREC11/'\n",
    "\n",
    "label_np = np.array(readLbl(mesh_dir+'labels.txt'))\n",
    "label_mat_np = np.where(igl.all_pairs_distances(label_np,label_np,False) > 0.5,0,1)\n",
    "label_mat = torch.tensor(label_mat_np,requires_grad=False)\n",
    "\n",
    "type = get_same_type(label_np)\n",
    "test, train = get_test_train(type)"
   ],
   "metadata": {
    "collapsed": false
   }
  },
  {
   "cell_type": "code",
   "execution_count": 82,
   "outputs": [
    {
     "name": "stdout",
     "output_type": "stream",
     "text": [
      "torch.Size([450, 450])\n"
     ]
    }
   ],
   "source": [
    "label_mat = form_label_matrix(label_mat, train)"
   ],
   "metadata": {
    "collapsed": false
   }
  },
  {
   "cell_type": "code",
   "execution_count": 83,
   "outputs": [
    {
     "name": "stderr",
     "output_type": "stream",
     "text": [
      "/var/folders/y9/sgsdqvs575j76jqnz728mwkh0000gn/T/ipykernel_45354/4163488392.py:70: RuntimeWarning: invalid value encountered in divide\n",
      "  adj_normalized = adj_noscale / np.reshape(np.sum(adj_noscale,axis = 1),[adj_noscale.shape[0],1])\n"
     ]
    }
   ],
   "source": [
    "normed_adjMats_list, node_sigs_list = prep_data(train)"
   ],
   "metadata": {
    "collapsed": false
   }
  },
  {
   "cell_type": "code",
   "execution_count": 84,
   "outputs": [],
   "source": [
    "normed_adjMats = np.stack(normed_adjMats_list)\n",
    "node_sigs = np.stack(node_sigs_list)\n",
    "\n",
    "normed_adjMats = torch.tensor(normed_adjMats,requires_grad=False).float()\n",
    "node_sigs = torch.tensor(node_sigs,requires_grad=False).float()\n",
    "\n",
    "normed_adjMats = torch.nan_to_num(normed_adjMats,0,0,0)\n",
    "node_sigs = torch.nan_to_num(node_sigs,0,0,0)"
   ],
   "metadata": {
    "collapsed": false
   }
  },
  {
   "cell_type": "code",
   "execution_count": 85,
   "outputs": [
    {
     "data": {
      "text/plain": "tensor([[[8.0000, 0.0975, 0.0000, 0.5081, 0.5081],\n         [5.0000, 0.0975, 0.0000, 0.2521, 0.2521],\n         [7.0000, 0.1040, 0.0000, 0.4438, 0.4438],\n         ...,\n         [6.0000, 0.0804, 0.0000, 0.3440, 0.3440],\n         [4.0000, 0.0475, 0.0000, 0.1420, 0.1420],\n         [5.0000, 0.0775, 0.0000, 0.2113, 0.2113]],\n\n        [[5.0000, 0.1580, 0.0000, 0.4133, 0.4133],\n         [6.0000, 0.2462, 0.0000, 0.7495, 0.7495],\n         [4.0000, 0.1513, 0.0000, 0.3373, 0.3373],\n         ...,\n         [7.0000, 0.1353, 0.0000, 0.5776, 0.5776],\n         [5.0000, 0.1206, 0.0000, 0.4141, 0.4141],\n         [6.0000, 0.1083, 0.0000, 0.4870, 0.4870]],\n\n        [[7.0000, 0.1930, 0.0000, 0.6834, 0.6834],\n         [7.0000, 0.1915, 0.0000, 0.7035, 0.7035],\n         [5.0000, 0.1088, 0.0000, 0.3728, 0.3728],\n         ...,\n         [5.0000, 0.1061, 0.0000, 0.3954, 0.3954],\n         [5.0000, 0.1057, 0.0000, 0.3634, 0.3634],\n         [5.0000, 0.1498, 0.0000, 0.4610, 0.4610]],\n\n        ...,\n\n        [[4.0000, 0.1191, 0.0000, 0.4184, 0.4184],\n         [6.0000, 0.1447, 0.0000, 0.6747, 0.6747],\n         [5.0000, 0.1810, 0.0000, 0.6467, 0.6467],\n         ...,\n         [5.0000, 0.1285, 0.0000, 0.5709, 0.5709],\n         [6.0000, 0.1826, 0.0000, 0.7955, 0.7955],\n         [5.0000, 0.2244, 0.0000, 0.7033, 0.7033]],\n\n        [[4.0000, 0.1260, 0.0000, 0.3824, 0.3824],\n         [5.0000, 0.1380, 0.0000, 0.5357, 0.5357],\n         [6.0000, 0.1418, 0.0000, 0.5906, 0.5906],\n         ...,\n         [5.0000, 0.1447, 0.0000, 0.5388, 0.5388],\n         [7.0000, 0.1986, 0.0000, 1.0718, 1.0718],\n         [5.0000, 0.1796, 0.0000, 0.6451, 0.6451]],\n\n        [[5.0000, 0.1647, 0.0000, 0.6557, 0.6557],\n         [7.0000, 0.1655, 0.0000, 0.9279, 0.9279],\n         [5.0000, 0.1489, 0.0000, 0.6209, 0.6209],\n         ...,\n         [6.0000, 0.1398, 0.0000, 0.7043, 0.7043],\n         [5.0000, 0.1590, 0.0000, 0.5721, 0.5721],\n         [5.0000, 0.1398, 0.0000, 0.5076, 0.5076]]])"
     },
     "execution_count": 85,
     "metadata": {},
     "output_type": "execute_result"
    }
   ],
   "source": [
    "node_sigs"
   ],
   "metadata": {
    "collapsed": false
   }
  },
  {
   "cell_type": "code",
   "execution_count": 86,
   "outputs": [],
   "source": [
    "class GCN(torch.nn.Module):\n",
    "    def __init__(self, widths):\n",
    "        super().__init__()\n",
    "        self.f = 5\n",
    "        self.widths = widths\n",
    "        self.weights = []\n",
    "        self.weights.append(torch.autograd.Variable(torch.rand(size = [self.f,widths[0]])-0.5,requires_grad = True))\n",
    "\n",
    "        for i in range(1,len(self.widths)):\n",
    "            c = self.widths[i]\n",
    "            self.weights.append(torch.autograd.Variable(torch.rand((self.widths[i-1],self.widths[i]))-0.5,requires_grad = True))\n",
    "\n",
    "    def forward(self, adjM,node_sigM):\n",
    "        curr_output = torch.tanh(torch.matmul(torch.matmul(adjM,node_sigM),self.weights[0])) #nxc\n",
    "        for i in range(1,len(self.widths)):\n",
    "            curr_output = torch.tanh(torch.matmul(torch.matmul(adjM,curr_output),self.weights[i])) #nxc\n",
    "\n",
    "        return curr_output"
   ],
   "metadata": {
    "collapsed": false
   }
  },
  {
   "cell_type": "code",
   "execution_count": 87,
   "outputs": [],
   "source": [
    "class NNN(torch.nn.Module):\n",
    "    def __init__(self, widths):\n",
    "        super().__init__()\n",
    "        self.input_shape = 2520\n",
    "        self.widths = widths\n",
    "        self.weights = []\n",
    "        self.weights.append(torch.autograd.Variable(torch.rand(size = [self.input_shape,widths[0]])-0.5,requires_grad = True))\n",
    "\n",
    "        for i in range(1,len(self.widths)):\n",
    "            c = self.widths[i]\n",
    "            self.weights.append(torch.autograd.Variable(torch.rand((self.widths[i-1],self.widths[i]))-0.5,requires_grad = True))\n",
    "\n",
    "    def forward(self, x):\n",
    "        x = torch.flatten(x,1,2)\n",
    "        torch.matmul(x,self.weights[0])\n",
    "        curr_output = torch.tanh(torch.matmul(x,self.weights[0])) #nxc\n",
    "        for i in range(1,len(self.widths)):\n",
    "            curr_output = torch.tanh(torch.matmul(curr_output,self.weights[i])) #nxc\n",
    "\n",
    "        return curr_output"
   ],
   "metadata": {
    "collapsed": false
   }
  },
  {
   "cell_type": "code",
   "execution_count": 88,
   "outputs": [
    {
     "name": "stdout",
     "output_type": "stream",
     "text": [
      "torch.Size([450, 252, 10])\n",
      "torch.Size([450, 10])\n"
     ]
    }
   ],
   "source": [
    "g = GCN([10,10,10,10])\n",
    "n = NNN([10,10,10,10])\n",
    "output1 = g.forward(normed_adjMats,node_sigs)\n",
    "output2 = n.forward(output1)\n",
    "print(output1.shape)\n",
    "print(output2.shape)"
   ],
   "metadata": {
    "collapsed": false
   }
  },
  {
   "cell_type": "code",
   "execution_count": 89,
   "outputs": [],
   "source": [
    "def lossF(features):\n",
    "    disMat = torch.cdist(features,features)\n",
    "    sameType = disMat * (label_mat-torch.diag(torch.ones(450)))\n",
    "    diffType = disMat * (1-label_mat)\n",
    "    sameTypeMean = torch.sum(sameType) / 12000\n",
    "    diffTypeMean = torch.sum(diffType) /348000\n",
    "\n",
    "    sameTypeStd = torch.sum((sameType - sameTypeMean)**2) / 12000\n",
    "    diffTypeStd = torch.sum((diffType - diffTypeMean)**2) / 348000\n",
    "\n",
    "    #print(disMat)\n",
    "    return  sameTypeMean - diffTypeMean + 0.2 * (sameTypeStd + diffTypeStd)"
   ],
   "metadata": {
    "collapsed": false
   }
  },
  {
   "cell_type": "code",
   "execution_count": 101,
   "outputs": [
    {
     "name": "stdout",
     "output_type": "stream",
     "text": [
      "tensor(-1.0423, grad_fn=<AddBackward0>)\n",
      "tensor(-1.0602, grad_fn=<AddBackward0>)\n",
      "tensor(-1.0550, grad_fn=<AddBackward0>)\n",
      "tensor(-1.0605, grad_fn=<AddBackward0>)\n",
      "tensor(-1.0636, grad_fn=<AddBackward0>)\n",
      "tensor(-1.0624, grad_fn=<AddBackward0>)\n",
      "tensor(-1.0629, grad_fn=<AddBackward0>)\n",
      "tensor(-1.0636, grad_fn=<AddBackward0>)\n",
      "tensor(-1.0634, grad_fn=<AddBackward0>)\n",
      "tensor(-1.0640, grad_fn=<AddBackward0>)\n",
      "tensor(-1.0654, grad_fn=<AddBackward0>)\n",
      "tensor(-1.0662, grad_fn=<AddBackward0>)\n",
      "tensor(-1.0651, grad_fn=<AddBackward0>)\n",
      "tensor(-1.0654, grad_fn=<AddBackward0>)\n",
      "tensor(-1.0658, grad_fn=<AddBackward0>)\n",
      "tensor(-1.0662, grad_fn=<AddBackward0>)\n",
      "tensor(-1.0665, grad_fn=<AddBackward0>)\n",
      "tensor(-1.0669, grad_fn=<AddBackward0>)\n",
      "tensor(-1.0666, grad_fn=<AddBackward0>)\n",
      "tensor(-1.0663, grad_fn=<AddBackward0>)\n",
      "tensor(-1.0673, grad_fn=<AddBackward0>)\n",
      "tensor(-1.0677, grad_fn=<AddBackward0>)\n",
      "tensor(-1.0669, grad_fn=<AddBackward0>)\n",
      "tensor(-1.0672, grad_fn=<AddBackward0>)\n",
      "tensor(-1.0672, grad_fn=<AddBackward0>)\n",
      "tensor(-1.0676, grad_fn=<AddBackward0>)\n",
      "tensor(-1.0681, grad_fn=<AddBackward0>)\n",
      "tensor(-1.0676, grad_fn=<AddBackward0>)\n",
      "tensor(-1.0675, grad_fn=<AddBackward0>)\n",
      "tensor(-1.0681, grad_fn=<AddBackward0>)\n",
      "tensor(-1.0679, grad_fn=<AddBackward0>)\n",
      "tensor(-1.0679, grad_fn=<AddBackward0>)\n",
      "tensor(-1.0682, grad_fn=<AddBackward0>)\n",
      "tensor(-1.0682, grad_fn=<AddBackward0>)\n",
      "tensor(-1.0685, grad_fn=<AddBackward0>)\n",
      "tensor(-1.0683, grad_fn=<AddBackward0>)\n",
      "tensor(-1.0684, grad_fn=<AddBackward0>)\n",
      "tensor(-1.0683, grad_fn=<AddBackward0>)\n",
      "tensor(-1.0679, grad_fn=<AddBackward0>)\n",
      "tensor(-1.0685, grad_fn=<AddBackward0>)\n",
      "tensor(-1.0685, grad_fn=<AddBackward0>)\n"
     ]
    },
    {
     "ename": "KeyboardInterrupt",
     "evalue": "",
     "output_type": "error",
     "traceback": [
      "\u001B[0;31m---------------------------------------------------------------------------\u001B[0m",
      "\u001B[0;31mKeyboardInterrupt\u001B[0m                         Traceback (most recent call last)",
      "Cell \u001B[0;32mIn[101], line 4\u001B[0m\n\u001B[1;32m      2\u001B[0m \u001B[38;5;28;01mfor\u001B[39;00m i \u001B[38;5;129;01min\u001B[39;00m \u001B[38;5;28mrange\u001B[39m(\u001B[38;5;241m10000\u001B[39m):\n\u001B[1;32m      3\u001B[0m     optimizer\u001B[38;5;241m.\u001B[39mzero_grad()\n\u001B[0;32m----> 4\u001B[0m     output \u001B[38;5;241m=\u001B[39m n\u001B[38;5;241m.\u001B[39mforward(\u001B[43mg\u001B[49m\u001B[38;5;241;43m.\u001B[39;49m\u001B[43mforward\u001B[49m\u001B[43m(\u001B[49m\u001B[43mnormed_adjMats\u001B[49m\u001B[43m,\u001B[49m\u001B[43mnode_sigs\u001B[49m\u001B[43m)\u001B[49m)\n\u001B[1;32m      5\u001B[0m     loss \u001B[38;5;241m=\u001B[39m lossF(output)\n\u001B[1;32m      6\u001B[0m     loss\u001B[38;5;241m.\u001B[39mbackward()\n",
      "Cell \u001B[0;32mIn[86], line 16\u001B[0m, in \u001B[0;36mGCN.forward\u001B[0;34m(self, adjM, node_sigM)\u001B[0m\n\u001B[1;32m     14\u001B[0m curr_output \u001B[38;5;241m=\u001B[39m torch\u001B[38;5;241m.\u001B[39mtanh(torch\u001B[38;5;241m.\u001B[39mmatmul(torch\u001B[38;5;241m.\u001B[39mmatmul(adjM,node_sigM),\u001B[38;5;28mself\u001B[39m\u001B[38;5;241m.\u001B[39mweights[\u001B[38;5;241m0\u001B[39m])) \u001B[38;5;66;03m#nxc\u001B[39;00m\n\u001B[1;32m     15\u001B[0m \u001B[38;5;28;01mfor\u001B[39;00m i \u001B[38;5;129;01min\u001B[39;00m \u001B[38;5;28mrange\u001B[39m(\u001B[38;5;241m1\u001B[39m,\u001B[38;5;28mlen\u001B[39m(\u001B[38;5;28mself\u001B[39m\u001B[38;5;241m.\u001B[39mwidths)):\n\u001B[0;32m---> 16\u001B[0m     curr_output \u001B[38;5;241m=\u001B[39m \u001B[43mtorch\u001B[49m\u001B[38;5;241;43m.\u001B[39;49m\u001B[43mtanh\u001B[49m\u001B[43m(\u001B[49m\u001B[43mtorch\u001B[49m\u001B[38;5;241;43m.\u001B[39;49m\u001B[43mmatmul\u001B[49m\u001B[43m(\u001B[49m\u001B[43mtorch\u001B[49m\u001B[38;5;241;43m.\u001B[39;49m\u001B[43mmatmul\u001B[49m\u001B[43m(\u001B[49m\u001B[43madjM\u001B[49m\u001B[43m,\u001B[49m\u001B[43mcurr_output\u001B[49m\u001B[43m)\u001B[49m\u001B[43m,\u001B[49m\u001B[38;5;28;43mself\u001B[39;49m\u001B[38;5;241;43m.\u001B[39;49m\u001B[43mweights\u001B[49m\u001B[43m[\u001B[49m\u001B[43mi\u001B[49m\u001B[43m]\u001B[49m\u001B[43m)\u001B[49m\u001B[43m)\u001B[49m \u001B[38;5;66;03m#nxc\u001B[39;00m\n\u001B[1;32m     18\u001B[0m \u001B[38;5;28;01mreturn\u001B[39;00m curr_output\n",
      "\u001B[0;31mKeyboardInterrupt\u001B[0m: "
     ]
    }
   ],
   "source": [
    "optimizer = optim.Adam(g.weights + n.weights,lr = 0.0001)\n",
    "for i in range(10000):\n",
    "    optimizer.zero_grad()\n",
    "    output = n.forward(g.forward(normed_adjMats,node_sigs))\n",
    "    loss = lossF(output)\n",
    "    loss.backward()\n",
    "    optimizer.step()\n",
    "    print(loss)"
   ],
   "metadata": {
    "collapsed": false
   }
  },
  {
   "cell_type": "code",
   "execution_count": 102,
   "outputs": [
    {
     "name": "stderr",
     "output_type": "stream",
     "text": [
      "/var/folders/y9/sgsdqvs575j76jqnz728mwkh0000gn/T/ipykernel_45354/2044762697.py:2: UserWarning: To copy construct from a tensor, it is recommended to use sourceTensor.clone().detach() or sourceTensor.clone().detach().requires_grad_(True), rather than torch.tensor(sourceTensor).\n",
      "  mask_same = torch.tensor(label_mat - torch.diag(torch.ones(450)),dtype=bool).flatten()\n",
      "/var/folders/y9/sgsdqvs575j76jqnz728mwkh0000gn/T/ipykernel_45354/2044762697.py:3: UserWarning: To copy construct from a tensor, it is recommended to use sourceTensor.clone().detach() or sourceTensor.clone().detach().requires_grad_(True), rather than torch.tensor(sourceTensor).\n",
      "  mask_diff = torch.tensor(1 - label_mat,dtype=bool).flatten()\n"
     ]
    }
   ],
   "source": [
    "disMat = torch.cdist(output,output).flatten()\n",
    "mask_same = torch.tensor(label_mat - torch.diag(torch.ones(450)),dtype=bool).flatten()\n",
    "mask_diff = torch.tensor(1 - label_mat,dtype=bool).flatten()\n",
    "sameComp = disMat[mask_same].detach().numpy()\n",
    "diffComp = disMat[mask_diff].detach().numpy()\n",
    "weightsSame = np.ones_like(sameComp) / len(sameComp)\n",
    "weightsDiff = np.ones_like(diffComp) / len(diffComp)\n",
    "bins = torch.arange(0,0.1,0.001)"
   ],
   "metadata": {
    "collapsed": false
   }
  },
  {
   "cell_type": "code",
   "execution_count": 103,
   "outputs": [
    {
     "data": {
      "text/plain": "(array([0.10888822, 0.07587159, 0.03777707, 0.03238036, 0.03460252,\n        0.03301525, 0.02761853, 0.02857089, 0.03396761, 0.02634871,\n        0.02365035, 0.0204758 , 0.02031711, 0.01714253, 0.02444398,\n        0.01682508, 0.01492035, 0.01269817, 0.01587272, 0.01238072,\n        0.01238072, 0.01142836, 0.01174581, 0.00920618, 0.01142836,\n        0.00539672, 0.006984  , 0.01047599, 0.006984  , 0.00539672,\n        0.006984  , 0.00539672, 0.00412691, 0.00476182, 0.00412691,\n        0.00444436, 0.00539672, 0.00126982, 0.00380945, 0.00476182,\n        0.00190473, 0.003492  , 0.003492  , 0.00380945, 0.00285709,\n        0.00444436, 0.00412691, 0.00730145, 0.00317454, 0.00222218,\n        0.00285709, 0.00190473, 0.00222218, 0.00253963, 0.00253963,\n        0.00190473, 0.00380945, 0.00571418, 0.00253963, 0.00253963,\n        0.00126982, 0.00190473, 0.00063491, 0.00158727, 0.00063491,\n        0.00190473, 0.00190473, 0.00190473, 0.        , 0.00031745,\n        0.00190473, 0.00285709, 0.00253963, 0.00190473, 0.00285709,\n        0.00380945, 0.00095236, 0.00126982, 0.00095236, 0.00412691,\n        0.00444436, 0.00222218, 0.00095236, 0.00095236, 0.00063491,\n        0.00126982, 0.        , 0.00031745, 0.00126982, 0.00190473,\n        0.00285709, 0.00222218, 0.00063491, 0.        , 0.00063491,\n        0.00031745, 0.        , 0.        , 0.00063491, 0.00095236,\n        0.00126982, 0.00031745, 0.        , 0.00063491, 0.00126982,\n        0.00031745, 0.00095236, 0.00031745, 0.00126982, 0.00126982,\n        0.00190473, 0.00095236, 0.00031745, 0.00253963, 0.00031745,\n        0.00095236, 0.00063491, 0.00031745, 0.00095236, 0.00158727,\n        0.00063491, 0.00031745, 0.00158727, 0.00031745, 0.00126982,\n        0.00158727, 0.00158727, 0.00158727, 0.00190473, 0.00031745,\n        0.00158727, 0.00031745, 0.00063491, 0.00095236, 0.00095236,\n        0.00031745, 0.00126982, 0.00190473, 0.00285709, 0.00126982,\n        0.00063491, 0.00126982, 0.00031745, 0.00095236, 0.00031745,\n        0.        , 0.00095236, 0.        , 0.        , 0.        ,\n        0.00031745, 0.00095236, 0.00063491, 0.        , 0.00095236,\n        0.00031745, 0.00031745, 0.00063491, 0.        , 0.00063491,\n        0.00095236, 0.00063491, 0.00031745, 0.        , 0.        ,\n        0.        , 0.        , 0.        , 0.00063491, 0.00063491,\n        0.00031745, 0.        , 0.        , 0.00063491, 0.        ,\n        0.        , 0.00031745, 0.        , 0.00031745, 0.        ,\n        0.        , 0.00031745, 0.        , 0.00031745, 0.00063491,\n        0.00063491, 0.        , 0.        , 0.        , 0.        ,\n        0.        , 0.00031745, 0.        , 0.        , 0.        ,\n        0.        , 0.        , 0.        , 0.        , 0.00031745,\n        0.        , 0.00031745, 0.        , 0.        , 0.00031745,\n        0.        , 0.00031745, 0.        , 0.00063491, 0.        ,\n        0.00063491, 0.00031745, 0.        , 0.        , 0.00095236,\n        0.        , 0.        , 0.        , 0.00031745, 0.00031745,\n        0.00031745, 0.00031745, 0.        , 0.00031745, 0.        ,\n        0.        , 0.00063491, 0.00063491, 0.00031745, 0.        ,\n        0.00031745, 0.00031745, 0.00031745, 0.        , 0.00095236,\n        0.00063491, 0.00126982, 0.        , 0.        , 0.00095236,\n        0.00095236, 0.00158727, 0.00095236, 0.        , 0.        ,\n        0.        , 0.00031745, 0.        , 0.        , 0.        ,\n        0.        , 0.00031745, 0.00031745, 0.00095236, 0.00063491,\n        0.        , 0.        , 0.        , 0.        , 0.00063491,\n        0.00031745, 0.00031745, 0.00126982, 0.00031745, 0.        ,\n        0.00063491, 0.00031745, 0.00158727, 0.        , 0.        ,\n        0.00031745, 0.00031745, 0.00126982, 0.00031745, 0.00031745,\n        0.        , 0.        , 0.        , 0.        , 0.00063491,\n        0.        , 0.        , 0.00031745, 0.        , 0.00031745,\n        0.        , 0.00031745, 0.00095236, 0.00031745, 0.00031745,\n        0.00063491, 0.00095236, 0.00095236, 0.00031745, 0.00063491,\n        0.00063491, 0.00095236, 0.00126982, 0.00031745, 0.00095236,\n        0.00095236, 0.        , 0.        , 0.00063491, 0.00095236,\n        0.        , 0.00031745, 0.00031745, 0.        , 0.        ,\n        0.        , 0.        , 0.        , 0.        , 0.        ,\n        0.        , 0.        , 0.        , 0.        , 0.        ,\n        0.00031745, 0.        , 0.        , 0.00031745, 0.        ,\n        0.        , 0.        , 0.        , 0.        , 0.        ,\n        0.        , 0.        , 0.        , 0.        , 0.        ,\n        0.        , 0.        , 0.        , 0.00031745, 0.        ,\n        0.        , 0.        , 0.        , 0.        , 0.        ,\n        0.        , 0.        , 0.        , 0.        , 0.        ,\n        0.        , 0.        , 0.        , 0.        , 0.        ,\n        0.        , 0.        , 0.        , 0.        , 0.        ,\n        0.        , 0.        , 0.        , 0.        , 0.        ,\n        0.        , 0.        , 0.        , 0.        , 0.        ,\n        0.        , 0.        , 0.        , 0.        , 0.        ,\n        0.        , 0.        , 0.        , 0.        , 0.        ,\n        0.        , 0.        , 0.        , 0.        , 0.        ,\n        0.        , 0.        , 0.        , 0.        , 0.        ,\n        0.        , 0.        , 0.        , 0.        , 0.        ,\n        0.        , 0.        , 0.        , 0.        , 0.        ,\n        0.        , 0.        , 0.        , 0.        , 0.        ,\n        0.        , 0.        , 0.        , 0.        , 0.        ,\n        0.        , 0.        , 0.        , 0.        , 0.        ,\n        0.        , 0.        , 0.        , 0.        , 0.        ,\n        0.        , 0.        , 0.        , 0.        , 0.        ,\n        0.        , 0.        , 0.        , 0.        , 0.        ,\n        0.        , 0.        , 0.        , 0.        , 0.        ,\n        0.        , 0.        , 0.        , 0.        , 0.        ,\n        0.        , 0.        , 0.        , 0.        , 0.        ,\n        0.        , 0.        , 0.        , 0.        , 0.        ,\n        0.        , 0.        , 0.        , 0.        , 0.        ,\n        0.        , 0.        , 0.        , 0.        , 0.        ,\n        0.        , 0.        , 0.        , 0.        , 0.        ,\n        0.        , 0.        , 0.        , 0.        , 0.        ,\n        0.        , 0.        , 0.        , 0.        , 0.        ,\n        0.        , 0.        , 0.        , 0.        , 0.        ,\n        0.        , 0.        , 0.        , 0.        , 0.        ,\n        0.        , 0.        , 0.        , 0.        , 0.        ,\n        0.        , 0.        , 0.        , 0.        , 0.        ,\n        0.        , 0.        , 0.        , 0.        , 0.        ,\n        0.        , 0.        , 0.        , 0.        , 0.        ,\n        0.        , 0.        , 0.        , 0.        , 0.        ,\n        0.        , 0.        , 0.        , 0.        , 0.        ,\n        0.        , 0.        , 0.        , 0.        , 0.        ,\n        0.        , 0.        , 0.        , 0.        , 0.        ,\n        0.        , 0.        , 0.        , 0.        , 0.        ,\n        0.        , 0.        , 0.        , 0.        , 0.        ,\n        0.        , 0.        , 0.        , 0.        , 0.        ,\n        0.        , 0.        , 0.        , 0.        , 0.        ,\n        0.        , 0.        , 0.        , 0.        , 0.        ,\n        0.        , 0.        , 0.        , 0.        , 0.        ,\n        0.        , 0.        , 0.        , 0.        , 0.        ,\n        0.        , 0.        , 0.        , 0.        , 0.        ,\n        0.        , 0.        , 0.        , 0.        , 0.        ,\n        0.        , 0.        , 0.        , 0.        , 0.        ,\n        0.        , 0.        , 0.        , 0.        , 0.        ,\n        0.        , 0.        , 0.        , 0.        , 0.        ,\n        0.        , 0.        , 0.        , 0.        , 0.        ,\n        0.        , 0.        , 0.        , 0.        , 0.        ,\n        0.        , 0.        , 0.        , 0.        , 0.        ,\n        0.        , 0.        , 0.        , 0.        , 0.        ,\n        0.        , 0.        , 0.        , 0.        , 0.        ,\n        0.        , 0.        , 0.        , 0.        , 0.        ,\n        0.        , 0.        , 0.        , 0.        , 0.        ,\n        0.        , 0.        , 0.        , 0.        , 0.        ,\n        0.        , 0.        , 0.        , 0.        , 0.        ,\n        0.        , 0.        , 0.        , 0.        , 0.        ,\n        0.        , 0.        , 0.        , 0.        , 0.        ,\n        0.        , 0.        , 0.        , 0.        , 0.        ,\n        0.        , 0.        , 0.        , 0.        , 0.        ,\n        0.        , 0.        , 0.        , 0.        , 0.        ,\n        0.        , 0.        , 0.        , 0.        , 0.        ,\n        0.        , 0.        , 0.        , 0.        , 0.        ,\n        0.        , 0.        , 0.        , 0.        , 0.        ,\n        0.        , 0.        , 0.        , 0.        , 0.        ,\n        0.        , 0.        , 0.        , 0.        , 0.        ,\n        0.        , 0.        , 0.        , 0.        , 0.        ,\n        0.        , 0.        , 0.        , 0.        , 0.        ,\n        0.        , 0.        , 0.        , 0.        , 0.        ,\n        0.        , 0.        , 0.        , 0.        , 0.        ,\n        0.        , 0.        , 0.        , 0.        , 0.        ,\n        0.        , 0.        , 0.        , 0.        , 0.        ,\n        0.        , 0.        , 0.        , 0.        , 0.        ,\n        0.        , 0.        , 0.        , 0.        , 0.        ,\n        0.        , 0.        , 0.        , 0.        , 0.        ,\n        0.        , 0.        , 0.        , 0.        , 0.        ,\n        0.        , 0.        , 0.        , 0.        , 0.        ,\n        0.        , 0.        , 0.        , 0.        , 0.        ,\n        0.        , 0.        , 0.        , 0.        , 0.        ,\n        0.        , 0.        , 0.        , 0.        , 0.        ,\n        0.        , 0.        , 0.        , 0.        , 0.        ,\n        0.        , 0.        , 0.        , 0.        , 0.        ,\n        0.        , 0.        , 0.        , 0.        , 0.        ,\n        0.        , 0.        , 0.        , 0.        , 0.        ,\n        0.        , 0.        , 0.        , 0.        , 0.        ,\n        0.        , 0.        , 0.        , 0.        , 0.        ,\n        0.        , 0.        , 0.        , 0.        , 0.        ,\n        0.        , 0.        , 0.        , 0.        , 0.        ,\n        0.        , 0.        , 0.        , 0.        , 0.        ,\n        0.        , 0.        , 0.        , 0.        , 0.        ,\n        0.        , 0.        , 0.        , 0.        , 0.        ,\n        0.        , 0.        , 0.        , 0.        , 0.        ,\n        0.        , 0.        , 0.        , 0.        , 0.        ,\n        0.        , 0.        , 0.        , 0.        , 0.        ,\n        0.        , 0.        , 0.        , 0.        , 0.        ,\n        0.        , 0.        , 0.        , 0.        , 0.        ,\n        0.        , 0.        , 0.        , 0.        , 0.        ,\n        0.        , 0.        , 0.        , 0.        , 0.        ,\n        0.        , 0.        , 0.        , 0.        , 0.        ,\n        0.        , 0.        , 0.        , 0.        , 0.        ,\n        0.        , 0.        , 0.        , 0.        , 0.        ,\n        0.        , 0.        , 0.        , 0.        , 0.        ,\n        0.        , 0.        , 0.        , 0.        , 0.        ,\n        0.        , 0.        , 0.        , 0.        , 0.        ,\n        0.        , 0.        , 0.        , 0.        , 0.        ,\n        0.        , 0.        , 0.        , 0.        , 0.        ,\n        0.        , 0.        , 0.        , 0.        , 0.        ,\n        0.        , 0.        , 0.        , 0.        , 0.        ,\n        0.        , 0.        , 0.        , 0.        , 0.        ,\n        0.        , 0.        , 0.        , 0.        , 0.        ,\n        0.        , 0.        , 0.        , 0.        , 0.        ,\n        0.        , 0.        , 0.        , 0.        , 0.        ,\n        0.        , 0.        , 0.        , 0.        , 0.        ,\n        0.        , 0.        , 0.        , 0.        , 0.        ,\n        0.        , 0.        , 0.        , 0.        , 0.        ,\n        0.        , 0.        , 0.        , 0.        , 0.        ,\n        0.        , 0.        , 0.        , 0.        , 0.        ,\n        0.        , 0.        , 0.        , 0.        , 0.        ,\n        0.        , 0.        , 0.        , 0.        , 0.        ,\n        0.        , 0.        , 0.        , 0.        , 0.        ,\n        0.        , 0.        , 0.        , 0.        , 0.        ,\n        0.        , 0.        , 0.        , 0.        , 0.        ,\n        0.        , 0.        , 0.        , 0.        , 0.        ,\n        0.        , 0.        , 0.        , 0.        , 0.        ,\n        0.        , 0.        , 0.        , 0.        , 0.        ,\n        0.        , 0.        , 0.        , 0.        , 0.        ,\n        0.        , 0.        , 0.        , 0.        , 0.        ,\n        0.        , 0.        , 0.        , 0.        , 0.        ,\n        0.        , 0.        , 0.        , 0.        , 0.        ,\n        0.        , 0.        , 0.        , 0.        ]),\n array([0.   , 0.001, 0.002, 0.003, 0.004, 0.005, 0.006, 0.007, 0.008,\n        0.009, 0.01 , 0.011, 0.012, 0.013, 0.014, 0.015, 0.016, 0.017,\n        0.018, 0.019, 0.02 , 0.021, 0.022, 0.023, 0.024, 0.025, 0.026,\n        0.027, 0.028, 0.029, 0.03 , 0.031, 0.032, 0.033, 0.034, 0.035,\n        0.036, 0.037, 0.038, 0.039, 0.04 , 0.041, 0.042, 0.043, 0.044,\n        0.045, 0.046, 0.047, 0.048, 0.049, 0.05 , 0.051, 0.052, 0.053,\n        0.054, 0.055, 0.056, 0.057, 0.058, 0.059, 0.06 , 0.061, 0.062,\n        0.063, 0.064, 0.065, 0.066, 0.067, 0.068, 0.069, 0.07 , 0.071,\n        0.072, 0.073, 0.074, 0.075, 0.076, 0.077, 0.078, 0.079, 0.08 ,\n        0.081, 0.082, 0.083, 0.084, 0.085, 0.086, 0.087, 0.088, 0.089,\n        0.09 , 0.091, 0.092, 0.093, 0.094, 0.095, 0.096, 0.097, 0.098,\n        0.099, 0.1  , 0.101, 0.102, 0.103, 0.104, 0.105, 0.106, 0.107,\n        0.108, 0.109, 0.11 , 0.111, 0.112, 0.113, 0.114, 0.115, 0.116,\n        0.117, 0.118, 0.119, 0.12 , 0.121, 0.122, 0.123, 0.124, 0.125,\n        0.126, 0.127, 0.128, 0.129, 0.13 , 0.131, 0.132, 0.133, 0.134,\n        0.135, 0.136, 0.137, 0.138, 0.139, 0.14 , 0.141, 0.142, 0.143,\n        0.144, 0.145, 0.146, 0.147, 0.148, 0.149, 0.15 , 0.151, 0.152,\n        0.153, 0.154, 0.155, 0.156, 0.157, 0.158, 0.159, 0.16 , 0.161,\n        0.162, 0.163, 0.164, 0.165, 0.166, 0.167, 0.168, 0.169, 0.17 ,\n        0.171, 0.172, 0.173, 0.174, 0.175, 0.176, 0.177, 0.178, 0.179,\n        0.18 , 0.181, 0.182, 0.183, 0.184, 0.185, 0.186, 0.187, 0.188,\n        0.189, 0.19 , 0.191, 0.192, 0.193, 0.194, 0.195, 0.196, 0.197,\n        0.198, 0.199, 0.2  , 0.201, 0.202, 0.203, 0.204, 0.205, 0.206,\n        0.207, 0.208, 0.209, 0.21 , 0.211, 0.212, 0.213, 0.214, 0.215,\n        0.216, 0.217, 0.218, 0.219, 0.22 , 0.221, 0.222, 0.223, 0.224,\n        0.225, 0.226, 0.227, 0.228, 0.229, 0.23 , 0.231, 0.232, 0.233,\n        0.234, 0.235, 0.236, 0.237, 0.238, 0.239, 0.24 , 0.241, 0.242,\n        0.243, 0.244, 0.245, 0.246, 0.247, 0.248, 0.249, 0.25 , 0.251,\n        0.252, 0.253, 0.254, 0.255, 0.256, 0.257, 0.258, 0.259, 0.26 ,\n        0.261, 0.262, 0.263, 0.264, 0.265, 0.266, 0.267, 0.268, 0.269,\n        0.27 , 0.271, 0.272, 0.273, 0.274, 0.275, 0.276, 0.277, 0.278,\n        0.279, 0.28 , 0.281, 0.282, 0.283, 0.284, 0.285, 0.286, 0.287,\n        0.288, 0.289, 0.29 , 0.291, 0.292, 0.293, 0.294, 0.295, 0.296,\n        0.297, 0.298, 0.299, 0.3  , 0.301, 0.302, 0.303, 0.304, 0.305,\n        0.306, 0.307, 0.308, 0.309, 0.31 , 0.311, 0.312, 0.313, 0.314,\n        0.315, 0.316, 0.317, 0.318, 0.319, 0.32 , 0.321, 0.322, 0.323,\n        0.324, 0.325, 0.326, 0.327, 0.328, 0.329, 0.33 , 0.331, 0.332,\n        0.333, 0.334, 0.335, 0.336, 0.337, 0.338, 0.339, 0.34 , 0.341,\n        0.342, 0.343, 0.344, 0.345, 0.346, 0.347, 0.348, 0.349, 0.35 ,\n        0.351, 0.352, 0.353, 0.354, 0.355, 0.356, 0.357, 0.358, 0.359,\n        0.36 , 0.361, 0.362, 0.363, 0.364, 0.365, 0.366, 0.367, 0.368,\n        0.369, 0.37 , 0.371, 0.372, 0.373, 0.374, 0.375, 0.376, 0.377,\n        0.378, 0.379, 0.38 , 0.381, 0.382, 0.383, 0.384, 0.385, 0.386,\n        0.387, 0.388, 0.389, 0.39 , 0.391, 0.392, 0.393, 0.394, 0.395,\n        0.396, 0.397, 0.398, 0.399, 0.4  , 0.401, 0.402, 0.403, 0.404,\n        0.405, 0.406, 0.407, 0.408, 0.409, 0.41 , 0.411, 0.412, 0.413,\n        0.414, 0.415, 0.416, 0.417, 0.418, 0.419, 0.42 , 0.421, 0.422,\n        0.423, 0.424, 0.425, 0.426, 0.427, 0.428, 0.429, 0.43 , 0.431,\n        0.432, 0.433, 0.434, 0.435, 0.436, 0.437, 0.438, 0.439, 0.44 ,\n        0.441, 0.442, 0.443, 0.444, 0.445, 0.446, 0.447, 0.448, 0.449,\n        0.45 , 0.451, 0.452, 0.453, 0.454, 0.455, 0.456, 0.457, 0.458,\n        0.459, 0.46 , 0.461, 0.462, 0.463, 0.464, 0.465, 0.466, 0.467,\n        0.468, 0.469, 0.47 , 0.471, 0.472, 0.473, 0.474, 0.475, 0.476,\n        0.477, 0.478, 0.479, 0.48 , 0.481, 0.482, 0.483, 0.484, 0.485,\n        0.486, 0.487, 0.488, 0.489, 0.49 , 0.491, 0.492, 0.493, 0.494,\n        0.495, 0.496, 0.497, 0.498, 0.499, 0.5  , 0.501, 0.502, 0.503,\n        0.504, 0.505, 0.506, 0.507, 0.508, 0.509, 0.51 , 0.511, 0.512,\n        0.513, 0.514, 0.515, 0.516, 0.517, 0.518, 0.519, 0.52 , 0.521,\n        0.522, 0.523, 0.524, 0.525, 0.526, 0.527, 0.528, 0.529, 0.53 ,\n        0.531, 0.532, 0.533, 0.534, 0.535, 0.536, 0.537, 0.538, 0.539,\n        0.54 , 0.541, 0.542, 0.543, 0.544, 0.545, 0.546, 0.547, 0.548,\n        0.549, 0.55 , 0.551, 0.552, 0.553, 0.554, 0.555, 0.556, 0.557,\n        0.558, 0.559, 0.56 , 0.561, 0.562, 0.563, 0.564, 0.565, 0.566,\n        0.567, 0.568, 0.569, 0.57 , 0.571, 0.572, 0.573, 0.574, 0.575,\n        0.576, 0.577, 0.578, 0.579, 0.58 , 0.581, 0.582, 0.583, 0.584,\n        0.585, 0.586, 0.587, 0.588, 0.589, 0.59 , 0.591, 0.592, 0.593,\n        0.594, 0.595, 0.596, 0.597, 0.598, 0.599, 0.6  , 0.601, 0.602,\n        0.603, 0.604, 0.605, 0.606, 0.607, 0.608, 0.609, 0.61 , 0.611,\n        0.612, 0.613, 0.614, 0.615, 0.616, 0.617, 0.618, 0.619, 0.62 ,\n        0.621, 0.622, 0.623, 0.624, 0.625, 0.626, 0.627, 0.628, 0.629,\n        0.63 , 0.631, 0.632, 0.633, 0.634, 0.635, 0.636, 0.637, 0.638,\n        0.639, 0.64 , 0.641, 0.642, 0.643, 0.644, 0.645, 0.646, 0.647,\n        0.648, 0.649, 0.65 , 0.651, 0.652, 0.653, 0.654, 0.655, 0.656,\n        0.657, 0.658, 0.659, 0.66 , 0.661, 0.662, 0.663, 0.664, 0.665,\n        0.666, 0.667, 0.668, 0.669, 0.67 , 0.671, 0.672, 0.673, 0.674,\n        0.675, 0.676, 0.677, 0.678, 0.679, 0.68 , 0.681, 0.682, 0.683,\n        0.684, 0.685, 0.686, 0.687, 0.688, 0.689, 0.69 , 0.691, 0.692,\n        0.693, 0.694, 0.695, 0.696, 0.697, 0.698, 0.699, 0.7  , 0.701,\n        0.702, 0.703, 0.704, 0.705, 0.706, 0.707, 0.708, 0.709, 0.71 ,\n        0.711, 0.712, 0.713, 0.714, 0.715, 0.716, 0.717, 0.718, 0.719,\n        0.72 , 0.721, 0.722, 0.723, 0.724, 0.725, 0.726, 0.727, 0.728,\n        0.729, 0.73 , 0.731, 0.732, 0.733, 0.734, 0.735, 0.736, 0.737,\n        0.738, 0.739, 0.74 , 0.741, 0.742, 0.743, 0.744, 0.745, 0.746,\n        0.747, 0.748, 0.749, 0.75 , 0.751, 0.752, 0.753, 0.754, 0.755,\n        0.756, 0.757, 0.758, 0.759, 0.76 , 0.761, 0.762, 0.763, 0.764,\n        0.765, 0.766, 0.767, 0.768, 0.769, 0.77 , 0.771, 0.772, 0.773,\n        0.774, 0.775, 0.776, 0.777, 0.778, 0.779, 0.78 , 0.781, 0.782,\n        0.783, 0.784, 0.785, 0.786, 0.787, 0.788, 0.789, 0.79 , 0.791,\n        0.792, 0.793, 0.794, 0.795, 0.796, 0.797, 0.798, 0.799, 0.8  ,\n        0.801, 0.802, 0.803, 0.804, 0.805, 0.806, 0.807, 0.808, 0.809,\n        0.81 , 0.811, 0.812, 0.813, 0.814, 0.815, 0.816, 0.817, 0.818,\n        0.819, 0.82 , 0.821, 0.822, 0.823, 0.824, 0.825, 0.826, 0.827,\n        0.828, 0.829, 0.83 , 0.831, 0.832, 0.833, 0.834, 0.835, 0.836,\n        0.837, 0.838, 0.839, 0.84 , 0.841, 0.842, 0.843, 0.844, 0.845,\n        0.846, 0.847, 0.848, 0.849, 0.85 , 0.851, 0.852, 0.853, 0.854,\n        0.855, 0.856, 0.857, 0.858, 0.859, 0.86 , 0.861, 0.862, 0.863,\n        0.864, 0.865, 0.866, 0.867, 0.868, 0.869, 0.87 , 0.871, 0.872,\n        0.873, 0.874, 0.875, 0.876, 0.877, 0.878, 0.879, 0.88 , 0.881,\n        0.882, 0.883, 0.884, 0.885, 0.886, 0.887, 0.888, 0.889, 0.89 ,\n        0.891, 0.892, 0.893, 0.894, 0.895, 0.896, 0.897, 0.898, 0.899,\n        0.9  , 0.901, 0.902, 0.903, 0.904, 0.905, 0.906, 0.907, 0.908,\n        0.909, 0.91 , 0.911, 0.912, 0.913, 0.914, 0.915, 0.916, 0.917,\n        0.918, 0.919, 0.92 , 0.921, 0.922, 0.923, 0.924, 0.925, 0.926,\n        0.927, 0.928, 0.929, 0.93 , 0.931, 0.932, 0.933, 0.934, 0.935,\n        0.936, 0.937, 0.938, 0.939, 0.94 , 0.941, 0.942, 0.943, 0.944,\n        0.945, 0.946, 0.947, 0.948, 0.949, 0.95 , 0.951, 0.952, 0.953,\n        0.954, 0.955, 0.956, 0.957, 0.958, 0.959, 0.96 , 0.961, 0.962,\n        0.963, 0.964, 0.965, 0.966, 0.967, 0.968, 0.969, 0.97 , 0.971,\n        0.972, 0.973, 0.974, 0.975, 0.976, 0.977, 0.978, 0.979, 0.98 ,\n        0.981, 0.982, 0.983, 0.984, 0.985, 0.986, 0.987, 0.988, 0.989,\n        0.99 , 0.991, 0.992, 0.993, 0.994, 0.995, 0.996, 0.997, 0.998,\n        0.999]),\n <BarContainer object of 999 artists>)"
     },
     "execution_count": 103,
     "metadata": {},
     "output_type": "execute_result"
    },
    {
     "data": {
      "text/plain": "<Figure size 640x480 with 1 Axes>",
      "image/png": "[encoded data removed]"
     },
     "metadata": {},
     "output_type": "display_data"
    }
   ],
   "source": [
    "plt.hist(sameComp,bins=np.arange(0,1,0.001),weights=weightsSame,log = False)"
   ],
   "metadata": {
    "collapsed": false
   }
  },
  {
   "cell_type": "code",
   "execution_count": 104,
   "outputs": [
    {
     "data": {
      "text/plain": "(array([0.01961686, 0.01435504, 0.00738697, ..., 0.        , 0.        ,\n        0.        ]),\n array([0.000e+00, 1.000e-03, 2.000e-03, ..., 7.997e+00, 7.998e+00,\n        7.999e+00]),\n <BarContainer object of 7999 artists>)"
     },
     "execution_count": 104,
     "metadata": {},
     "output_type": "execute_result"
    },
    {
     "data": {
      "text/plain": "<Figure size 800x640 with 1 Axes>",
      "image/png": "[encoded data removed]"
     },
     "metadata": {},
     "output_type": "display_data"
    }
   ],
   "source": [
    "from matplotlib.pyplot import figure\n",
    "\n",
    "figure(figsize=(10, 8), dpi=80)\n",
    "plt.hist(diffComp,bins=np.arange(0,8,0.001),weights=weightsDiff,log = False)"
   ],
   "metadata": {
    "collapsed": false
   }
  },
  {
   "cell_type": "code",
   "execution_count": 105,
   "outputs": [],
   "source": [
    "BigDiffIndices = np.where(disMat.detach().numpy().flatten() > 0.1)[0].tolist()"
   ],
   "metadata": {
    "collapsed": false
   }
  },
  {
   "cell_type": "code",
   "execution_count": 106,
   "outputs": [
    {
     "data": {
      "text/plain": "167560"
     },
     "execution_count": 106,
     "metadata": {},
     "output_type": "execute_result"
    }
   ],
   "source": [
    "len(BigDiffIndices)"
   ],
   "metadata": {
    "collapsed": false
   }
  },
  {
   "cell_type": "code",
   "execution_count": 107,
   "outputs": [
    {
     "data": {
      "text/plain": "array([[0., 0., 0., 0., 0., 0., 0., 0., 0., 0., 0., 0., 0., 0., 0., 0.,\n        0., 0., 0., 0., 0., 0., 0., 0., 0., 0., 0., 0., 0., 0.],\n       [0., 0., 0., 0., 0., 0., 0., 0., 0., 0., 0., 0., 0., 0., 0., 0.,\n        0., 0., 0., 0., 0., 0., 0., 0., 0., 0., 0., 0., 0., 0.],\n       [0., 0., 0., 0., 0., 0., 0., 0., 0., 0., 0., 0., 0., 0., 0., 0.,\n        0., 0., 0., 0., 0., 0., 0., 0., 0., 0., 0., 0., 0., 0.],\n       [0., 0., 0., 0., 0., 0., 0., 0., 0., 0., 0., 0., 0., 0., 0., 0.,\n        0., 0., 0., 0., 0., 0., 0., 0., 0., 0., 0., 0., 0., 0.],\n       [0., 0., 0., 0., 0., 0., 0., 0., 0., 0., 0., 0., 0., 0., 0., 0.,\n        0., 0., 0., 0., 0., 0., 0., 0., 0., 0., 0., 0., 0., 0.],\n       [0., 0., 0., 0., 0., 0., 0., 0., 0., 0., 0., 0., 0., 0., 0., 0.,\n        0., 0., 0., 0., 0., 0., 0., 0., 0., 0., 0., 0., 0., 0.],\n       [0., 0., 0., 0., 0., 0., 0., 0., 0., 0., 0., 0., 0., 0., 0., 0.,\n        0., 0., 0., 0., 0., 0., 0., 0., 0., 0., 0., 0., 0., 0.],\n       [0., 0., 0., 0., 0., 0., 0., 0., 0., 0., 0., 0., 0., 0., 0., 0.,\n        0., 0., 0., 0., 0., 0., 0., 0., 0., 0., 0., 0., 0., 0.],\n       [0., 0., 0., 0., 0., 0., 0., 0., 0., 0., 0., 0., 0., 0., 0., 0.,\n        0., 0., 0., 0., 0., 0., 0., 0., 0., 0., 0., 0., 0., 0.],\n       [0., 0., 0., 0., 0., 0., 0., 0., 0., 0., 0., 0., 0., 0., 0., 0.,\n        0., 0., 0., 0., 0., 0., 0., 0., 0., 0., 0., 0., 0., 0.],\n       [0., 0., 0., 0., 0., 0., 0., 0., 0., 0., 0., 0., 0., 0., 0., 0.,\n        0., 0., 0., 0., 0., 0., 0., 0., 0., 0., 0., 0., 0., 0.],\n       [0., 0., 0., 0., 0., 0., 0., 0., 0., 0., 0., 0., 0., 0., 0., 0.,\n        0., 0., 0., 0., 0., 0., 0., 0., 0., 0., 0., 0., 0., 0.],\n       [0., 0., 0., 0., 0., 0., 0., 0., 0., 0., 0., 0., 0., 0., 0., 0.,\n        0., 0., 0., 0., 0., 0., 0., 0., 0., 0., 0., 0., 0., 0.],\n       [0., 0., 0., 0., 0., 0., 0., 0., 0., 0., 0., 0., 0., 0., 0., 0.,\n        0., 0., 0., 0., 0., 0., 0., 0., 0., 0., 0., 0., 0., 0.],\n       [0., 0., 0., 0., 0., 0., 0., 0., 0., 0., 0., 0., 0., 0., 0., 0.,\n        0., 0., 0., 0., 0., 0., 0., 0., 0., 0., 0., 0., 0., 0.],\n       [0., 0., 0., 0., 0., 0., 0., 0., 0., 0., 0., 0., 0., 0., 0., 0.,\n        0., 0., 0., 0., 0., 0., 0., 0., 0., 0., 0., 0., 0., 0.],\n       [0., 0., 0., 0., 0., 0., 0., 0., 0., 0., 0., 0., 0., 0., 0., 0.,\n        0., 0., 0., 0., 0., 0., 0., 0., 0., 0., 0., 0., 0., 0.],\n       [0., 0., 0., 0., 0., 0., 0., 0., 0., 0., 0., 0., 0., 0., 0., 0.,\n        0., 0., 0., 0., 0., 0., 0., 0., 0., 0., 0., 0., 0., 0.],\n       [0., 0., 0., 0., 0., 0., 0., 0., 0., 0., 0., 0., 0., 0., 0., 0.,\n        0., 0., 0., 0., 0., 0., 0., 0., 0., 0., 0., 0., 0., 0.],\n       [0., 0., 0., 0., 0., 0., 0., 0., 0., 0., 0., 0., 0., 0., 0., 0.,\n        0., 0., 0., 0., 0., 0., 0., 0., 0., 0., 0., 0., 0., 0.],\n       [0., 0., 0., 0., 0., 0., 0., 0., 0., 0., 0., 0., 0., 0., 0., 0.,\n        0., 0., 0., 0., 0., 0., 0., 0., 0., 0., 0., 0., 0., 0.],\n       [0., 0., 0., 0., 0., 0., 0., 0., 0., 0., 0., 0., 0., 0., 0., 0.,\n        0., 0., 0., 0., 0., 0., 0., 0., 0., 0., 0., 0., 0., 0.],\n       [0., 0., 0., 0., 0., 0., 0., 0., 0., 0., 0., 0., 0., 0., 0., 0.,\n        0., 0., 0., 0., 0., 0., 0., 0., 0., 0., 0., 0., 0., 0.],\n       [0., 0., 0., 0., 0., 0., 0., 0., 0., 0., 0., 0., 0., 0., 0., 0.,\n        0., 0., 0., 0., 0., 0., 0., 0., 0., 0., 0., 0., 0., 0.],\n       [0., 0., 0., 0., 0., 0., 0., 0., 0., 0., 0., 0., 0., 0., 0., 0.,\n        0., 0., 0., 0., 0., 0., 0., 0., 0., 0., 0., 0., 0., 0.],\n       [0., 0., 0., 0., 0., 0., 0., 0., 0., 0., 0., 0., 0., 0., 0., 0.,\n        0., 0., 0., 0., 0., 0., 0., 0., 0., 0., 0., 0., 0., 0.],\n       [0., 0., 0., 0., 0., 0., 0., 0., 0., 0., 0., 0., 0., 0., 0., 0.,\n        0., 0., 0., 0., 0., 0., 0., 0., 0., 0., 0., 0., 0., 0.],\n       [0., 0., 0., 0., 0., 0., 0., 0., 0., 0., 0., 0., 0., 0., 0., 0.,\n        0., 0., 0., 0., 0., 0., 0., 0., 0., 0., 0., 0., 0., 0.],\n       [0., 0., 0., 0., 0., 0., 0., 0., 0., 0., 0., 0., 0., 0., 0., 0.,\n        0., 0., 0., 0., 0., 0., 0., 0., 0., 0., 0., 0., 0., 0.],\n       [0., 0., 0., 0., 0., 0., 0., 0., 0., 0., 0., 0., 0., 0., 0., 0.,\n        0., 0., 0., 0., 0., 0., 0., 0., 0., 0., 0., 0., 0., 0.]])"
     },
     "execution_count": 107,
     "metadata": {},
     "output_type": "execute_result"
    }
   ],
   "source": [
    "vizMat = np.zeros([30,30])\n",
    "vizMat"
   ],
   "metadata": {
    "collapsed": false
   }
  },
  {
   "cell_type": "code",
   "execution_count": 108,
   "outputs": [],
   "source": [
    "for index in BigDiffIndices:\n",
    "    row, col = divmod(index,600)\n",
    "    cat1, cat2 = int(label_np[row]),int(label_np[col])\n",
    "    #print(cat1,cat2, (cat1 == cat2))\n",
    "    vizMat[cat1,cat2] += 1\n",
    "    vizMat[cat2,cat1] += 1\n"
   ],
   "metadata": {
    "collapsed": false
   }
  },
  {
   "cell_type": "code",
   "execution_count": 109,
   "outputs": [
    {
     "data": {
      "text/plain": "array([[0.61986301, 0.64383562, 0.60787671, 0.66438356, 0.60958904,\n        0.64383562, 0.51027397, 0.70205479, 0.59589041, 0.66438356,\n        0.55136986, 0.66952055, 0.5890411 , 0.48972603, 0.70205479,\n        0.67294521, 0.6489726 , 0.59075342, 0.49486301, 0.69349315,\n        0.79280822, 0.63184932, 0.59931507, 0.80821918, 0.69178082,\n        0.64726027, 0.66438356, 0.625     , 0.64212329, 0.61643836],\n       [0.64383562, 0.6609589 , 0.59417808, 0.69349315, 0.60958904,\n        0.66952055, 0.51712329, 0.71917808, 0.61815068, 0.67636986,\n        0.57020548, 0.67465753, 0.60445205, 0.5       , 0.69006849,\n        0.69520548, 0.65753425, 0.59931507, 0.53767123, 0.70034247,\n        0.81678082, 0.62671233, 0.63184932, 0.82363014, 0.69691781,\n        0.68664384, 0.69006849, 0.63184932, 0.6609589 , 0.61472603],\n       [0.60787671, 0.59417808, 0.53767123, 0.625     , 0.54109589,\n        0.60273973, 0.43321918, 0.66267123, 0.54452055, 0.59075342,\n        0.49657534, 0.59246575, 0.54965753, 0.44178082, 0.64726027,\n        0.64383562, 0.57876712, 0.54280822, 0.46746575, 0.64383562,\n        0.75856164, 0.55136986, 0.55821918, 0.73458904, 0.64383562,\n        0.62328767, 0.6369863 , 0.59760274, 0.59589041, 0.54452055],\n       [0.66438356, 0.69349315, 0.625     , 0.71575342, 0.61472603,\n        0.69178082, 0.55308219, 0.76712329, 0.63869863, 0.67979452,\n        0.59589041, 0.69178082, 0.65582192, 0.5239726 , 0.71061644,\n        0.7380137 , 0.66609589, 0.65239726, 0.57191781, 0.74486301,\n        0.84075342, 0.61815068, 0.64554795, 0.80479452, 0.7380137 ,\n        0.67979452, 0.7380137 , 0.67979452, 0.66952055, 0.65068493],\n       [0.60958904, 0.60958904, 0.54109589, 0.61472603, 0.54452055,\n        0.60958904, 0.44349315, 0.67294521, 0.55650685, 0.59417808,\n        0.51027397, 0.6130137 , 0.58219178, 0.45034247, 0.64041096,\n        0.63527397, 0.56678082, 0.55479452, 0.46232877, 0.65924658,\n        0.77739726, 0.56164384, 0.55308219, 0.73287671, 0.63869863,\n        0.62328767, 0.63013699, 0.60273973, 0.60445205, 0.55308219],\n       [0.64383562, 0.66952055, 0.60273973, 0.69178082, 0.60958904,\n        0.6609589 , 0.53082192, 0.73458904, 0.63356164, 0.68493151,\n        0.57363014, 0.66609589, 0.62157534, 0.5       , 0.71232877,\n        0.69178082, 0.67465753, 0.59246575, 0.52054795, 0.70547945,\n        0.81849315, 0.64041096, 0.62328767, 0.80308219, 0.71575342,\n        0.67636986, 0.70890411, 0.65410959, 0.66952055, 0.64041096],\n       [0.51027397, 0.51712329, 0.43321918, 0.55308219, 0.44349315,\n        0.53082192, 0.3630137 , 0.58390411, 0.47773973, 0.54280822,\n        0.44349315, 0.5119863 , 0.48287671, 0.35445205, 0.55136986,\n        0.54965753, 0.48630137, 0.46746575, 0.38184932, 0.57876712,\n        0.68493151, 0.46061644, 0.46746575, 0.6369863 , 0.55821918,\n        0.51712329, 0.56506849, 0.5       , 0.50684932, 0.47431507],\n       [0.70205479, 0.71917808, 0.66267123, 0.76712329, 0.67294521,\n        0.73458904, 0.58390411, 0.77739726, 0.67979452, 0.71575342,\n        0.61815068, 0.73630137, 0.67123288, 0.55821918, 0.75856164,\n        0.76712329, 0.70034247, 0.65753425, 0.58047945, 0.78424658,\n        0.86643836, 0.69178082, 0.66609589, 0.84589041, 0.76027397,\n        0.7140411 , 0.76369863, 0.69349315, 0.70547945, 0.67808219],\n       [0.59589041, 0.61815068, 0.54452055, 0.63869863, 0.55650685,\n        0.63356164, 0.47773973, 0.67979452, 0.59589041, 0.61986301,\n        0.54109589, 0.61815068, 0.59246575, 0.44863014, 0.65068493,\n        0.63527397, 0.6010274 , 0.55479452, 0.47945205, 0.69178082,\n        0.7739726 , 0.57705479, 0.58047945, 0.72945205, 0.64383562,\n        0.61986301, 0.65753425, 0.60958904, 0.61643836, 0.56678082],\n       [0.66438356, 0.67636986, 0.59075342, 0.67979452, 0.59417808,\n        0.68493151, 0.54280822, 0.71575342, 0.61986301, 0.69520548,\n        0.59931507, 0.69178082, 0.63356164, 0.52739726, 0.66780822,\n        0.7140411 , 0.6489726 , 0.625     , 0.54452055, 0.73458904,\n        0.85616438, 0.62157534, 0.63869863, 0.79965753, 0.69349315,\n        0.68664384, 0.70376712, 0.64383562, 0.66609589, 0.65068493],\n       [0.55136986, 0.57020548, 0.49657534, 0.59589041, 0.51027397,\n        0.57363014, 0.44349315, 0.61815068, 0.54109589, 0.59931507,\n        0.5       , 0.57705479, 0.52054795, 0.42123288, 0.56849315,\n        0.59931507, 0.55308219, 0.50856164, 0.43664384, 0.64383562,\n        0.75856164, 0.5239726 , 0.53082192, 0.66952055, 0.6010274 ,\n        0.57534247, 0.60616438, 0.53082192, 0.57020548, 0.56335616],\n       [0.66952055, 0.67465753, 0.59246575, 0.69178082, 0.6130137 ,\n        0.66609589, 0.5119863 , 0.73630137, 0.61815068, 0.69178082,\n        0.57705479, 0.68835616, 0.61986301, 0.49657534, 0.72260274,\n        0.70205479, 0.68150685, 0.59246575, 0.5119863 , 0.71232877,\n        0.83047945, 0.64212329, 0.625     , 0.82534247, 0.72089041,\n        0.67123288, 0.70205479, 0.65239726, 0.65753425, 0.62157534],\n       [0.5890411 , 0.60445205, 0.54965753, 0.65582192, 0.58219178,\n        0.62157534, 0.48287671, 0.67123288, 0.59246575, 0.63356164,\n        0.52054795, 0.61986301, 0.56849315, 0.45890411, 0.66267123,\n        0.64554795, 0.61472603, 0.54965753, 0.47431507, 0.68150685,\n        0.77739726, 0.57876712, 0.58219178, 0.74315068, 0.66438356,\n        0.62328767, 0.65239726, 0.5890411 , 0.6130137 , 0.59075342],\n       [0.48972603, 0.5       , 0.44178082, 0.5239726 , 0.45034247,\n        0.5       , 0.35445205, 0.55821918, 0.44863014, 0.52739726,\n        0.42123288, 0.49657534, 0.45890411, 0.34246575, 0.53253425,\n        0.5       , 0.49828767, 0.44349315, 0.36130137, 0.56849315,\n        0.67294521, 0.44006849, 0.46746575, 0.63356164, 0.53253425,\n        0.5119863 , 0.51712329, 0.49143836, 0.5       , 0.4640411 ],\n       [0.70205479, 0.69006849, 0.64726027, 0.71061644, 0.64041096,\n        0.71232877, 0.55136986, 0.75856164, 0.65068493, 0.66780822,\n        0.56849315, 0.72260274, 0.66267123, 0.53253425, 0.73630137,\n        0.77568493, 0.64554795, 0.65239726, 0.58561644, 0.76541096,\n        0.87157534, 0.66267123, 0.65582192, 0.82363014, 0.75      ,\n        0.71746575, 0.73630137, 0.68664384, 0.68664384, 0.65410959],\n       [0.67294521, 0.69520548, 0.64383562, 0.7380137 , 0.63527397,\n        0.69178082, 0.54965753, 0.76712329, 0.63527397, 0.7140411 ,\n        0.59931507, 0.70205479, 0.64554795, 0.5       , 0.77568493,\n        0.71232877, 0.71575342, 0.61815068, 0.54794521, 0.73972603,\n        0.82191781, 0.67636986, 0.64554795, 0.85273973, 0.75856164,\n        0.68150685, 0.72260274, 0.68493151, 0.66609589, 0.625     ],\n       [0.6489726 , 0.65753425, 0.57876712, 0.66609589, 0.56678082,\n        0.67465753, 0.48630137, 0.70034247, 0.6010274 , 0.6489726 ,\n        0.55308219, 0.68150685, 0.61472603, 0.49828767, 0.64554795,\n        0.71575342, 0.59931507, 0.61815068, 0.51369863, 0.71746575,\n        0.82876712, 0.6010274 , 0.59931507, 0.78253425, 0.65582192,\n        0.67123288, 0.70719178, 0.62842466, 0.65924658, 0.60958904],\n       [0.59075342, 0.59931507, 0.54280822, 0.65239726, 0.55479452,\n        0.59246575, 0.46746575, 0.65753425, 0.55479452, 0.625     ,\n        0.50856164, 0.59246575, 0.54965753, 0.44349315, 0.65239726,\n        0.61815068, 0.61815068, 0.54109589, 0.47089041, 0.65924658,\n        0.76027397, 0.56506849, 0.55308219, 0.76369863, 0.6489726 ,\n        0.61986301, 0.61643836, 0.58047945, 0.60273973, 0.56335616],\n       [0.49486301, 0.53767123, 0.46746575, 0.57191781, 0.46232877,\n        0.52054795, 0.38184932, 0.58047945, 0.47945205, 0.54452055,\n        0.43664384, 0.5119863 , 0.47431507, 0.36130137, 0.58561644,\n        0.54794521, 0.51369863, 0.47089041, 0.35958904, 0.57191781,\n        0.67465753, 0.49486301, 0.46917808, 0.66438356, 0.57876712,\n        0.5       , 0.55136986, 0.50171233, 0.49828767, 0.48972603],\n       [0.69349315, 0.70034247, 0.64383562, 0.74486301, 0.65924658,\n        0.70547945, 0.57876712, 0.78424658, 0.69178082, 0.73458904,\n        0.64383562, 0.71232877, 0.68150685, 0.56849315, 0.76541096,\n        0.73972603, 0.71746575, 0.65924658, 0.57191781, 0.76712329,\n        0.86986301, 0.67123288, 0.67636986, 0.85445205, 0.76027397,\n        0.71746575, 0.75      , 0.72089041, 0.70890411, 0.67808219],\n       [0.79280822, 0.81678082, 0.75856164, 0.84075342, 0.77739726,\n        0.81849315, 0.68493151, 0.86643836, 0.7739726 , 0.85616438,\n        0.75856164, 0.83047945, 0.77739726, 0.67294521, 0.87157534,\n        0.82191781, 0.82876712, 0.76027397, 0.67465753, 0.86986301,\n        1.        , 0.76712329, 0.77739726, 0.97773973, 0.88184932,\n        0.83561644, 0.8510274 , 0.79794521, 0.82876712, 0.79794521],\n       [0.63184932, 0.62671233, 0.55136986, 0.61815068, 0.56164384,\n        0.64041096, 0.46061644, 0.69178082, 0.57705479, 0.62157534,\n        0.5239726 , 0.64212329, 0.57876712, 0.44006849, 0.66267123,\n        0.67636986, 0.6010274 , 0.56506849, 0.49486301, 0.67123288,\n        0.76712329, 0.59589041, 0.57534247, 0.76027397, 0.65753425,\n        0.63527397, 0.64726027, 0.59589041, 0.61815068, 0.57363014],\n       [0.59931507, 0.63184932, 0.55821918, 0.64554795, 0.55308219,\n        0.62328767, 0.46746575, 0.66609589, 0.58047945, 0.63869863,\n        0.53082192, 0.625     , 0.58219178, 0.46746575, 0.65582192,\n        0.64554795, 0.59931507, 0.55308219, 0.46917808, 0.67636986,\n        0.77739726, 0.57534247, 0.54452055, 0.73972603, 0.66952055,\n        0.61986301, 0.64041096, 0.59760274, 0.6010274 , 0.59246575],\n       [0.80821918, 0.82363014, 0.73458904, 0.80479452, 0.73287671,\n        0.80308219, 0.6369863 , 0.84589041, 0.72945205, 0.79965753,\n        0.66952055, 0.82534247, 0.74315068, 0.63356164, 0.82363014,\n        0.85273973, 0.78253425, 0.76369863, 0.66438356, 0.85445205,\n        0.97773973, 0.76027397, 0.73972603, 0.96232877, 0.84589041,\n        0.83390411, 0.81849315, 0.77054795, 0.80993151, 0.75856164],\n       [0.69178082, 0.69691781, 0.64383562, 0.7380137 , 0.63869863,\n        0.71575342, 0.55821918, 0.76027397, 0.64383562, 0.69349315,\n        0.6010274 , 0.72089041, 0.66438356, 0.53253425, 0.75      ,\n        0.75856164, 0.65582192, 0.6489726 , 0.57876712, 0.76027397,\n        0.88184932, 0.65753425, 0.66952055, 0.84589041, 0.73630137,\n        0.71746575, 0.7619863 , 0.67979452, 0.70205479, 0.66267123],\n       [0.64726027, 0.68664384, 0.62328767, 0.67979452, 0.62328767,\n        0.67636986, 0.51712329, 0.7140411 , 0.61986301, 0.68664384,\n        0.57534247, 0.67123288, 0.62328767, 0.5119863 , 0.71746575,\n        0.68150685, 0.67123288, 0.61986301, 0.5       , 0.71746575,\n        0.83561644, 0.63527397, 0.61986301, 0.83390411, 0.71746575,\n        0.68150685, 0.69349315, 0.64726027, 0.67294521, 0.64041096],\n       [0.66438356, 0.69006849, 0.6369863 , 0.7380137 , 0.63013699,\n        0.70890411, 0.56506849, 0.76369863, 0.65753425, 0.70376712,\n        0.60616438, 0.70205479, 0.65239726, 0.51712329, 0.73630137,\n        0.72260274, 0.70719178, 0.61643836, 0.55136986, 0.75      ,\n        0.8510274 , 0.64726027, 0.64041096, 0.81849315, 0.7619863 ,\n        0.69349315, 0.73630137, 0.64554795, 0.66952055, 0.6609589 ],\n       [0.625     , 0.63184932, 0.59760274, 0.67979452, 0.60273973,\n        0.65410959, 0.5       , 0.69349315, 0.60958904, 0.64383562,\n        0.53082192, 0.65239726, 0.5890411 , 0.49143836, 0.68664384,\n        0.68493151, 0.62842466, 0.58047945, 0.50171233, 0.72089041,\n        0.79794521, 0.59589041, 0.59760274, 0.77054795, 0.67979452,\n        0.64726027, 0.64554795, 0.61643836, 0.62842466, 0.61472603],\n       [0.64212329, 0.6609589 , 0.59589041, 0.66952055, 0.60445205,\n        0.66952055, 0.50684932, 0.70547945, 0.61643836, 0.66609589,\n        0.57020548, 0.65753425, 0.6130137 , 0.5       , 0.68664384,\n        0.66609589, 0.65924658, 0.60273973, 0.49828767, 0.70890411,\n        0.82876712, 0.61815068, 0.6010274 , 0.80993151, 0.70205479,\n        0.67294521, 0.66952055, 0.62842466, 0.67465753, 0.625     ],\n       [0.61643836, 0.61472603, 0.54452055, 0.65068493, 0.55308219,\n        0.64041096, 0.47431507, 0.67808219, 0.56678082, 0.65068493,\n        0.56335616, 0.62157534, 0.59075342, 0.4640411 , 0.65410959,\n        0.625     , 0.60958904, 0.56335616, 0.48972603, 0.67808219,\n        0.79794521, 0.57363014, 0.59246575, 0.75856164, 0.66267123,\n        0.64041096, 0.6609589 , 0.61472603, 0.625     , 0.57191781]])"
     },
     "execution_count": 109,
     "metadata": {},
     "output_type": "execute_result"
    }
   ],
   "source": [
    "vizMat = vizMat / np.max(vizMat)\n",
    "vizMat"
   ],
   "metadata": {
    "collapsed": false
   }
  },
  {
   "cell_type": "code",
   "execution_count": 110,
   "outputs": [
    {
     "data": {
      "text/plain": "<matplotlib.image.AxesImage at 0x7fbdcab9af80>"
     },
     "execution_count": 110,
     "metadata": {},
     "output_type": "execute_result"
    },
    {
     "data": {
      "text/plain": "<Figure size 480x480 with 1 Axes>",
      "image/png": "[encoded data removed]"
     },
     "metadata": {},
     "output_type": "display_data"
    }
   ],
   "source": [
    "plt.matshow(vizMat)"
   ],
   "metadata": {
    "collapsed": false
   }
  },
  {
   "cell_type": "code",
   "execution_count": null,
   "outputs": [],
   "source": [],
   "metadata": {
    "collapsed": false
   }
  }
 ],
 "metadata": {
  "kernelspec": {
   "display_name": "Python 3",
   "language": "python",
   "name": "python3"
  },
  "language_info": {
   "codemirror_mode": {
    "name": "ipython",
    "version": 2
   },
   "file_extension": ".py",
   "mimetype": "text/x-python",
   "name": "python",
   "nbconvert_exporter": "python",
   "pygments_lexer": "ipython2",
   "version": "2.7.6"
  }
 },
 "nbformat": 4,
 "nbformat_minor": 0
}
