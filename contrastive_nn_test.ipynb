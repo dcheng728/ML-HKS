{
 "cells": [
  {
   "cell_type": "code",
   "execution_count": 1,
   "metadata": {
    "collapsed": true
   },
   "outputs": [],
   "source": [
    "import torch.optim as optim\n",
    "import torch\n",
    "import numpy as np\n",
    "import matplotlib.pyplot as plt"
   ]
  },
  {
   "cell_type": "code",
   "execution_count": 25,
   "outputs": [],
   "source": [
    "#read in the data, get normalized adjacency (NxN)\n",
    "%run helpers_preproc.ipynb\n",
    "mesh_dir = 'SHREC11/'\n",
    "\n",
    "label_np = np.array(readLbl(mesh_dir+'labels.txt'))\n",
    "label_mat_np = np.where(igl.all_pairs_distances(label_np,label_np,False) > 0.5,0,1)\n",
    "label_mat = torch.tensor(label_mat_np,requires_grad=False)"
   ],
   "metadata": {
    "collapsed": false
   }
  },
  {
   "cell_type": "code",
   "execution_count": 35,
   "outputs": [
    {
     "name": "stderr",
     "output_type": "stream",
     "text": [
      "/var/folders/t4/vdzymfw562g8ml8ks_2b5l5r0000gn/T/ipykernel_28489/3962357194.py:16: RuntimeWarning: invalid value encountered in true_divide\n",
      "  adj_normalized = adj_noscale / np.reshape(np.sum(adj_noscale,axis = 1),[adj_noscale.shape[0],1])\n",
      "/var/folders/t4/vdzymfw562g8ml8ks_2b5l5r0000gn/T/ipykernel_28489/3962357194.py:23: RuntimeWarning: divide by zero encountered in true_divide\n",
      "  node_neigh_mean = np.sum(adj_scaled,axis = 0) /node_degs\n",
      "/var/folders/t4/vdzymfw562g8ml8ks_2b5l5r0000gn/T/ipykernel_28489/3962357194.py:23: RuntimeWarning: overflow encountered in true_divide\n",
      "  node_neigh_mean = np.sum(adj_scaled,axis = 0) /node_degs\n"
     ]
    }
   ],
   "source": [
    "normed_adjMats_list = []\n",
    "node_sigs_list = []\n",
    "\n",
    "for i in range(600):\n",
    "    fName = 'T' + str(i) + '.obj'\n",
    "    adj_noscale_read = obj_2_adj_noscale(mesh_dir + fName)\n",
    "    adj_scaled_read = obj_2_adj(mesh_dir + fName)\n",
    "\n",
    "    if (adj_scaled_read.shape[0] < 252):\n",
    "        adj_noscale = np.empty([252,252])\n",
    "        adj_scaled = np.empty([252,252])\n",
    "    else:\n",
    "        adj_noscale = adj_noscale_read\n",
    "        adj_scaled = adj_scaled_read\n",
    "\n",
    "    adj_normalized = adj_noscale / np.reshape(np.sum(adj_noscale,axis = 1),[adj_noscale.shape[0],1])\n",
    "\n",
    "    #node level signal extraction\n",
    "    node_degs = np.sum(adj_noscale,axis = 0)\n",
    "    node_neigh_max = np.max(adj_scaled,axis = 0)\n",
    "    node_neigh_min = np.min(adj_scaled,axis = 0)\n",
    "    node_neigh_sum = np.sum(adj_scaled,axis = 0)\n",
    "    node_neigh_mean = np.sum(adj_scaled,axis = 0)\n",
    "\n",
    "    node_sig = np.stack([node_degs,node_neigh_max,node_neigh_min,node_neigh_sum,node_neigh_mean],axis = 1)\n",
    "    node_sigs_list.append(node_sig)\n",
    "\n",
    "    normed_adjMats_list.append(adj_normalized)"
   ],
   "metadata": {
    "collapsed": false
   }
  },
  {
   "cell_type": "code",
   "execution_count": 36,
   "outputs": [],
   "source": [
    "normed_adjMats = np.stack(normed_adjMats_list)\n",
    "node_sigs = np.stack(node_sigs_list)\n",
    "\n",
    "normed_adjMats = torch.tensor(normed_adjMats,requires_grad=False).float()\n",
    "node_sigs = torch.tensor(node_sigs,requires_grad=False).float()\n",
    "\n",
    "normed_adjMats = torch.nan_to_num(normed_adjMats,0,0,0)\n",
    "node_sigs = torch.nan_to_num(node_sigs,0,0,0)"
   ],
   "metadata": {
    "collapsed": false
   }
  },
  {
   "cell_type": "code",
   "execution_count": 37,
   "outputs": [
    {
     "data": {
      "text/plain": "tensor([[[5.0000, 0.0888, 0.0000, 0.3595, 0.0719, 0.2554],\n         [7.0000, 0.1017, 0.0000, 0.4655, 0.0665, 0.1552],\n         [6.0000, 0.0920, 0.0000, 0.4395, 0.0733, 0.2202],\n         ...,\n         [7.0000, 0.1142, 0.0000, 0.5429, 0.0776, 0.2111],\n         [6.0000, 0.1352, 0.0000, 0.4959, 0.0826, 0.2809],\n         [7.0000, 0.1352, 0.0000, 0.5233, 0.0748, 0.1963]],\n\n        [[5.0000, 0.1061, 0.0000, 0.4014, 0.0803, 0.3188],\n         [5.0000, 0.1546, 0.0000, 0.4404, 0.0881, 0.3847],\n         [5.0000, 0.2171, 0.0000, 0.5315, 0.1063, 0.5617],\n         ...,\n         [5.0000, 0.1340, 0.0000, 0.4817, 0.0963, 0.4593],\n         [6.0000, 0.1705, 0.0000, 0.7666, 0.1278, 0.6700],\n         [5.0000, 0.1284, 0.0000, 0.4872, 0.0974, 0.4698]],\n\n        [[4.0000, 0.1228, 0.0000, 0.3313, 0.0828, 0.4263],\n         [5.0000, 0.2132, 0.0000, 0.5203, 0.1041, 0.5386],\n         [4.0000, 0.1201, 0.0000, 0.2880, 0.0720, 0.3222],\n         ...,\n         [5.0000, 0.1041, 0.0000, 0.4604, 0.0921, 0.4189],\n         [5.0000, 0.1094, 0.0000, 0.4256, 0.0851, 0.3581],\n         [4.0000, 0.0913, 0.0000, 0.3470, 0.0868, 0.4667]],\n\n        ...,\n\n        [[5.0000, 0.1554, 0.0000, 0.5991, 0.1198, 0.7099],\n         [7.0000, 0.1458, 0.0000, 0.7658, 0.1094, 0.4195],\n         [6.0000, 0.2105, 0.0000, 0.7404, 0.1234, 0.6269],\n         ...,\n         [6.0000, 0.2476, 0.0000, 0.8704, 0.1451, 0.8657],\n         [4.0000, 0.1443, 0.0000, 0.3843, 0.0961, 0.5733],\n         [4.0000, 0.1277, 0.0000, 0.4273, 0.1068, 0.7084]],\n\n        [[5.0000, 0.1647, 0.0000, 0.6557, 0.1311, 0.8501],\n         [7.0000, 0.1655, 0.0000, 0.9279, 0.1326, 0.6157],\n         [5.0000, 0.1489, 0.0000, 0.6209, 0.1242, 0.7621],\n         ...,\n         [6.0000, 0.1398, 0.0000, 0.7043, 0.1174, 0.5652],\n         [5.0000, 0.1590, 0.0000, 0.5721, 0.1144, 0.6475],\n         [5.0000, 0.1398, 0.0000, 0.5076, 0.1015, 0.5096]],\n\n        [[4.0000, 0.1210, 0.0000, 0.3557, 0.0889, 0.4909],\n         [4.0000, 0.0959, 0.0000, 0.3142, 0.0786, 0.3828],\n         [6.0000, 0.2451, 0.0000, 0.7916, 0.1319, 0.7182],\n         ...,\n         [6.0000, 0.2052, 0.0000, 0.7578, 0.1263, 0.6564],\n         [5.0000, 0.1799, 0.0000, 0.5919, 0.1184, 0.6938],\n         [6.0000, 0.2512, 0.0000, 0.7781, 0.1297, 0.6946]]])"
     },
     "execution_count": 37,
     "metadata": {},
     "output_type": "execute_result"
    }
   ],
   "source": [
    "node_sigs"
   ],
   "metadata": {
    "collapsed": false
   }
  },
  {
   "cell_type": "code",
   "execution_count": 39,
   "outputs": [
    {
     "name": "stdout",
     "output_type": "stream",
     "text": [
      "tensor([[[ 0.1916,  0.0122, -0.2857,  ..., -0.4973, -0.0533, -0.0872],\n",
      "         [ 0.1916,  0.0121, -0.2856,  ..., -0.4972, -0.0534, -0.0872],\n",
      "         [ 0.1925,  0.0103, -0.2850,  ..., -0.4971, -0.0533, -0.0866],\n",
      "         ...,\n",
      "         [ 0.1934,  0.0076, -0.2839,  ..., -0.4964, -0.0534, -0.0861],\n",
      "         [ 0.1934,  0.0079, -0.2835,  ..., -0.4963, -0.0537, -0.0863],\n",
      "         [ 0.1939,  0.0071, -0.2829,  ..., -0.4962, -0.0537, -0.0861]],\n",
      "\n",
      "        [[ 0.1801,  0.0275, -0.3029,  ..., -0.5005, -0.0485, -0.0892],\n",
      "         [ 0.1756,  0.0364, -0.3088,  ..., -0.5030, -0.0471, -0.0905],\n",
      "         [ 0.1788,  0.0305, -0.3046,  ..., -0.5016, -0.0481, -0.0895],\n",
      "         ...,\n",
      "         [ 0.1799,  0.0285, -0.3035,  ..., -0.5013, -0.0482, -0.0892],\n",
      "         [ 0.1806,  0.0229, -0.3043,  ..., -0.5002, -0.0462, -0.0874],\n",
      "         [ 0.1791,  0.0302, -0.3044,  ..., -0.5017, -0.0481, -0.0895]],\n",
      "\n",
      "        [[ 0.1802,  0.0284, -0.3023,  ..., -0.5009, -0.0489, -0.0894],\n",
      "         [ 0.1805,  0.0277, -0.3018,  ..., -0.5006, -0.0491, -0.0893],\n",
      "         [ 0.1802,  0.0284, -0.3022,  ..., -0.5009, -0.0490, -0.0894],\n",
      "         ...,\n",
      "         [ 0.1823,  0.0275, -0.2994,  ..., -0.5012, -0.0498, -0.0894],\n",
      "         [ 0.1821,  0.0282, -0.2996,  ..., -0.5014, -0.0499, -0.0896],\n",
      "         [ 0.1820,  0.0282, -0.2998,  ..., -0.5014, -0.0498, -0.0895]],\n",
      "\n",
      "        ...,\n",
      "\n",
      "        [[ 0.1757,  0.0352, -0.3095,  ..., -0.5033, -0.0463, -0.0900],\n",
      "         [ 0.1767,  0.0324, -0.3087,  ..., -0.5026, -0.0461, -0.0894],\n",
      "         [ 0.1759,  0.0337, -0.3095,  ..., -0.5027, -0.0460, -0.0896],\n",
      "         ...,\n",
      "         [ 0.1726,  0.0390, -0.3144,  ..., -0.5044, -0.0443, -0.0900],\n",
      "         [ 0.1754,  0.0372, -0.3102,  ..., -0.5042, -0.0462, -0.0901],\n",
      "         [ 0.1749,  0.0382, -0.3109,  ..., -0.5045, -0.0460, -0.0903]],\n",
      "\n",
      "        [[ 0.1681,  0.0479, -0.3215,  ..., -0.5076, -0.0421, -0.0909],\n",
      "         [ 0.1723,  0.0400, -0.3156,  ..., -0.5052, -0.0438, -0.0900],\n",
      "         [ 0.1690,  0.0463, -0.3202,  ..., -0.5071, -0.0425, -0.0908],\n",
      "         ...,\n",
      "         [ 0.1747,  0.0336, -0.3127,  ..., -0.5032, -0.0441, -0.0890],\n",
      "         [ 0.1734,  0.0363, -0.3144,  ..., -0.5039, -0.0438, -0.0895],\n",
      "         [ 0.1737,  0.0361, -0.3140,  ..., -0.5039, -0.0440, -0.0895]],\n",
      "\n",
      "        [[ 0.1735,  0.0386, -0.3122,  ..., -0.5037, -0.0458, -0.0906],\n",
      "         [ 0.1793,  0.0311, -0.3033,  ..., -0.5016, -0.0489, -0.0900],\n",
      "         [ 0.1699,  0.0421, -0.3177,  ..., -0.5046, -0.0433, -0.0906],\n",
      "         ...,\n",
      "         [ 0.1608,  0.0539, -0.3318,  ..., -0.5079, -0.0376, -0.0914],\n",
      "         [ 0.1729,  0.0365, -0.3139,  ..., -0.5033, -0.0440, -0.0896],\n",
      "         [ 0.1776,  0.0285, -0.3073,  ..., -0.5009, -0.0461, -0.0887]]],\n",
      "       grad_fn=<TanhBackward0>)\n",
      "tensor([[-0.2626, -0.3584,  0.3289,  ..., -0.1963, -0.2589,  0.3644],\n",
      "        [-0.2361, -0.2769,  0.3097,  ..., -0.1665, -0.2915,  0.3530],\n",
      "        [-0.2471, -0.2870,  0.3060,  ..., -0.1677, -0.2842,  0.3593],\n",
      "        ...,\n",
      "        [-0.2302, -0.2293,  0.2905,  ..., -0.1465, -0.3043,  0.3531],\n",
      "        [-0.2252, -0.2046,  0.2864,  ..., -0.1397, -0.3146,  0.3538],\n",
      "        [-0.2486, -0.2700,  0.2939,  ..., -0.1507, -0.2919,  0.3399]],\n",
      "       grad_fn=<TanhBackward0>)\n"
     ]
    }
   ],
   "source": [
    "class GCN(torch.nn.Module):\n",
    "    def __init__(self, widths):\n",
    "        super().__init__()\n",
    "        self.f = 5\n",
    "        self.widths = widths\n",
    "        self.weights = []\n",
    "        self.weights.append(torch.autograd.Variable(torch.rand(size = [self.f,widths[0]])-0.5,requires_grad = True))\n",
    "\n",
    "        for i in range(1,len(self.widths)):\n",
    "            c = self.widths[i]\n",
    "            self.weights.append(torch.autograd.Variable(torch.rand((self.widths[i-1],self.widths[i]))-0.5,requires_grad = True))\n",
    "\n",
    "    def forward(self, adjM,node_sigM):\n",
    "        curr_output = torch.tanh(torch.matmul(torch.matmul(adjM,node_sigM),self.weights[0])) #nxc\n",
    "        for i in range(1,len(self.widths)):\n",
    "            curr_output = torch.tanh(torch.matmul(torch.matmul(adjM,curr_output),self.weights[i])) #nxc\n",
    "\n",
    "        return curr_output"
   ],
   "metadata": {
    "collapsed": false
   }
  },
  {
   "cell_type": "code",
   "execution_count": 73,
   "outputs": [],
   "source": [
    "class NNN(torch.nn.Module):\n",
    "    def __init__(self, widths):\n",
    "        super().__init__()\n",
    "        self.input_shape = 2520\n",
    "        self.widths = widths\n",
    "        self.weights = []\n",
    "        self.weights.append(torch.autograd.Variable(torch.rand(size = [self.input_shape,widths[0]])-0.5,requires_grad = True))\n",
    "\n",
    "        for i in range(1,len(self.widths)):\n",
    "            c = self.widths[i]\n",
    "            self.weights.append(torch.autograd.Variable(torch.rand((self.widths[i-1],self.widths[i]))-0.5,requires_grad = True))\n",
    "\n",
    "    def forward(self, x):\n",
    "        x = torch.flatten(x,1,2)\n",
    "        torch.matmul(x,self.weights[0])\n",
    "        curr_output = torch.tanh(torch.matmul(x,self.weights[0])) #nxc\n",
    "        for i in range(1,len(self.widths)):\n",
    "            curr_output = torch.tanh(torch.matmul(curr_output,self.weights[i])) #nxc\n",
    "\n",
    "        return curr_output"
   ],
   "metadata": {
    "collapsed": false
   }
  },
  {
   "cell_type": "code",
   "execution_count": 75,
   "outputs": [
    {
     "name": "stdout",
     "output_type": "stream",
     "text": [
      "tensor(-2.0786, grad_fn=<AddBackward0>)\n",
      "tensor(-2.0758, grad_fn=<AddBackward0>)\n",
      "tensor(-2.0776, grad_fn=<AddBackward0>)\n",
      "tensor(-2.0782, grad_fn=<AddBackward0>)\n",
      "tensor(-2.0781, grad_fn=<AddBackward0>)\n",
      "tensor(-2.0784, grad_fn=<AddBackward0>)\n",
      "tensor(-2.0783, grad_fn=<AddBackward0>)\n",
      "tensor(-2.0784, grad_fn=<AddBackward0>)\n",
      "tensor(-2.0788, grad_fn=<AddBackward0>)\n",
      "tensor(-2.0791, grad_fn=<AddBackward0>)\n",
      "tensor(-2.0787, grad_fn=<AddBackward0>)\n",
      "tensor(-2.0786, grad_fn=<AddBackward0>)\n",
      "tensor(-2.0790, grad_fn=<AddBackward0>)\n",
      "tensor(-2.0794, grad_fn=<AddBackward0>)\n",
      "tensor(-2.0790, grad_fn=<AddBackward0>)\n",
      "tensor(-2.0788, grad_fn=<AddBackward0>)\n",
      "tensor(-2.0791, grad_fn=<AddBackward0>)\n",
      "tensor(-2.0793, grad_fn=<AddBackward0>)\n",
      "tensor(-2.0793, grad_fn=<AddBackward0>)\n",
      "tensor(-2.0791, grad_fn=<AddBackward0>)\n",
      "tensor(-2.0792, grad_fn=<AddBackward0>)\n",
      "tensor(-2.0793, grad_fn=<AddBackward0>)\n",
      "tensor(-2.0793, grad_fn=<AddBackward0>)\n",
      "tensor(-2.0794, grad_fn=<AddBackward0>)\n",
      "tensor(-2.0793, grad_fn=<AddBackward0>)\n",
      "tensor(-2.0793, grad_fn=<AddBackward0>)\n",
      "tensor(-2.0794, grad_fn=<AddBackward0>)\n",
      "tensor(-2.0795, grad_fn=<AddBackward0>)\n",
      "tensor(-2.0793, grad_fn=<AddBackward0>)\n",
      "tensor(-2.0794, grad_fn=<AddBackward0>)\n",
      "tensor(-2.0795, grad_fn=<AddBackward0>)\n",
      "tensor(-2.0795, grad_fn=<AddBackward0>)\n",
      "tensor(-2.0794, grad_fn=<AddBackward0>)\n",
      "tensor(-2.0795, grad_fn=<AddBackward0>)\n",
      "tensor(-2.0795, grad_fn=<AddBackward0>)\n",
      "tensor(-2.0795, grad_fn=<AddBackward0>)\n",
      "tensor(-2.0795, grad_fn=<AddBackward0>)\n",
      "tensor(-2.0795, grad_fn=<AddBackward0>)\n",
      "tensor(-2.0795, grad_fn=<AddBackward0>)\n",
      "tensor(-2.0796, grad_fn=<AddBackward0>)\n",
      "tensor(-2.0795, grad_fn=<AddBackward0>)\n",
      "tensor(-2.0795, grad_fn=<AddBackward0>)\n",
      "tensor(-2.0796, grad_fn=<AddBackward0>)\n",
      "tensor(-2.0796, grad_fn=<AddBackward0>)\n",
      "tensor(-2.0796, grad_fn=<AddBackward0>)\n",
      "tensor(-2.0796, grad_fn=<AddBackward0>)\n",
      "tensor(-2.0796, grad_fn=<AddBackward0>)\n",
      "tensor(-2.0796, grad_fn=<AddBackward0>)\n",
      "tensor(-2.0796, grad_fn=<AddBackward0>)\n",
      "tensor(-2.0796, grad_fn=<AddBackward0>)\n",
      "tensor(-2.0796, grad_fn=<AddBackward0>)\n",
      "tensor(-2.0796, grad_fn=<AddBackward0>)\n",
      "tensor(-2.0796, grad_fn=<AddBackward0>)\n",
      "tensor(-2.0796, grad_fn=<AddBackward0>)\n",
      "tensor(-2.0796, grad_fn=<AddBackward0>)\n",
      "tensor(-2.0797, grad_fn=<AddBackward0>)\n",
      "tensor(-2.0796, grad_fn=<AddBackward0>)\n",
      "tensor(-2.0797, grad_fn=<AddBackward0>)\n",
      "tensor(-2.0797, grad_fn=<AddBackward0>)\n",
      "tensor(-2.0797, grad_fn=<AddBackward0>)\n",
      "tensor(-2.0797, grad_fn=<AddBackward0>)\n",
      "tensor(-2.0797, grad_fn=<AddBackward0>)\n",
      "tensor(-2.0797, grad_fn=<AddBackward0>)\n",
      "tensor(-2.0797, grad_fn=<AddBackward0>)\n",
      "tensor(-2.0797, grad_fn=<AddBackward0>)\n",
      "tensor(-2.0797, grad_fn=<AddBackward0>)\n",
      "tensor(-2.0797, grad_fn=<AddBackward0>)\n",
      "tensor(-2.0797, grad_fn=<AddBackward0>)\n",
      "tensor(-2.0798, grad_fn=<AddBackward0>)\n",
      "tensor(-2.0797, grad_fn=<AddBackward0>)\n",
      "tensor(-2.0797, grad_fn=<AddBackward0>)\n",
      "tensor(-2.0798, grad_fn=<AddBackward0>)\n",
      "tensor(-2.0798, grad_fn=<AddBackward0>)\n",
      "tensor(-2.0798, grad_fn=<AddBackward0>)\n",
      "tensor(-2.0798, grad_fn=<AddBackward0>)\n",
      "tensor(-2.0798, grad_fn=<AddBackward0>)\n",
      "tensor(-2.0798, grad_fn=<AddBackward0>)\n",
      "tensor(-2.0798, grad_fn=<AddBackward0>)\n",
      "tensor(-2.0798, grad_fn=<AddBackward0>)\n",
      "tensor(-2.0798, grad_fn=<AddBackward0>)\n",
      "tensor(-2.0798, grad_fn=<AddBackward0>)\n",
      "tensor(-2.0798, grad_fn=<AddBackward0>)\n",
      "tensor(-2.0798, grad_fn=<AddBackward0>)\n",
      "tensor(-2.0798, grad_fn=<AddBackward0>)\n",
      "tensor(-2.0799, grad_fn=<AddBackward0>)\n",
      "tensor(-2.0799, grad_fn=<AddBackward0>)\n",
      "tensor(-2.0799, grad_fn=<AddBackward0>)\n",
      "tensor(-2.0799, grad_fn=<AddBackward0>)\n",
      "tensor(-2.0799, grad_fn=<AddBackward0>)\n",
      "tensor(-2.0799, grad_fn=<AddBackward0>)\n",
      "tensor(-2.0799, grad_fn=<AddBackward0>)\n",
      "tensor(-2.0799, grad_fn=<AddBackward0>)\n",
      "tensor(-2.0799, grad_fn=<AddBackward0>)\n",
      "tensor(-2.0799, grad_fn=<AddBackward0>)\n",
      "tensor(-2.0799, grad_fn=<AddBackward0>)\n",
      "tensor(-2.0799, grad_fn=<AddBackward0>)\n",
      "tensor(-2.0799, grad_fn=<AddBackward0>)\n",
      "tensor(-2.0800, grad_fn=<AddBackward0>)\n",
      "tensor(-2.0800, grad_fn=<AddBackward0>)\n",
      "tensor(-2.0800, grad_fn=<AddBackward0>)\n",
      "tensor(-2.0800, grad_fn=<AddBackward0>)\n",
      "tensor(-2.0800, grad_fn=<AddBackward0>)\n",
      "tensor(-2.0800, grad_fn=<AddBackward0>)\n",
      "tensor(-2.0800, grad_fn=<AddBackward0>)\n",
      "tensor(-2.0800, grad_fn=<AddBackward0>)\n",
      "tensor(-2.0800, grad_fn=<AddBackward0>)\n",
      "tensor(-2.0800, grad_fn=<AddBackward0>)\n",
      "tensor(-2.0800, grad_fn=<AddBackward0>)\n",
      "tensor(-2.0800, grad_fn=<AddBackward0>)\n",
      "tensor(-2.0801, grad_fn=<AddBackward0>)\n",
      "tensor(-2.0800, grad_fn=<AddBackward0>)\n",
      "tensor(-2.0800, grad_fn=<AddBackward0>)\n",
      "tensor(-2.0801, grad_fn=<AddBackward0>)\n",
      "tensor(-2.0801, grad_fn=<AddBackward0>)\n",
      "tensor(-2.0801, grad_fn=<AddBackward0>)\n",
      "tensor(-2.0801, grad_fn=<AddBackward0>)\n",
      "tensor(-2.0801, grad_fn=<AddBackward0>)\n",
      "tensor(-2.0801, grad_fn=<AddBackward0>)\n",
      "tensor(-2.0801, grad_fn=<AddBackward0>)\n",
      "tensor(-2.0801, grad_fn=<AddBackward0>)\n",
      "tensor(-2.0801, grad_fn=<AddBackward0>)\n",
      "tensor(-2.0801, grad_fn=<AddBackward0>)\n",
      "tensor(-2.0802, grad_fn=<AddBackward0>)\n",
      "tensor(-2.0802, grad_fn=<AddBackward0>)\n",
      "tensor(-2.0801, grad_fn=<AddBackward0>)\n",
      "tensor(-2.0802, grad_fn=<AddBackward0>)\n",
      "tensor(-2.0802, grad_fn=<AddBackward0>)\n",
      "tensor(-2.0802, grad_fn=<AddBackward0>)\n",
      "tensor(-2.0802, grad_fn=<AddBackward0>)\n",
      "tensor(-2.0802, grad_fn=<AddBackward0>)\n",
      "tensor(-2.0802, grad_fn=<AddBackward0>)\n",
      "tensor(-2.0802, grad_fn=<AddBackward0>)\n",
      "tensor(-2.0802, grad_fn=<AddBackward0>)\n",
      "tensor(-2.0802, grad_fn=<AddBackward0>)\n",
      "tensor(-2.0802, grad_fn=<AddBackward0>)\n",
      "tensor(-2.0802, grad_fn=<AddBackward0>)\n",
      "tensor(-2.0803, grad_fn=<AddBackward0>)\n",
      "tensor(-2.0803, grad_fn=<AddBackward0>)\n",
      "tensor(-2.0803, grad_fn=<AddBackward0>)\n"
     ]
    },
    {
     "ename": "KeyboardInterrupt",
     "evalue": "",
     "output_type": "error",
     "traceback": [
      "\u001B[0;31m---------------------------------------------------------------------------\u001B[0m",
      "\u001B[0;31mKeyboardInterrupt\u001B[0m                         Traceback (most recent call last)",
      "Input \u001B[0;32mIn [75]\u001B[0m, in \u001B[0;36m<cell line: 2>\u001B[0;34m()\u001B[0m\n\u001B[1;32m      2\u001B[0m \u001B[38;5;28;01mfor\u001B[39;00m i \u001B[38;5;129;01min\u001B[39;00m \u001B[38;5;28mrange\u001B[39m(\u001B[38;5;241m10000\u001B[39m):\n\u001B[1;32m      3\u001B[0m     optimizer\u001B[38;5;241m.\u001B[39mzero_grad()\n\u001B[0;32m----> 4\u001B[0m     output \u001B[38;5;241m=\u001B[39m n\u001B[38;5;241m.\u001B[39mforward(\u001B[43mg\u001B[49m\u001B[38;5;241;43m.\u001B[39;49m\u001B[43mforward\u001B[49m\u001B[43m(\u001B[49m\u001B[43mnormed_adjMats\u001B[49m\u001B[43m,\u001B[49m\u001B[43mnode_sigs\u001B[49m\u001B[43m)\u001B[49m)\n\u001B[1;32m      5\u001B[0m     loss \u001B[38;5;241m=\u001B[39m lossF(output)\n\u001B[1;32m      6\u001B[0m     loss\u001B[38;5;241m.\u001B[39mbackward()\n",
      "File \u001B[0;32m/var/folders/t4/vdzymfw562g8ml8ks_2b5l5r0000gn/T/ipykernel_28489/474890613.py:16\u001B[0m, in \u001B[0;36mGCN.forward\u001B[0;34m(self, adjM, node_sigM)\u001B[0m\n\u001B[1;32m     14\u001B[0m curr_output \u001B[38;5;241m=\u001B[39m torch\u001B[38;5;241m.\u001B[39mtanh(torch\u001B[38;5;241m.\u001B[39mmatmul(torch\u001B[38;5;241m.\u001B[39mmatmul(adjM,node_sigM),\u001B[38;5;28mself\u001B[39m\u001B[38;5;241m.\u001B[39mweights[\u001B[38;5;241m0\u001B[39m])) \u001B[38;5;66;03m#nxc\u001B[39;00m\n\u001B[1;32m     15\u001B[0m \u001B[38;5;28;01mfor\u001B[39;00m i \u001B[38;5;129;01min\u001B[39;00m \u001B[38;5;28mrange\u001B[39m(\u001B[38;5;241m1\u001B[39m,\u001B[38;5;28mlen\u001B[39m(\u001B[38;5;28mself\u001B[39m\u001B[38;5;241m.\u001B[39mwidths)):\n\u001B[0;32m---> 16\u001B[0m     curr_output \u001B[38;5;241m=\u001B[39m torch\u001B[38;5;241m.\u001B[39mtanh(torch\u001B[38;5;241m.\u001B[39mmatmul(\u001B[43mtorch\u001B[49m\u001B[38;5;241;43m.\u001B[39;49m\u001B[43mmatmul\u001B[49m\u001B[43m(\u001B[49m\u001B[43madjM\u001B[49m\u001B[43m,\u001B[49m\u001B[43mcurr_output\u001B[49m\u001B[43m)\u001B[49m,\u001B[38;5;28mself\u001B[39m\u001B[38;5;241m.\u001B[39mweights[i])) \u001B[38;5;66;03m#nxc\u001B[39;00m\n\u001B[1;32m     18\u001B[0m \u001B[38;5;28;01mreturn\u001B[39;00m curr_output\n",
      "\u001B[0;31mKeyboardInterrupt\u001B[0m: "
     ]
    }
   ],
   "source": [
    "g = GCN([10,10,10,10])\n",
    "n = NNN([10,10,10,10])\n",
    "output1 = g.forward(normed_adjMats,node_sigs)\n",
    "output2 = n.forward(output1)\n",
    "print(output1)\n",
    "print(output2)"
   ],
   "metadata": {
    "collapsed": false
   }
  },
  {
   "cell_type": "code",
   "execution_count": null,
   "outputs": [],
   "source": [
    "def lossF(features):\n",
    "    disMat = torch.cdist(features,features)\n",
    "    sameType = disMat * (label_mat-torch.diag(torch.ones(600)))\n",
    "    diffType = disMat * (1-label_mat)\n",
    "    sameTypeMean = torch.sum(sameType) / 12000\n",
    "    diffTypeMean = torch.sum(diffType) /348000\n",
    "\n",
    "    sameTypeStd = torch.sum((sameType - sameTypeMean)**2) / 12000\n",
    "    diffTypeStd = torch.sum((diffType - diffTypeMean)**2) / 348000\n",
    "\n",
    "    #print(disMat)\n",
    "    return  sameTypeMean - diffTypeMean + 0.2 * (sameTypeStd + diffTypeStd)"
   ],
   "metadata": {
    "collapsed": false
   }
  },
  {
   "cell_type": "code",
   "execution_count": 59,
   "outputs": [
    {
     "data": {
      "text/plain": "(array([0.09736706, 0.06140384, 0.04193166, 0.02912408, 0.02456172,\n        0.01841873, 0.02455831, 0.01841873, 0.02140081, 0.01876956,\n        0.02140081, 0.01578748, 0.01578748, 0.01227915, 0.01543665,\n        0.01262999, 0.01438415, 0.01262999, 0.01052499, 0.01140207,\n        0.01351103, 0.0117569 , 0.00965118, 0.01000214, 0.01087952,\n        0.01017761, 0.00842285, 0.00772095, 0.01228333, 0.00912476,\n        0.00789642, 0.00824738, 0.00561523, 0.00842285, 0.00491333,\n        0.00754547, 0.00631714, 0.00666809, 0.00824738, 0.00684357,\n        0.00772095, 0.00543976, 0.00403595, 0.00350952, 0.003685  ,\n        0.00561523, 0.00333405, 0.00228119, 0.00350952, 0.00315857,\n        0.00386047, 0.00298309, 0.003685  , 0.0043869 , 0.003685  ,\n        0.00403595, 0.00333405, 0.00386047, 0.003685  , 0.00280762,\n        0.0043869 , 0.00298309, 0.00350952, 0.00315857, 0.00228119,\n        0.00263214, 0.00280762, 0.00228119, 0.00280762, 0.003685  ,\n        0.00350952, 0.00105286, 0.00315857, 0.00280762, 0.00298309,\n        0.00263214, 0.00052643, 0.00263214, 0.00157928, 0.00122833,\n        0.00210571, 0.00193024, 0.00193024, 0.00105286, 0.00105286,\n        0.00140381, 0.00105286, 0.00210571, 0.00193024, 0.00105286,\n        0.00105286, 0.00140381, 0.00140381, 0.00105286, 0.00193024,\n        0.00052643, 0.00140381, 0.00087738, 0.00122833, 0.00035095,\n        0.00087738, 0.00122833, 0.0007019 , 0.0007019 , 0.00052643,\n        0.00175476, 0.0007019 , 0.00105286, 0.00193024, 0.00035095,\n        0.00087738, 0.00017548, 0.00157928, 0.00052643, 0.00035095,\n        0.0007019 , 0.00017548, 0.0007019 , 0.0007019 , 0.00105286,\n        0.00052643, 0.00087738, 0.00035095, 0.00087738, 0.00087738,\n        0.00087738, 0.00017548, 0.00087738, 0.00157928, 0.00140381,\n        0.0007019 , 0.0007019 , 0.00052643, 0.00087738, 0.00035095,\n        0.00035095, 0.0007019 , 0.00105286, 0.00052643, 0.00052643,\n        0.        , 0.00122833, 0.00035095, 0.00122833, 0.00193024,\n        0.00140381, 0.00052643, 0.00052643, 0.0007019 , 0.00122833,\n        0.00052643, 0.00105286, 0.00087738, 0.00087738, 0.00105286,\n        0.00140381, 0.00157928, 0.00052643, 0.0007019 , 0.0007019 ,\n        0.00035095, 0.00105286, 0.00087738, 0.00105286, 0.00175476,\n        0.00087738, 0.00193024, 0.00052643, 0.00035095, 0.0007019 ,\n        0.0007019 , 0.00035095, 0.00035095, 0.00052643, 0.00140381,\n        0.0007019 , 0.00087738, 0.00035095, 0.00105286, 0.00017548,\n        0.00035095, 0.0007019 , 0.00087738, 0.00052643, 0.00052643,\n        0.00035095, 0.00122833, 0.00087738, 0.        , 0.0007019 ,\n        0.00017548, 0.00017548, 0.00035095, 0.00035095, 0.00035095,\n        0.00035095, 0.0007019 , 0.00052643, 0.00017548, 0.00052643,\n        0.00017548, 0.00035095, 0.00052643, 0.00052643, 0.00017548,\n        0.00052643, 0.0007019 , 0.00035095, 0.        , 0.00035095,\n        0.        , 0.        , 0.00017548, 0.00052643, 0.        ,\n        0.00035095, 0.00052643, 0.        , 0.        , 0.00017548,\n        0.        , 0.        , 0.00035095, 0.        , 0.        ,\n        0.00017548, 0.        , 0.        , 0.        , 0.00035095,\n        0.00017548, 0.00035095, 0.00017548, 0.        , 0.        ,\n        0.        , 0.00017548, 0.00017548, 0.        , 0.00017548,\n        0.00035095, 0.00017548, 0.        , 0.        , 0.        ,\n        0.        , 0.        , 0.        , 0.00052643, 0.00035095,\n        0.00140381, 0.00052643, 0.00017548, 0.        , 0.        ,\n        0.00017548, 0.        , 0.        , 0.        , 0.        ,\n        0.        , 0.        , 0.00017548, 0.        , 0.00017548,\n        0.00017548, 0.        , 0.        , 0.00017548, 0.        ,\n        0.        , 0.00017548, 0.        , 0.        , 0.        ,\n        0.00035095, 0.        , 0.        , 0.        , 0.00017548,\n        0.        , 0.00017548, 0.        , 0.00017548, 0.        ,\n        0.00017548, 0.00017548, 0.        , 0.00052643, 0.        ,\n        0.        , 0.        , 0.        , 0.00017548, 0.00017548,\n        0.        , 0.00035095, 0.        , 0.        , 0.00035095,\n        0.00052643, 0.00035095, 0.00017548, 0.00017548, 0.00052643,\n        0.00017548, 0.00052643, 0.00035095, 0.00017548, 0.        ,\n        0.00052643, 0.00017548, 0.        , 0.        , 0.00035095,\n        0.00017548, 0.00035095, 0.00017548, 0.00017548, 0.        ,\n        0.        , 0.00017548, 0.        , 0.00017548, 0.        ,\n        0.        , 0.00017548, 0.00017548, 0.00017548, 0.        ,\n        0.00017548, 0.        , 0.00017548, 0.        , 0.00035095,\n        0.00017548, 0.        , 0.        , 0.        , 0.        ,\n        0.00035095, 0.        , 0.00017548, 0.00035095, 0.        ,\n        0.00017548, 0.00017548, 0.        , 0.        , 0.        ,\n        0.        , 0.        , 0.00035095, 0.        , 0.        ,\n        0.00017548, 0.00017548, 0.        , 0.        , 0.        ,\n        0.        , 0.        , 0.00017548, 0.        , 0.        ,\n        0.        , 0.        , 0.        , 0.        , 0.        ,\n        0.        , 0.00017548, 0.00017548, 0.00017548, 0.00017548,\n        0.        , 0.        , 0.00017548, 0.00017548, 0.        ,\n        0.        , 0.00017548, 0.00017548, 0.        , 0.        ,\n        0.00017548, 0.        , 0.        , 0.        , 0.00035095,\n        0.        , 0.00035095, 0.        , 0.        , 0.00017548,\n        0.00017548, 0.00017548, 0.        , 0.        , 0.        ,\n        0.00017548, 0.00035095, 0.00017548, 0.        , 0.00017548,\n        0.        , 0.00017548, 0.00017548, 0.00035095, 0.        ,\n        0.00017548, 0.00017548, 0.00017548, 0.00017548, 0.00035095,\n        0.        , 0.        , 0.00017548, 0.00017548, 0.        ,\n        0.00017548, 0.        , 0.        , 0.        , 0.        ,\n        0.        , 0.        , 0.        , 0.        , 0.00017548,\n        0.        , 0.        , 0.        , 0.00017548, 0.        ,\n        0.        , 0.        , 0.        , 0.        , 0.00017548,\n        0.        , 0.        , 0.00017548, 0.00035095, 0.00017548,\n        0.        , 0.00017548, 0.00035095, 0.        , 0.0007019 ,\n        0.00035095, 0.00017548, 0.00017548, 0.        , 0.        ,\n        0.        , 0.        , 0.        , 0.        , 0.00017548,\n        0.        , 0.        , 0.        , 0.00017548, 0.        ,\n        0.        , 0.        , 0.00017548, 0.00017548, 0.00017548,\n        0.00035095, 0.        , 0.00017548, 0.00017548, 0.00017548,\n        0.00017548, 0.00017548, 0.        , 0.00017548, 0.00017548,\n        0.        , 0.00017548, 0.        , 0.        , 0.00017548,\n        0.        , 0.00017548, 0.        , 0.00035095, 0.        ,\n        0.        , 0.00017548, 0.        , 0.        , 0.        ,\n        0.        , 0.        , 0.        , 0.        , 0.00017548,\n        0.        , 0.00017548, 0.        , 0.        , 0.        ,\n        0.00017548, 0.        , 0.        , 0.00035095, 0.        ,\n        0.        , 0.        , 0.        , 0.        , 0.00017548,\n        0.00017548, 0.        , 0.        , 0.00017548, 0.00035095,\n        0.        , 0.        , 0.        , 0.        , 0.        ,\n        0.        , 0.        , 0.00017548, 0.        , 0.        ,\n        0.        , 0.        , 0.        , 0.        , 0.        ,\n        0.        , 0.        , 0.        , 0.        , 0.        ,\n        0.00017548, 0.        , 0.        , 0.        , 0.00017548,\n        0.        , 0.        , 0.        , 0.        , 0.        ,\n        0.        , 0.        , 0.        , 0.        , 0.        ,\n        0.        , 0.        , 0.        , 0.        , 0.        ,\n        0.        , 0.        , 0.        , 0.        , 0.        ,\n        0.        , 0.        , 0.        , 0.        , 0.        ,\n        0.        , 0.        , 0.        , 0.        , 0.        ,\n        0.        , 0.        , 0.        , 0.        , 0.        ,\n        0.        , 0.        , 0.        , 0.        , 0.        ,\n        0.        , 0.        , 0.        , 0.        , 0.        ,\n        0.        , 0.        , 0.00017548, 0.        , 0.        ,\n        0.        , 0.        , 0.        , 0.        , 0.        ,\n        0.        , 0.        , 0.        , 0.        , 0.        ,\n        0.        , 0.        , 0.        , 0.        , 0.        ,\n        0.        , 0.        , 0.        , 0.        , 0.        ,\n        0.        , 0.        , 0.        , 0.        , 0.        ,\n        0.        , 0.        , 0.        , 0.        , 0.        ,\n        0.        , 0.        , 0.        , 0.        , 0.        ,\n        0.        , 0.        , 0.        , 0.        , 0.        ,\n        0.        , 0.        , 0.        , 0.        , 0.00017548,\n        0.        , 0.        , 0.        , 0.        , 0.        ,\n        0.        , 0.        , 0.        , 0.        , 0.        ,\n        0.00017548, 0.00017548, 0.        , 0.        , 0.        ,\n        0.        , 0.        , 0.        , 0.00017548, 0.        ,\n        0.        , 0.        , 0.        , 0.        , 0.        ,\n        0.        , 0.        , 0.        , 0.00017548, 0.        ,\n        0.        , 0.        , 0.        , 0.        , 0.        ,\n        0.        , 0.        , 0.        , 0.        , 0.        ,\n        0.        , 0.        , 0.        , 0.00017548, 0.        ,\n        0.        , 0.        , 0.        , 0.        , 0.        ,\n        0.        , 0.        , 0.        , 0.        , 0.        ,\n        0.        , 0.        , 0.        , 0.        , 0.        ,\n        0.        , 0.        , 0.        , 0.        , 0.        ,\n        0.        , 0.        , 0.00017548, 0.        , 0.        ,\n        0.        , 0.        , 0.        , 0.        , 0.        ,\n        0.        , 0.        , 0.        , 0.        , 0.        ,\n        0.        , 0.        , 0.        , 0.        , 0.        ,\n        0.        , 0.        , 0.        , 0.        , 0.        ,\n        0.        , 0.00017548, 0.        , 0.        , 0.        ,\n        0.        , 0.        , 0.        , 0.00017548, 0.        ,\n        0.        , 0.00017548, 0.00017548, 0.00035095, 0.        ,\n        0.00087738, 0.00052643, 0.00017548, 0.        , 0.        ,\n        0.        , 0.        , 0.        , 0.        , 0.        ,\n        0.        , 0.        , 0.        , 0.        , 0.        ,\n        0.        , 0.00017548, 0.        , 0.        , 0.        ,\n        0.00035095, 0.        , 0.00017548, 0.00017548, 0.        ,\n        0.        , 0.        , 0.00017548, 0.        , 0.        ,\n        0.        , 0.00035095, 0.00017548, 0.00017548, 0.00017548,\n        0.00017548, 0.00052643, 0.        , 0.        , 0.        ,\n        0.        , 0.        , 0.        , 0.        , 0.        ,\n        0.        , 0.        , 0.        , 0.        , 0.        ,\n        0.        , 0.        , 0.        , 0.        , 0.        ,\n        0.        , 0.        , 0.        , 0.        , 0.        ,\n        0.        , 0.        , 0.00017548, 0.        , 0.        ,\n        0.        , 0.        , 0.        , 0.        , 0.        ,\n        0.        , 0.        , 0.        , 0.        , 0.        ,\n        0.        , 0.        , 0.        , 0.        , 0.        ,\n        0.        , 0.        , 0.        , 0.        , 0.        ,\n        0.        , 0.        , 0.        , 0.        , 0.        ,\n        0.        , 0.        , 0.        , 0.        , 0.        ,\n        0.        , 0.        , 0.        , 0.        , 0.        ,\n        0.        , 0.        , 0.        , 0.        , 0.        ,\n        0.        , 0.        , 0.        , 0.        , 0.        ,\n        0.        , 0.        , 0.        , 0.        , 0.        ,\n        0.        , 0.        , 0.        , 0.        , 0.        ,\n        0.        , 0.        , 0.        , 0.        , 0.        ,\n        0.        , 0.        , 0.        , 0.        , 0.        ,\n        0.        , 0.        , 0.        , 0.        , 0.        ,\n        0.        , 0.        , 0.        , 0.        , 0.        ,\n        0.        , 0.        , 0.        , 0.        , 0.        ,\n        0.        , 0.        , 0.        , 0.        , 0.        ,\n        0.        , 0.        , 0.        , 0.        , 0.00017548,\n        0.        , 0.        , 0.        , 0.        , 0.        ,\n        0.        , 0.        , 0.        , 0.        , 0.        ,\n        0.        , 0.        , 0.        , 0.        , 0.        ,\n        0.        , 0.        , 0.        , 0.        , 0.        ,\n        0.        , 0.        , 0.        , 0.        , 0.        ,\n        0.        , 0.        , 0.00017548, 0.        , 0.        ,\n        0.        , 0.        , 0.        , 0.        , 0.        ,\n        0.        , 0.        , 0.        , 0.00017548, 0.00017548,\n        0.        , 0.        , 0.        , 0.        , 0.        ,\n        0.        , 0.        , 0.        , 0.        , 0.        ,\n        0.        , 0.        , 0.        , 0.        , 0.        ,\n        0.        , 0.        , 0.        , 0.        , 0.        ,\n        0.        , 0.        , 0.00017548, 0.        , 0.00017548,\n        0.        , 0.        , 0.        , 0.        , 0.        ,\n        0.        , 0.        , 0.00017548, 0.        , 0.        ,\n        0.        , 0.        , 0.        , 0.        , 0.        ,\n        0.        , 0.        , 0.00017548, 0.        , 0.        ,\n        0.00017548, 0.00017548, 0.00035095, 0.00017548, 0.00017548,\n        0.00017548, 0.        , 0.        , 0.00017548, 0.        ,\n        0.        , 0.        , 0.        , 0.        ]),\n array([0.   , 0.001, 0.002, 0.003, 0.004, 0.005, 0.006, 0.007, 0.008,\n        0.009, 0.01 , 0.011, 0.012, 0.013, 0.014, 0.015, 0.016, 0.017,\n        0.018, 0.019, 0.02 , 0.021, 0.022, 0.023, 0.024, 0.025, 0.026,\n        0.027, 0.028, 0.029, 0.03 , 0.031, 0.032, 0.033, 0.034, 0.035,\n        0.036, 0.037, 0.038, 0.039, 0.04 , 0.041, 0.042, 0.043, 0.044,\n        0.045, 0.046, 0.047, 0.048, 0.049, 0.05 , 0.051, 0.052, 0.053,\n        0.054, 0.055, 0.056, 0.057, 0.058, 0.059, 0.06 , 0.061, 0.062,\n        0.063, 0.064, 0.065, 0.066, 0.067, 0.068, 0.069, 0.07 , 0.071,\n        0.072, 0.073, 0.074, 0.075, 0.076, 0.077, 0.078, 0.079, 0.08 ,\n        0.081, 0.082, 0.083, 0.084, 0.085, 0.086, 0.087, 0.088, 0.089,\n        0.09 , 0.091, 0.092, 0.093, 0.094, 0.095, 0.096, 0.097, 0.098,\n        0.099, 0.1  , 0.101, 0.102, 0.103, 0.104, 0.105, 0.106, 0.107,\n        0.108, 0.109, 0.11 , 0.111, 0.112, 0.113, 0.114, 0.115, 0.116,\n        0.117, 0.118, 0.119, 0.12 , 0.121, 0.122, 0.123, 0.124, 0.125,\n        0.126, 0.127, 0.128, 0.129, 0.13 , 0.131, 0.132, 0.133, 0.134,\n        0.135, 0.136, 0.137, 0.138, 0.139, 0.14 , 0.141, 0.142, 0.143,\n        0.144, 0.145, 0.146, 0.147, 0.148, 0.149, 0.15 , 0.151, 0.152,\n        0.153, 0.154, 0.155, 0.156, 0.157, 0.158, 0.159, 0.16 , 0.161,\n        0.162, 0.163, 0.164, 0.165, 0.166, 0.167, 0.168, 0.169, 0.17 ,\n        0.171, 0.172, 0.173, 0.174, 0.175, 0.176, 0.177, 0.178, 0.179,\n        0.18 , 0.181, 0.182, 0.183, 0.184, 0.185, 0.186, 0.187, 0.188,\n        0.189, 0.19 , 0.191, 0.192, 0.193, 0.194, 0.195, 0.196, 0.197,\n        0.198, 0.199, 0.2  , 0.201, 0.202, 0.203, 0.204, 0.205, 0.206,\n        0.207, 0.208, 0.209, 0.21 , 0.211, 0.212, 0.213, 0.214, 0.215,\n        0.216, 0.217, 0.218, 0.219, 0.22 , 0.221, 0.222, 0.223, 0.224,\n        0.225, 0.226, 0.227, 0.228, 0.229, 0.23 , 0.231, 0.232, 0.233,\n        0.234, 0.235, 0.236, 0.237, 0.238, 0.239, 0.24 , 0.241, 0.242,\n        0.243, 0.244, 0.245, 0.246, 0.247, 0.248, 0.249, 0.25 , 0.251,\n        0.252, 0.253, 0.254, 0.255, 0.256, 0.257, 0.258, 0.259, 0.26 ,\n        0.261, 0.262, 0.263, 0.264, 0.265, 0.266, 0.267, 0.268, 0.269,\n        0.27 , 0.271, 0.272, 0.273, 0.274, 0.275, 0.276, 0.277, 0.278,\n        0.279, 0.28 , 0.281, 0.282, 0.283, 0.284, 0.285, 0.286, 0.287,\n        0.288, 0.289, 0.29 , 0.291, 0.292, 0.293, 0.294, 0.295, 0.296,\n        0.297, 0.298, 0.299, 0.3  , 0.301, 0.302, 0.303, 0.304, 0.305,\n        0.306, 0.307, 0.308, 0.309, 0.31 , 0.311, 0.312, 0.313, 0.314,\n        0.315, 0.316, 0.317, 0.318, 0.319, 0.32 , 0.321, 0.322, 0.323,\n        0.324, 0.325, 0.326, 0.327, 0.328, 0.329, 0.33 , 0.331, 0.332,\n        0.333, 0.334, 0.335, 0.336, 0.337, 0.338, 0.339, 0.34 , 0.341,\n        0.342, 0.343, 0.344, 0.345, 0.346, 0.347, 0.348, 0.349, 0.35 ,\n        0.351, 0.352, 0.353, 0.354, 0.355, 0.356, 0.357, 0.358, 0.359,\n        0.36 , 0.361, 0.362, 0.363, 0.364, 0.365, 0.366, 0.367, 0.368,\n        0.369, 0.37 , 0.371, 0.372, 0.373, 0.374, 0.375, 0.376, 0.377,\n        0.378, 0.379, 0.38 , 0.381, 0.382, 0.383, 0.384, 0.385, 0.386,\n        0.387, 0.388, 0.389, 0.39 , 0.391, 0.392, 0.393, 0.394, 0.395,\n        0.396, 0.397, 0.398, 0.399, 0.4  , 0.401, 0.402, 0.403, 0.404,\n        0.405, 0.406, 0.407, 0.408, 0.409, 0.41 , 0.411, 0.412, 0.413,\n        0.414, 0.415, 0.416, 0.417, 0.418, 0.419, 0.42 , 0.421, 0.422,\n        0.423, 0.424, 0.425, 0.426, 0.427, 0.428, 0.429, 0.43 , 0.431,\n        0.432, 0.433, 0.434, 0.435, 0.436, 0.437, 0.438, 0.439, 0.44 ,\n        0.441, 0.442, 0.443, 0.444, 0.445, 0.446, 0.447, 0.448, 0.449,\n        0.45 , 0.451, 0.452, 0.453, 0.454, 0.455, 0.456, 0.457, 0.458,\n        0.459, 0.46 , 0.461, 0.462, 0.463, 0.464, 0.465, 0.466, 0.467,\n        0.468, 0.469, 0.47 , 0.471, 0.472, 0.473, 0.474, 0.475, 0.476,\n        0.477, 0.478, 0.479, 0.48 , 0.481, 0.482, 0.483, 0.484, 0.485,\n        0.486, 0.487, 0.488, 0.489, 0.49 , 0.491, 0.492, 0.493, 0.494,\n        0.495, 0.496, 0.497, 0.498, 0.499, 0.5  , 0.501, 0.502, 0.503,\n        0.504, 0.505, 0.506, 0.507, 0.508, 0.509, 0.51 , 0.511, 0.512,\n        0.513, 0.514, 0.515, 0.516, 0.517, 0.518, 0.519, 0.52 , 0.521,\n        0.522, 0.523, 0.524, 0.525, 0.526, 0.527, 0.528, 0.529, 0.53 ,\n        0.531, 0.532, 0.533, 0.534, 0.535, 0.536, 0.537, 0.538, 0.539,\n        0.54 , 0.541, 0.542, 0.543, 0.544, 0.545, 0.546, 0.547, 0.548,\n        0.549, 0.55 , 0.551, 0.552, 0.553, 0.554, 0.555, 0.556, 0.557,\n        0.558, 0.559, 0.56 , 0.561, 0.562, 0.563, 0.564, 0.565, 0.566,\n        0.567, 0.568, 0.569, 0.57 , 0.571, 0.572, 0.573, 0.574, 0.575,\n        0.576, 0.577, 0.578, 0.579, 0.58 , 0.581, 0.582, 0.583, 0.584,\n        0.585, 0.586, 0.587, 0.588, 0.589, 0.59 , 0.591, 0.592, 0.593,\n        0.594, 0.595, 0.596, 0.597, 0.598, 0.599, 0.6  , 0.601, 0.602,\n        0.603, 0.604, 0.605, 0.606, 0.607, 0.608, 0.609, 0.61 , 0.611,\n        0.612, 0.613, 0.614, 0.615, 0.616, 0.617, 0.618, 0.619, 0.62 ,\n        0.621, 0.622, 0.623, 0.624, 0.625, 0.626, 0.627, 0.628, 0.629,\n        0.63 , 0.631, 0.632, 0.633, 0.634, 0.635, 0.636, 0.637, 0.638,\n        0.639, 0.64 , 0.641, 0.642, 0.643, 0.644, 0.645, 0.646, 0.647,\n        0.648, 0.649, 0.65 , 0.651, 0.652, 0.653, 0.654, 0.655, 0.656,\n        0.657, 0.658, 0.659, 0.66 , 0.661, 0.662, 0.663, 0.664, 0.665,\n        0.666, 0.667, 0.668, 0.669, 0.67 , 0.671, 0.672, 0.673, 0.674,\n        0.675, 0.676, 0.677, 0.678, 0.679, 0.68 , 0.681, 0.682, 0.683,\n        0.684, 0.685, 0.686, 0.687, 0.688, 0.689, 0.69 , 0.691, 0.692,\n        0.693, 0.694, 0.695, 0.696, 0.697, 0.698, 0.699, 0.7  , 0.701,\n        0.702, 0.703, 0.704, 0.705, 0.706, 0.707, 0.708, 0.709, 0.71 ,\n        0.711, 0.712, 0.713, 0.714, 0.715, 0.716, 0.717, 0.718, 0.719,\n        0.72 , 0.721, 0.722, 0.723, 0.724, 0.725, 0.726, 0.727, 0.728,\n        0.729, 0.73 , 0.731, 0.732, 0.733, 0.734, 0.735, 0.736, 0.737,\n        0.738, 0.739, 0.74 , 0.741, 0.742, 0.743, 0.744, 0.745, 0.746,\n        0.747, 0.748, 0.749, 0.75 , 0.751, 0.752, 0.753, 0.754, 0.755,\n        0.756, 0.757, 0.758, 0.759, 0.76 , 0.761, 0.762, 0.763, 0.764,\n        0.765, 0.766, 0.767, 0.768, 0.769, 0.77 , 0.771, 0.772, 0.773,\n        0.774, 0.775, 0.776, 0.777, 0.778, 0.779, 0.78 , 0.781, 0.782,\n        0.783, 0.784, 0.785, 0.786, 0.787, 0.788, 0.789, 0.79 , 0.791,\n        0.792, 0.793, 0.794, 0.795, 0.796, 0.797, 0.798, 0.799, 0.8  ,\n        0.801, 0.802, 0.803, 0.804, 0.805, 0.806, 0.807, 0.808, 0.809,\n        0.81 , 0.811, 0.812, 0.813, 0.814, 0.815, 0.816, 0.817, 0.818,\n        0.819, 0.82 , 0.821, 0.822, 0.823, 0.824, 0.825, 0.826, 0.827,\n        0.828, 0.829, 0.83 , 0.831, 0.832, 0.833, 0.834, 0.835, 0.836,\n        0.837, 0.838, 0.839, 0.84 , 0.841, 0.842, 0.843, 0.844, 0.845,\n        0.846, 0.847, 0.848, 0.849, 0.85 , 0.851, 0.852, 0.853, 0.854,\n        0.855, 0.856, 0.857, 0.858, 0.859, 0.86 , 0.861, 0.862, 0.863,\n        0.864, 0.865, 0.866, 0.867, 0.868, 0.869, 0.87 , 0.871, 0.872,\n        0.873, 0.874, 0.875, 0.876, 0.877, 0.878, 0.879, 0.88 , 0.881,\n        0.882, 0.883, 0.884, 0.885, 0.886, 0.887, 0.888, 0.889, 0.89 ,\n        0.891, 0.892, 0.893, 0.894, 0.895, 0.896, 0.897, 0.898, 0.899,\n        0.9  , 0.901, 0.902, 0.903, 0.904, 0.905, 0.906, 0.907, 0.908,\n        0.909, 0.91 , 0.911, 0.912, 0.913, 0.914, 0.915, 0.916, 0.917,\n        0.918, 0.919, 0.92 , 0.921, 0.922, 0.923, 0.924, 0.925, 0.926,\n        0.927, 0.928, 0.929, 0.93 , 0.931, 0.932, 0.933, 0.934, 0.935,\n        0.936, 0.937, 0.938, 0.939, 0.94 , 0.941, 0.942, 0.943, 0.944,\n        0.945, 0.946, 0.947, 0.948, 0.949, 0.95 , 0.951, 0.952, 0.953,\n        0.954, 0.955, 0.956, 0.957, 0.958, 0.959, 0.96 , 0.961, 0.962,\n        0.963, 0.964, 0.965, 0.966, 0.967, 0.968, 0.969, 0.97 , 0.971,\n        0.972, 0.973, 0.974, 0.975, 0.976, 0.977, 0.978, 0.979, 0.98 ,\n        0.981, 0.982, 0.983, 0.984, 0.985, 0.986, 0.987, 0.988, 0.989,\n        0.99 , 0.991, 0.992, 0.993, 0.994, 0.995, 0.996, 0.997, 0.998,\n        0.999]),\n <BarContainer object of 999 artists>)"
     },
     "execution_count": 59,
     "metadata": {},
     "output_type": "execute_result"
    },
    {
     "data": {
      "text/plain": "<Figure size 432x288 with 1 Axes>",
      "image/png": "[encoded data removed]"
     },
     "metadata": {
      "needs_background": "light"
     },
     "output_type": "display_data"
    }
   ],
   "source": [
    "optimizer = optim.Adam(g.weights + n.weights,lr = 0.0001)\n",
    "for i in range(10000):\n",
    "    optimizer.zero_grad()\n",
    "    output = n.forward(g.forward(normed_adjMats,node_sigs))\n",
    "    loss = lossF(output)\n",
    "    loss.backward()\n",
    "    optimizer.step()\n",
    "    print(loss)"
   ],
   "metadata": {
    "collapsed": false
   }
  },
  {
   "cell_type": "code",
   "execution_count": 60,
   "outputs": [
    {
     "data": {
      "text/plain": "(array([0.01881609, 0.01474138, 0.01222989, ..., 0.        , 0.        ,\n        0.        ]),\n array([0.000e+00, 1.000e-03, 2.000e-03, ..., 7.997e+00, 7.998e+00,\n        7.999e+00]),\n <BarContainer object of 7999 artists>)"
     },
     "execution_count": 60,
     "metadata": {},
     "output_type": "execute_result"
    },
    {
     "data": {
      "text/plain": "<Figure size 800x640 with 1 Axes>",
      "image/png": "[encoded data removed]"
     },
     "metadata": {
      "needs_background": "light"
     },
     "output_type": "display_data"
    }
   ],
   "source": [
    "disMat = torch.cdist(output,output).flatten()\n",
    "mask_same = torch.tensor(label_mat - torch.diag(torch.ones(600)),dtype=bool).flatten()\n",
    "mask_diff = torch.tensor(1 - label_mat,dtype=bool).flatten()\n",
    "sameComp = disMat[mask_same].detach().numpy()\n",
    "diffComp = disMat[mask_diff].detach().numpy()\n",
    "weightsSame = np.ones_like(sameComp) / len(sameComp)\n",
    "weightsDiff = np.ones_like(diffComp) / len(diffComp)\n",
    "bins = torch.arange(0,0.1,0.001)"
   ],
   "metadata": {
    "collapsed": false
   }
  },
  {
   "cell_type": "code",
   "execution_count": 61,
   "outputs": [],
   "source": [
    "plt.hist(sameComp,bins=np.arange(0,1,0.001),weights=weightsSame,log = False)"
   ],
   "metadata": {
    "collapsed": false
   }
  },
  {
   "cell_type": "code",
   "execution_count": 62,
   "outputs": [
    {
     "data": {
      "text/plain": "228192"
     },
     "execution_count": 62,
     "metadata": {},
     "output_type": "execute_result"
    }
   ],
   "source": [
    "from matplotlib.pyplot import figure\n",
    "\n",
    "figure(figsize=(10, 8), dpi=80)\n",
    "plt.hist(diffComp,bins=np.arange(0,8,0.001),weights=weightsDiff,log = False)"
   ],
   "metadata": {
    "collapsed": false
   }
  },
  {
   "cell_type": "code",
   "execution_count": 63,
   "outputs": [
    {
     "data": {
      "text/plain": "array([[0., 0., 0., 0., 0., 0., 0., 0., 0., 0., 0., 0., 0., 0., 0., 0.,\n        0., 0., 0., 0., 0., 0., 0., 0., 0., 0., 0., 0., 0., 0.],\n       [0., 0., 0., 0., 0., 0., 0., 0., 0., 0., 0., 0., 0., 0., 0., 0.,\n        0., 0., 0., 0., 0., 0., 0., 0., 0., 0., 0., 0., 0., 0.],\n       [0., 0., 0., 0., 0., 0., 0., 0., 0., 0., 0., 0., 0., 0., 0., 0.,\n        0., 0., 0., 0., 0., 0., 0., 0., 0., 0., 0., 0., 0., 0.],\n       [0., 0., 0., 0., 0., 0., 0., 0., 0., 0., 0., 0., 0., 0., 0., 0.,\n        0., 0., 0., 0., 0., 0., 0., 0., 0., 0., 0., 0., 0., 0.],\n       [0., 0., 0., 0., 0., 0., 0., 0., 0., 0., 0., 0., 0., 0., 0., 0.,\n        0., 0., 0., 0., 0., 0., 0., 0., 0., 0., 0., 0., 0., 0.],\n       [0., 0., 0., 0., 0., 0., 0., 0., 0., 0., 0., 0., 0., 0., 0., 0.,\n        0., 0., 0., 0., 0., 0., 0., 0., 0., 0., 0., 0., 0., 0.],\n       [0., 0., 0., 0., 0., 0., 0., 0., 0., 0., 0., 0., 0., 0., 0., 0.,\n        0., 0., 0., 0., 0., 0., 0., 0., 0., 0., 0., 0., 0., 0.],\n       [0., 0., 0., 0., 0., 0., 0., 0., 0., 0., 0., 0., 0., 0., 0., 0.,\n        0., 0., 0., 0., 0., 0., 0., 0., 0., 0., 0., 0., 0., 0.],\n       [0., 0., 0., 0., 0., 0., 0., 0., 0., 0., 0., 0., 0., 0., 0., 0.,\n        0., 0., 0., 0., 0., 0., 0., 0., 0., 0., 0., 0., 0., 0.],\n       [0., 0., 0., 0., 0., 0., 0., 0., 0., 0., 0., 0., 0., 0., 0., 0.,\n        0., 0., 0., 0., 0., 0., 0., 0., 0., 0., 0., 0., 0., 0.],\n       [0., 0., 0., 0., 0., 0., 0., 0., 0., 0., 0., 0., 0., 0., 0., 0.,\n        0., 0., 0., 0., 0., 0., 0., 0., 0., 0., 0., 0., 0., 0.],\n       [0., 0., 0., 0., 0., 0., 0., 0., 0., 0., 0., 0., 0., 0., 0., 0.,\n        0., 0., 0., 0., 0., 0., 0., 0., 0., 0., 0., 0., 0., 0.],\n       [0., 0., 0., 0., 0., 0., 0., 0., 0., 0., 0., 0., 0., 0., 0., 0.,\n        0., 0., 0., 0., 0., 0., 0., 0., 0., 0., 0., 0., 0., 0.],\n       [0., 0., 0., 0., 0., 0., 0., 0., 0., 0., 0., 0., 0., 0., 0., 0.,\n        0., 0., 0., 0., 0., 0., 0., 0., 0., 0., 0., 0., 0., 0.],\n       [0., 0., 0., 0., 0., 0., 0., 0., 0., 0., 0., 0., 0., 0., 0., 0.,\n        0., 0., 0., 0., 0., 0., 0., 0., 0., 0., 0., 0., 0., 0.],\n       [0., 0., 0., 0., 0., 0., 0., 0., 0., 0., 0., 0., 0., 0., 0., 0.,\n        0., 0., 0., 0., 0., 0., 0., 0., 0., 0., 0., 0., 0., 0.],\n       [0., 0., 0., 0., 0., 0., 0., 0., 0., 0., 0., 0., 0., 0., 0., 0.,\n        0., 0., 0., 0., 0., 0., 0., 0., 0., 0., 0., 0., 0., 0.],\n       [0., 0., 0., 0., 0., 0., 0., 0., 0., 0., 0., 0., 0., 0., 0., 0.,\n        0., 0., 0., 0., 0., 0., 0., 0., 0., 0., 0., 0., 0., 0.],\n       [0., 0., 0., 0., 0., 0., 0., 0., 0., 0., 0., 0., 0., 0., 0., 0.,\n        0., 0., 0., 0., 0., 0., 0., 0., 0., 0., 0., 0., 0., 0.],\n       [0., 0., 0., 0., 0., 0., 0., 0., 0., 0., 0., 0., 0., 0., 0., 0.,\n        0., 0., 0., 0., 0., 0., 0., 0., 0., 0., 0., 0., 0., 0.],\n       [0., 0., 0., 0., 0., 0., 0., 0., 0., 0., 0., 0., 0., 0., 0., 0.,\n        0., 0., 0., 0., 0., 0., 0., 0., 0., 0., 0., 0., 0., 0.],\n       [0., 0., 0., 0., 0., 0., 0., 0., 0., 0., 0., 0., 0., 0., 0., 0.,\n        0., 0., 0., 0., 0., 0., 0., 0., 0., 0., 0., 0., 0., 0.],\n       [0., 0., 0., 0., 0., 0., 0., 0., 0., 0., 0., 0., 0., 0., 0., 0.,\n        0., 0., 0., 0., 0., 0., 0., 0., 0., 0., 0., 0., 0., 0.],\n       [0., 0., 0., 0., 0., 0., 0., 0., 0., 0., 0., 0., 0., 0., 0., 0.,\n        0., 0., 0., 0., 0., 0., 0., 0., 0., 0., 0., 0., 0., 0.],\n       [0., 0., 0., 0., 0., 0., 0., 0., 0., 0., 0., 0., 0., 0., 0., 0.,\n        0., 0., 0., 0., 0., 0., 0., 0., 0., 0., 0., 0., 0., 0.],\n       [0., 0., 0., 0., 0., 0., 0., 0., 0., 0., 0., 0., 0., 0., 0., 0.,\n        0., 0., 0., 0., 0., 0., 0., 0., 0., 0., 0., 0., 0., 0.],\n       [0., 0., 0., 0., 0., 0., 0., 0., 0., 0., 0., 0., 0., 0., 0., 0.,\n        0., 0., 0., 0., 0., 0., 0., 0., 0., 0., 0., 0., 0., 0.],\n       [0., 0., 0., 0., 0., 0., 0., 0., 0., 0., 0., 0., 0., 0., 0., 0.,\n        0., 0., 0., 0., 0., 0., 0., 0., 0., 0., 0., 0., 0., 0.],\n       [0., 0., 0., 0., 0., 0., 0., 0., 0., 0., 0., 0., 0., 0., 0., 0.,\n        0., 0., 0., 0., 0., 0., 0., 0., 0., 0., 0., 0., 0., 0.],\n       [0., 0., 0., 0., 0., 0., 0., 0., 0., 0., 0., 0., 0., 0., 0., 0.,\n        0., 0., 0., 0., 0., 0., 0., 0., 0., 0., 0., 0., 0., 0.]])"
     },
     "execution_count": 63,
     "metadata": {},
     "output_type": "execute_result"
    }
   ],
   "source": [
    "BigDiffIndices = np.where(disMat.detach().numpy().flatten() > 0.1)[0].tolist()"
   ],
   "metadata": {
    "collapsed": false
   }
  },
  {
   "cell_type": "code",
   "execution_count": 67,
   "outputs": [],
   "source": [
    "len(BigDiffIndices)"
   ],
   "metadata": {
    "collapsed": false
   }
  },
  {
   "cell_type": "code",
   "execution_count": 68,
   "outputs": [
    {
     "data": {
      "text/plain": "array([[0.    , 1.    , 0.    , 0.    , 1.    , 0.    , 0.    , 0.05  ,\n        0.    , 0.05  , 1.    , 0.745 , 0.    , 0.    , 0.    , 1.    ,\n        1.    , 0.965 , 1.    , 0.    , 1.    , 1.    , 1.    , 1.    ,\n        0.15  , 0.    , 0.84  , 1.    , 0.    , 1.    ],\n       [1.    , 0.    , 1.    , 1.    , 0.    , 1.    , 1.    , 1.    ,\n        1.    , 0.95  , 1.    , 1.    , 1.    , 1.    , 1.    , 0.05  ,\n        0.    , 1.    , 0.    , 1.    , 0.    , 1.    , 0.95  , 0.    ,\n        0.95  , 1.    , 1.    , 0.    , 1.    , 0.    ],\n       [0.    , 1.    , 0.    , 0.    , 1.    , 0.    , 0.    , 0.05  ,\n        0.    , 0.05  , 1.    , 0.7475, 0.    , 0.    , 0.    , 1.    ,\n        1.    , 0.9725, 1.    , 0.    , 1.    , 1.    , 1.    , 1.    ,\n        0.15  , 0.    , 0.85  , 1.    , 0.    , 1.    ],\n       [0.    , 1.    , 0.    , 0.    , 1.    , 0.    , 0.    , 0.05  ,\n        0.    , 0.05  , 1.    , 0.7475, 0.    , 0.    , 0.    , 1.    ,\n        1.    , 0.96  , 1.    , 0.    , 1.    , 1.    , 1.    , 1.    ,\n        0.15  , 0.    , 0.85  , 1.    , 0.    , 1.    ],\n       [1.    , 0.    , 1.    , 1.    , 0.    , 1.    , 1.    , 1.    ,\n        1.    , 0.95  , 1.    , 1.    , 1.    , 1.    , 1.    , 0.05  ,\n        0.    , 1.    , 0.    , 1.    , 0.    , 1.    , 0.95  , 0.    ,\n        0.95  , 1.    , 1.    , 0.    , 1.    , 0.    ],\n       [0.    , 1.    , 0.    , 0.    , 1.    , 0.    , 0.    , 0.05  ,\n        0.    , 0.05  , 1.    , 0.7475, 0.    , 0.    , 0.    , 1.    ,\n        1.    , 0.955 , 1.    , 0.    , 1.    , 1.    , 1.    , 1.    ,\n        0.15  , 0.    , 0.85  , 1.    , 0.    , 1.    ],\n       [0.    , 1.    , 0.    , 0.    , 1.    , 0.    , 0.    , 0.045 ,\n        0.    , 0.05  , 1.    , 0.665 , 0.    , 0.    , 0.    , 1.    ,\n        1.    , 0.9625, 1.    , 0.    , 1.    , 1.    , 0.995 , 1.    ,\n        0.15  , 0.    , 0.7675, 1.    , 0.    , 1.    ],\n       [0.05  , 1.    , 0.05  , 0.05  , 1.    , 0.05  , 0.045 , 0.095 ,\n        0.05  , 0.0925, 1.    , 0.6775, 0.05  , 0.05  , 0.05  , 1.    ,\n        1.    , 0.95  , 1.    , 0.0475, 1.    , 1.    , 0.995 , 1.    ,\n        0.19  , 0.05  , 0.6675, 1.    , 0.05  , 1.    ],\n       [0.    , 1.    , 0.    , 0.    , 1.    , 0.    , 0.    , 0.05  ,\n        0.    , 0.05  , 1.    , 0.745 , 0.    , 0.    , 0.    , 1.    ,\n        1.    , 0.9675, 1.    , 0.    , 1.    , 1.    , 1.    , 1.    ,\n        0.15  , 0.    , 0.845 , 1.    , 0.    , 1.    ],\n       [0.05  , 0.95  , 0.05  , 0.05  , 0.95  , 0.05  , 0.05  , 0.0925,\n        0.05  , 0.095 , 1.    , 0.6575, 0.05  , 0.05  , 0.05  , 0.9525,\n        0.95  , 0.955 , 0.95  , 0.05  , 0.95  , 1.    , 0.99  , 0.95  ,\n        0.19  , 0.05  , 0.725 , 0.95  , 0.05  , 0.95  ],\n       [1.    , 1.    , 1.    , 1.    , 1.    , 1.    , 1.    , 1.    ,\n        1.    , 1.    , 0.    , 1.    , 1.    , 1.    , 1.    , 0.95  ,\n        1.    , 1.    , 1.    , 1.    , 1.    , 0.    , 0.1   , 1.    ,\n        0.9   , 1.    , 1.    , 1.    , 1.    , 1.    ],\n       [0.745 , 1.    , 0.7475, 0.7475, 1.    , 0.7475, 0.665 , 0.6775,\n        0.745 , 0.6575, 1.    , 0.285 , 0.7425, 0.7325, 0.7325, 1.    ,\n        1.    , 0.91  , 1.    , 0.6825, 1.    , 1.    , 0.96  , 1.    ,\n        0.7425, 0.7425, 0.2675, 1.    , 0.73  , 1.    ],\n       [0.    , 1.    , 0.    , 0.    , 1.    , 0.    , 0.    , 0.05  ,\n        0.    , 0.05  , 1.    , 0.7425, 0.    , 0.    , 0.    , 1.    ,\n        1.    , 0.9775, 1.    , 0.    , 1.    , 1.    , 1.    , 1.    ,\n        0.15  , 0.    , 0.8475, 1.    , 0.    , 1.    ],\n       [0.    , 1.    , 0.    , 0.    , 1.    , 0.    , 0.    , 0.05  ,\n        0.    , 0.05  , 1.    , 0.7325, 0.    , 0.    , 0.    , 1.    ,\n        1.    , 0.965 , 1.    , 0.    , 1.    , 1.    , 0.9975, 1.    ,\n        0.15  , 0.    , 0.7975, 1.    , 0.    , 1.    ],\n       [0.    , 1.    , 0.    , 0.    , 1.    , 0.    , 0.    , 0.05  ,\n        0.    , 0.05  , 1.    , 0.7325, 0.    , 0.    , 0.    , 1.    ,\n        1.    , 0.965 , 1.    , 0.    , 1.    , 1.    , 1.    , 1.    ,\n        0.15  , 0.    , 0.845 , 1.    , 0.    , 1.    ],\n       [1.    , 0.05  , 1.    , 1.    , 0.05  , 1.    , 1.    , 1.    ,\n        1.    , 0.9525, 0.95  , 1.    , 1.    , 1.    , 1.    , 0.095 ,\n        0.05  , 1.    , 0.05  , 1.    , 0.05  , 0.95  , 0.9075, 0.05  ,\n        0.9475, 1.    , 1.    , 0.05  , 1.    , 0.05  ],\n       [1.    , 0.    , 1.    , 1.    , 0.    , 1.    , 1.    , 1.    ,\n        1.    , 0.95  , 1.    , 1.    , 1.    , 1.    , 1.    , 0.05  ,\n        0.    , 1.    , 0.    , 1.    , 0.    , 1.    , 0.95  , 0.    ,\n        0.95  , 1.    , 1.    , 0.    , 1.    , 0.    ],\n       [0.965 , 1.    , 0.9725, 0.96  , 1.    , 0.955 , 0.9625, 0.95  ,\n        0.9675, 0.955 , 1.    , 0.91  , 0.9775, 0.965 , 0.965 , 1.    ,\n        1.    , 0.09  , 1.    , 0.9625, 1.    , 1.    , 0.995 , 1.    ,\n        0.975 , 0.9625, 0.9075, 1.    , 0.9575, 1.    ],\n       [1.    , 0.    , 1.    , 1.    , 0.    , 1.    , 1.    , 1.    ,\n        1.    , 0.95  , 1.    , 1.    , 1.    , 1.    , 1.    , 0.05  ,\n        0.    , 1.    , 0.    , 1.    , 0.    , 1.    , 0.95  , 0.    ,\n        0.95  , 1.    , 1.    , 0.    , 1.    , 0.    ],\n       [0.    , 1.    , 0.    , 0.    , 1.    , 0.    , 0.    , 0.0475,\n        0.    , 0.05  , 1.    , 0.6825, 0.    , 0.    , 0.    , 1.    ,\n        1.    , 0.9625, 1.    , 0.    , 1.    , 1.    , 0.9975, 1.    ,\n        0.15  , 0.    , 0.75  , 1.    , 0.    , 1.    ],\n       [1.    , 0.    , 1.    , 1.    , 0.    , 1.    , 1.    , 1.    ,\n        1.    , 0.95  , 1.    , 1.    , 1.    , 1.    , 1.    , 0.05  ,\n        0.    , 1.    , 0.    , 1.    , 0.    , 1.    , 0.95  , 0.    ,\n        0.95  , 1.    , 1.    , 0.    , 1.    , 0.    ],\n       [1.    , 1.    , 1.    , 1.    , 1.    , 1.    , 1.    , 1.    ,\n        1.    , 1.    , 0.    , 1.    , 1.    , 1.    , 1.    , 0.95  ,\n        1.    , 1.    , 1.    , 1.    , 1.    , 0.    , 0.1   , 1.    ,\n        0.9   , 1.    , 1.    , 1.    , 1.    , 1.    ],\n       [1.    , 0.95  , 1.    , 1.    , 0.95  , 1.    , 0.995 , 0.995 ,\n        1.    , 0.99  , 0.1   , 0.96  , 1.    , 0.9975, 1.    , 0.9075,\n        0.95  , 0.995 , 0.95  , 0.9975, 0.95  , 0.1   , 0.185 , 0.95  ,\n        0.905 , 1.    , 0.9575, 0.95  , 0.995 , 0.95  ],\n       [1.    , 0.    , 1.    , 1.    , 0.    , 1.    , 1.    , 1.    ,\n        1.    , 0.95  , 1.    , 1.    , 1.    , 1.    , 1.    , 0.05  ,\n        0.    , 1.    , 0.    , 1.    , 0.    , 1.    , 0.95  , 0.    ,\n        0.95  , 1.    , 1.    , 0.    , 1.    , 0.    ],\n       [0.15  , 0.95  , 0.15  , 0.15  , 0.95  , 0.15  , 0.15  , 0.19  ,\n        0.15  , 0.19  , 0.9   , 0.7425, 0.15  , 0.15  , 0.15  , 0.9475,\n        0.95  , 0.975 , 0.95  , 0.15  , 0.95  , 0.9   , 0.905 , 0.95  ,\n        0.265 , 0.15  , 0.8225, 0.95  , 0.15  , 0.95  ],\n       [0.    , 1.    , 0.    , 0.    , 1.    , 0.    , 0.    , 0.05  ,\n        0.    , 0.05  , 1.    , 0.7425, 0.    , 0.    , 0.    , 1.    ,\n        1.    , 0.9625, 1.    , 0.    , 1.    , 1.    , 1.    , 1.    ,\n        0.15  , 0.    , 0.82  , 1.    , 0.    , 1.    ],\n       [0.84  , 1.    , 0.85  , 0.85  , 1.    , 0.85  , 0.7675, 0.6675,\n        0.845 , 0.725 , 1.    , 0.2675, 0.8475, 0.7975, 0.845 , 1.    ,\n        1.    , 0.9075, 1.    , 0.75  , 1.    , 1.    , 0.9575, 1.    ,\n        0.8225, 0.82  , 0.19  , 1.    , 0.7775, 1.    ],\n       [1.    , 0.    , 1.    , 1.    , 0.    , 1.    , 1.    , 1.    ,\n        1.    , 0.95  , 1.    , 1.    , 1.    , 1.    , 1.    , 0.05  ,\n        0.    , 1.    , 0.    , 1.    , 0.    , 1.    , 0.95  , 0.    ,\n        0.95  , 1.    , 1.    , 0.    , 1.    , 0.    ],\n       [0.    , 1.    , 0.    , 0.    , 1.    , 0.    , 0.    , 0.05  ,\n        0.    , 0.05  , 1.    , 0.73  , 0.    , 0.    , 0.    , 1.    ,\n        1.    , 0.9575, 1.    , 0.    , 1.    , 1.    , 0.995 , 1.    ,\n        0.15  , 0.    , 0.7775, 1.    , 0.    , 1.    ],\n       [1.    , 0.    , 1.    , 1.    , 0.    , 1.    , 1.    , 1.    ,\n        1.    , 0.95  , 1.    , 1.    , 1.    , 1.    , 1.    , 0.05  ,\n        0.    , 1.    , 0.    , 1.    , 0.    , 1.    , 0.95  , 0.    ,\n        0.95  , 1.    , 1.    , 0.    , 1.    , 0.    ]])"
     },
     "execution_count": 68,
     "metadata": {},
     "output_type": "execute_result"
    }
   ],
   "source": [
    "vizMat = np.zeros([30,30])\n",
    "vizMat"
   ],
   "metadata": {
    "collapsed": false
   }
  },
  {
   "cell_type": "code",
   "execution_count": 69,
   "outputs": [
    {
     "data": {
      "text/plain": "<matplotlib.image.AxesImage at 0x2b83f1330>"
     },
     "execution_count": 69,
     "metadata": {},
     "output_type": "execute_result"
    },
    {
     "data": {
      "text/plain": "<Figure size 288x288 with 1 Axes>",
      "image/png": "[encoded data removed]"
     },
     "metadata": {
      "needs_background": "light"
     },
     "output_type": "display_data"
    }
   ],
   "source": [
    "for index in BigDiffIndices:\n",
    "    row, col = divmod(index,600)\n",
    "    cat1, cat2 = int(label_np[row]),int(label_np[col])\n",
    "    #print(cat1,cat2, (cat1 == cat2))\n",
    "    vizMat[cat1,cat2] += 1\n",
    "    vizMat[cat2,cat1] += 1\n"
   ],
   "metadata": {
    "collapsed": false
   }
  },
  {
   "cell_type": "code",
   "execution_count": 219,
   "outputs": [
    {
     "data": {
      "text/plain": "array([[0.    , 1.    , 0.0475, 1.    , 1.    , 1.    , 1.    , 1.    ,\n        1.    , 1.    , 1.    , 1.    , 0.15  , 0.85  , 0.045 , 1.    ,\n        1.    , 1.    , 1.    , 0.    , 1.    , 1.    , 1.    , 1.    ,\n        0.2   , 1.    , 1.    , 1.    , 0.2   , 1.    ],\n       [1.    , 0.    , 1.    , 1.    , 1.    , 1.    , 1.    , 1.    ,\n        1.    , 1.    , 1.    , 1.    , 1.    , 1.    , 1.    , 1.    ,\n        1.    , 1.    , 1.    , 1.    , 1.    , 1.    , 1.    , 1.    ,\n        1.    , 1.    , 1.    , 1.    , 1.    , 1.    ],\n       [0.0475, 1.    , 0.04  , 1.    , 1.    , 1.    , 1.    , 1.    ,\n        1.    , 1.    , 1.    , 1.    , 0.14  , 0.8575, 0.0175, 1.    ,\n        1.    , 1.    , 1.    , 0.0325, 1.    , 1.    , 1.    , 1.    ,\n        0.1975, 1.    , 1.    , 1.    , 0.2075, 1.    ],\n       [1.    , 1.    , 1.    , 0.255 , 1.    , 1.    , 0.185 , 0.98  ,\n        1.    , 0.94  , 1.    , 1.    , 1.    , 1.    , 1.    , 0.85  ,\n        1.    , 1.    , 1.    , 1.    , 1.    , 1.    , 1.    , 1.    ,\n        1.    , 1.    , 0.96  , 1.    , 1.    , 1.    ],\n       [1.    , 1.    , 1.    , 1.    , 0.    , 1.    , 1.    , 1.    ,\n        1.    , 1.    , 1.    , 1.    , 1.    , 1.    , 1.    , 1.    ,\n        1.    , 1.    , 1.    , 1.    , 0.9925, 1.    , 1.    , 1.    ,\n        1.    , 1.    , 1.    , 1.    , 1.    , 1.    ],\n       [1.    , 1.    , 1.    , 1.    , 1.    , 0.4   , 1.    , 1.    ,\n        1.    , 1.    , 1.    , 1.    , 1.    , 1.    , 1.    , 1.    ,\n        1.    , 1.    , 1.    , 1.    , 1.    , 0.9725, 1.    , 1.    ,\n        1.    , 1.    , 1.    , 1.    , 1.    , 0.99  ],\n       [1.    , 1.    , 1.    , 0.185 , 1.    , 1.    , 0.095 , 1.    ,\n        1.    , 0.86  , 1.    , 1.    , 1.    , 1.    , 1.    , 0.5925,\n        1.    , 1.    , 1.    , 1.    , 1.    , 1.    , 1.    , 1.    ,\n        1.    , 1.    , 0.9975, 1.    , 1.    , 1.    ],\n       [1.    , 1.    , 1.    , 0.98  , 1.    , 1.    , 1.    , 0.1   ,\n        1.    , 1.    , 1.    , 1.    , 1.    , 1.    , 1.    , 1.    ,\n        1.    , 1.    , 1.    , 1.    , 1.    , 1.    , 1.    , 1.    ,\n        1.    , 1.    , 1.    , 1.    , 1.    , 1.    ],\n       [1.    , 1.    , 1.    , 1.    , 1.    , 1.    , 1.    , 1.    ,\n        0.    , 1.    , 1.    , 1.    , 1.    , 0.215 , 1.    , 1.    ,\n        1.    , 1.    , 1.    , 1.    , 1.    , 1.    , 1.    , 1.    ,\n        1.    , 1.    , 1.    , 1.    , 1.    , 1.    ],\n       [1.    , 1.    , 1.    , 0.94  , 1.    , 1.    , 0.86  , 1.    ,\n        1.    , 0.18  , 1.    , 1.    , 1.    , 1.    , 1.    , 0.7925,\n        1.    , 1.    , 1.    , 1.    , 1.    , 1.    , 1.    , 1.    ,\n        1.    , 1.    , 1.    , 1.    , 1.    , 1.    ],\n       [1.    , 1.    , 1.    , 1.    , 1.    , 1.    , 1.    , 1.    ,\n        1.    , 1.    , 0.095 , 1.    , 1.    , 1.    , 1.    , 1.    ,\n        1.    , 0.99  , 1.    , 1.    , 1.    , 0.8475, 0.95  , 1.    ,\n        1.    , 1.    , 1.    , 1.    , 1.    , 0.9875],\n       [1.    , 1.    , 1.    , 1.    , 1.    , 1.    , 1.    , 1.    ,\n        1.    , 1.    , 1.    , 0.    , 1.    , 1.    , 1.    , 1.    ,\n        1.    , 1.    , 1.    , 1.    , 1.    , 1.    , 1.    , 1.    ,\n        1.    , 1.    , 1.    , 1.    , 1.    , 1.    ],\n       [0.15  , 1.    , 0.14  , 1.    , 1.    , 1.    , 1.    , 1.    ,\n        1.    , 1.    , 1.    , 1.    , 0.205 , 0.8725, 0.1325, 1.    ,\n        1.    , 1.    , 1.    , 0.145 , 1.    , 1.    , 1.    , 1.    ,\n        0.2225, 1.    , 1.    , 1.    , 0.295 , 1.    ],\n       [0.85  , 1.    , 0.8575, 1.    , 1.    , 1.    , 1.    , 1.    ,\n        0.215 , 1.    , 1.    , 1.    , 0.8725, 0.4   , 0.8575, 1.    ,\n        1.    , 1.    , 1.    , 0.85  , 1.    , 1.    , 1.    , 1.    ,\n        0.88  , 1.    , 1.    , 1.    , 0.8775, 1.    ],\n       [0.045 , 1.    , 0.0175, 1.    , 1.    , 1.    , 1.    , 1.    ,\n        1.    , 1.    , 1.    , 1.    , 0.1325, 0.8575, 0.005 , 1.    ,\n        1.    , 1.    , 1.    , 0.0275, 1.    , 1.    , 1.    , 1.    ,\n        0.165 , 1.    , 1.    , 1.    , 0.2075, 1.    ],\n       [1.    , 1.    , 1.    , 0.85  , 1.    , 1.    , 0.5925, 1.    ,\n        1.    , 0.7925, 1.    , 1.    , 1.    , 1.    , 1.    , 0.265 ,\n        1.    , 1.    , 1.    , 1.    , 1.    , 1.    , 1.    , 1.    ,\n        1.    , 1.    , 0.995 , 1.    , 1.    , 1.    ],\n       [1.    , 1.    , 1.    , 1.    , 1.    , 1.    , 1.    , 1.    ,\n        1.    , 1.    , 1.    , 1.    , 1.    , 1.    , 1.    , 1.    ,\n        0.    , 1.    , 1.    , 1.    , 1.    , 1.    , 1.    , 1.    ,\n        1.    , 1.    , 1.    , 1.    , 1.    , 1.    ],\n       [1.    , 1.    , 1.    , 1.    , 1.    , 1.    , 1.    , 1.    ,\n        1.    , 1.    , 0.99  , 1.    , 1.    , 1.    , 1.    , 1.    ,\n        1.    , 0.    , 1.    , 1.    , 1.    , 0.9075, 1.    , 1.    ,\n        1.    , 1.    , 1.    , 1.    , 1.    , 1.    ],\n       [1.    , 1.    , 1.    , 1.    , 1.    , 1.    , 1.    , 1.    ,\n        1.    , 1.    , 1.    , 1.    , 1.    , 1.    , 1.    , 1.    ,\n        1.    , 1.    , 0.    , 1.    , 0.15  , 1.    , 1.    , 0.    ,\n        1.    , 1.    , 1.    , 0.    , 1.    , 1.    ],\n       [0.    , 1.    , 0.0325, 1.    , 1.    , 1.    , 1.    , 1.    ,\n        1.    , 1.    , 1.    , 1.    , 0.145 , 0.85  , 0.0275, 1.    ,\n        1.    , 1.    , 1.    , 0.    , 1.    , 1.    , 1.    , 1.    ,\n        0.1875, 1.    , 1.    , 1.    , 0.2   , 1.    ],\n       [1.    , 1.    , 1.    , 1.    , 0.9925, 1.    , 1.    , 1.    ,\n        1.    , 1.    , 1.    , 1.    , 1.    , 1.    , 1.    , 1.    ,\n        1.    , 1.    , 0.15  , 1.    , 0.18  , 1.    , 1.    , 0.15  ,\n        1.    , 1.    , 1.    , 0.085 , 1.    , 1.    ],\n       [1.    , 1.    , 1.    , 1.    , 1.    , 0.9725, 1.    , 1.    ,\n        1.    , 1.    , 0.8475, 1.    , 1.    , 1.    , 1.    , 1.    ,\n        1.    , 0.9075, 1.    , 1.    , 1.    , 0.605 , 0.9925, 1.    ,\n        1.    , 1.    , 1.    , 1.    , 1.    , 0.555 ],\n       [1.    , 1.    , 1.    , 1.    , 1.    , 1.    , 1.    , 1.    ,\n        1.    , 1.    , 0.95  , 1.    , 1.    , 1.    , 1.    , 1.    ,\n        1.    , 1.    , 1.    , 1.    , 1.    , 0.9925, 0.    , 1.    ,\n        1.    , 1.    , 1.    , 1.    , 1.    , 1.    ],\n       [1.    , 1.    , 1.    , 1.    , 1.    , 1.    , 1.    , 1.    ,\n        1.    , 1.    , 1.    , 1.    , 1.    , 1.    , 1.    , 1.    ,\n        1.    , 1.    , 0.    , 1.    , 0.15  , 1.    , 1.    , 0.    ,\n        1.    , 1.    , 1.    , 0.    , 1.    , 1.    ],\n       [0.2   , 1.    , 0.1975, 1.    , 1.    , 1.    , 1.    , 1.    ,\n        1.    , 1.    , 1.    , 1.    , 0.2225, 0.88  , 0.165 , 1.    ,\n        1.    , 1.    , 1.    , 0.1875, 1.    , 1.    , 1.    , 1.    ,\n        0.26  , 1.    , 1.    , 1.    , 0.325 , 1.    ],\n       [1.    , 1.    , 1.    , 1.    , 1.    , 1.    , 1.    , 1.    ,\n        1.    , 1.    , 1.    , 1.    , 1.    , 1.    , 1.    , 1.    ,\n        1.    , 1.    , 1.    , 1.    , 1.    , 1.    , 1.    , 1.    ,\n        1.    , 0.    , 1.    , 1.    , 1.    , 1.    ],\n       [1.    , 1.    , 1.    , 0.96  , 1.    , 1.    , 0.9975, 1.    ,\n        1.    , 1.    , 1.    , 1.    , 1.    , 1.    , 1.    , 0.995 ,\n        1.    , 1.    , 1.    , 1.    , 1.    , 1.    , 1.    , 1.    ,\n        1.    , 1.    , 0.095 , 1.    , 1.    , 1.    ],\n       [1.    , 1.    , 1.    , 1.    , 1.    , 1.    , 1.    , 1.    ,\n        1.    , 1.    , 1.    , 1.    , 1.    , 1.    , 1.    , 1.    ,\n        1.    , 1.    , 0.    , 1.    , 0.085 , 1.    , 1.    , 0.    ,\n        1.    , 1.    , 1.    , 0.    , 1.    , 1.    ],\n       [0.2   , 1.    , 0.2075, 1.    , 1.    , 1.    , 1.    , 1.    ,\n        1.    , 1.    , 1.    , 1.    , 0.295 , 0.8775, 0.2075, 1.    ,\n        1.    , 1.    , 1.    , 0.2   , 1.    , 1.    , 1.    , 1.    ,\n        0.325 , 1.    , 1.    , 1.    , 0.33  , 1.    ],\n       [1.    , 1.    , 1.    , 1.    , 1.    , 0.99  , 1.    , 1.    ,\n        1.    , 1.    , 0.9875, 1.    , 1.    , 1.    , 1.    , 1.    ,\n        1.    , 1.    , 1.    , 1.    , 1.    , 0.555 , 1.    , 1.    ,\n        1.    , 1.    , 1.    , 1.    , 1.    , 0.185 ]])"
     },
     "execution_count": 219,
     "metadata": {},
     "output_type": "execute_result"
    }
   ],
   "source": [
    "vizMat = vizMat / np.max(vizMat)\n",
    "vizMat"
   ],
   "metadata": {
    "collapsed": false
   }
  },
  {
   "cell_type": "code",
   "execution_count": 220,
   "outputs": [
    {
     "data": {
      "text/plain": "<matplotlib.image.AxesImage at 0x3546d81f0>"
     },
     "execution_count": 220,
     "metadata": {},
     "output_type": "execute_result"
    },
    {
     "data": {
      "text/plain": "<Figure size 288x288 with 1 Axes>",
      "image/png": "[encoded data removed]"
     },
     "metadata": {
      "needs_background": "light"
     },
     "output_type": "display_data"
    }
   ],
   "source": [
    "plt.matshow(vizMat)"
   ],
   "metadata": {
    "collapsed": false
   }
  }
 ],
 "metadata": {
  "kernelspec": {
   "display_name": "Python 3",
   "language": "python",
   "name": "python3"
  },
  "language_info": {
   "codemirror_mode": {
    "name": "ipython",
    "version": 2
   },
   "file_extension": ".py",
   "mimetype": "text/x-python",
   "name": "python",
   "nbconvert_exporter": "python",
   "pygments_lexer": "ipython2",
   "version": "2.7.6"
  }
 },
 "nbformat": 4,
 "nbformat_minor": 0
}
