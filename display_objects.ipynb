{
 "cells": [
  {
   "cell_type": "code",
   "execution_count": 40,
   "id": "4ee97da1-504a-4fc4-a02a-60933d5faf86",
   "metadata": {},
   "outputs": [],
   "source": [
    "import igl\n",
    "import scipy as sp\n",
    "import numpy as np\n",
    "from numpy import random\n",
    "from meshplot import plot, subplot, interact\n",
    "import meshplot as mp\n",
    "import plotly.graph_objects as go\n",
    "from matplotlib import pyplot as plt\n",
    "\n",
    "# igl \n",
    "import os\n",
    "root_folder = os.getcwd()"
   ]
  },
  {
   "cell_type": "code",
   "execution_count": 41,
   "id": "022a11a8-3890-41d2-898b-27fa415eced4",
   "metadata": {},
   "outputs": [],
   "source": [
    "mesh_dir = 'SHREC11/'   # name of directory"
   ]
  },
  {
   "cell_type": "code",
   "execution_count": 42,
   "id": "f4dac81f-6af1-490f-85f4-bccd70b1e594",
   "metadata": {},
   "outputs": [],
   "source": [
    "def display_single_object(num):\n",
    "    ## Load a mesh in OFF format\n",
    "    v, f = igl.read_triangle_mesh(os.path.join(root_folder, \"SHREC11\", \"T\"+str(num)+\".obj\"))\n",
    "    plot(v, f)"
   ]
  },
  {
   "cell_type": "code",
   "execution_count": 43,
   "id": "3e3dcc60-965e-41c7-9d3c-10a64bb5990a",
   "metadata": {},
   "outputs": [
    {
     "data": {
      "application/vnd.jupyter.widget-view+json": {
       "model_id": "cc21145e9b7b4516968510884a06a07b",
       "version_major": 2,
       "version_minor": 0
      },
      "text/plain": [
       "Renderer(camera=PerspectiveCamera(children=(DirectionalLight(color='white', intensity=0.6, position=(-0.165006…"
      ]
     },
     "metadata": {},
     "output_type": "display_data"
    }
   ],
   "source": [
    "display_single_object(99)"
   ]
  },
  {
   "cell_type": "code",
   "execution_count": 48,
   "id": "6de0181b-6c68-44f4-8724-4ba8c5d2aeca",
   "metadata": {},
   "outputs": [],
   "source": [
    "def display_multiple_objects(mylist):\n",
    "    for num in mylist:\n",
    "        v, f = igl.read_triangle_mesh(os.path.join(root_folder, \"SHREC11\", \"T\"+str(num)+\".obj\"))\n",
    "        plot(v, f)"
   ]
  },
  {
   "cell_type": "code",
   "execution_count": 49,
   "id": "755e8998-34dd-4432-b198-2711ecc140de",
   "metadata": {},
   "outputs": [
    {
     "name": "stdout",
     "output_type": "stream",
     "text": [
      "[ 90 580 194 409]\n"
     ]
    },
    {
     "data": {
      "application/vnd.jupyter.widget-view+json": {
       "model_id": "d797ebac147249a88a2f1e795637b12b",
       "version_major": 2,
       "version_minor": 0
      },
      "text/plain": [
       "Renderer(camera=PerspectiveCamera(children=(DirectionalLight(color='white', intensity=0.6, position=(0.0994715…"
      ]
     },
     "metadata": {},
     "output_type": "display_data"
    },
    {
     "data": {
      "application/vnd.jupyter.widget-view+json": {
       "model_id": "f180cb3a7c21451e9a762b2b1324ba95",
       "version_major": 2,
       "version_minor": 0
      },
      "text/plain": [
       "Renderer(camera=PerspectiveCamera(children=(DirectionalLight(color='white', intensity=0.6, position=(-0.036763…"
      ]
     },
     "metadata": {},
     "output_type": "display_data"
    },
    {
     "data": {
      "application/vnd.jupyter.widget-view+json": {
       "model_id": "130b22acb3b14f12bfd80e87111e5186",
       "version_major": 2,
       "version_minor": 0
      },
      "text/plain": [
       "Renderer(camera=PerspectiveCamera(children=(DirectionalLight(color='white', intensity=0.6, position=(-0.063939…"
      ]
     },
     "metadata": {},
     "output_type": "display_data"
    },
    {
     "data": {
      "application/vnd.jupyter.widget-view+json": {
       "model_id": "1f52fdc9903242bfabd9cc52123f5beb",
       "version_major": 2,
       "version_minor": 0
      },
      "text/plain": [
       "Renderer(camera=PerspectiveCamera(children=(DirectionalLight(color='white', intensity=0.6, position=(0.0841820…"
      ]
     },
     "metadata": {},
     "output_type": "display_data"
    }
   ],
   "source": [
    "mylist=np.random.randint(599, size=(4))\n",
    "print(mylist)\n",
    "display_multiple_objects(mylist) "
   ]
  },
  {
   "cell_type": "code",
   "execution_count": null,
   "id": "a6c4f1fb-7007-46ed-83cf-5ace3a0609b8",
   "metadata": {},
   "outputs": [],
   "source": []
  }
 ],
 "metadata": {
  "kernelspec": {
   "display_name": "Python 3 (ipykernel)",
   "language": "python",
   "name": "python3"
  },
  "language_info": {
   "codemirror_mode": {
    "name": "ipython",
    "version": 3
   },
   "file_extension": ".py",
   "mimetype": "text/x-python",
   "name": "python",
   "nbconvert_exporter": "python",
   "pygments_lexer": "ipython3",
   "version": "3.10.9"
  }
 },
 "nbformat": 4,
 "nbformat_minor": 5
}
