{
 "cells": [
  {
   "cell_type": "code",
   "execution_count": 1,
   "id": "4ee97da1-504a-4fc4-a02a-60933d5faf86",
   "metadata": {},
   "outputs": [],
   "source": [
    "import igl\n",
    "import scipy as sp\n",
    "import numpy as np\n",
    "from numpy import random\n",
    "from meshplot import plot, subplot, interact\n",
    "import meshplot as mp\n",
    "import plotly.graph_objects as go\n",
    "from matplotlib import pyplot as plt\n",
    "\n",
    "# igl \n",
    "import os\n",
    "root_folder = os.getcwd()"
   ]
  },
  {
   "cell_type": "code",
   "execution_count": 2,
   "id": "022a11a8-3890-41d2-898b-27fa415eced4",
   "metadata": {},
   "outputs": [],
   "source": [
    "mesh_dir = 'SHREC11/'   # name of directory"
   ]
  },
  {
   "cell_type": "code",
   "execution_count": 3,
   "id": "f4dac81f-6af1-490f-85f4-bccd70b1e594",
   "metadata": {},
   "outputs": [],
   "source": [
    "# takes in a number and displays object associated with the number \n",
    "def display_single_object(num):\n",
    "    ## Load a mesh in OFF format\n",
    "    v, f = igl.read_triangle_mesh(os.path.join(root_folder, \"SHREC11\", \"T\"+str(num)+\".obj\"))\n",
    "    plot(v, f)"
   ]
  },
  {
   "cell_type": "code",
   "execution_count": 4,
   "id": "3e3dcc60-965e-41c7-9d3c-10a64bb5990a",
   "metadata": {},
   "outputs": [
    {
     "data": {
      "application/vnd.jupyter.widget-view+json": {
       "model_id": "9f8ffdde74b441f593487b5de94c306e",
       "version_major": 2,
       "version_minor": 0
      },
      "text/plain": [
       "Renderer(camera=PerspectiveCamera(children=(DirectionalLight(color='white', intensity=0.6, position=(-0.165006…"
      ]
     },
     "metadata": {},
     "output_type": "display_data"
    }
   ],
   "source": [
    "display_single_object(99)"
   ]
  },
  {
   "cell_type": "code",
   "execution_count": 5,
   "id": "6de0181b-6c68-44f4-8724-4ba8c5d2aeca",
   "metadata": {},
   "outputs": [],
   "source": [
    "# takes in a list of numbers and displays all objects associated with the numbers \n",
    "def display_multiple_objects(mylist):\n",
    "    for num in mylist:\n",
    "        v, f = igl.read_triangle_mesh(os.path.join(root_folder, \"SHREC11\", \"T\"+str(num)+\".obj\"))\n",
    "        plot(v, f)"
   ]
  },
  {
   "cell_type": "code",
   "execution_count": 6,
   "id": "755e8998-34dd-4432-b198-2711ecc140de",
   "metadata": {},
   "outputs": [
    {
     "name": "stdout",
     "output_type": "stream",
     "text": [
      "[ 68  31 446  61]\n"
     ]
    },
    {
     "data": {
      "application/vnd.jupyter.widget-view+json": {
       "model_id": "ace46dca2e08491dba61d63f2da4098c",
       "version_major": 2,
       "version_minor": 0
      },
      "text/plain": [
       "Renderer(camera=PerspectiveCamera(children=(DirectionalLight(color='white', intensity=0.6, position=(-0.149406…"
      ]
     },
     "metadata": {},
     "output_type": "display_data"
    },
    {
     "data": {
      "application/vnd.jupyter.widget-view+json": {
       "model_id": "94ea7d96231b46d4b9209e3522c4d616",
       "version_major": 2,
       "version_minor": 0
      },
      "text/plain": [
       "Renderer(camera=PerspectiveCamera(children=(DirectionalLight(color='white', intensity=0.6, position=(0.0292040…"
      ]
     },
     "metadata": {},
     "output_type": "display_data"
    },
    {
     "data": {
      "application/vnd.jupyter.widget-view+json": {
       "model_id": "ac7f31fbb17448b7ad2baf9989f8973c",
       "version_major": 2,
       "version_minor": 0
      },
      "text/plain": [
       "Renderer(camera=PerspectiveCamera(children=(DirectionalLight(color='white', intensity=0.6, position=(0.0792514…"
      ]
     },
     "metadata": {},
     "output_type": "display_data"
    },
    {
     "data": {
      "application/vnd.jupyter.widget-view+json": {
       "model_id": "fb175d25ad784925a1076e48381a0bfc",
       "version_major": 2,
       "version_minor": 0
      },
      "text/plain": [
       "Renderer(camera=PerspectiveCamera(children=(DirectionalLight(color='white', intensity=0.6, position=(0.0548184…"
      ]
     },
     "metadata": {},
     "output_type": "display_data"
    }
   ],
   "source": [
    "mylist=np.random.randint(599, size=(4))\n",
    "print(mylist)\n",
    "display_multiple_objects(mylist) "
   ]
  },
  {
   "cell_type": "code",
   "execution_count": null,
   "id": "a6c4f1fb-7007-46ed-83cf-5ace3a0609b8",
   "metadata": {},
   "outputs": [],
   "source": [
    "print(\"version\", meshplot.__version__)"
   ]
  },
  {
   "cell_type": "code",
   "execution_count": null,
   "id": "318e1601-bb50-40a3-805e-880a370deec4",
   "metadata": {},
   "outputs": [],
   "source": [
    "print(\"version\", plot.__version__)"
   ]
  },
  {
   "cell_type": "code",
   "execution_count": null,
   "id": "28bf5e9a-f4a7-403f-b809-b52e76fa3782",
   "metadata": {},
   "outputs": [],
   "source": []
  }
 ],
 "metadata": {
  "kernelspec": {
   "display_name": "Python 3 (ipykernel)",
   "language": "python",
   "name": "python3"
  },
  "language_info": {
   "codemirror_mode": {
    "name": "ipython",
    "version": 3
   },
   "file_extension": ".py",
   "mimetype": "text/x-python",
   "name": "python",
   "nbconvert_exporter": "python",
   "pygments_lexer": "ipython3",
   "version": "3.10.9"
  }
 },
 "nbformat": 4,
 "nbformat_minor": 5
}
