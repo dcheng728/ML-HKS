{
 "cells": [
  {
   "cell_type": "code",
   "execution_count": 7,
   "id": "895cafcf",
   "metadata": {},
   "outputs": [],
   "source": [
    "import os\n",
    "\n",
    "%run helpers_preproc.ipynb"
   ]
  },
  {
   "cell_type": "code",
   "execution_count": 8,
   "id": "04306a7b",
   "metadata": {},
   "outputs": [],
   "source": [
    "# this file copy shrec11 and save in a new dir\n",
    "# function picks two objects"
   ]
  },
  {
   "cell_type": "code",
   "execution_count": 9,
   "id": "51c1ffe6",
   "metadata": {},
   "outputs": [],
   "source": [
    "def pick_copy(origDir, newDir, obj1, obj2):\n",
    "    #first delete everything in newDir (so less likely to run into random errors)\n",
    "    files = glob.glob(newDir + '*')\n",
    "    for f in files:\n",
    "        os.remove(f)\n",
    "    \n",
    "    # take out two objects and put them in the new directory\n",
    "    labels = readLbl(600 , origDir + \"labels.txt\")\n",
    "    obj1_list = np.where(labels == obj1)\n",
    "    obj2_list = np.where(labels == obj2)\n",
    "    \n",
    "    # write those files in the new directory\n",
    "    for i in range(len(obj1_list[0])):\n",
    "    \n",
    "        # get obj1 files\n",
    "    v, f = igl.read_triangle_mesh(origDir + \"T\" + str(obj1_list[0][i]) + \".obj\")\n",
    "    file = open(newDir + \"T\" + str(obj1_list[0][i]) + \".obj\", \"w\")\n",
    "    igl.write_obj(newDir + \"T\" + str(obj1_list[0][i]) + \".obj\", v, f)\n",
    "    newLabelFile.write(\"T\" + str(obj1_list[0][i]) + \".obj\" + \" \" + str(obj1) + \"\\n\")            \n",
    "    # get obj2 files\n",
    "    v, f = igl.read_triangle_mesh(origDir + \"T\" + str(obj2_list[0][i]) + \".obj\")\n",
    "    file = open(newDir + \"T\" + str(obj2_list[0][i]) + \".obj\", \"w\")\n",
    "    igl.write_obj(newDir + \"T\" + str(obj2_list[0][i]) + \".obj\", v, f)\n",
    "    newLabelFile.write(\"T\" + str(obj2_list[0][i]) + \".obj\" + \" \" + str(obj2) + \"\\n\") \n",
    "\n",
    "newLabelFile.close()"
   ]
  },
  {
   "cell_type": "code",
   "execution_count": null,
   "id": "bec7f579",
   "metadata": {},
   "outputs": [],
   "source": []
  }
 ],
 "metadata": {
  "kernelspec": {
   "display_name": "Python 3 (ipykernel)",
   "language": "python",
   "name": "python3"
  },
  "language_info": {
   "codemirror_mode": {
    "name": "ipython",
    "version": 3
   },
   "file_extension": ".py",
   "mimetype": "text/x-python",
   "name": "python",
   "nbconvert_exporter": "python",
   "pygments_lexer": "ipython3",
   "version": "3.10.9"
  }
 },
 "nbformat": 4,
 "nbformat_minor": 5
}
