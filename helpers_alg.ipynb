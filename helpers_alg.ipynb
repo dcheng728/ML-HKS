{
 "cells": [
  {
   "cell_type": "code",
   "execution_count": 48,
   "metadata": {
    "tags": []
   },
   "outputs": [],
   "source": [
    "import torch\n",
    "import cv2 # OpenCV-Python is a library of Python bindings designed to solve computer vision problems / displays an image \n",
    "import numpy as np\n",
    "import matplotlib.pyplot as plt\n",
    "import networkx as nx\n",
    "from sklearn import neighbors"
   ]
  },
  {
   "cell_type": "code",
   "execution_count": 49,
   "metadata": {},
   "outputs": [
    {
     "data": {
      "text/plain": [
       "'C:\\\\Users\\\\Hset Hset Naing\\\\anaconda3\\\\envs\\\\TSM\\\\python.exe'"
      ]
     },
     "execution_count": 49,
     "metadata": {},
     "output_type": "execute_result"
    }
   ],
   "source": [
    "import sys\n",
    "sys.executable"
   ]
  },
  {
   "cell_type": "code",
   "execution_count": 50,
   "metadata": {
    "collapsed": false,
    "jupyter": {
     "outputs_hidden": false
    }
   },
   "outputs": [],
   "source": [
    "def draw_ellipse(canvas,a,b):\n",
    "    #draw a random ellipse\n",
    "\n",
    "    h,w = canvas.shape[0], canvas.shape[1]\n",
    "    center_y = int((h-1)/2)  #np.random.randint(-h/4,h/4) + int(h/2)\n",
    "    center_x = int((w-1)/2) #np.random.randint(-w/4,w/4) + int(w/2)\n",
    "    axis1 = np.random.randint(a/2,a)\n",
    "    axis2 = np.random.randint(b/2,b)\n",
    "    angle = np.random.rand() * 90\n",
    "\n",
    "    return cv2.ellipse(canvas,(center_x,center_y),(axis1,axis2),angle, 0,360,(1,1,1),thickness=-1)"
   ]
  },
  {
   "cell_type": "code",
   "execution_count": 47,
   "metadata": {},
   "outputs": [
    {
     "name": "stdout",
     "output_type": "stream",
     "text": [
      "pts [[-9 -9]\n",
      " [-8 -6]\n",
      " [-5 -7]]\n",
      "reshape [[1 2]\n",
      " [3 8]\n",
      " [4 5]\n",
      " [6 7]]\n"
     ]
    }
   ],
   "source": [
    "# test \n",
    "pts = np.array([[1,1], [2,4], [5,3]])\n",
    "    \n",
    "pts = pts - np.array([10,10])\n",
    "\n",
    "print(\"pts\", pts)\n",
    "\n",
    "a = np.array([[1,2,3,8], [4,5,6,7]])\n",
    "print(\"reshape\", np.reshape(a, (4,-1)))"
   ]
  },
  {
   "cell_type": "code",
   "execution_count": 51,
   "metadata": {
    "collapsed": false,
    "jupyter": {
     "outputs_hidden": false
    }
   },
   "outputs": [],
   "source": [
    "def draw_polygon(canvas,low_num_pts,high_num_pts):\n",
    "    #draw a random polygon whose number of sides is between low_num and high_num\n",
    "    \n",
    "    # image height and width determined by parameter \n",
    "    img_height = canvas.shape[0]\n",
    "    img_width = canvas.shape[1]\n",
    "    \n",
    "    # parameters are low and high num, num_pts is a random point between these lower and upper bounds\n",
    "    # high_num + 1 to include it\n",
    "    num_pts = np.random.randint(low = low_num_pts,high = high_num_pts+1) \n",
    "    \n",
    "    # size refers to size and shape of array, num_pts: no. of arrays, 2: no. of el in each array \n",
    "    # no width needed? \n",
    "    # points are represented with 2 values (x,y) in 2d space. pts are a list of all these randomly generated points\n",
    "    pts = np.random.randint(low = (img_height * 0.25), high = (img_height * 0.75),size = [num_pts,2])\n",
    "    \n",
    "    # not rly sure why subtracting 10?\n",
    "    pts = pts - np.array([10,10])\n",
    "    \n",
    "    # cv2.fillpoly(Image,End_Points,Color) \n",
    "    # np.zeros -> blank canvas? array filled with zeroes\n",
    "    # (1,1,1) refers to color \n",
    "    \n",
    "    # image is binary (2 colors)  \n",
    "    binary = cv2.fillConvexPoly(np.zeros(canvas.shape),pts,(1,1,1))\n",
    "    \n",
    "    # \"A blob is a group of connected pixels in an image that shares some common property\"\n",
    "    # \"Image moment is a particular weighted average of image pixel intensities\"\n",
    "    M = cv2.moments(binary)\n",
    "    \n",
    "    \n",
    "    # calculate x,y coordinate of center\n",
    "    # adjusted from usual calc by having x-1/2\n",
    "    # not sure purpose of x-1/2?\n",
    "    cX = int((img_width-1)/2 - M[\"m10\"] / M[\"m00\"] )\n",
    "    cY = int((img_height-1)/2 -M[\"m01\"] / M[\"m00\"] )\n",
    "    center = np.array([cX,cY])\n",
    "\n",
    "    # opposite of prev line (subtract 10), this one adds centre values \n",
    "    pts = pts + center\n",
    "\n",
    "    # draw a filled polygon \n",
    "    # recentered bc pts had center added \n",
    "    recentered = cv2.fillConvexPoly(canvas,pts,(1,1,1))\n",
    "\n",
    "    return recentered"
   ]
  },
  {
   "cell_type": "code",
   "execution_count": 52,
   "metadata": {
    "collapsed": false,
    "jupyter": {
     "outputs_hidden": false
    }
   },
   "outputs": [],
   "source": [
    "def get_rand_vec(num_vecs):\n",
    "    #generates a random vector\n",
    "    \n",
    "    # num_vecs refers to no. of arrays, 2 refers to no. of elements in each array \n",
    "    vec = np.random.rand(num_vecs,2)\n",
    "    \n",
    "    # axis refers to which way you add the vectors \n",
    "    magnitudes = np.sqrt(np.sum(vec**2,axis = 1))\n",
    "    \n",
    "    # reshape is reordering np array \n",
    "    vec = vec / np.reshape(magnitudes,[num_vecs,1])\n",
    "\n",
    "    return vec\n"
   ]
  },
  {
   "cell_type": "code",
   "execution_count": 53,
   "metadata": {
    "collapsed": false,
    "jupyter": {
     "outputs_hidden": false
    }
   },
   "outputs": [],
   "source": [
    "def find_vec_len(img,vecs,center,max_iter):\n",
    "    #extends out one at a time, check if the pixel\n",
    "    #vec must have magnitude 1\n",
    "\n",
    "    to_ret = []\n",
    "    for v_num in range(vecs.shape[0]):\n",
    "        for i in range(max_iter):\n",
    "            \n",
    "            # i refers to number of steps taken in the direction of vector\n",
    "            # as represented by vecs[v_num]\n",
    "            pos_to_check = np.round(center + i * vecs[v_num])\n",
    "            \n",
    "            # check if value of image at the position is < 1\n",
    "            # if there is nothing there, append it to list and return\n",
    "            # this keeps track of no. of \"steps\" taken from center, which\n",
    "            # corresponds to the length of the vector \n",
    "            if img[int(pos_to_check[0]),int(pos_to_check[1])] < 1:\n",
    "                to_ret.append(i-1)\n",
    "                break\n",
    "\n",
    "    return np.array(to_ret)"
   ]
  },
  {
   "cell_type": "code",
   "execution_count": 14,
   "metadata": {
    "collapsed": false,
    "jupyter": {
     "outputs_hidden": false
    }
   },
   "outputs": [],
   "source": [
    "def get_length_encoding(canvass,num_samples,bins):\n",
    "    #get the length encoding of a binary image\n",
    "\n",
    "    num_drawings = canvass.shape[0]\n",
    "    canvas_width = canvass.shape[2]\n",
    "    canvas_height= canvass.shape[1]\n",
    "\n",
    "    center = np.array([(canvas_height-1) / 2, (canvas_width-1) / 2])\n",
    "    lengthss = []\n",
    "\n",
    "    vecs = get_rand_vec(num_samples)\n",
    "\n",
    "    for i in range(num_drawings):\n",
    "        lengths = find_vec_len(canvass[i],vecs,center,int(1.41*(canvas_width-1)/2))\n",
    "        hist,bin_edges = np.histogram(lengths,bins = bins,density=True)\n",
    "        lengthss.append(hist)\n",
    "\n",
    "    lengthss = np.array(lengthss)\n",
    "\n",
    "    return lengthss"
   ]
  },
  {
   "cell_type": "code",
   "execution_count": 15,
   "metadata": {
    "collapsed": false,
    "jupyter": {
     "outputs_hidden": false
    }
   },
   "outputs": [],
   "source": [
    "def imgs_to_adj_mat(imgs):\n",
    "    #convert binary image to adjacency matrix\n",
    "    num_imgs = imgs.shape[0]\n",
    "    to_ret = []\n",
    "    for img_idx in range(num_imgs):\n",
    "        nonzero_x, nonzero_y = np.nonzero(imgs[img_idx])\n",
    "        coords = np.stack([nonzero_x, nonzero_y]).T\n",
    "        adj_mat = neighbors.radius_neighbors_graph(coords, np.sqrt(2))\n",
    "\n",
    "        to_ret.append(adj_mat)\n",
    "\n",
    "    return to_ret"
   ]
  },
  {
   "cell_type": "code",
   "execution_count": 16,
   "metadata": {
    "collapsed": false,
    "jupyter": {
     "outputs_hidden": false
    }
   },
   "outputs": [],
   "source": [
    "def adj_mat_to_lap_mat(adj_mats):\n",
    "    #inputs a list of adjacency matrices, outputs a list of laplacian matrices\n",
    "    num_mats = len(adj_mats)\n",
    "    to_ret = []\n",
    "\n",
    "    for mat_idx in range(num_mats):\n",
    "        adj_mat = adj_mats[mat_idx]\n",
    "        diag_mat = np.diag(np.sum(adj_mat,axis = 0))\n",
    "        lap_mat = diag_mat - adj_mat\n",
    "        #gr = nx.from_scipy_sparse_array(adj_mat)\n",
    "        #lap_mat = nx.laplacian_matrix(gr).toarray()\n",
    "        to_ret.append(lap_mat)\n",
    "    return to_ret"
   ]
  },
  {
   "cell_type": "code",
   "execution_count": 17,
   "metadata": {
    "collapsed": false,
    "jupyter": {
     "outputs_hidden": false
    }
   },
   "outputs": [],
   "source": [
    "def lap_mat_to_eigen(lap_mats):\n",
    "    #compute the eigenvalues and eigenvectors of a list of laplacian matrices\n",
    "    num_mats = len(lap_mats)\n",
    "\n",
    "    evals = []\n",
    "    Us = []\n",
    "\n",
    "    for mat_idx in range(num_mats):\n",
    "        lap_mat = lap_mats[mat_idx]\n",
    "        eval, U = np.linalg.eigh(lap_mat)\n",
    "        evals.append(eval)\n",
    "        Us.append(U)\n",
    "\n",
    "    return evals, Us"
   ]
  },
  {
   "cell_type": "code",
   "execution_count": 18,
   "metadata": {
    "collapsed": false,
    "jupyter": {
     "outputs_hidden": false
    }
   },
   "outputs": [],
   "source": [
    "def heat_kernel_t(t, evals, U):\n",
    "    #find the heat kernel at time t\n",
    "    exp = np.exp(t * evals)\n",
    "    lamb = np.diag(exp)\n",
    "    return U.dot(lamb).dot(U.T)"
   ]
  },
  {
   "cell_type": "code",
   "execution_count": 19,
   "metadata": {
    "collapsed": false,
    "jupyter": {
     "outputs_hidden": false
    }
   },
   "outputs": [],
   "source": [
    "def heat_kernel_signature(ts, eval, U):\n",
    "    #find the heat kernel signature given a bunch of ts\n",
    "    toret = np.empty([ts.shape[0]])\n",
    "    for i in range(ts.shape[0]):\n",
    "        t = ts[i]\n",
    "        kernel = heat_kernel_t(t, eval, U)\n",
    "        diagonal = np.diag(kernel)\n",
    "        toret[i] = np.mean(diagonal)\n",
    "\n",
    "    return toret"
   ]
  },
  {
   "cell_type": "code",
   "execution_count": 20,
   "metadata": {
    "collapsed": false,
    "jupyter": {
     "outputs_hidden": false
    }
   },
   "outputs": [],
   "source": [
    "def batch_heat_kernel_signature(ts,evals,Us):\n",
    "    #find heat kernel signature given a bunch of ts of a bunch of matrices\n",
    "    num_mats = len(evals)\n",
    "    to_ret = np.empty((num_mats,ts.shape[0]))\n",
    "\n",
    "    for mat_idx in range(num_mats):\n",
    "        hks = heat_kernel_signature(ts,evals[mat_idx],Us[mat_idx])\n",
    "        to_ret[mat_idx] = hks\n",
    "\n",
    "    return to_ret"
   ]
  }
 ],
 "metadata": {
  "kernelspec": {
   "display_name": "Python 3 (ipykernel)",
   "language": "python",
   "name": "python3"
  },
  "language_info": {
   "codemirror_mode": {
    "name": "ipython",
    "version": 3
   },
   "file_extension": ".py",
   "mimetype": "text/x-python",
   "name": "python",
   "nbconvert_exporter": "python",
   "pygments_lexer": "ipython3",
   "version": "3.10.9"
  },
  "vscode": {
   "interpreter": {
    "hash": "8b344fd6ca78772786e133aa08a0091734c4d4a1a8b27f2d756fe99409e0fb43"
   }
  }
 },
 "nbformat": 4,
 "nbformat_minor": 4
}
