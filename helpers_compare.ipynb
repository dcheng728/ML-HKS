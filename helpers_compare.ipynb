{
 "cells": [
  {
   "cell_type": "code",
   "execution_count": null,
   "id": "3c7d5a86",
   "metadata": {},
   "outputs": [],
   "source": [
    "import numpy as np\n",
    "import glob\n",
    "from numpy.random import default_rng\n",
    "from matplotlib import pyplot as plt\n",
    "from mpl_toolkits.mplot3d import axes3d\n",
    "from sklearn.decomposition import PCA"
   ]
  },
  {
   "cell_type": "code",
   "execution_count": null,
   "id": "3ae3e31e",
   "metadata": {},
   "outputs": [],
   "source": [
    "def plot_poison(index_in_question, vertices,group_labels, poisoned_vertices):\n",
    "    #Plot first clustered mesh\n",
    "    dataPlot = vertices[index_in_question]\n",
    "\n",
    "    fig = plt.figure()\n",
    "    ax = fig.add_subplot(121,projection='3d')\n",
    "\n",
    "    ax.scatter(dataPlot[:,0], dataPlot[:,1], dataPlot[:,2], label=group_labels[index_in_question,:], c = group_labels[index_in_question,:], cmap = 'viridis',s = 3)\n",
    "    ax.set_title('clean')\n",
    "\n",
    "    plt.axis('off')\n",
    "\n",
    "    #Plot second clustered point coud\n",
    "    #get poison\n",
    "    \n",
    "    poisonedDataPlot = poisoned_vertices[index_in_question]\n",
    "\n",
    "    ax = fig.add_subplot(122,projection='3d')\n",
    "\n",
    "    ax.scatter(poisonedDataPlot[:,0], poisonedDataPlot[:,1], poisonedDataPlot[:,2], label=group_labels[index_in_question,:], c = group_labels[index_in_question,:], cmap = 'viridis', s = 3)\n",
    "    ax.set_title('poisoned')\n",
    "\n",
    "    plt.axis('off')\n",
    "\n",
    "    plt.show()"
   ]
  },
  {
   "cell_type": "code",
   "execution_count": null,
   "id": "59c2e962",
   "metadata": {},
   "outputs": [],
   "source": [
    "def plot_3d_clusters(features,labels_for_plot,indices):\n",
    "    pca = PCA(n_components=3)\n",
    "    newX = pca.fit_transform(features)\n",
    "    print(np.sum(pca.explained_variance_ratio_))\n",
    "    \n",
    "    dataPlot = []\n",
    "    for i in range(len(indices)):\n",
    "        a = newX[np.where(labels_for_plot == indices[i]),:]\n",
    "        a = np.reshape(a,[a.shape[1],a.shape[2]])\n",
    "        categories = np.ones([a.shape[0],1]) * indices[i]\n",
    "        b = np.concatenate((a,categories),axis = 1)\n",
    "        dataPlot.append(b)\n",
    "\n",
    "    dataPlot = np.concatenate(dataPlot,axis = 0)\n",
    "    \n",
    "    print(dataPlot.shape)\n",
    "    \n",
    "    fig = plt.figure()\n",
    "    ax = fig.add_subplot(projection='3d')\n",
    "\n",
    "    ax.scatter(dataPlot[:,0], dataPlot[:,1], dataPlot[:,2], label=dataPlot[:,3], c = dataPlot[:,3], cmap = 'Set1')\n",
    "    #ax.axis('off')\n",
    "    ax.axes.xaxis.set_ticklabels([])\n",
    "    ax.axes.yaxis.set_ticklabels([])\n",
    "    ax.axes.zaxis.set_ticklabels([])\n",
    "    ax.set_xlabel('X')\n",
    "    ax.set_ylabel('Y')\n",
    "    ax.set_zlabel('Z')\n",
    "    ax.set_title('[0,1,2,3,4]')\n",
    "\n",
    "    #plt.legend(loc=\"upper right\")\n",
    "\n",
    "    plt.show()"
   ]
  }
 ],
 "metadata": {
  "kernelspec": {
   "display_name": "Python 3 (ipykernel)",
   "language": "python",
   "name": "python3"
  },
  "language_info": {
   "codemirror_mode": {
    "name": "ipython",
    "version": 3
   },
   "file_extension": ".py",
   "mimetype": "text/x-python",
   "name": "python",
   "nbconvert_exporter": "python",
   "pygments_lexer": "ipython3",
   "version": "3.10.9"
  }
 },
 "nbformat": 4,
 "nbformat_minor": 5
}
