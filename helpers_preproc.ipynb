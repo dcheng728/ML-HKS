{
 "cells": [
  {
   "cell_type": "code",
   "execution_count": null,
   "metadata": {
    "collapsed": true
   },
   "outputs": [],
   "source": [
    "import igl\n",
    "import numpy as np\n",
    "from matplotlib import pyplot as plt"
   ]
  },
  {
   "cell_type": "code",
   "execution_count": null,
   "outputs": [],
   "source": [
    "def readLbl(fileName):\n",
    "    #takes in file name, returns the labels as an array\n",
    "    file1 = open(fileName, 'r')\n",
    "    Lines = file1.readlines()\n",
    "\n",
    "    count = 0\n",
    "\n",
    "    lbls = np.empty([600])\n",
    "    # Strips the newline character\n",
    "    for line in Lines:\n",
    "        count += 1\n",
    "        text = line.strip()[1:].split('.')\n",
    "        text[1] = text[1].split(' ')[1]\n",
    "        lbls[int(text[0])] = int(text[1])\n",
    "        #print(\"Line{}: {}\".format(count, )))\n",
    "    return lbls\n",
    "\n",
    "def lbl_2_lblMat(lbls):\n",
    "    #takes in the labels as an array, returns an adjacency matrix between objects of same label\n",
    "    labelMat = igl.all_pairs_distances(lbls,lbls,False)\n",
    "    labelMat = np.where(labelMat > 0.5, 1, 0)\n",
    "    return labelMat\n",
    "\n",
    "def compareGroups(grpa,grpb,lbl,disSMat):\n",
    "    #takes in two group indices, labels and dissimiliarity matrix, returns how similar they are as two groups\n",
    "    grpA_idx = np.reshape(np.where(lbl == grpa),(20,))\n",
    "    grpB_idx = np.reshape(np.where(lbl == grpb),(20,))\n",
    "    A = disSMat[grpA_idx,:]\n",
    "    B = A[:,grpB_idx]\n",
    "\n",
    "    result = np.mean(B)\n",
    "\n",
    "    if (grpa - grpb < 0.1):\n",
    "        result = result * 20 / 19\n",
    "\n",
    "    return result"
   ],
   "metadata": {
    "collapsed": false
   }
  },
  {
   "cell_type": "code",
   "execution_count": null,
   "outputs": [],
   "source": [
    "def obj_2_adj(fileName):\n",
    "    #takes in file name, reads the .obj file and returns adjacency matrix scaled with edge values\n",
    "    v, f = igl.read_triangle_mesh(fileName)\n",
    "    distances = igl.all_pairs_distances(v,v,False)\n",
    "    adJ = igl.adjacency_matrix(f).toarray() * distances\n",
    "    return adJ\n",
    "\n",
    "def adj_2_features(adj):\n",
    "    #some arbitrary ad-hoc function for extracting features, for testing only\n",
    "\n",
    "    #print([np.mean(adj),np.max(adj),np.std(adj)])\n",
    "    #hist = np.histogram(adj,bins = np.arange(0,0.5,0.02),density=True)\n",
    "    #generic_feat = np.array([np.mean(adj),np.max(adj),np.std(adj)])\n",
    "    hist = np.histogram(adj,bins = 20,density=True)[0]\n",
    "    #print(hist[0])\n",
    "\n",
    "\n",
    "    return hist"
   ],
   "metadata": {
    "collapsed": false
   }
  }
 ],
 "metadata": {
  "kernelspec": {
   "display_name": "Python 3",
   "language": "python",
   "name": "python3"
  },
  "language_info": {
   "codemirror_mode": {
    "name": "ipython",
    "version": 2
   },
   "file_extension": ".py",
   "mimetype": "text/x-python",
   "name": "python",
   "nbconvert_exporter": "python",
   "pygments_lexer": "ipython2",
   "version": "2.7.6"
  }
 },
 "nbformat": 4,
 "nbformat_minor": 0
}
