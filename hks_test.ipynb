{
 "cells": [
  {
   "cell_type": "code",
   "execution_count": 1,
   "metadata": {
    "collapsed": true
   },
   "outputs": [],
   "source": [
    "import numpy as np\n",
    "from meshplot import plot, subplot, interact\n",
    "from scipy.stats import norm\n",
    "import open3d as o3d\n",
    "%run helpers_alg.ipynb\n",
    "%run helpers_preproc.ipynb"
   ]
  },
  {
   "cell_type": "code",
   "execution_count": 2,
   "outputs": [],
   "source": [
    "mesh_dir = 'SHREC11/'\n",
    "#ts = np.array([0.05,0.1,0.15,0.2,0.25,0.3,0.35,0.4])\n",
    "ts = np.random.random(100) * 0.01"
   ],
   "metadata": {
    "collapsed": false
   }
  },
  {
   "cell_type": "code",
   "execution_count": 3,
   "outputs": [],
   "source": [
    "adjMats = []\n",
    "\n",
    "for i in range(600):\n",
    "    fName = 'T' + str(i) + '.obj'\n",
    "    adj = obj_2_adj(mesh_dir + fName)\n",
    "    adjMats.append(adj)"
   ],
   "metadata": {
    "collapsed": false
   }
  },
  {
   "cell_type": "code",
   "execution_count": 4,
   "outputs": [],
   "source": [
    "lapMats = adj_mat_to_lap_mat(adjMats)"
   ],
   "metadata": {
    "collapsed": false
   }
  },
  {
   "cell_type": "code",
   "execution_count": null,
   "outputs": [],
   "source": [
    "evals,Us = lap_mat_to_eigen(lapMats)\n",
    "hkss = batch_heat_kernel_signature(ts, evals, Us)"
   ],
   "metadata": {
    "collapsed": false,
    "pycharm": {
     "is_executing": true
    }
   }
  },
  {
   "cell_type": "code",
   "execution_count": null,
   "outputs": [],
   "source": [
    "disSimMat = igl.all_pairs_distances(hkss,hkss,True)"
   ],
   "metadata": {
    "collapsed": false,
    "pycharm": {
     "is_executing": true
    }
   }
  },
  {
   "cell_type": "code",
   "execution_count": null,
   "outputs": [],
   "source": [
    "disSimMat = disSimMat / np.max(disSimMat)"
   ],
   "metadata": {
    "collapsed": false,
    "pycharm": {
     "is_executing": true
    }
   }
  },
  {
   "cell_type": "code",
   "execution_count": null,
   "outputs": [],
   "source": [
    "label = readLbl(mesh_dir+'labels.txt')\n",
    "compResult = compareGroups(0,1,label,disSimMat)\n",
    "np.mean(compResult)"
   ],
   "metadata": {
    "collapsed": false,
    "pycharm": {
     "is_executing": true
    }
   }
  },
  {
   "cell_type": "code",
   "execution_count": null,
   "outputs": [],
   "source": [
    "disSimMat2 = disSimMat + np.diag(np.ones(600))\n",
    "print(divmod(np.argmin(disSimMat2),600))\n",
    "print(np.min(disSimMat2))\n",
    "print(label[59])\n",
    "print(label[191])"
   ],
   "metadata": {
    "collapsed": false,
    "pycharm": {
     "is_executing": true
    }
   }
  },
  {
   "cell_type": "code",
   "execution_count": null,
   "outputs": [],
   "source": [
    "mat = np.empty([30,30])\n",
    "compSelf = []\n",
    "compOthers = []\n",
    "for i in range(30):\n",
    "    for j in range(0,i+1):\n",
    "        compResult = compareGroups(i,j,label,disSimMat)\n",
    "        mat[i,j] = compResult\n",
    "        mat[j,i] = compResult\n",
    "        if (i == j):\n",
    "            compSelf.append(compResult)\n",
    "        else:\n",
    "            compOthers.append(compResult)"
   ],
   "metadata": {
    "collapsed": false,
    "pycharm": {
     "is_executing": true
    }
   }
  },
  {
   "cell_type": "code",
   "execution_count": null,
   "outputs": [],
   "source": [
    "print(np.min(compSelf))\n",
    "print(compOthers.index(np.min(compOthers)))"
   ],
   "metadata": {
    "collapsed": false,
    "pycharm": {
     "is_executing": true
    }
   }
  },
  {
   "cell_type": "code",
   "execution_count": null,
   "outputs": [],
   "source": [
    "plt.matshow(mat)\n",
    "self_mean = np.mean(compSelf)\n",
    "self_std = np.std(compSelf)\n",
    "others_mean = np.mean(compOthers)\n",
    "others_std = np.std(compOthers)"
   ],
   "metadata": {
    "collapsed": false,
    "pycharm": {
     "is_executing": true
    }
   }
  },
  {
   "cell_type": "code",
   "execution_count": null,
   "outputs": [],
   "source": [
    "# Plot between -10 and 10 with .001 steps.\n",
    "x_axis = np.arange(-0.4, 0.4, 0.001)\n",
    "\n",
    "#plt.hist(compSelf)\n",
    "\n",
    "\n",
    "plt.plot(x_axis, norm.pdf(x_axis, self_mean, self_std))\n",
    "plt.plot(x_axis, norm.pdf(x_axis, others_mean, others_std))\n",
    "plt.show()"
   ],
   "metadata": {
    "collapsed": false,
    "pycharm": {
     "is_executing": true
    }
   }
  },
  {
   "cell_type": "code",
   "execution_count": null,
   "outputs": [],
   "source": [
    "plt.hist(compOthers)"
   ],
   "metadata": {
    "collapsed": false,
    "pycharm": {
     "is_executing": true
    }
   }
  },
  {
   "cell_type": "code",
   "execution_count": null,
   "outputs": [],
   "source": [
    "print(self_mean,self_std)\n",
    "print(others_mean,others_std)"
   ],
   "metadata": {
    "collapsed": false,
    "pycharm": {
     "is_executing": true
    }
   }
  },
  {
   "cell_type": "code",
   "execution_count": null,
   "outputs": [],
   "source": [
    "\n",
    "mesh = o3d.io.read_triangle_mesh(mesh_dir + \"T0.obj\")\n"
   ],
   "metadata": {
    "collapsed": false,
    "pycharm": {
     "is_executing": true
    }
   }
  },
  {
   "cell_type": "code",
   "execution_count": null,
   "outputs": [],
   "source": [
    "mesh"
   ],
   "metadata": {
    "collapsed": false,
    "pycharm": {
     "is_executing": true
    }
   }
  },
  {
   "cell_type": "markdown",
   "source": [],
   "metadata": {
    "collapsed": false
   }
  },
  {
   "cell_type": "code",
   "execution_count": null,
   "outputs": [],
   "source": [
    "sim_mesh = o3d.geometry.TriangleMesh.simplify_quadric_decimation(mesh, 250)"
   ],
   "metadata": {
    "collapsed": false,
    "pycharm": {
     "is_executing": true
    }
   }
  },
  {
   "cell_type": "code",
   "execution_count": null,
   "outputs": [],
   "source": [
    "sim_mesh\n",
    "#sim_mesh = mesh"
   ],
   "metadata": {
    "collapsed": false,
    "pycharm": {
     "is_executing": true
    }
   }
  },
  {
   "cell_type": "code",
   "execution_count": null,
   "outputs": [],
   "source": [
    "sim_mesh.compute_vertex_normals()\n",
    "o3d.visualization.draw_geometries([sim_mesh])\n"
   ],
   "metadata": {
    "collapsed": false,
    "pycharm": {
     "is_executing": true
    }
   }
  },
  {
   "cell_type": "code",
   "execution_count": 22,
   "outputs": [],
   "source": [],
   "metadata": {
    "collapsed": false
   }
  }
 ],
 "metadata": {
  "kernelspec": {
   "display_name": "Python 3",
   "language": "python",
   "name": "python3"
  },
  "language_info": {
   "codemirror_mode": {
    "name": "ipython",
    "version": 2
   },
   "file_extension": ".py",
   "mimetype": "text/x-python",
   "name": "python",
   "nbconvert_exporter": "python",
   "pygments_lexer": "ipython2",
   "version": "2.7.6"
  }
 },
 "nbformat": 4,
 "nbformat_minor": 0
}
