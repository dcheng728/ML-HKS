{
 "cells": [
  {
   "cell_type": "code",
   "execution_count": 97,
   "id": "fd66db68",
   "metadata": {},
   "outputs": [],
   "source": [
    "import scipy\n",
    "import numpy as np\n",
    "import igl\n",
    "\n",
    "%run helpers_preproc.ipynb"
   ]
  },
  {
   "cell_type": "code",
   "execution_count": 116,
   "id": "4e56baa9",
   "metadata": {},
   "outputs": [],
   "source": [
    "def get_nodes(fileName):\n",
    "    # returns a vertex narray\n",
    "    v, f = igl.read_triangle_mesh(fileName)\n",
    "    \n",
    "    # resize the v so that all v's have [252 x 252]\n",
    "    if v.shape[0] < 252:\n",
    "        new_v = np.zeros([252, v.shape[1]])\n",
    "        new_v[:v.shape[0],:] = v\n",
    "        v = new_v\n",
    "    \n",
    "    return v, f\n",
    "\n",
    "\n",
    "def K_mean_cluster(v, K):\n",
    "    centroids, labels = scipy.cluster.vq.kmeans2(v, K, minit = \"points\")\n",
    "    \n",
    "    label_matrix = np.zeros((v.shape[0], K))\n",
    "    \n",
    "    for i in range(v.shape[0]):\n",
    "        label_matrix[i,labels[i]] = 1\n",
    "    \n",
    "    return label_matrix\n"
   ]
  },
  {
   "cell_type": "code",
   "execution_count": null,
   "id": "be2ca29f",
   "metadata": {},
   "outputs": [],
   "source": []
  }
 ],
 "metadata": {
  "kernelspec": {
   "display_name": "Python 3 (ipykernel)",
   "language": "python",
   "name": "python3"
  },
  "language_info": {
   "codemirror_mode": {
    "name": "ipython",
    "version": 3
   },
   "file_extension": ".py",
   "mimetype": "text/x-python",
   "name": "python",
   "nbconvert_exporter": "python",
   "pygments_lexer": "ipython3",
   "version": "3.10.9"
  }
 },
 "nbformat": 4,
 "nbformat_minor": 5
}
