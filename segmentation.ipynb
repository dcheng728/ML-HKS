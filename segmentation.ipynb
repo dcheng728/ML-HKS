{
 "cells": [
  {
   "cell_type": "code",
   "execution_count": 2,
   "id": "fd66db68",
   "metadata": {},
   "outputs": [],
   "source": [
    "import scipy\n",
    "import numpy as np\n",
    "import igl\n",
    "\n",
    "%run helpers_preproc.ipynb"
   ]
  },
  {
   "cell_type": "code",
   "execution_count": 44,
   "id": "4e56baa9",
   "metadata": {},
   "outputs": [],
   "source": [
    "def get_nodes(fileName):\n",
    "    # returns a vertex narray\n",
    "    v, f = igl.read_triangle_mesh(fileName)\n",
    "    return v, f\n",
    "\n",
    "\n",
    "def K_mean_cluster(v,K):\n",
    "    centroids, labels = scipy.cluster.vq.kmeans2(v, K, minit = \"points\")\n",
    "    label_matrix = np.zeros((v.shape[0], K))\n",
    "\n",
    "    for i in range(v.shape[0]):\n",
    "        label_matrix[i][labels[i]] = 1\n",
    "    \n",
    "    return label_matrix\n"
   ]
  },
  {
   "cell_type": "code",
   "execution_count": null,
   "id": "828a3736",
   "metadata": {},
   "outputs": [],
   "source": []
  }
 ],
 "metadata": {
  "kernelspec": {
   "display_name": "Python 3 (ipykernel)",
   "language": "python",
   "name": "python3"
  },
  "language_info": {
   "codemirror_mode": {
    "name": "ipython",
    "version": 3
   },
   "file_extension": ".py",
   "mimetype": "text/x-python",
   "name": "python",
   "nbconvert_exporter": "python",
   "pygments_lexer": "ipython3",
   "version": "3.10.9"
  }
 },
 "nbformat": 4,
 "nbformat_minor": 5
}
