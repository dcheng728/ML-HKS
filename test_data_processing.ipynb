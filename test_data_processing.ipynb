{
 "cells": [
  {
   "cell_type": "code",
   "execution_count": 10,
   "metadata": {
    "collapsed": true
   },
   "outputs": [],
   "source": [
    "import igl\n",
    "import numpy as np\n",
    "import scipy\n",
    "from meshplot import plot, subplot, interact\n",
    "\n",
    "mesh_dir = 'SHREC11/'"
   ]
  },
  {
   "cell_type": "code",
   "execution_count": 25,
   "outputs": [],
   "source": [
    "def obj_2_adj(fileName):\n",
    "    v, f = igl.read_triangle_mesh(mesh_dir + fileName)\n",
    "    distances = igl.all_pairs_distances(v,v,False)\n",
    "    adJ = igl.adjacency_matrix(f).toarray() * distances\n",
    "    return adJ\n",
    "\n",
    "def adj_2_features(adj):\n",
    "    return np.array([np.mean(adj),np.max(adj),np.std(adj)])\n"
   ],
   "metadata": {
    "collapsed": false
   }
  },
  {
   "cell_type": "code",
   "execution_count": 27,
   "outputs": [],
   "source": [
    "fs = []\n",
    "\n",
    "for i in range(600):\n",
    "    fName = 'T' + str(i) + '.obj'\n",
    "    adj = obj_2_adj(fName)\n",
    "    f = adj_2_features(adj)\n",
    "    fs.append(f)\n",
    "\n",
    "fs = np.array(fs)"
   ],
   "metadata": {
    "collapsed": false
   }
  },
  {
   "cell_type": "code",
   "execution_count": 29,
   "outputs": [],
   "source": [
    "disSimMat = igl.all_pairs_distances(fs,fs,False)"
   ],
   "metadata": {
    "collapsed": false
   }
  },
  {
   "cell_type": "code",
   "execution_count": 30,
   "outputs": [
    {
     "data": {
      "text/plain": "array([[0.        , 0.09091878, 0.05900448, ..., 0.06270076, 0.08148929,\n        0.07181381],\n       [0.09091878, 0.        , 0.03191459, ..., 0.0282865 , 0.0095012 ,\n        0.01922169],\n       [0.05900448, 0.03191459, 0.        , ..., 0.00397916, 0.02249945,\n        0.01290707],\n       ...,\n       [0.06270076, 0.0282865 , 0.00397916, ..., 0.        , 0.01880982,\n        0.00911319],\n       [0.08148929, 0.0095012 , 0.02249945, ..., 0.01880982, 0.        ,\n        0.00972384],\n       [0.07181381, 0.01922169, 0.01290707, ..., 0.00911319, 0.00972384,\n        0.        ]])"
     },
     "execution_count": 30,
     "metadata": {},
     "output_type": "execute_result"
    }
   ],
   "source": [
    "disSimMat"
   ],
   "metadata": {
    "collapsed": false
   }
  },
  {
   "cell_type": "code",
   "execution_count": 30,
   "outputs": [],
   "source": [],
   "metadata": {
    "collapsed": false,
    "pycharm": {
     "name": "#%%\n"
    }
   }
  },
  {
   "cell_type": "code",
   "execution_count": null,
   "outputs": [],
   "source": [],
   "metadata": {
    "collapsed": false,
    "pycharm": {
     "name": "#%%\n"
    }
   }
  }
 ],
 "metadata": {
  "kernelspec": {
   "display_name": "Python 3",
   "language": "python",
   "name": "python3"
  },
  "language_info": {
   "codemirror_mode": {
    "name": "ipython",
    "version": 2
   },
   "file_extension": ".py",
   "mimetype": "text/x-python",
   "name": "python",
   "nbconvert_exporter": "python",
   "pygments_lexer": "ipython2",
   "version": "2.7.6"
  }
 },
 "nbformat": 4,
 "nbformat_minor": 0
}
