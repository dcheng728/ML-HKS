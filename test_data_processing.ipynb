{
 "cells": [
  {
   "cell_type": "code",
   "execution_count": 10,
   "metadata": {
    "collapsed": true
   },
   "outputs": [],
   "source": [
    "import igl\n",
    "import numpy as np\n",
    "import scipy\n",
    "from meshplot import plot, subplot, interact\n",
    "\n",
    "mesh_dir = 'SHREC11/'"
   ]
  },
  {
   "cell_type": "code",
   "execution_count": 11,
   "outputs": [],
   "source": [
    "v, f = igl.read_triangle_mesh(mesh_dir + 'T0.obj')"
   ],
   "metadata": {
    "collapsed": false,
    "pycharm": {
     "name": "#%%\n"
    }
   }
  },
  {
   "cell_type": "code",
   "execution_count": 12,
   "outputs": [
    {
     "data": {
      "text/plain": "array([[212, 221, 230],\n       [231, 226, 230],\n       [213, 227, 225],\n       ...,\n       [116,  95, 130],\n       [116, 130, 133],\n       [112, 131, 125]], dtype=int64)"
     },
     "execution_count": 12,
     "metadata": {},
     "output_type": "execute_result"
    }
   ],
   "source": [
    "f"
   ],
   "metadata": {
    "collapsed": false,
    "pycharm": {
     "name": "#%%\n"
    }
   }
  },
  {
   "cell_type": "code",
   "execution_count": 37,
   "outputs": [],
   "source": [
    "distances = igl.all_pairs_distances(v,v,False)\n",
    "adJ = igl.adjacency_matrix(f).toarray() * distances\n",
    "diagonal = np.diag(np.sum(adJ,axis = 0))\n",
    "lap = adJ - diagonal"
   ],
   "metadata": {
    "collapsed": false,
    "pycharm": {
     "name": "#%%\n"
    }
   }
  },
  {
   "cell_type": "code",
   "execution_count": 42,
   "outputs": [
    {
     "data": {
      "text/plain": "array([[-0.35945103,  0.07058634,  0.08883672, ...,  0.        ,\n         0.        ,  0.        ],\n       [ 0.07058634, -0.46545782,  0.        , ...,  0.        ,\n         0.        ,  0.        ],\n       [ 0.08883672,  0.        , -0.43950675, ...,  0.        ,\n         0.        ,  0.        ],\n       ...,\n       [ 0.        ,  0.        ,  0.        , ..., -0.54285612,\n         0.07237107,  0.        ],\n       [ 0.        ,  0.        ,  0.        , ...,  0.07237107,\n        -0.49586661,  0.13515637],\n       [ 0.        ,  0.        ,  0.        , ...,  0.        ,\n         0.13515637, -0.5232537 ]])"
     },
     "execution_count": 42,
     "metadata": {},
     "output_type": "execute_result"
    }
   ],
   "source": [
    "lap"
   ],
   "metadata": {
    "collapsed": false,
    "pycharm": {
     "name": "#%%\n"
    }
   }
  },
  {
   "cell_type": "code",
   "execution_count": 30,
   "outputs": [],
   "source": [],
   "metadata": {
    "collapsed": false,
    "pycharm": {
     "name": "#%%\n"
    }
   }
  },
  {
   "cell_type": "code",
   "execution_count": null,
   "outputs": [],
   "source": [],
   "metadata": {
    "collapsed": false,
    "pycharm": {
     "name": "#%%\n"
    }
   }
  }
 ],
 "metadata": {
  "kernelspec": {
   "display_name": "Python 3",
   "language": "python",
   "name": "python3"
  },
  "language_info": {
   "codemirror_mode": {
    "name": "ipython",
    "version": 2
   },
   "file_extension": ".py",
   "mimetype": "text/x-python",
   "name": "python",
   "nbconvert_exporter": "python",
   "pygments_lexer": "ipython2",
   "version": "2.7.6"
  }
 },
 "nbformat": 4,
 "nbformat_minor": 0
}