{
 "cells": [
  {
   "cell_type": "code",
   "execution_count": 206,
   "metadata": {
    "collapsed": true
   },
   "outputs": [],
   "source": [
    "import igl\n",
    "import numpy as np\n",
    "from matplotlib import pyplot as plt\n",
    "import scipy\n",
    "from meshplot import plot, subplot, interact\n",
    "\n",
    "mesh_dir = 'SHREC11/'"
   ]
  },
  {
   "cell_type": "code",
   "execution_count": 207,
   "outputs": [],
   "source": [
    "def readLbl(fileName):\n",
    "    file1 = open(fileName, 'r')\n",
    "    Lines = file1.readlines()\n",
    "\n",
    "    count = 0\n",
    "\n",
    "    lbls = np.empty([600])\n",
    "    # Strips the newline character\n",
    "    for line in Lines:\n",
    "        count += 1\n",
    "        text = line.strip()[1:].split('.')\n",
    "        text[1] = text[1].split(' ')[1]\n",
    "        lbls[int(text[0])] = int(text[1])\n",
    "        #print(\"Line{}: {}\".format(count, )))\n",
    "    return lbls\n",
    "\n",
    "def lbl_2_lblMat(lbls):\n",
    "    labelMat = igl.all_pairs_distances(lbls,lbls,False)\n",
    "    labelMat = np.where(labelMat > 0.5, 1, 0)\n",
    "    return labelMat\n",
    "\n",
    "def compareGroups(grpa,grpb,lbl,disSMat):\n",
    "    grpA_idx = np.reshape(np.where(lbl == grpa),(20,))\n",
    "    grpB_idx = np.reshape(np.where(lbl == grpb),(20,))\n",
    "    A = disSMat[grpA_idx,:]\n",
    "    B = A[:,grpB_idx]\n",
    "\n",
    "    result = np.mean(B)\n",
    "\n",
    "    if (grpa - grpb < 0.1):\n",
    "        result = result * 20 / 19\n",
    "\n",
    "    return result"
   ],
   "metadata": {
    "collapsed": false
   }
  },
  {
   "cell_type": "code",
   "execution_count": 208,
   "outputs": [],
   "source": [
    "def obj_2_adj(fileName):\n",
    "    v, f = igl.read_triangle_mesh(mesh_dir + fileName)\n",
    "    distances = igl.all_pairs_distances(v,v,False)\n",
    "    adJ = igl.adjacency_matrix(f).toarray() * distances\n",
    "    return adJ\n",
    "\n",
    "def adj_2_features(adj):\n",
    "    #print([np.mean(adj),np.max(adj),np.std(adj)])\n",
    "    #hist = np.histogram(adj,bins = np.arange(0,0.5,0.02),density=True)\n",
    "    #generic_feat = np.array([np.mean(adj),np.max(adj),np.std(adj)])\n",
    "    hist = np.histogram(adj,bins = 20,density=True)[0]\n",
    "    #print(hist[0])\n",
    "\n",
    "\n",
    "    return hist\n"
   ],
   "metadata": {
    "collapsed": false
   }
  },
  {
   "cell_type": "code",
   "execution_count": 209,
   "outputs": [],
   "source": [
    "fs = []\n",
    "\n",
    "for i in range(600):\n",
    "    fName = 'T' + str(i) + '.obj'\n",
    "    adj = obj_2_adj(fName)\n",
    "    f = adj_2_features(adj)\n",
    "    fs.append(f)\n",
    "\n",
    "fs = np.array(fs)"
   ],
   "metadata": {
    "collapsed": false
   }
  },
  {
   "cell_type": "code",
   "execution_count": 210,
   "outputs": [],
   "source": [
    "disSimMat = igl.all_pairs_distances(fs,fs,False)"
   ],
   "metadata": {
    "collapsed": false
   }
  },
  {
   "cell_type": "code",
   "execution_count": 211,
   "outputs": [
    {
     "data": {
      "text/plain": "array([[0.        , 0.13710129, 0.10024121, ..., 0.10485369, 0.12703305,\n        0.11596238],\n       [0.13710129, 0.        , 0.03686427, ..., 0.03225812, 0.01008918,\n        0.02114981],\n       [0.10024121, 0.03686427, 0.        , ..., 0.00465308, 0.02679708,\n        0.01573342],\n       ...,\n       [0.10485369, 0.03225812, 0.00465308, ..., 0.        , 0.02218379,\n        0.01113543],\n       [0.12703305, 0.01008918, 0.02679708, ..., 0.02218379, 0.        ,\n        0.01108385],\n       [0.11596238, 0.02114981, 0.01573342, ..., 0.01113543, 0.01108385,\n        0.        ]])"
     },
     "execution_count": 211,
     "metadata": {},
     "output_type": "execute_result"
    }
   ],
   "source": [
    "disSimMat = disSimMat / np.max(disSimMat)\n",
    "disSimMat"
   ],
   "metadata": {
    "collapsed": false
   }
  },
  {
   "cell_type": "code",
   "execution_count": 212,
   "outputs": [
    {
     "data": {
      "text/plain": "0.2196311108331248"
     },
     "execution_count": 212,
     "metadata": {},
     "output_type": "execute_result"
    }
   ],
   "source": [
    "label = readLbl(mesh_dir+'labels.txt')\n",
    "compResult = compareGroups(0,1,label,disSimMat)\n",
    "np.mean(compResult)"
   ],
   "metadata": {
    "collapsed": false
   }
  },
  {
   "cell_type": "code",
   "execution_count": 213,
   "outputs": [],
   "source": [
    "mat = np.empty([30,30])\n",
    "compSelf = []\n",
    "compOthers = []\n",
    "for i in range(30):\n",
    "    for j in range(0,i+1):\n",
    "        compResult = compareGroups(i,j,label,disSimMat)\n",
    "        mat[i,j] = compResult\n",
    "        mat[j,i] = compResult\n",
    "        if (i == j):\n",
    "            compSelf.append(compResult)\n",
    "        else:\n",
    "            compOthers.append(compResult)\n",
    "\n"
   ],
   "metadata": {
    "collapsed": false
   }
  },
  {
   "cell_type": "code",
   "execution_count": 205,
   "outputs": [
    {
     "name": "stdout",
     "output_type": "stream",
     "text": [
      "0.06147982021532571 0.04795081739350609\n",
      "0.09892546954803162 0.060643840381315726\n"
     ]
    },
    {
     "data": {
      "text/plain": "<Figure size 480x480 with 1 Axes>",
      "image/png": "[encoded data removed]"
     },
     "metadata": {},
     "output_type": "display_data"
    }
   ],
   "source": [
    "plt.matshow(mat)\n",
    "print(np.mean(compSelf),np.std(compSelf))\n",
    "print(np.mean(compOthers),np.std(compOthers))"
   ],
   "metadata": {
    "collapsed": false
   }
  },
  {
   "cell_type": "code",
   "execution_count": null,
   "outputs": [],
   "source": [],
   "metadata": {
    "collapsed": false
   }
  }
 ],
 "metadata": {
  "kernelspec": {
   "display_name": "Python 3",
   "language": "python",
   "name": "python3"
  },
  "language_info": {
   "codemirror_mode": {
    "name": "ipython",
    "version": 2
   },
   "file_extension": ".py",
   "mimetype": "text/x-python",
   "name": "python",
   "nbconvert_exporter": "python",
   "pygments_lexer": "ipython2",
   "version": "2.7.6"
  }
 },
 "nbformat": 4,
 "nbformat_minor": 0
}
